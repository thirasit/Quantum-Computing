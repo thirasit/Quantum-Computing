{
 "cells": [
  {
   "cell_type": "markdown",
   "id": "0eee02e4-48e0-4cad-8e9c-d398d6ea850c",
   "metadata": {},
   "source": [
    "# **QFT Frequency to state**"
   ]
  },
  {
   "cell_type": "code",
   "execution_count": 1,
   "id": "794df1c2-1f5b-4235-8312-0924852bb28f",
   "metadata": {},
   "outputs": [
    {
     "name": "stderr",
     "output_type": "stream",
     "text": [
      "<frozen importlib._bootstrap>:219: RuntimeWarning: scipy._lib.messagestream.MessageStream size changed, may indicate binary incompatibility. Expected 56 from C header, got 64 from PyObject\n"
     ]
    }
   ],
   "source": [
    "import numpy as np\n",
    "\n",
    "# Importing standard Qiskit libraries\n",
    "from qiskit import QuantumCircuit, transpile, Aer, IBMQ, QuantumRegister, ClassicalRegister, execute, BasicAer\n",
    "from qiskit.tools.jupyter import *\n",
    "from qiskit.visualization import *\n",
    "from ibm_quantum_widgets import *\n",
    "from qiskit.providers.aer import QasmSimulator\n",
    "\n",
    "# Loading your IBM Quantum account(s)\n",
    "provider = IBMQ.load_account()"
   ]
  },
  {
   "cell_type": "code",
   "execution_count": 2,
   "id": "18b6dc24-467c-447e-85e1-5eac93cd1f16",
   "metadata": {},
   "outputs": [],
   "source": [
    "import math\n",
    "%matplotlib inline"
   ]
  },
  {
   "cell_type": "code",
   "execution_count": 3,
   "id": "811d4365-be32-48cc-800c-3abec6dc5472",
   "metadata": {},
   "outputs": [],
   "source": [
    "# Set up the program\n",
    "signal = QuantumRegister(4, name='signal')\n",
    "qc = QuantumCircuit(signal)"
   ]
  },
  {
   "cell_type": "code",
   "execution_count": 4,
   "id": "52be7013-73b6-4a55-b6b6-bbd0c2a0c416",
   "metadata": {},
   "outputs": [],
   "source": [
    "def main():\n",
    "    ## prepare the signal\n",
    "    qc.x(signal[0])\n",
    "    qc.x(signal[1])\n",
    "\n",
    "    qc.barrier()\n",
    "    invQFT(signal)"
   ]
  },
  {
   "cell_type": "code",
   "execution_count": 5,
   "id": "c6f6b753-0cae-46b1-ac2a-cb847e85d615",
   "metadata": {},
   "outputs": [
    {
     "name": "stderr",
     "output_type": "stream",
     "text": [
      "/tmp/ipykernel_153/124917811.py:13: DeprecationWarning: The QuantumCircuit.cu1 method is deprecated as of 0.16.0. It will be removed no earlier than 3 months after the release date. You should use the QuantumCircuit.cp method instead, which acts identically.\n",
      "  qc.cu1(-math.pi/float(2**(j-k)), qreg[j], qreg[k])\n"
     ]
    }
   ],
   "source": [
    "def invQFT(qreg):\n",
    "    ## This QFT implementation is adapted from IBM's sample:\n",
    "    ##   https://github.com/Qiskit/qiskit-terra/blob/master/examples/python/qft.py\n",
    "    ## ...with a few adjustments to match the book QFT implementation exactly\n",
    "    n = len(qreg)\n",
    "    # Start the inverse QFT by reversing the order of the qubits\n",
    "    for j in range(n//2):\n",
    "        qc.swap(qreg[j], qreg[n-j-1])\n",
    "\n",
    "    n = len(qreg)\n",
    "    for j in range(n):\n",
    "        for k in range(j):\n",
    "            qc.cu1(-math.pi/float(2**(j-k)), qreg[j], qreg[k])\n",
    "        qc.h(qreg[j])\n",
    "\n",
    "main()"
   ]
  },
  {
   "cell_type": "code",
   "execution_count": 6,
   "id": "b80c972b-55e7-45bc-b1e7-5be7f2f1f55f",
   "metadata": {},
   "outputs": [],
   "source": [
    "backend = BasicAer.get_backend('statevector_simulator')\n",
    "job = execute(qc, backend)\n",
    "result = job.result()"
   ]
  },
  {
   "cell_type": "code",
   "execution_count": 7,
   "id": "fa0a1a20-31f4-4e0e-afb3-67ee927c74b7",
   "metadata": {},
   "outputs": [
    {
     "name": "stdout",
     "output_type": "stream",
     "text": [
      "|0> (0.25-0j) probability = 6.25%\n",
      "|1> (0.096-0.231j) probability = 6.2577%\n",
      "|2> (-0.177-0.177j) probability = 6.2658%\n",
      "|3> (-0.231+0.096j) probability = 6.2577%\n",
      "|4> 0.25j probability = 6.25%\n",
      "|5> (0.231+0.096j) probability = 6.2577%\n",
      "|6> (0.177-0.177j) probability = 6.2658%\n",
      "|7> (-0.096-0.231j) probability = 6.2577%\n",
      "|8> (-0.25+0j) probability = 6.25%\n",
      "|9> (-0.096+0.231j) probability = 6.2577%\n",
      "|10> (0.177+0.177j) probability = 6.2658%\n",
      "|11> (0.231-0.096j) probability = 6.2577%\n",
      "|12> (-0-0.25j) probability = 6.25%\n",
      "|13> (-0.231-0.096j) probability = 6.2577%\n",
      "|14> (-0.177+0.177j) probability = 6.2658%\n",
      "|15> (0.096+0.231j) probability = 6.2577%\n"
     ]
    },
    {
     "data": {
      "image/png": "[encoded data removed]",
      "text/plain": [
       "<Figure size 1279x264.88 with 1 Axes>"
      ]
     },
     "execution_count": 7,
     "metadata": {},
     "output_type": "execute_result"
    }
   ],
   "source": [
    "outputstate = result.get_statevector(qc, decimals=3)\n",
    "for i,amp in enumerate(outputstate):\n",
    "    if abs(amp) > 0.000001:\n",
    "        prob = abs(amp) * abs(amp)\n",
    "        print('|{}> {} probability = {}%'.format(i, amp, round(prob * 100, 5)))\n",
    "qc.draw()        # draw the circuit"
   ]
  }
 ],
 "metadata": {
  "kernelspec": {
   "display_name": "Qiskit v0.34.2 (ipykernel)",
   "language": "python",
   "name": "python3"
  },
  "language_info": {
   "codemirror_mode": {
    "name": "ipython",
    "version": 3
   },
   "file_extension": ".py",
   "mimetype": "text/x-python",
   "name": "python",
   "nbconvert_exporter": "python",
   "pygments_lexer": "ipython3",
   "version": "3.8.12"
  },
  "widgets": {
   "application/vnd.jupyter.widget-state+json": {
    "state": {
     "003286e0cf2f49fd9538069ec7a72b12": {
      "model_module": "@jupyter-widgets/controls",
      "model_module_version": "1.5.0",
      "model_name": "HTMLModel",
      "state": {
       "layout": "IPY_MODEL_14f3c9de6aac45e0803dac2f3d91f417",
       "style": "IPY_MODEL_dbe60ac095244f3091405bad449d3598",
       "value": "<p style='font-family: IBM Plex Sans, Arial, Helvetica, sans-serif; font-size: 20px; font-weight: medium;'>Circuit Properties</p>"
      }
     },
     "09a1ec2f48bb4ade98c64ae6b33d0b91": {
      "model_module": "@jupyter-widgets/base",
      "model_module_version": "1.2.0",
      "model_name": "LayoutModel",
      "state": {}
     },
     "1483744f5417432e989398a2bd6a5753": {
      "model_module": "@jupyter-widgets/controls",
      "model_module_version": "1.5.0",
      "model_name": "HTMLModel",
      "state": {
       "layout": "IPY_MODEL_d6163b00e27e40d2ba4d3b3a1d092945",
       "style": "IPY_MODEL_33f7c46e3c17487fba631dc397d2eeef",
       "value": "<h5>Queue</h5>"
      }
     },
     "14f3c9de6aac45e0803dac2f3d91f417": {
      "model_module": "@jupyter-widgets/base",
      "model_module_version": "1.2.0",
      "model_name": "LayoutModel",
      "state": {
       "margin": "0px 0px 10px 0px"
      }
     },
     "1abfe179361b455baf755b8956d60ce8": {
      "model_module": "@jupyter-widgets/controls",
      "model_module_version": "1.5.0",
      "model_name": "HTMLModel",
      "state": {
       "layout": "IPY_MODEL_d3879d4d10634ccd9fb1094049ce600b",
       "style": "IPY_MODEL_1ae845662b1b48eaa00178d1727987b5",
       "value": "<h5>Backend</h5>"
      }
     },
     "1ae845662b1b48eaa00178d1727987b5": {
      "model_module": "@jupyter-widgets/controls",
      "model_module_version": "1.5.0",
      "model_name": "DescriptionStyleModel",
      "state": {
       "description_width": ""
      }
     },
     "21b58b9bf0d040cf909e0c230e8cbb8a": {
      "model_module": "@jupyter-widgets/controls",
      "model_module_version": "1.5.0",
      "model_name": "DescriptionStyleModel",
      "state": {
       "description_width": ""
      }
     },
     "2dad3d70459e43e9be8c514b22c22ea5": {
      "model_module": "@jupyter-widgets/controls",
      "model_module_version": "1.5.0",
      "model_name": "ButtonModel",
      "state": {
       "button_style": "primary",
       "description": "Clear",
       "layout": "IPY_MODEL_58e3438678d44588a921dfddd92f524e",
       "style": "IPY_MODEL_a66349bf78874fc49ecae77669d99e75"
      }
     },
     "33f7c46e3c17487fba631dc397d2eeef": {
      "model_module": "@jupyter-widgets/controls",
      "model_module_version": "1.5.0",
      "model_name": "DescriptionStyleModel",
      "state": {
       "description_width": ""
      }
     },
     "58e3438678d44588a921dfddd92f524e": {
      "model_module": "@jupyter-widgets/base",
      "model_module_version": "1.2.0",
      "model_name": "LayoutModel",
      "state": {
       "grid_area": "right",
       "padding": "0px 0px 0px 0px",
       "width": "70px"
      }
     },
     "68824a01f49d4296a703f4e20a83705f": {
      "model_module": "@jupyter-widgets/controls",
      "model_module_version": "1.5.0",
      "model_name": "HTMLModel",
      "state": {
       "layout": "IPY_MODEL_c4630e5666924744b69b22ce628da4fc",
       "style": "IPY_MODEL_8eb328b402474ba388b6282b4433d105",
       "value": "<h5>Job ID</h5>"
      }
     },
     "77a72e8fe68e46b583a1aba8389ca96c": {
      "model_module": "@jupyter-widgets/controls",
      "model_module_version": "1.5.0",
      "model_name": "GridBoxModel",
      "state": {
       "children": [
        "IPY_MODEL_2dad3d70459e43e9be8c514b22c22ea5"
       ],
       "layout": "IPY_MODEL_a31268d845894ba39af837cd4a2a0e00"
      }
     },
     "8eb328b402474ba388b6282b4433d105": {
      "model_module": "@jupyter-widgets/controls",
      "model_module_version": "1.5.0",
      "model_name": "DescriptionStyleModel",
      "state": {
       "description_width": ""
      }
     },
     "a1cd1d981a0e4d7ea1d9971b8a4a5bff": {
      "model_module": "@jupyter-widgets/controls",
      "model_module_version": "1.5.0",
      "model_name": "DescriptionStyleModel",
      "state": {
       "description_width": ""
      }
     },
     "a31268d845894ba39af837cd4a2a0e00": {
      "model_module": "@jupyter-widgets/base",
      "model_module_version": "1.2.0",
      "model_name": "LayoutModel",
      "state": {
       "grid_template_areas": "\n                                       \". . . . right \"\n                                        ",
       "grid_template_columns": "20% 20% 20% 20% 20%",
       "width": "100%"
      }
     },
     "a4f63c4f665b4c9db15d35c1696b8f3b": {
      "model_module": "@jupyter-widgets/controls",
      "model_module_version": "1.5.0",
      "model_name": "HTMLModel",
      "state": {
       "layout": "IPY_MODEL_09a1ec2f48bb4ade98c64ae6b33d0b91",
       "style": "IPY_MODEL_a1cd1d981a0e4d7ea1d9971b8a4a5bff",
       "value": "<h5>Message</h5>"
      }
     },
     "a66349bf78874fc49ecae77669d99e75": {
      "model_module": "@jupyter-widgets/controls",
      "model_module_version": "1.5.0",
      "model_name": "ButtonStyleModel",
      "state": {}
     },
     "ac987d9692fb4b579d15e973dcd30882": {
      "model_module": "@jupyter-widgets/base",
      "model_module_version": "1.2.0",
      "model_name": "LayoutModel",
      "state": {
       "margin": "0px 0px 0px 37px",
       "width": "600px"
      }
     },
     "aeb7ce181d35457d8fa9787ffda9fe77": {
      "model_module": "@jupyter-widgets/controls",
      "model_module_version": "1.5.0",
      "model_name": "HTMLModel",
      "state": {
       "layout": "IPY_MODEL_b8f54a8550554101a0303ac306f71cd7",
       "style": "IPY_MODEL_21b58b9bf0d040cf909e0c230e8cbb8a",
       "value": "<h5>Status</h5>"
      }
     },
     "b8f54a8550554101a0303ac306f71cd7": {
      "model_module": "@jupyter-widgets/base",
      "model_module_version": "1.2.0",
      "model_name": "LayoutModel",
      "state": {
       "width": "95px"
      }
     },
     "c4630e5666924744b69b22ce628da4fc": {
      "model_module": "@jupyter-widgets/base",
      "model_module_version": "1.2.0",
      "model_name": "LayoutModel",
      "state": {
       "width": "190px"
      }
     },
     "cd683cb255e5445eb432fd2e2330e869": {
      "model_module": "@jupyter-widgets/controls",
      "model_module_version": "1.5.0",
      "model_name": "HBoxModel",
      "state": {
       "children": [
        "IPY_MODEL_68824a01f49d4296a703f4e20a83705f",
        "IPY_MODEL_1abfe179361b455baf755b8956d60ce8",
        "IPY_MODEL_aeb7ce181d35457d8fa9787ffda9fe77",
        "IPY_MODEL_1483744f5417432e989398a2bd6a5753",
        "IPY_MODEL_a4f63c4f665b4c9db15d35c1696b8f3b"
       ],
       "layout": "IPY_MODEL_ac987d9692fb4b579d15e973dcd30882"
      }
     },
     "d3879d4d10634ccd9fb1094049ce600b": {
      "model_module": "@jupyter-widgets/base",
      "model_module_version": "1.2.0",
      "model_name": "LayoutModel",
      "state": {
       "width": "145px"
      }
     },
     "d6163b00e27e40d2ba4d3b3a1d092945": {
      "model_module": "@jupyter-widgets/base",
      "model_module_version": "1.2.0",
      "model_name": "LayoutModel",
      "state": {
       "width": "70px"
      }
     },
     "dbe60ac095244f3091405bad449d3598": {
      "model_module": "@jupyter-widgets/controls",
      "model_module_version": "1.5.0",
      "model_name": "DescriptionStyleModel",
      "state": {
       "description_width": ""
      }
     }
    },
    "version_major": 2,
    "version_minor": 0
   }
  }
 },
 "nbformat": 4,
 "nbformat_minor": 5
}
