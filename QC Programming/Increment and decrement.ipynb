{
 "cells": [
  {
   "cell_type": "markdown",
   "id": "20635825-1d78-431b-8c35-07e47f66fe88",
   "metadata": {},
   "source": [
    "# **Increment and decrement**"
   ]
  },
  {
   "cell_type": "code",
   "execution_count": 1,
   "id": "a4f28646-d37e-4de6-9775-7b1cc6d7f0b9",
   "metadata": {},
   "outputs": [],
   "source": [
    "import numpy as np\n",
    "\n",
    "# Importing standard Qiskit libraries\n",
    "from qiskit import QuantumCircuit, transpile, Aer, IBMQ, QuantumRegister, ClassicalRegister, execute, BasicAer\n",
    "from qiskit.tools.jupyter import *\n",
    "from qiskit.visualization import *\n",
    "from ibm_quantum_widgets import *\n",
    "from qiskit.providers.aer import QasmSimulator\n",
    "\n",
    "# Loading your IBM Quantum account(s)\n",
    "provider = IBMQ.load_account()"
   ]
  },
  {
   "cell_type": "code",
   "execution_count": 2,
   "id": "d709c840-b07b-4150-be36-f33f395ab269",
   "metadata": {},
   "outputs": [],
   "source": [
    "import math\n",
    "%matplotlib inline"
   ]
  },
  {
   "cell_type": "code",
   "execution_count": 3,
   "id": "4562af3f-16f9-44ae-b383-0e98b2362798",
   "metadata": {},
   "outputs": [],
   "source": [
    "# Set up the program\n",
    "a = QuantumRegister(4, name='a')\n",
    "scratch = QuantumRegister(1, name='scratch')\n",
    "qc = QuantumCircuit(a, scratch)"
   ]
  },
  {
   "cell_type": "code",
   "execution_count": 4,
   "id": "13096b82-d2ae-42d4-9ed9-c97d3302008a",
   "metadata": {},
   "outputs": [],
   "source": [
    "def main():\n",
    "    ## initialization\n",
    "    qc.x(a[0])\n",
    "    qc.h(a[2])\n",
    "    qc.rz(math.radians(45), a[2])\n",
    "    qc.barrier()\n",
    "    \n",
    "    ## Increment\n",
    "    add_int(a, 1)\n",
    "    qc.barrier()\n",
    "    ## Decrement\n",
    "    add_int(a, -1)"
   ]
  },
  {
   "cell_type": "code",
   "execution_count": 5,
   "id": "e4fda900-c9e9-44e6-9cfd-cf95d24658c1",
   "metadata": {},
   "outputs": [],
   "source": [
    "###############################################\n",
    "## Some utility functions\n",
    "\n",
    "def add_int(qdest, rhs):\n",
    "    reverse_to_subtract = False\n",
    "    if rhs == 0:\n",
    "        return\n",
    "    elif rhs < 0:\n",
    "        rhs = -rhs\n",
    "        reverse_to_subtract = True\n",
    "    ops = []\n",
    "    add_val = int(rhs)\n",
    "    condition_mask = (1 << len(qdest)) - 1\n",
    "\n",
    "    add_val_mask = 1\n",
    "    while add_val_mask <= add_val:\n",
    "        cmask = condition_mask & ~(add_val_mask - 1)\n",
    "        if add_val_mask & add_val:\n",
    "            add_shift_mask = 1 << (len(qdest) - 1)\n",
    "            while add_shift_mask >= add_val_mask:\n",
    "                cmask &= ~add_shift_mask\n",
    "                ops.append((add_shift_mask, cmask))\n",
    "                add_shift_mask >>= 1\n",
    "        condition_mask &= ~add_val_mask\n",
    "        add_val_mask <<= 1\n",
    "    if reverse_to_subtract:\n",
    "        ops.reverse()\n",
    "    for inst in ops:\n",
    "        op_qubits = []\n",
    "        mask = 1\n",
    "        for i in range(len(qdest)):\n",
    "            if inst[1] & (1 << i):\n",
    "                op_qubits.append(qdest[i])\n",
    "        for i in range(len(qdest)):\n",
    "            if inst[0] & (1 << i):\n",
    "                op_qubits.append(qdest[i])\n",
    "        multi_cx(op_qubits)"
   ]
  },
  {
   "cell_type": "code",
   "execution_count": 6,
   "id": "f32fe7dd-8ce0-4656-a0e6-f68ba2fda4fe",
   "metadata": {},
   "outputs": [],
   "source": [
    "def multi_cz(qubits):\n",
    "    ## This will perform a CCCCCZ on as many qubits as we want,\n",
    "    ## as long as we have enough scratch qubits\n",
    "    multi_cx(qubits, do_cz=True)"
   ]
  },
  {
   "cell_type": "code",
   "execution_count": 7,
   "id": "0b64a67f-40c4-4508-a656-806723de16d4",
   "metadata": {},
   "outputs": [],
   "source": [
    "def multi_cx(qubits, do_cz=False):\n",
    "    ## This will perform a CCCCCX with as many conditions as we want,\n",
    "    ## as long as we have enough scratch qubits\n",
    "    ## The last qubit in the list is the target.\n",
    "    target = qubits[-1]\n",
    "    conds = qubits[:-1]\n",
    "    scratch_index = 0\n",
    "    ops = []\n",
    "    while len(conds) > 2:\n",
    "        new_conds = []\n",
    "        for i in range(len(conds)//2):\n",
    "            ops.append((conds[i * 2], conds[i * 2 + 1], scratch[scratch_index]))\n",
    "            new_conds.append(scratch[scratch_index])\n",
    "            scratch_index += 1\n",
    "        if len(conds) & 1:\n",
    "            new_conds.append(conds[-1])\n",
    "        conds = new_conds\n",
    "    for op in ops:\n",
    "        qc.ccx(op[0], op[1], op[2])\n",
    "    if do_cz:\n",
    "        qc.h(target)\n",
    "    if len(conds) == 0:\n",
    "        qc.x(target)\n",
    "    elif len(conds) == 1:\n",
    "        qc.cx(conds[0], target)\n",
    "    else:\n",
    "        qc.ccx(conds[0], conds[1], target)\n",
    "    if do_cz:\n",
    "        qc.h(target)\n",
    "    ops.reverse()\n",
    "    for op in ops:\n",
    "        qc.ccx(op[0], op[1], op[2])\n",
    "\n",
    "main()"
   ]
  },
  {
   "cell_type": "code",
   "execution_count": 8,
   "id": "3a7b5e8a-aa17-40e9-adef-d43e20e7b090",
   "metadata": {},
   "outputs": [],
   "source": [
    "## That's the program. Everything below runs and draws it.\n",
    "\n",
    "backend = BasicAer.get_backend('statevector_simulator')\n",
    "job = execute(qc, backend)\n",
    "result = job.result()"
   ]
  },
  {
   "cell_type": "code",
   "execution_count": 9,
   "id": "02855268-cd96-4f5d-93c2-81a22c8509a0",
   "metadata": {},
   "outputs": [
    {
     "name": "stdout",
     "output_type": "stream",
     "text": [
      "|1> (0.653-0.271j)\n",
      "|5> (0.653+0.271j)\n"
     ]
    },
    {
     "data": {
      "image/png": "[encoded data removed]",
      "text/plain": [
       "<Figure size 1099.7x325.08 with 1 Axes>"
      ]
     },
     "execution_count": 9,
     "metadata": {},
     "output_type": "execute_result"
    }
   ],
   "source": [
    "outputstate = result.get_statevector(qc, decimals=3)\n",
    "for i,amp in enumerate(outputstate):\n",
    "    if abs(amp) > 0.000001:\n",
    "        print('|{}> {}'.format(i, amp))\n",
    "qc.draw()        # draw the circuit"
   ]
  }
 ],
 "metadata": {
  "kernelspec": {
   "display_name": "Qiskit v0.34.1 (ipykernel)",
   "language": "python",
   "name": "python3"
  },
  "language_info": {
   "codemirror_mode": {
    "name": "ipython",
    "version": 3
   },
   "file_extension": ".py",
   "mimetype": "text/x-python",
   "name": "python",
   "nbconvert_exporter": "python",
   "pygments_lexer": "ipython3",
   "version": "3.8.12"
  },
  "widgets": {
   "application/vnd.jupyter.widget-state+json": {
    "state": {
     "40fbabbddddc48479d9261cd1846fc2c": {
      "model_module": "@jupyter-widgets/controls",
      "model_module_version": "1.5.0",
      "model_name": "HTMLModel",
      "state": {
       "layout": "IPY_MODEL_8b525bc6822a4e1dae5e2c8ce69de5f8",
       "style": "IPY_MODEL_acc6790c9720491dbbe6d40d5286aacd",
       "value": "<h5>Status</h5>"
      }
     },
     "432476aeb9884662b0ee36eef2581d31": {
      "model_module": "@jupyter-widgets/base",
      "model_module_version": "1.2.0",
      "model_name": "LayoutModel",
      "state": {
       "margin": "0px 0px 10px 0px"
      }
     },
     "44b327a76fe34b7cbfa040b471275f19": {
      "model_module": "@jupyter-widgets/base",
      "model_module_version": "1.2.0",
      "model_name": "LayoutModel",
      "state": {
       "grid_area": "right",
       "padding": "0px 0px 0px 0px",
       "width": "70px"
      }
     },
     "49dcc59aaeff45b3aa31ad57addadba8": {
      "model_module": "@jupyter-widgets/controls",
      "model_module_version": "1.5.0",
      "model_name": "DescriptionStyleModel",
      "state": {
       "description_width": ""
      }
     },
     "5094f5721c684eff8b236e04831cd00e": {
      "model_module": "@jupyter-widgets/base",
      "model_module_version": "1.2.0",
      "model_name": "LayoutModel",
      "state": {
       "width": "190px"
      }
     },
     "77132c0645074cda9eceb807c728ab94": {
      "model_module": "@jupyter-widgets/base",
      "model_module_version": "1.2.0",
      "model_name": "LayoutModel",
      "state": {
       "margin": "0px 0px 0px 37px",
       "width": "600px"
      }
     },
     "7b24e2b39c194b78b41fec12cfe0ec7f": {
      "model_module": "@jupyter-widgets/controls",
      "model_module_version": "1.5.0",
      "model_name": "HBoxModel",
      "state": {
       "children": [
        "IPY_MODEL_d1cc36b371cb4549b8e56e241bd2977b",
        "IPY_MODEL_7cd9976eae4b47919ac28b096cab8f50",
        "IPY_MODEL_40fbabbddddc48479d9261cd1846fc2c",
        "IPY_MODEL_a2288370059f4cba98b79652165bc97c",
        "IPY_MODEL_7dd05437e7854cfeadf672085244ee17"
       ],
       "layout": "IPY_MODEL_77132c0645074cda9eceb807c728ab94"
      }
     },
     "7cd9976eae4b47919ac28b096cab8f50": {
      "model_module": "@jupyter-widgets/controls",
      "model_module_version": "1.5.0",
      "model_name": "HTMLModel",
      "state": {
       "layout": "IPY_MODEL_e9ae4e7aca304a52a4ed3d548308fb2a",
       "style": "IPY_MODEL_94ddf5aff3f64b27a2e7675ed3dbcdd8",
       "value": "<h5>Backend</h5>"
      }
     },
     "7dd05437e7854cfeadf672085244ee17": {
      "model_module": "@jupyter-widgets/controls",
      "model_module_version": "1.5.0",
      "model_name": "HTMLModel",
      "state": {
       "layout": "IPY_MODEL_8ad4b5469ef64050a05a61a7d5b243d6",
       "style": "IPY_MODEL_e6adec92e3e04072b18bba2dbf5f70a1",
       "value": "<h5>Message</h5>"
      }
     },
     "83b9c2cf59c741569b4a567f89682037": {
      "model_module": "@jupyter-widgets/base",
      "model_module_version": "1.2.0",
      "model_name": "LayoutModel",
      "state": {
       "grid_template_areas": "\n                                       \". . . . right \"\n                                        ",
       "grid_template_columns": "20% 20% 20% 20% 20%",
       "width": "100%"
      }
     },
     "8ad4b5469ef64050a05a61a7d5b243d6": {
      "model_module": "@jupyter-widgets/base",
      "model_module_version": "1.2.0",
      "model_name": "LayoutModel",
      "state": {}
     },
     "8b525bc6822a4e1dae5e2c8ce69de5f8": {
      "model_module": "@jupyter-widgets/base",
      "model_module_version": "1.2.0",
      "model_name": "LayoutModel",
      "state": {
       "width": "95px"
      }
     },
     "94722455f0c24827903c44eba2a20eb2": {
      "model_module": "@jupyter-widgets/controls",
      "model_module_version": "1.5.0",
      "model_name": "DescriptionStyleModel",
      "state": {
       "description_width": ""
      }
     },
     "94ddf5aff3f64b27a2e7675ed3dbcdd8": {
      "model_module": "@jupyter-widgets/controls",
      "model_module_version": "1.5.0",
      "model_name": "DescriptionStyleModel",
      "state": {
       "description_width": ""
      }
     },
     "997e86392484450b9609e2dbe4619b46": {
      "model_module": "@jupyter-widgets/controls",
      "model_module_version": "1.5.0",
      "model_name": "DescriptionStyleModel",
      "state": {
       "description_width": ""
      }
     },
     "9fd3e71414ff43d08e6e9905eb140105": {
      "model_module": "@jupyter-widgets/base",
      "model_module_version": "1.2.0",
      "model_name": "LayoutModel",
      "state": {
       "width": "70px"
      }
     },
     "a2288370059f4cba98b79652165bc97c": {
      "model_module": "@jupyter-widgets/controls",
      "model_module_version": "1.5.0",
      "model_name": "HTMLModel",
      "state": {
       "layout": "IPY_MODEL_9fd3e71414ff43d08e6e9905eb140105",
       "style": "IPY_MODEL_49dcc59aaeff45b3aa31ad57addadba8",
       "value": "<h5>Queue</h5>"
      }
     },
     "a77cc634ed1a4891817bd8c3c73ef099": {
      "model_module": "@jupyter-widgets/controls",
      "model_module_version": "1.5.0",
      "model_name": "ButtonStyleModel",
      "state": {}
     },
     "ab450ea7326b481ebefa1b64ccd79b6a": {
      "model_module": "@jupyter-widgets/controls",
      "model_module_version": "1.5.0",
      "model_name": "GridBoxModel",
      "state": {
       "children": [
        "IPY_MODEL_ab5adbaf09d04042b8ed6cd3bc480876"
       ],
       "layout": "IPY_MODEL_83b9c2cf59c741569b4a567f89682037"
      }
     },
     "ab5adbaf09d04042b8ed6cd3bc480876": {
      "model_module": "@jupyter-widgets/controls",
      "model_module_version": "1.5.0",
      "model_name": "ButtonModel",
      "state": {
       "button_style": "primary",
       "description": "Clear",
       "layout": "IPY_MODEL_44b327a76fe34b7cbfa040b471275f19",
       "style": "IPY_MODEL_a77cc634ed1a4891817bd8c3c73ef099"
      }
     },
     "acc6790c9720491dbbe6d40d5286aacd": {
      "model_module": "@jupyter-widgets/controls",
      "model_module_version": "1.5.0",
      "model_name": "DescriptionStyleModel",
      "state": {
       "description_width": ""
      }
     },
     "d1cc36b371cb4549b8e56e241bd2977b": {
      "model_module": "@jupyter-widgets/controls",
      "model_module_version": "1.5.0",
      "model_name": "HTMLModel",
      "state": {
       "layout": "IPY_MODEL_5094f5721c684eff8b236e04831cd00e",
       "style": "IPY_MODEL_997e86392484450b9609e2dbe4619b46",
       "value": "<h5>Job ID</h5>"
      }
     },
     "d940aa6a4b744b459607408aa5312ded": {
      "model_module": "@jupyter-widgets/controls",
      "model_module_version": "1.5.0",
      "model_name": "HTMLModel",
      "state": {
       "layout": "IPY_MODEL_432476aeb9884662b0ee36eef2581d31",
       "style": "IPY_MODEL_94722455f0c24827903c44eba2a20eb2",
       "value": "<p style='font-family: IBM Plex Sans, Arial, Helvetica, sans-serif; font-size: 20px; font-weight: medium;'>Circuit Properties</p>"
      }
     },
     "e6adec92e3e04072b18bba2dbf5f70a1": {
      "model_module": "@jupyter-widgets/controls",
      "model_module_version": "1.5.0",
      "model_name": "DescriptionStyleModel",
      "state": {
       "description_width": ""
      }
     },
     "e9ae4e7aca304a52a4ed3d548308fb2a": {
      "model_module": "@jupyter-widgets/base",
      "model_module_version": "1.2.0",
      "model_name": "LayoutModel",
      "state": {
       "width": "145px"
      }
     }
    },
    "version_major": 2,
    "version_minor": 0
   }
  }
 },
 "nbformat": 4,
 "nbformat_minor": 5
}
