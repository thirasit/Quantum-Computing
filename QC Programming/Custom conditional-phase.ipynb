{
 "cells": [
  {
   "cell_type": "markdown",
   "id": "989ed20e-3b22-49a6-99bc-0c191663e20b",
   "metadata": {},
   "source": [
    "# **Custom conditional-phase**"
   ]
  },
  {
   "cell_type": "code",
   "execution_count": 1,
   "id": "a210fd2f-5b7a-4188-9b8c-09a4336b5a11",
   "metadata": {},
   "outputs": [],
   "source": [
    "import numpy as np\n",
    "\n",
    "# Importing standard Qiskit libraries\n",
    "from qiskit import QuantumCircuit, transpile, Aer, IBMQ, QuantumRegister, ClassicalRegister, execute, BasicAer\n",
    "from qiskit.tools.jupyter import *\n",
    "from qiskit.visualization import *\n",
    "from ibm_quantum_widgets import *\n",
    "from qiskit.providers.aer import QasmSimulator\n",
    "\n",
    "# Loading your IBM Quantum account(s)\n",
    "provider = IBMQ.load_account()"
   ]
  },
  {
   "cell_type": "code",
   "execution_count": 2,
   "id": "918684e8-bae0-4df2-bdb7-8a94df4c6c78",
   "metadata": {},
   "outputs": [],
   "source": [
    "import math\n",
    "%matplotlib inline"
   ]
  },
  {
   "cell_type": "code",
   "execution_count": 3,
   "id": "e9d85154-f1a7-426e-ab96-0f01aeb77b7b",
   "metadata": {},
   "outputs": [],
   "source": [
    "# Set up the program\n",
    "reg = QuantumRegister(2, name='reg')\n",
    "qc = QuantumCircuit(reg)"
   ]
  },
  {
   "cell_type": "code",
   "execution_count": 4,
   "id": "850be606-a736-4421-a720-7bbc76c44224",
   "metadata": {},
   "outputs": [
    {
     "data": {
      "text/plain": [
       "<qiskit.circuit.instructionset.InstructionSet at 0x7f726d5bf240>"
      ]
     },
     "execution_count": 4,
     "metadata": {},
     "output_type": "execute_result"
    }
   ],
   "source": [
    "theta = math.pi / 2\n",
    "qc.h(reg)\n",
    "qc.rz(theta/2, reg[1])\n",
    "qc.cx(reg[0], reg[1])\n",
    "qc.rz(-theta/2, reg[1])\n",
    "qc.cx(reg[0], reg[1])\n",
    "qc.rz(-theta/2, reg[0])"
   ]
  },
  {
   "cell_type": "code",
   "execution_count": 5,
   "id": "913ff6a1-118b-4a32-b099-613786910ede",
   "metadata": {},
   "outputs": [
    {
     "data": {
      "text/plain": [
       "<qiskit.circuit.instructionset.InstructionSet at 0x7f7300451500>"
      ]
     },
     "execution_count": 5,
     "metadata": {},
     "output_type": "execute_result"
    }
   ],
   "source": [
    "qc.barrier()"
   ]
  },
  {
   "cell_type": "code",
   "execution_count": 6,
   "id": "956819d1-a0cc-467b-8495-9b35faa79178",
   "metadata": {},
   "outputs": [
    {
     "data": {
      "text/plain": [
       "<qiskit.circuit.instructionset.InstructionSet at 0x7f726e7190c0>"
      ]
     },
     "execution_count": 6,
     "metadata": {},
     "output_type": "execute_result"
    }
   ],
   "source": [
    "qc.crz(theta, reg[0], reg[1])"
   ]
  },
  {
   "cell_type": "code",
   "execution_count": 7,
   "id": "9a60248d-4067-4639-8001-2805600ed4cc",
   "metadata": {},
   "outputs": [],
   "source": [
    "backend = BasicAer.get_backend('statevector_simulator')\n",
    "job = execute(qc, backend)\n",
    "result = job.result()"
   ]
  },
  {
   "cell_type": "code",
   "execution_count": 8,
   "id": "1696a922-d47d-4da1-986a-275de9fc12ca",
   "metadata": {},
   "outputs": [
    {
     "name": "stdout",
     "output_type": "stream",
     "text": [
      "[ 0.462+0.191j -0.191-0.462j  0.462+0.191j  0.191+0.462j]\n"
     ]
    },
    {
     "data": {
      "image/png": "[encoded data removed]",
      "text/plain": [
       "<Figure size 589.541x144.48 with 1 Axes>"
      ]
     },
     "execution_count": 8,
     "metadata": {},
     "output_type": "execute_result"
    }
   ],
   "source": [
    "outputstate = result.get_statevector(qc, decimals=3)\n",
    "print(outputstate)\n",
    "qc.draw()        # draw the circuit"
   ]
  }
 ],
 "metadata": {
  "kernelspec": {
   "display_name": "Qiskit v0.34.1 (ipykernel)",
   "language": "python",
   "name": "python3"
  },
  "language_info": {
   "codemirror_mode": {
    "name": "ipython",
    "version": 3
   },
   "file_extension": ".py",
   "mimetype": "text/x-python",
   "name": "python",
   "nbconvert_exporter": "python",
   "pygments_lexer": "ipython3",
   "version": "3.8.12"
  },
  "widgets": {
   "application/vnd.jupyter.widget-state+json": {
    "state": {
     "0296887abe9445fdadab120b710aab71": {
      "model_module": "@jupyter-widgets/base",
      "model_module_version": "1.2.0",
      "model_name": "LayoutModel",
      "state": {
       "width": "145px"
      }
     },
     "0b462595b0254565adcfc18e571e4fd7": {
      "model_module": "@jupyter-widgets/controls",
      "model_module_version": "1.5.0",
      "model_name": "DescriptionStyleModel",
      "state": {
       "description_width": ""
      }
     },
     "0c9c62ff10d84020be86afc55ade055b": {
      "model_module": "@jupyter-widgets/controls",
      "model_module_version": "1.5.0",
      "model_name": "DescriptionStyleModel",
      "state": {
       "description_width": ""
      }
     },
     "1023751c94ba476ba5814176b7d1241c": {
      "model_module": "@jupyter-widgets/base",
      "model_module_version": "1.2.0",
      "model_name": "LayoutModel",
      "state": {
       "width": "190px"
      }
     },
     "18c4c657dc834a439662b1279247d156": {
      "model_module": "@jupyter-widgets/base",
      "model_module_version": "1.2.0",
      "model_name": "LayoutModel",
      "state": {
       "width": "70px"
      }
     },
     "22fea7d78bbd42ecb31e7b54a4c98317": {
      "model_module": "@jupyter-widgets/base",
      "model_module_version": "1.2.0",
      "model_name": "LayoutModel",
      "state": {
       "width": "95px"
      }
     },
     "3a7d750b05564b939acf08dc34bbec5c": {
      "model_module": "@jupyter-widgets/base",
      "model_module_version": "1.2.0",
      "model_name": "LayoutModel",
      "state": {}
     },
     "402747fbcbea47df86bbda16c6d00dbc": {
      "model_module": "@jupyter-widgets/controls",
      "model_module_version": "1.5.0",
      "model_name": "DescriptionStyleModel",
      "state": {
       "description_width": ""
      }
     },
     "4184abb60bba4a998c4190b52f62773b": {
      "model_module": "@jupyter-widgets/base",
      "model_module_version": "1.2.0",
      "model_name": "LayoutModel",
      "state": {
       "grid_template_areas": "\n                                       \". . . . right \"\n                                        ",
       "grid_template_columns": "20% 20% 20% 20% 20%",
       "width": "100%"
      }
     },
     "41bead789fe347e2a12181072e61b87f": {
      "model_module": "@jupyter-widgets/controls",
      "model_module_version": "1.5.0",
      "model_name": "DescriptionStyleModel",
      "state": {
       "description_width": ""
      }
     },
     "677ab1fbf00f4f52a09e5ac476e7f745": {
      "model_module": "@jupyter-widgets/controls",
      "model_module_version": "1.5.0",
      "model_name": "ButtonStyleModel",
      "state": {}
     },
     "6a2b5ef4e84a42bfb65753ce8e870459": {
      "model_module": "@jupyter-widgets/controls",
      "model_module_version": "1.5.0",
      "model_name": "HTMLModel",
      "state": {
       "layout": "IPY_MODEL_3a7d750b05564b939acf08dc34bbec5c",
       "style": "IPY_MODEL_41bead789fe347e2a12181072e61b87f",
       "value": "<h5>Message</h5>"
      }
     },
     "6cd9f2a5bd7543c68365b05bdd76c3fb": {
      "model_module": "@jupyter-widgets/controls",
      "model_module_version": "1.5.0",
      "model_name": "DescriptionStyleModel",
      "state": {
       "description_width": ""
      }
     },
     "70a9ba978d694566ae395301f946b7f9": {
      "model_module": "@jupyter-widgets/controls",
      "model_module_version": "1.5.0",
      "model_name": "HTMLModel",
      "state": {
       "layout": "IPY_MODEL_22fea7d78bbd42ecb31e7b54a4c98317",
       "style": "IPY_MODEL_e55414f77d484decba49e83b536bf233",
       "value": "<h5>Status</h5>"
      }
     },
     "728b88f1ccda4af4abdd251f3866a2a9": {
      "model_module": "@jupyter-widgets/controls",
      "model_module_version": "1.5.0",
      "model_name": "HTMLModel",
      "state": {
       "layout": "IPY_MODEL_18c4c657dc834a439662b1279247d156",
       "style": "IPY_MODEL_6cd9f2a5bd7543c68365b05bdd76c3fb",
       "value": "<h5>Queue</h5>"
      }
     },
     "9338a8da79ef4c7f86ef9b17e15ef5c2": {
      "model_module": "@jupyter-widgets/controls",
      "model_module_version": "1.5.0",
      "model_name": "HTMLModel",
      "state": {
       "layout": "IPY_MODEL_9e3a1e39e1964c65b64720d81f6ae511",
       "style": "IPY_MODEL_0b462595b0254565adcfc18e571e4fd7",
       "value": "<p style='font-family: IBM Plex Sans, Arial, Helvetica, sans-serif; font-size: 20px; font-weight: medium;'>Circuit Properties</p>"
      }
     },
     "9e3a1e39e1964c65b64720d81f6ae511": {
      "model_module": "@jupyter-widgets/base",
      "model_module_version": "1.2.0",
      "model_name": "LayoutModel",
      "state": {
       "margin": "0px 0px 10px 0px"
      }
     },
     "b4b6e1acf4a54cc2b6db5e7f6c985439": {
      "model_module": "@jupyter-widgets/controls",
      "model_module_version": "1.5.0",
      "model_name": "GridBoxModel",
      "state": {
       "children": [
        "IPY_MODEL_bc091301173d4a31b7a125f0a8cdc8b7"
       ],
       "layout": "IPY_MODEL_4184abb60bba4a998c4190b52f62773b"
      }
     },
     "b96e70e58346430f9ae8eebc4932b2e3": {
      "model_module": "@jupyter-widgets/controls",
      "model_module_version": "1.5.0",
      "model_name": "HBoxModel",
      "state": {
       "children": [
        "IPY_MODEL_e024dde0f17d4b1cb5dafb0cb427dd83",
        "IPY_MODEL_bf672b29a44f44dcb7e97d15bbdebaf0",
        "IPY_MODEL_70a9ba978d694566ae395301f946b7f9",
        "IPY_MODEL_728b88f1ccda4af4abdd251f3866a2a9",
        "IPY_MODEL_6a2b5ef4e84a42bfb65753ce8e870459"
       ],
       "layout": "IPY_MODEL_c9f6f4f63cca47df9138554de1f6c661"
      }
     },
     "bc091301173d4a31b7a125f0a8cdc8b7": {
      "model_module": "@jupyter-widgets/controls",
      "model_module_version": "1.5.0",
      "model_name": "ButtonModel",
      "state": {
       "button_style": "primary",
       "description": "Clear",
       "layout": "IPY_MODEL_fd6139e105894346bc713515523cfa86",
       "style": "IPY_MODEL_677ab1fbf00f4f52a09e5ac476e7f745"
      }
     },
     "bf672b29a44f44dcb7e97d15bbdebaf0": {
      "model_module": "@jupyter-widgets/controls",
      "model_module_version": "1.5.0",
      "model_name": "HTMLModel",
      "state": {
       "layout": "IPY_MODEL_0296887abe9445fdadab120b710aab71",
       "style": "IPY_MODEL_0c9c62ff10d84020be86afc55ade055b",
       "value": "<h5>Backend</h5>"
      }
     },
     "c9f6f4f63cca47df9138554de1f6c661": {
      "model_module": "@jupyter-widgets/base",
      "model_module_version": "1.2.0",
      "model_name": "LayoutModel",
      "state": {
       "margin": "0px 0px 0px 37px",
       "width": "600px"
      }
     },
     "e024dde0f17d4b1cb5dafb0cb427dd83": {
      "model_module": "@jupyter-widgets/controls",
      "model_module_version": "1.5.0",
      "model_name": "HTMLModel",
      "state": {
       "layout": "IPY_MODEL_1023751c94ba476ba5814176b7d1241c",
       "style": "IPY_MODEL_402747fbcbea47df86bbda16c6d00dbc",
       "value": "<h5>Job ID</h5>"
      }
     },
     "e55414f77d484decba49e83b536bf233": {
      "model_module": "@jupyter-widgets/controls",
      "model_module_version": "1.5.0",
      "model_name": "DescriptionStyleModel",
      "state": {
       "description_width": ""
      }
     },
     "fd6139e105894346bc713515523cfa86": {
      "model_module": "@jupyter-widgets/base",
      "model_module_version": "1.2.0",
      "model_name": "LayoutModel",
      "state": {
       "grid_area": "right",
       "padding": "0px 0px 0px 0px",
       "width": "70px"
      }
     }
    },
    "version_major": 2,
    "version_minor": 0
   }
  }
 },
 "nbformat": 4,
 "nbformat_minor": 5
}
