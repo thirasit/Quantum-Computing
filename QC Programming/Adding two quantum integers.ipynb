{
 "cells": [
  {
   "cell_type": "markdown",
   "id": "8105be92-3b01-479d-9529-178c1b87576a",
   "metadata": {},
   "source": [
    "# **Adding two quantum integers**"
   ]
  },
  {
   "cell_type": "code",
   "execution_count": 1,
   "id": "5a0d2529-ce04-4888-b5f4-4af3ab7b551b",
   "metadata": {},
   "outputs": [],
   "source": [
    "import numpy as np\n",
    "\n",
    "# Importing standard Qiskit libraries\n",
    "from qiskit import QuantumCircuit, transpile, Aer, IBMQ, QuantumRegister, ClassicalRegister, execute, BasicAer\n",
    "from qiskit.tools.jupyter import *\n",
    "from qiskit.visualization import *\n",
    "from ibm_quantum_widgets import *\n",
    "from qiskit.providers.aer import QasmSimulator\n",
    "\n",
    "# Loading your IBM Quantum account(s)\n",
    "provider = IBMQ.load_account()"
   ]
  },
  {
   "cell_type": "code",
   "execution_count": 2,
   "id": "4ccf4389-a543-4d8a-9363-a7ba66970cee",
   "metadata": {},
   "outputs": [],
   "source": [
    "import math\n",
    "%matplotlib inline"
   ]
  },
  {
   "cell_type": "code",
   "execution_count": 3,
   "id": "52479944-1b81-419d-8f7d-43af529e61ac",
   "metadata": {},
   "outputs": [],
   "source": [
    "# Set up the program\n",
    "a = QuantumRegister(4, name='a')\n",
    "b = QuantumRegister(2, name='b')\n",
    "scratch = QuantumRegister(2, name='scratch')\n",
    "qc = QuantumCircuit(a, b, scratch)"
   ]
  },
  {
   "cell_type": "code",
   "execution_count": 4,
   "id": "9aafbfe1-d76c-4870-9808-9ecca9702aa7",
   "metadata": {},
   "outputs": [],
   "source": [
    "def main():\n",
    "    ## initialization\n",
    "    qc.x(a[0])\n",
    "    qc.h(a[2])\n",
    "    qc.rz(math.radians(45), a[2])\n",
    "    qc.x(b[0])\n",
    "    qc.h(b[1])\n",
    "    qc.rz(math.radians(90), b[1])\n",
    "    qc.barrier()\n",
    "    \n",
    "    ## Increment\n",
    "    add_qint(a, b)"
   ]
  },
  {
   "cell_type": "code",
   "execution_count": 5,
   "id": "7c553628-fa92-4a0e-a9cd-2d96393bb494",
   "metadata": {},
   "outputs": [],
   "source": [
    "## Some utility functions\n",
    "\n",
    "def add_qint(qdest, rhs):\n",
    "    for bit in range(len(rhs)):\n",
    "        add_int(qdest, 1 << bit, [rhs[bit]])"
   ]
  },
  {
   "cell_type": "code",
   "execution_count": 6,
   "id": "ca1d261e-e608-489d-a6f7-5a848e8d536c",
   "metadata": {},
   "outputs": [],
   "source": [
    "def add_int(qdest, rhs, condition_qubits=None):\n",
    "    if condition_qubits is None:\n",
    "        condition_qubits = []\n",
    "    reverse_to_subtract = False\n",
    "    if rhs == 0:\n",
    "        return\n",
    "    elif rhs < 0:\n",
    "        rhs = -rhs\n",
    "        reverse_to_subtract = True\n",
    "    ops = []\n",
    "    add_val = int(rhs)\n",
    "    condition_mask = (1 << len(qdest)) - 1\n",
    "\n",
    "    add_val_mask = 1\n",
    "    while add_val_mask <= add_val:\n",
    "        cmask = condition_mask & ~(add_val_mask - 1)\n",
    "        if add_val_mask & add_val:\n",
    "            add_shift_mask = 1 << (len(qdest) - 1)\n",
    "            while add_shift_mask >= add_val_mask:\n",
    "                cmask &= ~add_shift_mask\n",
    "                ops.append((add_shift_mask, cmask))\n",
    "                add_shift_mask >>= 1\n",
    "        condition_mask &= ~add_val_mask\n",
    "        add_val_mask <<= 1\n",
    "    if reverse_to_subtract:\n",
    "        ops.reverse()\n",
    "    for inst in ops:\n",
    "        op_qubits = [x for x in condition_qubits]\n",
    "        mask = 1\n",
    "        for i in range(len(qdest)):\n",
    "            if inst[1] & (1 << i):\n",
    "                op_qubits.append(qdest[i])\n",
    "        for i in range(len(qdest)):\n",
    "            if inst[0] & (1 << i):\n",
    "                op_qubits.append(qdest[i])\n",
    "        multi_cx(op_qubits)"
   ]
  },
  {
   "cell_type": "code",
   "execution_count": 7,
   "id": "a4b7dba6-af85-47fd-9a63-d8305ba71efb",
   "metadata": {},
   "outputs": [],
   "source": [
    "def multi_cz(qubits):\n",
    "    ## This will perform a CCCCCZ on as many qubits as we want,\n",
    "    ## as long as we have enough scratch qubits\n",
    "    multi_cx(qubits, do_cz=True)"
   ]
  },
  {
   "cell_type": "code",
   "execution_count": 8,
   "id": "528f79c2-1a9d-45b3-9691-95b7ef2dab93",
   "metadata": {},
   "outputs": [],
   "source": [
    "def multi_cx(qubits, do_cz=False):\n",
    "    ## This will perform a CCCCCX with as many conditions as we want,\n",
    "    ## as long as we have enough scratch qubits\n",
    "    ## The last qubit in the list is the target.\n",
    "    target = qubits[-1]\n",
    "    conds = qubits[:-1]\n",
    "    scratch_index = 0\n",
    "    ops = []\n",
    "    while len(conds) > 2:\n",
    "        new_conds = []\n",
    "        for i in range(len(conds)//2):\n",
    "            ops.append((conds[i * 2], conds[i * 2 + 1], scratch[scratch_index]))\n",
    "            new_conds.append(scratch[scratch_index])\n",
    "            scratch_index += 1\n",
    "        if len(conds) & 1:\n",
    "            new_conds.append(conds[-1])\n",
    "        conds = new_conds\n",
    "    for op in ops:\n",
    "        qc.ccx(op[0], op[1], op[2])\n",
    "    if do_cz:\n",
    "        qc.h(target)\n",
    "    if len(conds) == 0:\n",
    "        qc.x(target)\n",
    "    elif len(conds) == 1:\n",
    "        qc.cx(conds[0], target)\n",
    "    else:\n",
    "        qc.ccx(conds[0], conds[1], target)\n",
    "    if do_cz:\n",
    "        qc.h(target)\n",
    "    ops.reverse()\n",
    "    for op in ops:\n",
    "        qc.ccx(op[0], op[1], op[2])\n",
    "\n",
    "main()"
   ]
  },
  {
   "cell_type": "code",
   "execution_count": 9,
   "id": "8b2f74b6-98b2-4e2f-a84e-76f6ef2ab728",
   "metadata": {},
   "outputs": [],
   "source": [
    "backend = BasicAer.get_backend('statevector_simulator')\n",
    "job = execute(qc, backend)\n",
    "result = job.result()"
   ]
  },
  {
   "cell_type": "code",
   "execution_count": 10,
   "id": "3ddaea72-5c63-45f1-923c-d29364ded4b1",
   "metadata": {},
   "outputs": [
    {
     "name": "stdout",
     "output_type": "stream",
     "text": [
      "|18> (0.191-0.462j)\n",
      "|22> (0.462-0.191j)\n",
      "|52> (0.462+0.191j)\n",
      "|56> (0.191+0.462j)\n"
     ]
    },
    {
     "data": {
      "image/png": "[encoded data removed]",
      "text/plain": [
       "<Figure size 1233.22x505.68 with 1 Axes>"
      ]
     },
     "execution_count": 10,
     "metadata": {},
     "output_type": "execute_result"
    }
   ],
   "source": [
    "outputstate = result.get_statevector(qc, decimals=3)\n",
    "for i,amp in enumerate(outputstate):\n",
    "    if abs(amp) > 0.000001:\n",
    "        print('|{}> {}'.format(i, amp))\n",
    "qc.draw()        # draw the circuit"
   ]
  }
 ],
 "metadata": {
  "kernelspec": {
   "display_name": "Qiskit v0.34.1 (ipykernel)",
   "language": "python",
   "name": "python3"
  },
  "language_info": {
   "codemirror_mode": {
    "name": "ipython",
    "version": 3
   },
   "file_extension": ".py",
   "mimetype": "text/x-python",
   "name": "python",
   "nbconvert_exporter": "python",
   "pygments_lexer": "ipython3",
   "version": "3.8.12"
  },
  "widgets": {
   "application/vnd.jupyter.widget-state+json": {
    "state": {
     "07758050def840cc88e123d7b3214737": {
      "model_module": "@jupyter-widgets/controls",
      "model_module_version": "1.5.0",
      "model_name": "DescriptionStyleModel",
      "state": {
       "description_width": ""
      }
     },
     "2454c0e05aeb44be8a49bd7f7c24b1a6": {
      "model_module": "@jupyter-widgets/controls",
      "model_module_version": "1.5.0",
      "model_name": "GridBoxModel",
      "state": {
       "children": [
        "IPY_MODEL_a95341473f924b31b3a83e5fbf220917"
       ],
       "layout": "IPY_MODEL_d9149425353a42449218c775fe287cec"
      }
     },
     "47134a4feaac4c5c8196890fb1cba408": {
      "model_module": "@jupyter-widgets/controls",
      "model_module_version": "1.5.0",
      "model_name": "HTMLModel",
      "state": {
       "layout": "IPY_MODEL_c3633ab9568e498b957808ff51b2ec8d",
       "style": "IPY_MODEL_07758050def840cc88e123d7b3214737",
       "value": "<h5>Status</h5>"
      }
     },
     "4beb6a9ce4354a23b9fccd46a6176e9c": {
      "model_module": "@jupyter-widgets/controls",
      "model_module_version": "1.5.0",
      "model_name": "HTMLModel",
      "state": {
       "layout": "IPY_MODEL_954f82ed69504bb292c87628f457e730",
       "style": "IPY_MODEL_c28205b2f21c413a8644a50fe2cf1d9e",
       "value": "<p style='font-family: IBM Plex Sans, Arial, Helvetica, sans-serif; font-size: 20px; font-weight: medium;'>Circuit Properties</p>"
      }
     },
     "69849f712a924c1fbeab1ba892501faf": {
      "model_module": "@jupyter-widgets/base",
      "model_module_version": "1.2.0",
      "model_name": "LayoutModel",
      "state": {
       "width": "70px"
      }
     },
     "7847b4a75c394827bad879dcb7e5d2cf": {
      "model_module": "@jupyter-widgets/controls",
      "model_module_version": "1.5.0",
      "model_name": "DescriptionStyleModel",
      "state": {
       "description_width": ""
      }
     },
     "79feaaf458104e32bd1133499a2d96c2": {
      "model_module": "@jupyter-widgets/controls",
      "model_module_version": "1.5.0",
      "model_name": "HTMLModel",
      "state": {
       "layout": "IPY_MODEL_f20273cdcfe64bbd8bb3c02cc9246010",
       "style": "IPY_MODEL_ded9d9ae862848eeaa0897c1612f9240",
       "value": "<h5>Backend</h5>"
      }
     },
     "8332f6be834b4a4e959dfeab3072fe8f": {
      "model_module": "@jupyter-widgets/base",
      "model_module_version": "1.2.0",
      "model_name": "LayoutModel",
      "state": {
       "grid_area": "right",
       "padding": "0px 0px 0px 0px",
       "width": "70px"
      }
     },
     "8f8ce80c36504db69412c6190f918167": {
      "model_module": "@jupyter-widgets/base",
      "model_module_version": "1.2.0",
      "model_name": "LayoutModel",
      "state": {}
     },
     "9413717ddd75430293e7c64858bda979": {
      "model_module": "@jupyter-widgets/controls",
      "model_module_version": "1.5.0",
      "model_name": "HTMLModel",
      "state": {
       "layout": "IPY_MODEL_8f8ce80c36504db69412c6190f918167",
       "style": "IPY_MODEL_ec09f6f68c6e49bf90e939cf4d7b10bc",
       "value": "<h5>Message</h5>"
      }
     },
     "954f82ed69504bb292c87628f457e730": {
      "model_module": "@jupyter-widgets/base",
      "model_module_version": "1.2.0",
      "model_name": "LayoutModel",
      "state": {
       "margin": "0px 0px 10px 0px"
      }
     },
     "97ffb674549744df8c743fa422d11b28": {
      "model_module": "@jupyter-widgets/controls",
      "model_module_version": "1.5.0",
      "model_name": "HBoxModel",
      "state": {
       "children": [
        "IPY_MODEL_bdee8b646dda49e4b64b35b21c8991ec",
        "IPY_MODEL_79feaaf458104e32bd1133499a2d96c2",
        "IPY_MODEL_47134a4feaac4c5c8196890fb1cba408",
        "IPY_MODEL_cda81f202318489289fcd0b8e8315517",
        "IPY_MODEL_9413717ddd75430293e7c64858bda979"
       ],
       "layout": "IPY_MODEL_b55864ff393a4cea9fbf0307a9b070cc"
      }
     },
     "a57ae34b33894273be3a19becca3faf2": {
      "model_module": "@jupyter-widgets/controls",
      "model_module_version": "1.5.0",
      "model_name": "ButtonStyleModel",
      "state": {}
     },
     "a95341473f924b31b3a83e5fbf220917": {
      "model_module": "@jupyter-widgets/controls",
      "model_module_version": "1.5.0",
      "model_name": "ButtonModel",
      "state": {
       "button_style": "primary",
       "description": "Clear",
       "layout": "IPY_MODEL_8332f6be834b4a4e959dfeab3072fe8f",
       "style": "IPY_MODEL_a57ae34b33894273be3a19becca3faf2"
      }
     },
     "aa8437ed7e0f40cfa516132d84feae23": {
      "model_module": "@jupyter-widgets/controls",
      "model_module_version": "1.5.0",
      "model_name": "DescriptionStyleModel",
      "state": {
       "description_width": ""
      }
     },
     "b55864ff393a4cea9fbf0307a9b070cc": {
      "model_module": "@jupyter-widgets/base",
      "model_module_version": "1.2.0",
      "model_name": "LayoutModel",
      "state": {
       "margin": "0px 0px 0px 37px",
       "width": "600px"
      }
     },
     "bdee8b646dda49e4b64b35b21c8991ec": {
      "model_module": "@jupyter-widgets/controls",
      "model_module_version": "1.5.0",
      "model_name": "HTMLModel",
      "state": {
       "layout": "IPY_MODEL_c7fd143e70ae4e469e2f921060981cf5",
       "style": "IPY_MODEL_aa8437ed7e0f40cfa516132d84feae23",
       "value": "<h5>Job ID</h5>"
      }
     },
     "c28205b2f21c413a8644a50fe2cf1d9e": {
      "model_module": "@jupyter-widgets/controls",
      "model_module_version": "1.5.0",
      "model_name": "DescriptionStyleModel",
      "state": {
       "description_width": ""
      }
     },
     "c3633ab9568e498b957808ff51b2ec8d": {
      "model_module": "@jupyter-widgets/base",
      "model_module_version": "1.2.0",
      "model_name": "LayoutModel",
      "state": {
       "width": "95px"
      }
     },
     "c7fd143e70ae4e469e2f921060981cf5": {
      "model_module": "@jupyter-widgets/base",
      "model_module_version": "1.2.0",
      "model_name": "LayoutModel",
      "state": {
       "width": "190px"
      }
     },
     "cda81f202318489289fcd0b8e8315517": {
      "model_module": "@jupyter-widgets/controls",
      "model_module_version": "1.5.0",
      "model_name": "HTMLModel",
      "state": {
       "layout": "IPY_MODEL_69849f712a924c1fbeab1ba892501faf",
       "style": "IPY_MODEL_7847b4a75c394827bad879dcb7e5d2cf",
       "value": "<h5>Queue</h5>"
      }
     },
     "d9149425353a42449218c775fe287cec": {
      "model_module": "@jupyter-widgets/base",
      "model_module_version": "1.2.0",
      "model_name": "LayoutModel",
      "state": {
       "grid_template_areas": "\n                                       \". . . . right \"\n                                        ",
       "grid_template_columns": "20% 20% 20% 20% 20%",
       "width": "100%"
      }
     },
     "ded9d9ae862848eeaa0897c1612f9240": {
      "model_module": "@jupyter-widgets/controls",
      "model_module_version": "1.5.0",
      "model_name": "DescriptionStyleModel",
      "state": {
       "description_width": ""
      }
     },
     "ec09f6f68c6e49bf90e939cf4d7b10bc": {
      "model_module": "@jupyter-widgets/controls",
      "model_module_version": "1.5.0",
      "model_name": "DescriptionStyleModel",
      "state": {
       "description_width": ""
      }
     },
     "f20273cdcfe64bbd8bb3c02cc9246010": {
      "model_module": "@jupyter-widgets/base",
      "model_module_version": "1.2.0",
      "model_name": "LayoutModel",
      "state": {
       "width": "145px"
      }
     }
    },
    "version_major": 2,
    "version_minor": 0
   }
  }
 },
 "nbformat": 4,
 "nbformat_minor": 5
}
