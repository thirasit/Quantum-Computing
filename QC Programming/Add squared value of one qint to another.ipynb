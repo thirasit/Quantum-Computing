{
 "cells": [
  {
   "cell_type": "markdown",
   "id": "3fc772a7-102a-4d9e-8881-6af0070bdc2b",
   "metadata": {},
   "source": [
    "# **Add squared value of one qint to another**"
   ]
  },
  {
   "cell_type": "code",
   "execution_count": 1,
   "id": "c094e85d-c378-4ab7-aacd-8ea872f46fa3",
   "metadata": {},
   "outputs": [],
   "source": [
    "import numpy as np\n",
    "\n",
    "# Importing standard Qiskit libraries\n",
    "from qiskit import QuantumCircuit, transpile, Aer, IBMQ, QuantumRegister, ClassicalRegister, execute, BasicAer\n",
    "from qiskit.tools.jupyter import *\n",
    "from qiskit.visualization import *\n",
    "from ibm_quantum_widgets import *\n",
    "from qiskit.providers.aer import QasmSimulator\n",
    "\n",
    "# Loading your IBM Quantum account(s)\n",
    "provider = IBMQ.load_account()"
   ]
  },
  {
   "cell_type": "code",
   "execution_count": 2,
   "id": "5e8d8bd8-7bf4-4541-8c00-abd34edad4ae",
   "metadata": {},
   "outputs": [],
   "source": [
    "import math\n",
    "%matplotlib inline"
   ]
  },
  {
   "cell_type": "code",
   "execution_count": 3,
   "id": "9af45e18-33fa-41c8-ae09-d799e60f7c73",
   "metadata": {},
   "outputs": [],
   "source": [
    "# Set up the program\n",
    "a = QuantumRegister(4, name='a')\n",
    "b = QuantumRegister(2, name='b')\n",
    "scratch = QuantumRegister(2, name='scratch')\n",
    "qc = QuantumCircuit(a, b, scratch)"
   ]
  },
  {
   "cell_type": "code",
   "execution_count": 4,
   "id": "d0d3c686-3fdd-4d57-aeec-d444c49b7de8",
   "metadata": {},
   "outputs": [],
   "source": [
    "def main():\n",
    "    ## initialization\n",
    "    qc.x(a[0])\n",
    "    qc.h(a[2])\n",
    "    qc.rz(math.radians(45), a[2])\n",
    "    qc.x(b[0])\n",
    "    qc.h(b[1])\n",
    "    qc.rz(math.radians(90), b[1])\n",
    "    qc.barrier()\n",
    "    \n",
    "    ## Increment\n",
    "    add_squared_qint(a, b)"
   ]
  },
  {
   "cell_type": "code",
   "execution_count": 5,
   "id": "37fdbef4-474d-42b0-97e4-579d39a80199",
   "metadata": {},
   "outputs": [],
   "source": [
    "## Some utility functions\n",
    "\n",
    "def add_squared_qint(qdest, rhs, condition_qubits=None):\n",
    "    if condition_qubits is None:\n",
    "        condition_qubits = []\n",
    "    for bit in range(len(rhs)):\n",
    "        slideMask = list(set(condition_qubits + [rhs[bit]]))\n",
    "        add_qint(qdest, rhs, slideMask, bit);"
   ]
  },
  {
   "cell_type": "code",
   "execution_count": 6,
   "id": "b63eee8f-60c0-48ba-955d-61ca234c337a",
   "metadata": {},
   "outputs": [],
   "source": [
    "def add_qint(qdest, rhs, condition_qubits=None, shiftRHS=0):\n",
    "    if condition_qubits is None:\n",
    "        condition_qubits = []\n",
    "    for bit in range(len(rhs)):\n",
    "        add_int(qdest, 1 << bit, list(set([rhs[bit]] + condition_qubits)), shiftRHS)"
   ]
  },
  {
   "cell_type": "code",
   "execution_count": 7,
   "id": "850e752a-3430-4921-ad6d-ee4f4a5c6e95",
   "metadata": {},
   "outputs": [],
   "source": [
    "def add_int(qdest, rhs, condition_qubits=None, shiftRHS=0):\n",
    "    if condition_qubits is None:\n",
    "        condition_qubits = []\n",
    "    reverse_to_subtract = False\n",
    "    if rhs == 0:\n",
    "        return\n",
    "    elif rhs < 0:\n",
    "        rhs = -rhs\n",
    "        reverse_to_subtract = True\n",
    "    rhs <<= shiftRHS\n",
    "    ops = []\n",
    "    add_val = int(rhs)\n",
    "    condition_mask = (1 << len(qdest)) - 1\n",
    "\n",
    "    add_val_mask = 1\n",
    "    while add_val_mask <= add_val:\n",
    "        cmask = condition_mask & ~(add_val_mask - 1)\n",
    "        if add_val_mask & add_val:\n",
    "            add_shift_mask = 1 << (len(qdest) - 1)\n",
    "            while add_shift_mask >= add_val_mask:\n",
    "                cmask &= ~add_shift_mask\n",
    "                ops.append((add_shift_mask, cmask))\n",
    "                add_shift_mask >>= 1\n",
    "        condition_mask &= ~add_val_mask\n",
    "        add_val_mask <<= 1\n",
    "    if reverse_to_subtract:\n",
    "        ops.reverse()\n",
    "    for inst in ops:\n",
    "        op_qubits = [x for x in condition_qubits]\n",
    "        mask = 1\n",
    "        for i in range(len(qdest)):\n",
    "            if inst[1] & (1 << i):\n",
    "                op_qubits.append(qdest[i])\n",
    "        for i in range(len(qdest)):\n",
    "            if inst[0] & (1 << i):\n",
    "                op_qubits.append(qdest[i])\n",
    "        multi_cx(op_qubits)"
   ]
  },
  {
   "cell_type": "code",
   "execution_count": 8,
   "id": "77529b2a-b8d3-49a7-a11c-a25b3bb61765",
   "metadata": {},
   "outputs": [],
   "source": [
    "def multi_cz(qubits):\n",
    "    ## This will perform a CCCCCZ on as many qubits as we want,\n",
    "    ## as long as we have enough scratch qubits\n",
    "    multi_cx(qubits, do_cz=True)"
   ]
  },
  {
   "cell_type": "code",
   "execution_count": 9,
   "id": "110bebc9-9e70-498c-8630-c07cc47841a7",
   "metadata": {},
   "outputs": [],
   "source": [
    "def multi_cx(qubits, do_cz=False):\n",
    "    ## This will perform a CCCCCX with as many conditions as we want,\n",
    "    ## as long as we have enough scratch qubits\n",
    "    ## The last qubit in the list is the target.\n",
    "    target = qubits[-1]\n",
    "    conds = qubits[:-1]\n",
    "    scratch_index = 0\n",
    "    ops = []\n",
    "    while len(conds) > 2:\n",
    "        new_conds = []\n",
    "        for i in range(len(conds)//2):\n",
    "            ops.append((conds[i * 2], conds[i * 2 + 1], scratch[scratch_index]))\n",
    "            new_conds.append(scratch[scratch_index])\n",
    "            scratch_index += 1\n",
    "        if len(conds) & 1:\n",
    "            new_conds.append(conds[-1])\n",
    "        conds = new_conds\n",
    "    for op in ops:\n",
    "        qc.ccx(op[0], op[1], op[2])\n",
    "    if do_cz:\n",
    "        qc.h(target)\n",
    "    if len(conds) == 0:\n",
    "        qc.x(target)\n",
    "    elif len(conds) == 1:\n",
    "        qc.cx(conds[0], target)\n",
    "    else:\n",
    "        qc.ccx(conds[0], conds[1], target)\n",
    "    if do_cz:\n",
    "        qc.h(target)\n",
    "    ops.reverse()\n",
    "    for op in ops:\n",
    "        qc.ccx(op[0], op[1], op[2])\n",
    "\n",
    "main()"
   ]
  },
  {
   "cell_type": "code",
   "execution_count": 10,
   "id": "5c924cff-cd19-4930-ba03-46ea99afa74c",
   "metadata": {},
   "outputs": [],
   "source": [
    "backend = BasicAer.get_backend('statevector_simulator')\n",
    "job = execute(qc, backend)\n",
    "result = job.result()"
   ]
  },
  {
   "cell_type": "code",
   "execution_count": 11,
   "id": "92eb1343-cdc0-4705-91b2-fbd968701765",
   "metadata": {},
   "outputs": [
    {
     "name": "stdout",
     "output_type": "stream",
     "text": [
      "|18> (0.191-0.462j)\n",
      "|22> (0.462-0.191j)\n",
      "|58> (0.462+0.191j)\n",
      "|62> (0.191+0.462j)\n"
     ]
    },
    {
     "data": {
      "image/png": "[encoded data removed]",
      "text/plain": [
       "<Figure size 1654.62x1047.48 with 1 Axes>"
      ]
     },
     "execution_count": 11,
     "metadata": {},
     "output_type": "execute_result"
    }
   ],
   "source": [
    "outputstate = result.get_statevector(qc, decimals=3)\n",
    "for i,amp in enumerate(outputstate):\n",
    "    if abs(amp) > 0.000001:\n",
    "        print('|{}> {}'.format(i, amp))\n",
    "qc.draw()        # draw the circuit"
   ]
  }
 ],
 "metadata": {
  "kernelspec": {
   "display_name": "Qiskit v0.34.1 (ipykernel)",
   "language": "python",
   "name": "python3"
  },
  "language_info": {
   "codemirror_mode": {
    "name": "ipython",
    "version": 3
   },
   "file_extension": ".py",
   "mimetype": "text/x-python",
   "name": "python",
   "nbconvert_exporter": "python",
   "pygments_lexer": "ipython3",
   "version": "3.8.12"
  },
  "widgets": {
   "application/vnd.jupyter.widget-state+json": {
    "state": {
     "029789589cf04be09162a4ceecfdcadc": {
      "model_module": "@jupyter-widgets/controls",
      "model_module_version": "1.5.0",
      "model_name": "DescriptionStyleModel",
      "state": {
       "description_width": ""
      }
     },
     "04fa32bd397a4f7a8b00c901a4a100f0": {
      "model_module": "@jupyter-widgets/controls",
      "model_module_version": "1.5.0",
      "model_name": "HTMLModel",
      "state": {
       "layout": "IPY_MODEL_9140ca2721f249b3a1032717944b3cfd",
       "style": "IPY_MODEL_029789589cf04be09162a4ceecfdcadc",
       "value": "<h5>Status</h5>"
      }
     },
     "2d0a4b5714d24c4baa45f527dc073864": {
      "model_module": "@jupyter-widgets/controls",
      "model_module_version": "1.5.0",
      "model_name": "GridBoxModel",
      "state": {
       "children": [
        "IPY_MODEL_dfa3677b10e243cd9693a46e809bbb0b"
       ],
       "layout": "IPY_MODEL_387c4f02acdb4d669111b029947a312a"
      }
     },
     "30dc40edc6464409b7ca1be4173e856a": {
      "model_module": "@jupyter-widgets/base",
      "model_module_version": "1.2.0",
      "model_name": "LayoutModel",
      "state": {
       "margin": "0px 0px 10px 0px"
      }
     },
     "3587c187fe454480aebeac25d11f4c40": {
      "model_module": "@jupyter-widgets/base",
      "model_module_version": "1.2.0",
      "model_name": "LayoutModel",
      "state": {
       "width": "70px"
      }
     },
     "387c4f02acdb4d669111b029947a312a": {
      "model_module": "@jupyter-widgets/base",
      "model_module_version": "1.2.0",
      "model_name": "LayoutModel",
      "state": {
       "grid_template_areas": "\n                                       \". . . . right \"\n                                        ",
       "grid_template_columns": "20% 20% 20% 20% 20%",
       "width": "100%"
      }
     },
     "396c16e095a24d75aead9f053d406461": {
      "model_module": "@jupyter-widgets/controls",
      "model_module_version": "1.5.0",
      "model_name": "HTMLModel",
      "state": {
       "layout": "IPY_MODEL_3587c187fe454480aebeac25d11f4c40",
       "style": "IPY_MODEL_c04707ce9de94ac5b25d52af3e38adbb",
       "value": "<h5>Queue</h5>"
      }
     },
     "4fdafab558264644be5debe342dcfed6": {
      "model_module": "@jupyter-widgets/controls",
      "model_module_version": "1.5.0",
      "model_name": "HTMLModel",
      "state": {
       "layout": "IPY_MODEL_cd256b6ff51b4b8fa3cee58aee3f95c0",
       "style": "IPY_MODEL_f4b1a024e0aa4ab5bc9b02a68e7ecbfc",
       "value": "<h5>Backend</h5>"
      }
     },
     "62adeded31a147a0bb00f1caf6e627f5": {
      "model_module": "@jupyter-widgets/controls",
      "model_module_version": "1.5.0",
      "model_name": "HTMLModel",
      "state": {
       "layout": "IPY_MODEL_30dc40edc6464409b7ca1be4173e856a",
       "style": "IPY_MODEL_f963f754f6a3497daac13309c5829c54",
       "value": "<p style='font-family: IBM Plex Sans, Arial, Helvetica, sans-serif; font-size: 20px; font-weight: medium;'>Circuit Properties</p>"
      }
     },
     "6536357f8a4e44859c43f7d834ba36f1": {
      "model_module": "@jupyter-widgets/controls",
      "model_module_version": "1.5.0",
      "model_name": "HBoxModel",
      "state": {
       "children": [
        "IPY_MODEL_9e33f6ad1a0b4aa69195c6eebbfc977e",
        "IPY_MODEL_4fdafab558264644be5debe342dcfed6",
        "IPY_MODEL_04fa32bd397a4f7a8b00c901a4a100f0",
        "IPY_MODEL_396c16e095a24d75aead9f053d406461",
        "IPY_MODEL_fd6180bb7f5e495b91408f5ed18d1ba7"
       ],
       "layout": "IPY_MODEL_8aee8e527a1c4df690133c012fb317bb"
      }
     },
     "657d4c96428148e08d60a6cca0660f11": {
      "model_module": "@jupyter-widgets/base",
      "model_module_version": "1.2.0",
      "model_name": "LayoutModel",
      "state": {}
     },
     "673bb4c8d7164c9eb6a8c211882d926d": {
      "model_module": "@jupyter-widgets/controls",
      "model_module_version": "1.5.0",
      "model_name": "DescriptionStyleModel",
      "state": {
       "description_width": ""
      }
     },
     "745e957dfb844cb384294649a6f76ec2": {
      "model_module": "@jupyter-widgets/controls",
      "model_module_version": "1.5.0",
      "model_name": "DescriptionStyleModel",
      "state": {
       "description_width": ""
      }
     },
     "8aee8e527a1c4df690133c012fb317bb": {
      "model_module": "@jupyter-widgets/base",
      "model_module_version": "1.2.0",
      "model_name": "LayoutModel",
      "state": {
       "margin": "0px 0px 0px 37px",
       "width": "600px"
      }
     },
     "9140ca2721f249b3a1032717944b3cfd": {
      "model_module": "@jupyter-widgets/base",
      "model_module_version": "1.2.0",
      "model_name": "LayoutModel",
      "state": {
       "width": "95px"
      }
     },
     "9e33f6ad1a0b4aa69195c6eebbfc977e": {
      "model_module": "@jupyter-widgets/controls",
      "model_module_version": "1.5.0",
      "model_name": "HTMLModel",
      "state": {
       "layout": "IPY_MODEL_e8a0eff0a59542e8bfb142a832b7f0f1",
       "style": "IPY_MODEL_745e957dfb844cb384294649a6f76ec2",
       "value": "<h5>Job ID</h5>"
      }
     },
     "b415de98180249f7b138803a7c6aa5d7": {
      "model_module": "@jupyter-widgets/controls",
      "model_module_version": "1.5.0",
      "model_name": "ButtonStyleModel",
      "state": {}
     },
     "c04707ce9de94ac5b25d52af3e38adbb": {
      "model_module": "@jupyter-widgets/controls",
      "model_module_version": "1.5.0",
      "model_name": "DescriptionStyleModel",
      "state": {
       "description_width": ""
      }
     },
     "cd256b6ff51b4b8fa3cee58aee3f95c0": {
      "model_module": "@jupyter-widgets/base",
      "model_module_version": "1.2.0",
      "model_name": "LayoutModel",
      "state": {
       "width": "145px"
      }
     },
     "d99397d167c94ba7a1f75dda104c314f": {
      "model_module": "@jupyter-widgets/base",
      "model_module_version": "1.2.0",
      "model_name": "LayoutModel",
      "state": {
       "grid_area": "right",
       "padding": "0px 0px 0px 0px",
       "width": "70px"
      }
     },
     "dfa3677b10e243cd9693a46e809bbb0b": {
      "model_module": "@jupyter-widgets/controls",
      "model_module_version": "1.5.0",
      "model_name": "ButtonModel",
      "state": {
       "button_style": "primary",
       "description": "Clear",
       "layout": "IPY_MODEL_d99397d167c94ba7a1f75dda104c314f",
       "style": "IPY_MODEL_b415de98180249f7b138803a7c6aa5d7"
      }
     },
     "e8a0eff0a59542e8bfb142a832b7f0f1": {
      "model_module": "@jupyter-widgets/base",
      "model_module_version": "1.2.0",
      "model_name": "LayoutModel",
      "state": {
       "width": "190px"
      }
     },
     "f4b1a024e0aa4ab5bc9b02a68e7ecbfc": {
      "model_module": "@jupyter-widgets/controls",
      "model_module_version": "1.5.0",
      "model_name": "DescriptionStyleModel",
      "state": {
       "description_width": ""
      }
     },
     "f963f754f6a3497daac13309c5829c54": {
      "model_module": "@jupyter-widgets/controls",
      "model_module_version": "1.5.0",
      "model_name": "DescriptionStyleModel",
      "state": {
       "description_width": ""
      }
     },
     "fd6180bb7f5e495b91408f5ed18d1ba7": {
      "model_module": "@jupyter-widgets/controls",
      "model_module_version": "1.5.0",
      "model_name": "HTMLModel",
      "state": {
       "layout": "IPY_MODEL_657d4c96428148e08d60a6cca0660f11",
       "style": "IPY_MODEL_673bb4c8d7164c9eb6a8c211882d926d",
       "value": "<h5>Message</h5>"
      }
     }
    },
    "version_major": 2,
    "version_minor": 0
   }
  }
 },
 "nbformat": 4,
 "nbformat_minor": 5
}
