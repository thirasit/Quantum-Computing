{
 "cells": [
  {
   "cell_type": "markdown",
   "id": "ac701db2-2cbe-4ebe-abac-a722fe2c409d",
   "metadata": {},
   "source": [
    "# **QFT frequency manipulation**"
   ]
  },
  {
   "cell_type": "code",
   "execution_count": 1,
   "id": "36b9bbf2-f441-4788-a1e8-5180f65beae8",
   "metadata": {},
   "outputs": [
    {
     "name": "stderr",
     "output_type": "stream",
     "text": [
      "<frozen importlib._bootstrap>:219: RuntimeWarning: scipy._lib.messagestream.MessageStream size changed, may indicate binary incompatibility. Expected 56 from C header, got 64 from PyObject\n"
     ]
    }
   ],
   "source": [
    "import numpy as np\n",
    "\n",
    "# Importing standard Qiskit libraries\n",
    "from qiskit import QuantumCircuit, transpile, Aer, IBMQ, QuantumRegister, ClassicalRegister, execute, BasicAer\n",
    "from qiskit.tools.jupyter import *\n",
    "from qiskit.visualization import *\n",
    "from ibm_quantum_widgets import *\n",
    "from qiskit.providers.aer import QasmSimulator\n",
    "\n",
    "# Loading your IBM Quantum account(s)\n",
    "provider = IBMQ.load_account()"
   ]
  },
  {
   "cell_type": "code",
   "execution_count": 2,
   "id": "48019625-5cd5-434b-a96b-326f6fb84415",
   "metadata": {},
   "outputs": [],
   "source": [
    "import math\n",
    "%matplotlib inline"
   ]
  },
  {
   "cell_type": "code",
   "execution_count": 3,
   "id": "369220ec-b638-47e4-9ed7-6b5cca2424aa",
   "metadata": {},
   "outputs": [],
   "source": [
    "# Set up the program\n",
    "signal = QuantumRegister(4, name='signal')\n",
    "scratch = QuantumRegister(1, name='scratch')\n",
    "qc = QuantumCircuit(signal, scratch)"
   ]
  },
  {
   "cell_type": "code",
   "execution_count": 4,
   "id": "166a4a8e-2e7d-44fa-92bd-69c289e48cb2",
   "metadata": {},
   "outputs": [],
   "source": [
    "def main():\n",
    "    ## Prepare a complex sinuisoidal signal\n",
    "    freq = 2;\n",
    "    for i in range(len(signal)):\n",
    "        if (1 << i) & freq:\n",
    "            qc.x(signal[i]);\n",
    "    qc.barrier()\n",
    "    invQFT(signal)\n",
    "\n",
    "    ## Move to frequency space with QFT\n",
    "    qc.barrier()\n",
    "    QFT(signal)\n",
    "\n",
    "    ## Increase the frequency of signal\n",
    "    qc.barrier()\n",
    "    add_int(signal, 1)\n",
    "\n",
    "    # Move back from frequency space\n",
    "    qc.barrier()\n",
    "    invQFT(signal)"
   ]
  },
  {
   "cell_type": "code",
   "execution_count": 5,
   "id": "4cbbeaa6-3ad3-40a8-9d0b-aeff9f546878",
   "metadata": {},
   "outputs": [],
   "source": [
    "def QFT(qreg):\n",
    "    ## This QFT implementation is adapted from IBM's sample:\n",
    "    ##   https://github.com/Qiskit/qiskit-terra/blob/master/examples/python/qft.py\n",
    "    ## ...with a few adjustments to match the book QFT implementation exactly\n",
    "    n = len(qreg)\n",
    "    for j in range(n):\n",
    "        for k in range(j):\n",
    "            qc.cu1(-math.pi/float(2**(j-k)), qreg[n-j-1], qreg[n-k-1])\n",
    "        qc.h(qreg[n-j-1])\n",
    "    # Now finish the QFT by reversing the order of the qubits\n",
    "    for j in range(n//2):\n",
    "        qc.swap(qreg[j], qreg[n-j-1])"
   ]
  },
  {
   "cell_type": "code",
   "execution_count": 6,
   "id": "1eca4054-96af-42e0-82cd-b2dbc8846259",
   "metadata": {},
   "outputs": [],
   "source": [
    "def invQFT(qreg):\n",
    "    ## This QFT implementation is adapted from IBM's sample:\n",
    "    ##   https://github.com/Qiskit/qiskit-terra/blob/master/examples/python/qft.py\n",
    "    ## ...with a few adjustments to match the book QFT implementation exactly\n",
    "    n = len(qreg)\n",
    "    # Start the inverse QFT by reversing the order of the qubits\n",
    "    for j in range(n//2):\n",
    "        qc.swap(qreg[j], qreg[n-j-1])\n",
    "\n",
    "    n = len(qreg)\n",
    "    for j in range(n):\n",
    "        for k in range(j):\n",
    "            qc.cu1(-math.pi/float(2**(j-k)), qreg[j], qreg[k])\n",
    "        qc.h(qreg[j])"
   ]
  },
  {
   "cell_type": "code",
   "execution_count": 7,
   "id": "f1ca55de-9154-4592-852e-8b9660f492a9",
   "metadata": {},
   "outputs": [],
   "source": [
    "def add_int(qdest, rhs):\n",
    "    reverse_to_subtract = False\n",
    "    if rhs == 0:\n",
    "        return\n",
    "    elif rhs < 0:\n",
    "        rhs = -rhs\n",
    "        reverse_to_subtract = True\n",
    "    ops = []\n",
    "    add_val = int(rhs)\n",
    "    condition_mask = (1 << len(qdest)) - 1\n",
    "\n",
    "    add_val_mask = 1\n",
    "    while add_val_mask <= add_val:\n",
    "        cmask = condition_mask & ~(add_val_mask - 1)\n",
    "        if add_val_mask & add_val:\n",
    "            add_shift_mask = 1 << (len(qdest) - 1)\n",
    "            while add_shift_mask >= add_val_mask:\n",
    "                cmask &= ~add_shift_mask\n",
    "                ops.append((add_shift_mask, cmask))\n",
    "                add_shift_mask >>= 1\n",
    "        condition_mask &= ~add_val_mask\n",
    "        add_val_mask <<= 1\n",
    "    if reverse_to_subtract:\n",
    "        ops.reverse()\n",
    "    for inst in ops:\n",
    "        op_qubits = []\n",
    "        mask = 1\n",
    "        for i in range(len(qdest)):\n",
    "            if inst[1] & (1 << i):\n",
    "                op_qubits.append(qdest[i])\n",
    "        for i in range(len(qdest)):\n",
    "            if inst[0] & (1 << i):\n",
    "                op_qubits.append(qdest[i])\n",
    "        multi_cx(op_qubits)"
   ]
  },
  {
   "cell_type": "code",
   "execution_count": 8,
   "id": "36e4d36c-c776-40c4-aeb3-f570f369ccee",
   "metadata": {},
   "outputs": [],
   "source": [
    "def multi_cz(qubits):\n",
    "    ## This will perform a CCCCCZ on as many qubits as we want,\n",
    "    ## as long as we have enough scratch qubits\n",
    "    multi_cx(qubits, do_cz=True)"
   ]
  },
  {
   "cell_type": "code",
   "execution_count": 9,
   "id": "516d664e-b94d-4795-b1e9-ee424294794c",
   "metadata": {},
   "outputs": [
    {
     "name": "stderr",
     "output_type": "stream",
     "text": [
      "/tmp/ipykernel_206/286647986.py:13: DeprecationWarning: The QuantumCircuit.cu1 method is deprecated as of 0.16.0. It will be removed no earlier than 3 months after the release date. You should use the QuantumCircuit.cp method instead, which acts identically.\n",
      "  qc.cu1(-math.pi/float(2**(j-k)), qreg[j], qreg[k])\n",
      "/tmp/ipykernel_206/3059954355.py:8: DeprecationWarning: The QuantumCircuit.cu1 method is deprecated as of 0.16.0. It will be removed no earlier than 3 months after the release date. You should use the QuantumCircuit.cp method instead, which acts identically.\n",
      "  qc.cu1(-math.pi/float(2**(j-k)), qreg[n-j-1], qreg[n-k-1])\n"
     ]
    }
   ],
   "source": [
    "def multi_cx(qubits, do_cz=False):\n",
    "    ## This will perform a CCCCCX with as many conditions as we want,\n",
    "    ## as long as we have enough scratch qubits\n",
    "    ## The last qubit in the list is the target.\n",
    "    target = qubits[-1]\n",
    "    conds = qubits[:-1]\n",
    "    scratch_index = 0\n",
    "    ops = []\n",
    "    while len(conds) > 2:\n",
    "        new_conds = []\n",
    "        for i in range(len(conds)//2):\n",
    "            ops.append((conds[i * 2], conds[i * 2 + 1], scratch[scratch_index]))\n",
    "            new_conds.append(scratch[scratch_index])\n",
    "            scratch_index += 1\n",
    "        if len(conds) & 1:\n",
    "            new_conds.append(conds[-1])\n",
    "        conds = new_conds\n",
    "    for op in ops:\n",
    "        qc.ccx(op[0], op[1], op[2])\n",
    "    if do_cz:\n",
    "        qc.h(target)\n",
    "    if len(conds) == 0:\n",
    "        qc.x(target)\n",
    "    elif len(conds) == 1:\n",
    "        qc.cx(conds[0], target)\n",
    "    else:\n",
    "        qc.ccx(conds[0], conds[1], target)\n",
    "    if do_cz:\n",
    "        qc.h(target)\n",
    "    ops.reverse()\n",
    "    for op in ops:\n",
    "        qc.ccx(op[0], op[1], op[2])\n",
    "\n",
    "main()"
   ]
  },
  {
   "cell_type": "code",
   "execution_count": 10,
   "id": "9a24aba4-1a28-4d47-aa8c-fbe46bbaf1f0",
   "metadata": {},
   "outputs": [],
   "source": [
    "backend = BasicAer.get_backend('statevector_simulator')\n",
    "job = execute(qc, backend)\n",
    "result = job.result()"
   ]
  },
  {
   "cell_type": "code",
   "execution_count": 11,
   "id": "3c7e7ec3-628c-4040-9be2-5261c5ab69a6",
   "metadata": {},
   "outputs": [
    {
     "name": "stdout",
     "output_type": "stream",
     "text": [
      "|0> (0.25-0j) probability = 6.25%\n",
      "|1> (0.231+0.096j) probability = 6.2577%\n",
      "|2> (0.177+0.177j) probability = 6.2658%\n",
      "|3> (0.096+0.231j) probability = 6.2577%\n",
      "|4> 0.25j probability = 6.25%\n",
      "|5> (-0.096+0.231j) probability = 6.2577%\n",
      "|6> (-0.177+0.177j) probability = 6.2658%\n",
      "|7> (-0.231+0.096j) probability = 6.2577%\n",
      "|8> (-0.25+0j) probability = 6.25%\n",
      "|9> (-0.231-0.096j) probability = 6.2577%\n",
      "|10> (-0.177-0.177j) probability = 6.2658%\n",
      "|11> (-0.096-0.231j) probability = 6.2577%\n",
      "|12> (-0-0.25j) probability = 6.25%\n",
      "|13> (0.096-0.231j) probability = 6.2577%\n",
      "|14> (0.177-0.177j) probability = 6.2658%\n",
      "|15> (0.231-0.096j) probability = 6.2577%\n"
     ]
    },
    {
     "data": {
      "image/png": "[encoded data removed]",
      "text/plain": [
       "<Figure size 1641.5x1047.48 with 1 Axes>"
      ]
     },
     "execution_count": 11,
     "metadata": {},
     "output_type": "execute_result"
    }
   ],
   "source": [
    "outputstate = result.get_statevector(qc, decimals=3)\n",
    "for i,amp in enumerate(outputstate):\n",
    "    if abs(amp) > 0.000001:\n",
    "        prob = abs(amp) * abs(amp)\n",
    "        print('|{}> {} probability = {}%'.format(i, amp, round(prob * 100, 5)))\n",
    "qc.draw()        # draw the circuit"
   ]
  }
 ],
 "metadata": {
  "kernelspec": {
   "display_name": "Qiskit v0.34.2 (ipykernel)",
   "language": "python",
   "name": "python3"
  },
  "language_info": {
   "codemirror_mode": {
    "name": "ipython",
    "version": 3
   },
   "file_extension": ".py",
   "mimetype": "text/x-python",
   "name": "python",
   "nbconvert_exporter": "python",
   "pygments_lexer": "ipython3",
   "version": "3.8.12"
  },
  "widgets": {
   "application/vnd.jupyter.widget-state+json": {
    "state": {
     "0dd43d76a73540a18bcd96a64a15f8a2": {
      "model_module": "@jupyter-widgets/controls",
      "model_module_version": "1.5.0",
      "model_name": "GridBoxModel",
      "state": {
       "children": [
        "IPY_MODEL_db97d482b71a4a778a1617ae82f760b0"
       ],
       "layout": "IPY_MODEL_d444b01dc15e4978b2aaa647eb0e7248"
      }
     },
     "2379770d1460489cb9f31b3f7ae9ef30": {
      "model_module": "@jupyter-widgets/controls",
      "model_module_version": "1.5.0",
      "model_name": "DescriptionStyleModel",
      "state": {
       "description_width": ""
      }
     },
     "2e0ecc2ea0db41d9bcba31ab68629ca3": {
      "model_module": "@jupyter-widgets/controls",
      "model_module_version": "1.5.0",
      "model_name": "DescriptionStyleModel",
      "state": {
       "description_width": ""
      }
     },
     "42431a041a4b4b6fa60b7fc3dccf66c6": {
      "model_module": "@jupyter-widgets/base",
      "model_module_version": "1.2.0",
      "model_name": "LayoutModel",
      "state": {}
     },
     "4b154f0ae0a64fa7a8a247196eea3938": {
      "model_module": "@jupyter-widgets/controls",
      "model_module_version": "1.5.0",
      "model_name": "HTMLModel",
      "state": {
       "layout": "IPY_MODEL_b568bca7b7e14e39a417a831caaa2ca2",
       "style": "IPY_MODEL_77d296d613fa4ceabae453d7f8af90b0",
       "value": "<h5>Status</h5>"
      }
     },
     "4baf5a79d78344dc9dd47915a6d0089b": {
      "model_module": "@jupyter-widgets/controls",
      "model_module_version": "1.5.0",
      "model_name": "HTMLModel",
      "state": {
       "layout": "IPY_MODEL_faf902e665f641b8b54247e592fbdd9b",
       "style": "IPY_MODEL_2379770d1460489cb9f31b3f7ae9ef30",
       "value": "<p style='font-family: IBM Plex Sans, Arial, Helvetica, sans-serif; font-size: 20px; font-weight: medium;'>Circuit Properties</p>"
      }
     },
     "7413431d28db4d059715bf6ad4db0a54": {
      "model_module": "@jupyter-widgets/base",
      "model_module_version": "1.2.0",
      "model_name": "LayoutModel",
      "state": {
       "width": "145px"
      }
     },
     "74f66fb9b9214cca8080fafe566b27c3": {
      "model_module": "@jupyter-widgets/controls",
      "model_module_version": "1.5.0",
      "model_name": "HTMLModel",
      "state": {
       "layout": "IPY_MODEL_7bff3e99f3784061ab1eec1af349881e",
       "style": "IPY_MODEL_b563603586164067a6ff17984ba403b7",
       "value": "<h5>Queue</h5>"
      }
     },
     "77d296d613fa4ceabae453d7f8af90b0": {
      "model_module": "@jupyter-widgets/controls",
      "model_module_version": "1.5.0",
      "model_name": "DescriptionStyleModel",
      "state": {
       "description_width": ""
      }
     },
     "7bff3e99f3784061ab1eec1af349881e": {
      "model_module": "@jupyter-widgets/base",
      "model_module_version": "1.2.0",
      "model_name": "LayoutModel",
      "state": {
       "width": "70px"
      }
     },
     "82789b8d40b84fa8860a1f0e870b344e": {
      "model_module": "@jupyter-widgets/controls",
      "model_module_version": "1.5.0",
      "model_name": "DescriptionStyleModel",
      "state": {
       "description_width": ""
      }
     },
     "91487e0fbe784c8a864dbd24025f3f97": {
      "model_module": "@jupyter-widgets/controls",
      "model_module_version": "1.5.0",
      "model_name": "ButtonStyleModel",
      "state": {}
     },
     "942b468d514844259bfd4cc1ff504bde": {
      "model_module": "@jupyter-widgets/controls",
      "model_module_version": "1.5.0",
      "model_name": "HTMLModel",
      "state": {
       "layout": "IPY_MODEL_42431a041a4b4b6fa60b7fc3dccf66c6",
       "style": "IPY_MODEL_82789b8d40b84fa8860a1f0e870b344e",
       "value": "<h5>Message</h5>"
      }
     },
     "99d9db5076974dc7ae1796b84ea8d716": {
      "model_module": "@jupyter-widgets/controls",
      "model_module_version": "1.5.0",
      "model_name": "HTMLModel",
      "state": {
       "layout": "IPY_MODEL_abb8833d400c41ff96ab2b22eadc9ba9",
       "style": "IPY_MODEL_2e0ecc2ea0db41d9bcba31ab68629ca3",
       "value": "<h5>Job ID</h5>"
      }
     },
     "9c6f05ba76494797aba9766b6e5cb07c": {
      "model_module": "@jupyter-widgets/base",
      "model_module_version": "1.2.0",
      "model_name": "LayoutModel",
      "state": {
       "margin": "0px 0px 0px 37px",
       "width": "600px"
      }
     },
     "abb8833d400c41ff96ab2b22eadc9ba9": {
      "model_module": "@jupyter-widgets/base",
      "model_module_version": "1.2.0",
      "model_name": "LayoutModel",
      "state": {
       "width": "190px"
      }
     },
     "b2b79bf8e0a04947ac473f68be3671f4": {
      "model_module": "@jupyter-widgets/controls",
      "model_module_version": "1.5.0",
      "model_name": "HBoxModel",
      "state": {
       "children": [
        "IPY_MODEL_99d9db5076974dc7ae1796b84ea8d716",
        "IPY_MODEL_da8d84102a764e40b95f174ed13d5a9b",
        "IPY_MODEL_4b154f0ae0a64fa7a8a247196eea3938",
        "IPY_MODEL_74f66fb9b9214cca8080fafe566b27c3",
        "IPY_MODEL_942b468d514844259bfd4cc1ff504bde"
       ],
       "layout": "IPY_MODEL_9c6f05ba76494797aba9766b6e5cb07c"
      }
     },
     "b4776733dd9e47a0a670312c85a3b3d6": {
      "model_module": "@jupyter-widgets/base",
      "model_module_version": "1.2.0",
      "model_name": "LayoutModel",
      "state": {
       "grid_area": "right",
       "padding": "0px 0px 0px 0px",
       "width": "70px"
      }
     },
     "b563603586164067a6ff17984ba403b7": {
      "model_module": "@jupyter-widgets/controls",
      "model_module_version": "1.5.0",
      "model_name": "DescriptionStyleModel",
      "state": {
       "description_width": ""
      }
     },
     "b568bca7b7e14e39a417a831caaa2ca2": {
      "model_module": "@jupyter-widgets/base",
      "model_module_version": "1.2.0",
      "model_name": "LayoutModel",
      "state": {
       "width": "95px"
      }
     },
     "b7b45b285c304e68a1dfef688afb5d6c": {
      "model_module": "@jupyter-widgets/controls",
      "model_module_version": "1.5.0",
      "model_name": "DescriptionStyleModel",
      "state": {
       "description_width": ""
      }
     },
     "d444b01dc15e4978b2aaa647eb0e7248": {
      "model_module": "@jupyter-widgets/base",
      "model_module_version": "1.2.0",
      "model_name": "LayoutModel",
      "state": {
       "grid_template_areas": "\n                                       \". . . . right \"\n                                        ",
       "grid_template_columns": "20% 20% 20% 20% 20%",
       "width": "100%"
      }
     },
     "da8d84102a764e40b95f174ed13d5a9b": {
      "model_module": "@jupyter-widgets/controls",
      "model_module_version": "1.5.0",
      "model_name": "HTMLModel",
      "state": {
       "layout": "IPY_MODEL_7413431d28db4d059715bf6ad4db0a54",
       "style": "IPY_MODEL_b7b45b285c304e68a1dfef688afb5d6c",
       "value": "<h5>Backend</h5>"
      }
     },
     "db97d482b71a4a778a1617ae82f760b0": {
      "model_module": "@jupyter-widgets/controls",
      "model_module_version": "1.5.0",
      "model_name": "ButtonModel",
      "state": {
       "button_style": "primary",
       "description": "Clear",
       "layout": "IPY_MODEL_b4776733dd9e47a0a670312c85a3b3d6",
       "style": "IPY_MODEL_91487e0fbe784c8a864dbd24025f3f97"
      }
     },
     "faf902e665f641b8b54247e592fbdd9b": {
      "model_module": "@jupyter-widgets/base",
      "model_module_version": "1.2.0",
      "model_name": "LayoutModel",
      "state": {
       "margin": "0px 0px 10px 0px"
      }
     }
    },
    "version_major": 2,
    "version_minor": 0
   }
  }
 },
 "nbformat": 4,
 "nbformat_minor": 5
}
