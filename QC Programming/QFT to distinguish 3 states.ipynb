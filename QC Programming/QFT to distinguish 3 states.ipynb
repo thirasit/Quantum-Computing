{
 "cells": [
  {
   "cell_type": "markdown",
   "id": "f097f5a7-eab8-4728-ae43-1fa5eb3a2b28",
   "metadata": {},
   "source": [
    "# **QFT to distinguish 3 states**"
   ]
  },
  {
   "cell_type": "code",
   "execution_count": 1,
   "id": "49a9cb38-e488-4087-a7c6-b81bdf39e97d",
   "metadata": {},
   "outputs": [
    {
     "name": "stderr",
     "output_type": "stream",
     "text": [
      "<frozen importlib._bootstrap>:219: RuntimeWarning: scipy._lib.messagestream.MessageStream size changed, may indicate binary incompatibility. Expected 56 from C header, got 64 from PyObject\n"
     ]
    }
   ],
   "source": [
    "import numpy as np\n",
    "\n",
    "# Importing standard Qiskit libraries\n",
    "from qiskit import QuantumCircuit, transpile, Aer, IBMQ, QuantumRegister, ClassicalRegister, execute, BasicAer\n",
    "from qiskit.tools.jupyter import *\n",
    "from qiskit.visualization import *\n",
    "from ibm_quantum_widgets import *\n",
    "from qiskit.providers.aer import QasmSimulator\n",
    "\n",
    "# Loading your IBM Quantum account(s)\n",
    "provider = IBMQ.load_account()"
   ]
  },
  {
   "cell_type": "code",
   "execution_count": 2,
   "id": "8e31d12c-235a-4b9a-9527-c497f263ab26",
   "metadata": {},
   "outputs": [],
   "source": [
    "import math\n",
    "%matplotlib inline"
   ]
  },
  {
   "cell_type": "code",
   "execution_count": 3,
   "id": "34be6a27-c96d-477f-b939-41380bb6ab4a",
   "metadata": {},
   "outputs": [],
   "source": [
    "# Set up the program\n",
    "signal = QuantumRegister(4, name='signal')\n",
    "qc = QuantumCircuit(signal)"
   ]
  },
  {
   "cell_type": "code",
   "execution_count": 4,
   "id": "d1383fde-e3a1-4766-8662-ecbff7ddcca1",
   "metadata": {},
   "outputs": [],
   "source": [
    "def main():\n",
    "    which_signal = 'A'  # Change this to test the different signals in the book\n",
    "\n",
    "    ## prepare the signal\n",
    "    qc.h(signal);\n",
    "    if which_signal == 'A':\n",
    "        qc.rz(math.radians(180), signal[0]);\n",
    "    elif which_signal == 'B':\n",
    "        qc.rz(math.radians(90), signal[0])\n",
    "        qc.rz(math.radians(180), signal[1])\n",
    "    elif which_signal == 'C':\n",
    "        qc.rz(math.radians(45), signal[0])\n",
    "        qc.rz(math.radians(90), signal[1])\n",
    "        qc.rz(math.radians(180), signal[2])\n",
    "\n",
    "    QFT(signal)"
   ]
  },
  {
   "cell_type": "code",
   "execution_count": 5,
   "id": "c54d0e0a-8d8e-4d77-a14a-2137cd6a4949",
   "metadata": {},
   "outputs": [
    {
     "name": "stderr",
     "output_type": "stream",
     "text": [
      "/tmp/ipykernel_195/1370478442.py:8: DeprecationWarning: The QuantumCircuit.cu1 method is deprecated as of 0.16.0. It will be removed no earlier than 3 months after the release date. You should use the QuantumCircuit.cp method instead, which acts identically.\n",
      "  qc.cu1(-math.pi/float(2**(j-k)), qreg[n-j-1], qreg[n-k-1])\n"
     ]
    }
   ],
   "source": [
    "def QFT(qreg):\n",
    "    ## This QFT implementation is adapted from IBM's sample:\n",
    "    ##   https://github.com/Qiskit/qiskit-terra/blob/master/examples/python/qft.py\n",
    "    ## ...with a few adjustments to match the book QFT implementation exactly\n",
    "    n = len(qreg)\n",
    "    for j in range(n):\n",
    "        for k in range(j):\n",
    "            qc.cu1(-math.pi/float(2**(j-k)), qreg[n-j-1], qreg[n-k-1])\n",
    "        qc.h(qreg[n-j-1])\n",
    "    # Now finish the QFT by reversing the order of the qubits\n",
    "    for j in range(n//2):\n",
    "        qc.swap(qreg[j], qreg[n-j-1])\n",
    "\n",
    "main()"
   ]
  },
  {
   "cell_type": "code",
   "execution_count": 6,
   "id": "92434c04-8a78-45b6-84c8-fb1382f19344",
   "metadata": {},
   "outputs": [],
   "source": [
    "backend = BasicAer.get_backend('statevector_simulator')\n",
    "job = execute(qc, backend)\n",
    "result = job.result()"
   ]
  },
  {
   "cell_type": "code",
   "execution_count": 7,
   "id": "e3bc7553-cdae-4594-95a9-7b3488372945",
   "metadata": {},
   "outputs": [
    {
     "name": "stdout",
     "output_type": "stream",
     "text": [
      "|8> (-0-1j) probability = 100.0%\n"
     ]
    },
    {
     "data": {
      "image/png": "[encoded data removed]",
      "text/plain": [
       "<Figure size 1218.8x264.88 with 1 Axes>"
      ]
     },
     "execution_count": 7,
     "metadata": {},
     "output_type": "execute_result"
    }
   ],
   "source": [
    "outputstate = result.get_statevector(qc, decimals=3)\n",
    "for i,amp in enumerate(outputstate):\n",
    "    if abs(amp) > 0.000001:\n",
    "        prob = abs(amp) * abs(amp)\n",
    "        print('|{}> {} probability = {}%'.format(i, amp, round(prob * 100, 5)))\n",
    "qc.draw()        # draw the circuit"
   ]
  }
 ],
 "metadata": {
  "kernelspec": {
   "display_name": "Qiskit v0.34.2 (ipykernel)",
   "language": "python",
   "name": "python3"
  },
  "language_info": {
   "codemirror_mode": {
    "name": "ipython",
    "version": 3
   },
   "file_extension": ".py",
   "mimetype": "text/x-python",
   "name": "python",
   "nbconvert_exporter": "python",
   "pygments_lexer": "ipython3",
   "version": "3.8.12"
  },
  "widgets": {
   "application/vnd.jupyter.widget-state+json": {
    "state": {
     "0b378151b48346ebad58a37bf2ca10f8": {
      "model_module": "@jupyter-widgets/base",
      "model_module_version": "1.2.0",
      "model_name": "LayoutModel",
      "state": {}
     },
     "0d8e975824e3402a8d2d045f253927f2": {
      "model_module": "@jupyter-widgets/base",
      "model_module_version": "1.2.0",
      "model_name": "LayoutModel",
      "state": {
       "width": "95px"
      }
     },
     "112608f81ce0491485709e13958ef516": {
      "model_module": "@jupyter-widgets/controls",
      "model_module_version": "1.5.0",
      "model_name": "HBoxModel",
      "state": {
       "children": [
        "IPY_MODEL_77f763e650eb4c68b7970894781004fd",
        "IPY_MODEL_7bde8252724742999a321c57c0591b94",
        "IPY_MODEL_1c2751d7639c4c279768486cb91b6d92",
        "IPY_MODEL_df77244c42f34a8ba239818f0b21e6b0",
        "IPY_MODEL_adf8604aa05147fea531466d79abf5e4"
       ],
       "layout": "IPY_MODEL_df81de4479ae467ea0938dcdce2523a3"
      }
     },
     "1c2751d7639c4c279768486cb91b6d92": {
      "model_module": "@jupyter-widgets/controls",
      "model_module_version": "1.5.0",
      "model_name": "HTMLModel",
      "state": {
       "layout": "IPY_MODEL_0d8e975824e3402a8d2d045f253927f2",
       "style": "IPY_MODEL_8fcd03b61ef444cea3d0d9fcdfe61adb",
       "value": "<h5>Status</h5>"
      }
     },
     "29219a973d9b48f1b2257064a8b437dc": {
      "model_module": "@jupyter-widgets/controls",
      "model_module_version": "1.5.0",
      "model_name": "DescriptionStyleModel",
      "state": {
       "description_width": ""
      }
     },
     "3862c421788443b1b902770438505d77": {
      "model_module": "@jupyter-widgets/base",
      "model_module_version": "1.2.0",
      "model_name": "LayoutModel",
      "state": {
       "grid_area": "right",
       "padding": "0px 0px 0px 0px",
       "width": "70px"
      }
     },
     "5af7132144ab4813a683fb7fe2626bd1": {
      "model_module": "@jupyter-widgets/base",
      "model_module_version": "1.2.0",
      "model_name": "LayoutModel",
      "state": {
       "grid_template_areas": "\n                                       \". . . . right \"\n                                        ",
       "grid_template_columns": "20% 20% 20% 20% 20%",
       "width": "100%"
      }
     },
     "5ce01e69492c4ca2ba2564b3b3e57281": {
      "model_module": "@jupyter-widgets/controls",
      "model_module_version": "1.5.0",
      "model_name": "ButtonModel",
      "state": {
       "button_style": "primary",
       "description": "Clear",
       "layout": "IPY_MODEL_3862c421788443b1b902770438505d77",
       "style": "IPY_MODEL_f44bf38494ea4b8dbdfff6c9511bb56a"
      }
     },
     "5f4951810aed4e5eaa7787c5f9bb89cf": {
      "model_module": "@jupyter-widgets/base",
      "model_module_version": "1.2.0",
      "model_name": "LayoutModel",
      "state": {
       "margin": "0px 0px 10px 0px"
      }
     },
     "6a7ee6f8b5894ffc8f7a8926fce455d4": {
      "model_module": "@jupyter-widgets/controls",
      "model_module_version": "1.5.0",
      "model_name": "DescriptionStyleModel",
      "state": {
       "description_width": ""
      }
     },
     "71b1b100c2af43de93b2bfcc15da4d7d": {
      "model_module": "@jupyter-widgets/controls",
      "model_module_version": "1.5.0",
      "model_name": "HTMLModel",
      "state": {
       "layout": "IPY_MODEL_5f4951810aed4e5eaa7787c5f9bb89cf",
       "style": "IPY_MODEL_29219a973d9b48f1b2257064a8b437dc",
       "value": "<p style='font-family: IBM Plex Sans, Arial, Helvetica, sans-serif; font-size: 20px; font-weight: medium;'>Circuit Properties</p>"
      }
     },
     "75cd93cec5c2424aba6b0143e2f8f239": {
      "model_module": "@jupyter-widgets/base",
      "model_module_version": "1.2.0",
      "model_name": "LayoutModel",
      "state": {
       "width": "145px"
      }
     },
     "77f763e650eb4c68b7970894781004fd": {
      "model_module": "@jupyter-widgets/controls",
      "model_module_version": "1.5.0",
      "model_name": "HTMLModel",
      "state": {
       "layout": "IPY_MODEL_7ba6c3e1a59e4ae2b7fe5d4cc83b2ad0",
       "style": "IPY_MODEL_a620aab6944245249abffc6d626da728",
       "value": "<h5>Job ID</h5>"
      }
     },
     "7ba6c3e1a59e4ae2b7fe5d4cc83b2ad0": {
      "model_module": "@jupyter-widgets/base",
      "model_module_version": "1.2.0",
      "model_name": "LayoutModel",
      "state": {
       "width": "190px"
      }
     },
     "7bde8252724742999a321c57c0591b94": {
      "model_module": "@jupyter-widgets/controls",
      "model_module_version": "1.5.0",
      "model_name": "HTMLModel",
      "state": {
       "layout": "IPY_MODEL_75cd93cec5c2424aba6b0143e2f8f239",
       "style": "IPY_MODEL_9d648c9f43b343099879af7d19f3b7bb",
       "value": "<h5>Backend</h5>"
      }
     },
     "7ebf5e67d58543bc8bf72e1d311470f0": {
      "model_module": "@jupyter-widgets/controls",
      "model_module_version": "1.5.0",
      "model_name": "DescriptionStyleModel",
      "state": {
       "description_width": ""
      }
     },
     "85f08de5d94b456cad88931c989de1a9": {
      "model_module": "@jupyter-widgets/controls",
      "model_module_version": "1.5.0",
      "model_name": "GridBoxModel",
      "state": {
       "children": [
        "IPY_MODEL_5ce01e69492c4ca2ba2564b3b3e57281"
       ],
       "layout": "IPY_MODEL_5af7132144ab4813a683fb7fe2626bd1"
      }
     },
     "8fcd03b61ef444cea3d0d9fcdfe61adb": {
      "model_module": "@jupyter-widgets/controls",
      "model_module_version": "1.5.0",
      "model_name": "DescriptionStyleModel",
      "state": {
       "description_width": ""
      }
     },
     "9d648c9f43b343099879af7d19f3b7bb": {
      "model_module": "@jupyter-widgets/controls",
      "model_module_version": "1.5.0",
      "model_name": "DescriptionStyleModel",
      "state": {
       "description_width": ""
      }
     },
     "a620aab6944245249abffc6d626da728": {
      "model_module": "@jupyter-widgets/controls",
      "model_module_version": "1.5.0",
      "model_name": "DescriptionStyleModel",
      "state": {
       "description_width": ""
      }
     },
     "adf8604aa05147fea531466d79abf5e4": {
      "model_module": "@jupyter-widgets/controls",
      "model_module_version": "1.5.0",
      "model_name": "HTMLModel",
      "state": {
       "layout": "IPY_MODEL_0b378151b48346ebad58a37bf2ca10f8",
       "style": "IPY_MODEL_7ebf5e67d58543bc8bf72e1d311470f0",
       "value": "<h5>Message</h5>"
      }
     },
     "dad5be2e32b24e18b509c105af808ccd": {
      "model_module": "@jupyter-widgets/base",
      "model_module_version": "1.2.0",
      "model_name": "LayoutModel",
      "state": {
       "width": "70px"
      }
     },
     "df77244c42f34a8ba239818f0b21e6b0": {
      "model_module": "@jupyter-widgets/controls",
      "model_module_version": "1.5.0",
      "model_name": "HTMLModel",
      "state": {
       "layout": "IPY_MODEL_dad5be2e32b24e18b509c105af808ccd",
       "style": "IPY_MODEL_6a7ee6f8b5894ffc8f7a8926fce455d4",
       "value": "<h5>Queue</h5>"
      }
     },
     "df81de4479ae467ea0938dcdce2523a3": {
      "model_module": "@jupyter-widgets/base",
      "model_module_version": "1.2.0",
      "model_name": "LayoutModel",
      "state": {
       "margin": "0px 0px 0px 37px",
       "width": "600px"
      }
     },
     "f44bf38494ea4b8dbdfff6c9511bb56a": {
      "model_module": "@jupyter-widgets/controls",
      "model_module_version": "1.5.0",
      "model_name": "ButtonStyleModel",
      "state": {}
     }
    },
    "version_major": 2,
    "version_minor": 0
   }
  }
 },
 "nbformat": 4,
 "nbformat_minor": 5
}
