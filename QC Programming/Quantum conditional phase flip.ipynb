{
 "cells": [
  {
   "cell_type": "markdown",
   "id": "0dc92ac1-97d5-4f95-beac-c01dba78543c",
   "metadata": {},
   "source": [
    "# **Quantum conditional phase flip**"
   ]
  },
  {
   "cell_type": "code",
   "execution_count": 1,
   "id": "569589c6-bb32-4b8d-bc29-c4428c1a1fda",
   "metadata": {},
   "outputs": [],
   "source": [
    "import numpy as np\n",
    "\n",
    "# Importing standard Qiskit libraries\n",
    "from qiskit import QuantumCircuit, transpile, Aer, IBMQ, QuantumRegister, ClassicalRegister, execute, BasicAer\n",
    "from qiskit.tools.jupyter import *\n",
    "from qiskit.visualization import *\n",
    "from ibm_quantum_widgets import *\n",
    "from qiskit.providers.aer import QasmSimulator\n",
    "\n",
    "# Loading your IBM Quantum account(s)\n",
    "provider = IBMQ.load_account()"
   ]
  },
  {
   "cell_type": "code",
   "execution_count": 2,
   "id": "c02ba507-81b2-4ddf-b8ac-54364cd86f94",
   "metadata": {},
   "outputs": [],
   "source": [
    "import math\n",
    "%matplotlib inline"
   ]
  },
  {
   "cell_type": "code",
   "execution_count": 3,
   "id": "36740d0d-c7b2-47f2-b229-87d77342d683",
   "metadata": {},
   "outputs": [],
   "source": [
    "# Set up the program\n",
    "a = QuantumRegister(3, name='a')\n",
    "b = QuantumRegister(2, name='b')\n",
    "qc = QuantumCircuit(a, b)"
   ]
  },
  {
   "cell_type": "code",
   "execution_count": 4,
   "id": "55a51434-b893-422b-8b35-04414f4aa996",
   "metadata": {},
   "outputs": [],
   "source": [
    "def main():\n",
    "    ## initialization\n",
    "    qc.h(a[0])\n",
    "    qc.h(a[1])\n",
    "    qc.x(b[0])\n",
    "    qc.h(b[1])\n",
    "    qc.barrier()\n",
    "    \n",
    "    ## Increment\n",
    "    add_int(a, -3)\n",
    "    qc.barrier()\n",
    "    qc.x(b[1])\n",
    "    multi_cz([a[2], b[0], b[1]])\n",
    "    qc.x(b[1])\n",
    "    qc.barrier()\n",
    "    add_int(a, 3)"
   ]
  },
  {
   "cell_type": "code",
   "execution_count": 5,
   "id": "08731c0a-7c62-4c4e-a523-a3663532d0ce",
   "metadata": {},
   "outputs": [],
   "source": [
    "## Some utility functions\n",
    "\n",
    "def add_squared_qint(qdest, rhs, condition_qubits=None):\n",
    "    if condition_qubits is None:\n",
    "        condition_qubits = []\n",
    "    for bit in range(len(rhs)):\n",
    "        slideMask = list(set(condition_qubits + [rhs[bit]]))\n",
    "        add_qint(qdest, rhs, slideMask, bit);"
   ]
  },
  {
   "cell_type": "code",
   "execution_count": 6,
   "id": "8379faac-5aec-44fa-a7cd-38cbf2cd3e26",
   "metadata": {},
   "outputs": [],
   "source": [
    "def add_qint(qdest, rhs, condition_qubits=None, shiftRHS=0):\n",
    "    if condition_qubits is None:\n",
    "        condition_qubits = []\n",
    "    for bit in range(len(rhs)):\n",
    "        add_int(qdest, 1 << bit, list(set([rhs[bit]] + condition_qubits)), shiftRHS)"
   ]
  },
  {
   "cell_type": "code",
   "execution_count": 7,
   "id": "f74acbe7-f4ab-464d-b805-61b011d1f131",
   "metadata": {},
   "outputs": [],
   "source": [
    "def add_int(qdest, rhs, condition_qubits=None, shiftRHS=0):\n",
    "    if condition_qubits is None:\n",
    "        condition_qubits = []\n",
    "    reverse_to_subtract = False\n",
    "    if rhs == 0:\n",
    "        return\n",
    "    elif rhs < 0:\n",
    "        rhs = -rhs\n",
    "        reverse_to_subtract = True\n",
    "    rhs <<= shiftRHS\n",
    "    ops = []\n",
    "    add_val = int(rhs)\n",
    "    condition_mask = (1 << len(qdest)) - 1\n",
    "\n",
    "    add_val_mask = 1\n",
    "    while add_val_mask <= add_val:\n",
    "        cmask = condition_mask & ~(add_val_mask - 1)\n",
    "        if add_val_mask & add_val:\n",
    "            add_shift_mask = 1 << (len(qdest) - 1)\n",
    "            while add_shift_mask >= add_val_mask:\n",
    "                cmask &= ~add_shift_mask\n",
    "                ops.append((add_shift_mask, cmask))\n",
    "                add_shift_mask >>= 1\n",
    "        condition_mask &= ~add_val_mask\n",
    "        add_val_mask <<= 1\n",
    "    if reverse_to_subtract:\n",
    "        ops.reverse()\n",
    "    for inst in ops:\n",
    "        op_qubits = [x for x in condition_qubits]\n",
    "        mask = 1\n",
    "        for i in range(len(qdest)):\n",
    "            if inst[1] & (1 << i):\n",
    "                op_qubits.append(qdest[i])\n",
    "        for i in range(len(qdest)):\n",
    "            if inst[0] & (1 << i):\n",
    "                op_qubits.append(qdest[i])\n",
    "        multi_cx(op_qubits)"
   ]
  },
  {
   "cell_type": "code",
   "execution_count": 8,
   "id": "26d9ca57-5e36-44f8-a676-49c9df4b4445",
   "metadata": {},
   "outputs": [],
   "source": [
    "def multi_cz(qubits):\n",
    "    ## This will perform a CCCCCZ on as many qubits as we want,\n",
    "    ## as long as we have enough scratch qubits\n",
    "    multi_cx(qubits, do_cz=True)"
   ]
  },
  {
   "cell_type": "code",
   "execution_count": 9,
   "id": "b78d0544-0b63-453d-8831-a43d30c6237f",
   "metadata": {},
   "outputs": [],
   "source": [
    "def multi_cx(qubits, do_cz=False):\n",
    "    ## This will perform a CCCCCX with as many conditions as we want,\n",
    "    ## as long as we have enough scratch qubits\n",
    "    ## The last qubit in the list is the target.\n",
    "    target = qubits[-1]\n",
    "    conds = qubits[:-1]\n",
    "    scratch_index = 0\n",
    "    ops = []\n",
    "    while len(conds) > 2:\n",
    "        new_conds = []\n",
    "        for i in range(len(conds)//2):\n",
    "            ops.append((conds[i * 2], conds[i * 2 + 1], scratch[scratch_index]))\n",
    "            new_conds.append(scratch[scratch_index])\n",
    "            scratch_index += 1\n",
    "        if len(conds) & 1:\n",
    "            new_conds.append(conds[-1])\n",
    "        conds = new_conds\n",
    "    for op in ops:\n",
    "        qc.ccx(op[0], op[1], op[2])\n",
    "    if do_cz:\n",
    "        qc.h(target)\n",
    "    if len(conds) == 0:\n",
    "        qc.x(target)\n",
    "    elif len(conds) == 1:\n",
    "        qc.cx(conds[0], target)\n",
    "    else:\n",
    "        qc.ccx(conds[0], conds[1], target)\n",
    "    if do_cz:\n",
    "        qc.h(target)\n",
    "    ops.reverse()\n",
    "    for op in ops:\n",
    "        qc.ccx(op[0], op[1], op[2])\n",
    "\n",
    "main()"
   ]
  },
  {
   "cell_type": "code",
   "execution_count": 10,
   "id": "84bacb1f-2cd2-4ac9-9cbb-75c16f3b9497",
   "metadata": {},
   "outputs": [],
   "source": [
    "backend = BasicAer.get_backend('statevector_simulator')\n",
    "job = execute(qc, backend)\n",
    "result = job.result()"
   ]
  },
  {
   "cell_type": "code",
   "execution_count": 11,
   "id": "dbac7479-4dc9-4c48-8f27-6f80674f3437",
   "metadata": {},
   "outputs": [
    {
     "name": "stdout",
     "output_type": "stream",
     "text": [
      "|8> (-0.354+0j)\n",
      "|9> (-0.354+0j)\n",
      "|10> (-0.354+0j)\n",
      "|11> (0.354-0j)\n",
      "|24> (0.354-0j)\n",
      "|25> (0.354-0j)\n",
      "|26> (0.354-0j)\n",
      "|27> (0.354-0j)\n"
     ]
    },
    {
     "data": {
      "image/png": "[encoded data removed]",
      "text/plain": [
       "<Figure size 1110x325.08 with 1 Axes>"
      ]
     },
     "execution_count": 11,
     "metadata": {},
     "output_type": "execute_result"
    }
   ],
   "source": [
    "outputstate = result.get_statevector(qc, decimals=3)\n",
    "for i,amp in enumerate(outputstate):\n",
    "    if abs(amp) > 0.000001:\n",
    "        print('|{}> {}'.format(i, amp))\n",
    "qc.draw()        # draw the circuit"
   ]
  }
 ],
 "metadata": {
  "kernelspec": {
   "display_name": "Qiskit v0.34.1 (ipykernel)",
   "language": "python",
   "name": "python3"
  },
  "language_info": {
   "codemirror_mode": {
    "name": "ipython",
    "version": 3
   },
   "file_extension": ".py",
   "mimetype": "text/x-python",
   "name": "python",
   "nbconvert_exporter": "python",
   "pygments_lexer": "ipython3",
   "version": "3.8.12"
  },
  "widgets": {
   "application/vnd.jupyter.widget-state+json": {
    "state": {
     "09e2597c83a042bfba7ebeea741c0acb": {
      "model_module": "@jupyter-widgets/base",
      "model_module_version": "1.2.0",
      "model_name": "LayoutModel",
      "state": {
       "width": "190px"
      }
     },
     "0d46cc81a732450295c61c9311cfe73d": {
      "model_module": "@jupyter-widgets/controls",
      "model_module_version": "1.5.0",
      "model_name": "HBoxModel",
      "state": {
       "children": [
        "IPY_MODEL_ee1282cf33054cdbab6149719523ece6",
        "IPY_MODEL_f330d5acbd9c444c8b8774452b487a81",
        "IPY_MODEL_a86db8c7016c4e0384ac642d9960e3c1",
        "IPY_MODEL_3de3f7b37e9847e2b0ceed80449c8bcd",
        "IPY_MODEL_4b40315465ad428f88375c784a9e5a94"
       ],
       "layout": "IPY_MODEL_e06080442f25462cb1d21bedb791b92f"
      }
     },
     "0df8dccb00524399936be68214519112": {
      "model_module": "@jupyter-widgets/controls",
      "model_module_version": "1.5.0",
      "model_name": "DescriptionStyleModel",
      "state": {
       "description_width": ""
      }
     },
     "32a4593dede3416b932ccfdb17f0f124": {
      "model_module": "@jupyter-widgets/base",
      "model_module_version": "1.2.0",
      "model_name": "LayoutModel",
      "state": {
       "grid_area": "right",
       "padding": "0px 0px 0px 0px",
       "width": "70px"
      }
     },
     "3de3f7b37e9847e2b0ceed80449c8bcd": {
      "model_module": "@jupyter-widgets/controls",
      "model_module_version": "1.5.0",
      "model_name": "HTMLModel",
      "state": {
       "layout": "IPY_MODEL_b56d7917fb204936b891e03408b3004e",
       "style": "IPY_MODEL_c287dd8dc4b04f46ac60f7ec6a071e86",
       "value": "<h5>Queue</h5>"
      }
     },
     "3e6d76efc3b1425e95b18a6557a2c8f0": {
      "model_module": "@jupyter-widgets/base",
      "model_module_version": "1.2.0",
      "model_name": "LayoutModel",
      "state": {
       "width": "145px"
      }
     },
     "4b40315465ad428f88375c784a9e5a94": {
      "model_module": "@jupyter-widgets/controls",
      "model_module_version": "1.5.0",
      "model_name": "HTMLModel",
      "state": {
       "layout": "IPY_MODEL_9b83dd48cf7947c2acc6e68eddaac614",
       "style": "IPY_MODEL_964a4b44681c4ca093084a3276efc14e",
       "value": "<h5>Message</h5>"
      }
     },
     "5b9e85e9fca047d1a1132647da1a7719": {
      "model_module": "@jupyter-widgets/controls",
      "model_module_version": "1.5.0",
      "model_name": "DescriptionStyleModel",
      "state": {
       "description_width": ""
      }
     },
     "7e285ef8283d4f0282904a36e21f71bb": {
      "model_module": "@jupyter-widgets/base",
      "model_module_version": "1.2.0",
      "model_name": "LayoutModel",
      "state": {
       "width": "95px"
      }
     },
     "8591e82a559c419998293642c848cc85": {
      "model_module": "@jupyter-widgets/controls",
      "model_module_version": "1.5.0",
      "model_name": "ButtonStyleModel",
      "state": {}
     },
     "8fdd48b0298e44709f2f7fcd854d4c78": {
      "model_module": "@jupyter-widgets/controls",
      "model_module_version": "1.5.0",
      "model_name": "GridBoxModel",
      "state": {
       "children": [
        "IPY_MODEL_e0b35869c20a47d783d52757d84a5f35"
       ],
       "layout": "IPY_MODEL_c1b99bec6d0d4216a9d0a7a546f20c77"
      }
     },
     "964a4b44681c4ca093084a3276efc14e": {
      "model_module": "@jupyter-widgets/controls",
      "model_module_version": "1.5.0",
      "model_name": "DescriptionStyleModel",
      "state": {
       "description_width": ""
      }
     },
     "9b83dd48cf7947c2acc6e68eddaac614": {
      "model_module": "@jupyter-widgets/base",
      "model_module_version": "1.2.0",
      "model_name": "LayoutModel",
      "state": {}
     },
     "a86db8c7016c4e0384ac642d9960e3c1": {
      "model_module": "@jupyter-widgets/controls",
      "model_module_version": "1.5.0",
      "model_name": "HTMLModel",
      "state": {
       "layout": "IPY_MODEL_7e285ef8283d4f0282904a36e21f71bb",
       "style": "IPY_MODEL_f1f4de6c0e414b228388bfbcee132519",
       "value": "<h5>Status</h5>"
      }
     },
     "b1389eba8a2e4102b5f187fcb6506d5a": {
      "model_module": "@jupyter-widgets/base",
      "model_module_version": "1.2.0",
      "model_name": "LayoutModel",
      "state": {
       "margin": "0px 0px 10px 0px"
      }
     },
     "b56d7917fb204936b891e03408b3004e": {
      "model_module": "@jupyter-widgets/base",
      "model_module_version": "1.2.0",
      "model_name": "LayoutModel",
      "state": {
       "width": "70px"
      }
     },
     "c1b99bec6d0d4216a9d0a7a546f20c77": {
      "model_module": "@jupyter-widgets/base",
      "model_module_version": "1.2.0",
      "model_name": "LayoutModel",
      "state": {
       "grid_template_areas": "\n                                       \". . . . right \"\n                                        ",
       "grid_template_columns": "20% 20% 20% 20% 20%",
       "width": "100%"
      }
     },
     "c287dd8dc4b04f46ac60f7ec6a071e86": {
      "model_module": "@jupyter-widgets/controls",
      "model_module_version": "1.5.0",
      "model_name": "DescriptionStyleModel",
      "state": {
       "description_width": ""
      }
     },
     "cc619847f53d48468f5a5971b21bf5bb": {
      "model_module": "@jupyter-widgets/controls",
      "model_module_version": "1.5.0",
      "model_name": "HTMLModel",
      "state": {
       "layout": "IPY_MODEL_b1389eba8a2e4102b5f187fcb6506d5a",
       "style": "IPY_MODEL_facc4abd6c9a43298b36bc461aa3bf2d",
       "value": "<p style='font-family: IBM Plex Sans, Arial, Helvetica, sans-serif; font-size: 20px; font-weight: medium;'>Circuit Properties</p>"
      }
     },
     "e06080442f25462cb1d21bedb791b92f": {
      "model_module": "@jupyter-widgets/base",
      "model_module_version": "1.2.0",
      "model_name": "LayoutModel",
      "state": {
       "margin": "0px 0px 0px 37px",
       "width": "600px"
      }
     },
     "e0b35869c20a47d783d52757d84a5f35": {
      "model_module": "@jupyter-widgets/controls",
      "model_module_version": "1.5.0",
      "model_name": "ButtonModel",
      "state": {
       "button_style": "primary",
       "description": "Clear",
       "layout": "IPY_MODEL_32a4593dede3416b932ccfdb17f0f124",
       "style": "IPY_MODEL_8591e82a559c419998293642c848cc85"
      }
     },
     "ee1282cf33054cdbab6149719523ece6": {
      "model_module": "@jupyter-widgets/controls",
      "model_module_version": "1.5.0",
      "model_name": "HTMLModel",
      "state": {
       "layout": "IPY_MODEL_09e2597c83a042bfba7ebeea741c0acb",
       "style": "IPY_MODEL_5b9e85e9fca047d1a1132647da1a7719",
       "value": "<h5>Job ID</h5>"
      }
     },
     "f1f4de6c0e414b228388bfbcee132519": {
      "model_module": "@jupyter-widgets/controls",
      "model_module_version": "1.5.0",
      "model_name": "DescriptionStyleModel",
      "state": {
       "description_width": ""
      }
     },
     "f330d5acbd9c444c8b8774452b487a81": {
      "model_module": "@jupyter-widgets/controls",
      "model_module_version": "1.5.0",
      "model_name": "HTMLModel",
      "state": {
       "layout": "IPY_MODEL_3e6d76efc3b1425e95b18a6557a2c8f0",
       "style": "IPY_MODEL_0df8dccb00524399936be68214519112",
       "value": "<h5>Backend</h5>"
      }
     },
     "facc4abd6c9a43298b36bc461aa3bf2d": {
      "model_module": "@jupyter-widgets/controls",
      "model_module_version": "1.5.0",
      "model_name": "DescriptionStyleModel",
      "state": {
       "description_width": ""
      }
     }
    },
    "version_major": 2,
    "version_minor": 0
   }
  }
 },
 "nbformat": 4,
 "nbformat_minor": 5
}
