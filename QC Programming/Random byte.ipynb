{
 "cells": [
  {
   "cell_type": "markdown",
   "id": "11eebef8-8f66-45ba-b13e-c4a0f3e32bef",
   "metadata": {},
   "source": [
    "# **Random byte**"
   ]
  },
  {
   "cell_type": "code",
   "execution_count": 1,
   "id": "13546275-04d2-4ec8-a4b8-a4a2621c0624",
   "metadata": {},
   "outputs": [],
   "source": [
    "import numpy as np\n",
    "\n",
    "# Importing standard Qiskit libraries\n",
    "from qiskit import QuantumCircuit, transpile, Aer, IBMQ, QuantumRegister, ClassicalRegister, execute, BasicAer\n",
    "from qiskit.tools.jupyter import *\n",
    "from qiskit.visualization import *\n",
    "from ibm_quantum_widgets import *\n",
    "from qiskit.providers.aer import QasmSimulator\n",
    "\n",
    "# Loading your IBM Quantum account(s)\n",
    "provider = IBMQ.load_account()"
   ]
  },
  {
   "cell_type": "code",
   "execution_count": 2,
   "id": "2c1e7fdd-a570-44e5-b6a8-4e28e4e756b3",
   "metadata": {},
   "outputs": [],
   "source": [
    "import math\n",
    "%matplotlib inline"
   ]
  },
  {
   "cell_type": "code",
   "execution_count": 3,
   "id": "833aa91f-1c7e-4be8-9e89-4bffe32eba23",
   "metadata": {},
   "outputs": [],
   "source": [
    "# Set up the program\n",
    "reg = QuantumRegister(8, name='reg')\n",
    "reg_c = ClassicalRegister(8, name='regc')\n",
    "qc = QuantumCircuit(reg, reg_c)"
   ]
  },
  {
   "cell_type": "code",
   "execution_count": 4,
   "id": "085de568-ca22-49f4-900e-771803f9df8a",
   "metadata": {},
   "outputs": [
    {
     "data": {
      "text/plain": [
       "<qiskit.circuit.instructionset.InstructionSet at 0x7f87d8242ac0>"
      ]
     },
     "execution_count": 4,
     "metadata": {},
     "output_type": "execute_result"
    }
   ],
   "source": [
    "qc.reset(reg)          # write the value 0\n",
    "qc.h(reg)              # put it into a superposition of 0 and 1\n",
    "qc.measure(reg, reg_c) # read the result as a digital bit"
   ]
  },
  {
   "cell_type": "code",
   "execution_count": 5,
   "id": "862c67a7-10c4-4dcd-a174-a86c70f8c213",
   "metadata": {},
   "outputs": [],
   "source": [
    "backend = BasicAer.get_backend('statevector_simulator')\n",
    "job = execute(qc, backend)\n",
    "result = job.result()"
   ]
  },
  {
   "cell_type": "code",
   "execution_count": 6,
   "id": "ee9f6a1f-f7e6-4107-874a-c60779b2628c",
   "metadata": {},
   "outputs": [
    {
     "name": "stdout",
     "output_type": "stream",
     "text": [
      "counts: {'10010001': 1}\n",
      "Random number: 137\n"
     ]
    }
   ],
   "source": [
    "# Convert the result into a random number\n",
    "counts = result.get_counts(qc)\n",
    "print('counts:',counts)\n",
    "for key,val in counts.items():\n",
    "    n = sum([(int(x) << i) for i,x in enumerate(key)])\n",
    "    print('Random number:', n)"
   ]
  },
  {
   "cell_type": "code",
   "execution_count": 7,
   "id": "ad34c2f0-837b-4706-944b-ce5963adc562",
   "metadata": {},
   "outputs": [
    {
     "name": "stdout",
     "output_type": "stream",
     "text": [
      "[0.+0.j 0.+0.j 0.+0.j 0.+0.j 0.+0.j 0.+0.j 0.+0.j 0.+0.j 0.+0.j 0.+0.j\n",
      " 0.+0.j 0.+0.j 0.+0.j 0.+0.j 0.+0.j 0.+0.j 0.+0.j 0.+0.j 0.+0.j 0.+0.j\n",
      " 0.+0.j 0.+0.j 0.+0.j 0.+0.j 0.+0.j 0.+0.j 0.+0.j 0.+0.j 0.+0.j 0.+0.j\n",
      " 0.+0.j 0.+0.j 0.+0.j 0.+0.j 0.+0.j 0.+0.j 0.+0.j 0.+0.j 0.+0.j 0.+0.j\n",
      " 0.+0.j 0.+0.j 0.+0.j 0.+0.j 0.+0.j 0.+0.j 0.+0.j 0.+0.j 0.+0.j 0.+0.j\n",
      " 0.+0.j 0.+0.j 0.+0.j 0.+0.j 0.+0.j 0.+0.j 0.+0.j 0.+0.j 0.+0.j 0.+0.j\n",
      " 0.+0.j 0.+0.j 0.+0.j 0.+0.j 0.+0.j 0.+0.j 0.+0.j 0.+0.j 0.+0.j 0.+0.j\n",
      " 0.+0.j 0.+0.j 0.+0.j 0.+0.j 0.+0.j 0.+0.j 0.+0.j 0.+0.j 0.+0.j 0.+0.j\n",
      " 0.+0.j 0.+0.j 0.+0.j 0.+0.j 0.+0.j 0.+0.j 0.+0.j 0.+0.j 0.+0.j 0.+0.j\n",
      " 0.+0.j 0.+0.j 0.+0.j 0.+0.j 0.+0.j 0.+0.j 0.+0.j 0.+0.j 0.+0.j 0.+0.j\n",
      " 0.+0.j 0.+0.j 0.+0.j 0.+0.j 0.+0.j 0.+0.j 0.+0.j 0.+0.j 0.+0.j 0.+0.j\n",
      " 0.+0.j 0.+0.j 0.+0.j 0.+0.j 0.+0.j 0.+0.j 0.+0.j 0.+0.j 0.+0.j 0.+0.j\n",
      " 0.+0.j 0.+0.j 0.+0.j 0.+0.j 0.+0.j 0.+0.j 0.+0.j 0.+0.j 0.+0.j 0.+0.j\n",
      " 0.+0.j 0.+0.j 0.+0.j 0.+0.j 0.+0.j 0.+0.j 0.+0.j 0.+0.j 0.+0.j 0.+0.j\n",
      " 0.+0.j 0.+0.j 0.+0.j 0.+0.j 0.+0.j 1.+0.j 0.+0.j 0.+0.j 0.+0.j 0.+0.j\n",
      " 0.+0.j 0.+0.j 0.+0.j 0.+0.j 0.+0.j 0.+0.j 0.+0.j 0.+0.j 0.+0.j 0.+0.j\n",
      " 0.+0.j 0.+0.j 0.+0.j 0.+0.j 0.+0.j 0.+0.j 0.+0.j 0.+0.j 0.+0.j 0.+0.j\n",
      " 0.+0.j 0.+0.j 0.+0.j 0.+0.j 0.+0.j 0.+0.j 0.+0.j 0.+0.j 0.+0.j 0.+0.j\n",
      " 0.+0.j 0.+0.j 0.+0.j 0.+0.j 0.+0.j 0.+0.j 0.+0.j 0.+0.j 0.+0.j 0.+0.j\n",
      " 0.+0.j 0.+0.j 0.+0.j 0.+0.j 0.+0.j 0.+0.j 0.+0.j 0.+0.j 0.+0.j 0.+0.j\n",
      " 0.+0.j 0.+0.j 0.+0.j 0.+0.j 0.+0.j 0.+0.j 0.+0.j 0.+0.j 0.+0.j 0.+0.j\n",
      " 0.+0.j 0.+0.j 0.+0.j 0.+0.j 0.+0.j 0.+0.j 0.+0.j 0.+0.j 0.+0.j 0.+0.j\n",
      " 0.+0.j 0.+0.j 0.+0.j 0.+0.j 0.+0.j 0.+0.j 0.+0.j 0.+0.j 0.+0.j 0.+0.j\n",
      " 0.+0.j 0.+0.j 0.+0.j 0.+0.j 0.+0.j 0.+0.j 0.+0.j 0.+0.j 0.+0.j 0.+0.j\n",
      " 0.+0.j 0.+0.j 0.+0.j 0.+0.j 0.+0.j 0.+0.j 0.+0.j 0.+0.j 0.+0.j 0.+0.j\n",
      " 0.+0.j 0.+0.j 0.+0.j 0.+0.j 0.+0.j 0.+0.j]\n"
     ]
    },
    {
     "data": {
      "image/png": "[encoded data removed]",
      "text/plain": [
       "<Figure size 710.086x565.88 with 1 Axes>"
      ]
     },
     "execution_count": 7,
     "metadata": {},
     "output_type": "execute_result"
    }
   ],
   "source": [
    "outputstate = result.get_statevector(qc, decimals=3)\n",
    "print(outputstate)\n",
    "qc.draw()        # draw the circuit"
   ]
  }
 ],
 "metadata": {
  "kernelspec": {
   "display_name": "Qiskit v0.34.1 (ipykernel)",
   "language": "python",
   "name": "python3"
  },
  "language_info": {
   "codemirror_mode": {
    "name": "ipython",
    "version": 3
   },
   "file_extension": ".py",
   "mimetype": "text/x-python",
   "name": "python",
   "nbconvert_exporter": "python",
   "pygments_lexer": "ipython3",
   "version": "3.8.12"
  },
  "widgets": {
   "application/vnd.jupyter.widget-state+json": {
    "state": {
     "00efa48200f2488ca2974797e0559cff": {
      "model_module": "@jupyter-widgets/controls",
      "model_module_version": "1.5.0",
      "model_name": "HTMLModel",
      "state": {
       "layout": "IPY_MODEL_9b13210596df493abcd6e940a77324da",
       "style": "IPY_MODEL_f3582b18fa72414d989e2eccb58f8179",
       "value": "<h5>Job ID</h5>"
      }
     },
     "02aa7b14ca63469b9b80213d359342d9": {
      "model_module": "@jupyter-widgets/base",
      "model_module_version": "1.2.0",
      "model_name": "LayoutModel",
      "state": {
       "width": "145px"
      }
     },
     "054f5e291b874bbdaedf5071b5d1d9dc": {
      "model_module": "@jupyter-widgets/controls",
      "model_module_version": "1.5.0",
      "model_name": "HTMLModel",
      "state": {
       "layout": "IPY_MODEL_682b00ef6e3444b0a2200b956de46728",
       "style": "IPY_MODEL_977c5acb95f44c978d306e4ab478a1e7",
       "value": "<h5>Message</h5>"
      }
     },
     "29be3c0f4d7e46ebbe652f6a66ca07d1": {
      "model_module": "@jupyter-widgets/controls",
      "model_module_version": "1.5.0",
      "model_name": "DescriptionStyleModel",
      "state": {
       "description_width": ""
      }
     },
     "2d88c532a1354167a4d697d0aba7f14e": {
      "model_module": "@jupyter-widgets/controls",
      "model_module_version": "1.5.0",
      "model_name": "DescriptionStyleModel",
      "state": {
       "description_width": ""
      }
     },
     "376a00e0838f47e981441ae01c31ee53": {
      "model_module": "@jupyter-widgets/base",
      "model_module_version": "1.2.0",
      "model_name": "LayoutModel",
      "state": {
       "grid_area": "right",
       "padding": "0px 0px 0px 0px",
       "width": "70px"
      }
     },
     "37c656ac96ce49669ca6b40740a7da6f": {
      "model_module": "@jupyter-widgets/base",
      "model_module_version": "1.2.0",
      "model_name": "LayoutModel",
      "state": {
       "width": "95px"
      }
     },
     "41f853f04ec2400a8c9e931c8be88e73": {
      "model_module": "@jupyter-widgets/controls",
      "model_module_version": "1.5.0",
      "model_name": "HBoxModel",
      "state": {
       "children": [
        "IPY_MODEL_00efa48200f2488ca2974797e0559cff",
        "IPY_MODEL_f1990020781146ccb9fa55bc9e575266",
        "IPY_MODEL_77a4dd28f9194d05a1eaf3fc1e6c84ea",
        "IPY_MODEL_520678e94c5d4047aa1dcb1272701ed0",
        "IPY_MODEL_054f5e291b874bbdaedf5071b5d1d9dc"
       ],
       "layout": "IPY_MODEL_fb01a14e49424e938364c4f9ff880042"
      }
     },
     "4e079105a1f2431783ad42dd4ad771a4": {
      "model_module": "@jupyter-widgets/base",
      "model_module_version": "1.2.0",
      "model_name": "LayoutModel",
      "state": {
       "margin": "0px 0px 10px 0px"
      }
     },
     "520678e94c5d4047aa1dcb1272701ed0": {
      "model_module": "@jupyter-widgets/controls",
      "model_module_version": "1.5.0",
      "model_name": "HTMLModel",
      "state": {
       "layout": "IPY_MODEL_dcdff016064344c8b477263cbbaff74b",
       "style": "IPY_MODEL_29be3c0f4d7e46ebbe652f6a66ca07d1",
       "value": "<h5>Queue</h5>"
      }
     },
     "551a51e92e574728b350edbb4d02f76c": {
      "model_module": "@jupyter-widgets/controls",
      "model_module_version": "1.5.0",
      "model_name": "DescriptionStyleModel",
      "state": {
       "description_width": ""
      }
     },
     "5e85bb1580c64c0ea1fa39d9e43cd0aa": {
      "model_module": "@jupyter-widgets/controls",
      "model_module_version": "1.5.0",
      "model_name": "HTMLModel",
      "state": {
       "layout": "IPY_MODEL_4e079105a1f2431783ad42dd4ad771a4",
       "style": "IPY_MODEL_2d88c532a1354167a4d697d0aba7f14e",
       "value": "<p style='font-family: IBM Plex Sans, Arial, Helvetica, sans-serif; font-size: 20px; font-weight: medium;'>Circuit Properties</p>"
      }
     },
     "682b00ef6e3444b0a2200b956de46728": {
      "model_module": "@jupyter-widgets/base",
      "model_module_version": "1.2.0",
      "model_name": "LayoutModel",
      "state": {}
     },
     "77a4dd28f9194d05a1eaf3fc1e6c84ea": {
      "model_module": "@jupyter-widgets/controls",
      "model_module_version": "1.5.0",
      "model_name": "HTMLModel",
      "state": {
       "layout": "IPY_MODEL_37c656ac96ce49669ca6b40740a7da6f",
       "style": "IPY_MODEL_f3009e733bd64f3ca0fd02c2100a1710",
       "value": "<h5>Status</h5>"
      }
     },
     "7e50a29188d640f891879c395eaae23b": {
      "model_module": "@jupyter-widgets/controls",
      "model_module_version": "1.5.0",
      "model_name": "GridBoxModel",
      "state": {
       "children": [
        "IPY_MODEL_e67a902821dc42868af819772d969eff"
       ],
       "layout": "IPY_MODEL_b8de5367fb584c3ca6482b18369774f2"
      }
     },
     "977c5acb95f44c978d306e4ab478a1e7": {
      "model_module": "@jupyter-widgets/controls",
      "model_module_version": "1.5.0",
      "model_name": "DescriptionStyleModel",
      "state": {
       "description_width": ""
      }
     },
     "98bb99ff78934ce9b9f5c446112db686": {
      "model_module": "@jupyter-widgets/controls",
      "model_module_version": "1.5.0",
      "model_name": "ButtonStyleModel",
      "state": {}
     },
     "9b13210596df493abcd6e940a77324da": {
      "model_module": "@jupyter-widgets/base",
      "model_module_version": "1.2.0",
      "model_name": "LayoutModel",
      "state": {
       "width": "190px"
      }
     },
     "b8de5367fb584c3ca6482b18369774f2": {
      "model_module": "@jupyter-widgets/base",
      "model_module_version": "1.2.0",
      "model_name": "LayoutModel",
      "state": {
       "grid_template_areas": "\n                                       \". . . . right \"\n                                        ",
       "grid_template_columns": "20% 20% 20% 20% 20%",
       "width": "100%"
      }
     },
     "dcdff016064344c8b477263cbbaff74b": {
      "model_module": "@jupyter-widgets/base",
      "model_module_version": "1.2.0",
      "model_name": "LayoutModel",
      "state": {
       "width": "70px"
      }
     },
     "e67a902821dc42868af819772d969eff": {
      "model_module": "@jupyter-widgets/controls",
      "model_module_version": "1.5.0",
      "model_name": "ButtonModel",
      "state": {
       "button_style": "primary",
       "description": "Clear",
       "layout": "IPY_MODEL_376a00e0838f47e981441ae01c31ee53",
       "style": "IPY_MODEL_98bb99ff78934ce9b9f5c446112db686"
      }
     },
     "f1990020781146ccb9fa55bc9e575266": {
      "model_module": "@jupyter-widgets/controls",
      "model_module_version": "1.5.0",
      "model_name": "HTMLModel",
      "state": {
       "layout": "IPY_MODEL_02aa7b14ca63469b9b80213d359342d9",
       "style": "IPY_MODEL_551a51e92e574728b350edbb4d02f76c",
       "value": "<h5>Backend</h5>"
      }
     },
     "f3009e733bd64f3ca0fd02c2100a1710": {
      "model_module": "@jupyter-widgets/controls",
      "model_module_version": "1.5.0",
      "model_name": "DescriptionStyleModel",
      "state": {
       "description_width": ""
      }
     },
     "f3582b18fa72414d989e2eccb58f8179": {
      "model_module": "@jupyter-widgets/controls",
      "model_module_version": "1.5.0",
      "model_name": "DescriptionStyleModel",
      "state": {
       "description_width": ""
      }
     },
     "fb01a14e49424e938364c4f9ff880042": {
      "model_module": "@jupyter-widgets/base",
      "model_module_version": "1.2.0",
      "model_name": "LayoutModel",
      "state": {
       "margin": "0px 0px 0px 37px",
       "width": "600px"
      }
     }
    },
    "version_major": 2,
    "version_minor": 0
   }
  }
 },
 "nbformat": 4,
 "nbformat_minor": 5
}
