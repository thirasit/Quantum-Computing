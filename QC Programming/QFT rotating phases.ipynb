{
 "cells": [
  {
   "cell_type": "markdown",
   "id": "e116f2d6-746a-4837-8a38-39424c6d5ad7",
   "metadata": {},
   "source": [
    "# **QFT rotating phases**"
   ]
  },
  {
   "cell_type": "code",
   "execution_count": 1,
   "id": "dfab7b14-6ce0-450c-9177-6894ca73f8b2",
   "metadata": {},
   "outputs": [
    {
     "name": "stderr",
     "output_type": "stream",
     "text": [
      "<frozen importlib._bootstrap>:219: RuntimeWarning: scipy._lib.messagestream.MessageStream size changed, may indicate binary incompatibility. Expected 56 from C header, got 64 from PyObject\n"
     ]
    }
   ],
   "source": [
    "import numpy as np\n",
    "\n",
    "# Importing standard Qiskit libraries\n",
    "from qiskit import QuantumCircuit, transpile, Aer, IBMQ, QuantumRegister, ClassicalRegister, execute, BasicAer\n",
    "from qiskit.tools.jupyter import *\n",
    "from qiskit.visualization import *\n",
    "from ibm_quantum_widgets import *\n",
    "from qiskit.providers.aer import QasmSimulator\n",
    "\n",
    "# Loading your IBM Quantum account(s)\n",
    "provider = IBMQ.load_account()"
   ]
  },
  {
   "cell_type": "code",
   "execution_count": 2,
   "id": "14f30c97-f144-451d-8c5c-4edf6e99f1fa",
   "metadata": {},
   "outputs": [],
   "source": [
    "import math\n",
    "%matplotlib inline"
   ]
  },
  {
   "cell_type": "code",
   "execution_count": 3,
   "id": "1a8dadaf-e3a2-46c3-ade5-2f0073698ffd",
   "metadata": {},
   "outputs": [],
   "source": [
    "# Set up the program\n",
    "signal = QuantumRegister(4, name='signal')\n",
    "qc = QuantumCircuit(signal)"
   ]
  },
  {
   "cell_type": "code",
   "execution_count": 4,
   "id": "e00ebc14-9453-4d31-b80b-ac5098ed32d4",
   "metadata": {},
   "outputs": [],
   "source": [
    "def main():\n",
    "\n",
    "    ## Rotate kth state in register by k times 20 degrees\n",
    "    phi = 20;\n",
    "\n",
    "    ## First HAD so that we can see the result for all k values at once\n",
    "    qc.h(signal);\n",
    "\n",
    "    ## Apply 2^k phase operations to kth qubit\n",
    "    for i in range(4):\n",
    "        val = 1 << i\n",
    "        for j in range(val):\n",
    "            qc.rz(math.radians(phi), signal[i]);"
   ]
  },
  {
   "cell_type": "code",
   "execution_count": 5,
   "id": "23a28174-6a66-481b-be1e-e3bcd6baffa9",
   "metadata": {},
   "outputs": [],
   "source": [
    "def QFT(qreg):\n",
    "    ## This QFT implementation is adapted from IBM's sample:\n",
    "    ##   https://github.com/Qiskit/qiskit-terra/blob/master/examples/python/qft.py\n",
    "    ## ...with a few adjustments to match the book QFT implementation exactly\n",
    "    n = len(qreg)\n",
    "    for j in range(n):\n",
    "        for k in range(j):\n",
    "            qc.cu1(-math.pi/float(2**(j-k)), qreg[n-j-1], qreg[n-k-1])\n",
    "        qc.h(qreg[n-j-1])\n",
    "    # Now finish the QFT by reversing the order of the qubits\n",
    "    for j in range(n//2):\n",
    "        qc.swap(qreg[j], qreg[n-j-1])\n",
    "\n",
    "main()"
   ]
  },
  {
   "cell_type": "code",
   "execution_count": 6,
   "id": "acbc4286-c6c4-4fd1-8ba6-cc9ce859aa38",
   "metadata": {},
   "outputs": [],
   "source": [
    "backend = BasicAer.get_backend('statevector_simulator')\n",
    "job = execute(qc, backend)\n",
    "result = job.result()"
   ]
  },
  {
   "cell_type": "code",
   "execution_count": 7,
   "id": "0bca3469-7b2a-42b4-b2c1-767b434711f1",
   "metadata": {},
   "outputs": [
    {
     "name": "stdout",
     "output_type": "stream",
     "text": [
      "|0> (-0.217-0.125j) probability = 6.2714%\n",
      "|1> (-0.161-0.192j) probability = 6.2785%\n",
      "|2> (-0.086-0.235j) probability = 6.2621%\n",
      "|3> -0.25j probability = 6.25%\n",
      "|4> (0.086-0.235j) probability = 6.2621%\n",
      "|5> (0.161-0.192j) probability = 6.2785%\n",
      "|6> (0.217-0.125j) probability = 6.2714%\n",
      "|7> (0.246-0.043j) probability = 6.2365%\n",
      "|8> (0.246+0.043j) probability = 6.2365%\n",
      "|9> (0.217+0.125j) probability = 6.2714%\n",
      "|10> (0.161+0.192j) probability = 6.2785%\n",
      "|11> (0.086+0.235j) probability = 6.2621%\n",
      "|12> (-0+0.25j) probability = 6.25%\n",
      "|13> (-0.086+0.235j) probability = 6.2621%\n",
      "|14> (-0.161+0.192j) probability = 6.2785%\n",
      "|15> (-0.217+0.125j) probability = 6.2714%\n"
     ]
    },
    {
     "data": {
      "image/png": "[encoded data removed]",
      "text/plain": [
       "<Figure size 676.997x264.88 with 1 Axes>"
      ]
     },
     "execution_count": 7,
     "metadata": {},
     "output_type": "execute_result"
    }
   ],
   "source": [
    "outputstate = result.get_statevector(qc, decimals=3)\n",
    "for i,amp in enumerate(outputstate):\n",
    "    if abs(amp) > 0.000001:\n",
    "        prob = abs(amp) * abs(amp)\n",
    "        print('|{}> {} probability = {}%'.format(i, amp, round(prob * 100, 5)))\n",
    "qc.draw()        # draw the circuit"
   ]
  }
 ],
 "metadata": {
  "kernelspec": {
   "display_name": "Qiskit v0.34.2 (ipykernel)",
   "language": "python",
   "name": "python3"
  },
  "language_info": {
   "codemirror_mode": {
    "name": "ipython",
    "version": 3
   },
   "file_extension": ".py",
   "mimetype": "text/x-python",
   "name": "python",
   "nbconvert_exporter": "python",
   "pygments_lexer": "ipython3",
   "version": "3.8.12"
  },
  "widgets": {
   "application/vnd.jupyter.widget-state+json": {
    "state": {
     "1994eb1708f5466780cd325ca8b93277": {
      "model_module": "@jupyter-widgets/base",
      "model_module_version": "1.2.0",
      "model_name": "LayoutModel",
      "state": {
       "grid_template_areas": "\n                                       \". . . . right \"\n                                        ",
       "grid_template_columns": "20% 20% 20% 20% 20%",
       "width": "100%"
      }
     },
     "1ca76f212b7d41a6a3f79013d63c970c": {
      "model_module": "@jupyter-widgets/controls",
      "model_module_version": "1.5.0",
      "model_name": "HTMLModel",
      "state": {
       "layout": "IPY_MODEL_b182df1c9dbc4d7cb200c63f1d49c171",
       "style": "IPY_MODEL_e4254ea717454739b81692ddf1b035bc",
       "value": "<h5>Job ID</h5>"
      }
     },
     "1f4a28b2ce944788aff838982f669038": {
      "model_module": "@jupyter-widgets/controls",
      "model_module_version": "1.5.0",
      "model_name": "HBoxModel",
      "state": {
       "children": [
        "IPY_MODEL_1ca76f212b7d41a6a3f79013d63c970c",
        "IPY_MODEL_ca36de24204a4eed88b0fd1386ca4c1b",
        "IPY_MODEL_395dc259e490434d80326e3faa064296",
        "IPY_MODEL_57e67840e51c497f9782389980adf2cb",
        "IPY_MODEL_f3ac0ed1e003456c955c0c7eefb47da5"
       ],
       "layout": "IPY_MODEL_c314a3f535f64b2d8683b685b2cba4fb"
      }
     },
     "395dc259e490434d80326e3faa064296": {
      "model_module": "@jupyter-widgets/controls",
      "model_module_version": "1.5.0",
      "model_name": "HTMLModel",
      "state": {
       "layout": "IPY_MODEL_f0ca167a14f440e6b517c2017981487b",
       "style": "IPY_MODEL_47afd204abb045488705a0892ca51922",
       "value": "<h5>Status</h5>"
      }
     },
     "44f04b5014fb4c5e997f0733dab09431": {
      "model_module": "@jupyter-widgets/controls",
      "model_module_version": "1.5.0",
      "model_name": "ButtonStyleModel",
      "state": {}
     },
     "47afd204abb045488705a0892ca51922": {
      "model_module": "@jupyter-widgets/controls",
      "model_module_version": "1.5.0",
      "model_name": "DescriptionStyleModel",
      "state": {
       "description_width": ""
      }
     },
     "57e67840e51c497f9782389980adf2cb": {
      "model_module": "@jupyter-widgets/controls",
      "model_module_version": "1.5.0",
      "model_name": "HTMLModel",
      "state": {
       "layout": "IPY_MODEL_8468dfa6db384123baa7bdd2a1d1e198",
       "style": "IPY_MODEL_a35a792c634e489883a9a89f1088e17d",
       "value": "<h5>Queue</h5>"
      }
     },
     "6184306897944b8aaa2a73ae81262abc": {
      "model_module": "@jupyter-widgets/base",
      "model_module_version": "1.2.0",
      "model_name": "LayoutModel",
      "state": {
       "grid_area": "right",
       "padding": "0px 0px 0px 0px",
       "width": "70px"
      }
     },
     "8468dfa6db384123baa7bdd2a1d1e198": {
      "model_module": "@jupyter-widgets/base",
      "model_module_version": "1.2.0",
      "model_name": "LayoutModel",
      "state": {
       "width": "70px"
      }
     },
     "86211b1230dc41309a2a4f909541b5fd": {
      "model_module": "@jupyter-widgets/controls",
      "model_module_version": "1.5.0",
      "model_name": "HTMLModel",
      "state": {
       "layout": "IPY_MODEL_ee93b15f06d04c1e920ee6d17e693991",
       "style": "IPY_MODEL_c0b111167fa14d23ba6e3de560d294be",
       "value": "<p style='font-family: IBM Plex Sans, Arial, Helvetica, sans-serif; font-size: 20px; font-weight: medium;'>Circuit Properties</p>"
      }
     },
     "97ba4a0e58e340fb94d45937a10d13fc": {
      "model_module": "@jupyter-widgets/controls",
      "model_module_version": "1.5.0",
      "model_name": "ButtonModel",
      "state": {
       "button_style": "primary",
       "description": "Clear",
       "layout": "IPY_MODEL_6184306897944b8aaa2a73ae81262abc",
       "style": "IPY_MODEL_44f04b5014fb4c5e997f0733dab09431"
      }
     },
     "a35a792c634e489883a9a89f1088e17d": {
      "model_module": "@jupyter-widgets/controls",
      "model_module_version": "1.5.0",
      "model_name": "DescriptionStyleModel",
      "state": {
       "description_width": ""
      }
     },
     "b182df1c9dbc4d7cb200c63f1d49c171": {
      "model_module": "@jupyter-widgets/base",
      "model_module_version": "1.2.0",
      "model_name": "LayoutModel",
      "state": {
       "width": "190px"
      }
     },
     "b7c024080ac54c5b82c8faf4bcf892b4": {
      "model_module": "@jupyter-widgets/controls",
      "model_module_version": "1.5.0",
      "model_name": "DescriptionStyleModel",
      "state": {
       "description_width": ""
      }
     },
     "c0b111167fa14d23ba6e3de560d294be": {
      "model_module": "@jupyter-widgets/controls",
      "model_module_version": "1.5.0",
      "model_name": "DescriptionStyleModel",
      "state": {
       "description_width": ""
      }
     },
     "c314a3f535f64b2d8683b685b2cba4fb": {
      "model_module": "@jupyter-widgets/base",
      "model_module_version": "1.2.0",
      "model_name": "LayoutModel",
      "state": {
       "margin": "0px 0px 0px 37px",
       "width": "600px"
      }
     },
     "c3f999c8fe794dc8badd4df08260adba": {
      "model_module": "@jupyter-widgets/controls",
      "model_module_version": "1.5.0",
      "model_name": "GridBoxModel",
      "state": {
       "children": [
        "IPY_MODEL_97ba4a0e58e340fb94d45937a10d13fc"
       ],
       "layout": "IPY_MODEL_1994eb1708f5466780cd325ca8b93277"
      }
     },
     "ca36de24204a4eed88b0fd1386ca4c1b": {
      "model_module": "@jupyter-widgets/controls",
      "model_module_version": "1.5.0",
      "model_name": "HTMLModel",
      "state": {
       "layout": "IPY_MODEL_fa4fa023666e429d80a9d4210e9b08b0",
       "style": "IPY_MODEL_f937001bc4cf40b7bef6287b1148cb91",
       "value": "<h5>Backend</h5>"
      }
     },
     "e1f5509d6eb04232bd4e02dc45028a8f": {
      "model_module": "@jupyter-widgets/base",
      "model_module_version": "1.2.0",
      "model_name": "LayoutModel",
      "state": {}
     },
     "e4254ea717454739b81692ddf1b035bc": {
      "model_module": "@jupyter-widgets/controls",
      "model_module_version": "1.5.0",
      "model_name": "DescriptionStyleModel",
      "state": {
       "description_width": ""
      }
     },
     "ee93b15f06d04c1e920ee6d17e693991": {
      "model_module": "@jupyter-widgets/base",
      "model_module_version": "1.2.0",
      "model_name": "LayoutModel",
      "state": {
       "margin": "0px 0px 10px 0px"
      }
     },
     "f0ca167a14f440e6b517c2017981487b": {
      "model_module": "@jupyter-widgets/base",
      "model_module_version": "1.2.0",
      "model_name": "LayoutModel",
      "state": {
       "width": "95px"
      }
     },
     "f3ac0ed1e003456c955c0c7eefb47da5": {
      "model_module": "@jupyter-widgets/controls",
      "model_module_version": "1.5.0",
      "model_name": "HTMLModel",
      "state": {
       "layout": "IPY_MODEL_e1f5509d6eb04232bd4e02dc45028a8f",
       "style": "IPY_MODEL_b7c024080ac54c5b82c8faf4bcf892b4",
       "value": "<h5>Message</h5>"
      }
     },
     "f937001bc4cf40b7bef6287b1148cb91": {
      "model_module": "@jupyter-widgets/controls",
      "model_module_version": "1.5.0",
      "model_name": "DescriptionStyleModel",
      "state": {
       "description_width": ""
      }
     },
     "fa4fa023666e429d80a9d4210e9b08b0": {
      "model_module": "@jupyter-widgets/base",
      "model_module_version": "1.2.0",
      "model_name": "LayoutModel",
      "state": {
       "width": "145px"
      }
     }
    },
    "version_major": 2,
    "version_minor": 0
   }
  }
 },
 "nbformat": 4,
 "nbformat_minor": 5
}
