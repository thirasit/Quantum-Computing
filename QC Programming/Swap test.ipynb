{
 "cells": [
  {
   "cell_type": "markdown",
   "id": "73290c47-2a7c-4b62-b9f3-0308d1701ec4",
   "metadata": {},
   "source": [
    "# **Swap test**"
   ]
  },
  {
   "cell_type": "code",
   "execution_count": 1,
   "id": "812c5759-d2b1-4881-9cf2-e1d005cc08a1",
   "metadata": {},
   "outputs": [],
   "source": [
    "import numpy as np\n",
    "\n",
    "# Importing standard Qiskit libraries\n",
    "from qiskit import QuantumCircuit, transpile, Aer, IBMQ, QuantumRegister, ClassicalRegister, execute, BasicAer\n",
    "from qiskit.tools.jupyter import *\n",
    "from qiskit.visualization import *\n",
    "from ibm_quantum_widgets import *\n",
    "from qiskit.providers.aer import QasmSimulator\n",
    "\n",
    "# Loading your IBM Quantum account(s)\n",
    "provider = IBMQ.load_account()"
   ]
  },
  {
   "cell_type": "code",
   "execution_count": 2,
   "id": "4c1128ed-a6c2-4441-9d69-5644d91401d7",
   "metadata": {},
   "outputs": [],
   "source": [
    "import math\n",
    "%matplotlib inline"
   ]
  },
  {
   "cell_type": "code",
   "execution_count": 3,
   "id": "0a7fe51a-54d8-4f3c-90f9-bd43d14963ed",
   "metadata": {},
   "outputs": [],
   "source": [
    "# Set up the program\n",
    "input1 = QuantumRegister(1, name='input1')\n",
    "input2 = QuantumRegister(1, name='input2')\n",
    "output = QuantumRegister(1, name='output')\n",
    "output_c = ClassicalRegister(1, name='outputc')\n",
    "qc = QuantumCircuit(input1, input2, output, output_c)"
   ]
  },
  {
   "cell_type": "code",
   "execution_count": 4,
   "id": "ae466822-3e1a-4253-8fed-9bfc361c154d",
   "metadata": {},
   "outputs": [
    {
     "data": {
      "text/plain": [
       "<qiskit.circuit.instructionset.InstructionSet at 0x7fc82bf4c580>"
      ]
     },
     "execution_count": 4,
     "metadata": {},
     "output_type": "execute_result"
    }
   ],
   "source": [
    "qc.h(output)\n",
    "qc.cswap(output, input1, input2)\n",
    "qc.h(output)\n",
    "qc.x(output)\n",
    "qc.measure(output, output_c)"
   ]
  },
  {
   "cell_type": "code",
   "execution_count": 5,
   "id": "0fac203d-ea0c-4a25-888d-259fa1aeddc7",
   "metadata": {},
   "outputs": [],
   "source": [
    "backend = BasicAer.get_backend('statevector_simulator')\n",
    "job = execute(qc, backend)\n",
    "result = job.result()"
   ]
  },
  {
   "cell_type": "code",
   "execution_count": 6,
   "id": "89b1b0c9-47fd-4275-b306-fee4892dfa18",
   "metadata": {},
   "outputs": [
    {
     "name": "stdout",
     "output_type": "stream",
     "text": [
      "counts: {'1': 1}\n"
     ]
    }
   ],
   "source": [
    "counts = result.get_counts(qc)\n",
    "print('counts:',counts)"
   ]
  },
  {
   "cell_type": "code",
   "execution_count": 7,
   "id": "29e8aa0b-1525-4b5f-bc60-f27e428d569c",
   "metadata": {},
   "outputs": [
    {
     "name": "stdout",
     "output_type": "stream",
     "text": [
      "[0.+0.j 0.+0.j 0.+0.j 0.+0.j 1.-0.j 0.+0.j 0.+0.j 0.+0.j]\n"
     ]
    },
    {
     "data": {
      "image/png": "[encoded data removed]",
      "text/plain": [
       "<Figure size 440.967x264.88 with 1 Axes>"
      ]
     },
     "execution_count": 7,
     "metadata": {},
     "output_type": "execute_result"
    }
   ],
   "source": [
    "outputstate = result.get_statevector(qc, decimals=3)\n",
    "print(outputstate)\n",
    "qc.draw()        # draw the circuit"
   ]
  }
 ],
 "metadata": {
  "kernelspec": {
   "display_name": "Qiskit v0.34.1 (ipykernel)",
   "language": "python",
   "name": "python3"
  },
  "language_info": {
   "codemirror_mode": {
    "name": "ipython",
    "version": 3
   },
   "file_extension": ".py",
   "mimetype": "text/x-python",
   "name": "python",
   "nbconvert_exporter": "python",
   "pygments_lexer": "ipython3",
   "version": "3.8.12"
  },
  "widgets": {
   "application/vnd.jupyter.widget-state+json": {
    "state": {
     "01ffd961ceae46138c24c8843f5c59e0": {
      "model_module": "@jupyter-widgets/base",
      "model_module_version": "1.2.0",
      "model_name": "LayoutModel",
      "state": {
       "grid_area": "right",
       "padding": "0px 0px 0px 0px",
       "width": "70px"
      }
     },
     "0aaec7e360794da8a343d82e4ce0c3cb": {
      "model_module": "@jupyter-widgets/controls",
      "model_module_version": "1.5.0",
      "model_name": "HTMLModel",
      "state": {
       "layout": "IPY_MODEL_4d5569c3b2444191a260173c989682ec",
       "style": "IPY_MODEL_9d63d6c75f9a45ff9d1610c3def46418",
       "value": "<h5>Message</h5>"
      }
     },
     "0d59215b4bef445fa38583d87f1762e3": {
      "model_module": "@jupyter-widgets/controls",
      "model_module_version": "1.5.0",
      "model_name": "DescriptionStyleModel",
      "state": {
       "description_width": ""
      }
     },
     "12963dfc09dc4a108702dca78ac13883": {
      "model_module": "@jupyter-widgets/base",
      "model_module_version": "1.2.0",
      "model_name": "LayoutModel",
      "state": {
       "margin": "0px 0px 10px 0px"
      }
     },
     "12f8e03249e84ff1a35d0108bc996c18": {
      "model_module": "@jupyter-widgets/controls",
      "model_module_version": "1.5.0",
      "model_name": "DescriptionStyleModel",
      "state": {
       "description_width": ""
      }
     },
     "1fe130df1ee44c689b9a5d8b43b66e58": {
      "model_module": "@jupyter-widgets/controls",
      "model_module_version": "1.5.0",
      "model_name": "GridBoxModel",
      "state": {
       "children": [
        "IPY_MODEL_69908e82d1b943bbaabf899c78b17d9a"
       ],
       "layout": "IPY_MODEL_a16abce0b48e4aa099ae2213988437d4"
      }
     },
     "2dc0966e1d8f4ca5b60ccdb57b4ec185": {
      "model_module": "@jupyter-widgets/controls",
      "model_module_version": "1.5.0",
      "model_name": "ButtonStyleModel",
      "state": {}
     },
     "3f1342bbd6994ca58c0c6b804fd42fd8": {
      "model_module": "@jupyter-widgets/base",
      "model_module_version": "1.2.0",
      "model_name": "LayoutModel",
      "state": {
       "width": "95px"
      }
     },
     "4d5569c3b2444191a260173c989682ec": {
      "model_module": "@jupyter-widgets/base",
      "model_module_version": "1.2.0",
      "model_name": "LayoutModel",
      "state": {}
     },
     "60f1595b25964d8c96389b3627b8da26": {
      "model_module": "@jupyter-widgets/controls",
      "model_module_version": "1.5.0",
      "model_name": "HBoxModel",
      "state": {
       "children": [
        "IPY_MODEL_cad85b76e8714c6287eb3aa234c69fbc",
        "IPY_MODEL_7ae27b55fb694f0093c2fd6fb0f71c08",
        "IPY_MODEL_e81ae4dee47446d0953b3f43a13fe845",
        "IPY_MODEL_c2a41f9d5b3a43b281fa9f81c6e7e262",
        "IPY_MODEL_0aaec7e360794da8a343d82e4ce0c3cb"
       ],
       "layout": "IPY_MODEL_c39c1f03c71b4b39aed67651eec50dcc"
      }
     },
     "68e0aac274724534aa803e9d2b3885ba": {
      "model_module": "@jupyter-widgets/controls",
      "model_module_version": "1.5.0",
      "model_name": "DescriptionStyleModel",
      "state": {
       "description_width": ""
      }
     },
     "69908e82d1b943bbaabf899c78b17d9a": {
      "model_module": "@jupyter-widgets/controls",
      "model_module_version": "1.5.0",
      "model_name": "ButtonModel",
      "state": {
       "button_style": "primary",
       "description": "Clear",
       "layout": "IPY_MODEL_01ffd961ceae46138c24c8843f5c59e0",
       "style": "IPY_MODEL_2dc0966e1d8f4ca5b60ccdb57b4ec185"
      }
     },
     "6e37c4e7ef334980867d032bd8907341": {
      "model_module": "@jupyter-widgets/base",
      "model_module_version": "1.2.0",
      "model_name": "LayoutModel",
      "state": {
       "width": "190px"
      }
     },
     "751024d7ca5045a39273652ae320a2e8": {
      "model_module": "@jupyter-widgets/base",
      "model_module_version": "1.2.0",
      "model_name": "LayoutModel",
      "state": {
       "width": "70px"
      }
     },
     "75a0b69760274c00a65379ea93014352": {
      "model_module": "@jupyter-widgets/controls",
      "model_module_version": "1.5.0",
      "model_name": "DescriptionStyleModel",
      "state": {
       "description_width": ""
      }
     },
     "7ae27b55fb694f0093c2fd6fb0f71c08": {
      "model_module": "@jupyter-widgets/controls",
      "model_module_version": "1.5.0",
      "model_name": "HTMLModel",
      "state": {
       "layout": "IPY_MODEL_e7a47da61f364ca09681600e69208189",
       "style": "IPY_MODEL_b8b0765a7a5a4fc1b36d477f4ddc7724",
       "value": "<h5>Backend</h5>"
      }
     },
     "9d63d6c75f9a45ff9d1610c3def46418": {
      "model_module": "@jupyter-widgets/controls",
      "model_module_version": "1.5.0",
      "model_name": "DescriptionStyleModel",
      "state": {
       "description_width": ""
      }
     },
     "a16abce0b48e4aa099ae2213988437d4": {
      "model_module": "@jupyter-widgets/base",
      "model_module_version": "1.2.0",
      "model_name": "LayoutModel",
      "state": {
       "grid_template_areas": "\n                                       \". . . . right \"\n                                        ",
       "grid_template_columns": "20% 20% 20% 20% 20%",
       "width": "100%"
      }
     },
     "b2b4eec2ad9a4c97b19ebfecec87d683": {
      "model_module": "@jupyter-widgets/controls",
      "model_module_version": "1.5.0",
      "model_name": "HTMLModel",
      "state": {
       "layout": "IPY_MODEL_12963dfc09dc4a108702dca78ac13883",
       "style": "IPY_MODEL_68e0aac274724534aa803e9d2b3885ba",
       "value": "<p style='font-family: IBM Plex Sans, Arial, Helvetica, sans-serif; font-size: 20px; font-weight: medium;'>Circuit Properties</p>"
      }
     },
     "b8b0765a7a5a4fc1b36d477f4ddc7724": {
      "model_module": "@jupyter-widgets/controls",
      "model_module_version": "1.5.0",
      "model_name": "DescriptionStyleModel",
      "state": {
       "description_width": ""
      }
     },
     "c2a41f9d5b3a43b281fa9f81c6e7e262": {
      "model_module": "@jupyter-widgets/controls",
      "model_module_version": "1.5.0",
      "model_name": "HTMLModel",
      "state": {
       "layout": "IPY_MODEL_751024d7ca5045a39273652ae320a2e8",
       "style": "IPY_MODEL_12f8e03249e84ff1a35d0108bc996c18",
       "value": "<h5>Queue</h5>"
      }
     },
     "c39c1f03c71b4b39aed67651eec50dcc": {
      "model_module": "@jupyter-widgets/base",
      "model_module_version": "1.2.0",
      "model_name": "LayoutModel",
      "state": {
       "margin": "0px 0px 0px 37px",
       "width": "600px"
      }
     },
     "cad85b76e8714c6287eb3aa234c69fbc": {
      "model_module": "@jupyter-widgets/controls",
      "model_module_version": "1.5.0",
      "model_name": "HTMLModel",
      "state": {
       "layout": "IPY_MODEL_6e37c4e7ef334980867d032bd8907341",
       "style": "IPY_MODEL_75a0b69760274c00a65379ea93014352",
       "value": "<h5>Job ID</h5>"
      }
     },
     "e7a47da61f364ca09681600e69208189": {
      "model_module": "@jupyter-widgets/base",
      "model_module_version": "1.2.0",
      "model_name": "LayoutModel",
      "state": {
       "width": "145px"
      }
     },
     "e81ae4dee47446d0953b3f43a13fe845": {
      "model_module": "@jupyter-widgets/controls",
      "model_module_version": "1.5.0",
      "model_name": "HTMLModel",
      "state": {
       "layout": "IPY_MODEL_3f1342bbd6994ca58c0c6b804fd42fd8",
       "style": "IPY_MODEL_0d59215b4bef445fa38583d87f1762e3",
       "value": "<h5>Status</h5>"
      }
     }
    },
    "version_major": 2,
    "version_minor": 0
   }
  }
 },
 "nbformat": 4,
 "nbformat_minor": 5
}
