{
 "cells": [
  {
   "cell_type": "markdown",
   "id": "020b483f-ea2a-45eb-8a4c-050b93b4ce09",
   "metadata": {},
   "source": [
    "# **Remote-controlled randomness**"
   ]
  },
  {
   "cell_type": "code",
   "execution_count": 1,
   "id": "14cbb364-ac9f-4c53-b425-102cb5e2efb6",
   "metadata": {},
   "outputs": [],
   "source": [
    "import numpy as np\n",
    "\n",
    "# Importing standard Qiskit libraries\n",
    "from qiskit import QuantumCircuit, transpile, Aer, IBMQ, QuantumRegister, ClassicalRegister, execute, BasicAer\n",
    "from qiskit.tools.jupyter import *\n",
    "from qiskit.visualization import *\n",
    "from ibm_quantum_widgets import *\n",
    "from qiskit.providers.aer import QasmSimulator\n",
    "\n",
    "# Loading your IBM Quantum account(s)\n",
    "provider = IBMQ.load_account()"
   ]
  },
  {
   "cell_type": "code",
   "execution_count": 2,
   "id": "a4c9daae-2719-4e6a-9187-7cc9909989b1",
   "metadata": {},
   "outputs": [],
   "source": [
    "import math\n",
    "%matplotlib inline"
   ]
  },
  {
   "cell_type": "code",
   "execution_count": 3,
   "id": "3ae92044-f018-4e9a-9bba-75ca5f0c4744",
   "metadata": {},
   "outputs": [],
   "source": [
    "# Set up the program\n",
    "a = QuantumRegister(1, name='a')\n",
    "b = QuantumRegister(1, name='b')\n",
    "a_c = ClassicalRegister(1, name='ac')\n",
    "b_c = ClassicalRegister(1, name='bc')\n",
    "qc = QuantumCircuit(a, b, a_c, b_c)"
   ]
  },
  {
   "cell_type": "code",
   "execution_count": 4,
   "id": "40257eb8-b539-4712-ae2f-3e0a2bc5ebfd",
   "metadata": {},
   "outputs": [
    {
     "data": {
      "text/plain": [
       "<qiskit.circuit.instructionset.InstructionSet at 0x7f36ea2ded80>"
      ]
     },
     "execution_count": 4,
     "metadata": {},
     "output_type": "execute_result"
    }
   ],
   "source": [
    "qc.h(a)\n",
    "## now prob of a is 50%\n",
    "qc.h(b)\n",
    "qc.t(b)\n",
    "qc.h(b)\n",
    "## now prob of b is 15%\n",
    "qc.cx(a, b)        # entangle a and b\n",
    "## Now, you can read *either*\n",
    "## qubit and get 50% prob.\n",
    "## If the result is 0, then\n",
    "## the prob of the *remaining*\n",
    "## qubit is 15%, else it's 85%\n",
    "qc.barrier()\n",
    "qc.measure(a, a_c)\n",
    "qc.barrier()\n",
    "qc.measure(b, b_c)"
   ]
  },
  {
   "cell_type": "code",
   "execution_count": 5,
   "id": "67d88459-3bd5-47f0-94d9-5a93661a112d",
   "metadata": {},
   "outputs": [],
   "source": [
    "backend = BasicAer.get_backend('statevector_simulator')\n",
    "job = execute(qc, backend)\n",
    "result = job.result()"
   ]
  },
  {
   "cell_type": "code",
   "execution_count": 6,
   "id": "e0b88e29-7626-4987-a906-c32969bb769d",
   "metadata": {},
   "outputs": [
    {
     "name": "stdout",
     "output_type": "stream",
     "text": [
      "counts: {'0 1': 1}\n"
     ]
    }
   ],
   "source": [
    "counts = result.get_counts(qc)\n",
    "print('counts:',counts)"
   ]
  },
  {
   "cell_type": "code",
   "execution_count": 7,
   "id": "e1f1abc3-efe3-4bf8-bb15-6818fe9e8625",
   "metadata": {},
   "outputs": [
    {
     "name": "stdout",
     "output_type": "stream",
     "text": [
      "[0.   +0.j    0.383-0.924j 0.   +0.j    0.   +0.j   ]\n"
     ]
    },
    {
     "data": {
      "image/png": "[encoded data removed]",
      "text/plain": [
       "<Figure size 566.467x264.88 with 1 Axes>"
      ]
     },
     "execution_count": 7,
     "metadata": {},
     "output_type": "execute_result"
    }
   ],
   "source": [
    "outputstate = result.get_statevector(qc, decimals=3)\n",
    "print(outputstate)\n",
    "qc.draw()        # draw the circuit"
   ]
  }
 ],
 "metadata": {
  "kernelspec": {
   "display_name": "Qiskit v0.34.1 (ipykernel)",
   "language": "python",
   "name": "python3"
  },
  "language_info": {
   "codemirror_mode": {
    "name": "ipython",
    "version": 3
   },
   "file_extension": ".py",
   "mimetype": "text/x-python",
   "name": "python",
   "nbconvert_exporter": "python",
   "pygments_lexer": "ipython3",
   "version": "3.8.12"
  },
  "widgets": {
   "application/vnd.jupyter.widget-state+json": {
    "state": {
     "0d826c33a04c478cac857af486abe1a1": {
      "model_module": "@jupyter-widgets/controls",
      "model_module_version": "1.5.0",
      "model_name": "DescriptionStyleModel",
      "state": {
       "description_width": ""
      }
     },
     "140d58c44a2e4d89a49265fd8257f0d7": {
      "model_module": "@jupyter-widgets/base",
      "model_module_version": "1.2.0",
      "model_name": "LayoutModel",
      "state": {
       "width": "190px"
      }
     },
     "1c2bc785c26b4eb6a08544871916fffd": {
      "model_module": "@jupyter-widgets/controls",
      "model_module_version": "1.5.0",
      "model_name": "DescriptionStyleModel",
      "state": {
       "description_width": ""
      }
     },
     "285a1967f22840a3a12bcfba9e4a0c52": {
      "model_module": "@jupyter-widgets/base",
      "model_module_version": "1.2.0",
      "model_name": "LayoutModel",
      "state": {
       "grid_area": "right",
       "padding": "0px 0px 0px 0px",
       "width": "70px"
      }
     },
     "2b8584e017fd4c1f9d1f2e87678bc4a0": {
      "model_module": "@jupyter-widgets/controls",
      "model_module_version": "1.5.0",
      "model_name": "HTMLModel",
      "state": {
       "layout": "IPY_MODEL_eb7b4f82aeef47b2a1cbc186a573dbae",
       "style": "IPY_MODEL_1c2bc785c26b4eb6a08544871916fffd",
       "value": "<h5>Backend</h5>"
      }
     },
     "2ee203ff01c74725b7562cca4bbc78a2": {
      "model_module": "@jupyter-widgets/controls",
      "model_module_version": "1.5.0",
      "model_name": "DescriptionStyleModel",
      "state": {
       "description_width": ""
      }
     },
     "35b482e47bb04f928462dd44d5b516f0": {
      "model_module": "@jupyter-widgets/base",
      "model_module_version": "1.2.0",
      "model_name": "LayoutModel",
      "state": {}
     },
     "40114fa5476f4077ab3a697b780c5be2": {
      "model_module": "@jupyter-widgets/controls",
      "model_module_version": "1.5.0",
      "model_name": "HTMLModel",
      "state": {
       "layout": "IPY_MODEL_140d58c44a2e4d89a49265fd8257f0d7",
       "style": "IPY_MODEL_0d826c33a04c478cac857af486abe1a1",
       "value": "<h5>Job ID</h5>"
      }
     },
     "4ea36ad087e8443ca0382cd8ef04564d": {
      "model_module": "@jupyter-widgets/controls",
      "model_module_version": "1.5.0",
      "model_name": "HBoxModel",
      "state": {
       "children": [
        "IPY_MODEL_40114fa5476f4077ab3a697b780c5be2",
        "IPY_MODEL_2b8584e017fd4c1f9d1f2e87678bc4a0",
        "IPY_MODEL_a03cf904bf7e492d9073cd707c6d5b79",
        "IPY_MODEL_69320b58bf0b49bc8083083350cbe1ba",
        "IPY_MODEL_81008375eb40463e84ed03cb31a9d1d1"
       ],
       "layout": "IPY_MODEL_7ef899acb1b64c6398af142916f5276e"
      }
     },
     "4f1acf7da95b4d71b9ec5333d0f77c08": {
      "model_module": "@jupyter-widgets/controls",
      "model_module_version": "1.5.0",
      "model_name": "GridBoxModel",
      "state": {
       "children": [
        "IPY_MODEL_9715d5248ec749f38804a27e5bda1cc7"
       ],
       "layout": "IPY_MODEL_c0e247c1a47c4428a993423eaaf4a501"
      }
     },
     "628d739ccbc143aea238dda72cf0bdcf": {
      "model_module": "@jupyter-widgets/base",
      "model_module_version": "1.2.0",
      "model_name": "LayoutModel",
      "state": {
       "width": "95px"
      }
     },
     "69320b58bf0b49bc8083083350cbe1ba": {
      "model_module": "@jupyter-widgets/controls",
      "model_module_version": "1.5.0",
      "model_name": "HTMLModel",
      "state": {
       "layout": "IPY_MODEL_7afbdde3b7b7440ea04c7e4c0e91770a",
       "style": "IPY_MODEL_adb100423ca8444392f087b37c24384b",
       "value": "<h5>Queue</h5>"
      }
     },
     "7afbdde3b7b7440ea04c7e4c0e91770a": {
      "model_module": "@jupyter-widgets/base",
      "model_module_version": "1.2.0",
      "model_name": "LayoutModel",
      "state": {
       "width": "70px"
      }
     },
     "7ef899acb1b64c6398af142916f5276e": {
      "model_module": "@jupyter-widgets/base",
      "model_module_version": "1.2.0",
      "model_name": "LayoutModel",
      "state": {
       "margin": "0px 0px 0px 37px",
       "width": "600px"
      }
     },
     "81008375eb40463e84ed03cb31a9d1d1": {
      "model_module": "@jupyter-widgets/controls",
      "model_module_version": "1.5.0",
      "model_name": "HTMLModel",
      "state": {
       "layout": "IPY_MODEL_35b482e47bb04f928462dd44d5b516f0",
       "style": "IPY_MODEL_2ee203ff01c74725b7562cca4bbc78a2",
       "value": "<h5>Message</h5>"
      }
     },
     "8e11cf57ac384cea95200d6e33a32af7": {
      "model_module": "@jupyter-widgets/base",
      "model_module_version": "1.2.0",
      "model_name": "LayoutModel",
      "state": {
       "margin": "0px 0px 10px 0px"
      }
     },
     "96b6454d8bdd42f3a069963502ffd1ba": {
      "model_module": "@jupyter-widgets/controls",
      "model_module_version": "1.5.0",
      "model_name": "DescriptionStyleModel",
      "state": {
       "description_width": ""
      }
     },
     "9715d5248ec749f38804a27e5bda1cc7": {
      "model_module": "@jupyter-widgets/controls",
      "model_module_version": "1.5.0",
      "model_name": "ButtonModel",
      "state": {
       "button_style": "primary",
       "description": "Clear",
       "layout": "IPY_MODEL_285a1967f22840a3a12bcfba9e4a0c52",
       "style": "IPY_MODEL_edf7c6d45e1842ffb9e0d764a405b5d8"
      }
     },
     "a03cf904bf7e492d9073cd707c6d5b79": {
      "model_module": "@jupyter-widgets/controls",
      "model_module_version": "1.5.0",
      "model_name": "HTMLModel",
      "state": {
       "layout": "IPY_MODEL_628d739ccbc143aea238dda72cf0bdcf",
       "style": "IPY_MODEL_ddbf1b893a3b487cb086d173bfef14a7",
       "value": "<h5>Status</h5>"
      }
     },
     "adb100423ca8444392f087b37c24384b": {
      "model_module": "@jupyter-widgets/controls",
      "model_module_version": "1.5.0",
      "model_name": "DescriptionStyleModel",
      "state": {
       "description_width": ""
      }
     },
     "c0e247c1a47c4428a993423eaaf4a501": {
      "model_module": "@jupyter-widgets/base",
      "model_module_version": "1.2.0",
      "model_name": "LayoutModel",
      "state": {
       "grid_template_areas": "\n                                       \". . . . right \"\n                                        ",
       "grid_template_columns": "20% 20% 20% 20% 20%",
       "width": "100%"
      }
     },
     "d026b20ae40d4f79a83035c6a4b28df9": {
      "model_module": "@jupyter-widgets/controls",
      "model_module_version": "1.5.0",
      "model_name": "HTMLModel",
      "state": {
       "layout": "IPY_MODEL_8e11cf57ac384cea95200d6e33a32af7",
       "style": "IPY_MODEL_96b6454d8bdd42f3a069963502ffd1ba",
       "value": "<p style='font-family: IBM Plex Sans, Arial, Helvetica, sans-serif; font-size: 20px; font-weight: medium;'>Circuit Properties</p>"
      }
     },
     "ddbf1b893a3b487cb086d173bfef14a7": {
      "model_module": "@jupyter-widgets/controls",
      "model_module_version": "1.5.0",
      "model_name": "DescriptionStyleModel",
      "state": {
       "description_width": ""
      }
     },
     "eb7b4f82aeef47b2a1cbc186a573dbae": {
      "model_module": "@jupyter-widgets/base",
      "model_module_version": "1.2.0",
      "model_name": "LayoutModel",
      "state": {
       "width": "145px"
      }
     },
     "edf7c6d45e1842ffb9e0d764a405b5d8": {
      "model_module": "@jupyter-widgets/controls",
      "model_module_version": "1.5.0",
      "model_name": "ButtonStyleModel",
      "state": {}
     }
    },
    "version_major": 2,
    "version_minor": 0
   }
  }
 },
 "nbformat": 4,
 "nbformat_minor": 5
}
