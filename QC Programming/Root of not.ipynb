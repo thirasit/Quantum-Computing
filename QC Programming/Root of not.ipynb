{
 "cells": [
  {
   "cell_type": "code",
   "execution_count": 1,
   "id": "c23930fa-ca0b-414c-b4be-277ac5018a03",
   "metadata": {},
   "outputs": [],
   "source": [
    "import numpy as np\n",
    "\n",
    "# Importing standard Qiskit libraries\n",
    "from qiskit import QuantumCircuit, transpile, Aer, IBMQ, QuantumRegister, ClassicalRegister, BasicAer, execute\n",
    "from qiskit.tools.jupyter import *\n",
    "from qiskit.visualization import *\n",
    "from ibm_quantum_widgets import *\n",
    "from qiskit.providers.aer import QasmSimulator\n",
    "\n",
    "# Loading your IBM Quantum account(s)\n",
    "provider = IBMQ.load_account()"
   ]
  },
  {
   "cell_type": "markdown",
   "id": "3c207546-fcd7-4b50-a05d-92d399c8d13e",
   "metadata": {},
   "source": [
    "## **This notebook demonstrates root-of-not.**"
   ]
  },
  {
   "cell_type": "code",
   "execution_count": 2,
   "id": "90a53104-5194-4c51-9428-ab13db7c937d",
   "metadata": {},
   "outputs": [],
   "source": [
    "import math\n",
    "%matplotlib inline"
   ]
  },
  {
   "cell_type": "code",
   "execution_count": 3,
   "id": "e8f46d88-c642-477c-89e4-befbdf5c2396",
   "metadata": {},
   "outputs": [],
   "source": [
    "# Set up the program\n",
    "reg = QuantumRegister(1, name='reg')\n",
    "reg_c = ClassicalRegister(1, name='regc')\n",
    "qc = QuantumCircuit(reg, reg_c)"
   ]
  },
  {
   "cell_type": "code",
   "execution_count": 4,
   "id": "4fdefe4d-c8d9-467d-8082-0647f850f683",
   "metadata": {},
   "outputs": [
    {
     "data": {
      "text/plain": [
       "<qiskit.circuit.instructionset.InstructionSet at 0x7f31db508980>"
      ]
     },
     "execution_count": 4,
     "metadata": {},
     "output_type": "execute_result"
    }
   ],
   "source": [
    "qc.reset(reg)          # write the value 0"
   ]
  },
  {
   "cell_type": "code",
   "execution_count": 5,
   "id": "2bf39fe2-ff9f-49f7-9aed-5faa90f8afed",
   "metadata": {},
   "outputs": [
    {
     "data": {
      "text/plain": [
       "<qiskit.circuit.instructionset.InstructionSet at 0x7f31da43fc80>"
      ]
     },
     "execution_count": 5,
     "metadata": {},
     "output_type": "execute_result"
    }
   ],
   "source": [
    "# One root-of-not gate\n",
    "qc.h(reg)\n",
    "qc.rz(math.radians(-90), reg)\n",
    "qc.h(reg)\n",
    "qc.barrier()\n",
    "# One root-of-not gate\n",
    "qc.h(reg)\n",
    "qc.rz(math.radians(-90), reg)\n",
    "qc.h(reg)\n",
    "qc.barrier()"
   ]
  },
  {
   "cell_type": "code",
   "execution_count": 6,
   "id": "d409eca4-46bf-4673-bd68-a4b9f6e3e19d",
   "metadata": {},
   "outputs": [
    {
     "name": "stdout",
     "output_type": "stream",
     "text": [
      "[0.+0.j 0.+1.j]\n"
     ]
    },
    {
     "data": {
      "image/png": "[encoded data removed]",
      "text/plain": [
       "<Figure size 648.01x144.48 with 1 Axes>"
      ]
     },
     "execution_count": 6,
     "metadata": {},
     "output_type": "execute_result"
    }
   ],
   "source": [
    "backend = BasicAer.get_backend('statevector_simulator')\n",
    "job = execute(qc, backend)\n",
    "result = job.result()\n",
    "outputstate = result.get_statevector(qc, decimals=3)\n",
    "print(outputstate)\n",
    "qc.draw()        # draw the circuit"
   ]
  }
 ],
 "metadata": {
  "kernelspec": {
   "display_name": "Qiskit v0.34.1 (ipykernel)",
   "language": "python",
   "name": "python3"
  },
  "language_info": {
   "codemirror_mode": {
    "name": "ipython",
    "version": 3
   },
   "file_extension": ".py",
   "mimetype": "text/x-python",
   "name": "python",
   "nbconvert_exporter": "python",
   "pygments_lexer": "ipython3",
   "version": "3.8.12"
  },
  "widgets": {
   "application/vnd.jupyter.widget-state+json": {
    "state": {
     "29f8c938673848e2af4ac87fb993487a": {
      "model_module": "@jupyter-widgets/controls",
      "model_module_version": "1.5.0",
      "model_name": "HTMLModel",
      "state": {
       "layout": "IPY_MODEL_8eb2983a7b0e4b058bb985802d320dfd",
       "style": "IPY_MODEL_df3a19adf1d8452f82cbd91214bf6670",
       "value": "<h5>Backend</h5>"
      }
     },
     "2d0cc78aef5c4c1aa4948534b487ecc3": {
      "model_module": "@jupyter-widgets/controls",
      "model_module_version": "1.5.0",
      "model_name": "ButtonStyleModel",
      "state": {}
     },
     "351bd9d880314fd59479b54eade17f1f": {
      "model_module": "@jupyter-widgets/base",
      "model_module_version": "1.2.0",
      "model_name": "LayoutModel",
      "state": {
       "grid_template_areas": "\n                                       \". . . . right \"\n                                        ",
       "grid_template_columns": "20% 20% 20% 20% 20%",
       "width": "100%"
      }
     },
     "3631794e3d054fec89ac81955033fac8": {
      "model_module": "@jupyter-widgets/controls",
      "model_module_version": "1.5.0",
      "model_name": "GridBoxModel",
      "state": {
       "children": [
        "IPY_MODEL_fedf1c3ac33c4696b78d7a2f59e12da9"
       ],
       "layout": "IPY_MODEL_351bd9d880314fd59479b54eade17f1f"
      }
     },
     "3a3489c6e96d401b89115cdd1b6d793c": {
      "model_module": "@jupyter-widgets/controls",
      "model_module_version": "1.5.0",
      "model_name": "HTMLModel",
      "state": {
       "layout": "IPY_MODEL_4f5447545c8945e8b841ad599e1b0719",
       "style": "IPY_MODEL_e9503378e7ed48b483178ab8d8ccaa0a",
       "value": "<h5>Job ID</h5>"
      }
     },
     "485996339e7c472ead61cc8e4b76c222": {
      "model_module": "@jupyter-widgets/controls",
      "model_module_version": "1.5.0",
      "model_name": "HTMLModel",
      "state": {
       "layout": "IPY_MODEL_f05d84c98c624206ac759551ff83cce5",
       "style": "IPY_MODEL_5d101b473a934567b20be535644bdbea",
       "value": "<p style='font-family: IBM Plex Sans, Arial, Helvetica, sans-serif; font-size: 20px; font-weight: medium;'>Circuit Properties</p>"
      }
     },
     "4f5447545c8945e8b841ad599e1b0719": {
      "model_module": "@jupyter-widgets/base",
      "model_module_version": "1.2.0",
      "model_name": "LayoutModel",
      "state": {
       "width": "190px"
      }
     },
     "5d101b473a934567b20be535644bdbea": {
      "model_module": "@jupyter-widgets/controls",
      "model_module_version": "1.5.0",
      "model_name": "DescriptionStyleModel",
      "state": {
       "description_width": ""
      }
     },
     "62fc2785d6e2462082f53b2ec8de86e3": {
      "model_module": "@jupyter-widgets/base",
      "model_module_version": "1.2.0",
      "model_name": "LayoutModel",
      "state": {
       "grid_area": "right",
       "padding": "0px 0px 0px 0px",
       "width": "70px"
      }
     },
     "6cd0214ff27748a2bfc79440385f35bf": {
      "model_module": "@jupyter-widgets/controls",
      "model_module_version": "1.5.0",
      "model_name": "HBoxModel",
      "state": {
       "children": [
        "IPY_MODEL_3a3489c6e96d401b89115cdd1b6d793c",
        "IPY_MODEL_29f8c938673848e2af4ac87fb993487a",
        "IPY_MODEL_d9ad43c546bb4583ad520348732354c3",
        "IPY_MODEL_738089be421644208f4a469b6523699b",
        "IPY_MODEL_742da62612224c6b9ff03aef1396374d"
       ],
       "layout": "IPY_MODEL_b2c0ac24c81f459bbfa0767665b815d4"
      }
     },
     "738089be421644208f4a469b6523699b": {
      "model_module": "@jupyter-widgets/controls",
      "model_module_version": "1.5.0",
      "model_name": "HTMLModel",
      "state": {
       "layout": "IPY_MODEL_b3e000601d864631bef9140314740af8",
       "style": "IPY_MODEL_e92a41b11bbb4568a8997e4026ca59a0",
       "value": "<h5>Queue</h5>"
      }
     },
     "742da62612224c6b9ff03aef1396374d": {
      "model_module": "@jupyter-widgets/controls",
      "model_module_version": "1.5.0",
      "model_name": "HTMLModel",
      "state": {
       "layout": "IPY_MODEL_e1dd5cefb8544ee2abf5071872b85bce",
       "style": "IPY_MODEL_e6c79c4be98941338befcce8f1ad12db",
       "value": "<h5>Message</h5>"
      }
     },
     "8eb2983a7b0e4b058bb985802d320dfd": {
      "model_module": "@jupyter-widgets/base",
      "model_module_version": "1.2.0",
      "model_name": "LayoutModel",
      "state": {
       "width": "145px"
      }
     },
     "9dbc1309965d41638c33ff71f0378636": {
      "model_module": "@jupyter-widgets/base",
      "model_module_version": "1.2.0",
      "model_name": "LayoutModel",
      "state": {
       "width": "95px"
      }
     },
     "9e253aeb86b543c5a3a7ecce4b314b91": {
      "model_module": "@jupyter-widgets/controls",
      "model_module_version": "1.5.0",
      "model_name": "DescriptionStyleModel",
      "state": {
       "description_width": ""
      }
     },
     "b2c0ac24c81f459bbfa0767665b815d4": {
      "model_module": "@jupyter-widgets/base",
      "model_module_version": "1.2.0",
      "model_name": "LayoutModel",
      "state": {
       "margin": "0px 0px 0px 37px",
       "width": "600px"
      }
     },
     "b3e000601d864631bef9140314740af8": {
      "model_module": "@jupyter-widgets/base",
      "model_module_version": "1.2.0",
      "model_name": "LayoutModel",
      "state": {
       "width": "70px"
      }
     },
     "d9ad43c546bb4583ad520348732354c3": {
      "model_module": "@jupyter-widgets/controls",
      "model_module_version": "1.5.0",
      "model_name": "HTMLModel",
      "state": {
       "layout": "IPY_MODEL_9dbc1309965d41638c33ff71f0378636",
       "style": "IPY_MODEL_9e253aeb86b543c5a3a7ecce4b314b91",
       "value": "<h5>Status</h5>"
      }
     },
     "df3a19adf1d8452f82cbd91214bf6670": {
      "model_module": "@jupyter-widgets/controls",
      "model_module_version": "1.5.0",
      "model_name": "DescriptionStyleModel",
      "state": {
       "description_width": ""
      }
     },
     "e1dd5cefb8544ee2abf5071872b85bce": {
      "model_module": "@jupyter-widgets/base",
      "model_module_version": "1.2.0",
      "model_name": "LayoutModel",
      "state": {}
     },
     "e6c79c4be98941338befcce8f1ad12db": {
      "model_module": "@jupyter-widgets/controls",
      "model_module_version": "1.5.0",
      "model_name": "DescriptionStyleModel",
      "state": {
       "description_width": ""
      }
     },
     "e92a41b11bbb4568a8997e4026ca59a0": {
      "model_module": "@jupyter-widgets/controls",
      "model_module_version": "1.5.0",
      "model_name": "DescriptionStyleModel",
      "state": {
       "description_width": ""
      }
     },
     "e9503378e7ed48b483178ab8d8ccaa0a": {
      "model_module": "@jupyter-widgets/controls",
      "model_module_version": "1.5.0",
      "model_name": "DescriptionStyleModel",
      "state": {
       "description_width": ""
      }
     },
     "f05d84c98c624206ac759551ff83cce5": {
      "model_module": "@jupyter-widgets/base",
      "model_module_version": "1.2.0",
      "model_name": "LayoutModel",
      "state": {
       "margin": "0px 0px 10px 0px"
      }
     },
     "fedf1c3ac33c4696b78d7a2f59e12da9": {
      "model_module": "@jupyter-widgets/controls",
      "model_module_version": "1.5.0",
      "model_name": "ButtonModel",
      "state": {
       "button_style": "primary",
       "description": "Clear",
       "layout": "IPY_MODEL_62fc2785d6e2462082f53b2ec8de86e3",
       "style": "IPY_MODEL_2d0cc78aef5c4c1aa4948534b487ecc3"
      }
     }
    },
    "version_major": 2,
    "version_minor": 0
   }
  }
 },
 "nbformat": 4,
 "nbformat_minor": 5
}
