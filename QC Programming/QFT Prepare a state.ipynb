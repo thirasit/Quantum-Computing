{
 "cells": [
  {
   "cell_type": "markdown",
   "id": "2a5910c5-6b32-464f-be74-83852c409790",
   "metadata": {},
   "source": [
    "# **QFT Prepare a state**"
   ]
  },
  {
   "cell_type": "code",
   "execution_count": 1,
   "id": "aa1abab9-75eb-4489-b39d-8fa5ab204ee0",
   "metadata": {},
   "outputs": [
    {
     "name": "stderr",
     "output_type": "stream",
     "text": [
      "<frozen importlib._bootstrap>:219: RuntimeWarning: scipy._lib.messagestream.MessageStream size changed, may indicate binary incompatibility. Expected 56 from C header, got 64 from PyObject\n"
     ]
    }
   ],
   "source": [
    "import numpy as np\n",
    "\n",
    "# Importing standard Qiskit libraries\n",
    "from qiskit import QuantumCircuit, transpile, Aer, IBMQ, QuantumRegister, ClassicalRegister, execute, BasicAer\n",
    "from qiskit.tools.jupyter import *\n",
    "from qiskit.visualization import *\n",
    "from ibm_quantum_widgets import *\n",
    "from qiskit.providers.aer import QasmSimulator\n",
    "\n",
    "# Loading your IBM Quantum account(s)\n",
    "provider = IBMQ.load_account()"
   ]
  },
  {
   "cell_type": "code",
   "execution_count": 2,
   "id": "95142466-92a3-41fe-a493-3e557347434f",
   "metadata": {},
   "outputs": [],
   "source": [
    "import math\n",
    "%matplotlib inline"
   ]
  },
  {
   "cell_type": "code",
   "execution_count": 3,
   "id": "5ab0c771-1c1d-47fa-b995-797df02d86a0",
   "metadata": {},
   "outputs": [],
   "source": [
    "# Set up the program\n",
    "signal = QuantumRegister(4, name='signal')\n",
    "qc = QuantumCircuit(signal)"
   ]
  },
  {
   "cell_type": "code",
   "execution_count": 4,
   "id": "74f6afaa-4fe9-4b35-9cb4-924bf0102f0c",
   "metadata": {},
   "outputs": [],
   "source": [
    "def main():\n",
    "    ## prepare the signal\n",
    "    qc.h(signal[0]);\n",
    "    qc.cx(signal[0], signal[1]);\n",
    "    qc.cx(signal[0], signal[2]);\n",
    "    qc.cx(signal[0], signal[3]);\n",
    "    qc.x(signal[1]);\n",
    "    qc.cx(signal[1], signal[0]);\n",
    "    qc.x(signal[1]);\n",
    "\n",
    "    qc.barrier()\n",
    "    invQFT(signal)"
   ]
  },
  {
   "cell_type": "code",
   "execution_count": 5,
   "id": "a56e1ae8-ea4a-4668-a5d5-7f00dc71538c",
   "metadata": {},
   "outputs": [
    {
     "name": "stderr",
     "output_type": "stream",
     "text": [
      "/tmp/ipykernel_213/124917811.py:13: DeprecationWarning: The QuantumCircuit.cu1 method is deprecated as of 0.16.0. It will be removed no earlier than 3 months after the release date. You should use the QuantumCircuit.cp method instead, which acts identically.\n",
      "  qc.cu1(-math.pi/float(2**(j-k)), qreg[j], qreg[k])\n"
     ]
    }
   ],
   "source": [
    "def invQFT(qreg):\n",
    "    ## This QFT implementation is adapted from IBM's sample:\n",
    "    ##   https://github.com/Qiskit/qiskit-terra/blob/master/examples/python/qft.py\n",
    "    ## ...with a few adjustments to match the book QFT implementation exactly\n",
    "    n = len(qreg)\n",
    "    # Start the inverse QFT by reversing the order of the qubits\n",
    "    for j in range(n//2):\n",
    "        qc.swap(qreg[j], qreg[n-j-1])\n",
    "\n",
    "    n = len(qreg)\n",
    "    for j in range(n):\n",
    "        for k in range(j):\n",
    "            qc.cu1(-math.pi/float(2**(j-k)), qreg[j], qreg[k])\n",
    "        qc.h(qreg[j])\n",
    "\n",
    "main()"
   ]
  },
  {
   "cell_type": "code",
   "execution_count": 6,
   "id": "6e764d05-6ff8-4dbf-8054-508676bc4883",
   "metadata": {},
   "outputs": [],
   "source": [
    "backend = BasicAer.get_backend('statevector_simulator')\n",
    "job = execute(qc, backend)\n",
    "result = job.result()"
   ]
  },
  {
   "cell_type": "code",
   "execution_count": 7,
   "id": "27210d7f-7eed-44fc-a447-fc1ccd1fe13a",
   "metadata": {},
   "outputs": [
    {
     "name": "stdout",
     "output_type": "stream",
     "text": [
      "|0> (0.354-0j) probability = 12.5316%\n",
      "|1> (0.327-0j) probability = 10.6929%\n",
      "|2> (0.25-0j) probability = 6.25%\n",
      "|3> (0.135-0j) probability = 1.8225%\n",
      "|5> (-0.135+0j) probability = 1.8225%\n",
      "|6> (-0.25-0j) probability = 6.25%\n",
      "|7> (-0.327-0j) probability = 10.6929%\n",
      "|8> (-0.354+0j) probability = 12.5316%\n",
      "|9> (-0.327+0j) probability = 10.6929%\n",
      "|10> (-0.25+0j) probability = 6.25%\n",
      "|11> (-0.135+0j) probability = 1.8225%\n",
      "|13> (0.135-0j) probability = 1.8225%\n",
      "|14> (0.25+0j) probability = 6.25%\n",
      "|15> (0.327+0j) probability = 10.6929%\n"
     ]
    },
    {
     "data": {
      "image/png": "[encoded data removed]",
      "text/plain": [
       "<Figure size 1640.2x264.88 with 1 Axes>"
      ]
     },
     "execution_count": 7,
     "metadata": {},
     "output_type": "execute_result"
    }
   ],
   "source": [
    "outputstate = result.get_statevector(qc, decimals=3)\n",
    "for i,amp in enumerate(outputstate):\n",
    "    if abs(amp) > 0.000001:\n",
    "        prob = abs(amp) * abs(amp)\n",
    "        print('|{}> {} probability = {}%'.format(i, amp, round(prob * 100, 5)))\n",
    "qc.draw()        # draw the circuit"
   ]
  }
 ],
 "metadata": {
  "kernelspec": {
   "display_name": "Qiskit v0.34.2 (ipykernel)",
   "language": "python",
   "name": "python3"
  },
  "language_info": {
   "codemirror_mode": {
    "name": "ipython",
    "version": 3
   },
   "file_extension": ".py",
   "mimetype": "text/x-python",
   "name": "python",
   "nbconvert_exporter": "python",
   "pygments_lexer": "ipython3",
   "version": "3.8.12"
  },
  "widgets": {
   "application/vnd.jupyter.widget-state+json": {
    "state": {
     "1cc2d3fa31154ff7b6cb835df3438e94": {
      "model_module": "@jupyter-widgets/controls",
      "model_module_version": "1.5.0",
      "model_name": "GridBoxModel",
      "state": {
       "children": [
        "IPY_MODEL_c9d62e127f3c4dc1afe4e05fd69c7104"
       ],
       "layout": "IPY_MODEL_753592be8e5f4d54bfd5db06ffa22cbf"
      }
     },
     "2c820b2eaf8042ea902ea844c41e1c3d": {
      "model_module": "@jupyter-widgets/controls",
      "model_module_version": "1.5.0",
      "model_name": "HTMLModel",
      "state": {
       "layout": "IPY_MODEL_35aa00bc1a084eb0b4c288b1356f3725",
       "style": "IPY_MODEL_fd2e0a4f5ef8480294a28ce7da9462ee",
       "value": "<h5>Message</h5>"
      }
     },
     "2fbc7c9042f4456fb50fc3d166086b39": {
      "model_module": "@jupyter-widgets/base",
      "model_module_version": "1.2.0",
      "model_name": "LayoutModel",
      "state": {
       "margin": "0px 0px 10px 0px"
      }
     },
     "35aa00bc1a084eb0b4c288b1356f3725": {
      "model_module": "@jupyter-widgets/base",
      "model_module_version": "1.2.0",
      "model_name": "LayoutModel",
      "state": {}
     },
     "394c22eaf71e4a30a86763635256589d": {
      "model_module": "@jupyter-widgets/base",
      "model_module_version": "1.2.0",
      "model_name": "LayoutModel",
      "state": {
       "grid_area": "right",
       "padding": "0px 0px 0px 0px",
       "width": "70px"
      }
     },
     "3bd05ad6dfa44573990e444c4bab19e9": {
      "model_module": "@jupyter-widgets/controls",
      "model_module_version": "1.5.0",
      "model_name": "HTMLModel",
      "state": {
       "layout": "IPY_MODEL_2fbc7c9042f4456fb50fc3d166086b39",
       "style": "IPY_MODEL_b2846b31677047b4b23a14bec89ea8a8",
       "value": "<p style='font-family: IBM Plex Sans, Arial, Helvetica, sans-serif; font-size: 20px; font-weight: medium;'>Circuit Properties</p>"
      }
     },
     "46959e9a8b6f4a7980e29faff1f4ab41": {
      "model_module": "@jupyter-widgets/controls",
      "model_module_version": "1.5.0",
      "model_name": "HTMLModel",
      "state": {
       "layout": "IPY_MODEL_a813980ba61f4edca3140b6379ff84c9",
       "style": "IPY_MODEL_89e2dc55e63246de8ff247af765ccd02",
       "value": "<h5>Backend</h5>"
      }
     },
     "536983fc42ec4a34a5b956b841bb54c6": {
      "model_module": "@jupyter-widgets/controls",
      "model_module_version": "1.5.0",
      "model_name": "HBoxModel",
      "state": {
       "children": [
        "IPY_MODEL_fe5d99be1f1d47c68f5ad6b110da083b",
        "IPY_MODEL_46959e9a8b6f4a7980e29faff1f4ab41",
        "IPY_MODEL_eb40aca285bb478cbd8d12bc564de1c5",
        "IPY_MODEL_e4ec67886ca34d0089d1f0c967d8ff8b",
        "IPY_MODEL_2c820b2eaf8042ea902ea844c41e1c3d"
       ],
       "layout": "IPY_MODEL_9bcd81ce91a94c7c8de9e2ea0d248b50"
      }
     },
     "67605b80b5ce487ba43df4650348d2c3": {
      "model_module": "@jupyter-widgets/controls",
      "model_module_version": "1.5.0",
      "model_name": "DescriptionStyleModel",
      "state": {
       "description_width": ""
      }
     },
     "753592be8e5f4d54bfd5db06ffa22cbf": {
      "model_module": "@jupyter-widgets/base",
      "model_module_version": "1.2.0",
      "model_name": "LayoutModel",
      "state": {
       "grid_template_areas": "\n                                       \". . . . right \"\n                                        ",
       "grid_template_columns": "20% 20% 20% 20% 20%",
       "width": "100%"
      }
     },
     "7964b70f7e5548b882587225a9c35ad6": {
      "model_module": "@jupyter-widgets/controls",
      "model_module_version": "1.5.0",
      "model_name": "DescriptionStyleModel",
      "state": {
       "description_width": ""
      }
     },
     "86d447c7166e406d99b22e1d5b0beb92": {
      "model_module": "@jupyter-widgets/base",
      "model_module_version": "1.2.0",
      "model_name": "LayoutModel",
      "state": {
       "width": "190px"
      }
     },
     "89e2dc55e63246de8ff247af765ccd02": {
      "model_module": "@jupyter-widgets/controls",
      "model_module_version": "1.5.0",
      "model_name": "DescriptionStyleModel",
      "state": {
       "description_width": ""
      }
     },
     "9bcd81ce91a94c7c8de9e2ea0d248b50": {
      "model_module": "@jupyter-widgets/base",
      "model_module_version": "1.2.0",
      "model_name": "LayoutModel",
      "state": {
       "margin": "0px 0px 0px 37px",
       "width": "600px"
      }
     },
     "a3e4aee14d4f44bca414491c60c21a05": {
      "model_module": "@jupyter-widgets/base",
      "model_module_version": "1.2.0",
      "model_name": "LayoutModel",
      "state": {
       "width": "95px"
      }
     },
     "a46beb785c5145ffadc22440e526d31c": {
      "model_module": "@jupyter-widgets/controls",
      "model_module_version": "1.5.0",
      "model_name": "ButtonStyleModel",
      "state": {}
     },
     "a813980ba61f4edca3140b6379ff84c9": {
      "model_module": "@jupyter-widgets/base",
      "model_module_version": "1.2.0",
      "model_name": "LayoutModel",
      "state": {
       "width": "145px"
      }
     },
     "b2846b31677047b4b23a14bec89ea8a8": {
      "model_module": "@jupyter-widgets/controls",
      "model_module_version": "1.5.0",
      "model_name": "DescriptionStyleModel",
      "state": {
       "description_width": ""
      }
     },
     "bdf62485d13a4a03beaa46cfc173990b": {
      "model_module": "@jupyter-widgets/base",
      "model_module_version": "1.2.0",
      "model_name": "LayoutModel",
      "state": {
       "width": "70px"
      }
     },
     "c26274723ced4a5188de65ec44e3b4e6": {
      "model_module": "@jupyter-widgets/controls",
      "model_module_version": "1.5.0",
      "model_name": "DescriptionStyleModel",
      "state": {
       "description_width": ""
      }
     },
     "c9d62e127f3c4dc1afe4e05fd69c7104": {
      "model_module": "@jupyter-widgets/controls",
      "model_module_version": "1.5.0",
      "model_name": "ButtonModel",
      "state": {
       "button_style": "primary",
       "description": "Clear",
       "layout": "IPY_MODEL_394c22eaf71e4a30a86763635256589d",
       "style": "IPY_MODEL_a46beb785c5145ffadc22440e526d31c"
      }
     },
     "e4ec67886ca34d0089d1f0c967d8ff8b": {
      "model_module": "@jupyter-widgets/controls",
      "model_module_version": "1.5.0",
      "model_name": "HTMLModel",
      "state": {
       "layout": "IPY_MODEL_bdf62485d13a4a03beaa46cfc173990b",
       "style": "IPY_MODEL_c26274723ced4a5188de65ec44e3b4e6",
       "value": "<h5>Queue</h5>"
      }
     },
     "eb40aca285bb478cbd8d12bc564de1c5": {
      "model_module": "@jupyter-widgets/controls",
      "model_module_version": "1.5.0",
      "model_name": "HTMLModel",
      "state": {
       "layout": "IPY_MODEL_a3e4aee14d4f44bca414491c60c21a05",
       "style": "IPY_MODEL_67605b80b5ce487ba43df4650348d2c3",
       "value": "<h5>Status</h5>"
      }
     },
     "fd2e0a4f5ef8480294a28ce7da9462ee": {
      "model_module": "@jupyter-widgets/controls",
      "model_module_version": "1.5.0",
      "model_name": "DescriptionStyleModel",
      "state": {
       "description_width": ""
      }
     },
     "fe5d99be1f1d47c68f5ad6b110da083b": {
      "model_module": "@jupyter-widgets/controls",
      "model_module_version": "1.5.0",
      "model_name": "HTMLModel",
      "state": {
       "layout": "IPY_MODEL_86d447c7166e406d99b22e1d5b0beb92",
       "style": "IPY_MODEL_7964b70f7e5548b882587225a9c35ad6",
       "value": "<h5>Job ID</h5>"
      }
     }
    },
    "version_major": 2,
    "version_minor": 0
   }
  }
 },
 "nbformat": 4,
 "nbformat_minor": 5
}
