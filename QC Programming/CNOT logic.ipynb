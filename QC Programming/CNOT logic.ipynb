{
 "cells": [
  {
   "cell_type": "markdown",
   "id": "1245f122-a535-44aa-ac22-c8229be2dcc1",
   "metadata": {},
   "source": [
    "# **CNOT logic**"
   ]
  },
  {
   "cell_type": "code",
   "execution_count": 1,
   "id": "f96d5f5f-f5ed-428c-8f82-bd546d174b6b",
   "metadata": {},
   "outputs": [],
   "source": [
    "import numpy as np\n",
    "\n",
    "# Importing standard Qiskit libraries\n",
    "from qiskit import QuantumCircuit, transpile, Aer, IBMQ, QuantumRegister, ClassicalRegister, execute, BasicAer\n",
    "from qiskit.tools.jupyter import *\n",
    "from qiskit.visualization import *\n",
    "from ibm_quantum_widgets import *\n",
    "from qiskit.providers.aer import QasmSimulator\n",
    "\n",
    "# Loading your IBM Quantum account(s)\n",
    "provider = IBMQ.load_account()"
   ]
  },
  {
   "cell_type": "code",
   "execution_count": 2,
   "id": "1e95b06d-317b-4219-b896-4deb1fc8deea",
   "metadata": {},
   "outputs": [],
   "source": [
    "import math\n",
    "%matplotlib inline"
   ]
  },
  {
   "cell_type": "code",
   "execution_count": 3,
   "id": "6b7fc209-95e4-4278-af9d-90326ccc46c9",
   "metadata": {},
   "outputs": [],
   "source": [
    "# Set up the program\n",
    "a = QuantumRegister(1, name='a')\n",
    "b = QuantumRegister(1, name='b')\n",
    "c = QuantumRegister(1, name='c')\n",
    "r1 = ClassicalRegister(1, name='r1')\n",
    "r2 = ClassicalRegister(2, name='r2')\n",
    "r3 = ClassicalRegister(3, name='r3')\n",
    "qc = QuantumCircuit(a, b, c, r1, r2, r3)"
   ]
  },
  {
   "cell_type": "code",
   "execution_count": 4,
   "id": "5cf06098-af79-4858-b712-714cbc21b42b",
   "metadata": {},
   "outputs": [
    {
     "data": {
      "text/plain": [
       "<qiskit.circuit.instructionset.InstructionSet at 0x7f065237c5c0>"
      ]
     },
     "execution_count": 4,
     "metadata": {},
     "output_type": "execute_result"
    }
   ],
   "source": [
    "## initialization\n",
    "qc.reset(c)\n",
    "qc.x(c)\n",
    "qc.measure(c, r1)\n",
    "qc.barrier()"
   ]
  },
  {
   "cell_type": "code",
   "execution_count": 5,
   "id": "063c07f8-bec9-46d2-bfb4-78be3e1ea1cc",
   "metadata": {},
   "outputs": [
    {
     "data": {
      "text/plain": [
       "<qiskit.circuit.instructionset.InstructionSet at 0x7f0650a05240>"
      ]
     },
     "execution_count": 5,
     "metadata": {},
     "output_type": "execute_result"
    }
   ],
   "source": [
    "qc.reset(b)\n",
    "qc.reset(c)\n",
    "qc.x(b)\n",
    "qc.cx(b, c)\n",
    "qc.measure(b, r2[0])\n",
    "qc.measure(c, r2[1])\n",
    "qc.barrier()"
   ]
  },
  {
   "cell_type": "code",
   "execution_count": 6,
   "id": "6f2c4caf-d753-4c38-a4f5-54818f50a97f",
   "metadata": {},
   "outputs": [
    {
     "data": {
      "text/plain": [
       "<qiskit.circuit.instructionset.InstructionSet at 0x7f0650a25ec0>"
      ]
     },
     "execution_count": 6,
     "metadata": {},
     "output_type": "execute_result"
    }
   ],
   "source": [
    "qc.reset(a)\n",
    "qc.reset(b)\n",
    "qc.reset(c)\n",
    "qc.x(a)\n",
    "qc.x(b)\n",
    "qc.ccx(a, b, c)\n",
    "qc.measure(a, r3[0])\n",
    "qc.measure(b, r3[1])\n",
    "qc.measure(c, r3[2])"
   ]
  },
  {
   "cell_type": "code",
   "execution_count": 7,
   "id": "1f57f9a6-e549-4786-911e-addf7f725b12",
   "metadata": {},
   "outputs": [],
   "source": [
    "backend = BasicAer.get_backend('statevector_simulator')\n",
    "job = execute(qc, backend)\n",
    "result = job.result()"
   ]
  },
  {
   "cell_type": "code",
   "execution_count": 8,
   "id": "b026e3e3-50a4-46e3-be4b-e1d51cdf2c4b",
   "metadata": {},
   "outputs": [
    {
     "name": "stdout",
     "output_type": "stream",
     "text": [
      "counts: {'111 11 1': 1}\n"
     ]
    }
   ],
   "source": [
    "counts = result.get_counts(qc)\n",
    "print('counts:',counts)"
   ]
  },
  {
   "cell_type": "code",
   "execution_count": 9,
   "id": "4b25a579-7874-4e09-a343-d6b1377313a7",
   "metadata": {},
   "outputs": [
    {
     "name": "stdout",
     "output_type": "stream",
     "text": [
      "|7> (1-0j)\n"
     ]
    },
    {
     "data": {
      "image/png": "[encoded data removed]",
      "text/plain": [
       "<Figure size 1045.33x385.28 with 1 Axes>"
      ]
     },
     "execution_count": 9,
     "metadata": {},
     "output_type": "execute_result"
    }
   ],
   "source": [
    "outputstate = result.get_statevector(qc, decimals=3)\n",
    "for i,amp in enumerate(outputstate):\n",
    "    if abs(amp) > 0.000001:\n",
    "        print('|{}> {}'.format(i, amp))\n",
    "qc.draw()        # draw the circuit"
   ]
  }
 ],
 "metadata": {
  "kernelspec": {
   "display_name": "Qiskit v0.34.1 (ipykernel)",
   "language": "python",
   "name": "python3"
  },
  "language_info": {
   "codemirror_mode": {
    "name": "ipython",
    "version": 3
   },
   "file_extension": ".py",
   "mimetype": "text/x-python",
   "name": "python",
   "nbconvert_exporter": "python",
   "pygments_lexer": "ipython3",
   "version": "3.8.12"
  },
  "widgets": {
   "application/vnd.jupyter.widget-state+json": {
    "state": {
     "078f38d489984a65939292015014963a": {
      "model_module": "@jupyter-widgets/controls",
      "model_module_version": "1.5.0",
      "model_name": "HTMLModel",
      "state": {
       "layout": "IPY_MODEL_7fb6e50781254f8f80360fcfaf74c511",
       "style": "IPY_MODEL_cfa4f727b87945febd677ef217e00188",
       "value": "<p style='font-family: IBM Plex Sans, Arial, Helvetica, sans-serif; font-size: 20px; font-weight: medium;'>Circuit Properties</p>"
      }
     },
     "1f3d60bdc13d4835aed074896f2514a5": {
      "model_module": "@jupyter-widgets/controls",
      "model_module_version": "1.5.0",
      "model_name": "HBoxModel",
      "state": {
       "children": [
        "IPY_MODEL_91a01fdb334c4e9da0d5e68a6ae0047a",
        "IPY_MODEL_25a03dfc4ed64c3c8b42f0478a521522",
        "IPY_MODEL_62a5b1de840f499ea80a36649f8dd228",
        "IPY_MODEL_7994c392552a4acea72069f31af639f9",
        "IPY_MODEL_e6d5943ce16f4bc8afdd9ffca8845016"
       ],
       "layout": "IPY_MODEL_83030cb36a544a889261d4828a39aee8"
      }
     },
     "25a03dfc4ed64c3c8b42f0478a521522": {
      "model_module": "@jupyter-widgets/controls",
      "model_module_version": "1.5.0",
      "model_name": "HTMLModel",
      "state": {
       "layout": "IPY_MODEL_dbb81f847da14d41901d85f559cda3d8",
       "style": "IPY_MODEL_b2014404d1b54d8ba02c796d2ee83259",
       "value": "<h5>Backend</h5>"
      }
     },
     "28984900e954499990dd6e3ea8328eec": {
      "model_module": "@jupyter-widgets/base",
      "model_module_version": "1.2.0",
      "model_name": "LayoutModel",
      "state": {
       "grid_area": "right",
       "padding": "0px 0px 0px 0px",
       "width": "70px"
      }
     },
     "3393f8d7efbf47f7b82f904b19ae5a66": {
      "model_module": "@jupyter-widgets/base",
      "model_module_version": "1.2.0",
      "model_name": "LayoutModel",
      "state": {}
     },
     "4388dc7f4c194c35a61835df8b852d6e": {
      "model_module": "@jupyter-widgets/base",
      "model_module_version": "1.2.0",
      "model_name": "LayoutModel",
      "state": {
       "width": "70px"
      }
     },
     "4d10ee270d5b43f1b32bf05053d1ba9e": {
      "model_module": "@jupyter-widgets/controls",
      "model_module_version": "1.5.0",
      "model_name": "ButtonModel",
      "state": {
       "button_style": "primary",
       "description": "Clear",
       "layout": "IPY_MODEL_28984900e954499990dd6e3ea8328eec",
       "style": "IPY_MODEL_85f30705887841f4b02a6ee49c6ad052"
      }
     },
     "5bc6b34351df4e61a770a4a6f7945976": {
      "model_module": "@jupyter-widgets/base",
      "model_module_version": "1.2.0",
      "model_name": "LayoutModel",
      "state": {
       "width": "190px"
      }
     },
     "5c145d61b5244dba8d3a11a27e74faca": {
      "model_module": "@jupyter-widgets/controls",
      "model_module_version": "1.5.0",
      "model_name": "GridBoxModel",
      "state": {
       "children": [
        "IPY_MODEL_4d10ee270d5b43f1b32bf05053d1ba9e"
       ],
       "layout": "IPY_MODEL_816db2c3411245998056e2e706110606"
      }
     },
     "62a5b1de840f499ea80a36649f8dd228": {
      "model_module": "@jupyter-widgets/controls",
      "model_module_version": "1.5.0",
      "model_name": "HTMLModel",
      "state": {
       "layout": "IPY_MODEL_e0c049f601f04ce7bff11cc4d9b5fde1",
       "style": "IPY_MODEL_a52e2cccea95485c9af43db9a37bffd6",
       "value": "<h5>Status</h5>"
      }
     },
     "7994c392552a4acea72069f31af639f9": {
      "model_module": "@jupyter-widgets/controls",
      "model_module_version": "1.5.0",
      "model_name": "HTMLModel",
      "state": {
       "layout": "IPY_MODEL_4388dc7f4c194c35a61835df8b852d6e",
       "style": "IPY_MODEL_c71ba9ec9b294a3188438baf770c09a6",
       "value": "<h5>Queue</h5>"
      }
     },
     "7fb6e50781254f8f80360fcfaf74c511": {
      "model_module": "@jupyter-widgets/base",
      "model_module_version": "1.2.0",
      "model_name": "LayoutModel",
      "state": {
       "margin": "0px 0px 10px 0px"
      }
     },
     "816db2c3411245998056e2e706110606": {
      "model_module": "@jupyter-widgets/base",
      "model_module_version": "1.2.0",
      "model_name": "LayoutModel",
      "state": {
       "grid_template_areas": "\n                                       \". . . . right \"\n                                        ",
       "grid_template_columns": "20% 20% 20% 20% 20%",
       "width": "100%"
      }
     },
     "83030cb36a544a889261d4828a39aee8": {
      "model_module": "@jupyter-widgets/base",
      "model_module_version": "1.2.0",
      "model_name": "LayoutModel",
      "state": {
       "margin": "0px 0px 0px 37px",
       "width": "600px"
      }
     },
     "85f30705887841f4b02a6ee49c6ad052": {
      "model_module": "@jupyter-widgets/controls",
      "model_module_version": "1.5.0",
      "model_name": "ButtonStyleModel",
      "state": {}
     },
     "8dbe2b7f880042d2917a7252da25308a": {
      "model_module": "@jupyter-widgets/controls",
      "model_module_version": "1.5.0",
      "model_name": "DescriptionStyleModel",
      "state": {
       "description_width": ""
      }
     },
     "91a01fdb334c4e9da0d5e68a6ae0047a": {
      "model_module": "@jupyter-widgets/controls",
      "model_module_version": "1.5.0",
      "model_name": "HTMLModel",
      "state": {
       "layout": "IPY_MODEL_5bc6b34351df4e61a770a4a6f7945976",
       "style": "IPY_MODEL_8dbe2b7f880042d2917a7252da25308a",
       "value": "<h5>Job ID</h5>"
      }
     },
     "a52e2cccea95485c9af43db9a37bffd6": {
      "model_module": "@jupyter-widgets/controls",
      "model_module_version": "1.5.0",
      "model_name": "DescriptionStyleModel",
      "state": {
       "description_width": ""
      }
     },
     "aa1e6b55949d4fa7b8b5915359ff74dd": {
      "model_module": "@jupyter-widgets/controls",
      "model_module_version": "1.5.0",
      "model_name": "DescriptionStyleModel",
      "state": {
       "description_width": ""
      }
     },
     "b2014404d1b54d8ba02c796d2ee83259": {
      "model_module": "@jupyter-widgets/controls",
      "model_module_version": "1.5.0",
      "model_name": "DescriptionStyleModel",
      "state": {
       "description_width": ""
      }
     },
     "c71ba9ec9b294a3188438baf770c09a6": {
      "model_module": "@jupyter-widgets/controls",
      "model_module_version": "1.5.0",
      "model_name": "DescriptionStyleModel",
      "state": {
       "description_width": ""
      }
     },
     "cfa4f727b87945febd677ef217e00188": {
      "model_module": "@jupyter-widgets/controls",
      "model_module_version": "1.5.0",
      "model_name": "DescriptionStyleModel",
      "state": {
       "description_width": ""
      }
     },
     "dbb81f847da14d41901d85f559cda3d8": {
      "model_module": "@jupyter-widgets/base",
      "model_module_version": "1.2.0",
      "model_name": "LayoutModel",
      "state": {
       "width": "145px"
      }
     },
     "e0c049f601f04ce7bff11cc4d9b5fde1": {
      "model_module": "@jupyter-widgets/base",
      "model_module_version": "1.2.0",
      "model_name": "LayoutModel",
      "state": {
       "width": "95px"
      }
     },
     "e6d5943ce16f4bc8afdd9ffca8845016": {
      "model_module": "@jupyter-widgets/controls",
      "model_module_version": "1.5.0",
      "model_name": "HTMLModel",
      "state": {
       "layout": "IPY_MODEL_3393f8d7efbf47f7b82f904b19ae5a66",
       "style": "IPY_MODEL_aa1e6b55949d4fa7b8b5915359ff74dd",
       "value": "<h5>Message</h5>"
      }
     }
    },
    "version_major": 2,
    "version_minor": 0
   }
  }
 },
 "nbformat": 4,
 "nbformat_minor": 5
}
