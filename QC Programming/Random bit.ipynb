{
 "cells": [
  {
   "cell_type": "markdown",
   "id": "865c0d35-880b-4cdd-97db-b7f076b176bf",
   "metadata": {},
   "source": [
    "# **Random bit**"
   ]
  },
  {
   "cell_type": "code",
   "execution_count": 1,
   "id": "b342ae8b-7cda-4abe-953a-c6749ae2ee1d",
   "metadata": {},
   "outputs": [],
   "source": [
    "import numpy as np\n",
    "\n",
    "# Importing standard Qiskit libraries\n",
    "from qiskit import QuantumCircuit, transpile, Aer, IBMQ, QuantumRegister, ClassicalRegister, execute, BasicAer\n",
    "from qiskit.tools.jupyter import *\n",
    "from qiskit.visualization import *\n",
    "from ibm_quantum_widgets import *\n",
    "from qiskit.providers.aer import QasmSimulator\n",
    "\n",
    "# Loading your IBM Quantum account(s)\n",
    "provider = IBMQ.load_account()"
   ]
  },
  {
   "cell_type": "code",
   "execution_count": 2,
   "id": "3841949b-358f-4e9c-a50e-8c787db73e72",
   "metadata": {},
   "outputs": [],
   "source": [
    "import math"
   ]
  },
  {
   "cell_type": "code",
   "execution_count": 3,
   "id": "9fafce67-2a95-490c-bac9-47b771657139",
   "metadata": {},
   "outputs": [],
   "source": [
    "# Set up the program\n",
    "reg = QuantumRegister(1, name='reg')\n",
    "reg_c = ClassicalRegister(1, name='regc')\n",
    "qc = QuantumCircuit(reg, reg_c)"
   ]
  },
  {
   "cell_type": "code",
   "execution_count": 4,
   "id": "9d2bf60b-2c5d-4758-9038-b47c619536dd",
   "metadata": {},
   "outputs": [
    {
     "data": {
      "text/plain": [
       "<qiskit.circuit.instructionset.InstructionSet at 0x7fb1b0b96800>"
      ]
     },
     "execution_count": 4,
     "metadata": {},
     "output_type": "execute_result"
    }
   ],
   "source": [
    "qc.reset(reg)          # write the value 0\n",
    "qc.h(reg)              # put it into a superposition of 0 and 1\n",
    "qc.measure(reg, reg_c) # read the result as a digital bit"
   ]
  },
  {
   "cell_type": "code",
   "execution_count": 5,
   "id": "5063fdab-6fd1-4f43-b740-8f1e21f3c694",
   "metadata": {},
   "outputs": [],
   "source": [
    "backend = BasicAer.get_backend('statevector_simulator')\n",
    "job = execute(qc, backend)\n",
    "result = job.result()"
   ]
  },
  {
   "cell_type": "code",
   "execution_count": 6,
   "id": "a8809cb9-800f-439e-bdf1-d004def12e78",
   "metadata": {},
   "outputs": [
    {
     "name": "stdout",
     "output_type": "stream",
     "text": [
      "counts: {'0': 1}\n"
     ]
    }
   ],
   "source": [
    "counts = result.get_counts(qc)\n",
    "print('counts:',counts)"
   ]
  },
  {
   "cell_type": "code",
   "execution_count": 7,
   "id": "a6c12852-9ad5-420b-bfa5-456345d0dbbc",
   "metadata": {},
   "outputs": [
    {
     "name": "stdout",
     "output_type": "stream",
     "text": [
      "[1.+0.j 0.+0.j]\n"
     ]
    },
    {
     "data": {
      "image/png": "[encoded data removed]",
      "text/plain": [
       "<Figure size 286.81x144.48 with 1 Axes>"
      ]
     },
     "execution_count": 7,
     "metadata": {},
     "output_type": "execute_result"
    }
   ],
   "source": [
    "outputstate = result.get_statevector(qc, decimals=3)\n",
    "print(outputstate)\n",
    "qc.draw()        # draw the circuit"
   ]
  }
 ],
 "metadata": {
  "kernelspec": {
   "display_name": "Qiskit v0.34.1 (ipykernel)",
   "language": "python",
   "name": "python3"
  },
  "language_info": {
   "codemirror_mode": {
    "name": "ipython",
    "version": 3
   },
   "file_extension": ".py",
   "mimetype": "text/x-python",
   "name": "python",
   "nbconvert_exporter": "python",
   "pygments_lexer": "ipython3",
   "version": "3.8.12"
  },
  "widgets": {
   "application/vnd.jupyter.widget-state+json": {
    "state": {
     "04d112726d9444ea9880b6b9c23aa35f": {
      "model_module": "@jupyter-widgets/base",
      "model_module_version": "1.2.0",
      "model_name": "LayoutModel",
      "state": {
       "grid_area": "right",
       "padding": "0px 0px 0px 0px",
       "width": "70px"
      }
     },
     "0d2cf352a1c84b38902a4fee6967c149": {
      "model_module": "@jupyter-widgets/controls",
      "model_module_version": "1.5.0",
      "model_name": "DescriptionStyleModel",
      "state": {
       "description_width": ""
      }
     },
     "1750a75abaa6481c97a9d330e2a54176": {
      "model_module": "@jupyter-widgets/controls",
      "model_module_version": "1.5.0",
      "model_name": "HTMLModel",
      "state": {
       "layout": "IPY_MODEL_17784c2fa18a4b61be52a0a671cfcc95",
       "style": "IPY_MODEL_81e5857d07644402ace588d1f9c1800d",
       "value": "<p style='font-family: IBM Plex Sans, Arial, Helvetica, sans-serif; font-size: 20px; font-weight: medium;'>Circuit Properties</p>"
      }
     },
     "17784c2fa18a4b61be52a0a671cfcc95": {
      "model_module": "@jupyter-widgets/base",
      "model_module_version": "1.2.0",
      "model_name": "LayoutModel",
      "state": {
       "margin": "0px 0px 10px 0px"
      }
     },
     "1ec578e62d14463b87f1aca8f395ce15": {
      "model_module": "@jupyter-widgets/controls",
      "model_module_version": "1.5.0",
      "model_name": "HTMLModel",
      "state": {
       "layout": "IPY_MODEL_b1efcbd7acc64ba5bedad28e0365ebf8",
       "style": "IPY_MODEL_d002c0d02935474bbd2d68e1b55a4bde",
       "value": "<h5>Status</h5>"
      }
     },
     "39c2c038eea049c291f1e6047c1e4990": {
      "model_module": "@jupyter-widgets/controls",
      "model_module_version": "1.5.0",
      "model_name": "DescriptionStyleModel",
      "state": {
       "description_width": ""
      }
     },
     "4217790def704f5386ca63d795e8a4c6": {
      "model_module": "@jupyter-widgets/base",
      "model_module_version": "1.2.0",
      "model_name": "LayoutModel",
      "state": {
       "margin": "0px 0px 0px 37px",
       "width": "600px"
      }
     },
     "59533e050f0a4be284852d25b90ed919": {
      "model_module": "@jupyter-widgets/controls",
      "model_module_version": "1.5.0",
      "model_name": "HTMLModel",
      "state": {
       "layout": "IPY_MODEL_6ee1d44c65604f40ace812bd7bb70822",
       "style": "IPY_MODEL_39c2c038eea049c291f1e6047c1e4990",
       "value": "<h5>Message</h5>"
      }
     },
     "5acdd1ddd3524b21bb46e3f3cf4df3c9": {
      "model_module": "@jupyter-widgets/base",
      "model_module_version": "1.2.0",
      "model_name": "LayoutModel",
      "state": {
       "width": "70px"
      }
     },
     "5e905dc1109b4806bdcabd13e2b62428": {
      "model_module": "@jupyter-widgets/controls",
      "model_module_version": "1.5.0",
      "model_name": "DescriptionStyleModel",
      "state": {
       "description_width": ""
      }
     },
     "655d24f5b9d04f38bc21e2ff4d81cf8f": {
      "model_module": "@jupyter-widgets/controls",
      "model_module_version": "1.5.0",
      "model_name": "HTMLModel",
      "state": {
       "layout": "IPY_MODEL_afbce80307ac46aeaa4e44d14e9f2b43",
       "style": "IPY_MODEL_5e905dc1109b4806bdcabd13e2b62428",
       "value": "<h5>Job ID</h5>"
      }
     },
     "6ee1d44c65604f40ace812bd7bb70822": {
      "model_module": "@jupyter-widgets/base",
      "model_module_version": "1.2.0",
      "model_name": "LayoutModel",
      "state": {}
     },
     "7d07096f545c42e3aa5bb3a7bbb84472": {
      "model_module": "@jupyter-widgets/controls",
      "model_module_version": "1.5.0",
      "model_name": "HTMLModel",
      "state": {
       "layout": "IPY_MODEL_5acdd1ddd3524b21bb46e3f3cf4df3c9",
       "style": "IPY_MODEL_fd5e9bcd47774375ba146860cbfa9f65",
       "value": "<h5>Queue</h5>"
      }
     },
     "81e5857d07644402ace588d1f9c1800d": {
      "model_module": "@jupyter-widgets/controls",
      "model_module_version": "1.5.0",
      "model_name": "DescriptionStyleModel",
      "state": {
       "description_width": ""
      }
     },
     "98a6b870565b4508929be388243b415a": {
      "model_module": "@jupyter-widgets/controls",
      "model_module_version": "1.5.0",
      "model_name": "GridBoxModel",
      "state": {
       "children": [
        "IPY_MODEL_aa834d6edaa84b50a73eabecfcb12fe0"
       ],
       "layout": "IPY_MODEL_d0db6bdbe29b4ae6b08d0d7f89f2e1a8"
      }
     },
     "aa834d6edaa84b50a73eabecfcb12fe0": {
      "model_module": "@jupyter-widgets/controls",
      "model_module_version": "1.5.0",
      "model_name": "ButtonModel",
      "state": {
       "button_style": "primary",
       "description": "Clear",
       "layout": "IPY_MODEL_04d112726d9444ea9880b6b9c23aa35f",
       "style": "IPY_MODEL_b66b108e225c4d81bd6b50832665b962"
      }
     },
     "afbce80307ac46aeaa4e44d14e9f2b43": {
      "model_module": "@jupyter-widgets/base",
      "model_module_version": "1.2.0",
      "model_name": "LayoutModel",
      "state": {
       "width": "190px"
      }
     },
     "b1efcbd7acc64ba5bedad28e0365ebf8": {
      "model_module": "@jupyter-widgets/base",
      "model_module_version": "1.2.0",
      "model_name": "LayoutModel",
      "state": {
       "width": "95px"
      }
     },
     "b4b0148258e94103ad2c406c68c45c16": {
      "model_module": "@jupyter-widgets/controls",
      "model_module_version": "1.5.0",
      "model_name": "HTMLModel",
      "state": {
       "layout": "IPY_MODEL_e9e7f7d7960f449cb44d4f236f4f9a6c",
       "style": "IPY_MODEL_0d2cf352a1c84b38902a4fee6967c149",
       "value": "<h5>Backend</h5>"
      }
     },
     "b66b108e225c4d81bd6b50832665b962": {
      "model_module": "@jupyter-widgets/controls",
      "model_module_version": "1.5.0",
      "model_name": "ButtonStyleModel",
      "state": {}
     },
     "d002c0d02935474bbd2d68e1b55a4bde": {
      "model_module": "@jupyter-widgets/controls",
      "model_module_version": "1.5.0",
      "model_name": "DescriptionStyleModel",
      "state": {
       "description_width": ""
      }
     },
     "d0db6bdbe29b4ae6b08d0d7f89f2e1a8": {
      "model_module": "@jupyter-widgets/base",
      "model_module_version": "1.2.0",
      "model_name": "LayoutModel",
      "state": {
       "grid_template_areas": "\n                                       \". . . . right \"\n                                        ",
       "grid_template_columns": "20% 20% 20% 20% 20%",
       "width": "100%"
      }
     },
     "d239c459d7a94f3aa26667ac0657a077": {
      "model_module": "@jupyter-widgets/controls",
      "model_module_version": "1.5.0",
      "model_name": "HBoxModel",
      "state": {
       "children": [
        "IPY_MODEL_655d24f5b9d04f38bc21e2ff4d81cf8f",
        "IPY_MODEL_b4b0148258e94103ad2c406c68c45c16",
        "IPY_MODEL_1ec578e62d14463b87f1aca8f395ce15",
        "IPY_MODEL_7d07096f545c42e3aa5bb3a7bbb84472",
        "IPY_MODEL_59533e050f0a4be284852d25b90ed919"
       ],
       "layout": "IPY_MODEL_4217790def704f5386ca63d795e8a4c6"
      }
     },
     "e9e7f7d7960f449cb44d4f236f4f9a6c": {
      "model_module": "@jupyter-widgets/base",
      "model_module_version": "1.2.0",
      "model_name": "LayoutModel",
      "state": {
       "width": "145px"
      }
     },
     "fd5e9bcd47774375ba146860cbfa9f65": {
      "model_module": "@jupyter-widgets/controls",
      "model_module_version": "1.5.0",
      "model_name": "DescriptionStyleModel",
      "state": {
       "description_width": ""
      }
     }
    },
    "version_major": 2,
    "version_minor": 0
   }
  }
 },
 "nbformat": 4,
 "nbformat_minor": 5
}
