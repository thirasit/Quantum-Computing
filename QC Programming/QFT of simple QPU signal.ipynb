{
 "cells": [
  {
   "cell_type": "markdown",
   "id": "88e6b777-8312-4332-8a00-bbb2cb912006",
   "metadata": {},
   "source": [
    "# **QFT of simple QPU signal**"
   ]
  },
  {
   "cell_type": "code",
   "execution_count": 1,
   "id": "68817e13-ac60-41ff-b2f5-438d56716f81",
   "metadata": {},
   "outputs": [
    {
     "name": "stderr",
     "output_type": "stream",
     "text": [
      "<frozen importlib._bootstrap>:219: RuntimeWarning: scipy._lib.messagestream.MessageStream size changed, may indicate binary incompatibility. Expected 56 from C header, got 64 from PyObject\n"
     ]
    }
   ],
   "source": [
    "import numpy as np\n",
    "\n",
    "# Importing standard Qiskit libraries\n",
    "from qiskit import QuantumCircuit, transpile, Aer, IBMQ, QuantumRegister, ClassicalRegister, execute, BasicAer\n",
    "from qiskit.tools.jupyter import *\n",
    "from qiskit.visualization import *\n",
    "from ibm_quantum_widgets import *\n",
    "from qiskit.providers.aer import QasmSimulator\n",
    "\n",
    "# Loading your IBM Quantum account(s)\n",
    "provider = IBMQ.load_account()"
   ]
  },
  {
   "cell_type": "code",
   "execution_count": 2,
   "id": "1ffa7030-6e80-403f-817b-015d1aa62cae",
   "metadata": {},
   "outputs": [],
   "source": [
    "import math\n",
    "%matplotlib inline"
   ]
  },
  {
   "cell_type": "code",
   "execution_count": 3,
   "id": "c86c2afd-fa4c-46b5-9b35-7ebf41fac2e6",
   "metadata": {},
   "outputs": [],
   "source": [
    "# Set up the program\n",
    "signal = QuantumRegister(4, name='signal')\n",
    "qc = QuantumCircuit(signal)"
   ]
  },
  {
   "cell_type": "code",
   "execution_count": 4,
   "id": "7903d097-9237-4cde-a870-efce352b4892",
   "metadata": {},
   "outputs": [],
   "source": [
    "def main():\n",
    "    ## prepare the signal\n",
    "    qc.h(signal);\n",
    "    qc.rz(math.radians(45), signal[0]);\n",
    "    qc.rz(math.radians(90), signal[1]);\n",
    "    qc.rz(math.radians(180), signal[2]);\n",
    "\n",
    "    qc.barrier()\n",
    "    QFT(signal)"
   ]
  },
  {
   "cell_type": "code",
   "execution_count": 5,
   "id": "c8caa451-0b12-4e01-9765-521387d20a9b",
   "metadata": {},
   "outputs": [
    {
     "name": "stderr",
     "output_type": "stream",
     "text": [
      "/tmp/ipykernel_285/1370478442.py:8: DeprecationWarning: The QuantumCircuit.cu1 method is deprecated as of 0.16.0. It will be removed no earlier than 3 months after the release date. You should use the QuantumCircuit.cp method instead, which acts identically.\n",
      "  qc.cu1(-math.pi/float(2**(j-k)), qreg[n-j-1], qreg[n-k-1])\n"
     ]
    }
   ],
   "source": [
    "def QFT(qreg):\n",
    "    ## This QFT implementation is adapted from IBM's sample:\n",
    "    ##   https://github.com/Qiskit/qiskit-terra/blob/master/examples/python/qft.py\n",
    "    ## ...with a few adjustments to match the book QFT implementation exactly\n",
    "    n = len(qreg)\n",
    "    for j in range(n):\n",
    "        for k in range(j):\n",
    "            qc.cu1(-math.pi/float(2**(j-k)), qreg[n-j-1], qreg[n-k-1])\n",
    "        qc.h(qreg[n-j-1])\n",
    "    # Now finish the QFT by reversing the order of the qubits\n",
    "    for j in range(n//2):\n",
    "        qc.swap(qreg[j], qreg[n-j-1])\n",
    "\n",
    "main()"
   ]
  },
  {
   "cell_type": "code",
   "execution_count": 6,
   "id": "87ba13c4-5a89-48d1-92dd-b0f9bb0c4194",
   "metadata": {},
   "outputs": [],
   "source": [
    "backend = BasicAer.get_backend('statevector_simulator')\n",
    "job = execute(qc, backend)\n",
    "result = job.result()"
   ]
  },
  {
   "cell_type": "code",
   "execution_count": 7,
   "id": "2a21c3d6-9d89-4871-a8d7-07521492405f",
   "metadata": {},
   "outputs": [
    {
     "name": "stdout",
     "output_type": "stream",
     "text": [
      "|2> (-0.924-0.383j) probability = 100.0465%\n"
     ]
    },
    {
     "data": {
      "image/png": "[encoded data removed]",
      "text/plain": [
       "<Figure size 1339.2x264.88 with 1 Axes>"
      ]
     },
     "execution_count": 7,
     "metadata": {},
     "output_type": "execute_result"
    }
   ],
   "source": [
    "outputstate = result.get_statevector(qc, decimals=3)\n",
    "for i,amp in enumerate(outputstate):\n",
    "    if abs(amp) > 0.000001:\n",
    "        prob = abs(amp) * abs(amp)\n",
    "        print('|{}> {} probability = {}%'.format(i, amp, round(prob * 100, 5)))\n",
    "qc.draw()        # draw the circuit"
   ]
  }
 ],
 "metadata": {
  "kernelspec": {
   "display_name": "Qiskit v0.34.2 (ipykernel)",
   "language": "python",
   "name": "python3"
  },
  "language_info": {
   "codemirror_mode": {
    "name": "ipython",
    "version": 3
   },
   "file_extension": ".py",
   "mimetype": "text/x-python",
   "name": "python",
   "nbconvert_exporter": "python",
   "pygments_lexer": "ipython3",
   "version": "3.8.12"
  },
  "widgets": {
   "application/vnd.jupyter.widget-state+json": {
    "state": {
     "15357c8001ce41f38858aac9969474ad": {
      "model_module": "@jupyter-widgets/controls",
      "model_module_version": "1.5.0",
      "model_name": "HTMLModel",
      "state": {
       "layout": "IPY_MODEL_8c2a44d12a324a66bd67d96fce7f0be2",
       "style": "IPY_MODEL_aa6297e829ab433fb45c63d934e150b2",
       "value": "<h5>Message</h5>"
      }
     },
     "2deca186dca9496a94ac4aeeafd126a2": {
      "model_module": "@jupyter-widgets/controls",
      "model_module_version": "1.5.0",
      "model_name": "HBoxModel",
      "state": {
       "children": [
        "IPY_MODEL_3bb882c13019430d96250ff2efff4581",
        "IPY_MODEL_ba5a0058986245d8af1e29e85906a36f",
        "IPY_MODEL_333117b5c0c24f2f9fd0b9ccb47b88b5",
        "IPY_MODEL_c1b935876ff8423ca0b29e2f96c1abcf",
        "IPY_MODEL_15357c8001ce41f38858aac9969474ad"
       ],
       "layout": "IPY_MODEL_90927db6bc984bb5994fa962bdf634eb"
      }
     },
     "2fd873ac7a4f40e19c1b3eafe1833e59": {
      "model_module": "@jupyter-widgets/controls",
      "model_module_version": "1.5.0",
      "model_name": "DescriptionStyleModel",
      "state": {
       "description_width": ""
      }
     },
     "333117b5c0c24f2f9fd0b9ccb47b88b5": {
      "model_module": "@jupyter-widgets/controls",
      "model_module_version": "1.5.0",
      "model_name": "HTMLModel",
      "state": {
       "layout": "IPY_MODEL_9800d1ba93ba4430b7a0684a5ade91d0",
       "style": "IPY_MODEL_bc434a295b9b4b0a83f69603fde64abd",
       "value": "<h5>Status</h5>"
      }
     },
     "38f6a53a44a5407ca197fceb1587ce54": {
      "model_module": "@jupyter-widgets/controls",
      "model_module_version": "1.5.0",
      "model_name": "DescriptionStyleModel",
      "state": {
       "description_width": ""
      }
     },
     "3bb882c13019430d96250ff2efff4581": {
      "model_module": "@jupyter-widgets/controls",
      "model_module_version": "1.5.0",
      "model_name": "HTMLModel",
      "state": {
       "layout": "IPY_MODEL_87607ff1140f41d99dbb16445d7f3d01",
       "style": "IPY_MODEL_8b607b5102364715b03831472ab5e61a",
       "value": "<h5>Job ID</h5>"
      }
     },
     "451b66badc024f9e8e70ef60128e980e": {
      "model_module": "@jupyter-widgets/controls",
      "model_module_version": "1.5.0",
      "model_name": "HTMLModel",
      "state": {
       "layout": "IPY_MODEL_7657328ff4a94d459560f59373937dc5",
       "style": "IPY_MODEL_38f6a53a44a5407ca197fceb1587ce54",
       "value": "<p style='font-family: IBM Plex Sans, Arial, Helvetica, sans-serif; font-size: 20px; font-weight: medium;'>Circuit Properties</p>"
      }
     },
     "4f9af6b9b5f94c649a41b33657ec3d65": {
      "model_module": "@jupyter-widgets/controls",
      "model_module_version": "1.5.0",
      "model_name": "GridBoxModel",
      "state": {
       "children": [
        "IPY_MODEL_6723660acc4c40e5adadd9534e0d5712"
       ],
       "layout": "IPY_MODEL_a1aa0864a27d45bfb4f13f113113d2e6"
      }
     },
     "5041558e768e4d07a4af4a8fb6610a66": {
      "model_module": "@jupyter-widgets/controls",
      "model_module_version": "1.5.0",
      "model_name": "DescriptionStyleModel",
      "state": {
       "description_width": ""
      }
     },
     "5a15a234b5c04a06bc2dfc9761724708": {
      "model_module": "@jupyter-widgets/base",
      "model_module_version": "1.2.0",
      "model_name": "LayoutModel",
      "state": {
       "width": "145px"
      }
     },
     "6723660acc4c40e5adadd9534e0d5712": {
      "model_module": "@jupyter-widgets/controls",
      "model_module_version": "1.5.0",
      "model_name": "ButtonModel",
      "state": {
       "button_style": "primary",
       "description": "Clear",
       "layout": "IPY_MODEL_817b7621b2ad4b7c9482c22d740b9d79",
       "style": "IPY_MODEL_882afabe49e040b7b75233da30fb2b9b"
      }
     },
     "7657328ff4a94d459560f59373937dc5": {
      "model_module": "@jupyter-widgets/base",
      "model_module_version": "1.2.0",
      "model_name": "LayoutModel",
      "state": {
       "margin": "0px 0px 10px 0px"
      }
     },
     "817b7621b2ad4b7c9482c22d740b9d79": {
      "model_module": "@jupyter-widgets/base",
      "model_module_version": "1.2.0",
      "model_name": "LayoutModel",
      "state": {
       "grid_area": "right",
       "padding": "0px 0px 0px 0px",
       "width": "70px"
      }
     },
     "87607ff1140f41d99dbb16445d7f3d01": {
      "model_module": "@jupyter-widgets/base",
      "model_module_version": "1.2.0",
      "model_name": "LayoutModel",
      "state": {
       "width": "190px"
      }
     },
     "882afabe49e040b7b75233da30fb2b9b": {
      "model_module": "@jupyter-widgets/controls",
      "model_module_version": "1.5.0",
      "model_name": "ButtonStyleModel",
      "state": {}
     },
     "8b607b5102364715b03831472ab5e61a": {
      "model_module": "@jupyter-widgets/controls",
      "model_module_version": "1.5.0",
      "model_name": "DescriptionStyleModel",
      "state": {
       "description_width": ""
      }
     },
     "8c2a44d12a324a66bd67d96fce7f0be2": {
      "model_module": "@jupyter-widgets/base",
      "model_module_version": "1.2.0",
      "model_name": "LayoutModel",
      "state": {}
     },
     "90927db6bc984bb5994fa962bdf634eb": {
      "model_module": "@jupyter-widgets/base",
      "model_module_version": "1.2.0",
      "model_name": "LayoutModel",
      "state": {
       "margin": "0px 0px 0px 37px",
       "width": "600px"
      }
     },
     "9800d1ba93ba4430b7a0684a5ade91d0": {
      "model_module": "@jupyter-widgets/base",
      "model_module_version": "1.2.0",
      "model_name": "LayoutModel",
      "state": {
       "width": "95px"
      }
     },
     "a1aa0864a27d45bfb4f13f113113d2e6": {
      "model_module": "@jupyter-widgets/base",
      "model_module_version": "1.2.0",
      "model_name": "LayoutModel",
      "state": {
       "grid_template_areas": "\n                                       \". . . . right \"\n                                        ",
       "grid_template_columns": "20% 20% 20% 20% 20%",
       "width": "100%"
      }
     },
     "aa6297e829ab433fb45c63d934e150b2": {
      "model_module": "@jupyter-widgets/controls",
      "model_module_version": "1.5.0",
      "model_name": "DescriptionStyleModel",
      "state": {
       "description_width": ""
      }
     },
     "ba5a0058986245d8af1e29e85906a36f": {
      "model_module": "@jupyter-widgets/controls",
      "model_module_version": "1.5.0",
      "model_name": "HTMLModel",
      "state": {
       "layout": "IPY_MODEL_5a15a234b5c04a06bc2dfc9761724708",
       "style": "IPY_MODEL_2fd873ac7a4f40e19c1b3eafe1833e59",
       "value": "<h5>Backend</h5>"
      }
     },
     "bc434a295b9b4b0a83f69603fde64abd": {
      "model_module": "@jupyter-widgets/controls",
      "model_module_version": "1.5.0",
      "model_name": "DescriptionStyleModel",
      "state": {
       "description_width": ""
      }
     },
     "c1b935876ff8423ca0b29e2f96c1abcf": {
      "model_module": "@jupyter-widgets/controls",
      "model_module_version": "1.5.0",
      "model_name": "HTMLModel",
      "state": {
       "layout": "IPY_MODEL_c3d87b2e71fb4b94a86c78c0ee2fafa0",
       "style": "IPY_MODEL_5041558e768e4d07a4af4a8fb6610a66",
       "value": "<h5>Queue</h5>"
      }
     },
     "c3d87b2e71fb4b94a86c78c0ee2fafa0": {
      "model_module": "@jupyter-widgets/base",
      "model_module_version": "1.2.0",
      "model_name": "LayoutModel",
      "state": {
       "width": "70px"
      }
     }
    },
    "version_major": 2,
    "version_minor": 0
   }
  }
 },
 "nbformat": 4,
 "nbformat_minor": 5
}
