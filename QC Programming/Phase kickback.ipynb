{
 "cells": [
  {
   "cell_type": "markdown",
   "id": "cda4be40-3103-4d83-9e92-b68d8d3d9865",
   "metadata": {},
   "source": [
    "# **Phase kickback**"
   ]
  },
  {
   "cell_type": "code",
   "execution_count": 1,
   "id": "16a2996b-8fd2-44d2-950b-60afa2036fb7",
   "metadata": {},
   "outputs": [],
   "source": [
    "import numpy as np\n",
    "\n",
    "# Importing standard Qiskit libraries\n",
    "from qiskit import QuantumCircuit, transpile, Aer, IBMQ, QuantumRegister, ClassicalRegister, execute, BasicAer\n",
    "from qiskit.tools.jupyter import *\n",
    "from qiskit.visualization import *\n",
    "from ibm_quantum_widgets import *\n",
    "from qiskit.providers.aer import QasmSimulator\n",
    "\n",
    "# Loading your IBM Quantum account(s)\n",
    "provider = IBMQ.load_account()"
   ]
  },
  {
   "cell_type": "code",
   "execution_count": 2,
   "id": "b7a3003a-c783-4eda-92ba-e695691966c3",
   "metadata": {},
   "outputs": [],
   "source": [
    "import math\n",
    "%matplotlib inline"
   ]
  },
  {
   "cell_type": "code",
   "execution_count": 3,
   "id": "198c9056-e616-4a35-b620-45341c63fb2f",
   "metadata": {},
   "outputs": [],
   "source": [
    "# Set up the program\n",
    "reg1 = QuantumRegister(2, name='reg1')\n",
    "reg2 = QuantumRegister(1, name='reg2')\n",
    "qc = QuantumCircuit(reg1, reg2)"
   ]
  },
  {
   "cell_type": "code",
   "execution_count": 4,
   "id": "5f27228d-e0c8-4be4-b42d-cbb2a3162e65",
   "metadata": {},
   "outputs": [
    {
     "name": "stderr",
     "output_type": "stream",
     "text": [
      "/tmp/ipykernel_7841/2307277055.py:2: DeprecationWarning: The QuantumCircuit.cu1 method is deprecated as of 0.16.0. It will be removed no earlier than 3 months after the release date. You should use the QuantumCircuit.cp method instead, which acts identically.\n",
      "  qc.cu1(math.pi/4, reg1[0], reg2)\n",
      "/tmp/ipykernel_7841/2307277055.py:3: DeprecationWarning: The QuantumCircuit.cu1 method is deprecated as of 0.16.0. It will be removed no earlier than 3 months after the release date. You should use the QuantumCircuit.cp method instead, which acts identically.\n",
      "  qc.cu1(math.pi/2, reg1[1], reg2)\n"
     ]
    },
    {
     "data": {
      "text/plain": [
       "<qiskit.circuit.instructionset.InstructionSet at 0x7ff28a2f5200>"
      ]
     },
     "execution_count": 4,
     "metadata": {},
     "output_type": "execute_result"
    }
   ],
   "source": [
    "qc.h(reg1)         # put a into reg1 superposition of 0,1,2,3\n",
    "qc.cu1(math.pi/4, reg1[0], reg2)\n",
    "qc.cu1(math.pi/2, reg1[1], reg2)"
   ]
  },
  {
   "cell_type": "code",
   "execution_count": 5,
   "id": "c1cb76e8-a2ff-40c1-8744-8e4b16e9c73c",
   "metadata": {},
   "outputs": [],
   "source": [
    "backend = BasicAer.get_backend('statevector_simulator')\n",
    "job = execute(qc, backend)\n",
    "result = job.result()"
   ]
  },
  {
   "cell_type": "code",
   "execution_count": 6,
   "id": "8c17258c-a257-4cf9-9738-9361c64a12b6",
   "metadata": {},
   "outputs": [
    {
     "name": "stdout",
     "output_type": "stream",
     "text": [
      "[0.5+0.j 0.5-0.j 0.5+0.j 0.5-0.j 0. +0.j 0. +0.j 0. +0.j 0. +0.j]\n"
     ]
    },
    {
     "data": {
      "image/png": "[encoded data removed]",
      "text/plain": [
       "<Figure size 422.067x204.68 with 1 Axes>"
      ]
     },
     "execution_count": 6,
     "metadata": {},
     "output_type": "execute_result"
    }
   ],
   "source": [
    "outputstate = result.get_statevector(qc, decimals=3)\n",
    "print(outputstate)\n",
    "qc.draw()        # draw the circuit"
   ]
  }
 ],
 "metadata": {
  "kernelspec": {
   "display_name": "Qiskit v0.34.1 (ipykernel)",
   "language": "python",
   "name": "python3"
  },
  "language_info": {
   "codemirror_mode": {
    "name": "ipython",
    "version": 3
   },
   "file_extension": ".py",
   "mimetype": "text/x-python",
   "name": "python",
   "nbconvert_exporter": "python",
   "pygments_lexer": "ipython3",
   "version": "3.8.12"
  },
  "widgets": {
   "application/vnd.jupyter.widget-state+json": {
    "state": {
     "0a76b93095d648b1a7bbe263bcf30bc6": {
      "model_module": "@jupyter-widgets/controls",
      "model_module_version": "1.5.0",
      "model_name": "HTMLModel",
      "state": {
       "layout": "IPY_MODEL_ca1569ac462c4c3fb209a4656f2b1761",
       "style": "IPY_MODEL_c16b9e0442f54853984deea237ba3f88",
       "value": "<h5>Status</h5>"
      }
     },
     "1457d2b4bf964052beaf993a0f657b50": {
      "model_module": "@jupyter-widgets/controls",
      "model_module_version": "1.5.0",
      "model_name": "DescriptionStyleModel",
      "state": {
       "description_width": ""
      }
     },
     "2aede844a69a47a7866efee002ea9de4": {
      "model_module": "@jupyter-widgets/controls",
      "model_module_version": "1.5.0",
      "model_name": "GridBoxModel",
      "state": {
       "children": [
        "IPY_MODEL_2be9f1cf1b4c40d99ae64903d897cbbb"
       ],
       "layout": "IPY_MODEL_3d7686d37649469c896b1dc86b46cf9d"
      }
     },
     "2ba642cb88084a2c9713fcb8126cdb1a": {
      "model_module": "@jupyter-widgets/controls",
      "model_module_version": "1.5.0",
      "model_name": "HTMLModel",
      "state": {
       "layout": "IPY_MODEL_d290798c85fe4f70877e81f546491ec6",
       "style": "IPY_MODEL_bc903b847df34adda820510112154c95",
       "value": "<h5>Job ID</h5>"
      }
     },
     "2be9f1cf1b4c40d99ae64903d897cbbb": {
      "model_module": "@jupyter-widgets/controls",
      "model_module_version": "1.5.0",
      "model_name": "ButtonModel",
      "state": {
       "button_style": "primary",
       "description": "Clear",
       "layout": "IPY_MODEL_3c0f517d1dac4abbb4677eec95ac7b53",
       "style": "IPY_MODEL_b2c0d9b82a9c46a9a7aa41309d07e351"
      }
     },
     "2fe061339a694c4da2c50999c9437a24": {
      "model_module": "@jupyter-widgets/controls",
      "model_module_version": "1.5.0",
      "model_name": "HTMLModel",
      "state": {
       "layout": "IPY_MODEL_320aa1045ccd4bda9593710b24ed9acc",
       "style": "IPY_MODEL_1457d2b4bf964052beaf993a0f657b50",
       "value": "<h5>Message</h5>"
      }
     },
     "320aa1045ccd4bda9593710b24ed9acc": {
      "model_module": "@jupyter-widgets/base",
      "model_module_version": "1.2.0",
      "model_name": "LayoutModel",
      "state": {}
     },
     "3c0f517d1dac4abbb4677eec95ac7b53": {
      "model_module": "@jupyter-widgets/base",
      "model_module_version": "1.2.0",
      "model_name": "LayoutModel",
      "state": {
       "grid_area": "right",
       "padding": "0px 0px 0px 0px",
       "width": "70px"
      }
     },
     "3d7686d37649469c896b1dc86b46cf9d": {
      "model_module": "@jupyter-widgets/base",
      "model_module_version": "1.2.0",
      "model_name": "LayoutModel",
      "state": {
       "grid_template_areas": "\n                                       \". . . . right \"\n                                        ",
       "grid_template_columns": "20% 20% 20% 20% 20%",
       "width": "100%"
      }
     },
     "46d5df2c5fc346e790e9bc7f6caacf74": {
      "model_module": "@jupyter-widgets/base",
      "model_module_version": "1.2.0",
      "model_name": "LayoutModel",
      "state": {
       "width": "145px"
      }
     },
     "5108c21765e9435ab2328df728026269": {
      "model_module": "@jupyter-widgets/base",
      "model_module_version": "1.2.0",
      "model_name": "LayoutModel",
      "state": {
       "margin": "0px 0px 0px 37px",
       "width": "600px"
      }
     },
     "604c574bddb84273b609848849e1a508": {
      "model_module": "@jupyter-widgets/controls",
      "model_module_version": "1.5.0",
      "model_name": "HTMLModel",
      "state": {
       "layout": "IPY_MODEL_ba2593a68b7749328e1ece0ea5aaa1d1",
       "style": "IPY_MODEL_f34bcafe1a95442c870101e8cfe1b3fa",
       "value": "<h5>Queue</h5>"
      }
     },
     "9c033e76f08c41419821117bb405c915": {
      "model_module": "@jupyter-widgets/controls",
      "model_module_version": "1.5.0",
      "model_name": "HTMLModel",
      "state": {
       "layout": "IPY_MODEL_e144af0ce27a47aa873458bca5d36f1c",
       "style": "IPY_MODEL_d31c8499f5a942cb803adef86a5d44a1",
       "value": "<p style='font-family: IBM Plex Sans, Arial, Helvetica, sans-serif; font-size: 20px; font-weight: medium;'>Circuit Properties</p>"
      }
     },
     "b2c0d9b82a9c46a9a7aa41309d07e351": {
      "model_module": "@jupyter-widgets/controls",
      "model_module_version": "1.5.0",
      "model_name": "ButtonStyleModel",
      "state": {}
     },
     "ba2593a68b7749328e1ece0ea5aaa1d1": {
      "model_module": "@jupyter-widgets/base",
      "model_module_version": "1.2.0",
      "model_name": "LayoutModel",
      "state": {
       "width": "70px"
      }
     },
     "bc903b847df34adda820510112154c95": {
      "model_module": "@jupyter-widgets/controls",
      "model_module_version": "1.5.0",
      "model_name": "DescriptionStyleModel",
      "state": {
       "description_width": ""
      }
     },
     "bfda4b1697c849e7aa64a6d3de8726fe": {
      "model_module": "@jupyter-widgets/controls",
      "model_module_version": "1.5.0",
      "model_name": "DescriptionStyleModel",
      "state": {
       "description_width": ""
      }
     },
     "c16b9e0442f54853984deea237ba3f88": {
      "model_module": "@jupyter-widgets/controls",
      "model_module_version": "1.5.0",
      "model_name": "DescriptionStyleModel",
      "state": {
       "description_width": ""
      }
     },
     "ca1569ac462c4c3fb209a4656f2b1761": {
      "model_module": "@jupyter-widgets/base",
      "model_module_version": "1.2.0",
      "model_name": "LayoutModel",
      "state": {
       "width": "95px"
      }
     },
     "d290798c85fe4f70877e81f546491ec6": {
      "model_module": "@jupyter-widgets/base",
      "model_module_version": "1.2.0",
      "model_name": "LayoutModel",
      "state": {
       "width": "190px"
      }
     },
     "d31c8499f5a942cb803adef86a5d44a1": {
      "model_module": "@jupyter-widgets/controls",
      "model_module_version": "1.5.0",
      "model_name": "DescriptionStyleModel",
      "state": {
       "description_width": ""
      }
     },
     "deceb3a04eaa46b78a2f4b124111719a": {
      "model_module": "@jupyter-widgets/controls",
      "model_module_version": "1.5.0",
      "model_name": "HBoxModel",
      "state": {
       "children": [
        "IPY_MODEL_2ba642cb88084a2c9713fcb8126cdb1a",
        "IPY_MODEL_ef991c5a087d49dfa9ea8ddd959b203f",
        "IPY_MODEL_0a76b93095d648b1a7bbe263bcf30bc6",
        "IPY_MODEL_604c574bddb84273b609848849e1a508",
        "IPY_MODEL_2fe061339a694c4da2c50999c9437a24"
       ],
       "layout": "IPY_MODEL_5108c21765e9435ab2328df728026269"
      }
     },
     "e144af0ce27a47aa873458bca5d36f1c": {
      "model_module": "@jupyter-widgets/base",
      "model_module_version": "1.2.0",
      "model_name": "LayoutModel",
      "state": {
       "margin": "0px 0px 10px 0px"
      }
     },
     "ef991c5a087d49dfa9ea8ddd959b203f": {
      "model_module": "@jupyter-widgets/controls",
      "model_module_version": "1.5.0",
      "model_name": "HTMLModel",
      "state": {
       "layout": "IPY_MODEL_46d5df2c5fc346e790e9bc7f6caacf74",
       "style": "IPY_MODEL_bfda4b1697c849e7aa64a6d3de8726fe",
       "value": "<h5>Backend</h5>"
      }
     },
     "f34bcafe1a95442c870101e8cfe1b3fa": {
      "model_module": "@jupyter-widgets/controls",
      "model_module_version": "1.5.0",
      "model_name": "DescriptionStyleModel",
      "state": {
       "description_width": ""
      }
     }
    },
    "version_major": 2,
    "version_minor": 0
   }
  }
 },
 "nbformat": 4,
 "nbformat_minor": 5
}
