{
 "cells": [
  {
   "cell_type": "markdown",
   "id": "ac1e871b-f675-4df2-a7d2-2632db941a16",
   "metadata": {},
   "source": [
    "# **Quantum Classifiers**"
   ]
  },
  {
   "cell_type": "code",
   "execution_count": 1,
   "id": "562cfa2a-478c-4db9-b430-b2e98ffea20c",
   "metadata": {},
   "outputs": [
    {
     "name": "stdout",
     "output_type": "stream",
     "text": [
      "Collecting qclassify\n",
      "  Downloading qclassify-0.0.1.dev0-py3-none-any.whl (16 kB)\n",
      "Requirement already satisfied: matplotlib in /opt/conda/lib/python3.8/site-packages (from qclassify) (3.5.1)\n",
      "Requirement already satisfied: jupyter in /opt/conda/lib/python3.8/site-packages (from qclassify) (1.0.0)\n",
      "Collecting pyquil>=2.0.0b1\n",
      "  Downloading pyquil-3.2.0rc1-py3-none-any.whl (220 kB)\n",
      "\u001b[K     |████████████████████████████████| 220 kB 34.3 MB/s eta 0:00:01\n",
      "\u001b[?25hRequirement already satisfied: scipy in /opt/conda/lib/python3.8/site-packages (from qclassify) (1.8.0)\n",
      "Collecting retry<0.10.0,>=0.9.2\n",
      "  Using cached retry-0.9.2-py2.py3-none-any.whl (8.0 kB)\n",
      "Collecting lark<0.12.0,>=0.11.1\n",
      "  Using cached lark-0.11.3-py2.py3-none-any.whl\n",
      "Requirement already satisfied: numpy<2.0,>=1.20 in /opt/conda/lib/python3.8/site-packages (from pyquil>=2.0.0b1->qclassify) (1.22.2)\n",
      "Collecting qcs-api-client<0.21.0,>=0.8.1\n",
      "  Using cached qcs_api_client-0.20.10-py3-none-any.whl (100 kB)\n",
      "Requirement already satisfied: networkx<3.0,>=2.5 in /opt/conda/lib/python3.8/site-packages (from pyquil>=2.0.0b1->qclassify) (2.7)\n",
      "Collecting rpcq<4.0.0,>=3.6.0\n",
      "  Using cached rpcq-3.9.2-py3-none-any.whl\n",
      "Collecting attrs<21.0.0,>=20.1.0\n",
      "  Using cached attrs-20.3.0-py2.py3-none-any.whl (49 kB)\n",
      "Requirement already satisfied: toml<0.11.0,>=0.10.2 in /opt/conda/lib/python3.8/site-packages (from qcs-api-client<0.21.0,>=0.8.1->pyquil>=2.0.0b1->qclassify) (0.10.2)\n",
      "Collecting iso8601<0.2.0,>=0.1.13\n",
      "  Using cached iso8601-0.1.16-py2.py3-none-any.whl (10 kB)\n",
      "Collecting httpx<0.16.0,>=0.15.0\n",
      "  Using cached httpx-0.15.5-py3-none-any.whl (65 kB)\n",
      "Requirement already satisfied: python-dateutil<3.0.0,>=2.8.1 in /opt/conda/lib/python3.8/site-packages (from qcs-api-client<0.21.0,>=0.8.1->pyquil>=2.0.0b1->qclassify) (2.8.2)\n",
      "Collecting pyjwt<2.0.0,>=1.7.1\n",
      "  Using cached PyJWT-1.7.1-py2.py3-none-any.whl (18 kB)\n",
      "Collecting pydantic<2.0.0,>=1.7.2\n",
      "  Using cached pydantic-1.9.0-cp38-cp38-manylinux_2_17_x86_64.manylinux2014_x86_64.whl (12.6 MB)\n",
      "Collecting rfc3339<7.0,>=6.2\n",
      "  Using cached rfc3339-6.2-py3-none-any.whl (5.5 kB)\n",
      "Collecting retrying<2.0.0,>=1.3.3\n",
      "  Using cached retrying-1.3.3-py3-none-any.whl\n",
      "Requirement already satisfied: sniffio in /opt/conda/lib/python3.8/site-packages (from httpx<0.16.0,>=0.15.0->qcs-api-client<0.21.0,>=0.8.1->pyquil>=2.0.0b1->qclassify) (1.2.0)\n",
      "Collecting httpcore==0.11.*\n",
      "  Using cached httpcore-0.11.1-py3-none-any.whl (52 kB)\n",
      "Collecting rfc3986[idna2008]<2,>=1.3\n",
      "  Using cached rfc3986-1.5.0-py2.py3-none-any.whl (31 kB)\n",
      "Requirement already satisfied: certifi in /opt/conda/lib/python3.8/site-packages (from httpx<0.16.0,>=0.15.0->qcs-api-client<0.21.0,>=0.8.1->pyquil>=2.0.0b1->qclassify) (2021.10.8)\n",
      "Collecting h11<0.10,>=0.8\n",
      "  Using cached h11-0.9.0-py2.py3-none-any.whl (53 kB)\n",
      "Requirement already satisfied: typing-extensions>=3.7.4.3 in /opt/conda/lib/python3.8/site-packages (from pydantic<2.0.0,>=1.7.2->qcs-api-client<0.21.0,>=0.8.1->pyquil>=2.0.0b1->qclassify) (4.1.1)\n",
      "Requirement already satisfied: six>=1.5 in /opt/conda/lib/python3.8/site-packages (from python-dateutil<3.0.0,>=2.8.1->qcs-api-client<0.21.0,>=0.8.1->pyquil>=2.0.0b1->qclassify) (1.16.0)\n",
      "Requirement already satisfied: decorator>=3.4.2 in /opt/conda/lib/python3.8/site-packages (from retry<0.10.0,>=0.9.2->pyquil>=2.0.0b1->qclassify) (5.1.1)\n",
      "Collecting py<2.0.0,>=1.4.26\n",
      "  Using cached py-1.11.0-py2.py3-none-any.whl (98 kB)\n",
      "Requirement already satisfied: idna in /opt/conda/lib/python3.8/site-packages (from rfc3986[idna2008]<2,>=1.3->httpx<0.16.0,>=0.15.0->qcs-api-client<0.21.0,>=0.8.1->pyquil>=2.0.0b1->qclassify) (3.3)\n",
      "Requirement already satisfied: ruamel.yaml in /opt/conda/lib/python3.8/site-packages (from rpcq<4.0.0,>=3.6.0->pyquil>=2.0.0b1->qclassify) (0.17.21)\n",
      "Collecting python-rapidjson\n",
      "  Using cached python_rapidjson-1.6-cp38-cp38-manylinux_2_17_x86_64.manylinux2014_x86_64.whl (1.6 MB)\n",
      "Collecting msgpack<1.0,>=0.6\n",
      "  Using cached msgpack-0.6.2-cp38-cp38-linux_x86_64.whl\n",
      "Requirement already satisfied: pyzmq>=17 in /opt/conda/lib/python3.8/site-packages (from rpcq<4.0.0,>=3.6.0->pyquil>=2.0.0b1->qclassify) (22.3.0)\n",
      "Requirement already satisfied: ipywidgets in /opt/conda/lib/python3.8/site-packages (from jupyter->qclassify) (7.6.5)\n",
      "Requirement already satisfied: qtconsole in /opt/conda/lib/python3.8/site-packages (from jupyter->qclassify) (5.2.2)\n",
      "Requirement already satisfied: notebook in /opt/conda/lib/python3.8/site-packages (from jupyter->qclassify) (6.4.8)\n",
      "Requirement already satisfied: nbconvert in /opt/conda/lib/python3.8/site-packages (from jupyter->qclassify) (5.6.1)\n",
      "Requirement already satisfied: ipykernel in /opt/conda/lib/python3.8/site-packages (from jupyter->qclassify) (6.9.1)\n",
      "Requirement already satisfied: jupyter-console in /opt/conda/lib/python3.8/site-packages (from jupyter->qclassify) (6.4.0)\n",
      "Requirement already satisfied: jupyter-client<8.0 in /opt/conda/lib/python3.8/site-packages (from ipykernel->jupyter->qclassify) (6.1.12)\n",
      "Requirement already satisfied: traitlets<6.0,>=5.1.0 in /opt/conda/lib/python3.8/site-packages (from ipykernel->jupyter->qclassify) (5.1.1)\n",
      "Requirement already satisfied: matplotlib-inline<0.2.0,>=0.1.0 in /opt/conda/lib/python3.8/site-packages (from ipykernel->jupyter->qclassify) (0.1.3)\n",
      "Requirement already satisfied: debugpy<2.0,>=1.0.0 in /opt/conda/lib/python3.8/site-packages (from ipykernel->jupyter->qclassify) (1.5.1)\n",
      "Requirement already satisfied: tornado<7.0,>=4.2 in /opt/conda/lib/python3.8/site-packages (from ipykernel->jupyter->qclassify) (6.1)\n",
      "Requirement already satisfied: nest-asyncio in /opt/conda/lib/python3.8/site-packages (from ipykernel->jupyter->qclassify) (1.5.4)\n",
      "Requirement already satisfied: ipython>=7.23.1 in /opt/conda/lib/python3.8/site-packages (from ipykernel->jupyter->qclassify) (8.1.0)\n",
      "Requirement already satisfied: jedi>=0.16 in /opt/conda/lib/python3.8/site-packages (from ipython>=7.23.1->ipykernel->jupyter->qclassify) (0.18.1)\n",
      "Requirement already satisfied: backcall in /opt/conda/lib/python3.8/site-packages (from ipython>=7.23.1->ipykernel->jupyter->qclassify) (0.2.0)\n",
      "Requirement already satisfied: pygments>=2.4.0 in /opt/conda/lib/python3.8/site-packages (from ipython>=7.23.1->ipykernel->jupyter->qclassify) (2.11.2)\n",
      "Requirement already satisfied: pexpect>4.3 in /opt/conda/lib/python3.8/site-packages (from ipython>=7.23.1->ipykernel->jupyter->qclassify) (4.8.0)\n",
      "Requirement already satisfied: pickleshare in /opt/conda/lib/python3.8/site-packages (from ipython>=7.23.1->ipykernel->jupyter->qclassify) (0.7.5)\n",
      "Requirement already satisfied: setuptools>=18.5 in /opt/conda/lib/python3.8/site-packages (from ipython>=7.23.1->ipykernel->jupyter->qclassify) (60.9.3)\n",
      "Requirement already satisfied: stack-data in /opt/conda/lib/python3.8/site-packages (from ipython>=7.23.1->ipykernel->jupyter->qclassify) (0.2.0)\n",
      "Requirement already satisfied: prompt-toolkit!=3.0.0,!=3.0.1,<3.1.0,>=2.0.0 in /opt/conda/lib/python3.8/site-packages (from ipython>=7.23.1->ipykernel->jupyter->qclassify) (3.0.28)\n",
      "Requirement already satisfied: parso<0.9.0,>=0.8.0 in /opt/conda/lib/python3.8/site-packages (from jedi>=0.16->ipython>=7.23.1->ipykernel->jupyter->qclassify) (0.8.3)\n",
      "Requirement already satisfied: jupyter-core>=4.6.0 in /opt/conda/lib/python3.8/site-packages (from jupyter-client<8.0->ipykernel->jupyter->qclassify) (4.9.2)\n",
      "Requirement already satisfied: ptyprocess>=0.5 in /opt/conda/lib/python3.8/site-packages (from pexpect>4.3->ipython>=7.23.1->ipykernel->jupyter->qclassify) (0.7.0)\n",
      "Requirement already satisfied: wcwidth in /opt/conda/lib/python3.8/site-packages (from prompt-toolkit!=3.0.0,!=3.0.1,<3.1.0,>=2.0.0->ipython>=7.23.1->ipykernel->jupyter->qclassify) (0.2.5)\n",
      "Requirement already satisfied: widgetsnbextension~=3.5.0 in /opt/conda/lib/python3.8/site-packages (from ipywidgets->jupyter->qclassify) (3.5.2)\n",
      "Requirement already satisfied: ipython-genutils~=0.2.0 in /opt/conda/lib/python3.8/site-packages (from ipywidgets->jupyter->qclassify) (0.2.0)\n",
      "Requirement already satisfied: nbformat>=4.2.0 in /opt/conda/lib/python3.8/site-packages (from ipywidgets->jupyter->qclassify) (5.1.3)\n",
      "Requirement already satisfied: jupyterlab-widgets>=1.0.0 in /opt/conda/lib/python3.8/site-packages (from ipywidgets->jupyter->qclassify) (1.0.2)\n",
      "Requirement already satisfied: jsonschema!=2.5.0,>=2.4 in /opt/conda/lib/python3.8/site-packages (from nbformat>=4.2.0->ipywidgets->jupyter->qclassify) (4.4.0)\n",
      "Requirement already satisfied: importlib-resources>=1.4.0 in /opt/conda/lib/python3.8/site-packages (from jsonschema!=2.5.0,>=2.4->nbformat>=4.2.0->ipywidgets->jupyter->qclassify) (5.4.0)\n",
      "Requirement already satisfied: pyrsistent!=0.17.0,!=0.17.1,!=0.17.2,>=0.14.0 in /opt/conda/lib/python3.8/site-packages (from jsonschema!=2.5.0,>=2.4->nbformat>=4.2.0->ipywidgets->jupyter->qclassify) (0.18.1)\n",
      "Requirement already satisfied: zipp>=3.1.0 in /opt/conda/lib/python3.8/site-packages (from importlib-resources>=1.4.0->jsonschema!=2.5.0,>=2.4->nbformat>=4.2.0->ipywidgets->jupyter->qclassify) (3.7.0)\n",
      "Requirement already satisfied: argon2-cffi in /opt/conda/lib/python3.8/site-packages (from notebook->jupyter->qclassify) (21.3.0)\n",
      "Requirement already satisfied: prometheus-client in /opt/conda/lib/python3.8/site-packages (from notebook->jupyter->qclassify) (0.13.1)\n",
      "Requirement already satisfied: terminado>=0.8.3 in /opt/conda/lib/python3.8/site-packages (from notebook->jupyter->qclassify) (0.13.1)\n",
      "Requirement already satisfied: Send2Trash>=1.8.0 in /opt/conda/lib/python3.8/site-packages (from notebook->jupyter->qclassify) (1.8.0)\n",
      "Requirement already satisfied: jinja2 in /opt/conda/lib/python3.8/site-packages (from notebook->jupyter->qclassify) (3.0.3)\n",
      "Requirement already satisfied: argon2-cffi-bindings in /opt/conda/lib/python3.8/site-packages (from argon2-cffi->notebook->jupyter->qclassify) (21.2.0)\n",
      "Requirement already satisfied: cffi>=1.0.1 in /opt/conda/lib/python3.8/site-packages (from argon2-cffi-bindings->argon2-cffi->notebook->jupyter->qclassify) (1.15.0)\n",
      "Requirement already satisfied: pycparser in /opt/conda/lib/python3.8/site-packages (from cffi>=1.0.1->argon2-cffi-bindings->argon2-cffi->notebook->jupyter->qclassify) (2.21)\n",
      "Requirement already satisfied: MarkupSafe>=2.0 in /opt/conda/lib/python3.8/site-packages (from jinja2->notebook->jupyter->qclassify) (2.1.0)\n",
      "Requirement already satisfied: pyparsing>=2.2.1 in /opt/conda/lib/python3.8/site-packages (from matplotlib->qclassify) (2.4.7)\n",
      "Requirement already satisfied: pillow>=6.2.0 in /opt/conda/lib/python3.8/site-packages (from matplotlib->qclassify) (9.0.1)\n",
      "Requirement already satisfied: packaging>=20.0 in /opt/conda/lib/python3.8/site-packages (from matplotlib->qclassify) (21.3)\n",
      "Requirement already satisfied: cycler>=0.10 in /opt/conda/lib/python3.8/site-packages (from matplotlib->qclassify) (0.11.0)\n",
      "Requirement already satisfied: fonttools>=4.22.0 in /opt/conda/lib/python3.8/site-packages (from matplotlib->qclassify) (4.29.1)\n",
      "Requirement already satisfied: kiwisolver>=1.0.1 in /opt/conda/lib/python3.8/site-packages (from matplotlib->qclassify) (1.3.2)\n",
      "Requirement already satisfied: entrypoints>=0.2.2 in /opt/conda/lib/python3.8/site-packages (from nbconvert->jupyter->qclassify) (0.4)\n",
      "Requirement already satisfied: testpath in /opt/conda/lib/python3.8/site-packages (from nbconvert->jupyter->qclassify) (0.6.0)\n",
      "Requirement already satisfied: pandocfilters>=1.4.1 in /opt/conda/lib/python3.8/site-packages (from nbconvert->jupyter->qclassify) (1.5.0)\n",
      "Requirement already satisfied: defusedxml in /opt/conda/lib/python3.8/site-packages (from nbconvert->jupyter->qclassify) (0.7.1)\n",
      "Requirement already satisfied: bleach in /opt/conda/lib/python3.8/site-packages (from nbconvert->jupyter->qclassify) (4.1.0)\n",
      "Requirement already satisfied: mistune<2,>=0.8.1 in /opt/conda/lib/python3.8/site-packages (from nbconvert->jupyter->qclassify) (0.8.4)\n",
      "Requirement already satisfied: webencodings in /opt/conda/lib/python3.8/site-packages (from bleach->nbconvert->jupyter->qclassify) (0.5.1)\n",
      "Requirement already satisfied: qtpy in /opt/conda/lib/python3.8/site-packages (from qtconsole->jupyter->qclassify) (2.0.1)\n",
      "Requirement already satisfied: ruamel.yaml.clib>=0.2.6 in /opt/conda/lib/python3.8/site-packages (from ruamel.yaml->rpcq<4.0.0,>=3.6.0->pyquil>=2.0.0b1->qclassify) (0.2.6)\n",
      "Requirement already satisfied: pure-eval in /opt/conda/lib/python3.8/site-packages (from stack-data->ipython>=7.23.1->ipykernel->jupyter->qclassify) (0.2.2)\n",
      "Requirement already satisfied: asttokens in /opt/conda/lib/python3.8/site-packages (from stack-data->ipython>=7.23.1->ipykernel->jupyter->qclassify) (2.0.5)\n",
      "Requirement already satisfied: executing in /opt/conda/lib/python3.8/site-packages (from stack-data->ipython>=7.23.1->ipykernel->jupyter->qclassify) (0.8.3)\n",
      "Installing collected packages: attrs, rfc3986, h11, httpcore, rfc3339, retrying, python-rapidjson, pyjwt, pydantic, py, msgpack, iso8601, httpx, rpcq, retry, qcs-api-client, lark, pyquil, qclassify\n",
      "  Attempting uninstall: attrs\n",
      "    Found existing installation: attrs 21.4.0\n",
      "    Uninstalling attrs-21.4.0:\n",
      "      Successfully uninstalled attrs-21.4.0\n",
      "  Attempting uninstall: pyjwt\n",
      "    Found existing installation: PyJWT 2.3.0\n",
      "    Uninstalling PyJWT-2.3.0:\n",
      "      Successfully uninstalled PyJWT-2.3.0\n",
      "  Attempting uninstall: msgpack\n",
      "    Found existing installation: msgpack 1.0.3\n",
      "    Uninstalling msgpack-1.0.3:\n",
      "      Successfully uninstalled msgpack-1.0.3\n",
      "Successfully installed attrs-21.4.0 h11-0.9.0 httpcore-0.11.1 httpx-0.15.5 iso8601-0.1.16 lark-0.11.3 msgpack-0.6.2 py-1.11.0 pydantic-1.9.0 pyjwt-1.7.1 pyquil-3.2.0rc1 python-rapidjson-1.6 qclassify-0.0.1.dev0 qcs-api-client-0.20.10 retry-0.9.2 retrying-1.3.3 rfc3339-6.2 rfc3986-1.5.0 rpcq-3.9.2\n",
      "Note: you may need to restart the kernel to use updated packages.\n"
     ]
    }
   ],
   "source": [
    "pip install qclassify"
   ]
  },
  {
   "cell_type": "code",
   "execution_count": 2,
   "id": "d03ec00d-0c8b-4223-8d36-325bbcc8b0d7",
   "metadata": {},
   "outputs": [
    {
     "name": "stderr",
     "output_type": "stream",
     "text": [
      "<frozen importlib._bootstrap>:219: RuntimeWarning: scipy._lib.messagestream.MessageStream size changed, may indicate binary incompatibility. Expected 56 from C header, got 64 from PyObject\n"
     ]
    }
   ],
   "source": [
    "import qclassify"
   ]
  },
  {
   "cell_type": "code",
   "execution_count": 3,
   "id": "3012b4e4-a7c8-4b4c-a816-3ac58ca67c09",
   "metadata": {},
   "outputs": [],
   "source": [
    "from qclassify.preprocessing import *\n",
    "from qclassify.encoding_circ import *\n",
    "from qclassify.qclassifier import QClassifier as QuantumClassifier\n",
    "from qclassify.proc_circ import *\n",
    "from qclassify.postprocessing import *"
   ]
  },
  {
   "cell_type": "code",
   "execution_count": 4,
   "id": "4d0cd85c-8ca3-4d97-a5f0-ee7ccceddc02",
   "metadata": {},
   "outputs": [],
   "source": [
    "encoding_opts={\n",
    "                'preprocessing':id_func,        \n",
    "                'encoding_circ':x_product,      \n",
    "        }"
   ]
  },
  {
   "cell_type": "code",
   "execution_count": 5,
   "id": "69972a9d-d159-4b23-8907-b748b4760a81",
   "metadata": {},
   "outputs": [],
   "source": [
    "process_opts={\n",
    "                'proc_circ':layer_xz,   \n",
    "                'postprocessing':{\n",
    "                        'quantum':measure_top, \n",
    "                        'classical':prob_one, \n",
    "                }\n",
    "        }"
   ]
  },
  {
   "cell_type": "code",
   "execution_count": 6,
   "id": "84fa2af1-bcb4-4e29-9127-0a95fde5b39a",
   "metadata": {},
   "outputs": [],
   "source": [
    "quantum_bits = [0, 1] \n",
    "classify_opts = {\n",
    "                'encoder_options':encoding_opts,\n",
    "                'proc_options':process_opts,\n",
    "        }\n",
    "qCircuit = QuantumClassifier(quantum_bits, classify_opts)"
   ]
  },
  {
   "cell_type": "code",
   "execution_count": 7,
   "id": "f1a69a3c-c0b8-4b64-b1dc-25ffa4325784",
   "metadata": {},
   "outputs": [
    {
     "name": "stdout",
     "output_type": "stream",
     "text": [
      "RX(1) 0\n",
      "RX(1) 1\n",
      "CZ 0 1\n",
      "RX(2.0672044712460114) 0\n",
      "RX(1.3311348339721203) 1\n",
      "DECLARE ro BIT[1]\n",
      "MEASURE 0 ro[0]\n",
      "\n"
     ]
    }
   ],
   "source": [
    "circuit_values = [1, 1] \n",
    "params = [2.0672044712460114,          1.3311348339721203] \n",
    "quantum_circuit_prog = qCircuit.circuit(circuit_values, params) \n",
    "print(quantum_circuit_prog)"
   ]
  }
 ],
 "metadata": {
  "kernelspec": {
   "display_name": "Qiskit v0.34.2 (ipykernel)",
   "language": "python",
   "name": "python3"
  },
  "language_info": {
   "codemirror_mode": {
    "name": "ipython",
    "version": 3
   },
   "file_extension": ".py",
   "mimetype": "text/x-python",
   "name": "python",
   "nbconvert_exporter": "python",
   "pygments_lexer": "ipython3",
   "version": "3.8.12"
  },
  "widgets": {
   "application/vnd.jupyter.widget-state+json": {
    "state": {},
    "version_major": 2,
    "version_minor": 0
   }
  }
 },
 "nbformat": 4,
 "nbformat_minor": 5
}
