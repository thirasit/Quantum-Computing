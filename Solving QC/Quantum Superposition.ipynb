{
 "cells": [
  {
   "cell_type": "markdown",
   "id": "3c4218a0-aaec-41aa-b876-4e65da1c25cd",
   "metadata": {},
   "source": [
    "# **Quantum Superposition**"
   ]
  },
  {
   "cell_type": "code",
   "execution_count": 1,
   "id": "ffe4e9a7-8012-4298-ac75-8b0a5d7f5629",
   "metadata": {},
   "outputs": [],
   "source": [
    "import numpy as nump"
   ]
  },
  {
   "cell_type": "code",
   "execution_count": 2,
   "id": "cb59bf11-3317-47f7-9224-a184a101ae43",
   "metadata": {},
   "outputs": [],
   "source": [
    "zero_quantum_state = nump.array([[1.0],\n",
    "                       [0.0]])\n",
    "one_quantum_state = nump.array([[0.0],\n",
    "                      [1.0]])"
   ]
  },
  {
   "cell_type": "code",
   "execution_count": 3,
   "id": "a2ccb9d4-9d25-4d91-816e-8b63e001f3a0",
   "metadata": {},
   "outputs": [
    {
     "name": "stdout",
     "output_type": "stream",
     "text": [
      "superposition of [[1.]\n",
      " [0.]]  and  [[0.]\n",
      " [1.]]  is  [[0.70710678]\n",
      " [0.70710678]]\n"
     ]
    }
   ],
   "source": [
    "quantum_amp1 = 1.0 / 2**0.5\n",
    "quantum_amp2 = 1.0 / 2**0.5\n",
    "superposition_quantum_state = quantum_amp1 * zero_quantum_state + quantum_amp2 * one_quantum_state\n",
    "print(\"superposition of\", zero_quantum_state, \" and \", one_quantum_state,\" is \",superposition_quantum_state)"
   ]
  }
 ],
 "metadata": {
  "kernelspec": {
   "display_name": "Qiskit v0.34.2 (ipykernel)",
   "language": "python",
   "name": "python3"
  },
  "language_info": {
   "codemirror_mode": {
    "name": "ipython",
    "version": 3
   },
   "file_extension": ".py",
   "mimetype": "text/x-python",
   "name": "python",
   "nbconvert_exporter": "python",
   "pygments_lexer": "ipython3",
   "version": "3.8.12"
  },
  "widgets": {
   "application/vnd.jupyter.widget-state+json": {
    "state": {},
    "version_major": 2,
    "version_minor": 0
   }
  }
 },
 "nbformat": 4,
 "nbformat_minor": 5
}
