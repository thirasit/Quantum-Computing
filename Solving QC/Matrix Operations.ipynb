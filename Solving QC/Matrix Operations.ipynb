{
 "cells": [
  {
   "cell_type": "markdown",
   "id": "0f8abf41-3c5d-46ee-8a74-d2db1d9b9e92",
   "metadata": {},
   "source": [
    "# **Matrix Operations**"
   ]
  },
  {
   "cell_type": "code",
   "execution_count": 1,
   "id": "8424b1a5-fa9c-47d2-a4ce-f9573fb0cdc4",
   "metadata": {},
   "outputs": [],
   "source": [
    "import numpy"
   ]
  },
  {
   "cell_type": "code",
   "execution_count": 2,
   "id": "3ee8c5bb-1c7f-497b-8ca3-7a5a47003e71",
   "metadata": {},
   "outputs": [
    {
     "name": "stdout",
     "output_type": "stream",
     "text": [
      "Addition of  matrices  [[1 3]\n",
      " [4 6]] , [[ 7  9]\n",
      " [11 15]] is\n",
      "[[ 8 12]\n",
      " [15 21]]\n"
     ]
    }
   ],
   "source": [
    "mat1 = numpy.array([[1, 3], [4, 6]])\n",
    "mat2 = numpy.array([[7, 9], [11, 15]])\n",
    "print (\"Addition of  matrices \", mat1,\",\", mat2,\"is\")\n",
    "print (numpy.add(mat1,mat2))"
   ]
  },
  {
   "cell_type": "code",
   "execution_count": 3,
   "id": "0192bdfa-338c-44ba-8726-b0af92676815",
   "metadata": {},
   "outputs": [
    {
     "name": "stdout",
     "output_type": "stream",
     "text": [
      "Subtraction of  matrices  [[1 3]\n",
      " [4 6]] , [[ 7  9]\n",
      " [11 15]] is\n",
      "[[-6 -6]\n",
      " [-7 -9]]\n"
     ]
    }
   ],
   "source": [
    "print (\"Subtraction of  matrices \", mat1,\",\", mat2,\"is\")\n",
    "print (numpy.subtract(mat1,mat2))"
   ]
  },
  {
   "cell_type": "code",
   "execution_count": 4,
   "id": "f20e8a18-8285-4a12-b8be-98df59f8a88b",
   "metadata": {},
   "outputs": [
    {
     "name": "stdout",
     "output_type": "stream",
     "text": [
      "Product of  matrices  [[1 3]\n",
      " [4 6]] , [[ 7  9]\n",
      " [11 15]] is\n",
      "[[ 7 27]\n",
      " [44 90]]\n"
     ]
    }
   ],
   "source": [
    "print (\"Product of  matrices \", mat1,\",\", mat2,\"is\")\n",
    "print (numpy.multiply(mat1,mat2))"
   ]
  },
  {
   "cell_type": "code",
   "execution_count": 5,
   "id": "d49aba91-cd20-449d-a650-8e79dfc5a642",
   "metadata": {},
   "outputs": [
    {
     "name": "stdout",
     "output_type": "stream",
     "text": [
      "Dot Product of  matrices  [[1 3]\n",
      " [4 6]] , [[ 7  9]\n",
      " [11 15]] is\n",
      "[[ 40  54]\n",
      " [ 94 126]]\n"
     ]
    }
   ],
   "source": [
    "print (\"Dot Product of  matrices \", mat1,\",\", mat2,\"is\")\n",
    "print (numpy.dot(mat1,mat2))"
   ]
  },
  {
   "cell_type": "code",
   "execution_count": 6,
   "id": "79bdf8b7-6eb6-438f-8fe0-1bb6c4d1083a",
   "metadata": {},
   "outputs": [
    {
     "name": "stdout",
     "output_type": "stream",
     "text": [
      "Division of  matrices  [[1 3]\n",
      " [4 6]] , [[ 7  9]\n",
      " [11 15]] is\n",
      "[[0.14285714 0.33333333]\n",
      " [0.36363636 0.4       ]]\n"
     ]
    }
   ],
   "source": [
    "print (\"Division of  matrices \", mat1,\",\", mat2,\"is\")\n",
    "print (numpy.divide(mat1,mat2))"
   ]
  },
  {
   "cell_type": "code",
   "execution_count": 7,
   "id": "5a549cfc-9d57-44b0-987b-960f7f370f23",
   "metadata": {},
   "outputs": [
    {
     "name": "stdout",
     "output_type": "stream",
     "text": [
      "Transpose of  [[1 3]\n",
      " [4 6]] is\n",
      "[[1 4]\n",
      " [3 6]]\n"
     ]
    }
   ],
   "source": [
    "print (\"Transpose of \", mat1,\"is\")\n",
    "print (mat1.T)"
   ]
  }
 ],
 "metadata": {
  "kernelspec": {
   "display_name": "Qiskit v0.34.2 (ipykernel)",
   "language": "python",
   "name": "python3"
  },
  "language_info": {
   "codemirror_mode": {
    "name": "ipython",
    "version": 3
   },
   "file_extension": ".py",
   "mimetype": "text/x-python",
   "name": "python",
   "nbconvert_exporter": "python",
   "pygments_lexer": "ipython3",
   "version": "3.8.12"
  },
  "widgets": {
   "application/vnd.jupyter.widget-state+json": {
    "state": {},
    "version_major": 2,
    "version_minor": 0
   }
  }
 },
 "nbformat": 4,
 "nbformat_minor": 5
}
