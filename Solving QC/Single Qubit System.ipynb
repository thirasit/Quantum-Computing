{
 "cells": [
  {
   "cell_type": "markdown",
   "id": "b5823fec-6d45-4044-8ad0-179032b7b44f",
   "metadata": {},
   "source": [
    "# **Single Qubit System**"
   ]
  },
  {
   "cell_type": "code",
   "execution_count": 1,
   "id": "fea68948-fb88-4972-9927-d17e95151bea",
   "metadata": {},
   "outputs": [],
   "source": [
    "import numpy as nump\n",
    "import scipy as scip\n",
    "import scipy.linalg"
   ]
  },
  {
   "cell_type": "code",
   "execution_count": 2,
   "id": "83e0bb38-7fc5-4dfa-9413-b2ccacb41026",
   "metadata": {},
   "outputs": [],
   "source": [
    "Zero_state = nump.array([[1.0],\n",
    "                 [0.0]])\n",
    "One_state = nump.array([[0.0],\n",
    "                [1.0]])"
   ]
  },
  {
   "cell_type": "code",
   "execution_count": 3,
   "id": "a4bf6337-e47b-4e0d-97d8-8c347b827484",
   "metadata": {},
   "outputs": [
    {
     "name": "stdout",
     "output_type": "stream",
     "text": [
      "normalized quantum state of [[1.]\n",
      " [0.]] + [[0.]\n",
      " [1.]] is [[0.70710678]\n",
      " [0.70710678]]\n"
     ]
    }
   ],
   "source": [
    "NormalizeQuantumState = lambda quantum_state: quantum_state / scip.linalg.norm(quantum_state)\n",
    "Plus_State = NormalizeQuantumState(Zero_state + One_state)\n",
    "print(\"normalized quantum state of\",Zero_state, \"+\", One_state,\"is\", Plus_State)"
   ]
  }
 ],
 "metadata": {
  "kernelspec": {
   "display_name": "Qiskit v0.34.2 (ipykernel)",
   "language": "python",
   "name": "python3"
  },
  "language_info": {
   "codemirror_mode": {
    "name": "ipython",
    "version": 3
   },
   "file_extension": ".py",
   "mimetype": "text/x-python",
   "name": "python",
   "nbconvert_exporter": "python",
   "pygments_lexer": "ipython3",
   "version": "3.8.12"
  },
  "widgets": {
   "application/vnd.jupyter.widget-state+json": {
    "state": {},
    "version_major": 2,
    "version_minor": 0
   }
  }
 },
 "nbformat": 4,
 "nbformat_minor": 5
}
