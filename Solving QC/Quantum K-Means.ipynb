{
 "cells": [
  {
   "cell_type": "markdown",
   "id": "63b39cc6-92aa-4c65-b6a4-97af5aa57c7d",
   "metadata": {},
   "source": [
    "# **Quantum K-Means**"
   ]
  },
  {
   "cell_type": "code",
   "execution_count": 1,
   "id": "0cf6523b-0ce1-44eb-9326-d1125eb89631",
   "metadata": {},
   "outputs": [
    {
     "name": "stdout",
     "output_type": "stream",
     "text": [
      "Requirement already satisfied: qiskit-ibmq-provider in /opt/conda/lib/python3.8/site-packages (0.18.3)\n",
      "Requirement already satisfied: requests>=2.19 in /opt/conda/lib/python3.8/site-packages (from qiskit-ibmq-provider) (2.27.1)\n",
      "Requirement already satisfied: websocket-client>=1.0.1 in /opt/conda/lib/python3.8/site-packages (from qiskit-ibmq-provider) (1.3.1)\n",
      "Requirement already satisfied: numpy>=1.13 in /opt/conda/lib/python3.8/site-packages (from qiskit-ibmq-provider) (1.22.3)\n",
      "Requirement already satisfied: python-dateutil>=2.8.0 in /opt/conda/lib/python3.8/site-packages (from qiskit-ibmq-provider) (2.8.2)\n",
      "Requirement already satisfied: qiskit-terra>=0.18.0 in /opt/conda/lib/python3.8/site-packages (from qiskit-ibmq-provider) (0.19.2)\n",
      "Requirement already satisfied: urllib3>=1.21.1 in /opt/conda/lib/python3.8/site-packages (from qiskit-ibmq-provider) (1.26.8)\n",
      "Requirement already satisfied: requests-ntlm>=1.1.0 in /opt/conda/lib/python3.8/site-packages (from qiskit-ibmq-provider) (1.1.0)\n",
      "Requirement already satisfied: six>=1.5 in /opt/conda/lib/python3.8/site-packages (from python-dateutil>=2.8.0->qiskit-ibmq-provider) (1.16.0)\n",
      "Requirement already satisfied: scipy>=1.5 in /opt/conda/lib/python3.8/site-packages (from qiskit-terra>=0.18.0->qiskit-ibmq-provider) (1.8.0)\n",
      "Requirement already satisfied: tweedledum<2.0,>=1.1 in /opt/conda/lib/python3.8/site-packages (from qiskit-terra>=0.18.0->qiskit-ibmq-provider) (1.1.1)\n",
      "Requirement already satisfied: ply>=3.10 in /opt/conda/lib/python3.8/site-packages (from qiskit-terra>=0.18.0->qiskit-ibmq-provider) (3.11)\n",
      "Requirement already satisfied: dill>=0.3 in /opt/conda/lib/python3.8/site-packages (from qiskit-terra>=0.18.0->qiskit-ibmq-provider) (0.3.4)\n",
      "Requirement already satisfied: stevedore>=3.0.0 in /opt/conda/lib/python3.8/site-packages (from qiskit-terra>=0.18.0->qiskit-ibmq-provider) (3.5.0)\n",
      "Requirement already satisfied: symengine>=0.8 in /opt/conda/lib/python3.8/site-packages (from qiskit-terra>=0.18.0->qiskit-ibmq-provider) (0.9.2)\n",
      "Requirement already satisfied: python-constraint>=1.4 in /opt/conda/lib/python3.8/site-packages (from qiskit-terra>=0.18.0->qiskit-ibmq-provider) (1.4.0)\n",
      "Requirement already satisfied: psutil>=5 in /opt/conda/lib/python3.8/site-packages (from qiskit-terra>=0.18.0->qiskit-ibmq-provider) (5.9.0)\n",
      "Requirement already satisfied: sympy>=1.3 in /opt/conda/lib/python3.8/site-packages (from qiskit-terra>=0.18.0->qiskit-ibmq-provider) (1.10)\n",
      "Requirement already satisfied: retworkx>=0.10.1 in /opt/conda/lib/python3.8/site-packages (from qiskit-terra>=0.18.0->qiskit-ibmq-provider) (0.11.0)\n",
      "Requirement already satisfied: certifi>=2017.4.17 in /opt/conda/lib/python3.8/site-packages (from requests>=2.19->qiskit-ibmq-provider) (2021.10.8)\n",
      "Requirement already satisfied: charset-normalizer~=2.0.0 in /opt/conda/lib/python3.8/site-packages (from requests>=2.19->qiskit-ibmq-provider) (2.0.12)\n",
      "Requirement already satisfied: idna<4,>=2.5 in /opt/conda/lib/python3.8/site-packages (from requests>=2.19->qiskit-ibmq-provider) (3.3)\n",
      "Requirement already satisfied: ntlm-auth>=1.0.2 in /opt/conda/lib/python3.8/site-packages (from requests-ntlm>=1.1.0->qiskit-ibmq-provider) (1.5.0)\n",
      "Requirement already satisfied: cryptography>=1.3 in /opt/conda/lib/python3.8/site-packages (from requests-ntlm>=1.1.0->qiskit-ibmq-provider) (36.0.1)\n",
      "Requirement already satisfied: cffi>=1.12 in /opt/conda/lib/python3.8/site-packages (from cryptography>=1.3->requests-ntlm>=1.1.0->qiskit-ibmq-provider) (1.15.0)\n",
      "Requirement already satisfied: pycparser in /opt/conda/lib/python3.8/site-packages (from cffi>=1.12->cryptography>=1.3->requests-ntlm>=1.1.0->qiskit-ibmq-provider) (2.21)\n",
      "Requirement already satisfied: pbr!=2.1.0,>=2.0.0 in /opt/conda/lib/python3.8/site-packages (from stevedore>=3.0.0->qiskit-terra>=0.18.0->qiskit-ibmq-provider) (5.8.1)\n",
      "Requirement already satisfied: mpmath>=0.19 in /opt/conda/lib/python3.8/site-packages (from sympy>=1.3->qiskit-terra>=0.18.0->qiskit-ibmq-provider) (1.2.1)\n",
      "Note: you may need to restart the kernel to use updated packages.\n"
     ]
    }
   ],
   "source": [
    "pip install qiskit-ibmq-provider"
   ]
  },
  {
   "cell_type": "code",
   "execution_count": 2,
   "id": "f4231f42-2ff9-4843-af31-5f2dc941812e",
   "metadata": {},
   "outputs": [
    {
     "name": "stdout",
     "output_type": "stream",
     "text": [
      "Collecting matlab\n",
      "  Downloading matlab-0.1.tar.gz (538 bytes)\n",
      "Building wheels for collected packages: matlab\n",
      "  Building wheel for matlab (setup.py) ... \u001b[?25ldone\n",
      "\u001b[?25h  Created wheel for matlab: filename=matlab-0.1-py3-none-any.whl size=1180 sha256=6f3feb961dd6f5a1288d05aa85864287831ad165f88923f7cd72e85e39990ea9\n",
      "  Stored in directory: /home/jovyan/.cache/pip/wheels/9d/e3/ca/f9444a09793775674f6d6c3389b6192c72eff2503085389009\n",
      "Successfully built matlab\n",
      "Installing collected packages: matlab\n",
      "Successfully installed matlab-0.1\n",
      "Note: you may need to restart the kernel to use updated packages.\n"
     ]
    }
   ],
   "source": [
    "pip install matlab"
   ]
  },
  {
   "cell_type": "code",
   "execution_count": 3,
   "id": "2664fdc1-99f5-480a-9915-5e318f412680",
   "metadata": {},
   "outputs": [
    {
     "name": "stderr",
     "output_type": "stream",
     "text": [
      "<frozen importlib._bootstrap>:219: RuntimeWarning: scipy._lib.messagestream.MessageStream size changed, may indicate binary incompatibility. Expected 56 from C header, got 64 from PyObject\n"
     ]
    }
   ],
   "source": [
    "import matplotlib.pyplot as plot\n",
    "import pandas as pand\n",
    "from qiskit import QuantumRegister, ClassicalRegister\n",
    "from qiskit import QuantumCircuit\n",
    "from qiskit import Aer, execute\n",
    "from numpy import pi"
   ]
  },
  {
   "cell_type": "code",
   "execution_count": 4,
   "id": "cb7d7ae1-49ff-4a03-9f1f-d2d210a7bc62",
   "metadata": {},
   "outputs": [
    {
     "data": {
      "text/plain": [
       "[Text(0.5, 0, 'Feature 1'), Text(0, 0.5, 'Feature 2')]"
      ]
     },
     "execution_count": 4,
     "metadata": {},
     "output_type": "execute_result"
    },
    {
     "data": {
      "image/png": "[encoded data removed]",
      "text/plain": [
       "<Figure size 432x288 with 1 Axes>"
      ]
     },
     "metadata": {
      "needs_background": "light"
     },
     "output_type": "display_data"
    }
   ],
   "source": [
    "figure, axis = plot.subplots()\n",
    "axis.set(xlabel='Feature 1', ylabel='Feature 2')"
   ]
  },
  {
   "cell_type": "code",
   "execution_count": 6,
   "id": "82e99f50-2e7a-4deb-93e1-540d1634edab",
   "metadata": {},
   "outputs": [],
   "source": [
    "data_input = pand.read_csv('kmeans_input.csv',\n",
    "    usecols=['Feature 1', 'Feature 2', 'Class'])"
   ]
  },
  {
   "cell_type": "code",
   "execution_count": 7,
   "id": "f0056a01-3492-4c61-b88c-bfd956735045",
   "metadata": {},
   "outputs": [],
   "source": [
    "isRed = data_input['Class'] == 'Red'\n",
    "isGreen = data_input['Class'] == 'Green'\n",
    "isBlack = data_input['Class'] == 'Black'"
   ]
  },
  {
   "cell_type": "code",
   "execution_count": 8,
   "id": "278071de-b646-467a-a585-26e3d2b12776",
   "metadata": {},
   "outputs": [],
   "source": [
    "# Filter data\n",
    "redData = data_input[isRed].drop(['Class'], axis=1)\n",
    "greenData = data_input[isGreen].drop(['Class'], axis=1)\n",
    "blackData = data_input[isBlack].drop(['Class'], axis=1)"
   ]
  },
  {
   "cell_type": "code",
   "execution_count": 9,
   "id": "1487c471-f672-4dba-b8d1-37f99517d751",
   "metadata": {},
   "outputs": [],
   "source": [
    "y_p = 0.141\n",
    "x_p = -0.161"
   ]
  },
  {
   "cell_type": "code",
   "execution_count": 10,
   "id": "01bbafb3-1742-49a9-bc8e-988223dd1600",
   "metadata": {},
   "outputs": [],
   "source": [
    "xgc = sum(redData['Feature 1']) / len(redData['Feature 1'])\n",
    "xbc = sum(greenData['Feature 1']) / len(greenData['Feature 1'])\n",
    "xkc = sum(blackData['Feature 1']) / len(blackData['Feature 1'])"
   ]
  },
  {
   "cell_type": "code",
   "execution_count": 11,
   "id": "fff67233-3365-48df-808e-202cb2532f79",
   "metadata": {},
   "outputs": [],
   "source": [
    "# Finding the y-coords of the centroids\n",
    "ygc = sum(redData['Feature 2']) / len(redData['Feature 2'])\n",
    "ybc = sum(greenData['Feature 2']) / len(greenData['Feature 2'])\n",
    "ykc = sum(blackData['Feature 2']) / len(blackData['Feature 2'])"
   ]
  },
  {
   "cell_type": "code",
   "execution_count": 12,
   "id": "364ba886-0826-4c06-a7eb-04bd1d8f1aaa",
   "metadata": {},
   "outputs": [
    {
     "data": {
      "text/plain": [
       "[<matplotlib.lines.Line2D at 0x7f60218be160>]"
      ]
     },
     "execution_count": 12,
     "metadata": {},
     "output_type": "execute_result"
    },
    {
     "data": {
      "image/png": "[encoded data removed]",
      "text/plain": [
       "<Figure size 432x288 with 1 Axes>"
      ]
     },
     "metadata": {
      "needs_background": "light"
     },
     "output_type": "display_data"
    }
   ],
   "source": [
    "# Plotting the centroids\n",
    "plot.plot(xgc, ygc, 'rx')\n",
    "plot.plot(xbc, ybc, 'gx')\n",
    "plot.plot(xkc, ykc, 'kx')"
   ]
  },
  {
   "cell_type": "code",
   "execution_count": 13,
   "id": "033bf527-2418-4312-aa20-222b72af4872",
   "metadata": {},
   "outputs": [
    {
     "data": {
      "text/plain": [
       "[<matplotlib.lines.Line2D at 0x7f6021896520>]"
      ]
     },
     "execution_count": 13,
     "metadata": {},
     "output_type": "execute_result"
    },
    {
     "data": {
      "image/png": "[encoded data removed]",
      "text/plain": [
       "<Figure size 432x288 with 1 Axes>"
      ]
     },
     "metadata": {
      "needs_background": "light"
     },
     "output_type": "display_data"
    }
   ],
   "source": [
    "plot.plot(x_p, y_p, 'bo')"
   ]
  },
  {
   "cell_type": "code",
   "execution_count": 14,
   "id": "2d3df252-109f-4c69-b6a5-999216696103",
   "metadata": {},
   "outputs": [
    {
     "data": {
      "text/plain": [
       "(-1.0, 1.0, -1.0, 1.0)"
      ]
     },
     "execution_count": 14,
     "metadata": {},
     "output_type": "execute_result"
    },
    {
     "data": {
      "image/png": "[encoded data removed]",
      "text/plain": [
       "<Figure size 432x288 with 1 Axes>"
      ]
     },
     "metadata": {
      "needs_background": "light"
     },
     "output_type": "display_data"
    }
   ],
   "source": [
    "# Setting the axis ranges\n",
    "plot.axis([-1, 1, -1, 1])"
   ]
  },
  {
   "cell_type": "code",
   "execution_count": 15,
   "id": "c76fb7c1-518c-4cb9-9fcc-5ccd5749aba5",
   "metadata": {},
   "outputs": [],
   "source": [
    "plot.show()"
   ]
  },
  {
   "cell_type": "code",
   "execution_count": 16,
   "id": "3454a128-78cb-4b88-b775-e2fed839d424",
   "metadata": {},
   "outputs": [],
   "source": [
    "# Calculating theta and phi values\n",
    "phi_list = [((x + 1) * pi / 2) for x in [x_p, xgc, xbc, xkc]]\n",
    "theta_list = [((x + 1) * pi / 2) for x in [y_p, ygc, ybc, ykc]]"
   ]
  },
  {
   "cell_type": "code",
   "execution_count": 17,
   "id": "168b6edd-a892-45a5-8ace-f072b2708bd9",
   "metadata": {},
   "outputs": [],
   "source": [
    "quantumregister = QuantumRegister(3, 'quantumregister')"
   ]
  },
  {
   "cell_type": "code",
   "execution_count": 18,
   "id": "e7234233-e7e7-4ebb-a93b-08252d07a55f",
   "metadata": {},
   "outputs": [],
   "source": [
    "classicregister = ClassicalRegister(1, 'classicregister')\n",
    "quantum_circuit = QuantumCircuit(quantumregister, classicregister, name='qc')\n",
    "backend = Aer.get_backend('qasm_simulator')\n",
    "quantum_results_list = []"
   ]
  },
  {
   "cell_type": "code",
   "execution_count": 19,
   "id": "93f376c1-83db-4c1d-9e34-e3c161d334db",
   "metadata": {},
   "outputs": [
    {
     "name": "stderr",
     "output_type": "stream",
     "text": [
      "/tmp/ipykernel_110/1224122024.py:5: DeprecationWarning: The QuantumCircuit.u3 method is deprecated as of 0.16.0. It will be removed no earlier than 3 months after the release date. You should use QuantumCircuit.u instead, which acts identically. Alternatively, you can decompose u3 in terms of QuantumCircuit.p and QuantumCircuit.sx: u3(ϴ,φ,λ) = p(φ+π) sx p(ϴ+π) sx p(λ) (2 pulses on hardware).\n",
      "  quantum_circuit.u3(theta_list[0], phi_list[0], 0, quantumregister[0])\n",
      "/tmp/ipykernel_110/1224122024.py:6: DeprecationWarning: The QuantumCircuit.u3 method is deprecated as of 0.16.0. It will be removed no earlier than 3 months after the release date. You should use QuantumCircuit.u instead, which acts identically. Alternatively, you can decompose u3 in terms of QuantumCircuit.p and QuantumCircuit.sx: u3(ϴ,φ,λ) = p(φ+π) sx p(ϴ+π) sx p(λ) (2 pulses on hardware).\n",
      "  quantum_circuit.u3(theta_list[i], phi_list[i], 0, quantumregister[1])\n"
     ]
    },
    {
     "name": "stdout",
     "output_type": "stream",
     "text": [
      "[79, 64, 115]\n"
     ]
    },
    {
     "name": "stderr",
     "output_type": "stream",
     "text": [
      "/tmp/ipykernel_110/1224122024.py:5: DeprecationWarning: The QuantumCircuit.u3 method is deprecated as of 0.16.0. It will be removed no earlier than 3 months after the release date. You should use QuantumCircuit.u instead, which acts identically. Alternatively, you can decompose u3 in terms of QuantumCircuit.p and QuantumCircuit.sx: u3(ϴ,φ,λ) = p(φ+π) sx p(ϴ+π) sx p(λ) (2 pulses on hardware).\n",
      "  quantum_circuit.u3(theta_list[0], phi_list[0], 0, quantumregister[0])\n",
      "/tmp/ipykernel_110/1224122024.py:6: DeprecationWarning: The QuantumCircuit.u3 method is deprecated as of 0.16.0. It will be removed no earlier than 3 months after the release date. You should use QuantumCircuit.u instead, which acts identically. Alternatively, you can decompose u3 in terms of QuantumCircuit.p and QuantumCircuit.sx: u3(ϴ,φ,λ) = p(φ+π) sx p(ϴ+π) sx p(λ) (2 pulses on hardware).\n",
      "  quantum_circuit.u3(theta_list[i], phi_list[i], 0, quantumregister[1])\n"
     ]
    }
   ],
   "source": [
    "for i in range(1, 4):\n",
    "    quantum_circuit.h(quantumregister[2])\n",
    "\n",
    "   \n",
    "    quantum_circuit.u3(theta_list[0], phi_list[0], 0, quantumregister[0])           \n",
    "    quantum_circuit.u3(theta_list[i], phi_list[i], 0, quantumregister[1]) \n",
    "\n",
    "    quantum_circuit.cswap(quantumregister[2], quantumregister[0], quantumregister[1])\n",
    "    quantum_circuit.h(quantumregister[2])\n",
    "\n",
    "    quantum_circuit.measure(quantumregister[2], classicregister[0])\n",
    "\n",
    "    quantum_circuit.reset(quantumregister)\n",
    "\n",
    "    job = execute(quantum_circuit, backend=backend, shots=1024)\n",
    "    result = job.result().get_counts(quantum_circuit)\n",
    "    quantum_results_list.append(result['1'])\n",
    "\n",
    "print(quantum_results_list)"
   ]
  },
  {
   "cell_type": "code",
   "execution_count": 20,
   "id": "43448e44-d323-49bd-a39e-ff468985aeb4",
   "metadata": {},
   "outputs": [],
   "source": [
    "class_list = ['Red', 'Green', 'Black']\n",
    "quantum_p_class = class_list[quantum_results_list.index(min(quantum_results_list))]\n",
    "distances_list = [((x_p - i[0])**2 + (y_p - i[1])**2)**0.5 for i in [(xgc, ygc), (xbc, ybc), (xkc, ykc)]]\n",
    "classical_p_class = class_list[distances_list.index(min(distances_list))]"
   ]
  },
  {
   "cell_type": "code",
   "execution_count": 21,
   "id": "ca31ef0a-8144-4e2a-987a-7fdf8bb7507b",
   "metadata": {},
   "outputs": [
    {
     "name": "stdout",
     "output_type": "stream",
     "text": [
      "using quantumdistance algorithm,\n",
      " the new data point is related to the Green class.\n",
      "\n",
      "Euclidean distances are listed:  [0.520285324797846, 0.4905204028376394, 0.7014755294377704] \n",
      "\n",
      "based on euclidean distance calculations,\n",
      " the new data point is related to the Green class.\n"
     ]
    }
   ],
   "source": [
    "print(\"\"\"using quantumdistance algorithm,\n",
    " the new data point is related to the\"\"\", quantum_p_class, \n",
    " 'class.\\n')\n",
    "print('Euclidean distances are listed: ', distances_list, '\\n')\n",
    "print(\"\"\"based on euclidean distance calculations,\n",
    " the new data point is related to the\"\"\", classical_p_class, \n",
    " 'class.')"
   ]
  },
  {
   "cell_type": "code",
   "execution_count": 22,
   "id": "27144ce6-f076-4a71-8ac4-c1819f3f5f6c",
   "metadata": {},
   "outputs": [
    {
     "data": {
      "image/png": "[encoded data removed]",
      "text/plain": [
       "<Figure size 432x288 with 1 Axes>"
      ]
     },
     "metadata": {
      "needs_background": "light"
     },
     "output_type": "display_data"
    },
    {
     "name": "stdout",
     "output_type": "stream",
     "text": [
      "[69, 83, 126]\n",
      "using quantumdistance algorithm,\n",
      " the new data point is related to the Red class.\n",
      "\n",
      "Euclidean distances are listed:  [0.520285324797846, 0.4905204028376394, 0.7014755294377704] \n",
      "\n",
      "based on euclidean distance calculations,\n",
      " the new data point is related to the Green class.\n"
     ]
    },
    {
     "name": "stderr",
     "output_type": "stream",
     "text": [
      "/tmp/ipykernel_110/1288781009.py:66: DeprecationWarning: The QuantumCircuit.u3 method is deprecated as of 0.16.0. It will be removed no earlier than 3 months after the release date. You should use QuantumCircuit.u instead, which acts identically. Alternatively, you can decompose u3 in terms of QuantumCircuit.p and QuantumCircuit.sx: u3(ϴ,φ,λ) = p(φ+π) sx p(ϴ+π) sx p(λ) (2 pulses on hardware).\n",
      "  quantum_circuit.u3(theta_list[0], phi_list[0], 0, quantumregister[0])\n",
      "/tmp/ipykernel_110/1288781009.py:67: DeprecationWarning: The QuantumCircuit.u3 method is deprecated as of 0.16.0. It will be removed no earlier than 3 months after the release date. You should use QuantumCircuit.u instead, which acts identically. Alternatively, you can decompose u3 in terms of QuantumCircuit.p and QuantumCircuit.sx: u3(ϴ,φ,λ) = p(φ+π) sx p(ϴ+π) sx p(λ) (2 pulses on hardware).\n",
      "  quantum_circuit.u3(theta_list[i], phi_list[i], 0, quantumregister[1])\n"
     ]
    }
   ],
   "source": [
    "figure, axis = plot.subplots()\n",
    "axis.set(xlabel='Feature 1', ylabel='Feature 2')\n",
    "\n",
    "\n",
    "data_input = pand.read_csv('kmeans_input.csv',\n",
    "    usecols=['Feature 1', 'Feature 2', 'Class'])\n",
    "\n",
    "\n",
    "isRed = data_input['Class'] == 'Red'\n",
    "isGreen = data_input['Class'] == 'Green'\n",
    "isBlack = data_input['Class'] == 'Black'\n",
    "\n",
    "# Filter data\n",
    "redData = data_input[isRed].drop(['Class'], axis=1)\n",
    "greenData = data_input[isGreen].drop(['Class'], axis=1)\n",
    "blackData = data_input[isBlack].drop(['Class'], axis=1)\n",
    "\n",
    "\n",
    "y_p = 0.141\n",
    "x_p = -0.161\n",
    "\n",
    "xgc = sum(redData['Feature 1']) / len(redData['Feature 1'])\n",
    "xbc = sum(greenData['Feature 1']) / len(greenData['Feature 1'])\n",
    "xkc = sum(blackData['Feature 1']) / len(blackData['Feature 1'])\n",
    "\n",
    "# Finding the y-coords of the centroids\n",
    "ygc = sum(redData['Feature 2']) / len(redData['Feature 2'])\n",
    "ybc = sum(greenData['Feature 2']) / len(greenData['Feature 2'])\n",
    "ykc = sum(blackData['Feature 2']) / len(blackData['Feature 2'])\n",
    "\n",
    "# Plotting the centroids\n",
    "plot.plot(xgc, ygc, 'rx')\n",
    "plot.plot(xbc, ybc, 'gx')\n",
    "plot.plot(xkc, ykc, 'kx')\n",
    "\n",
    "\n",
    "plot.plot(x_p, y_p, 'bo')\n",
    "\n",
    "# Setting the axis ranges\n",
    "plot.axis([-1, 1, -1, 1])\n",
    "\n",
    "plot.show()\n",
    "\n",
    "# Calculating theta and phi values\n",
    "phi_list = [((x + 1) * pi / 2) for x in [x_p, xgc, xbc, xkc]]\n",
    "theta_list = [((x + 1) * pi / 2) for x in [y_p, ygc, ybc, ykc]]\n",
    "\n",
    "quantumregister = QuantumRegister(3, 'quantumregister')\n",
    "\n",
    "\n",
    "classicregister = ClassicalRegister(1, 'classicregister')\n",
    "\n",
    "quantum_circuit = QuantumCircuit(quantumregister, classicregister, name='qc')\n",
    "\n",
    "\n",
    "backend = Aer.get_backend('qasm_simulator')\n",
    "\n",
    "\n",
    "quantum_results_list = []\n",
    "\n",
    "\n",
    "for i in range(1, 4):\n",
    "    quantum_circuit.h(quantumregister[2])\n",
    "\n",
    "   \n",
    "    quantum_circuit.u3(theta_list[0], phi_list[0], 0, quantumregister[0])           \n",
    "    quantum_circuit.u3(theta_list[i], phi_list[i], 0, quantumregister[1]) \n",
    "\n",
    "    quantum_circuit.cswap(quantumregister[2], quantumregister[0], quantumregister[1])\n",
    "    quantum_circuit.h(quantumregister[2])\n",
    "\n",
    "    quantum_circuit.measure(quantumregister[2], classicregister[0])\n",
    "\n",
    "    quantum_circuit.reset(quantumregister)\n",
    "\n",
    "    job = execute(quantum_circuit, backend=backend, shots=1024)\n",
    "    result = job.result().get_counts(quantum_circuit)\n",
    "    quantum_results_list.append(result['1'])\n",
    "\n",
    "print(quantum_results_list)\n",
    "\n",
    "\n",
    "\n",
    "class_list = ['Red', 'Green', 'Black']\n",
    "\n",
    "\n",
    "quantum_p_class = class_list[quantum_results_list.index(min(quantum_results_list))]\n",
    "\n",
    "\n",
    "distances_list = [((x_p - i[0])**2 + (y_p - i[1])**2)**0.5 for i in [(xgc, ygc), (xbc, ybc), (xkc, ykc)]]\n",
    "classical_p_class = class_list[distances_list.index(min(distances_list))]\n",
    "\n",
    "print(\"\"\"using quantumdistance algorithm,\n",
    " the new data point is related to the\"\"\", quantum_p_class, \n",
    " 'class.\\n')\n",
    "print('Euclidean distances are listed: ', distances_list, '\\n')\n",
    "print(\"\"\"based on euclidean distance calculations,\n",
    " the new data point is related to the\"\"\", classical_p_class, \n",
    " 'class.')"
   ]
  }
 ],
 "metadata": {
  "kernelspec": {
   "display_name": "Qiskit v0.34.2 (ipykernel)",
   "language": "python",
   "name": "python3"
  },
  "language_info": {
   "codemirror_mode": {
    "name": "ipython",
    "version": 3
   },
   "file_extension": ".py",
   "mimetype": "text/x-python",
   "name": "python",
   "nbconvert_exporter": "python",
   "pygments_lexer": "ipython3",
   "version": "3.8.12"
  },
  "widgets": {
   "application/vnd.jupyter.widget-state+json": {
    "state": {},
    "version_major": 2,
    "version_minor": 0
   }
  }
 },
 "nbformat": 4,
 "nbformat_minor": 5
}
