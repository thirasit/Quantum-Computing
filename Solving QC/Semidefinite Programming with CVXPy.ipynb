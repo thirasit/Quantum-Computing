{
 "cells": [
  {
   "cell_type": "markdown",
   "id": "f5356d74-5cea-486d-bc1f-cd1ed2f2ad89",
   "metadata": {},
   "source": [
    "# **Semidefinite Programming with CVXPy**"
   ]
  },
  {
   "cell_type": "code",
   "execution_count": 1,
   "id": "40236920-c838-4fef-a564-3275b1b74b33",
   "metadata": {},
   "outputs": [
    {
     "name": "stderr",
     "output_type": "stream",
     "text": [
      "<frozen importlib._bootstrap>:219: RuntimeWarning: scipy._lib.messagestream.MessageStream size changed, may indicate binary incompatibility. Expected 56 from C header, got 64 from PyObject\n"
     ]
    }
   ],
   "source": [
    "import cvxpy as cvxp\n",
    "import numpy as nump"
   ]
  },
  {
   "cell_type": "code",
   "execution_count": 2,
   "id": "ea647543-2893-4712-8a16-b72daa2127d2",
   "metadata": {},
   "outputs": [],
   "source": [
    "n = 3\n",
    "p = 3\n",
    "nump.random.seed(1)\n",
    "CMat = nump.random.randn(n, n)\n",
    "AMat = []\n",
    "bMat = []\n",
    "for i in range(p):\n",
    "    AMat.append(nump.random.randn(n, n))\n",
    "    bMat.append(nump.random.randn())"
   ]
  },
  {
   "cell_type": "code",
   "execution_count": 3,
   "id": "c05c9b9a-5ca7-46e1-8f45-9b191fd3ce61",
   "metadata": {},
   "outputs": [],
   "source": [
    "XMat = cvxp.Variable((n,n), symmetric=True)"
   ]
  },
  {
   "cell_type": "code",
   "execution_count": 4,
   "id": "8ef5e6ee-b765-4612-8c7b-903af9008be2",
   "metadata": {},
   "outputs": [
    {
     "data": {
      "text/plain": [
       "2.654345662554787"
      ]
     },
     "execution_count": 4,
     "metadata": {},
     "output_type": "execute_result"
    }
   ],
   "source": [
    "constraints = [XMat >> 0]\n",
    "constraints += [\n",
    "    cvxp.trace(AMat[i]@XMat) == bMat[i] for i in range(p)\n",
    "]\n",
    "problem = cvxp.Problem(cvxp.Minimize(cvxp.trace(CMat@XMat)),\n",
    "                  constraints)\n",
    "problem.solve()"
   ]
  },
  {
   "cell_type": "code",
   "execution_count": 5,
   "id": "55fefae7-9565-4cfd-afd4-9c2224a8dbaa",
   "metadata": {},
   "outputs": [
    {
     "name": "stdout",
     "output_type": "stream",
     "text": [
      "The optimal value of the problem is 2.654345662554787\n",
      "A solution X is\n",
      "[[ 1.6080543  -0.59770159 -0.69575807]\n",
      " [-0.59770159  0.22228515  0.24689083]\n",
      " [-0.69575807  0.24689083  1.39679094]]\n"
     ]
    }
   ],
   "source": [
    "print(\"The optimal value of the problem is\", problem.value)\n",
    "print(\"A solution X is\")\n",
    "print(XMat.value)"
   ]
  }
 ],
 "metadata": {
  "kernelspec": {
   "display_name": "Qiskit v0.34.2 (ipykernel)",
   "language": "python",
   "name": "python3"
  },
  "language_info": {
   "codemirror_mode": {
    "name": "ipython",
    "version": 3
   },
   "file_extension": ".py",
   "mimetype": "text/x-python",
   "name": "python",
   "nbconvert_exporter": "python",
   "pygments_lexer": "ipython3",
   "version": "3.8.12"
  },
  "widgets": {
   "application/vnd.jupyter.widget-state+json": {
    "state": {},
    "version_major": 2,
    "version_minor": 0
   }
  }
 },
 "nbformat": 4,
 "nbformat_minor": 5
}
