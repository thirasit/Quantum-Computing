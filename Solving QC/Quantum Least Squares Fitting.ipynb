{
 "cells": [
  {
   "cell_type": "markdown",
   "id": "8c87a728-d37f-4b32-87fb-0e421b6ba82b",
   "metadata": {},
   "source": [
    "# **Quantum Least Squares Fitting**"
   ]
  },
  {
   "cell_type": "code",
   "execution_count": 1,
   "id": "15cbcbc6-8313-4303-9210-b6d175a33e4b",
   "metadata": {},
   "outputs": [],
   "source": [
    "import numpy as nump\n",
    "from scipy import linalg as lina\n",
    "from scipy.linalg import lstsq"
   ]
  },
  {
   "cell_type": "code",
   "execution_count": 2,
   "id": "902cb651-ae60-4265-ae67-485037b8c421",
   "metadata": {},
   "outputs": [],
   "source": [
    "def get_least_squares_fit(data, basis_matrix, weights=None, PSD=False, trace=None):\n",
    "   \n",
    "    c_mat = basis_matrix\n",
    "    d_mat = nump.array(data)\n",
    "\n",
    "\n",
    "    if weights is not None:\n",
    "        w = nump.array(weights)\n",
    "        c_mat = w[:, None] * c_mat\n",
    "        d_mat = w * d_mat\n",
    "\n",
    "    rho_fit_mat, _, _, _ = lstsq(c_mat.T, d_mat)\n",
    "    \n",
    "    print(rho_fit_mat)\n",
    "\n",
    "    size = len(rho_fit_mat)\n",
    "    dim = int(nump.sqrt(size))\n",
    "    if dim * dim != size:\n",
    "        raise ValueError(\"fitted vector needs to be a sqaure matrix\")\n",
    "    rho_fit_mat = rho_fit_mat.reshape(dim, dim, order='F')\n",
    "\n",
    "    if PSD is True:\n",
    "        rho_fit_mat = convert_positive_semidefinite_matrix#(rho_fit)\n",
    "\n",
    "    if trace is not None:\n",
    "        rho_fit_mat *= trace / nump.trace(rho_fit_mat)\n",
    "    return rho_fit_mat"
   ]
  },
  {
   "cell_type": "code",
   "execution_count": 3,
   "id": "dc60e19c-7c07-4bce-b0c0-6a1c66496dcb",
   "metadata": {},
   "outputs": [],
   "source": [
    "def convert_positive_semidefinite_matrix(mat, epsilon=0):\n",
    "   \n",
    "\n",
    "    if epsilon < 0:\n",
    "        raise ValueError('epsilon nees to be positive ')\n",
    "\n",
    "   \n",
    "    dim = len(mat)\n",
    "    v, w = lina.eigh(mat)\n",
    "    for j in range(dim):\n",
    "        if v[j] < epsilon:\n",
    "            tmp = v[j]\n",
    "            v[j] = 0.\n",
    "            x = 0.\n",
    "            for k in range(j + 1, dim):\n",
    "                x += tmp / (dim - (j + 1))\n",
    "                v[k] = v[k] + tmp / (dim - (j + 1))\n",
    "\n",
    "    matrix_psd = nump.zeros([dim, dim], dtype=complex)\n",
    "    for j in range(dim):\n",
    "        matrix_psd += v[j] * nump.outer(w[:, j], nump.conj(w[:, j]))\n",
    "\n",
    "    return matrix_psd"
   ]
  },
  {
   "cell_type": "code",
   "execution_count": 4,
   "id": "46968fb5-231d-4982-8593-795c41d4126f",
   "metadata": {},
   "outputs": [],
   "source": [
    "data = [12, 21, 23.5, 24.5, 25, 33, 23, 15.5, 28,19]\n",
    "u_matrix = nump.arange(0, 10)"
   ]
  },
  {
   "cell_type": "code",
   "execution_count": 5,
   "id": "9c488c09-5b4c-4eab-9d73-3fcd89c42cf9",
   "metadata": {},
   "outputs": [],
   "source": [
    "basis_matrix = nump.array([u_matrix, nump.ones(10)])"
   ]
  },
  {
   "cell_type": "code",
   "execution_count": 6,
   "id": "ab0d84db-1b89-4bbd-ae3b-2be105936efd",
   "metadata": {},
   "outputs": [
    {
     "name": "stdout",
     "output_type": "stream",
     "text": [
      "[ 0.45757576 20.39090909]\n",
      "Traceback \u001b[1;36m(most recent call last)\u001b[0m:\n",
      "  Input \u001b[0;32mIn [6]\u001b[0m in \u001b[0;35m<module>\u001b[0m\n",
      "    rho_fit_val = get_least_squares_fit(data,basis_matrix)\n",
      "\u001b[1;36m  Input \u001b[1;32mIn [2]\u001b[1;36m in \u001b[1;35mget_least_squares_fit\u001b[1;36m\u001b[0m\n",
      "\u001b[1;33m    raise ValueError(\"fitted vector needs to be a sqaure matrix\")\u001b[0m\n",
      "\u001b[1;31mValueError\u001b[0m\u001b[1;31m:\u001b[0m fitted vector needs to be a sqaure matrix\n",
      "\n",
      "Use %tb to get the full traceback.\n"
     ]
    },
    {
     "data": {
      "text/html": [
       "\n",
       "<style>\n",
       ".button {\n",
       "  border: none;\n",
       "  color: white;\n",
       "  padding: 4px 8px;\n",
       "  text-align: center;\n",
       "  text-decoration: none;\n",
       "  display: inline-block;\n",
       "  font-size: 12px;\n",
       "  margin: 4px 2px;\n",
       "  transition-duration: 0.2s;\n",
       "  cursor: pointer;\n",
       "}\n",
       ".iqx-button {\n",
       "  background-color: #0f62fe; \n",
       "  color: white; \n",
       "}\n",
       ".iqx-button:hover {\n",
       "  background-color: #0043ce;\n",
       "  color: white;\n",
       "}\n",
       "</style>\n",
       "<a href=\"https://stackoverflow.com/search?q=ValueError: fitted vector needs to be a sqaure matrix\" target='_blank'><button class='button iqx-button'>Search for solution online</button></a>\n"
      ],
      "text/plain": [
       "<IPython.core.display.HTML object>"
      ]
     },
     "metadata": {},
     "output_type": "display_data"
    }
   ],
   "source": [
    "rho_fit_val = get_least_squares_fit(data,basis_matrix)"
   ]
  }
 ],
 "metadata": {
  "kernelspec": {
   "display_name": "Qiskit v0.34.2 (ipykernel)",
   "language": "python",
   "name": "python3"
  },
  "language_info": {
   "codemirror_mode": {
    "name": "ipython",
    "version": 3
   },
   "file_extension": ".py",
   "mimetype": "text/x-python",
   "name": "python",
   "nbconvert_exporter": "python",
   "pygments_lexer": "ipython3",
   "version": "3.8.12"
  },
  "widgets": {
   "application/vnd.jupyter.widget-state+json": {
    "state": {},
    "version_major": 2,
    "version_minor": 0
   }
  }
 },
 "nbformat": 4,
 "nbformat_minor": 5
}
