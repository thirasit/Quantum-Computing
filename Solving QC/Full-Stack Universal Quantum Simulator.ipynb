{
 "cells": [
  {
   "cell_type": "markdown",
   "id": "d57c5fc2-e881-4cc7-90b2-c80c2b5595e8",
   "metadata": {},
   "source": [
    "# **Full-Stack Universal Quantum Simulator**"
   ]
  },
  {
   "cell_type": "code",
   "execution_count": 1,
   "id": "0bf892fb-60b5-4977-8484-1604a02d3631",
   "metadata": {},
   "outputs": [
    {
     "name": "stderr",
     "output_type": "stream",
     "text": [
      "<frozen importlib._bootstrap>:219: RuntimeWarning: scipy._lib.messagestream.MessageStream size changed, may indicate binary incompatibility. Expected 56 from C header, got 64 from PyObject\n"
     ]
    }
   ],
   "source": [
    "import cirq\n",
    "import random"
   ]
  },
  {
   "cell_type": "code",
   "execution_count": 2,
   "id": "a958a70e-32d2-448a-b0c1-5f9efb24a434",
   "metadata": {},
   "outputs": [],
   "source": [
    "def rand2d(rows, cols):\n",
    "    return [[random.choice([+1, -1]) for _ in range(cols)] for _ in range(rows)]"
   ]
  },
  {
   "cell_type": "code",
   "execution_count": 3,
   "id": "555e3956-bf0f-47e8-ab5f-d88e13b9e2b1",
   "metadata": {},
   "outputs": [],
   "source": [
    "def random_instance(length):\n",
    "    h = rand2d(length, length)\n",
    "    jr = rand2d(length - 1, length)\n",
    "    jc = rand2d(length, length - 1)\n",
    "    return (h, jr, jc)"
   ]
  },
  {
   "cell_type": "code",
   "execution_count": 4,
   "id": "7e2996d4-ef53-4964-9221-0a1c85c32de9",
   "metadata": {},
   "outputs": [],
   "source": [
    "def one_step(h, jr, jc, x_half_turns, h_half_turns, j_half_turns):\n",
    "    length = len(h)\n",
    "    yield rot_x_layer(length, x_half_turns)\n",
    "    yield rot_z_layer(h, h_half_turns)\n",
    "    yield rot_11_layer(jr, jc, j_half_turns)"
   ]
  },
  {
   "cell_type": "code",
   "execution_count": 5,
   "id": "ea1dce0e-8152-4042-8b0a-b0b966fbb5a2",
   "metadata": {},
   "outputs": [],
   "source": [
    "def rot_x_layer(length, half_turns):\n",
    "    rot = cirq.XPowGate(exponent=half_turns)\n",
    "    for i in range(length):\n",
    "        for j in range(length):\n",
    "            yield rot(cirq.GridQubit(i, j))"
   ]
  },
  {
   "cell_type": "code",
   "execution_count": 6,
   "id": "d1354a84-70cc-4456-9715-4c805f57c928",
   "metadata": {},
   "outputs": [],
   "source": [
    "def rot_z_layer(h, half_turns):\n",
    "    gate = cirq.ZPowGate(exponent=half_turns)\n",
    "    for i, h_row in enumerate(h):\n",
    "        for j, h_ij in enumerate(h_row):\n",
    "            if h_ij == 1:\n",
    "                yield gate(cirq.GridQubit(i, j)) "
   ]
  },
  {
   "cell_type": "code",
   "execution_count": 8,
   "id": "6c71c7bf-2312-4699-bc7e-2bd19859c182",
   "metadata": {},
   "outputs": [],
   "source": [
    "def rot_11_layer(jr, jc, half_turns):\n",
    "    gate = cirq.CZPowGate(exponent=half_turns)    \n",
    "    for i, jr_row in enumerate(jr):\n",
    "        for j, jr_ij in enumerate(jr_row):\n",
    "            if jr_ij == -1:\n",
    "                yield cirq.X(cirq.GridQubit(i, j))\n",
    "                yield cirq.X(cirq.GridQubit(i + 1, j))\n",
    "            yield gate(cirq.GridQubit(i, j),\n",
    "                       cirq.GridQubit(i + 1, j))\n",
    "            if jr_ij == -1:\n",
    "                yield cirq.X(cirq.GridQubit(i, j))\n",
    "                yield cirq.X(cirq.GridQubit(i + 1, j))\n",
    "\n",
    "    for i, jc_row in enumerate(jc):\n",
    "        for j, jc_ij in enumerate(jc_row):\n",
    "            if jc_ij == -1:\n",
    "                yield cirq.X(cirq.GridQubit(i, j))\n",
    "                yield cirq.X(cirq.GridQubit(i, j + 1))\n",
    "            yield gate(cirq.GridQubit(i, j),\n",
    "                       cirq.GridQubit(i, j + 1))\n",
    "            if jc_ij == -1:\n",
    "                yield cirq.X(cirq.GridQubit(i, j))\n",
    "                yield cirq.X(cirq.GridQubit(i, j + 1)) "
   ]
  },
  {
   "cell_type": "code",
   "execution_count": 9,
   "id": "aefa01c6-8592-4a65-b81a-7c9b72c2a0c6",
   "metadata": {},
   "outputs": [
    {
     "name": "stdout",
     "output_type": "stream",
     "text": [
      "Counter({0: 79, 16: 5, 8: 4, 4: 3, 64: 3, 32: 2, 320: 1, 18: 1, 128: 1, 256: 1})\n"
     ]
    }
   ],
   "source": [
    "h, jr, jc = random_instance(3)\n",
    "length = 3\n",
    "qubits = [cirq.GridQubit(i, j) for i in range(length) for j in range(length)]\n",
    "simulator = cirq.Simulator()\n",
    "circuit = cirq.Circuit()    \n",
    "circuit.append(one_step(h, jr, jc, 0.1, 0.2, 0.3))\n",
    "circuit.append(cirq.measure(*qubits, key='x'))\n",
    "results = simulator.run(circuit, repetitions=100)\n",
    "print(results.histogram(key='x'))"
   ]
  }
 ],
 "metadata": {
  "kernelspec": {
   "display_name": "Qiskit v0.34.2 (ipykernel)",
   "language": "python",
   "name": "python3"
  },
  "language_info": {
   "codemirror_mode": {
    "name": "ipython",
    "version": 3
   },
   "file_extension": ".py",
   "mimetype": "text/x-python",
   "name": "python",
   "nbconvert_exporter": "python",
   "pygments_lexer": "ipython3",
   "version": "3.8.12"
  },
  "widgets": {
   "application/vnd.jupyter.widget-state+json": {
    "state": {},
    "version_major": 2,
    "version_minor": 0
   }
  }
 },
 "nbformat": 4,
 "nbformat_minor": 5
}
