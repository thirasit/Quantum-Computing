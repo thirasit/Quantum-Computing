{
 "cells": [
  {
   "cell_type": "markdown",
   "id": "707c7d52-0784-42d7-825a-3384a58a74de",
   "metadata": {},
   "source": [
    "# **Kronecker Transformation**"
   ]
  },
  {
   "cell_type": "code",
   "execution_count": 1,
   "id": "70afe05e-6bc7-4fd7-b6ee-0b589d642dce",
   "metadata": {},
   "outputs": [],
   "source": [
    "import numpy as nump"
   ]
  },
  {
   "cell_type": "code",
   "execution_count": 2,
   "id": "6eda9481-b85d-4d60-a599-f15953566d76",
   "metadata": {},
   "outputs": [],
   "source": [
    "def multi_quantum_state(*args):\n",
    "    ret = nump.array([[1.0]])\n",
    "    for q in args:\n",
    "        ret = nump.kron(ret, q)\n",
    "    return ret"
   ]
  },
  {
   "cell_type": "code",
   "execution_count": 3,
   "id": "e67a527b-853d-4bc9-985c-7b857afa7324",
   "metadata": {},
   "outputs": [],
   "source": [
    "zero_quantum_state = nump.array([[1.0],\n",
    "                       [0.0]])\n",
    "one_quantum_state = nump.array([[0.0],\n",
    "                      [1.0]])"
   ]
  },
  {
   "cell_type": "code",
   "execution_count": 4,
   "id": "c78b2252-dadc-4b5a-b220-400099be95d9",
   "metadata": {},
   "outputs": [
    {
     "name": "stdout",
     "output_type": "stream",
     "text": [
      "three  quantum states -kronecker [[0.]\n",
      " [0.]\n",
      " [0.]\n",
      " [1.]\n",
      " [0.]\n",
      " [0.]\n",
      " [0.]\n",
      " [0.]]\n"
     ]
    }
   ],
   "source": [
    "three_quantum_states = nump.kron(nump.kron(zero_quantum_state, one_quantum_state), one_quantum_state)\n",
    "print(\"three  quantum states -kronecker\",three_quantum_states)"
   ]
  }
 ],
 "metadata": {
  "kernelspec": {
   "display_name": "Qiskit v0.34.2 (ipykernel)",
   "language": "python",
   "name": "python3"
  },
  "language_info": {
   "codemirror_mode": {
    "name": "ipython",
    "version": 3
   },
   "file_extension": ".py",
   "mimetype": "text/x-python",
   "name": "python",
   "nbconvert_exporter": "python",
   "pygments_lexer": "ipython3",
   "version": "3.8.12"
  },
  "widgets": {
   "application/vnd.jupyter.widget-state+json": {
    "state": {},
    "version_major": 2,
    "version_minor": 0
   }
  }
 },
 "nbformat": 4,
 "nbformat_minor": 5
}
