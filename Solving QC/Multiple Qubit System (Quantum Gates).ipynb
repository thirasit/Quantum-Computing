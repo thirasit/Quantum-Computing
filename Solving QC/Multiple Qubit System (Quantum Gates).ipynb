{
 "cells": [
  {
   "cell_type": "markdown",
   "id": "982de58d-40e3-4948-95a7-fb962c5fbfb7",
   "metadata": {},
   "source": [
    "# **Multiple Qubit System (Quantum Gates)**"
   ]
  },
  {
   "cell_type": "code",
   "execution_count": 1,
   "id": "11cd90f0-fa46-43e3-944c-fd20f7d08200",
   "metadata": {},
   "outputs": [],
   "source": [
    "import math\n",
    "import random"
   ]
  },
  {
   "cell_type": "code",
   "execution_count": 2,
   "id": "33be9939-c52a-4551-a3ae-4a0c46e4f62b",
   "metadata": {},
   "outputs": [],
   "source": [
    "def ApplyCNOTQuantumGate(zerozero,zeroone,onezero,oneone):\n",
    "    onezero, oneone = oneone, onezero\n",
    "    return GetQuantumbits(zerozero,zeroone,onezero,oneone)"
   ]
  },
  {
   "cell_type": "code",
   "execution_count": 3,
   "id": "d68bcb09-6690-4c79-a850-7b380a91c574",
   "metadata": {},
   "outputs": [],
   "source": [
    "def ApplyHQuantumGate(zerozero,zeroone,onezero,oneone):\n",
    "    a = zerozero\n",
    "    b = zeroone\n",
    "    c = onezero\n",
    "    d = oneone\n",
    "\n",
    "    zerozero = a + c\n",
    "    zeroone  = b + d\n",
    "    onezero  = a - c\n",
    "    oneone   = b - d\n",
    "\n",
    "    normalize()\n",
    "\n",
    "    return GetQuantumbits(zerozero,zeroone,onezero,oneone)"
   ]
  },
  {
   "cell_type": "code",
   "execution_count": 4,
   "id": "eea24133-95b6-4c2d-abd4-91419a838003",
   "metadata": {},
   "outputs": [],
   "source": [
    "def ApplyXQuantumGate(zerozero,zeroone,onezero,oneone):\n",
    "    a = zerozero\n",
    "    b = zeroone\n",
    "    c = onezero\n",
    "    d = oneone\n",
    "\n",
    "    zerozero = c\n",
    "    zeroone  = d\n",
    "    onezero  = a\n",
    "    oneone   = b\n",
    "\n",
    "    return GetQuantumbits(zerozero,zeroone,onezero,oneone)"
   ]
  },
  {
   "cell_type": "code",
   "execution_count": 5,
   "id": "3e73c646-071e-4387-9012-6b8895356b0f",
   "metadata": {},
   "outputs": [],
   "source": [
    "def ApplyZQuantumGate(zerozero,zeroone,onezero,oneone):\n",
    "    onezero *= -1\n",
    "    oneone  *= -1\n",
    "\n",
    "    return GetQuantumbits(zerozero,zeroone,onezero,oneone)"
   ]
  },
  {
   "cell_type": "code",
   "execution_count": 6,
   "id": "838531f8-a4dc-40d4-a8c7-3f5bc22793f4",
   "metadata": {},
   "outputs": [],
   "source": [
    "def ApplyNormalization(zerozero,zeroone,onezero,oneone):\n",
    "    norm = (abs(zerozero) ** 2 + abs(zeroone) ** 2 +\n",
    "            abs(onezero) ** 2 + abs(oneone) ** 2) ** 0.5\n",
    "    zerozero /= norm\n",
    "    zeroone  /= norm\n",
    "    onezero  /= norm\n",
    "    oneone   /= norm\n",
    "    return GetQuantumbits(zerozero,zeroone,onezero,oneone)"
   ]
  },
  {
   "cell_type": "code",
   "execution_count": 7,
   "id": "d580f441-e357-46ab-8555-059fe5101518",
   "metadata": {},
   "outputs": [],
   "source": [
    "def MeasureQuantumbit(zerozero,zeroone,onezero,oneone):\n",
    "    zerozeroprob = abs(zerozero) ** 2\n",
    "    zerooneprob  = abs(zeroone)  ** 2\n",
    "    onezeroprob  = abs(onezero)  ** 2\n",
    "    randomchoice = random.random()\n",
    "\n",
    "    if randomchoice < zerozeroprob:\n",
    "        zerozero = complex(1)\n",
    "        zeroone  = complex(0)\n",
    "        onezero  = complex(0)\n",
    "        oneone   = complex(0)\n",
    "        return (0, 0)\n",
    "    elif randomchoice < zerooneprob:\n",
    "        zerozero = complex(0)\n",
    "        zeroone  = complex(1)\n",
    "        onezero  = complex(0)\n",
    "        oneone   = complex(0)\n",
    "        return (0, 1)\n",
    "    elif randomchoice < onezeroprob:\n",
    "        zerozero = complex(0)\n",
    "        zeroone  = complex(0)\n",
    "        onezero  = complex(1)\n",
    "        oneone   = complex(0)\n",
    "        return (1, 0)\n",
    "    else:\n",
    "        zerozero = complex(0)\n",
    "        zeroone  = complex(0)\n",
    "        onezero  = complex(0)\n",
    "        oneone   = complex(1)\n",
    "        return (1, 1)"
   ]
  },
  {
   "cell_type": "code",
   "execution_count": 8,
   "id": "c04b14cd-b07b-4824-9780-2b635e7bfd86",
   "metadata": {},
   "outputs": [],
   "source": [
    "def GetQuantumbits(zerozero,zeroone,onezero,oneone):\n",
    "    comp = [zerozero, zeroone, onezero, oneone]\n",
    "    comp = [i.real if i.real == i else i for i in comp]\n",
    "    comp = [str(i) for i in comp]\n",
    "    comp = [\"\" if i == \"1.0\" else i for i in comp]\n",
    "\n",
    "    ls = []\n",
    "    if abs(zerozero) > 0:\n",
    "        ls += [comp[0] + \" |00>\"] \n",
    "    if abs(zeroone)  > 0:\n",
    "        ls += [comp[1] + \" |01>\"] \n",
    "    if abs(onezero)  > 0:\n",
    "        ls += [comp[2]  + \" |10>\"] \n",
    "    if abs(oneone)   > 0:\n",
    "        ls += [comp[3]   + \" |11>\"] \n",
    "\n",
    "    comp = \" + \".join(ls)\n",
    "\n",
    "    return comp"
   ]
  },
  {
   "cell_type": "code",
   "execution_count": 9,
   "id": "88014a5f-45ee-479f-b79a-afb54dc0bb1e",
   "metadata": {},
   "outputs": [],
   "source": [
    "a_quantum_state = 1\n",
    "b_quantum_state = 0\n",
    "c_quantum_state = 0\n",
    "d_quantum_state = 0\n",
    "zerozero_quantum_state = complex(a_quantum_state)\n",
    "zeroone_quantum_state  = complex(b_quantum_state)\n",
    "onezero_quantum_state  = complex(c_quantum_state)\n",
    "oneone_quantum_state   = complex(d_quantum_state) "
   ]
  },
  {
   "cell_type": "code",
   "execution_count": 10,
   "id": "a787310f-917c-474b-b20f-db4545d1bf85",
   "metadata": {},
   "outputs": [
    {
     "name": "stdout",
     "output_type": "stream",
     "text": [
      "cnot gate operation - result  |00>\n"
     ]
    }
   ],
   "source": [
    "result1 = ApplyCNOTQuantumGate(zerozero_quantum_state,zeroone_quantum_state,onezero_quantum_state,oneone_quantum_state)\n",
    "print(\"cnot gate operation - result\",result1)"
   ]
  },
  {
   "cell_type": "code",
   "execution_count": 11,
   "id": "76bfbb19-c47a-4ecf-a462-f5405074e85c",
   "metadata": {},
   "outputs": [
    {
     "name": "stdout",
     "output_type": "stream",
     "text": [
      "xgate operation - result  |10>\n"
     ]
    }
   ],
   "source": [
    "result2 = ApplyXQuantumGate(zerozero_quantum_state,zeroone_quantum_state,onezero_quantum_state,oneone_quantum_state)\n",
    "print(\"xgate operation - result\",result2)"
   ]
  },
  {
   "cell_type": "code",
   "execution_count": 12,
   "id": "63d5f8f1-a965-4be5-8b6e-2ec083b3a332",
   "metadata": {},
   "outputs": [
    {
     "name": "stdout",
     "output_type": "stream",
     "text": [
      "zgate operation - result  |00>\n"
     ]
    }
   ],
   "source": [
    "result3 = ApplyZQuantumGate(zerozero_quantum_state,zeroone_quantum_state,onezero_quantum_state,oneone_quantum_state)\n",
    "print(\"zgate operation - result\",result3)"
   ]
  },
  {
   "cell_type": "code",
   "execution_count": 13,
   "id": "a1aa4a11-e7ae-4254-a88a-b67eaaf02b59",
   "metadata": {},
   "outputs": [
    {
     "name": "stdout",
     "output_type": "stream",
     "text": [
      "normalize operation - result  |00>\n"
     ]
    }
   ],
   "source": [
    "result4 = ApplyNormalization(zerozero_quantum_state,zeroone_quantum_state,onezero_quantum_state,oneone_quantum_state)\n",
    "print(\"normalize operation - result\",result4)"
   ]
  },
  {
   "cell_type": "code",
   "execution_count": 14,
   "id": "5d336f89-9abd-478a-881c-ab41e9920fda",
   "metadata": {},
   "outputs": [
    {
     "name": "stdout",
     "output_type": "stream",
     "text": [
      "measure gate operation - result (0, 0)\n"
     ]
    }
   ],
   "source": [
    "result5 = MeasureQuantumbit(zerozero_quantum_state,zeroone_quantum_state,onezero_quantum_state,oneone_quantum_state)\n",
    "print(\"measure gate operation - result\",result5)"
   ]
  }
 ],
 "metadata": {
  "kernelspec": {
   "display_name": "Qiskit v0.34.2 (ipykernel)",
   "language": "python",
   "name": "python3"
  },
  "language_info": {
   "codemirror_mode": {
    "name": "ipython",
    "version": 3
   },
   "file_extension": ".py",
   "mimetype": "text/x-python",
   "name": "python",
   "nbconvert_exporter": "python",
   "pygments_lexer": "ipython3",
   "version": "3.8.12"
  },
  "widgets": {
   "application/vnd.jupyter.widget-state+json": {
    "state": {},
    "version_major": 2,
    "version_minor": 0
   }
  }
 },
 "nbformat": 4,
 "nbformat_minor": 5
}
