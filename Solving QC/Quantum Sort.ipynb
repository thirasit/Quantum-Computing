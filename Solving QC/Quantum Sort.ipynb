{
 "cells": [
  {
   "cell_type": "markdown",
   "id": "11b2119e-0504-489e-bee7-3e040db8afac",
   "metadata": {},
   "source": [
    "# **Quantum Sort**"
   ]
  },
  {
   "cell_type": "code",
   "execution_count": 1,
   "id": "c389465e-9b36-49d6-ac76-bae1c8c6b9fb",
   "metadata": {},
   "outputs": [],
   "source": [
    "def sort_quick_sort_method(group):\n",
    "    if len(group) <= 1:\n",
    "        return group\n",
    "    pivot_value = group[len(group)//2]\n",
    "    left_value = [x for x in group if x < pivot_value]\n",
    "    middle_value = [x for x in group if x == pivot_value]\n",
    "    right_value = [x for x in group if x > pivot_value]\n",
    "    return sort_quick_sort_method(left_value) + middle_value + sort_quick_sort_method(right_value)"
   ]
  },
  {
   "cell_type": "code",
   "execution_count": 2,
   "id": "37d29ed3-d05d-4e71-994b-210df60cff81",
   "metadata": {},
   "outputs": [
    {
     "name": "stdout",
     "output_type": "stream",
     "text": [
      "[0, 2, 3, 4, 9, 11, 18]\n"
     ]
    }
   ],
   "source": [
    "print(sort_quick_sort_method([4,9,18,11,3,2,0]))"
   ]
  }
 ],
 "metadata": {
  "kernelspec": {
   "display_name": "Qiskit v0.34.2 (ipykernel)",
   "language": "python",
   "name": "python3"
  },
  "language_info": {
   "codemirror_mode": {
    "name": "ipython",
    "version": 3
   },
   "file_extension": ".py",
   "mimetype": "text/x-python",
   "name": "python",
   "nbconvert_exporter": "python",
   "pygments_lexer": "ipython3",
   "version": "3.8.12"
  },
  "widgets": {
   "application/vnd.jupyter.widget-state+json": {
    "state": {},
    "version_major": 2,
    "version_minor": 0
   }
  }
 },
 "nbformat": 4,
 "nbformat_minor": 5
}
