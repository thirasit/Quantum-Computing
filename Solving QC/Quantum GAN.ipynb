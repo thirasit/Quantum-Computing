{
 "cells": [
  {
   "cell_type": "markdown",
   "id": "d910ae5d-eb44-44ee-abfb-162d9445bf4d",
   "metadata": {},
   "source": [
    "# **Quantum GAN**"
   ]
  },
  {
   "cell_type": "code",
   "execution_count": 1,
   "id": "48e2f74e-3f7f-4299-84d5-de2c42409b25",
   "metadata": {},
   "outputs": [
    {
     "name": "stdout",
     "output_type": "stream",
     "text": [
      "Collecting pennylane\n",
      "  Using cached PennyLane-0.21.0-py3-none-any.whl (800 kB)\n",
      "Collecting autoray\n",
      "  Using cached autoray-0.2.5-py3-none-any.whl (16 kB)\n",
      "Collecting semantic-version==2.6\n",
      "  Using cached semantic_version-2.6.0-py3-none-any.whl (14 kB)\n",
      "Requirement already satisfied: appdirs in /opt/conda/lib/python3.8/site-packages (from pennylane) (1.4.4)\n",
      "Collecting cachetools\n",
      "  Using cached cachetools-5.0.0-py3-none-any.whl (9.1 kB)\n",
      "Requirement already satisfied: networkx in /opt/conda/lib/python3.8/site-packages (from pennylane) (2.7)\n",
      "Requirement already satisfied: toml in /opt/conda/lib/python3.8/site-packages (from pennylane) (0.10.2)\n",
      "Collecting autograd\n",
      "  Using cached autograd-1.3.tar.gz (38 kB)\n",
      "Requirement already satisfied: scipy in /opt/conda/lib/python3.8/site-packages (from pennylane) (1.8.0)\n",
      "Requirement already satisfied: retworkx in /opt/conda/lib/python3.8/site-packages (from pennylane) (0.11.0)\n",
      "Requirement already satisfied: numpy in /opt/conda/lib/python3.8/site-packages (from pennylane) (1.22.2)\n",
      "Collecting pennylane-lightning>=0.21\n",
      "  Using cached PennyLane_Lightning-0.21.0-cp38-cp38-manylinux_2_17_x86_64.manylinux2014_x86_64.whl (7.8 MB)\n",
      "Collecting ninja\n",
      "  Using cached ninja-1.10.2.3-py2.py3-none-manylinux_2_5_x86_64.manylinux1_x86_64.whl (108 kB)\n",
      "Requirement already satisfied: future>=0.15.2 in /opt/conda/lib/python3.8/site-packages (from autograd->pennylane) (0.18.2)\n",
      "Building wheels for collected packages: autograd\n",
      "  Building wheel for autograd (setup.py) ... \u001b[?25ldone\n",
      "\u001b[?25h  Created wheel for autograd: filename=autograd-1.3-py3-none-any.whl size=47988 sha256=ef4ddbfadee648c8bf381dc44025652c6773a703ed20226f084a38240a17911b\n",
      "  Stored in directory: /home/jovyan/.cache/pip/wheels/85/f5/d2/3ef47d3a836b17620bf41647222825b065245862d12aa62885\n",
      "Successfully built autograd\n",
      "Installing collected packages: ninja, semantic-version, pennylane-lightning, cachetools, autoray, autograd, pennylane\n",
      "Successfully installed autograd-1.3 autoray-0.2.5 cachetools-5.0.0 ninja-1.10.2.3 pennylane-0.21.0 pennylane-lightning-0.21.0 semantic-version-2.6.0\n",
      "Note: you may need to restart the kernel to use updated packages.\n"
     ]
    }
   ],
   "source": [
    "pip install pennylane"
   ]
  },
  {
   "cell_type": "code",
   "execution_count": 2,
   "id": "cc79705f-1faa-4388-9f69-f2e97e7ad9a7",
   "metadata": {},
   "outputs": [
    {
     "name": "stderr",
     "output_type": "stream",
     "text": [
      "<frozen importlib._bootstrap>:219: RuntimeWarning: scipy._lib.messagestream.MessageStream size changed, may indicate binary incompatibility. Expected 56 from C header, got 64 from PyObject\n",
      "/opt/conda/lib/python3.8/site-packages/_distutils_hack/__init__.py:30: UserWarning: Setuptools is replacing distutils.\n",
      "  warnings.warn(\"Setuptools is replacing distutils.\")\n"
     ]
    }
   ],
   "source": [
    "import pennylane as qganPenny\n",
    "from pennylane import numpy as numcal\n",
    "from pennylane.optimize import GradientDescentOptimizer as GDO"
   ]
  },
  {
   "cell_type": "code",
   "execution_count": 3,
   "id": "5ecdcc70-8184-41a9-b36e-4359f92cd636",
   "metadata": {},
   "outputs": [],
   "source": [
    "device = qganPenny.device('default.qubit', wires=3)"
   ]
  },
  {
   "cell_type": "code",
   "execution_count": 4,
   "id": "bc47b577-1257-43af-aa7f-c0e1b3ffaf8b",
   "metadata": {},
   "outputs": [],
   "source": [
    "def GetQGANReal(phi, theta, omega):\n",
    "    qganPenny.Rot(phi, theta, omega, wires=0)"
   ]
  },
  {
   "cell_type": "code",
   "execution_count": 5,
   "id": "6fe209f2-5dcc-473e-8059-ba438ee3e859",
   "metadata": {},
   "outputs": [],
   "source": [
    "def GetQGANGenerator(wireArray):\n",
    "    qganPenny.RX(wireArray[0], wires=0)\n",
    "    qganPenny.RX(wireArray[1], wires=1)\n",
    "    qganPenny.RY(wireArray[2], wires=0)\n",
    "    qganPenny.RY(wireArray[3], wires=1)\n",
    "    qganPenny.RZ(wireArray[4], wires=0)\n",
    "    qganPenny.RZ(wireArray[5], wires=1)\n",
    "    qganPenny.CNOT(wires=[0,1])\n",
    "    qganPenny.RX(wireArray[6], wires=0)\n",
    "    qganPenny.RY(wireArray[7], wires=0)\n",
    "    qganPenny.RZ(wireArray[8], wires=0)"
   ]
  },
  {
   "cell_type": "code",
   "execution_count": 6,
   "id": "e975d19c-7fca-4c7a-9856-2b9875ec9b7b",
   "metadata": {},
   "outputs": [],
   "source": [
    "def GetQGANDiscriminator(wireArray):\n",
    "    qganPenny.RX(wireArray[0], wires=0)\n",
    "    qganPenny.RX(wireArray[1], wires=2)\n",
    "    qganPenny.RY(wireArray[2], wires=0)\n",
    "    qganPenny.RY(wireArray[3], wires=2)\n",
    "    qganPenny.RZ(wireArray[4], wires=0)\n",
    "    qganPenny.RZ(wireArray[5], wires=2)\n",
    "    qganPenny.CNOT(wires=[1,2])\n",
    "    qganPenny.RX(wireArray[6], wires=2)\n",
    "    qganPenny.RY(wireArray[7], wires=2)\n",
    "    qganPenny.RZ(wireArray[8], wires=2)"
   ]
  },
  {
   "cell_type": "code",
   "execution_count": 19,
   "id": "38e9aa7e-8ee6-4a7f-b406-58484fdc1f4d",
   "metadata": {},
   "outputs": [],
   "source": [
    "@qganPenny.qnode(device)\n",
    "def GetQGANRealDiscCircuit(phi, theta, omega, discWeights):\n",
    "    GetQGANReal(phi, theta, omega)\n",
    "    GetQGANDiscriminator(discWeights)\n",
    "    return qganPenny.expval(qganPenny.PauliZ(2))"
   ]
  },
  {
   "cell_type": "code",
   "execution_count": 20,
   "id": "a52e2831-3489-4642-a913-9964994b1014",
   "metadata": {},
   "outputs": [],
   "source": [
    "@qganPenny.qnode(device)\n",
    "def GetQGANDiscCircuit(genWeights, discWeights):\n",
    "    GetQGANGenerator(genWeights)\n",
    "    GetQGANDiscriminator(discWeights)\n",
    "    return qganPenny.expval(qganPenny.PauliZ(2))"
   ]
  },
  {
   "cell_type": "code",
   "execution_count": 9,
   "id": "0377efa0-a0d9-4f40-9ed1-12b98c13b034",
   "metadata": {},
   "outputs": [],
   "source": [
    "def GetQGANRealTrue(discWeights):\n",
    "    trueDiscriminatorOutput = GetQGANRealDiscCircuit(phi, theta, omega, discWeights)\n",
    "    probabilityRealTrue = (trueDiscriminatorOutput + 1) / 2\n",
    "    return probabilityRealTrue"
   ]
  },
  {
   "cell_type": "code",
   "execution_count": 10,
   "id": "8530506a-346b-482c-82e3-259784997ef2",
   "metadata": {},
   "outputs": [],
   "source": [
    "def GetQGANFakeTrue(genWeights, discWeights):\n",
    "    fakeDiscriminatorOutput = GetQGANDiscCircuit(genWeights, discWeights)\n",
    "    probabilityFakeTrue = (fakeDiscriminatorOutput + 1) / 2\n",
    "    return probabilityFakeTrue "
   ]
  },
  {
   "cell_type": "code",
   "execution_count": 11,
   "id": "27984f5e-8cbb-47db-8c6a-14a2585db65b",
   "metadata": {},
   "outputs": [],
   "source": [
    "def GetQGANDiscriminatorCost(discWeights):\n",
    "    cost = GetQGANFakeTrue(genWeights, discWeights) - GetQGANRealTrue(discWeights) \n",
    "    return cost"
   ]
  },
  {
   "cell_type": "code",
   "execution_count": 12,
   "id": "885b27ce-b6ce-49a0-a5f2-f9354d03ae88",
   "metadata": {},
   "outputs": [],
   "source": [
    "def GetQGANGeneratorCost(genWeights):\n",
    "    return -GetQGANFakeTrue(genWeights, discWeights)"
   ]
  },
  {
   "cell_type": "code",
   "execution_count": 13,
   "id": "de4b8856-aa06-492c-904a-c0bb2bbcea32",
   "metadata": {},
   "outputs": [],
   "source": [
    "phi = numcal.pi / 6\n",
    "theta = numcal.pi / 2\n",
    "omega = numcal.pi / 7"
   ]
  },
  {
   "cell_type": "code",
   "execution_count": 14,
   "id": "d0cf86c1-7fb6-417e-a4ba-d2880b4549c2",
   "metadata": {},
   "outputs": [],
   "source": [
    "numcal.random.seed(0)\n",
    "epsValue = 1e-2\n",
    "genWeights = numcal.array([numcal.pi] + [0] * 8) + numcal.random.normal(scale=epsValue, size=[9])\n",
    "discWeights = numcal.random.normal(size=[9])"
   ]
  },
  {
   "cell_type": "code",
   "execution_count": 17,
   "id": "f3e20204-a498-45d8-a981-c4f9765d5591",
   "metadata": {},
   "outputs": [
    {
     "name": "stdout",
     "output_type": "stream",
     "text": [
      "Training the discriminator \n"
     ]
    }
   ],
   "source": [
    "gdo = GDO(0.1)\n",
    "print(\"Training the discriminator \")"
   ]
  },
  {
   "cell_type": "code",
   "execution_count": 21,
   "id": "5ebcec71-a062-445c-a167-971b231df2b2",
   "metadata": {},
   "outputs": [
    {
     "name": "stdout",
     "output_type": "stream",
     "text": [
      "Iteration num 1: discriminator cost is = -0.10942017805789106\n",
      "Iteration num 6: discriminator cost is = -0.10942017805789106\n",
      "Iteration num 11: discriminator cost is = -0.10942017805789106\n",
      "Iteration num 16: discriminator cost is = -0.10942017805789106\n",
      "Iteration num 21: discriminator cost is = -0.10942017805789106\n",
      "Iteration num 26: discriminator cost is = -0.10942017805789106\n",
      "Iteration num 31: discriminator cost is = -0.10942017805789106\n",
      "Iteration num 36: discriminator cost is = -0.10942017805789106\n",
      "Iteration num 41: discriminator cost is = -0.10942017805789106\n",
      "Iteration num 46: discriminator cost is = -0.10942017805789106\n"
     ]
    }
   ],
   "source": [
    "for iteration in range(50):\n",
    "    discriminator_weights = gdo.step(GetQGANDiscriminatorCost, discWeights) \n",
    "    discriminator_cost = GetQGANDiscriminatorCost(discriminator_weights)\n",
    "    if iteration % 5 == 0:\n",
    "        print(\"Iteration num {}: discriminator cost is = {}\".format(iteration+1, discriminator_cost))"
   ]
  },
  {
   "cell_type": "code",
   "execution_count": 23,
   "id": "38ff7d4f-c07e-4758-907a-5c824e2e5226",
   "metadata": {},
   "outputs": [
    {
     "name": "stdout",
     "output_type": "stream",
     "text": [
      "discriminator - real true:  0.18997763559951558\n",
      "discriminator - fake true:  0.13399334520305395\n",
      "Training the generator.\n"
     ]
    }
   ],
   "source": [
    "print(\"discriminator - real true: \", GetQGANRealTrue(discWeights))\n",
    "print(\"discriminator - fake true: \", GetQGANFakeTrue(genWeights, discWeights))\n",
    "print(\"Training the generator.\")"
   ]
  },
  {
   "cell_type": "code",
   "execution_count": 24,
   "id": "890fe8d0-f191-49e9-b0b8-94b919a204fd",
   "metadata": {},
   "outputs": [
    {
     "name": "stdout",
     "output_type": "stream",
     "text": [
      "Iteration num 0: generator cost is = 0.13399341778096302\n",
      "Iteration num 5: generator cost is = 0.13399341778096302\n",
      "Iteration num 10: generator cost is = 0.13399341778096302\n",
      "Iteration num 15: generator cost is = 0.13399341778096302\n",
      "Iteration num 20: generator cost is = 0.13399341778096302\n",
      "Iteration num 25: generator cost is = 0.13399341778096302\n",
      "Iteration num 30: generator cost is = 0.13399341778096302\n",
      "Iteration num 35: generator cost is = 0.13399341778096302\n",
      "Iteration num 40: generator cost is = 0.13399341778096302\n",
      "Iteration num 45: generator cost is = 0.13399341778096302\n",
      "Iteration num 50: generator cost is = 0.13399341778096302\n",
      "Iteration num 55: generator cost is = 0.13399341778096302\n",
      "Iteration num 60: generator cost is = 0.13399341778096302\n",
      "Iteration num 65: generator cost is = 0.13399341778096302\n",
      "Iteration num 70: generator cost is = 0.13399341778096302\n",
      "Iteration num 75: generator cost is = 0.13399341778096302\n",
      "Iteration num 80: generator cost is = 0.13399341778096302\n",
      "Iteration num 85: generator cost is = 0.13399341778096302\n",
      "Iteration num 90: generator cost is = 0.13399341778096302\n",
      "Iteration num 95: generator cost is = 0.13399341778096302\n",
      "Iteration num 100: generator cost is = 0.13399341778096302\n",
      "Iteration num 105: generator cost is = 0.13399341778096302\n",
      "Iteration num 110: generator cost is = 0.13399341778096302\n",
      "Iteration num 115: generator cost is = 0.13399341778096302\n",
      "Iteration num 120: generator cost is = 0.13399341778096302\n",
      "Iteration num 125: generator cost is = 0.13399341778096302\n",
      "Iteration num 130: generator cost is = 0.13399341778096302\n",
      "Iteration num 135: generator cost is = 0.13399341778096302\n",
      "Iteration num 140: generator cost is = 0.13399341778096302\n",
      "Iteration num 145: generator cost is = 0.13399341778096302\n",
      "Iteration num 150: generator cost is = 0.13399341778096302\n",
      "Iteration num 155: generator cost is = 0.13399341778096302\n",
      "Iteration num 160: generator cost is = 0.13399341778096302\n",
      "Iteration num 165: generator cost is = 0.13399341778096302\n",
      "Iteration num 170: generator cost is = 0.13399341778096302\n",
      "Iteration num 175: generator cost is = 0.13399341778096302\n",
      "Iteration num 180: generator cost is = 0.13399341778096302\n",
      "Iteration num 185: generator cost is = 0.13399341778096302\n",
      "Iteration num 190: generator cost is = 0.13399341778096302\n",
      "Iteration num 195: generator cost is = 0.13399341778096302\n"
     ]
    }
   ],
   "source": [
    "for iteration in range(200):\n",
    "    generator_weights = gdo.step(GetQGANGeneratorCost, genWeights)\n",
    "    generator_cost = -GetQGANGeneratorCost(generator_weights)\n",
    "    if iteration % 5 == 0:\n",
    "        print(\"Iteration num {}: generator cost is = {}\".format(iteration, generator_cost))"
   ]
  },
  {
   "cell_type": "code",
   "execution_count": 25,
   "id": "c1cba650-c8df-4108-86ee-0eefaf95c569",
   "metadata": {},
   "outputs": [
    {
     "name": "stdout",
     "output_type": "stream",
     "text": [
      "discriminator - real true:  0.18997763559951558\n",
      "discriminator -  fake true:  0.13399334520305395\n",
      "Cost is:  -0.10942017805789106\n"
     ]
    }
   ],
   "source": [
    "print(\"discriminator - real true: \", GetQGANRealTrue(discWeights))\n",
    "print(\"discriminator -  fake true: \", GetQGANFakeTrue(genWeights, discWeights))\n",
    "print(\"Cost is: \", GetQGANDiscriminatorCost(discriminator_weights))"
   ]
  }
 ],
 "metadata": {
  "kernelspec": {
   "display_name": "Qiskit v0.34.2 (ipykernel)",
   "language": "python",
   "name": "python3"
  },
  "language_info": {
   "codemirror_mode": {
    "name": "ipython",
    "version": 3
   },
   "file_extension": ".py",
   "mimetype": "text/x-python",
   "name": "python",
   "nbconvert_exporter": "python",
   "pygments_lexer": "ipython3",
   "version": "3.8.12"
  },
  "widgets": {
   "application/vnd.jupyter.widget-state+json": {
    "state": {},
    "version_major": 2,
    "version_minor": 0
   }
  }
 },
 "nbformat": 4,
 "nbformat_minor": 5
}
