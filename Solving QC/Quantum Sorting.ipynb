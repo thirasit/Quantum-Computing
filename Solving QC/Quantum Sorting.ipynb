{
 "cells": [
  {
   "cell_type": "markdown",
   "id": "7723b155-ea46-44e4-8eb1-81bab3c84dd4",
   "metadata": {},
   "source": [
    "# **Quantum Sorting**"
   ]
  },
  {
   "cell_type": "code",
   "execution_count": 1,
   "id": "0e64a1a4-8dd4-499a-90a2-274b23af4703",
   "metadata": {},
   "outputs": [],
   "source": [
    "import numpy as nump\n",
    "import string\n",
    "import hashlib\n",
    "from math import sqrt, pi\n",
    "from collections import OrderedDict\n",
    "from statistics import mean"
   ]
  },
  {
   "cell_type": "code",
   "execution_count": 2,
   "id": "5ab0cc80-2b5a-4ffd-bd84-2a38cd53293a",
   "metadata": {},
   "outputs": [],
   "source": [
    "def GetOracleFunction(xvalue):\n",
    "    return hashlib.sha256(bytes(xvalue, 'utf-8')).hexdigest()"
   ]
  },
  {
   "cell_type": "code",
   "execution_count": 3,
   "id": "f42098ce-08f2-430d-9e1c-ed0123542e98",
   "metadata": {},
   "outputs": [],
   "source": [
    "def ExecuteGroverAlgorithm(target, objects, nvalue, rounds):\n",
    "    y_pos = nump.arange(nvalue)\n",
    "    amplitude = OrderedDict.fromkeys(objects, 1/sqrt(nvalue))\n",
    "\n",
    "    for i in range(0, rounds, 2):\n",
    "        for k, v in amplitude.items():\n",
    "            if GetOracleFunction(k) == target:\n",
    "                amplitude[k] = v * -1\n",
    "\n",
    "        average = mean(amplitude.values())\n",
    "        for k, v in amplitude.items():\n",
    "            if GetOracleFunction(k) == target:\n",
    "                amplitude[k] = (2 * average) + abs(v)\n",
    "                continue\n",
    "            amplitude[k] = v-(2*(v-average))\n",
    "    return amplitude"
   ]
  },
  {
   "cell_type": "code",
   "execution_count": 4,
   "id": "b90d1d57-da1d-4853-aaee-8cd30ea85a5c",
   "metadata": {},
   "outputs": [],
   "source": [
    "target_algorithm = '3'\n",
    "objects_grover = ('4', '5', '3', '7','9','11','97')\n",
    "number = len(objects_grover)\n",
    "amplitude_grover = OrderedDict.fromkeys(objects_grover, 1/sqrt(number))\n",
    "amplitude_grover[target_algorithm] = amplitude_grover[target_algorithm] * -1"
   ]
  },
  {
   "cell_type": "code",
   "execution_count": 5,
   "id": "d93d88c9-91b6-4f29-8a2f-12b00b702884",
   "metadata": {},
   "outputs": [
    {
     "name": "stdout",
     "output_type": "stream",
     "text": [
      "Mean is 0.26997462357801943\n",
      "OrderedDict([('4', 0.16198477414681167), ('5', 0.16198477414681167), ('3', 0.9179137201652661), ('7', 0.16198477414681167), ('9', 0.16198477414681167), ('11', 0.16198477414681167), ('97', 0.16198477414681167)])\n"
     ]
    }
   ],
   "source": [
    "average_grover = mean(amplitude_grover.values())\n",
    "print(\"Mean is {}\".format(average_grover))\n",
    "for k, v in amplitude_grover.items():\n",
    "    if k == target_algorithm:\n",
    "        amplitude_grover[k] = (2 * average_grover) + abs(v)\n",
    "        continue\n",
    "    amplitude_grover[k] = v-(2*(v-average_grover))\n",
    "print(amplitude_grover)"
   ]
  },
  {
   "cell_type": "code",
   "execution_count": 6,
   "id": "e8cca422-86f4-43de-be50-3f6ef9408279",
   "metadata": {},
   "outputs": [
    {
     "name": "stdout",
     "output_type": "stream",
     "text": [
      "number of rounds are 4\n",
      "OrderedDict([('a', 0.11024279785874247), ('b', 0.11024279785874247), ('c', 0.11024279785874247), ('d', 0.11024279785874247), ('e', 0.11024279785874247), ('f', 0.11024279785874247), ('g', 0.11024279785874247), ('h', 0.11024279785874247), ('i', 0.11024279785874247), ('j', 0.11024279785874247), ('k', 0.11024279785874247), ('l', 0.11024279785874247), ('m', 0.11024279785874247), ('n', 0.11024279785874247), ('o', 0.11024279785874247), ('p', 0.11024279785874247), ('q', 0.11024279785874247), ('r', 0.11024279785874247), ('s', 0.11024279785874247), ('t', 0.11024279785874247), ('u', 0.11024279785874247), ('v', 0.11024279785874247), ('w', 0.11024279785874247), ('x', 0.8343639122151143), ('y', 0.11024279785874247), ('z', 0.11024279785874247)])\n"
     ]
    }
   ],
   "source": [
    "needle_value = \"2d711642b726b04401627ca9fbac32f5c8530fb1903cc4db02258717921a4881\"\n",
    "haystack_value = string.ascii_lowercase\n",
    "#print(haystack_value)\n",
    "num = len(haystack_value)\n",
    "num_rounds = int((pi / 4) * sqrt(num))\n",
    "print(\"number of rounds are {}\".format(num_rounds))\n",
    "amplitude_grover = ExecuteGroverAlgorithm(needle_value, haystack_value, num, num_rounds)\n",
    "print(amplitude_grover)"
   ]
  }
 ],
 "metadata": {
  "kernelspec": {
   "display_name": "Qiskit v0.34.2 (ipykernel)",
   "language": "python",
   "name": "python3"
  },
  "language_info": {
   "codemirror_mode": {
    "name": "ipython",
    "version": 3
   },
   "file_extension": ".py",
   "mimetype": "text/x-python",
   "name": "python",
   "nbconvert_exporter": "python",
   "pygments_lexer": "ipython3",
   "version": "3.8.12"
  },
  "widgets": {
   "application/vnd.jupyter.widget-state+json": {
    "state": {},
    "version_major": 2,
    "version_minor": 0
   }
  }
 },
 "nbformat": 4,
 "nbformat_minor": 5
}
