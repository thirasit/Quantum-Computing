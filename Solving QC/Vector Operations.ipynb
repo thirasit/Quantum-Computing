{
 "cells": [
  {
   "cell_type": "markdown",
   "id": "99ff9714-4761-4189-a39b-f2077f79817a",
   "metadata": {},
   "source": [
    "# **Vector Operations**"
   ]
  },
  {
   "cell_type": "code",
   "execution_count": 1,
   "id": "651bac81-e7f4-4c94-938c-dffad0570ce8",
   "metadata": {},
   "outputs": [],
   "source": [
    "from numpy import array"
   ]
  },
  {
   "cell_type": "code",
   "execution_count": 2,
   "id": "08c6a970-cb98-49b0-888e-2ceb5c066eaf",
   "metadata": {},
   "outputs": [
    {
     "name": "stdout",
     "output_type": "stream",
     "text": [
      "dot product of [1 2 3] ,  [2 3 4] is\n",
      "20\n"
     ]
    }
   ],
   "source": [
    "vector1 = array([1, 2, 3])\n",
    "vector2 = array([2, 3, 4])\n",
    "print(\"dot product of\", vector1,\", \",vector2,\"is\")\n",
    "\n",
    "product = vector1.dot(vector2)\n",
    "print(product)"
   ]
  },
  {
   "cell_type": "code",
   "execution_count": 3,
   "id": "aac8dc01-bff2-40b9-a8b1-96047ab4d806",
   "metadata": {},
   "outputs": [
    {
     "name": "stdout",
     "output_type": "stream",
     "text": [
      "scalar multiplied 0.3 , [1 2 3] is\n",
      "[0.3 0.6 0.9]\n"
     ]
    }
   ],
   "source": [
    "scalarval = 0.3\n",
    "scalarprod = scalarval*vector1\n",
    "print(\"scalar multiplied\",scalarval,\",\",vector1,\"is\")\n",
    "print(scalarprod)"
   ]
  },
  {
   "cell_type": "code",
   "execution_count": 4,
   "id": "170f3067-bb5b-47d7-8812-e20591d16a0a",
   "metadata": {},
   "outputs": [
    {
     "name": "stdout",
     "output_type": "stream",
     "text": [
      "sum of [1 2 3] ,  [2 3 4] is\n",
      "[3 5 7]\n"
     ]
    }
   ],
   "source": [
    "print(\"sum of\", vector1,\", \",vector2,\"is\")\n",
    "sum = vector1 + vector2\n",
    "print(sum)"
   ]
  },
  {
   "cell_type": "code",
   "execution_count": 5,
   "id": "a30fabf1-c514-40a7-ada3-b722daa5c633",
   "metadata": {},
   "outputs": [
    {
     "name": "stdout",
     "output_type": "stream",
     "text": [
      "difference of [1 2 3] ,  [2 3 4] is\n",
      "[-1 -1 -1]\n"
     ]
    }
   ],
   "source": [
    "print(\"difference of\", vector1,\", \",vector2,\"is\")\n",
    "diff = vector1 - vector2\n",
    "print(diff)"
   ]
  },
  {
   "cell_type": "code",
   "execution_count": 6,
   "id": "4a516f10-1cd0-4afd-8ba8-efb9b85d727a",
   "metadata": {},
   "outputs": [
    {
     "name": "stdout",
     "output_type": "stream",
     "text": [
      "product of [1 2 3] ,  [2 3 4] is\n",
      "[ 2  6 12]\n"
     ]
    }
   ],
   "source": [
    "print(\"product of\", vector1,\", \",vector2,\"is\")\n",
    "prod = vector1 * vector2\n",
    "print(prod)"
   ]
  },
  {
   "cell_type": "code",
   "execution_count": 7,
   "id": "20c0dd3b-2ffb-4f12-87ba-ee7224e4ea4f",
   "metadata": {},
   "outputs": [
    {
     "name": "stdout",
     "output_type": "stream",
     "text": [
      "divison of [1 2 3] ,  [2 3 4] is\n",
      "[0.5        0.66666667 0.75      ]\n"
     ]
    }
   ],
   "source": [
    "print(\"divison of\", vector1,\", \",vector2,\"is\")\n",
    "dividedby = vector1 / vector2\n",
    "print(dividedby)"
   ]
  }
 ],
 "metadata": {
  "kernelspec": {
   "display_name": "Qiskit v0.34.2 (ipykernel)",
   "language": "python",
   "name": "python3"
  },
  "language_info": {
   "codemirror_mode": {
    "name": "ipython",
    "version": 3
   },
   "file_extension": ".py",
   "mimetype": "text/x-python",
   "name": "python",
   "nbconvert_exporter": "python",
   "pygments_lexer": "ipython3",
   "version": "3.8.12"
  },
  "widgets": {
   "application/vnd.jupyter.widget-state+json": {
    "state": {},
    "version_major": 2,
    "version_minor": 0
   }
  }
 },
 "nbformat": 4,
 "nbformat_minor": 5
}
