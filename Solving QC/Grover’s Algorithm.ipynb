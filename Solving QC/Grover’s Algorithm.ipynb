{
 "cells": [
  {
   "cell_type": "markdown",
   "id": "d432925f-920b-4934-9ff7-18da67a2c52d",
   "metadata": {},
   "source": [
    "# **Grover’s Algorithm**"
   ]
  },
  {
   "cell_type": "code",
   "execution_count": 1,
   "id": "dbef796f-224e-4c50-9e01-b98e7ed3f849",
   "metadata": {},
   "outputs": [],
   "source": [
    "import matplotlib.pyplot as plot\n",
    "import numpy as nump\n",
    "import string\n",
    "import hashlib\n",
    "from math import sqrt, pi\n",
    "from collections import OrderedDict\n",
    "from statistics import mean"
   ]
  },
  {
   "cell_type": "code",
   "execution_count": 2,
   "id": "6690eb48-8cff-4cdc-83f6-c5886b6932df",
   "metadata": {},
   "outputs": [],
   "source": [
    "def RenderGraph(amplitude_value, n):\n",
    "    y_position = nump.arange(n)\n",
    "    plot.bar(y_position, amplitude_value.values(), align='center', color='g')\n",
    "    plot.xticks(y_position, amplitude_value.keys())\n",
    "    plot.ylabel('Amplitude Value')\n",
    "    plot.title('Grovers Algorithm')\n",
    "    plot.show()"
   ]
  },
  {
   "cell_type": "code",
   "execution_count": 3,
   "id": "9eb67a9d-a60a-4b26-ae7d-c5f5235c3f0f",
   "metadata": {},
   "outputs": [],
   "source": [
    "def ApplyOracleFunction(xvalue):\n",
    "    return hashlib.sha256(bytes(xvalue, 'utf-8')).hexdigest()"
   ]
  },
  {
   "cell_type": "code",
   "execution_count": 4,
   "id": "fbd4552b-f94a-4b8b-9a4e-36790dd350f5",
   "metadata": {},
   "outputs": [],
   "source": [
    "def ApplyGroverAlgorithm(target, objects, nvalue, rounds):\n",
    "    y_pos = nump.arange(nvalue)\n",
    "    amplitude = OrderedDict.fromkeys(objects, 1/sqrt(nvalue))\n",
    "\n",
    "    for i in range(0, rounds, 2):\n",
    "        for k, v in amplitude.items():\n",
    "            if ApplyOracleFunction(k) == target:\n",
    "                amplitude[k] = v * -1\n",
    "\n",
    "        average = mean(amplitude.values())\n",
    "        for k, v in amplitude.items():\n",
    "            if ApplyOracleFunction(k) == target:\n",
    "                amplitude[k] = (2 * average) + abs(v)\n",
    "                continue\n",
    "            amplitude[k] = v-(2*(v-average))\n",
    "    return amplitude"
   ]
  },
  {
   "cell_type": "code",
   "execution_count": 5,
   "id": "9ae76fa7-9df6-4c01-898c-7f46d5ce30a0",
   "metadata": {},
   "outputs": [],
   "source": [
    "target_algorithm = '9'\n",
    "objects_grover = ('14', '5', '13', '7','9','11','97')\n",
    "number = len(objects_grover)\n",
    "amplitude_grover = OrderedDict.fromkeys(objects_grover, 1/sqrt(number))"
   ]
  },
  {
   "cell_type": "code",
   "execution_count": 6,
   "id": "0a1c2807-9680-4c2d-9150-22e13feb6753",
   "metadata": {},
   "outputs": [
    {
     "name": "stdout",
     "output_type": "stream",
     "text": [
      "OrderedDict([('14', 0.3779644730092272), ('5', 0.3779644730092272), ('13', 0.3779644730092272), ('7', 0.3779644730092272), ('9', -0.3779644730092272), ('11', 0.3779644730092272), ('97', 0.3779644730092272)])\n",
      "Mean is 0.26997462357801943\n",
      "OrderedDict([('14', 0.16198477414681167), ('5', 0.16198477414681167), ('13', 0.16198477414681167), ('7', 0.16198477414681167), ('9', 0.9179137201652661), ('11', 0.16198477414681167), ('97', 0.16198477414681167)])\n"
     ]
    }
   ],
   "source": [
    "amplitude_grover[target_algorithm] = amplitude_grover[target_algorithm] * -1\n",
    "print(amplitude_grover)\n",
    "average_grover = mean(amplitude_grover.values())\n",
    "print(\"Mean is {}\".format(average_grover))\n",
    "for k, v in amplitude_grover.items():\n",
    "    if k == target_algorithm:\n",
    "        amplitude_grover[k] = (2 * average_grover) + abs(v)\n",
    "        continue\n",
    "    amplitude_grover[k] = v-(2*(v-average_grover))\n",
    "print(amplitude_grover)"
   ]
  },
  {
   "cell_type": "code",
   "execution_count": 7,
   "id": "a4b779f8-c2b4-433f-9f91-b6fa43cf4a54",
   "metadata": {},
   "outputs": [
    {
     "name": "stdout",
     "output_type": "stream",
     "text": [
      "number of rounds are 4\n"
     ]
    },
    {
     "data": {
      "image/png": "[encoded data removed]",
      "text/plain": [
       "<Figure size 432x288 with 1 Axes>"
      ]
     },
     "metadata": {
      "needs_background": "light"
     },
     "output_type": "display_data"
    }
   ],
   "source": [
    "needle_value = \"2d711642b726b04401627ca9fbac32f5c8530fb1903cc4db02258717921a4881\"\n",
    "haystack_value = string.ascii_lowercase\n",
    "num = len(haystack_value)\n",
    "num_rounds = int((pi / 4) * sqrt(num))\n",
    "print(\"number of rounds are {}\".format(num_rounds))\n",
    "RenderGraph(ApplyGroverAlgorithm(needle_value, haystack_value, num, num_rounds), num)"
   ]
  }
 ],
 "metadata": {
  "kernelspec": {
   "display_name": "Qiskit v0.34.2 (ipykernel)",
   "language": "python",
   "name": "python3"
  },
  "language_info": {
   "codemirror_mode": {
    "name": "ipython",
    "version": 3
   },
   "file_extension": ".py",
   "mimetype": "text/x-python",
   "name": "python",
   "nbconvert_exporter": "python",
   "pygments_lexer": "ipython3",
   "version": "3.8.12"
  },
  "widgets": {
   "application/vnd.jupyter.widget-state+json": {
    "state": {},
    "version_major": 2,
    "version_minor": 0
   }
  }
 },
 "nbformat": 4,
 "nbformat_minor": 5
}
