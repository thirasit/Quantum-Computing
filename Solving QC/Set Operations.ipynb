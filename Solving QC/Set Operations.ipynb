{
 "cells": [
  {
   "cell_type": "markdown",
   "id": "26f6a47d-486d-4776-a282-8e8d05a0dc96",
   "metadata": {},
   "source": [
    "# **Set Operations**"
   ]
  },
  {
   "cell_type": "code",
   "execution_count": 1,
   "id": "5ea2bdc3-9487-4994-beae-b0ceaae1ec04",
   "metadata": {},
   "outputs": [],
   "source": [
    "primes11={3,5,7,11,14};\n",
    "\n",
    "primes12={3,5,7,11,13,17,19,34}\n",
    "\n",
    "primes=primes11 & primes12"
   ]
  },
  {
   "cell_type": "code",
   "execution_count": 2,
   "id": "899f3d0c-58c9-4c12-b8bd-7425c1c0d1ce",
   "metadata": {},
   "outputs": [
    {
     "name": "stdout",
     "output_type": "stream",
     "text": [
      "union of sets {3, 5, 7, 11, 14} , {34, 3, 5, 7, 11, 13, 17, 19}  is\n",
      "{11, 3, 5, 7}\n"
     ]
    }
   ],
   "source": [
    "print(\"union of sets\", primes11,\",\",primes12,\" is\")\n",
    "print(primes)"
   ]
  },
  {
   "cell_type": "code",
   "execution_count": 3,
   "id": "898abe9a-8fd4-4fd6-a9cf-f33894fda8aa",
   "metadata": {},
   "outputs": [],
   "source": [
    "primes1={3,5,7,11,14};\n",
    "\n",
    "primes2={3,5,7,11,13,17,19,34}\n",
    "\n",
    "primes=primes1 & primes2"
   ]
  },
  {
   "cell_type": "code",
   "execution_count": 4,
   "id": "8a04941e-a1a6-4ba6-9e1a-78f3a9c943a7",
   "metadata": {},
   "outputs": [
    {
     "name": "stdout",
     "output_type": "stream",
     "text": [
      "intersection of sets {3, 5, 7, 11, 14} , {34, 3, 5, 7, 11, 13, 17, 19}  is\n",
      "{11, 3, 5, 7}\n"
     ]
    }
   ],
   "source": [
    "print(\"intersection of sets\", primes1,\",\", primes2,\" is\")\n",
    "print(primes)"
   ]
  },
  {
   "cell_type": "code",
   "execution_count": 5,
   "id": "3a85fc7d-4284-4527-9286-5f64d11f016a",
   "metadata": {},
   "outputs": [],
   "source": [
    "primes3={3,5,7,11,13,17,19}\n",
    "\n",
    "primes4={2,3,5,7,11};\n",
    "\n",
    "primes=primes3-primes4"
   ]
  },
  {
   "cell_type": "code",
   "execution_count": 6,
   "id": "f691e5ca-a6be-48a6-b323-e21c5c1e008d",
   "metadata": {},
   "outputs": [
    {
     "name": "stdout",
     "output_type": "stream",
     "text": [
      "difference of sets {3, 5, 7, 11, 13, 17, 19} , {2, 3, 5, 7, 11}  is\n",
      "{17, 19, 13}\n"
     ]
    }
   ],
   "source": [
    "print(\"difference of sets\",primes3,\",\",primes4,\" is\")\n",
    "\n",
    "print(primes)"
   ]
  },
  {
   "cell_type": "code",
   "execution_count": 7,
   "id": "c18ba36d-e188-4736-b2ad-db79f6072a4d",
   "metadata": {},
   "outputs": [],
   "source": [
    "primes4={3,5,7,11,13,17,19}\n",
    "\n",
    "primes5={3,5,7,11,91,101};\n",
    "\n",
    "primes=primes4 ^ primes5"
   ]
  },
  {
   "cell_type": "code",
   "execution_count": 8,
   "id": "573c9ff9-8161-42c9-832b-efcbcbbe74b4",
   "metadata": {},
   "outputs": [
    {
     "name": "stdout",
     "output_type": "stream",
     "text": [
      "symmetric difference of sets {3, 5, 7, 11, 13, 17, 19} , {3, 5, 101, 7, 11, 91}  is\n",
      "{17, 19, 101, 91, 13}\n"
     ]
    }
   ],
   "source": [
    "print(\"symmetric difference of sets\",primes4,\",\",primes5,\" is\")\n",
    "\n",
    "print(primes)"
   ]
  }
 ],
 "metadata": {
  "kernelspec": {
   "display_name": "Qiskit v0.34.2 (ipykernel)",
   "language": "python",
   "name": "python3"
  },
  "language_info": {
   "codemirror_mode": {
    "name": "ipython",
    "version": 3
   },
   "file_extension": ".py",
   "mimetype": "text/x-python",
   "name": "python",
   "nbconvert_exporter": "python",
   "pygments_lexer": "ipython3",
   "version": "3.8.12"
  },
  "widgets": {
   "application/vnd.jupyter.widget-state+json": {
    "state": {},
    "version_major": 2,
    "version_minor": 0
   }
  }
 },
 "nbformat": 4,
 "nbformat_minor": 5
}
