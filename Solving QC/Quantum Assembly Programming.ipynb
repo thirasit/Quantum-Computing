{
 "cells": [
  {
   "cell_type": "markdown",
   "id": "ac2a06c8-3712-488f-9440-2f6654468968",
   "metadata": {},
   "source": [
    "# **Quantum Assembly Programming**"
   ]
  },
  {
   "cell_type": "code",
   "execution_count": 1,
   "id": "87c2254a-ef4d-44ba-b1f6-1b5d22dff7b0",
   "metadata": {},
   "outputs": [
    {
     "name": "stderr",
     "output_type": "stream",
     "text": [
      "<frozen importlib._bootstrap>:219: RuntimeWarning: scipy._lib.messagestream.MessageStream size changed, may indicate binary incompatibility. Expected 56 from C header, got 64 from PyObject\n"
     ]
    }
   ],
   "source": [
    "import qiskit"
   ]
  },
  {
   "cell_type": "code",
   "execution_count": 2,
   "id": "e4ac8324-c39d-4aba-9ea1-fa64076ec451",
   "metadata": {},
   "outputs": [],
   "source": [
    "class QASM_JobManager:\n",
    "\n",
    "    def __init__(self):\n",
    "      \tself.data = []\n",
    "        \n",
    "    def createProgram(self,quantum,classical):\n",
    "        qr = qiskit.QuantumRegister(quantum)\n",
    "        cr = qiskit.ClassicalRegister(classical)\n",
    "        program = qiskit.QuantumCircuit(qr, cr)\n",
    "        return qr,cr,program\n",
    "    \n",
    "    def measure(self,program,qr,cr):\n",
    "        program.measure(qr,cr)\n",
    "            \n",
    "    def getQASMBackend(self):\n",
    "        backend = qiskit.BasicAer.get_backend('qasm_simulator')\n",
    "        return backend\n",
    "    \n",
    "    def executeProgramOnQASM(self,program,backend):\n",
    "        job = qiskit.execute( program, backend  )\n",
    "        return job"
   ]
  },
  {
   "cell_type": "code",
   "execution_count": 3,
   "id": "5c9028d2-f298-41d9-83ae-efe09dc6b4c2",
   "metadata": {},
   "outputs": [],
   "source": [
    "jobManager = QASM_JobManager()"
   ]
  },
  {
   "cell_type": "code",
   "execution_count": 4,
   "id": "bd5c2b80-75b0-4381-9f3a-be906a6a8307",
   "metadata": {},
   "outputs": [],
   "source": [
    "quantumRegister,classicalRegister,program = jobManager.createProgram(1,1)"
   ]
  },
  {
   "cell_type": "code",
   "execution_count": 5,
   "id": "e4a89e32-ad4e-4b5c-83a0-df60fec0ff4e",
   "metadata": {},
   "outputs": [],
   "source": [
    "jobManager.measure(program,quantumRegister,classicalRegister)"
   ]
  },
  {
   "cell_type": "code",
   "execution_count": 6,
   "id": "54f238f7-a56c-492e-9075-8a83ed8dc8f9",
   "metadata": {},
   "outputs": [],
   "source": [
    "backend = jobManager.getQASMBackend()"
   ]
  },
  {
   "cell_type": "code",
   "execution_count": 7,
   "id": "f022a132-d80b-4de1-a5f8-af2473deb51c",
   "metadata": {},
   "outputs": [
    {
     "name": "stdout",
     "output_type": "stream",
     "text": [
      "The device name: qasm_simulator\n"
     ]
    }
   ],
   "source": [
    "print(\"The device name:\",backend.name())"
   ]
  },
  {
   "cell_type": "code",
   "execution_count": 8,
   "id": "71e3d96d-d191-40f4-9028-963a923b42cb",
   "metadata": {},
   "outputs": [],
   "source": [
    "job = jobManager.executeProgramOnQASM(program,backend)"
   ]
  },
  {
   "cell_type": "code",
   "execution_count": 9,
   "id": "00f5088c-93c9-4c05-bb6c-35288e2d5947",
   "metadata": {},
   "outputs": [
    {
     "name": "stdout",
     "output_type": "stream",
     "text": [
      "{'0': 1024}\n"
     ]
    }
   ],
   "source": [
    "print( job.result().get_counts() )"
   ]
  }
 ],
 "metadata": {
  "kernelspec": {
   "display_name": "Qiskit v0.34.2 (ipykernel)",
   "language": "python",
   "name": "python3"
  },
  "language_info": {
   "codemirror_mode": {
    "name": "ipython",
    "version": 3
   },
   "file_extension": ".py",
   "mimetype": "text/x-python",
   "name": "python",
   "nbconvert_exporter": "python",
   "pygments_lexer": "ipython3",
   "version": "3.8.12"
  },
  "widgets": {
   "application/vnd.jupyter.widget-state+json": {
    "state": {},
    "version_major": 2,
    "version_minor": 0
   }
  }
 },
 "nbformat": 4,
 "nbformat_minor": 5
}
