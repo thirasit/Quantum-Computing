{
 "cells": [
  {
   "cell_type": "markdown",
   "id": "25d012a7-b868-42e4-932a-1f968d588f2b",
   "metadata": {},
   "source": [
    "# **Introduction to Qiskit**"
   ]
  },
  {
   "cell_type": "code",
   "execution_count": 1,
   "id": "f8a29d35-1144-418d-ba4d-c97aa419f2b1",
   "metadata": {},
   "outputs": [],
   "source": [
    "import numpy as np\n",
    "\n",
    "# Importing standard Qiskit libraries\n",
    "from qiskit import QuantumCircuit, transpile, Aer, IBMQ, execute\n",
    "from qiskit.tools.jupyter import *\n",
    "from qiskit.visualization import *\n",
    "from ibm_quantum_widgets import *\n",
    "from qiskit.providers.aer import QasmSimulator\n",
    "\n",
    "# Loading your IBM Quantum account(s)\n",
    "provider = IBMQ.load_account()"
   ]
  },
  {
   "cell_type": "code",
   "execution_count": 2,
   "id": "4b42d681-da0a-4650-9127-cb55b4ce34ac",
   "metadata": {},
   "outputs": [],
   "source": [
    "from qiskit import QuantumRegister\n",
    "from qiskit.providers.aer import QasmSimulator, StatevectorSimulator"
   ]
  },
  {
   "cell_type": "code",
   "execution_count": 3,
   "id": "b7b1c6d0-9f9d-4c2f-9234-531c50c354de",
   "metadata": {},
   "outputs": [
    {
     "name": "stdout",
     "output_type": "stream",
     "text": [
      "Operator([[ 0.70710678+0.00000000e+00j,  0.70710678-8.65956056e-17j],\n",
      "          [ 0.70710678+0.00000000e+00j, -0.70710678+8.65956056e-17j]],\n",
      "         input_dims=(2,), output_dims=(2,))\n"
     ]
    }
   ],
   "source": [
    "# Create a quantum circuit with 1 qubit, add an H gate\n",
    "qc = QuantumCircuit(1)\n",
    "qc.h(0)\n",
    "# Set backend to unitary simulator\n",
    "simulator = Aer.get_backend('unitary_simulator')\n",
    "# Execute on unitary simulator\n",
    "result = execute(qc, simulator).result()\n",
    "# Obtain results and print it out on console\n",
    "unitaryState = result.get_unitary(qc)\n",
    "print(unitaryState)"
   ]
  },
  {
   "cell_type": "markdown",
   "id": "4c5d8bf3-141c-40df-a1d5-e5ae176f6eca",
   "metadata": {},
   "source": [
    "## **Setup IBMQ Account Info on Local Machine**"
   ]
  },
  {
   "cell_type": "code",
   "execution_count": 4,
   "id": "7c77db89-2229-4e77-9503-c5ef23b541d0",
   "metadata": {},
   "outputs": [
    {
     "name": "stderr",
     "output_type": "stream",
     "text": [
      "configrc.store_credentials:WARNING:2022-01-18 04:33:36,202: Credentials already present. Set overwrite=True to overwrite.\n"
     ]
    }
   ],
   "source": [
    "from qiskit import IBMQ\n",
    "IBMQ.save_account('10ebcb67616c5f983ff07f2db43e3ff7510dc165adf295db8f5bb39e7988db8e9bf652223220cce0aa35225ff63a17668cb17ade372b2f966bb80954c68b315d')"
   ]
  },
  {
   "cell_type": "code",
   "execution_count": 5,
   "id": "77a4356d-1b86-4158-8551-9614194ea99c",
   "metadata": {},
   "outputs": [
    {
     "data": {
      "text/plain": [
       "[<IBMQSimulator('ibmq_qasm_simulator') from IBMQ(hub='ibm-q', group='open', project='main')>,\n",
       " <IBMQBackend('ibmq_armonk') from IBMQ(hub='ibm-q', group='open', project='main')>,\n",
       " <IBMQBackend('ibmq_santiago') from IBMQ(hub='ibm-q', group='open', project='main')>,\n",
       " <IBMQBackend('ibmq_bogota') from IBMQ(hub='ibm-q', group='open', project='main')>,\n",
       " <IBMQBackend('ibmq_lima') from IBMQ(hub='ibm-q', group='open', project='main')>,\n",
       " <IBMQBackend('ibmq_belem') from IBMQ(hub='ibm-q', group='open', project='main')>,\n",
       " <IBMQBackend('ibmq_quito') from IBMQ(hub='ibm-q', group='open', project='main')>,\n",
       " <IBMQSimulator('simulator_statevector') from IBMQ(hub='ibm-q', group='open', project='main')>,\n",
       " <IBMQSimulator('simulator_mps') from IBMQ(hub='ibm-q', group='open', project='main')>,\n",
       " <IBMQSimulator('simulator_extended_stabilizer') from IBMQ(hub='ibm-q', group='open', project='main')>,\n",
       " <IBMQSimulator('simulator_stabilizer') from IBMQ(hub='ibm-q', group='open', project='main')>,\n",
       " <IBMQBackend('ibmq_manila') from IBMQ(hub='ibm-q', group='open', project='main')>]"
      ]
     },
     "execution_count": 5,
     "metadata": {},
     "output_type": "execute_result"
    }
   ],
   "source": [
    "provider.backends()"
   ]
  },
  {
   "cell_type": "code",
   "execution_count": 6,
   "id": "2d99ffa1-7484-4067-a304-6d5a24bdc9f0",
   "metadata": {},
   "outputs": [
    {
     "name": "stderr",
     "output_type": "stream",
     "text": [
      "ibmqfactory.load_account:WARNING:2022-01-18 04:34:15,673: Credentials are already in use. The existing account in the session will be replaced.\n"
     ]
    },
    {
     "name": "stdout",
     "output_type": "stream",
     "text": [
      "Job Status: job has successfully run\n"
     ]
    }
   ],
   "source": [
    "from qiskit import QuantumCircuit, QuantumRegister, ClassicalRegister, execute\n",
    "from qiskit.tools.monitor import job_monitor\n",
    "\n",
    "#You only need to load your account ONCE for each notebook. \n",
    "IBMQ.load_account()\n",
    "\n",
    "q = QuantumRegister(1)\n",
    "c = ClassicalRegister(1)\n",
    "qc = QuantumCircuit(q,c)\n",
    "qc.h(0)\n",
    "qc.measure([0],[0])\n",
    "# Specify a backend from the list available to you, \n",
    "\n",
    "backend = provider.get_backend('ibmq_lima')\n",
    "job_object = execute(qc, backend)\n",
    "job_monitor(job_object)"
   ]
  },
  {
   "cell_type": "code",
   "execution_count": null,
   "id": "efe3defe-72a7-4576-9d15-a2a5b577579a",
   "metadata": {},
   "outputs": [],
   "source": [
    "from qiskit.visualization import plot_histogram\n",
    "result = job_object.result()\n",
    "counts = result.get_counts(qc)\n",
    "plot_histogram(counts)"
   ]
  },
  {
   "cell_type": "code",
   "execution_count": null,
   "id": "358625a9-ab67-4a1a-b7f9-61a174c062b5",
   "metadata": {},
   "outputs": [],
   "source": [
    "import qiskit.tools.jupyter\n",
    "%qiskit_version_table"
   ]
  }
 ],
 "metadata": {
  "kernelspec": {
   "display_name": "Qiskit v0.34.1 (ipykernel)",
   "language": "python",
   "name": "python3"
  },
  "language_info": {
   "codemirror_mode": {
    "name": "ipython",
    "version": 3
   },
   "file_extension": ".py",
   "mimetype": "text/x-python",
   "name": "python",
   "nbconvert_exporter": "python",
   "pygments_lexer": "ipython3",
   "version": "3.8.12"
  },
  "widgets": {
   "application/vnd.jupyter.widget-state+json": {
    "state": {
     "14b3852dfb8b45bbbd5b223983ea2ab4": {
      "model_module": "@jupyter-widgets/base",
      "model_module_version": "1.2.0",
      "model_name": "LayoutModel",
      "state": {
       "grid_template_areas": "\n                                       \". . . . right \"\n                                        ",
       "grid_template_columns": "20% 20% 20% 20% 20%",
       "width": "100%"
      }
     },
     "1af6292353d749a394e90c40929027a8": {
      "model_module": "@jupyter-widgets/base",
      "model_module_version": "1.2.0",
      "model_name": "LayoutModel",
      "state": {
       "width": "190px"
      }
     },
     "1c7ca5a2998d430ea9d298807b927a72": {
      "model_module": "@jupyter-widgets/base",
      "model_module_version": "1.2.0",
      "model_name": "LayoutModel",
      "state": {
       "width": "95px"
      }
     },
     "2244aef7c6264535868a006ef126fc5d": {
      "model_module": "@jupyter-widgets/controls",
      "model_module_version": "1.5.0",
      "model_name": "DescriptionStyleModel",
      "state": {
       "description_width": ""
      }
     },
     "3592f7d1f5db49eea2ca0184293d5c7d": {
      "model_module": "@jupyter-widgets/controls",
      "model_module_version": "1.5.0",
      "model_name": "DescriptionStyleModel",
      "state": {
       "description_width": ""
      }
     },
     "3b9aeaa2c2d7497880139d7d267f96a0": {
      "model_module": "@jupyter-widgets/controls",
      "model_module_version": "1.5.0",
      "model_name": "HTMLModel",
      "state": {
       "layout": "IPY_MODEL_f65667d1f7b14e0d95e081fe2cf44c8a",
       "style": "IPY_MODEL_59baad24d0f6477bab1500eac21a84cf",
       "value": "<h5>Status</h5>"
      }
     },
     "42df828de99b4a04bac53179ce195aea": {
      "model_module": "@jupyter-widgets/controls",
      "model_module_version": "1.5.0",
      "model_name": "HTMLModel",
      "state": {
       "layout": "IPY_MODEL_ba80eb76a5164e4c8b0d3f596c5d7cff",
       "style": "IPY_MODEL_68ccb92b050242018c6d00d8f1faad62",
       "value": "-"
      }
     },
     "50a4cca93b6a4a23bd16fe1c0ddae97a": {
      "model_module": "@jupyter-widgets/base",
      "model_module_version": "1.2.0",
      "model_name": "LayoutModel",
      "state": {
       "width": "145px"
      }
     },
     "5137d5ed172142f69e602ae6bed0371c": {
      "model_module": "@jupyter-widgets/controls",
      "model_module_version": "1.5.0",
      "model_name": "HTMLModel",
      "state": {
       "layout": "IPY_MODEL_1c7ca5a2998d430ea9d298807b927a72",
       "style": "IPY_MODEL_eab4ce26abce4afebe4e49bc584e8dab",
       "value": "<font style='color:#34BC6E'>DONE</font>"
      }
     },
     "59509834b7da4b8cbd22b93087de09aa": {
      "model_module": "@jupyter-widgets/controls",
      "model_module_version": "1.5.0",
      "model_name": "HTMLModel",
      "state": {
       "layout": "IPY_MODEL_50a4cca93b6a4a23bd16fe1c0ddae97a",
       "style": "IPY_MODEL_ad66ff3b50f04a679d324872adb1a05c",
       "value": "ibmq_lima"
      }
     },
     "59baad24d0f6477bab1500eac21a84cf": {
      "model_module": "@jupyter-widgets/controls",
      "model_module_version": "1.5.0",
      "model_name": "DescriptionStyleModel",
      "state": {
       "description_width": ""
      }
     },
     "68ccb92b050242018c6d00d8f1faad62": {
      "model_module": "@jupyter-widgets/controls",
      "model_module_version": "1.5.0",
      "model_name": "DescriptionStyleModel",
      "state": {
       "description_width": ""
      }
     },
     "6f9dadb7e8fb4618aa93da3e58924512": {
      "model_module": "@jupyter-widgets/controls",
      "model_module_version": "1.5.0",
      "model_name": "HBoxModel",
      "state": {
       "children": [
        "IPY_MODEL_e2bff21b9be54dd294e6778b7639cd77",
        "IPY_MODEL_a42758763f7d4131bb2b79709795cf3c",
        "IPY_MODEL_59509834b7da4b8cbd22b93087de09aa",
        "IPY_MODEL_5137d5ed172142f69e602ae6bed0371c",
        "IPY_MODEL_42df828de99b4a04bac53179ce195aea",
        "IPY_MODEL_bdab72d24c4d48d3a6ce7d29cfdced1b"
       ],
       "layout": "IPY_MODEL_8cb6d694b883414e9536bf9e2dbb884c"
      }
     },
     "7560d2988f9e476184a1b7f56256c80b": {
      "model_module": "@jupyter-widgets/controls",
      "model_module_version": "1.5.0",
      "model_name": "GridBoxModel",
      "state": {
       "children": [
        "IPY_MODEL_b225774155b445d5ba4d8706a0fc1732"
       ],
       "layout": "IPY_MODEL_14b3852dfb8b45bbbd5b223983ea2ab4"
      }
     },
     "78f3a41e14694cf79f815532d9453678": {
      "model_module": "@jupyter-widgets/base",
      "model_module_version": "1.2.0",
      "model_name": "LayoutModel",
      "state": {
       "overflow_x": "scroll"
      }
     },
     "7b916402f4b744da82d57a105e1961b5": {
      "model_module": "@jupyter-widgets/controls",
      "model_module_version": "1.5.0",
      "model_name": "DescriptionStyleModel",
      "state": {
       "description_width": ""
      }
     },
     "7e13f5de3dbe4485873949ad7bcdddba": {
      "model_module": "@jupyter-widgets/controls",
      "model_module_version": "1.5.0",
      "model_name": "HTMLModel",
      "state": {
       "layout": "IPY_MODEL_8e89e5c50d214e718b498e8633f16eff",
       "style": "IPY_MODEL_3592f7d1f5db49eea2ca0184293d5c7d",
       "value": "<h5>Queue</h5>"
      }
     },
     "86c3929b0b424f3d81830f0dfc32bea6": {
      "model_module": "@jupyter-widgets/controls",
      "model_module_version": "1.5.0",
      "model_name": "DescriptionStyleModel",
      "state": {
       "description_width": ""
      }
     },
     "878c885122b94a9f954cebafffa67a07": {
      "model_module": "@jupyter-widgets/base",
      "model_module_version": "1.2.0",
      "model_name": "LayoutModel",
      "state": {
       "margin": "0px 5px 0px 0px",
       "width": "32px"
      }
     },
     "8955f11fd3204a82bfaf2134e0f7a840": {
      "model_module": "@jupyter-widgets/controls",
      "model_module_version": "1.5.0",
      "model_name": "HTMLModel",
      "state": {
       "layout": "IPY_MODEL_d852e24aea2a4f66a23874e4cfc86412",
       "style": "IPY_MODEL_86c3929b0b424f3d81830f0dfc32bea6",
       "value": "<h5>Message</h5>"
      }
     },
     "8c2d860822db4f9fbd9a8fd5c386fba8": {
      "model_module": "@jupyter-widgets/controls",
      "model_module_version": "1.5.0",
      "model_name": "DescriptionStyleModel",
      "state": {
       "description_width": ""
      }
     },
     "8cb6d694b883414e9536bf9e2dbb884c": {
      "model_module": "@jupyter-widgets/base",
      "model_module_version": "1.2.0",
      "model_name": "LayoutModel",
      "state": {
       "max_width": "700px",
       "min_width": "700px"
      }
     },
     "8e89e5c50d214e718b498e8633f16eff": {
      "model_module": "@jupyter-widgets/base",
      "model_module_version": "1.2.0",
      "model_name": "LayoutModel",
      "state": {
       "width": "70px"
      }
     },
     "9edcc08d9d484462ac6b75b2243a973a": {
      "model_module": "@jupyter-widgets/controls",
      "model_module_version": "1.5.0",
      "model_name": "ButtonStyleModel",
      "state": {
       "button_color": "white"
      }
     },
     "9f2d9b7f2acf4ac3bf160a31fd534ab7": {
      "model_module": "@jupyter-widgets/base",
      "model_module_version": "1.2.0",
      "model_name": "LayoutModel",
      "state": {
       "width": "190px"
      }
     },
     "a42758763f7d4131bb2b79709795cf3c": {
      "model_module": "@jupyter-widgets/controls",
      "model_module_version": "1.5.0",
      "model_name": "HTMLModel",
      "state": {
       "layout": "IPY_MODEL_9f2d9b7f2acf4ac3bf160a31fd534ab7",
       "style": "IPY_MODEL_8c2d860822db4f9fbd9a8fd5c386fba8",
       "value": "61e6434fa90e5387a9737373"
      }
     },
     "a676bafedc004a8586d688912169a501": {
      "model_module": "@jupyter-widgets/controls",
      "model_module_version": "1.5.0",
      "model_name": "DescriptionStyleModel",
      "state": {
       "description_width": ""
      }
     },
     "ad66ff3b50f04a679d324872adb1a05c": {
      "model_module": "@jupyter-widgets/controls",
      "model_module_version": "1.5.0",
      "model_name": "DescriptionStyleModel",
      "state": {
       "description_width": ""
      }
     },
     "af263e9d63454bab9301c6c399d1aeb4": {
      "model_module": "@jupyter-widgets/base",
      "model_module_version": "1.2.0",
      "model_name": "LayoutModel",
      "state": {
       "width": "145px"
      }
     },
     "b225774155b445d5ba4d8706a0fc1732": {
      "model_module": "@jupyter-widgets/controls",
      "model_module_version": "1.5.0",
      "model_name": "ButtonModel",
      "state": {
       "button_style": "primary",
       "description": "Clear",
       "layout": "IPY_MODEL_dcea7488f8be4a5baa4a25a2d309d7be",
       "style": "IPY_MODEL_e79e325b07d24b0ba35148c771fb3dcb"
      }
     },
     "ba80eb76a5164e4c8b0d3f596c5d7cff": {
      "model_module": "@jupyter-widgets/base",
      "model_module_version": "1.2.0",
      "model_name": "LayoutModel",
      "state": {
       "width": "70px"
      }
     },
     "bdab72d24c4d48d3a6ce7d29cfdced1b": {
      "model_module": "@jupyter-widgets/controls",
      "model_module_version": "1.5.0",
      "model_name": "HTMLModel",
      "state": {
       "layout": "IPY_MODEL_78f3a41e14694cf79f815532d9453678",
       "style": "IPY_MODEL_a676bafedc004a8586d688912169a501",
       "value": "job has successfully run"
      }
     },
     "d852e24aea2a4f66a23874e4cfc86412": {
      "model_module": "@jupyter-widgets/base",
      "model_module_version": "1.2.0",
      "model_name": "LayoutModel",
      "state": {}
     },
     "db57edb33a4d4df098c8f0ab1dd81bc5": {
      "model_module": "@jupyter-widgets/controls",
      "model_module_version": "1.5.0",
      "model_name": "HBoxModel",
      "state": {
       "children": [
        "IPY_MODEL_fee86bd62415410680b8696051c07027",
        "IPY_MODEL_fe834b5e6a8c4fa781ca508184bb7a7c",
        "IPY_MODEL_3b9aeaa2c2d7497880139d7d267f96a0",
        "IPY_MODEL_7e13f5de3dbe4485873949ad7bcdddba",
        "IPY_MODEL_8955f11fd3204a82bfaf2134e0f7a840"
       ],
       "layout": "IPY_MODEL_f11d030aba8f4d2ba406edd3c472fb4d"
      }
     },
     "dcea7488f8be4a5baa4a25a2d309d7be": {
      "model_module": "@jupyter-widgets/base",
      "model_module_version": "1.2.0",
      "model_name": "LayoutModel",
      "state": {
       "grid_area": "right",
       "padding": "0px 0px 0px 0px",
       "width": "70px"
      }
     },
     "e2bff21b9be54dd294e6778b7639cd77": {
      "model_module": "@jupyter-widgets/controls",
      "model_module_version": "1.5.0",
      "model_name": "ButtonModel",
      "state": {
       "icon": "close",
       "layout": "IPY_MODEL_878c885122b94a9f954cebafffa67a07",
       "style": "IPY_MODEL_9edcc08d9d484462ac6b75b2243a973a"
      }
     },
     "e79e325b07d24b0ba35148c771fb3dcb": {
      "model_module": "@jupyter-widgets/controls",
      "model_module_version": "1.5.0",
      "model_name": "ButtonStyleModel",
      "state": {}
     },
     "e884c12810cb40b483ad920430b0806a": {
      "model_module": "@jupyter-widgets/controls",
      "model_module_version": "1.5.0",
      "model_name": "DescriptionStyleModel",
      "state": {
       "description_width": ""
      }
     },
     "eab4ce26abce4afebe4e49bc584e8dab": {
      "model_module": "@jupyter-widgets/controls",
      "model_module_version": "1.5.0",
      "model_name": "DescriptionStyleModel",
      "state": {
       "description_width": ""
      }
     },
     "eb86507e0d3e4e96a9cf2d2edf7760ae": {
      "model_module": "@jupyter-widgets/base",
      "model_module_version": "1.2.0",
      "model_name": "LayoutModel",
      "state": {
       "margin": "0px 0px 10px 0px"
      }
     },
     "f11d030aba8f4d2ba406edd3c472fb4d": {
      "model_module": "@jupyter-widgets/base",
      "model_module_version": "1.2.0",
      "model_name": "LayoutModel",
      "state": {
       "margin": "0px 0px 0px 37px",
       "width": "600px"
      }
     },
     "f65667d1f7b14e0d95e081fe2cf44c8a": {
      "model_module": "@jupyter-widgets/base",
      "model_module_version": "1.2.0",
      "model_name": "LayoutModel",
      "state": {
       "width": "95px"
      }
     },
     "fc2bab5396bd42b8b3345fd544b7ad3d": {
      "model_module": "@jupyter-widgets/controls",
      "model_module_version": "1.5.0",
      "model_name": "HTMLModel",
      "state": {
       "layout": "IPY_MODEL_eb86507e0d3e4e96a9cf2d2edf7760ae",
       "style": "IPY_MODEL_2244aef7c6264535868a006ef126fc5d",
       "value": "<p style='font-family: IBM Plex Sans, Arial, Helvetica, sans-serif; font-size: 20px; font-weight: medium;'>Circuit Properties</p>"
      }
     },
     "fe834b5e6a8c4fa781ca508184bb7a7c": {
      "model_module": "@jupyter-widgets/controls",
      "model_module_version": "1.5.0",
      "model_name": "HTMLModel",
      "state": {
       "layout": "IPY_MODEL_af263e9d63454bab9301c6c399d1aeb4",
       "style": "IPY_MODEL_e884c12810cb40b483ad920430b0806a",
       "value": "<h5>Backend</h5>"
      }
     },
     "fee86bd62415410680b8696051c07027": {
      "model_module": "@jupyter-widgets/controls",
      "model_module_version": "1.5.0",
      "model_name": "HTMLModel",
      "state": {
       "layout": "IPY_MODEL_1af6292353d749a394e90c40929027a8",
       "style": "IPY_MODEL_7b916402f4b744da82d57a105e1961b5",
       "value": "<h5>Job ID</h5>"
      }
     }
    },
    "version_major": 2,
    "version_minor": 0
   }
  }
 },
 "nbformat": 4,
 "nbformat_minor": 5
}
