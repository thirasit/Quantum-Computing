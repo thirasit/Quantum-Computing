{
 "cells": [
  {
   "cell_type": "markdown",
   "id": "a0423cf9-6dee-49c9-8617-2a8588e35291",
   "metadata": {
    "tags": []
   },
   "source": [
    "# **Monitoring and Optimizing Quantum Circuits**"
   ]
  },
  {
   "cell_type": "code",
   "execution_count": 1,
   "id": "b15b392b-2a07-4094-87e9-5a0d12bc0da9",
   "metadata": {},
   "outputs": [],
   "source": [
    "import numpy as np\n",
    "\n",
    "# Importing standard Qiskit libraries\n",
    "from qiskit import QuantumCircuit, transpile, Aer, IBMQ, execute\n",
    "from qiskit.tools.jupyter import *\n",
    "from qiskit.visualization import *\n",
    "from ibm_quantum_widgets import *\n",
    "from qiskit.providers.aer import QasmSimulator\n",
    "\n",
    "# Loading your IBM Quantum account(s)\n",
    "provider = IBMQ.load_account()"
   ]
  },
  {
   "cell_type": "markdown",
   "id": "1f48a7ac-7735-4758-b2d6-6577d8ccaa5c",
   "metadata": {},
   "source": [
    "## **Monitoring and Tracking Jobs**"
   ]
  },
  {
   "cell_type": "code",
   "execution_count": 2,
   "id": "8ad098e7-31f5-4e5a-89ec-918c7f1ff035",
   "metadata": {},
   "outputs": [],
   "source": [
    "# Import the Qiskit Jupyter tools \n",
    "from qiskit.tools import jupyter"
   ]
  },
  {
   "cell_type": "code",
   "execution_count": 3,
   "id": "d1fd03a6-96ce-4854-b89e-07bde3be8620",
   "metadata": {},
   "outputs": [
    {
     "data": {
      "application/vnd.jupyter.widget-view+json": {
       "model_id": "",
       "version_major": 2,
       "version_minor": 0
      },
      "text/plain": [
       "Accordion(children=(VBox(layout=Layout(max_width='710px', min_width='710px')),), layout=Layout(max_height='500…"
      ]
     },
     "metadata": {},
     "output_type": "display_data"
    },
    {
     "data": {
      "application/javascript": [
       "\n",
       "        const isLab = window['Jupyter'] === undefined;\n",
       "        const notebook = document.querySelector( isLab ? 'div.jp-Notebook' : '#site');\n",
       "        const jobWidget = document.querySelector('div.job_widget');\n",
       "        notebook.prepend(jobWidget);\n",
       "        jobWidget.style.zIndex = '999';\n",
       "        jobWidget.style.position = isLab ? 'sticky' : 'fixed';\n",
       "        jobWidget.style.boxShadow = '5px 5px 5px -3px black';\n",
       "        jobWidget.style.opacity = '0.95';\n",
       "        if (isLab) {\n",
       "            jobWidget.style.top = '0';\n",
       "            jobWidget.style.left = '0';\n",
       "        }\n",
       "        "
      ],
      "text/plain": [
       "<IPython.core.display.Javascript object>"
      ]
     },
     "metadata": {},
     "output_type": "display_data"
    }
   ],
   "source": [
    "# Initialize the job tracker to automatically track all jobs\n",
    "%qiskit_job_watcher"
   ]
  },
  {
   "cell_type": "code",
   "execution_count": 4,
   "id": "8ecd3061-fe2b-4616-aec7-2222f4b4a299",
   "metadata": {},
   "outputs": [],
   "source": [
    "# Let's run a simple circuit on the least busy quantum device \n",
    "# and check the job watcher widget.\n",
    "from qiskit.providers.ibmq import least_busy\n",
    "\n",
    "backend = least_busy(provider.backends(filters=lambda x: x.configuration().n_qubits >= (2) and \n",
    "                                       not x.configuration().simulator \n",
    "                                       and x.status().operational==True))\n",
    "\n",
    "#Create a simple circuit\n",
    "qc = QuantumCircuit(1)\n",
    "qc.h(0)\n",
    "qc.measure_all()\n",
    "#Execute the circuit on the backend\n",
    "job = execute(qc, backend)"
   ]
  },
  {
   "cell_type": "code",
   "execution_count": 5,
   "id": "dad9a3c1-5c9e-459c-ace3-297d37a27b6d",
   "metadata": {},
   "outputs": [],
   "source": [
    "#Disable the job watcher\n",
    "%qiskit_disable_job_watcher"
   ]
  },
  {
   "cell_type": "code",
   "execution_count": 6,
   "id": "b6d4b895-3778-469b-be44-664f842e7d8c",
   "metadata": {},
   "outputs": [
    {
     "data": {
      "application/vnd.jupyter.widget-view+json": {
       "model_id": "645705a7b3244cf9bf521a7f3b290caa",
       "version_major": 2,
       "version_minor": 0
      },
      "text/plain": [
       "VBox(children=(HTML(value=\"<h2 style ='color:#ffffff; background-color:#000000;padding-top: 1%; padding-bottom…"
      ]
     },
     "metadata": {},
     "output_type": "display_data"
    }
   ],
   "source": [
    "#Display the list of all available backends and provide \n",
    "#a brief overview of each \n",
    "%qiskit_backend_overview"
   ]
  },
  {
   "cell_type": "markdown",
   "id": "0a3b677f-eb9b-4479-b0d2-54cd0de82753",
   "metadata": {},
   "source": [
    "## **Transpiling a Circuit**"
   ]
  },
  {
   "cell_type": "code",
   "execution_count": 7,
   "id": "33ed7937-af07-483d-a420-90faa4b8a94d",
   "metadata": {},
   "outputs": [
    {
     "name": "stdout",
     "output_type": "stream",
     "text": [
      "['ALAPSchedule', 'ASAPSchedule', 'AlignMeasures', 'ApplyLayout', 'BIPMapping', 'BarrierBeforeFinalMeasurements', 'BasicSwap', 'BasisTranslator', 'CSPLayout', 'CXCancellation', 'CXDirection', 'CheckCXDirection', 'CheckGateDirection', 'CheckMap', 'Collect1qRuns', 'Collect2qBlocks', 'CollectMultiQBlocks', 'CommutationAnalysis', 'CommutativeCancellation', 'ConsolidateBlocks', 'ContainsInstruction', 'CountOps', 'CountOpsLongestPath', 'CrosstalkAdaptiveSchedule', 'DAGFixedPoint', 'DAGLongestPath', 'Decompose', 'DenseLayout', 'Depth', 'DynamicalDecoupling', 'EchoRZXWeylDecomposition', 'EnlargeWithAncilla', 'Error', 'FixedPoint', 'FullAncillaAllocation', 'GateDirection', 'GatesInBasis', 'HoareOptimizer', 'InverseCancellation', 'Layout2qDistance', 'LayoutTransformation', 'LookaheadSwap', 'MergeAdjacentBarriers', 'NoiseAdaptiveLayout', 'NumTensorFactors', 'Optimize1qGates', 'Optimize1qGatesDecomposition', 'Optimize1qGatesSimpleCommutation', 'OptimizeSwapBeforeMeasure', 'PulseGates', 'RZXCalibrationBuilder', 'RZXCalibrationBuilderNoEcho', 'RemoveBarriers', 'RemoveDiagonalGatesBeforeMeasure', 'RemoveFinalMeasurements', 'RemoveResetInZeroState', 'ResourceEstimation', 'SabreLayout', 'SabreSwap', 'SetLayout', 'Size', 'StochasticSwap', 'TemplateOptimization', 'TimeUnitConversion', 'TrivialLayout', 'UnitarySynthesis', 'Unroll3qOrMore', 'UnrollCustomDefinitions', 'Unroller', 'VF2Layout', 'ValidatePulseGates', 'Width', '__builtins__', '__cached__', '__doc__', '__file__', '__loader__', '__name__', '__package__', '__path__', '__spec__', 'analysis', 'basis', 'calibration', 'layout', 'optimization', 'routing', 'scheduling', 'synthesis', 'unitary_synthesis_plugin_names', 'utils']\n"
     ]
    }
   ],
   "source": [
    "# Import the transpiler passes object\n",
    "from qiskit.transpiler import passes\n",
    "# List out all the passes available\n",
    "print(dir(passes))"
   ]
  },
  {
   "cell_type": "code",
   "execution_count": 8,
   "id": "f6b55cb8-c429-4b75-b279-aacf61e8c5eb",
   "metadata": {},
   "outputs": [
    {
     "data": {
      "image/png": "[encoded data removed]",
      "text/plain": [
       "<Figure size 146.797x204.68 with 1 Axes>"
      ]
     },
     "execution_count": 8,
     "metadata": {},
     "output_type": "execute_result"
    }
   ],
   "source": [
    "#Basic Toffoli gate,\n",
    "qc = QuantumCircuit(3)\n",
    "qc.ccx(0,1,2)\n",
    "qc.draw()"
   ]
  },
  {
   "cell_type": "code",
   "execution_count": 9,
   "id": "c171aa3b-2e3d-448a-bead-86cdc18f86e0",
   "metadata": {},
   "outputs": [
    {
     "data": {
      "image/png": "[encoded data removed]",
      "text/plain": [
       "<Figure size 748.797x204.68 with 1 Axes>"
      ]
     },
     "execution_count": 9,
     "metadata": {},
     "output_type": "execute_result"
    }
   ],
   "source": [
    "qc_decomposed = qc.decompose()\n",
    "qc_decomposed.draw()"
   ]
  },
  {
   "cell_type": "code",
   "execution_count": 10,
   "id": "9adda9e4-f474-4570-9c91-60d9e883034c",
   "metadata": {},
   "outputs": [
    {
     "data": {
      "image/png": "[encoded data removed]",
      "text/plain": [
       "<Figure size 327.397x264.88 with 1 Axes>"
      ]
     },
     "execution_count": 10,
     "metadata": {},
     "output_type": "execute_result"
    }
   ],
   "source": [
    "#Basic circuit with a single and multi-qubit gates\n",
    "qc = QuantumCircuit(4)\n",
    "qc.h(0)\n",
    "qc.cx(0,1)\n",
    "qc.cx(0,2)\n",
    "qc.cx(0,3)\n",
    "qc.draw()"
   ]
  },
  {
   "cell_type": "code",
   "execution_count": 11,
   "id": "1da5123f-6a91-4cda-82ae-73fe2cdb797e",
   "metadata": {},
   "outputs": [
    {
     "name": "stdout",
     "output_type": "stream",
     "text": [
      "Initial circuit depth:  4\n",
      "Decomposed circuit depth:  11\n",
      "Initial circuit operation count:  OrderedDict([('cx', 3), ('h', 1)])\n",
      "Decomposed circuit operation count:  OrderedDict([('cx', 6), ('t', 4), ('tdg', 3), ('h', 2)])\n"
     ]
    }
   ],
   "source": [
    "#Print the depth of both inital and decomposed circuit\n",
    "print('Initial circuit depth: ', qc.depth())\n",
    "print('Decomposed circuit depth: ', qc_decomposed.depth())\n",
    "#Get the number of operators in initial circuit\n",
    "print('Initial circuit operation count: ', qc.count_ops())\n",
    "#Get the number of operators in decomposed circuit\n",
    "print('Decomposed circuit operation count: ', qc_decomposed.count_ops())"
   ]
  },
  {
   "cell_type": "markdown",
   "id": "8a73eb79-7d03-4704-8c40-392a29a21555",
   "metadata": {},
   "source": [
    "## **Configuration and Optimization**"
   ]
  },
  {
   "cell_type": "code",
   "execution_count": 12,
   "id": "a52eca13-6964-4e9a-b08c-175c2623de0f",
   "metadata": {},
   "outputs": [
    {
     "data": {
      "application/vnd.jupyter.widget-view+json": {
       "model_id": "f36148b4b069431e936189950fb37610",
       "version_major": 2,
       "version_minor": 0
      },
      "text/plain": [
       "VBox(children=(HTML(value=\"<h1 style='color:#ffffff;background-color:#000000;padding-top: 1%;padding-bottom: 1…"
      ]
     },
     "metadata": {},
     "output_type": "display_data"
    },
    {
     "data": {
      "text/plain": [
       "<IBMQBackend('ibmq_santiago') from IBMQ(hub='ibm-q', group='open', project='main')>"
      ]
     },
     "execution_count": 12,
     "metadata": {},
     "output_type": "execute_result"
    }
   ],
   "source": [
    "# Get the backend device: ibmq_santiago \n",
    "backend_santiago = provider.get_backend('ibmq_santiago')\n",
    "# Launch backend viewer of ibmq_santiago\n",
    "backend_santiago"
   ]
  },
  {
   "cell_type": "code",
   "execution_count": 14,
   "id": "ec0b71a3-7503-42f4-ae60-036062782db1",
   "metadata": {},
   "outputs": [
    {
     "data": {
      "application/vnd.jupyter.widget-view+json": {
       "model_id": "6aea6a99b29d41d3802d0aa1091c9a21",
       "version_major": 2,
       "version_minor": 0
      },
      "text/plain": [
       "VBox(children=(HTML(value=\"<h1 style='color:#ffffff;background-color:#000000;padding-top: 1%;padding-bottom: 1…"
      ]
     },
     "metadata": {},
     "output_type": "display_data"
    },
    {
     "data": {
      "text/plain": [
       "<IBMQBackend('ibmq_lima') from IBMQ(hub='ibm-q', group='open', project='main')>"
      ]
     },
     "execution_count": 14,
     "metadata": {},
     "output_type": "execute_result"
    }
   ],
   "source": [
    "# Get the backend device: ibmq_lima\n",
    "backend_lima = provider.get_backend('ibmq_lima')\n",
    "# Launch backend viewer of ibmq_lima\n",
    "backend_lima"
   ]
  },
  {
   "cell_type": "code",
   "execution_count": 15,
   "id": "6230de77-1c02-4e9d-ae74-7afc01b84343",
   "metadata": {},
   "outputs": [
    {
     "data": {
      "image/png": "[encoded data removed]",
      "text/plain": [
       "<Figure size 360x360 with 1 Axes>"
      ]
     },
     "execution_count": 15,
     "metadata": {},
     "output_type": "execute_result"
    }
   ],
   "source": [
    "# Visualize the coupling directional map between the qubits \n",
    "plot_gate_map(backend_santiago, plot_directed=True)"
   ]
  },
  {
   "cell_type": "code",
   "execution_count": 17,
   "id": "b527907c-2f00-4d68-bab4-697528823168",
   "metadata": {},
   "outputs": [
    {
     "data": {
      "image/png": "[encoded data removed]",
      "text/plain": [
       "<Figure size 360x360 with 1 Axes>"
      ]
     },
     "execution_count": 17,
     "metadata": {},
     "output_type": "execute_result"
    }
   ],
   "source": [
    "# Visualize the coupling directional map between the qubits \n",
    "plot_gate_map(backend_lima, plot_directed=True)"
   ]
  },
  {
   "cell_type": "code",
   "execution_count": 18,
   "id": "8c577ea9-c6f9-4729-b1ad-3511c92e4513",
   "metadata": {},
   "outputs": [
    {
     "data": {
      "image/png": "[encoded data removed]",
      "text/plain": [
       "<Figure size 327.397x264.88 with 1 Axes>"
      ]
     },
     "execution_count": 18,
     "metadata": {},
     "output_type": "execute_result"
    }
   ],
   "source": [
    "# Quantum circuit with a single and multi-qubit gates\n",
    "qc = QuantumCircuit(4)\n",
    "qc.h(0)\n",
    "qc.cx(0,1)\n",
    "qc.cx(0,2)\n",
    "qc.cx(0,3)\n",
    "qc.draw()"
   ]
  },
  {
   "cell_type": "code",
   "execution_count": 19,
   "id": "83c02bfc-567c-4726-b67e-d3f34bb41c94",
   "metadata": {},
   "outputs": [
    {
     "name": "stdout",
     "output_type": "stream",
     "text": [
      "Depth: 12\n"
     ]
    },
    {
     "data": {
      "image/png": "[encoded data removed]",
      "text/plain": [
       "<Figure size 360x360 with 1 Axes>"
      ]
     },
     "execution_count": 19,
     "metadata": {},
     "output_type": "execute_result"
    }
   ],
   "source": [
    "# Transpile the circuit with an optimization level = 0\n",
    "qc_santiago_0 = transpile(qc, backend_santiago, \n",
    "seed_transpiler=10258, optimization_level=0)\n",
    "# Print out the depth of the circuit\n",
    "print('Depth:', qc_santiago_0.depth())\n",
    "# Plot the resulting layout of the quantum circuit after Layout\n",
    "plot_circuit_layout(qc_santiago_0, backend_santiago)"
   ]
  },
  {
   "cell_type": "code",
   "execution_count": 20,
   "id": "159c572d-5105-48e0-8ac2-a041bde96c2a",
   "metadata": {},
   "outputs": [
    {
     "data": {
      "image/png": "[encoded data removed]",
      "text/plain": [
       "<Figure size 901.44x325.08 with 1 Axes>"
      ]
     },
     "execution_count": 20,
     "metadata": {},
     "output_type": "execute_result"
    }
   ],
   "source": [
    "# Draw the transpiled circuit pertaining to Santiago\n",
    "qc_santiago_0.draw()"
   ]
  },
  {
   "cell_type": "code",
   "execution_count": 21,
   "id": "6b59c9a0-2bca-49ad-b09c-07fb69e4f0fc",
   "metadata": {},
   "outputs": [
    {
     "name": "stdout",
     "output_type": "stream",
     "text": [
      "Depth: 12\n"
     ]
    },
    {
     "data": {
      "image/png": "[encoded data removed]",
      "text/plain": [
       "<Figure size 360x360 with 1 Axes>"
      ]
     },
     "execution_count": 21,
     "metadata": {},
     "output_type": "execute_result"
    }
   ],
   "source": [
    "# View the transpiled circuit with an optimization level = 0\n",
    "qc_lima_0 = transpile(qc, backend_lima, seed_transpiler=10258, optimization_level=0)\n",
    "print('Depth:', qc_lima_0.depth())\n",
    "plot_circuit_layout(qc_lima_0, backend_lima)"
   ]
  },
  {
   "cell_type": "code",
   "execution_count": 22,
   "id": "2a1d89f3-cf0d-4633-b9a2-7ccd3872865b",
   "metadata": {},
   "outputs": [
    {
     "data": {
      "image/png": "[encoded data removed]",
      "text/plain": [
       "<Figure size 901.44x325.08 with 1 Axes>"
      ]
     },
     "execution_count": 22,
     "metadata": {},
     "output_type": "execute_result"
    }
   ],
   "source": [
    "# Draw the transpiled circuit pertaining to Lima\n",
    "qc_lima_0.draw()"
   ]
  },
  {
   "cell_type": "code",
   "execution_count": 23,
   "id": "c9f4766d-cae3-4561-8fce-aa22322228e4",
   "metadata": {},
   "outputs": [
    {
     "name": "stdout",
     "output_type": "stream",
     "text": [
      "Depth: 8\n",
      "Ops count:  OrderedDict([('cx', 6), ('rz', 2), ('sx', 1)])\n"
     ]
    },
    {
     "data": {
      "image/png": "[encoded data removed]",
      "text/plain": [
       "<Figure size 360x360 with 1 Axes>"
      ]
     },
     "execution_count": 23,
     "metadata": {},
     "output_type": "execute_result"
    }
   ],
   "source": [
    "# Transpile the circuit with the optimization level = 3\n",
    "qc_transpiled_santiago = transpile(qc, backend_santiago, optimization_level=3)\n",
    "# Print the depth of the transpiled circuit\n",
    "print('Depth:', qc_transpiled_santiago.depth())\n",
    "# Print the number of operations of the transpiled circuit\n",
    "print('Ops count: ', qc_transpiled_santiago.count_ops())\n",
    "# Plot the layout mapping of the transpiled circuit\n",
    "plot_circuit_layout(qc_transpiled_santiago, backend_santiago)"
   ]
  },
  {
   "cell_type": "code",
   "execution_count": 24,
   "id": "f920774d-1b50-4d29-84dc-d2ae32090851",
   "metadata": {},
   "outputs": [
    {
     "data": {
      "image/png": "[encoded data removed]",
      "text/plain": [
       "<Figure size 660.64x325.08 with 1 Axes>"
      ]
     },
     "execution_count": 24,
     "metadata": {},
     "output_type": "execute_result"
    }
   ],
   "source": [
    "# Redraw the transpiled circuit at new level\n",
    "qc_transpiled_santiago.draw()"
   ]
  },
  {
   "cell_type": "code",
   "execution_count": 25,
   "id": "06c1c5c6-0499-44c9-8cf9-857881968d42",
   "metadata": {},
   "outputs": [
    {
     "name": "stdout",
     "output_type": "stream",
     "text": [
      "Depth: 6\n",
      "Ops count:  OrderedDict([('cx', 3), ('rz', 2), ('sx', 1)])\n"
     ]
    },
    {
     "data": {
      "image/png": "[encoded data removed]",
      "text/plain": [
       "<Figure size 360x360 with 1 Axes>"
      ]
     },
     "execution_count": 25,
     "metadata": {},
     "output_type": "execute_result"
    }
   ],
   "source": [
    "# Transpile the quantum circuit with the optimization level = 3\n",
    "qc_transpiled_lima = transpile(qc, backend_lima, optimization_level=3)\n",
    "# Get the depth and operation count of the transpiled circuit. \n",
    "print('Depth:', qc_transpiled_lima.depth())\n",
    "print('Ops count: ', qc_transpiled_lima.count_ops())\n",
    "# Print the circuit layout\n",
    "plot_circuit_layout(qc_transpiled_lima, backend_lima)"
   ]
  },
  {
   "cell_type": "code",
   "execution_count": 27,
   "id": "b6f2ad71-4af1-4865-9320-781434bcc91f",
   "metadata": {},
   "outputs": [
    {
     "data": {
      "application/vnd.jupyter.widget-view+json": {
       "model_id": "3babcff1f1224c5aa3b62431764ee453",
       "version_major": 2,
       "version_minor": 0
      },
      "text/plain": [
       "VBox(children=(HTML(value=\"<h1 style='color:#ffffff;background-color:#000000;padding-top: 1%;padding-bottom: 1…"
      ]
     },
     "metadata": {},
     "output_type": "display_data"
    },
    {
     "data": {
      "text/plain": [
       "<IBMQBackend('ibmq_quito') from IBMQ(hub='ibm-q', group='open', project='main')>"
      ]
     },
     "execution_count": 27,
     "metadata": {},
     "output_type": "execute_result"
    }
   ],
   "source": [
    "# View the ibmq_quito backend device configuration and properties\n",
    "backend = provider.get_backend('ibmq_quito')\n",
    "backend"
   ]
  },
  {
   "cell_type": "code",
   "execution_count": 28,
   "id": "78bb61ca-364c-4ef9-a3f8-4a7e31636409",
   "metadata": {},
   "outputs": [
    {
     "data": {
      "text/plain": [
       "[[0, 1], [1, 0], [1, 2], [1, 3], [2, 1], [3, 1], [3, 4], [4, 3]]"
      ]
     },
     "execution_count": 28,
     "metadata": {},
     "output_type": "execute_result"
    }
   ],
   "source": [
    "# View the backend coupling map, displayed as CNOTs (Control-Target)\n",
    "backend = provider.get_backend('ibmq_quito')\n",
    "# Extract the coupling map from the backend\n",
    "ibmqquito_coupling_map = backend.configuration().coupling_map\n",
    "# List out the extracted coupling map\n",
    "ibmqquito_coupling_map"
   ]
  },
  {
   "cell_type": "code",
   "execution_count": 29,
   "id": "6d24f754-b157-4e0e-bb43-160585a8fca3",
   "metadata": {},
   "outputs": [
    {
     "data": {
      "image/png": "[encoded data removed]",
      "text/plain": [
       "<Figure size 480.04x325.08 with 1 Axes>"
      ]
     },
     "execution_count": 29,
     "metadata": {},
     "output_type": "execute_result"
    }
   ],
   "source": [
    "# Transpile a custom circuit using only the coupling map. \n",
    "# Set the backend to ‘None’ so it will force using the coupling map provided.\n",
    "qc_custom = transpile(qc, backend=None, \n",
    "coupling_map=ibmqquito_coupling_map)\n",
    "# Draw the resulting custom topology circuit.\n",
    "qc_custom.draw()"
   ]
  },
  {
   "cell_type": "code",
   "execution_count": 30,
   "id": "55daa358-718c-49f7-be1f-86ca33b8846c",
   "metadata": {},
   "outputs": [
    {
     "data": {
      "image/png": "[encoded data removed]",
      "text/plain": [
       "<Figure size 901.44x325.08 with 1 Axes>"
      ]
     },
     "execution_count": 30,
     "metadata": {},
     "output_type": "execute_result"
    }
   ],
   "source": [
    "# Create our own coupling map (custom topology)\n",
    "custom_linear_topology = [[0,1],[1,2],[2,3],[3,4]]\n",
    "# Set the coupling map to our custom linear topology\n",
    "qc_custom = transpile(qc, backend=None, coupling_map=custom_linear_topology)\n",
    "# Draw the resulting circuit.\n",
    "qc_custom.draw()"
   ]
  },
  {
   "cell_type": "code",
   "execution_count": 31,
   "id": "c824e964-eac1-46ee-bc84-31eb390a4ed0",
   "metadata": {},
   "outputs": [
    {
     "data": {
      "image/png": "[encoded data removed]",
      "text/plain": [
       "<Figure size 365.329x264.88 with 1 Axes>"
      ]
     },
     "execution_count": 31,
     "metadata": {},
     "output_type": "execute_result"
    }
   ],
   "source": [
    "# Import the PassManager and a few Passes\n",
    "from qiskit.transpiler import PassManager, CouplingMap\n",
    "from qiskit.transpiler.passes import TrivialLayout, BasicSwap\n",
    "# Create a TrivialLayout based on the ibmqx2 coupling map\n",
    "trivial = TrivialLayout(CouplingMap(ibmqquito_coupling_map))\n",
    "\n",
    "pm = PassManager()\n",
    "# Append the TrivialLayout to the PassManager\n",
    "pm.append(trivial)\n",
    "# Run the PassManager and draw the resulting circuit\n",
    "tv_qc = pm.run(qc)\n",
    "tv_qc.draw()"
   ]
  },
  {
   "cell_type": "code",
   "execution_count": 32,
   "id": "c68b86dc-2013-4cd6-a231-030d119f6b72",
   "metadata": {},
   "outputs": [
    {
     "data": {
      "image/png": "[encoded data removed]",
      "text/plain": [
       "<Figure size 387.597x264.88 with 1 Axes>"
      ]
     },
     "execution_count": 32,
     "metadata": {},
     "output_type": "execute_result"
    }
   ],
   "source": [
    "# Create a BasicSwap based on the ibmq_quito coupling map we used earlier\n",
    "basic_swap = BasicSwap(CouplingMap(ibmqquito_coupling_map))\n",
    "#Add the BasicSwap to the PassManager\n",
    "pm = PassManager(basic_swap)\n",
    "# Run the PassManager and draw the results\n",
    "new_qc = pm.run(qc)\n",
    "new_qc.draw()"
   ]
  },
  {
   "cell_type": "code",
   "execution_count": 33,
   "id": "579cbddf-136a-4da8-8953-041bfa3df764",
   "metadata": {},
   "outputs": [
    {
     "data": {
      "image/png": "[encoded data removed]",
      "text/plain": [
       "<Figure size 899.479x325.08 with 1 Axes>"
      ]
     },
     "execution_count": 33,
     "metadata": {},
     "output_type": "execute_result"
    }
   ],
   "source": [
    "# Sample quantum circuit \n",
    "qc = QuantumCircuit(4)\n",
    "qc.h(0)\n",
    "qc.cx(0,1)\n",
    "qc.barrier()\n",
    "qc.cx(0,2)\n",
    "qc.cx(0,3)\n",
    "qc.barrier()\n",
    "qc.cz(3,0)\n",
    "qc.h(0)\n",
    "qc.measure_all()\n",
    "# Draw the circuit using the default renderer\n",
    "qc.draw()"
   ]
  },
  {
   "cell_type": "code",
   "execution_count": null,
   "id": "90bc3b81-230a-474e-8d53-5d79cc9e5cc9",
   "metadata": {},
   "outputs": [],
   "source": [
    "qc.draw('latex')"
   ]
  },
  {
   "cell_type": "code",
   "execution_count": null,
   "id": "57738794-aea7-401c-8904-1729743ed29d",
   "metadata": {},
   "outputs": [],
   "source": []
  }
 ],
 "metadata": {
  "kernelspec": {
   "display_name": "Qiskit v0.34.1 (ipykernel)",
   "language": "python",
   "name": "python3"
  },
  "language_info": {
   "codemirror_mode": {
    "name": "ipython",
    "version": 3
   },
   "file_extension": ".py",
   "mimetype": "text/x-python",
   "name": "python",
   "nbconvert_exporter": "python",
   "pygments_lexer": "ipython3",
   "version": "3.8.12"
  },
  "widgets": {
   "application/vnd.jupyter.widget-state+json": {
    "state": {
     "003420ee64014cf9bf57d6a773442941": {
      "model_module": "@jupyter-widgets/controls",
      "model_module_version": "1.5.0",
      "model_name": "DescriptionStyleModel",
      "state": {
       "description_width": ""
      }
     },
     "012ceebf55a64592b72b2595030106cf": {
      "model_module": "@jupyter-widgets/controls",
      "model_module_version": "1.5.0",
      "model_name": "HBoxModel",
      "state": {
       "children": [
        "IPY_MODEL_402c6ac06e1e414086d11120bacb1c35",
        "IPY_MODEL_791ee49dcfec4809b3263fd1a118e603",
        "IPY_MODEL_880555ef9c1d48e18c9b2b39fdfefb60"
       ],
       "layout": "IPY_MODEL_cbad550226cd4d33ba86f68cce64f24c"
      }
     },
     "0163904d213c4b6bb6be3c336b7986ec": {
      "model_module": "@jupyter-widgets/controls",
      "model_module_version": "1.5.0",
      "model_name": "VBoxModel",
      "state": {
       "children": [
        "IPY_MODEL_8e334f2442be4803aac9397a43abe22f",
        "IPY_MODEL_41740df99f5e4d0ebd9d314053b92a5d",
        "IPY_MODEL_890d61b251f543e4ad9ec1926e124b05"
       ],
       "layout": "IPY_MODEL_189ead82f50c4a6789956eeb97bc9b9c"
      }
     },
     "01e2016bcfdb410eabedfe260e18663f": {
      "model_module": "@jupyter-widgets/output",
      "model_module_version": "1.0.0",
      "model_name": "OutputModel",
      "state": {
       "layout": "IPY_MODEL_14297fd1645f468491215f27b734c7b6",
       "outputs": [
        {
         "data": {
          "image/png": "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\n",
          "text/plain": "<Figure size 360x360 with 1 Axes>"
         },
         "metadata": {},
         "output_type": "display_data"
        }
       ]
      }
     },
     "028045eee44948c0b83bb6b1004f08be": {
      "model_module": "@jupyter-widgets/controls",
      "model_module_version": "1.5.0",
      "model_name": "LabelModel",
      "state": {
       "layout": "IPY_MODEL_674508ecb6284030959071f2b5c4af40",
       "style": "IPY_MODEL_f0b40bed4225400482228e7d73dc7bf0",
       "value": "Avg. T1 / T2"
      }
     },
     "029c9dc759054e2891e9ad175af65a0a": {
      "model_module": "@jupyter-widgets/controls",
      "model_module_version": "1.5.0",
      "model_name": "HTMLModel",
      "state": {
       "layout": "IPY_MODEL_8eec6811a4c6444585c14ca788795801",
       "style": "IPY_MODEL_1e46dd55c5c241e4aa1c57b28a398414",
       "value": "<h1 style='color:#ffffff;background-color:#000000;padding-top: 1%;padding-bottom: 1%;padding-left: 1%; margin-top: 0px'>ibmq_quito</h1>"
      }
     },
     "02f6cae67ad54168ba2bcfbee1090e78": {
      "model_module": "@jupyter-widgets/controls",
      "model_module_version": "1.5.0",
      "model_name": "DescriptionStyleModel",
      "state": {
       "description_width": ""
      }
     },
     "034295e27cd349ec92b828480f4d2cf6": {
      "model_module": "@jupyter-widgets/controls",
      "model_module_version": "1.5.0",
      "model_name": "HTMLModel",
      "state": {
       "layout": "IPY_MODEL_7204cea15ae443f4a466f1fced39de4e",
       "style": "IPY_MODEL_5076504c66c443818c2e20fe0ac15100",
       "value": "<h5>32</h5>"
      }
     },
     "034a06c71a9d4f13b0c100b5f26fd3ae": {
      "model_module": "@jupyter-widgets/controls",
      "model_module_version": "1.5.0",
      "model_name": "IntProgressModel",
      "state": {
       "layout": "IPY_MODEL_cd92e5e79e8541769a413195df905907",
       "max": 50,
       "style": "IPY_MODEL_2ffcb7443d71407bbf000ec60097a546",
       "value": 4
      }
     },
     "038eab2899594983b9bdf94f3839646f": {
      "model_module": "@jupyter-widgets/base",
      "model_module_version": "1.2.0",
      "model_name": "LayoutModel",
      "state": {
       "min_width": "auto"
      }
     },
     "03ee2816803e4bf9be392b050f2d484b": {
      "model_module": "@jupyter-widgets/controls",
      "model_module_version": "1.5.0",
      "model_name": "VBoxModel",
      "state": {
       "children": [
        "IPY_MODEL_8280e046b9b34f47bd04fa25376a3ada",
        "IPY_MODEL_30cbe123689e4aa39f989ef03a9812a5",
        "IPY_MODEL_3b8ed463e3044dd789aa7d0230bc5d10",
        "IPY_MODEL_39afec7e85954e59a09897eb2e0edd92",
        "IPY_MODEL_98816c1ba1d944b7af5acdd37276f888",
        "IPY_MODEL_5445f03f26f04dd5a6db16b74b5c4053",
        "IPY_MODEL_12bce680faaf468c8f96f2f008f611d7",
        "IPY_MODEL_d81b32c536594dff826a7906ae8f134f",
        "IPY_MODEL_ee9136b8ec44434cba5280f06d429341",
        "IPY_MODEL_0c8502f50cb04bdda4be75921b5c77e4"
       ],
       "layout": "IPY_MODEL_4d8ac383a76e433c8f5e37e6359afd65"
      }
     },
     "049d687b67c54a4385f868fffbb0095f": {
      "model_module": "@jupyter-widgets/controls",
      "model_module_version": "1.5.0",
      "model_name": "HTMLModel",
      "state": {
       "layout": "IPY_MODEL_2a18ee79733a47fb8e17d7642616f4b4",
       "style": "IPY_MODEL_850f3aab1e064ebd918ff792bbac3c2b",
       "value": "QUEUED"
      }
     },
     "05261be22ff0444184ab1e142a743d77": {
      "model_module": "@jupyter-widgets/controls",
      "model_module_version": "1.5.0",
      "model_name": "HTMLModel",
      "state": {
       "layout": "IPY_MODEL_d5ca346c9eb54856a3882c52b74870a2",
       "style": "IPY_MODEL_f21d8e85f765414cb688d85300a9ef36",
       "value": "<h5><b>5</b></h5>"
      }
     },
     "0699cc8ba4b5443d9d9bbc47236d3d9f": {
      "model_module": "@jupyter-widgets/base",
      "model_module_version": "1.2.0",
      "model_name": "LayoutModel",
      "state": {
       "grid_area": "top"
      }
     },
     "07469aa9ce3f45da906cd3a66e41554f": {
      "model_module": "@jupyter-widgets/controls",
      "model_module_version": "1.5.0",
      "model_name": "LabelModel",
      "state": {
       "layout": "IPY_MODEL_65fb35d24f3f42cfae63155539c1e8e6",
       "style": "IPY_MODEL_f5a5dc286ca14d6ea94c7cc87bd683fd",
       "value": "35"
      }
     },
     "087c6474ce7c4151a50aea636b60f71a": {
      "model_module": "@jupyter-widgets/base",
      "model_module_version": "1.2.0",
      "model_name": "LayoutModel",
      "state": {
       "grid_area": "left"
      }
     },
     "08d8d3ff05c940a6b85c7b2f21e095a9": {
      "model_module": "@jupyter-widgets/controls",
      "model_module_version": "1.5.0",
      "model_name": "DescriptionStyleModel",
      "state": {
       "description_width": ""
      }
     },
     "090742c2ccb5478f8ecf5ed927d37d28": {
      "model_module": "@jupyter-widgets/base",
      "model_module_version": "1.2.0",
      "model_name": "LayoutModel",
      "state": {}
     },
     "095948eef10d456aa8c0dae1a94e7b04": {
      "model_module": "@jupyter-widgets/controls",
      "model_module_version": "1.5.0",
      "model_name": "DescriptionStyleModel",
      "state": {
       "description_width": ""
      }
     },
     "095e8d7dc24b489e86128a916bbc4cde": {
      "model_module": "@jupyter-widgets/base",
      "model_module_version": "1.2.0",
      "model_name": "LayoutModel",
      "state": {
       "align_items": "center",
       "justify_content": "center",
       "margin": "0px 0px 0px 0px",
       "max_height": "250px",
       "max_width": "250px",
       "min_height": "250px",
       "min_width": "250px"
      }
     },
     "098391245b0a431eabd60d2da3e51d13": {
      "model_module": "@jupyter-widgets/controls",
      "model_module_version": "1.5.0",
      "model_name": "DescriptionStyleModel",
      "state": {
       "description_width": ""
      }
     },
     "09d0a5cdaf38484887b861d6114807a4": {
      "model_module": "@jupyter-widgets/controls",
      "model_module_version": "1.5.0",
      "model_name": "DescriptionStyleModel",
      "state": {
       "description_width": ""
      }
     },
     "0ae54a179b12413da9f552da990fee49": {
      "model_module": "@jupyter-widgets/controls",
      "model_module_version": "1.5.0",
      "model_name": "HTMLModel",
      "state": {
       "layout": "IPY_MODEL_0d6638a84f6d4fde80266d33c88f1bb8",
       "style": "IPY_MODEL_30fb1e88214c424cbba4091258a7e24a",
       "value": "<h5>77.5 / 101.6 us</h5>"
      }
     },
     "0c4ccf05f9ec45c6915862a76913e1c4": {
      "model_module": "@jupyter-widgets/controls",
      "model_module_version": "1.5.0",
      "model_name": "LabelModel",
      "state": {
       "layout": "IPY_MODEL_45483ec5bccc43a4829cad084e0b6690",
       "style": "IPY_MODEL_e891cd3d2d4148d9b8ff778559f04d88",
       "value": "50"
      }
     },
     "0c8502f50cb04bdda4be75921b5c77e4": {
      "model_module": "@jupyter-widgets/controls",
      "model_module_version": "1.5.0",
      "model_name": "HTMLModel",
      "state": {
       "layout": "IPY_MODEL_7e0438c7c9c44c2481f547b6a18f1891",
       "style": "IPY_MODEL_3d2d0f3135c444d494da212fbb8b4ca6",
       "value": "<h5>0.027</h5>"
      }
     },
     "0cb89ec4d629469f9846f8baf595dac5": {
      "model_module": "@jupyter-widgets/controls",
      "model_module_version": "1.5.0",
      "model_name": "DescriptionStyleModel",
      "state": {
       "description_width": ""
      }
     },
     "0ce38ede0b864d17b9359e14c7b3d8ba": {
      "model_module": "@jupyter-widgets/controls",
      "model_module_version": "1.5.0",
      "model_name": "HBoxModel",
      "state": {
       "children": [
        "IPY_MODEL_07469aa9ce3f45da906cd3a66e41554f",
        "IPY_MODEL_b525be75300a49aaa247141301157367",
        "IPY_MODEL_12b825ac8a29465c8640b0fcc3f3053b"
       ],
       "layout": "IPY_MODEL_ac3e2674a0754d5699bc7e36c1d2850a"
      }
     },
     "0d44a717c4124e838c4fb9192ed06450": {
      "model_module": "@jupyter-widgets/controls",
      "model_module_version": "1.5.0",
      "model_name": "DescriptionStyleModel",
      "state": {
       "description_width": ""
      }
     },
     "0d452460e27649cd8d072d8beac352ce": {
      "model_module": "@jupyter-widgets/controls",
      "model_module_version": "1.5.0",
      "model_name": "DescriptionStyleModel",
      "state": {
       "description_width": ""
      }
     },
     "0d6638a84f6d4fde80266d33c88f1bb8": {
      "model_module": "@jupyter-widgets/base",
      "model_module_version": "1.2.0",
      "model_name": "LayoutModel",
      "state": {}
     },
     "0e2388956ebe477591bbf1a4b605bfc3": {
      "model_module": "@jupyter-widgets/controls",
      "model_module_version": "1.5.0",
      "model_name": "DescriptionStyleModel",
      "state": {
       "description_width": ""
      }
     },
     "0e5530300bfe47409d8457ca5f5efabf": {
      "model_module": "@jupyter-widgets/base",
      "model_module_version": "1.2.0",
      "model_name": "LayoutModel",
      "state": {}
     },
     "0ed9dbeb99e64526ab37d83092f2ecae": {
      "model_module": "@jupyter-widgets/base",
      "model_module_version": "1.2.0",
      "model_name": "LayoutModel",
      "state": {
       "align_items": "center",
       "display": "inline-flex",
       "flex_flow": "column"
      }
     },
     "0eebb9bc80804a1582d952c06a363f7c": {
      "model_module": "@jupyter-widgets/controls",
      "model_module_version": "1.5.0",
      "model_name": "DescriptionStyleModel",
      "state": {
       "description_width": ""
      }
     },
     "0f45f255792e4ab2b02bfd2193545a0d": {
      "model_module": "@jupyter-widgets/controls",
      "model_module_version": "1.5.0",
      "model_name": "LabelModel",
      "state": {
       "layout": "IPY_MODEL_f722969afa84473ba4cb5afe986db35b",
       "style": "IPY_MODEL_a76b706f295044afb8ea7225cca8967e",
       "value": "Avg. Meas. Err."
      }
     },
     "0f4d05b4fb074693b1f97f4985379b33": {
      "model_module": "@jupyter-widgets/controls",
      "model_module_version": "1.5.0",
      "model_name": "DescriptionStyleModel",
      "state": {
       "description_width": ""
      }
     },
     "1009e60fb78845738159d5064450f61f": {
      "model_module": "@jupyter-widgets/controls",
      "model_module_version": "1.5.0",
      "model_name": "DescriptionStyleModel",
      "state": {
       "description_width": ""
      }
     },
     "10d8c5953c6d4e369c19ed7474dca68c": {
      "model_module": "@jupyter-widgets/base",
      "model_module_version": "1.2.0",
      "model_name": "LayoutModel",
      "state": {
       "grid_gap": "0px 0px",
       "grid_template_areas": "\n                               \"left right right right\"\n                               \"bottom bottom bottom bottom\"\n                               ",
       "grid_template_columns": "31% 23% 23% 23%",
       "grid_template_rows": "auto auto"
      }
     },
     "110a918b3bdf45bbbf24beed9fe9d083": {
      "model_module": "@jupyter-widgets/controls",
      "model_module_version": "1.5.0",
      "model_name": "HTMLModel",
      "state": {
       "layout": "IPY_MODEL_44d1982b04694c589383687a479d51ca",
       "style": "IPY_MODEL_cb014fba4dd34a88bd88f302d8e486b3",
       "value": "<h5>8</h5>"
      }
     },
     "11496364f10c45ca93e8a63575a4bd53": {
      "model_module": "@jupyter-widgets/controls",
      "model_module_version": "1.5.0",
      "model_name": "DescriptionStyleModel",
      "state": {
       "description_width": ""
      }
     },
     "118f0d36afdb486188aa5d4cc7be8573": {
      "model_module": "@jupyter-widgets/controls",
      "model_module_version": "1.5.0",
      "model_name": "DescriptionStyleModel",
      "state": {
       "description_width": ""
      }
     },
     "1292a58a311f4d75ac00e460510e6c08": {
      "model_module": "@jupyter-widgets/base",
      "model_module_version": "1.2.0",
      "model_name": "LayoutModel",
      "state": {
       "justify_content": "center"
      }
     },
     "12b825ac8a29465c8640b0fcc3f3053b": {
      "model_module": "@jupyter-widgets/controls",
      "model_module_version": "1.5.0",
      "model_name": "LabelModel",
      "state": {
       "layout": "IPY_MODEL_ad3850b58e144fbfb09f84620766a30a",
       "style": "IPY_MODEL_195ce0c3437a4ccf9ab3804495f24b96",
       "value": "50"
      }
     },
     "12bce680faaf468c8f96f2f008f611d7": {
      "model_module": "@jupyter-widgets/controls",
      "model_module_version": "1.5.0",
      "model_name": "HTMLModel",
      "state": {
       "layout": "IPY_MODEL_b09a21c0963e4803a943b67f7ed11e1a",
       "style": "IPY_MODEL_2d8f5d4c667a4a339f4c7a62b7aff1e1",
       "value": "<h5 style='color:#dc267f'>False</h5>"
      }
     },
     "133c18f47e4343ef9981bef6a67cef1a": {
      "model_module": "@jupyter-widgets/controls",
      "model_module_version": "1.5.0",
      "model_name": "DescriptionStyleModel",
      "state": {
       "description_width": ""
      }
     },
     "133e3086fae64e98b4ef48b5fe11f927": {
      "model_module": "@jupyter-widgets/controls",
      "model_module_version": "1.5.0",
      "model_name": "VBoxModel",
      "state": {
       "children": [
        "IPY_MODEL_bcb21403a56540b1b0d4d39f639ae34c",
        "IPY_MODEL_b2132ffb154244e19273d13f5b963d83",
        "IPY_MODEL_228b5ff7d9dc4cce94dc9762bdbec077",
        "IPY_MODEL_c8e969fc7acf47019e2c5f0f1c43aa20",
        "IPY_MODEL_0ce38ede0b864d17b9359e14c7b3d8ba",
        "IPY_MODEL_f046673c968f4b4fb69cf7047a6247c2",
        "IPY_MODEL_7184b8215b9743c7ba70dd5ccabc9047",
        "IPY_MODEL_8fcf281ca32c4e6994a7c41d679f9f94",
        "IPY_MODEL_a60f5a93329b4c6daf00acfe4b63ca84",
        "IPY_MODEL_c7ecc956dc5b4428883f8791edfd5b36"
       ],
       "layout": "IPY_MODEL_aa99e9e58771416a83fbccc04636e95d"
      }
     },
     "13c6a231f8d641c6ae8673dbf5ca2473": {
      "model_module": "@jupyter-widgets/base",
      "model_module_version": "1.2.0",
      "model_name": "LayoutModel",
      "state": {
       "align_items": "center",
       "justify_content": "center",
       "margin": "0px 0px 0px 0px",
       "max_height": "250px",
       "max_width": "250px",
       "min_height": "250px",
       "min_width": "250px"
      }
     },
     "14297fd1645f468491215f27b734c7b6": {
      "model_module": "@jupyter-widgets/base",
      "model_module_version": "1.2.0",
      "model_name": "LayoutModel",
      "state": {
       "align_items": "center",
       "display": "flex-inline",
       "grid_area": "right",
       "max_height": "325px",
       "padding": "10px 10px 10px 10px",
       "width": "auto"
      }
     },
     "1484476e457e47f297b2793fcc05e5fc": {
      "model_module": "@jupyter-widgets/controls",
      "model_module_version": "1.5.0",
      "model_name": "HTMLModel",
      "state": {
       "layout": "IPY_MODEL_087c6474ce7c4151a50aea636b60f71a",
       "style": "IPY_MODEL_daf58adf0a1b4490b79a34d893f13b13",
       "value": "<table><style>\ntable {\n    border-collapse: collapse;\n    width: auto;\n}\n\nth, td {\n    text-align: left;\n    padding: 8px;\n}\n\ntr:nth-child(even) {background-color: #f6f6f6;};\n</style><tr><th></th><th>Type</th><th>Gate error</th></tr><tr><td><font style='font-weight:bold'>cx4_3</font></td><td>cx</td><td>0.01822</td></tr><tr><td><font style='font-weight:bold'>cx3_4</font></td><td>cx</td><td>0.01822</td></tr><tr><td><font style='font-weight:bold'>cx0_1</font></td><td>cx</td><td>0.00773</td></tr></table>"
      }
     },
     "149ee55b971f4d65937d8106694de65e": {
      "model_module": "@jupyter-widgets/controls",
      "model_module_version": "1.5.0",
      "model_name": "DescriptionStyleModel",
      "state": {
       "description_width": ""
      }
     },
     "156807212c2d40f1b54b7cfd6a21f1db": {
      "model_module": "@jupyter-widgets/controls",
      "model_module_version": "1.5.0",
      "model_name": "HTMLModel",
      "state": {
       "layout": "IPY_MODEL_43c5acd4119145aa86a7687fa3c8880f",
       "style": "IPY_MODEL_21a42f6e9c3d48f8b62111814f9e90b3",
       "value": "<table><style>\ntable {\n    border-collapse: collapse;\n    width: auto;\n}\n\nth, td {\n    text-align: left;\n    padding: 8px;\n}\n\ntr:nth-child(even) {background-color: #f6f6f6;};\n</style><tr><th></th><th>Type</th><th>Gate error</th></tr><tr><td><font style='font-weight:bold'>cx4_3</font></td><td>cx</td><td>0.00583</td></tr><tr><td><font style='font-weight:bold'>cx3_4</font></td><td>cx</td><td>0.00583</td></tr><tr><td><font style='font-weight:bold'>cx0_1</font></td><td>cx</td><td>0.00723</td></tr></table>"
      }
     },
     "16b111f06bf6485b9499a104cc1c95b3": {
      "model_module": "@jupyter-widgets/controls",
      "model_module_version": "1.5.0",
      "model_name": "DescriptionStyleModel",
      "state": {
       "description_width": ""
      }
     },
     "16bf6eb5d34a4b9182bff14e3a26e2fe": {
      "model_module": "@jupyter-widgets/controls",
      "model_module_version": "1.5.0",
      "model_name": "DescriptionStyleModel",
      "state": {
       "description_width": ""
      }
     },
     "173b1083dde444ec88377b51acc6438e": {
      "model_module": "@jupyter-widgets/controls",
      "model_module_version": "1.5.0",
      "model_name": "DescriptionStyleModel",
      "state": {
       "description_width": ""
      }
     },
     "174482d8a2024e82bafdd0b1ae85c875": {
      "model_module": "@jupyter-widgets/controls",
      "model_module_version": "1.5.0",
      "model_name": "DescriptionStyleModel",
      "state": {
       "description_width": ""
      }
     },
     "17744a405596464b899843680c5d6c19": {
      "model_module": "@jupyter-widgets/controls",
      "model_module_version": "1.5.0",
      "model_name": "LabelModel",
      "state": {
       "layout": "IPY_MODEL_461f32843c26414898e27ccccd5f309e",
       "style": "IPY_MODEL_92e1f6ce44214efcb1a1620cd969ec03",
       "value": "52"
      }
     },
     "18314f4452694241bb2f1daf545b33f3": {
      "model_module": "@jupyter-widgets/base",
      "model_module_version": "1.2.0",
      "model_name": "LayoutModel",
      "state": {
       "justify_content": "center",
       "max_width": "250px",
       "min_width": "250px"
      }
     },
     "189ead82f50c4a6789956eeb97bc9b9c": {
      "model_module": "@jupyter-widgets/base",
      "model_module_version": "1.2.0",
      "model_name": "LayoutModel",
      "state": {
       "max_width": "710px",
       "min_width": "710px"
      }
     },
     "18ad7707316c430caa4f65faedba1efa": {
      "model_module": "@jupyter-widgets/base",
      "model_module_version": "1.2.0",
      "model_name": "LayoutModel",
      "state": {
       "justify_content": "center"
      }
     },
     "18fc501bc22441ccbf9d28f11630ff40": {
      "model_module": "@jupyter-widgets/base",
      "model_module_version": "1.2.0",
      "model_name": "LayoutModel",
      "state": {
       "justify_content": "center",
       "max_width": "250px",
       "min_width": "250px"
      }
     },
     "195ce0c3437a4ccf9ab3804495f24b96": {
      "model_module": "@jupyter-widgets/controls",
      "model_module_version": "1.5.0",
      "model_name": "DescriptionStyleModel",
      "state": {
       "description_width": ""
      }
     },
     "197768eb0a2444f3b753a08809da57e8": {
      "model_module": "@jupyter-widgets/base",
      "model_module_version": "1.2.0",
      "model_name": "LayoutModel",
      "state": {
       "grid_area": "left",
       "width": "100%"
      }
     },
     "19908694f75d420c97f398d4c04d4281": {
      "model_module": "@jupyter-widgets/controls",
      "model_module_version": "1.5.0",
      "model_name": "TabModel",
      "state": {
       "layout": "IPY_MODEL_fafed8a4340e4aa28309495ebc159fa7"
      }
     },
     "1a0da79674f6482fbe8ed4ea9319e07c": {
      "model_module": "@jupyter-widgets/controls",
      "model_module_version": "1.5.0",
      "model_name": "DescriptionStyleModel",
      "state": {
       "description_width": ""
      }
     },
     "1a3472202215426792ff88b0caa911fd": {
      "model_module": "@jupyter-widgets/controls",
      "model_module_version": "1.5.0",
      "model_name": "HTMLModel",
      "state": {
       "layout": "IPY_MODEL_cf0d0e816b7f4853951464c6e60348ab",
       "style": "IPY_MODEL_94ff89200eb14270af37325285488b15",
       "value": "<h5 style='color:#34bc6e'>True</h5>"
      }
     },
     "1a51c18ebcf648b3b6d233a8a43e508c": {
      "model_module": "@jupyter-widgets/controls",
      "model_module_version": "1.5.0",
      "model_name": "HTMLModel",
      "state": {
       "layout": "IPY_MODEL_da556e3f0f4845f4afd6d0311b909779",
       "style": "IPY_MODEL_2cc1f5d7cff148d2b8d4a165c53f62ca",
       "value": "<h4>ibmq_armonk</h4>"
      }
     },
     "1d8202666590464f846a9eb21d8716b6": {
      "model_module": "@jupyter-widgets/controls",
      "model_module_version": "1.5.0",
      "model_name": "ButtonModel",
      "state": {
       "icon": "close",
       "layout": "IPY_MODEL_b67b5353813c4dd6b8611595417fd64c",
       "style": "IPY_MODEL_56926ee07ad5492a87d061f98dc4451c"
      }
     },
     "1de27d905b974748bf5fffb9cfd6563f": {
      "model_module": "@jupyter-widgets/controls",
      "model_module_version": "1.5.0",
      "model_name": "HTMLModel",
      "state": {
       "layout": "IPY_MODEL_ce9e59adcfa8488899ac987999247d39",
       "style": "IPY_MODEL_6a02993ed8944347a4dccb8646b4efbb",
       "value": "<div><font style='font-weight:bold'>last_update_date</font>: Wed 19 January 2022 at 04:50 UTC</div>"
      }
     },
     "1e36132bfdca48d8b63d57613cb5850c": {
      "model_module": "@jupyter-widgets/controls",
      "model_module_version": "1.5.0",
      "model_name": "LabelModel",
      "state": {
       "layout": "IPY_MODEL_86458fdc61384e808883a85d8740b5be",
       "style": "IPY_MODEL_02f6cae67ad54168ba2bcfbee1090e78",
       "value": "2049"
      }
     },
     "1e46dd55c5c241e4aa1c57b28a398414": {
      "model_module": "@jupyter-widgets/controls",
      "model_module_version": "1.5.0",
      "model_name": "DescriptionStyleModel",
      "state": {
       "description_width": ""
      }
     },
     "1e7dbfc2b7884eda94d63401975df557": {
      "model_module": "@jupyter-widgets/controls",
      "model_module_version": "1.5.0",
      "model_name": "DescriptionStyleModel",
      "state": {
       "description_width": ""
      }
     },
     "1eda246e75e8463181694fdf9e2b7abb": {
      "model_module": "@jupyter-widgets/controls",
      "model_module_version": "1.5.0",
      "model_name": "DescriptionStyleModel",
      "state": {
       "description_width": ""
      }
     },
     "1efaae2007d9496d895c6cf643248ce9": {
      "model_module": "@jupyter-widgets/controls",
      "model_module_version": "1.5.0",
      "model_name": "VBoxModel",
      "state": {
       "children": [
        "IPY_MODEL_1a51c18ebcf648b3b6d233a8a43e508c",
        "IPY_MODEL_3cad9363b167417a9ca3528a38ac9614",
        "IPY_MODEL_aa727641f92848a597e510be81e4d5a7",
        "IPY_MODEL_20bbce9dd96941b589739901692c2da5",
        "IPY_MODEL_73c075a9f5564bc8a49e6fd61d36f513",
        "IPY_MODEL_37469add0daa431f883ea1fd8b3f83e9",
        "IPY_MODEL_abe06ff14b0c429791918517a1cf05f3",
        "IPY_MODEL_614072c8294149cdb510421dc58573cd",
        "IPY_MODEL_bdedff6c09d442479662ddc44a2a23be",
        "IPY_MODEL_6095097d4415467c83e66208c0c85777"
       ],
       "layout": "IPY_MODEL_0ed9dbeb99e64526ab37d83092f2ecae"
      }
     },
     "1f2059dd6865478a94415e430debfe16": {
      "model_module": "@jupyter-widgets/controls",
      "model_module_version": "1.5.0",
      "model_name": "ProgressStyleModel",
      "state": {
       "bar_color": "#71cddd",
       "description_width": ""
      }
     },
     "1f2d0cac274c46968d4c53abab957531": {
      "model_module": "@jupyter-widgets/controls",
      "model_module_version": "1.5.0",
      "model_name": "HTMLModel",
      "state": {
       "layout": "IPY_MODEL_ef9d88928fc142a487ae619f51b7938d",
       "style": "IPY_MODEL_95f4e8901276473e9e93ca90fd614de0",
       "value": "<p style='font-family: IBM Plex Sans, Arial, Helvetica, sans-serif; font-size: 20px; font-weight: medium;'>Circuit Properties</p>"
      }
     },
     "1fc96b337d2941c4b41bfa94a7686cb8": {
      "model_module": "@jupyter-widgets/base",
      "model_module_version": "1.2.0",
      "model_name": "LayoutModel",
      "state": {
       "grid_area": "left",
       "width": "100%"
      }
     },
     "1fd0793a6d3f463793a966a3b80cd3cc": {
      "model_module": "@jupyter-widgets/base",
      "model_module_version": "1.2.0",
      "model_name": "LayoutModel",
      "state": {}
     },
     "208c963807884dd5af148e29d1b030e8": {
      "model_module": "@jupyter-widgets/base",
      "model_module_version": "1.2.0",
      "model_name": "LayoutModel",
      "state": {
       "min_width": "auto"
      }
     },
     "20b8d3e4ff0f41edaf86ae73bcf120ee": {
      "model_module": "@jupyter-widgets/base",
      "model_module_version": "1.2.0",
      "model_name": "LayoutModel",
      "state": {}
     },
     "20bbce9dd96941b589739901692c2da5": {
      "model_module": "@jupyter-widgets/controls",
      "model_module_version": "1.5.0",
      "model_name": "HTMLModel",
      "state": {
       "layout": "IPY_MODEL_4728233a996448088d8390c727381625",
       "style": "IPY_MODEL_0d44a717c4124e838c4fb9192ed06450",
       "value": "<h5>1</h5>"
      }
     },
     "20d6d206ddee4fcd859def1eb010661f": {
      "model_module": "@jupyter-widgets/base",
      "model_module_version": "1.2.0",
      "model_name": "LayoutModel",
      "state": {
       "justify_content": "center"
      }
     },
     "20f54c8160dc4e2580d59579e06503c4": {
      "model_module": "@jupyter-widgets/base",
      "model_module_version": "1.2.0",
      "model_name": "LayoutModel",
      "state": {
       "width": "145px"
      }
     },
     "2131a8327a5e47e096f15d2899b64d6e": {
      "model_module": "@jupyter-widgets/controls",
      "model_module_version": "1.5.0",
      "model_name": "GridBoxModel",
      "state": {
       "children": [
        "IPY_MODEL_e348187b5184406aa184c7beada708d3",
        "IPY_MODEL_1484476e457e47f297b2793fcc05e5fc",
        "IPY_MODEL_3bbf2f3304534f34a4d8097d632ecc9f",
        "IPY_MODEL_fa2a6e4e89eb474da69bb8433c5a09e7"
       ],
       "layout": "IPY_MODEL_ffad32de1ef2447e9b11d38f3c8e70e0"
      }
     },
     "218d1258ac7e4af3b5e3b8617cee958b": {
      "model_module": "@jupyter-widgets/controls",
      "model_module_version": "1.5.0",
      "model_name": "DescriptionStyleModel",
      "state": {
       "description_width": ""
      }
     },
     "21a42f6e9c3d48f8b62111814f9e90b3": {
      "model_module": "@jupyter-widgets/controls",
      "model_module_version": "1.5.0",
      "model_name": "DescriptionStyleModel",
      "state": {
       "description_width": ""
      }
     },
     "22767ffce18c481b82ae829419846ebc": {
      "model_module": "@jupyter-widgets/base",
      "model_module_version": "1.2.0",
      "model_name": "LayoutModel",
      "state": {}
     },
     "228b5ff7d9dc4cce94dc9762bdbec077": {
      "model_module": "@jupyter-widgets/controls",
      "model_module_version": "1.5.0",
      "model_name": "HTMLModel",
      "state": {
       "layout": "IPY_MODEL_e9ba3503a3314827ba34598e1e236a9f",
       "style": "IPY_MODEL_a48d32ee79034e96964c866305f67160",
       "value": "<h5><b>5</b></h5>"
      }
     },
     "22abc997c1ab4a259ebb708de0ea717e": {
      "model_module": "@jupyter-widgets/base",
      "model_module_version": "1.2.0",
      "model_name": "LayoutModel",
      "state": {}
     },
     "22fd89fd9eb240d8970e36c451c900a7": {
      "model_module": "@jupyter-widgets/base",
      "model_module_version": "1.2.0",
      "model_name": "LayoutModel",
      "state": {
       "align_items": "center",
       "justify_content": "center",
       "margin": "0px 0px 0px 0px",
       "max_height": "250px",
       "max_width": "250px",
       "min_height": "250px",
       "min_width": "250px"
      }
     },
     "235bc27598a44cbfa13949f37433a647": {
      "model_module": "@jupyter-widgets/controls",
      "model_module_version": "1.5.0",
      "model_name": "GridBoxModel",
      "state": {
       "children": [
        "IPY_MODEL_6a7fcc9ba8d5453c9c27a5fd7bd2d686",
        "IPY_MODEL_01e2016bcfdb410eabedfe260e18663f",
        "IPY_MODEL_2a60aa66685f4a7b99309f17109844b3"
       ],
       "layout": "IPY_MODEL_9fa59f234a964ed395c07735f0240792"
      }
     },
     "23e41ed241e54d3ebcf168080d6316ad": {
      "model_module": "@jupyter-widgets/output",
      "model_module_version": "1.0.0",
      "model_name": "OutputModel",
      "state": {
       "layout": "IPY_MODEL_894f0e0c0b6f49c68f63e1f4f7f07113",
       "outputs": [
        {
         "data": {
          "image/png": "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\n",
          "text/plain": "<Figure size 360x360 with 1 Axes>"
         },
         "metadata": {},
         "output_type": "display_data"
        }
       ]
      }
     },
     "24a002321cbb4cb1992dcad1392643df": {
      "model_module": "@jupyter-widgets/controls",
      "model_module_version": "1.5.0",
      "model_name": "HTMLModel",
      "state": {
       "layout": "IPY_MODEL_5f32ef8d9d07442594c8cc29999a4e16",
       "style": "IPY_MODEL_4cb5271ab8dd4ee19b4229c50610b897",
       "value": "<div><font style='font-weight:bold'>last_update_date</font>: 2022-01-18 06:19:10+00:00</div>"
      }
     },
     "251c39b9d47341aeb39cc578ea86daec": {
      "model_module": "@jupyter-widgets/controls",
      "model_module_version": "1.5.0",
      "model_name": "LabelModel",
      "state": {
       "layout": "IPY_MODEL_9842a14116ef4c3fab64684630894967",
       "style": "IPY_MODEL_0cb89ec4d629469f9846f8baf595dac5",
       "value": "50"
      }
     },
     "2547ec8a4bfc475eb3c8baae90cce5c2": {
      "model_module": "@jupyter-widgets/base",
      "model_module_version": "1.2.0",
      "model_name": "LayoutModel",
      "state": {
       "max_height": "500px",
       "max_width": "750px",
       "overflow_x": "hidden",
       "overflow_y": "scroll",
       "visibility": "visible",
       "width": "auto"
      }
     },
     "26a4a517108d4677a301672949eda3a9": {
      "model_module": "@jupyter-widgets/base",
      "model_module_version": "1.2.0",
      "model_name": "LayoutModel",
      "state": {
       "align_items": "center",
       "justify_content": "center",
       "margin": "0px 0px 0px 0px",
       "max_height": "250px",
       "max_width": "250px",
       "min_height": "250px",
       "min_width": "250px"
      }
     },
     "27bdf6aa52414d1d80442049135ef38c": {
      "model_module": "@jupyter-widgets/controls",
      "model_module_version": "1.5.0",
      "model_name": "HTMLModel",
      "state": {
       "layout": "IPY_MODEL_bbc86f331b6d4026aa7f9af379fee2e2",
       "style": "IPY_MODEL_133c18f47e4343ef9981bef6a67cef1a",
       "value": "<table><style>\ntable {\n    border-collapse: collapse;\n    width: auto;\n}\n\nth, td {\n    text-align: left;\n    padding: 8px;\n}\n\ntr:nth-child(even) {background-color: #f6f6f6;};\n</style><tr><th></th><th>Type</th><th>Gate error</th></tr><tr><td><font style='font-weight:bold'>cx1_0</font></td><td>cx</td><td>0.00723</td></tr><tr><td><font style='font-weight:bold'>cx2_3</font></td><td>cx</td><td>1</td></tr><tr><td><font style='font-weight:bold'>cx3_2</font></td><td>cx</td><td>1</td></tr></table>"
      }
     },
     "27cfd3fb85744b8896eb9cc920a0a6f7": {
      "model_module": "@jupyter-widgets/base",
      "model_module_version": "1.2.0",
      "model_name": "LayoutModel",
      "state": {
       "width": "190px"
      }
     },
     "27e49a3549364c578ae6451999924502": {
      "model_module": "@jupyter-widgets/base",
      "model_module_version": "1.2.0",
      "model_name": "LayoutModel",
      "state": {
       "align_items": "center",
       "justify_content": "center",
       "margin": "0px 0px 0px 0px",
       "max_height": "250px",
       "max_width": "250px",
       "min_height": "250px",
       "min_width": "250px"
      }
     },
     "283bef067c734dfe8297526a8f979bd6": {
      "model_module": "@jupyter-widgets/controls",
      "model_module_version": "1.5.0",
      "model_name": "HTMLModel",
      "state": {
       "layout": "IPY_MODEL_6cf3d5085754475589b5524820588cdf",
       "style": "IPY_MODEL_9f9c3e2341104a86b7a60d3edfcdf5df",
       "value": "<h4>ibmq_lima</h4>"
      }
     },
     "289b8e76f7944d079a88ea2b583523f8": {
      "model_module": "@jupyter-widgets/base",
      "model_module_version": "1.2.0",
      "model_name": "LayoutModel",
      "state": {
       "width": "95px"
      }
     },
     "29082b12d75d4e2ba7986bc6e3a10322": {
      "model_module": "@jupyter-widgets/controls",
      "model_module_version": "1.5.0",
      "model_name": "LabelModel",
      "state": {
       "layout": "IPY_MODEL_c097b280b8c34e91b74ec72af445e3e4",
       "style": "IPY_MODEL_1009e60fb78845738159d5064450f61f",
       "value": "76"
      }
     },
     "29e66180c54b4bfea58986a4a3c9d767": {
      "model_module": "@jupyter-widgets/controls",
      "model_module_version": "1.5.0",
      "model_name": "DescriptionStyleModel",
      "state": {
       "description_width": ""
      }
     },
     "2a18ee79733a47fb8e17d7642616f4b4": {
      "model_module": "@jupyter-widgets/base",
      "model_module_version": "1.2.0",
      "model_name": "LayoutModel",
      "state": {
       "width": "95px"
      }
     },
     "2a60aa66685f4a7b99309f17109844b3": {
      "model_module": "@jupyter-widgets/controls",
      "model_module_version": "1.5.0",
      "model_name": "HTMLMathModel",
      "state": {
       "layout": "IPY_MODEL_d8ccdea5f99e417bb70d58ad206e2f65",
       "style": "IPY_MODEL_1e7dbfc2b7884eda94d63401975df557",
       "value": "<table><style>\ntable {\n    border-collapse: collapse;\n    width: auto;\n}\n\nth, td {\n    text-align: left;\n    padding: 8px;\n}\n\ntr:nth-child(even) {background-color: #f6f6f6;}\n</style><tr><th></th><th></th></tr><tr><td>default_rep_delay</td><td>250.0</td></tr><tr><td>rep_delay_range</td><td>[0.0, 500.0]</td></tr><tr><td>clops</td><td>2506</td></tr><tr><td>acquisition_latency</td><td>[]</td></tr><tr><td>supported_features</td><td>['q', 'o', 'b', 'j']</td></tr><tr><td>discriminators</td><td>['hw_centroid', 'quadratic_discriminator', 'linear_discriminator']</td></tr><tr><td>backend_name</td><td>ibmq_quito</td></tr><tr><td>parametric_pulses</td><td>['gaussian', 'gaussian_square', 'drag', 'constant']</td></tr><tr><td>meas_lo_range</td><td>[[6.807868157000001, 7.807868157000001], [6.7292695270000005, 7.7292695270000005], [6.991060108, 7.991060108], [6.8547510460000005, 7.8547510460000005], [6.904365522000001, 7.904365522000001]]</td></tr><tr><td>memory</td><td>True</td></tr><tr><td>coupling_map</td><td>[[0, 1], [1, 0], [1, 2], [1, 3], [2, 1], [3, 1], [3, 4], [4, 3]]</td></tr><tr><td>qubit_channel_mapping</td><td>[['u0', 'm0', 'd0', 'u1'], ['u1', 'm1', 'u0', 'u5', 'u3', 'u4', 'u2', 'd1'], ['u4', 'm2', 'u2', 'd2'], ['u6', 'd3', 'u7', 'u5', 'u3', 'm3'], ['d4', 'u6', 'm4', 'u7']]</td></tr><tr><td>online_date</td><td>2021-01-08 05:00:00+00:00</td></tr><tr><td>hamiltonian</td><td>$$\\begin{align} \\mathcal{H}/\\hbar = & \\sum_{i=0}^{4}\\left(\\frac{\\omega_{q,i}}{2}(\\mathbb{I}-\\sigma_i^{z})+\\frac{\\Delta_{i}}{2}(O_i^2-O_i)+\\Omega_{d,i}D_i(t)\\sigma_i^{X}\\right) \\\\ & + J_{0,1}(\\sigma_{0}^{+}\\sigma_{1}^{-}+\\sigma_{0}^{-}\\sigma_{1}^{+}) + J_{1,2}(\\sigma_{1}^{+}\\sigma_{2}^{-}+\\sigma_{1}^{-}\\sigma_{2}^{+}) + J_{1,3}(\\sigma_{1}^{+}\\sigma_{3}^{-}+\\sigma_{1}^{-}\\sigma_{3}^{+}) + J_{3,4}(\\sigma_{3}^{+}\\sigma_{4}^{-}+\\sigma_{3}^{-}\\sigma_{4}^{+}) \\\\ & + \\Omega_{d,0}(U_{0}^{(0,1)}(t))\\sigma_{0}^{X} + \\Omega_{d,1}(U_{1}^{(1,0)}(t)+U_{3}^{(1,3)}(t)+U_{2}^{(1,2)}(t))\\sigma_{1}^{X} \\\\ & + \\Omega_{d,2}(U_{4}^{(2,1)}(t))\\sigma_{2}^{X} + \\Omega_{d,3}(U_{6}^{(3,4)}(t)+U_{5}^{(3,1)}(t))\\sigma_{3}^{X} \\\\ & + \\Omega_{d,4}(U_{7}^{(4,3)}(t))\\sigma_{4}^{X} \\\\ \\end{align}$$</td></tr><tr><td>pulse_num_channels</td><td>9</td></tr><tr><td>timing_constraints</td><td>{'acquire_alignment': 16, 'granularity': 16, 'min_length': 64, 'pulse_alignment': 1}</td></tr><tr><td>local</td><td>False</td></tr><tr><td>input_allowed</td><td>['job', 'runtime']</td></tr><tr><td>simulator</td><td>False</td></tr><tr><td>multi_meas_enabled</td><td>True</td></tr><tr><td>url</td><td>None</td></tr><tr><td>channels</td><td>{'acquire0': {'operates': {'qubits': [0]}, 'purpose': 'acquire', 'type': 'acquire'}, 'acquire1': {'operates': {'qubits': [1]}, 'purpose': 'acquire', 'type': 'acquire'}, 'acquire2': {'operates': {'qubits': [2]}, 'purpose': 'acquire', 'type': 'acquire'}, 'acquire3': {'operates': {'qubits': [3]}, 'purpose': 'acquire', 'type': 'acquire'}, 'acquire4': {'operates': {'qubits': [4]}, 'purpose': 'acquire', 'type': 'acquire'}, 'd0': {'operates': {'qubits': [0]}, 'purpose': 'drive', 'type': 'drive'}, 'd1': {'operates': {'qubits': [1]}, 'purpose': 'drive', 'type': 'drive'}, 'd2': {'operates': {'qubits': [2]}, 'purpose': 'drive', 'type': 'drive'}, 'd3': {'operates': {'qubits': [3]}, 'purpose': 'drive', 'type': 'drive'}, 'd4': {'operates': {'qubits': [4]}, 'purpose': 'drive', 'type': 'drive'}, 'm0': {'operates': {'qubits': [0]}, 'purpose': 'measure', 'type': 'measure'}, 'm1': {'operates': {'qubits': [1]}, 'purpose': 'measure', 'type': 'measure'}, 'm2': {'operates': {'qubits': [2]}, 'purpose': 'measure', 'type': 'measure'}, 'm3': {'operates': {'qubits': [3]}, 'purpose': 'measure', 'type': 'measure'}, 'm4': {'operates': {'qubits': [4]}, 'purpose': 'measure', 'type': 'measure'}, 'u0': {'operates': {'qubits': [0, 1]}, 'purpose': 'cross-resonance', 'type': 'control'}, 'u1': {'operates': {'qubits': [1, 0]}, 'purpose': 'cross-resonance', 'type': 'control'}, 'u2': {'operates': {'qubits': [1, 2]}, 'purpose': 'cross-resonance', 'type': 'control'}, 'u3': {'operates': {'qubits': [1, 3]}, 'purpose': 'cross-resonance', 'type': 'control'}, 'u4': {'operates': {'qubits': [2, 1]}, 'purpose': 'cross-resonance', 'type': 'control'}, 'u5': {'operates': {'qubits': [3, 1]}, 'purpose': 'cross-resonance', 'type': 'control'}, 'u6': {'operates': {'qubits': [3, 4]}, 'purpose': 'cross-resonance', 'type': 'control'}, 'u7': {'operates': {'qubits': [4, 3]}, 'purpose': 'cross-resonance', 'type': 'control'}}</td></tr><tr><td>open_pulse</td><td>False</td></tr><tr><td>conditional_latency</td><td>[]</td></tr><tr><td>dt</td><td>0.2222222222222222</td></tr><tr><td>uchannels_enabled</td><td>True</td></tr><tr><td>credits_required</td><td>True</td></tr><tr><td>u_channel_lo</td><td>[[{'q': 1, 'scale': (1+0j)}], [{'q': 0, 'scale': (1+0j)}], [{'q': 2, 'scale': (1+0j)}], [{'q': 3, 'scale': (1+0j)}], [{'q': 1, 'scale': (1+0j)}], [{'q': 1, 'scale': (1+0j)}], [{'q': 4, 'scale': (1+0j)}], [{'q': 3, 'scale': (1+0j)}]]</td></tr><tr><td>dynamic_reprate_enabled</td><td>True</td></tr><tr><td>processor_type</td><td>{'family': 'Falcon', 'revision': 4, 'segment': 'T'}</td></tr><tr><td>rep_times</td><td>[1000.0]</td></tr><tr><td>supported_instructions</td><td>['u1', 'acquire', 'u2', 'id', 'sx', 'play', 'delay', 'x', 'u3', 'rz', 'setf', 'cx', 'measure', 'reset', 'shiftf']</td></tr><tr><td>description</td><td>5 qubit device Quito</td></tr><tr><td>n_uchannels</td><td>8</td></tr><tr><td>allow_q_object</td><td>True</td></tr><tr><td>meas_map</td><td>[[0, 1, 2, 3, 4]]</td></tr><tr><td>pulse_num_qubits</td><td>3</td></tr><tr><td>meas_kernels</td><td>['hw_boxcar']</td></tr><tr><td>measure_esp_enabled</td><td>False</td></tr><tr><td>dtm</td><td>0.2222222222222222</td></tr><tr><td>qubit_lo_range</td><td>[[4.8005715908801285, 5.8005715908801285], [4.580586907446778, 5.580586907446778], [4.822149194623249, 5.822149194623249], [4.663626970427202, 5.663626970427202], [4.552340222744237, 5.552340222744237]]</td></tr><tr><td>n_registers</td><td>1</td></tr><tr><td>meas_levels</td><td>[1, 2]</td></tr><tr><td>allow_object_storage</td><td>True</td></tr><tr><td>sample_name</td><td>family: Falcon, revision: 4, segment: T</td></tr><tr><td>conditional</td><td>False</td></tr></table>"
      }
     },
     "2a75551155a94e3686e89b75d2aac689": {
      "model_module": "@jupyter-widgets/controls",
      "model_module_version": "1.5.0",
      "model_name": "HTMLModel",
      "state": {
       "layout": "IPY_MODEL_aae66dda9edd461fad70b03948794ad4",
       "style": "IPY_MODEL_095948eef10d456aa8c0dae1a94e7b04",
       "value": "<h5>0.0101</h5>"
      }
     },
     "2a855683d3624ca5853483f3f1c58bcf": {
      "model_module": "@jupyter-widgets/controls",
      "model_module_version": "1.5.0",
      "model_name": "IntProgressModel",
      "state": {
       "layout": "IPY_MODEL_457fd8e06b404be68409150351083994",
       "max": 50,
       "style": "IPY_MODEL_833506ea71f347d88cf5fec75e623366",
       "value": 13
      }
     },
     "2aeeaf365f62493e991540b8399dabd0": {
      "model_module": "@jupyter-widgets/controls",
      "model_module_version": "1.5.0",
      "model_name": "LabelModel",
      "state": {
       "layout": "IPY_MODEL_3438e4a8c3094050ba951a3d161339bf",
       "style": "IPY_MODEL_67d1bfa2257349f481accb6f5f51040b",
       "value": "2039"
      }
     },
     "2bc971b384a64410b604e7a1bdefb56a": {
      "model_module": "@jupyter-widgets/controls",
      "model_module_version": "1.5.0",
      "model_name": "HTMLModel",
      "state": {
       "layout": "IPY_MODEL_cbeccde429cc4bd7a86fd76ae735ed18",
       "style": "IPY_MODEL_59eccaff11434fbfbf6c9766a4d4b1c6",
       "value": "<h5 style='color:#34bc6e'>True</h5>"
      }
     },
     "2bf86293677a47a28cfd5ef45207b0a6": {
      "model_module": "@jupyter-widgets/base",
      "model_module_version": "1.2.0",
      "model_name": "LayoutModel",
      "state": {}
     },
     "2cc1f5d7cff148d2b8d4a165c53f62ca": {
      "model_module": "@jupyter-widgets/controls",
      "model_module_version": "1.5.0",
      "model_name": "DescriptionStyleModel",
      "state": {
       "description_width": ""
      }
     },
     "2d23f1a6ade04ffba9a0028a5308b838": {
      "model_module": "@jupyter-widgets/controls",
      "model_module_version": "1.5.0",
      "model_name": "ProgressStyleModel",
      "state": {
       "bar_color": "#71cddd",
       "description_width": ""
      }
     },
     "2d8f5d4c667a4a339f4c7a62b7aff1e1": {
      "model_module": "@jupyter-widgets/controls",
      "model_module_version": "1.5.0",
      "model_name": "DescriptionStyleModel",
      "state": {
       "description_width": ""
      }
     },
     "2dd5bb4165f14cca91721eeec64337aa": {
      "model_module": "@jupyter-widgets/base",
      "model_module_version": "1.2.0",
      "model_name": "LayoutModel",
      "state": {}
     },
     "2e36949cc03542c5a9ab78bb0fdf02cd": {
      "model_module": "@jupyter-widgets/base",
      "model_module_version": "1.2.0",
      "model_name": "LayoutModel",
      "state": {}
     },
     "2f87e19ca5374cd7b31dd6b406a2cff1": {
      "model_module": "@jupyter-widgets/controls",
      "model_module_version": "1.5.0",
      "model_name": "GridBoxModel",
      "state": {
       "children": [
        "IPY_MODEL_441d473d4fcb48c586d7f6a2b434cf37",
        "IPY_MODEL_dbed90ae5f1a47598ae3af3483897550",
        "IPY_MODEL_133e3086fae64e98b4ef48b5fe11f927",
        "IPY_MODEL_a03ba90c564a4a799768d1e5cbbdfe83",
        "IPY_MODEL_7e8778950fef490099cbe0edb4d3ff61",
        "IPY_MODEL_1efaae2007d9496d895c6cf643248ce9",
        "IPY_MODEL_03ee2816803e4bf9be392b050f2d484b"
       ],
       "layout": "IPY_MODEL_66299030ba01435580bb914d6df7be53"
      }
     },
     "2fd6868f34da4770afe2c961056af935": {
      "model_module": "@jupyter-widgets/output",
      "model_module_version": "1.0.0",
      "model_name": "OutputModel",
      "state": {
       "layout": "IPY_MODEL_4a93ec1a5fd24a8c9b248325c94703d6",
       "outputs": [
        {
         "data": {
          "image/png": "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\n",
          "text/plain": "<Figure size 360x360 with 1 Axes>"
         },
         "metadata": {},
         "output_type": "display_data"
        }
       ]
      }
     },
     "2ffcb7443d71407bbf000ec60097a546": {
      "model_module": "@jupyter-widgets/controls",
      "model_module_version": "1.5.0",
      "model_name": "ProgressStyleModel",
      "state": {
       "bar_color": "#71cddd",
       "description_width": ""
      }
     },
     "30cbe123689e4aa39f989ef03a9812a5": {
      "model_module": "@jupyter-widgets/output",
      "model_module_version": "1.0.0",
      "model_name": "OutputModel",
      "state": {
       "layout": "IPY_MODEL_095e8d7dc24b489e86128a916bbc4cde",
       "outputs": [
        {
         "data": {
          "image/png": "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\n",
          "text/plain": "<Figure size 360x360 with 1 Axes>"
         },
         "metadata": {},
         "output_type": "display_data"
        }
       ]
      }
     },
     "30fb1e88214c424cbba4091258a7e24a": {
      "model_module": "@jupyter-widgets/controls",
      "model_module_version": "1.5.0",
      "model_name": "DescriptionStyleModel",
      "state": {
       "description_width": ""
      }
     },
     "3438e4a8c3094050ba951a3d161339bf": {
      "model_module": "@jupyter-widgets/base",
      "model_module_version": "1.2.0",
      "model_name": "LayoutModel",
      "state": {
       "min_width": "auto"
      }
     },
     "34a2aebf6afe46fd8c31f07dcff2aeca": {
      "model_module": "@jupyter-widgets/base",
      "model_module_version": "1.2.0",
      "model_name": "LayoutModel",
      "state": {
       "align_items": "center",
       "display": "flex-inline"
      }
     },
     "34d20284c1f14054b6b52480c2689983": {
      "model_module": "@jupyter-widgets/base",
      "model_module_version": "1.2.0",
      "model_name": "LayoutModel",
      "state": {
       "margin": "8px 0px 0px 0px"
      }
     },
     "353e0634794d4f53a884a59b1a5ead34": {
      "model_module": "@jupyter-widgets/controls",
      "model_module_version": "1.5.0",
      "model_name": "DescriptionStyleModel",
      "state": {
       "description_width": ""
      }
     },
     "3591ce5315d04729b397a731cb312ac6": {
      "model_module": "@jupyter-widgets/controls",
      "model_module_version": "1.5.0",
      "model_name": "HTMLModel",
      "state": {
       "layout": "IPY_MODEL_7f9cf6695d1b47e49f48f7b5586f9335",
       "style": "IPY_MODEL_174482d8a2024e82bafdd0b1ae85c875",
       "value": "<h1 style='color:#ffffff;background-color:#000000;padding-top: 1%;padding-bottom: 1%;padding-left: 1%; margin-top: 0px'>ibmq_santiago</h1>"
      }
     },
     "3614b780404447c49164fd4249af3c26": {
      "model_module": "@jupyter-widgets/base",
      "model_module_version": "1.2.0",
      "model_name": "LayoutModel",
      "state": {}
     },
     "3721a68071c44e3fa9087f0d9770c5b6": {
      "model_module": "@jupyter-widgets/controls",
      "model_module_version": "1.5.0",
      "model_name": "HTMLModel",
      "state": {
       "layout": "IPY_MODEL_fba3f5ec6c3f410fa2a02ca7688d2a3f",
       "style": "IPY_MODEL_11496364f10c45ca93e8a63575a4bd53",
       "value": "<h5>Message</h5>"
      }
     },
     "37469add0daa431f883ea1fd8b3f83e9": {
      "model_module": "@jupyter-widgets/controls",
      "model_module_version": "1.5.0",
      "model_name": "HTMLModel",
      "state": {
       "layout": "IPY_MODEL_6f981fda619043098f6144f207abf116",
       "style": "IPY_MODEL_8d9cafb4324640efbc6bfcafc0e5be6a",
       "value": "<h5 style='color:#34bc6e'>True</h5>"
      }
     },
     "37f92f2fbe9d488692d0a9bc6fb8f1ff": {
      "model_module": "@jupyter-widgets/controls",
      "model_module_version": "1.5.0",
      "model_name": "DescriptionStyleModel",
      "state": {
       "description_width": ""
      }
     },
     "385ed0e2452a4661b06c1bfc01ab7412": {
      "model_module": "@jupyter-widgets/controls",
      "model_module_version": "1.5.0",
      "model_name": "DescriptionStyleModel",
      "state": {
       "description_width": ""
      }
     },
     "38d7c8334e3747eba8284112698b14dc": {
      "model_module": "@jupyter-widgets/controls",
      "model_module_version": "1.5.0",
      "model_name": "HBoxModel",
      "state": {
       "children": [
        "IPY_MODEL_f3bab5254ae749db8bb007e3744f5c77",
        "IPY_MODEL_2f87e19ca5374cd7b31dd6b406a2cff1"
       ],
       "layout": "IPY_MODEL_424ba0da31644b50abed734b277243c7"
      }
     },
     "39afec7e85954e59a09897eb2e0edd92": {
      "model_module": "@jupyter-widgets/controls",
      "model_module_version": "1.5.0",
      "model_name": "HTMLModel",
      "state": {
       "layout": "IPY_MODEL_1292a58a311f4d75ac00e460510e6c08",
       "style": "IPY_MODEL_f1f332417db24d42ae5c0c0a9b65d81f",
       "value": "<h5>32</h5>"
      }
     },
     "39e9133d58024062824d70761d3cae81": {
      "model_module": "@jupyter-widgets/controls",
      "model_module_version": "1.5.0",
      "model_name": "DescriptionStyleModel",
      "state": {
       "description_width": ""
      }
     },
     "39fd8c18a96a4e8a9678c080b777b9f8": {
      "model_module": "@jupyter-widgets/controls",
      "model_module_version": "1.5.0",
      "model_name": "LabelModel",
      "state": {
       "layout": "IPY_MODEL_038eab2899594983b9bdf94f3839646f",
       "style": "IPY_MODEL_5f4c4a769214404b83df711d32fcabd8",
       "value": "50"
      }
     },
     "3a5fb7f7a55c4775811038c39948005d": {
      "model_module": "@jupyter-widgets/controls",
      "model_module_version": "1.5.0",
      "model_name": "HTMLModel",
      "state": {
       "layout": "IPY_MODEL_de54f1635a5142dfb8e9d4e329077127",
       "style": "IPY_MODEL_5ad807ca65ef47fd8c399f2be0f42c38",
       "value": "<table><style>\ntable {\n    border-collapse: collapse;\n    width: auto;\n}\n\nth, td {\n    text-align: left;\n    padding: 8px;\n}\n\ntr:nth-child(even) {background-color: #f6f6f6;};\n</style><tr><th></th><th>Type</th><th>Gate error</th></tr><tr><td><font style='font-weight:bold'>cx3_4</font></td><td>cx</td><td>0.01387</td></tr><tr><td><font style='font-weight:bold'>cx4_3</font></td><td>cx</td><td>0.01387</td></tr><tr><td><font style='font-weight:bold'>cx1_3</font></td><td>cx</td><td>0.01115</td></tr></table>"
      }
     },
     "3b8ed463e3044dd789aa7d0230bc5d10": {
      "model_module": "@jupyter-widgets/controls",
      "model_module_version": "1.5.0",
      "model_name": "HTMLModel",
      "state": {
       "layout": "IPY_MODEL_cb3a03a62a2f4235a71566620a81e95c",
       "style": "IPY_MODEL_1eda246e75e8463181694fdf9e2b7abb",
       "value": "<h5><b>5</b></h5>"
      }
     },
     "3babcff1f1224c5aa3b62431764ee453": {
      "model_module": "@jupyter-widgets/controls",
      "model_module_version": "1.5.0",
      "model_name": "VBoxModel",
      "state": {
       "children": [
        "IPY_MODEL_029c9dc759054e2891e9ad175af65a0a",
        "IPY_MODEL_940938d7b4f1438fab52f4826e7d649a"
       ],
       "layout": "IPY_MODEL_d60da36261b641bba3de7e278407bca5"
      }
     },
     "3bbf2f3304534f34a4d8097d632ecc9f": {
      "model_module": "@jupyter-widgets/controls",
      "model_module_version": "1.5.0",
      "model_name": "HTMLModel",
      "state": {
       "layout": "IPY_MODEL_e01547dceb3c4595a354410e1cc01543",
       "style": "IPY_MODEL_a81f6d3ed6ed4793a1f55279d1bfb6a0",
       "value": "<table><style>\ntable {\n    border-collapse: collapse;\n    width: auto;\n}\n\nth, td {\n    text-align: left;\n    padding: 8px;\n}\n\ntr:nth-child(even) {background-color: #f6f6f6;};\n</style><tr><th></th><th>Type</th><th>Gate error</th></tr><tr><td><font style='font-weight:bold'>cx1_0</font></td><td>cx</td><td>0.00773</td></tr><tr><td><font style='font-weight:bold'>cx3_1</font></td><td>cx</td><td>0.01662</td></tr><tr><td><font style='font-weight:bold'>cx1_3</font></td><td>cx</td><td>0.01662</td></tr></table>"
      }
     },
     "3cad9363b167417a9ca3528a38ac9614": {
      "model_module": "@jupyter-widgets/output",
      "model_module_version": "1.0.0",
      "model_name": "OutputModel",
      "state": {
       "layout": "IPY_MODEL_9299d3d94d1b464ca04ab86d7e2408ce",
       "outputs": [
        {
         "data": {
          "image/png": "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\n",
          "text/plain": "<Figure size 360x360 with 1 Axes>"
         },
         "metadata": {},
         "output_type": "display_data"
        }
       ]
      }
     },
     "3d2d0f3135c444d494da212fbb8b4ca6": {
      "model_module": "@jupyter-widgets/controls",
      "model_module_version": "1.5.0",
      "model_name": "DescriptionStyleModel",
      "state": {
       "description_width": ""
      }
     },
     "3de17939e2374c87ab81cc33afeebb46": {
      "model_module": "@jupyter-widgets/base",
      "model_module_version": "1.2.0",
      "model_name": "LayoutModel",
      "state": {}
     },
     "3f83d30ce2e74ad5b8f2ca3305d855dc": {
      "model_module": "@jupyter-widgets/base",
      "model_module_version": "1.2.0",
      "model_name": "LayoutModel",
      "state": {
       "justify_content": "center"
      }
     },
     "402c6ac06e1e414086d11120bacb1c35": {
      "model_module": "@jupyter-widgets/controls",
      "model_module_version": "1.5.0",
      "model_name": "LabelModel",
      "state": {
       "layout": "IPY_MODEL_87d6b8bc66dc499db8a937c047f44b00",
       "style": "IPY_MODEL_ab973f0f61ae49d99fa2f4bd539ac008",
       "value": "53"
      }
     },
     "40e64cb5c34e4d4897cad960afa878f8": {
      "model_module": "@jupyter-widgets/controls",
      "model_module_version": "1.5.0",
      "model_name": "HTMLModel",
      "state": {
       "layout": "IPY_MODEL_c5be804d7fc84539a918605168458fe7",
       "style": "IPY_MODEL_1a0da79674f6482fbe8ed4ea9319e07c",
       "value": "<table><style>\ntable {\n    border-collapse: collapse;\n    width: auto;\n}\n\nth, td {\n    text-align: left;\n    padding: 8px;\n}\n\ntr:nth-child(even) {background-color: #f6f6f6;}\n</style><tr><th></th><th>Frequency</th><th>T1</th><th>T2</th><th>RZ</th><th>SX</th><th>X</th><th>Readout error</th></tr><tr><td><font style='font-weight:bold'>Q0</font></td><td>5.30057 GHz</td><td>83.23567 us</td><td>99.058 us</td><td>0</td><td>0.00027</td><td>0.00027</td><td>0.0451 </td><tr><td><font style='font-weight:bold'>Q1</font></td><td>5.08059 GHz</td><td>110.69649 us</td><td>126.88831 us</td><td>0</td><td>0.0003</td><td>0.0003</td><td>0.0188 </td><tr><td><font style='font-weight:bold'>Q2</font></td><td>5.32215 GHz</td><td>65.04756 us</td><td>140.94116 us</td><td>0</td><td>0.00055</td><td>0.00055</td><td>0.0606 </td><tr><td><font style='font-weight:bold'>Q3</font></td><td>5.16363 GHz</td><td>114.91785 us</td><td>21.74109 us</td><td>0</td><td>0.00028</td><td>0.00028</td><td>0.0275 </td><tr><td><font style='font-weight:bold'>Q4</font></td><td>5.05234 GHz</td><td>39.29148 us</td><td>65.03994 us</td><td>0</td><td>0.00044</td><td>0.00044</td><td>0.027 </td></table>"
      }
     },
     "412dc15401074393839626878045cb74": {
      "model_module": "@jupyter-widgets/controls",
      "model_module_version": "1.5.0",
      "model_name": "DescriptionStyleModel",
      "state": {
       "description_width": ""
      }
     },
     "41740df99f5e4d0ebd9d314053b92a5d": {
      "model_module": "@jupyter-widgets/controls",
      "model_module_version": "1.5.0",
      "model_name": "HBoxModel",
      "state": {
       "children": [
        "IPY_MODEL_69a98d360a884db8b668e9105a9a30ac",
        "IPY_MODEL_8af47b6d1836404199dc5f722d1d3bdf",
        "IPY_MODEL_72b8dcb173234ab28acbec2a9cb519b5",
        "IPY_MODEL_74dd1eaec4bf4ce8a8cffd1fd28180da",
        "IPY_MODEL_3721a68071c44e3fa9087f0d9770c5b6"
       ],
       "layout": "IPY_MODEL_6de8aa27828941018823dc284510034d"
      }
     },
     "42018a0574214ad7b9ed8fa391f8a4cc": {
      "model_module": "@jupyter-widgets/controls",
      "model_module_version": "1.5.0",
      "model_name": "TabModel",
      "state": {
       "_titles": {
        "0": "Configuration",
        "1": "Qubit Properties",
        "2": "Multi-Qubit Gates",
        "3": "Error Map",
        "4": "Job History"
       },
       "children": [
        "IPY_MODEL_46df8fb467df4777a16ad795d416f34d",
        "IPY_MODEL_d01b452cb280418abb25e2b6dd8e86c7",
        "IPY_MODEL_2131a8327a5e47e096f15d2899b64d6e",
        "IPY_MODEL_b18c6094f8ce4ce382c48d3958eef665",
        "IPY_MODEL_e354c94d2d824056bc07deda5eda0251"
       ],
       "layout": "IPY_MODEL_96072113f8c84504a27f090e2478b863"
      }
     },
     "424ba0da31644b50abed734b277243c7": {
      "model_module": "@jupyter-widgets/base",
      "model_module_version": "1.2.0",
      "model_name": "LayoutModel",
      "state": {}
     },
     "4325ca20de344296b5b21c1c31ce623c": {
      "model_module": "@jupyter-widgets/controls",
      "model_module_version": "1.5.0",
      "model_name": "GridBoxModel",
      "state": {
       "children": [
        "IPY_MODEL_dfe22b78f1c9475e9edf55fe892525df",
        "IPY_MODEL_2fd6868f34da4770afe2c961056af935",
        "IPY_MODEL_e4961f1d02c243bd89c3815f6141d324"
       ],
       "layout": "IPY_MODEL_a43168d621b649c18ddccb914921b5f1"
      }
     },
     "43b6c8bf375a43beb9607a698b5170f0": {
      "model_module": "@jupyter-widgets/base",
      "model_module_version": "1.2.0",
      "model_name": "LayoutModel",
      "state": {
       "align_items": "center",
       "display": "inline-flex",
       "flex_flow": "column"
      }
     },
     "43c5acd4119145aa86a7687fa3c8880f": {
      "model_module": "@jupyter-widgets/base",
      "model_module_version": "1.2.0",
      "model_name": "LayoutModel",
      "state": {
       "grid_area": "left"
      }
     },
     "441d473d4fcb48c586d7f6a2b434cf37": {
      "model_module": "@jupyter-widgets/controls",
      "model_module_version": "1.5.0",
      "model_name": "VBoxModel",
      "state": {
       "children": [
        "IPY_MODEL_e415e39d17d84f3bb335c568f8b3ad83",
        "IPY_MODEL_a9b606e840e749cd95650fcdc245c9a2",
        "IPY_MODEL_f55196b07c194c0496b4457f139fe174",
        "IPY_MODEL_954f3570721f4113b07902c6e3d30986",
        "IPY_MODEL_84fcacdaa0504c07a9b68ba9d1da905a",
        "IPY_MODEL_87f01043387e4a1a8853dee96cbb4bde",
        "IPY_MODEL_82ea46128d6042b5940d910588801c07",
        "IPY_MODEL_820d0657513f4d949f048be91c2a2370",
        "IPY_MODEL_a5e706ad1d444d089f0b70484f5f81b5",
        "IPY_MODEL_4ba6b66d57b5496a91b3ce49e95d3728"
       ],
       "layout": "IPY_MODEL_8faedd5a5f6742aba8c66958af35daac"
      }
     },
     "449790b011b74b2b9e144e4352e26c27": {
      "model_module": "@jupyter-widgets/base",
      "model_module_version": "1.2.0",
      "model_name": "LayoutModel",
      "state": {
       "max_width": "180px"
      }
     },
     "44d1982b04694c589383687a479d51ca": {
      "model_module": "@jupyter-widgets/base",
      "model_module_version": "1.2.0",
      "model_name": "LayoutModel",
      "state": {
       "justify_content": "center"
      }
     },
     "45483ec5bccc43a4829cad084e0b6690": {
      "model_module": "@jupyter-widgets/base",
      "model_module_version": "1.2.0",
      "model_name": "LayoutModel",
      "state": {
       "min_width": "auto"
      }
     },
     "457fd8e06b404be68409150351083994": {
      "model_module": "@jupyter-widgets/base",
      "model_module_version": "1.2.0",
      "model_name": "LayoutModel",
      "state": {
       "max_width": "180px"
      }
     },
     "45ffdd09999e47b49822e08c22eea0a3": {
      "model_module": "@jupyter-widgets/base",
      "model_module_version": "1.2.0",
      "model_name": "LayoutModel",
      "state": {}
     },
     "461f32843c26414898e27ccccd5f309e": {
      "model_module": "@jupyter-widgets/base",
      "model_module_version": "1.2.0",
      "model_name": "LayoutModel",
      "state": {
       "min_width": "auto"
      }
     },
     "46535dee0b984448b6ba124b6e6e8a59": {
      "model_module": "@jupyter-widgets/controls",
      "model_module_version": "1.5.0",
      "model_name": "DescriptionStyleModel",
      "state": {
       "description_width": ""
      }
     },
     "46df8fb467df4777a16ad795d416f34d": {
      "model_module": "@jupyter-widgets/controls",
      "model_module_version": "1.5.0",
      "model_name": "GridBoxModel",
      "state": {
       "children": [
        "IPY_MODEL_e23547720dc341a5a3e5ddff66f6b981",
        "IPY_MODEL_c7242499d2e24581b66dfab79fb340a5",
        "IPY_MODEL_4bd1c9bfc66547ddaba2df1585ca3dd6"
       ],
       "layout": "IPY_MODEL_10d8c5953c6d4e369c19ed7474dca68c"
      }
     },
     "4728233a996448088d8390c727381625": {
      "model_module": "@jupyter-widgets/base",
      "model_module_version": "1.2.0",
      "model_name": "LayoutModel",
      "state": {
       "justify_content": "center"
      }
     },
     "476b8a5ff68d4c9ea8bc29be792fc758": {
      "model_module": "@jupyter-widgets/base",
      "model_module_version": "1.2.0",
      "model_name": "LayoutModel",
      "state": {}
     },
     "482759766b794b12a44fe2533721be35": {
      "model_module": "@jupyter-widgets/controls",
      "model_module_version": "1.5.0",
      "model_name": "DescriptionStyleModel",
      "state": {
       "description_width": ""
      }
     },
     "482a52ad25474e9aafa1227b0d93a5d3": {
      "model_module": "@jupyter-widgets/base",
      "model_module_version": "1.2.0",
      "model_name": "LayoutModel",
      "state": {
       "border": "4px solid #000000",
       "max_height": "650px",
       "min_height": "650px",
       "overflow_y": "hidden"
      }
     },
     "4977fdd57ddb4153bee97b96ed6db1d4": {
      "model_module": "@jupyter-widgets/base",
      "model_module_version": "1.2.0",
      "model_name": "LayoutModel",
      "state": {}
     },
     "499ee9e5ce974a5584bfb421a0175013": {
      "model_module": "@jupyter-widgets/base",
      "model_module_version": "1.2.0",
      "model_name": "LayoutModel",
      "state": {
       "grid_area": "top"
      }
     },
     "4a5a57e54a074aeb93de25623578c20c": {
      "model_module": "@jupyter-widgets/controls",
      "model_module_version": "1.5.0",
      "model_name": "HTMLModel",
      "state": {
       "layout": "IPY_MODEL_7069bdd7eca44f1aab1b80df85307161",
       "style": "IPY_MODEL_0d452460e27649cd8d072d8beac352ce",
       "value": "<h2 style ='color:#ffffff; background-color:#000000;padding-top: 1%; padding-bottom: 1%;padding-left: 1%;margin-top: 0px'>Backend Overview</h2>"
      }
     },
     "4a93ec1a5fd24a8c9b248325c94703d6": {
      "model_module": "@jupyter-widgets/base",
      "model_module_version": "1.2.0",
      "model_name": "LayoutModel",
      "state": {
       "align_items": "center",
       "display": "flex-inline",
       "grid_area": "right",
       "max_height": "325px",
       "padding": "10px 10px 10px 10px",
       "width": "auto"
      }
     },
     "4af8f37a582a4a39bce1d08c1a3c19b2": {
      "model_module": "@jupyter-widgets/base",
      "model_module_version": "1.2.0",
      "model_name": "LayoutModel",
      "state": {
       "max_width": "180px"
      }
     },
     "4ba6b66d57b5496a91b3ce49e95d3728": {
      "model_module": "@jupyter-widgets/controls",
      "model_module_version": "1.5.0",
      "model_name": "HTMLModel",
      "state": {
       "layout": "IPY_MODEL_6149ebf45e724bc28f0c791cc4b08aa5",
       "style": "IPY_MODEL_0f4d05b4fb074693b1f97f4985379b33",
       "value": "<h5>0.025</h5>"
      }
     },
     "4bd1c9bfc66547ddaba2df1585ca3dd6": {
      "model_module": "@jupyter-widgets/controls",
      "model_module_version": "1.5.0",
      "model_name": "HTMLMathModel",
      "state": {
       "layout": "IPY_MODEL_b7db277a2c25485395f5563aa5d87471",
       "style": "IPY_MODEL_e0a83d41261a4e89bfa286ddab7cb01f",
       "value": "<table><style>\ntable {\n    border-collapse: collapse;\n    width: auto;\n}\n\nth, td {\n    text-align: left;\n    padding: 8px;\n}\n\ntr:nth-child(even) {background-color: #f6f6f6;}\n</style><tr><th></th><th></th></tr><tr><td>default_rep_delay</td><td>250.0</td></tr><tr><td>rep_delay_range</td><td>[0.0, 500.0]</td></tr><tr><td>clops</td><td>2673</td></tr><tr><td>acquisition_latency</td><td>[]</td></tr><tr><td>supported_features</td><td>['q', 'o', 'b', 'j']</td></tr><tr><td>discriminators</td><td>['hw_centroid', 'linear_discriminator', 'quadratic_discriminator']</td></tr><tr><td>backend_name</td><td>ibmq_lima</td></tr><tr><td>parametric_pulses</td><td>['gaussian', 'gaussian_square', 'drag', 'constant']</td></tr><tr><td>meas_lo_range</td><td>[[6.925143125000001, 7.925143125000001], [6.721646720000001, 7.721646720000001], [6.971842939, 7.971842939], [6.865317232000001, 7.865317232000001], [6.919067567000001, 7.919067567000001]]</td></tr><tr><td>memory</td><td>True</td></tr><tr><td>coupling_map</td><td>[[0, 1], [1, 0], [1, 2], [1, 3], [2, 1], [3, 1], [3, 4], [4, 3]]</td></tr><tr><td>qubit_channel_mapping</td><td>[['m0', 'u1', 'd0', 'u0'], ['u4', 'u0', 'm1', 'u2', 'u1', 'u5', 'd1', 'u3'], ['u2', 'd2', 'm2', 'u4'], ['m3', 'u7', 'd3', 'u5', 'u3', 'u6'], ['m4', 'u6', 'u7', 'd4']]</td></tr><tr><td>online_date</td><td>2021-01-08 05:00:00+00:00</td></tr><tr><td>hamiltonian</td><td>$$\\begin{align} \\mathcal{H}/\\hbar = & \\sum_{i=0}^{4}\\left(\\frac{\\omega_{q,i}}{2}(\\mathbb{I}-\\sigma_i^{z})+\\frac{\\Delta_{i}}{2}(O_i^2-O_i)+\\Omega_{d,i}D_i(t)\\sigma_i^{X}\\right) \\\\ & + J_{0,1}(\\sigma_{0}^{+}\\sigma_{1}^{-}+\\sigma_{0}^{-}\\sigma_{1}^{+}) + J_{1,2}(\\sigma_{1}^{+}\\sigma_{2}^{-}+\\sigma_{1}^{-}\\sigma_{2}^{+}) + J_{1,3}(\\sigma_{1}^{+}\\sigma_{3}^{-}+\\sigma_{1}^{-}\\sigma_{3}^{+}) + J_{3,4}(\\sigma_{3}^{+}\\sigma_{4}^{-}+\\sigma_{3}^{-}\\sigma_{4}^{+}) \\\\ & + \\Omega_{d,0}(U_{0}^{(0,1)}(t))\\sigma_{0}^{X} + \\Omega_{d,1}(U_{1}^{(1,0)}(t)+U_{3}^{(1,3)}(t)+U_{2}^{(1,2)}(t))\\sigma_{1}^{X} \\\\ & + \\Omega_{d,2}(U_{4}^{(2,1)}(t))\\sigma_{2}^{X} + \\Omega_{d,3}(U_{6}^{(3,4)}(t)+U_{5}^{(3,1)}(t))\\sigma_{3}^{X} \\\\ & + \\Omega_{d,4}(U_{7}^{(4,3)}(t))\\sigma_{4}^{X} \\\\ \\end{align}$$</td></tr><tr><td>pulse_num_channels</td><td>9</td></tr><tr><td>timing_constraints</td><td>{'acquire_alignment': 16, 'granularity': 16, 'min_length': 64, 'pulse_alignment': 1}</td></tr><tr><td>local</td><td>False</td></tr><tr><td>input_allowed</td><td>['job', 'runtime']</td></tr><tr><td>simulator</td><td>False</td></tr><tr><td>multi_meas_enabled</td><td>True</td></tr><tr><td>url</td><td>None</td></tr><tr><td>channels</td><td>{'acquire0': {'operates': {'qubits': [0]}, 'purpose': 'acquire', 'type': 'acquire'}, 'acquire1': {'operates': {'qubits': [1]}, 'purpose': 'acquire', 'type': 'acquire'}, 'acquire2': {'operates': {'qubits': [2]}, 'purpose': 'acquire', 'type': 'acquire'}, 'acquire3': {'operates': {'qubits': [3]}, 'purpose': 'acquire', 'type': 'acquire'}, 'acquire4': {'operates': {'qubits': [4]}, 'purpose': 'acquire', 'type': 'acquire'}, 'd0': {'operates': {'qubits': [0]}, 'purpose': 'drive', 'type': 'drive'}, 'd1': {'operates': {'qubits': [1]}, 'purpose': 'drive', 'type': 'drive'}, 'd2': {'operates': {'qubits': [2]}, 'purpose': 'drive', 'type': 'drive'}, 'd3': {'operates': {'qubits': [3]}, 'purpose': 'drive', 'type': 'drive'}, 'd4': {'operates': {'qubits': [4]}, 'purpose': 'drive', 'type': 'drive'}, 'm0': {'operates': {'qubits': [0]}, 'purpose': 'measure', 'type': 'measure'}, 'm1': {'operates': {'qubits': [1]}, 'purpose': 'measure', 'type': 'measure'}, 'm2': {'operates': {'qubits': [2]}, 'purpose': 'measure', 'type': 'measure'}, 'm3': {'operates': {'qubits': [3]}, 'purpose': 'measure', 'type': 'measure'}, 'm4': {'operates': {'qubits': [4]}, 'purpose': 'measure', 'type': 'measure'}, 'u0': {'operates': {'qubits': [0, 1]}, 'purpose': 'cross-resonance', 'type': 'control'}, 'u1': {'operates': {'qubits': [1, 0]}, 'purpose': 'cross-resonance', 'type': 'control'}, 'u2': {'operates': {'qubits': [1, 2]}, 'purpose': 'cross-resonance', 'type': 'control'}, 'u3': {'operates': {'qubits': [1, 3]}, 'purpose': 'cross-resonance', 'type': 'control'}, 'u4': {'operates': {'qubits': [2, 1]}, 'purpose': 'cross-resonance', 'type': 'control'}, 'u5': {'operates': {'qubits': [3, 1]}, 'purpose': 'cross-resonance', 'type': 'control'}, 'u6': {'operates': {'qubits': [3, 4]}, 'purpose': 'cross-resonance', 'type': 'control'}, 'u7': {'operates': {'qubits': [4, 3]}, 'purpose': 'cross-resonance', 'type': 'control'}}</td></tr><tr><td>open_pulse</td><td>False</td></tr><tr><td>conditional_latency</td><td>[]</td></tr><tr><td>dt</td><td>0.2222222222222222</td></tr><tr><td>uchannels_enabled</td><td>True</td></tr><tr><td>credits_required</td><td>True</td></tr><tr><td>u_channel_lo</td><td>[[{'q': 1, 'scale': (1+0j)}], [{'q': 0, 'scale': (1+0j)}], [{'q': 2, 'scale': (1+0j)}], [{'q': 3, 'scale': (1+0j)}], [{'q': 1, 'scale': (1+0j)}], [{'q': 1, 'scale': (1+0j)}], [{'q': 4, 'scale': (1+0j)}], [{'q': 3, 'scale': (1+0j)}]]</td></tr><tr><td>dynamic_reprate_enabled</td><td>True</td></tr><tr><td>processor_type</td><td>{'family': 'Falcon', 'revision': 4, 'segment': 'T'}</td></tr><tr><td>rep_times</td><td>[1000.0]</td></tr><tr><td>supported_instructions</td><td>['cx', 'delay', 'x', 'id', 'measure', 'rz', 'setf', 'u2', 'u1', 'acquire', 'shiftf', 'reset', 'sx', 'play', 'u3']</td></tr><tr><td>description</td><td>5 qubit device Lima</td></tr><tr><td>n_uchannels</td><td>8</td></tr><tr><td>allow_q_object</td><td>True</td></tr><tr><td>meas_map</td><td>[[0, 1, 2, 3, 4]]</td></tr><tr><td>pulse_num_qubits</td><td>3</td></tr><tr><td>meas_kernels</td><td>['hw_boxcar']</td></tr><tr><td>measure_esp_enabled</td><td>False</td></tr><tr><td>dtm</td><td>0.2222222222222222</td></tr><tr><td>qubit_lo_range</td><td>[[4.529752763617062, 5.529752763617062], [4.627683591792908, 5.627683591792908], [4.747344147376311, 5.747344147376312], [4.802254227477037, 5.802254227477037], [4.592155017911517, 5.592155017911517]]</td></tr><tr><td>n_registers</td><td>1</td></tr><tr><td>meas_levels</td><td>[1, 2]</td></tr><tr><td>allow_object_storage</td><td>True</td></tr><tr><td>sample_name</td><td>family: Falcon, revision: 4, segment: T</td></tr><tr><td>conditional</td><td>False</td></tr></table>"
      }
     },
     "4cb5271ab8dd4ee19b4229c50610b897": {
      "model_module": "@jupyter-widgets/controls",
      "model_module_version": "1.5.0",
      "model_name": "DescriptionStyleModel",
      "state": {
       "description_width": ""
      }
     },
     "4d8ac383a76e433c8f5e37e6359afd65": {
      "model_module": "@jupyter-widgets/base",
      "model_module_version": "1.2.0",
      "model_name": "LayoutModel",
      "state": {
       "align_items": "center",
       "display": "inline-flex",
       "flex_flow": "column"
      }
     },
     "4ef907fd2cd64e8e86b8266f9b5354cd": {
      "model_module": "@jupyter-widgets/controls",
      "model_module_version": "1.5.0",
      "model_name": "HTMLModel",
      "state": {
       "layout": "IPY_MODEL_18ad7707316c430caa4f65faedba1efa",
       "style": "IPY_MODEL_62628d7bf0604c5b8eed4917d7cd5c50",
       "value": "<h5 style='color:#dc267f'>False</h5>"
      }
     },
     "4f033b9476af4fba9af323a3b52ae4c3": {
      "model_module": "@jupyter-widgets/controls",
      "model_module_version": "1.5.0",
      "model_name": "LabelModel",
      "state": {
       "layout": "IPY_MODEL_34d20284c1f14054b6b52480c2689983",
       "style": "IPY_MODEL_5dec2dd9c6484abc8c62dfe95c4552b1",
       "value": "Avg. CX Err."
      }
     },
     "4f1f65f6191d43a78ad02791a6a8b832": {
      "model_module": "@jupyter-widgets/controls",
      "model_module_version": "1.5.0",
      "model_name": "HTMLModel",
      "state": {
       "layout": "IPY_MODEL_499ee9e5ce974a5584bfb421a0175013",
       "style": "IPY_MODEL_5c43b8b7eaa245a5856fb904b36a16b1",
       "value": "<div><font style='font-weight:bold'>last_update_date</font>: 2022-01-19 04:50:17+00:00</div>"
      }
     },
     "5076504c66c443818c2e20fe0ac15100": {
      "model_module": "@jupyter-widgets/controls",
      "model_module_version": "1.5.0",
      "model_name": "DescriptionStyleModel",
      "state": {
       "description_width": ""
      }
     },
     "50a66a6e184944b9ae2c3e87f2779361": {
      "model_module": "@jupyter-widgets/controls",
      "model_module_version": "1.5.0",
      "model_name": "LabelModel",
      "state": {
       "layout": "IPY_MODEL_b65c78466632421dad7ee10da72a1878",
       "style": "IPY_MODEL_fc60244415df44be823970747d85483c",
       "value": "Num. Qubits"
      }
     },
     "50f5d120bfdb419fb10c3ef582cf0fdf": {
      "model_module": "@jupyter-widgets/base",
      "model_module_version": "1.2.0",
      "model_name": "LayoutModel",
      "state": {
       "width": "145px"
      }
     },
     "51f0c8bbb1dc426da51ee9d9ecab5f50": {
      "model_module": "@jupyter-widgets/controls",
      "model_module_version": "1.5.0",
      "model_name": "DescriptionStyleModel",
      "state": {
       "description_width": ""
      }
     },
     "525c2d920dfe48e6b3c710f40fa79bb7": {
      "model_module": "@jupyter-widgets/controls",
      "model_module_version": "1.5.0",
      "model_name": "DescriptionStyleModel",
      "state": {
       "description_width": ""
      }
     },
     "52a0feb31aa348d6a7617016936960e0": {
      "model_module": "@jupyter-widgets/base",
      "model_module_version": "1.2.0",
      "model_name": "LayoutModel",
      "state": {
       "align_items": "center",
       "display": "flex-inline",
       "grid_area": "right",
       "max_height": "325px",
       "padding": "10px 10px 10px 10px",
       "width": "auto"
      }
     },
     "52a35008169047f4a8921ba5925ad409": {
      "model_module": "@jupyter-widgets/controls",
      "model_module_version": "1.5.0",
      "model_name": "DescriptionStyleModel",
      "state": {
       "description_width": ""
      }
     },
     "5445f03f26f04dd5a6db16b74b5c4053": {
      "model_module": "@jupyter-widgets/controls",
      "model_module_version": "1.5.0",
      "model_name": "HTMLModel",
      "state": {
       "layout": "IPY_MODEL_f1d795215a874bf6bbb90a98f5ba84a9",
       "style": "IPY_MODEL_8aec43dfda664c90b09bfe6af7063624",
       "value": "<h5 style='color:#dc267f'>False</h5>"
      }
     },
     "550772f4a74d4b22a6fe39fe2eb93050": {
      "model_module": "@jupyter-widgets/controls",
      "model_module_version": "1.5.0",
      "model_name": "DescriptionStyleModel",
      "state": {
       "description_width": ""
      }
     },
     "56926ee07ad5492a87d061f98dc4451c": {
      "model_module": "@jupyter-widgets/controls",
      "model_module_version": "1.5.0",
      "model_name": "ButtonStyleModel",
      "state": {
       "button_color": "white"
      }
     },
     "58ed81ff7e0e4d0b80883d634ad4409d": {
      "model_module": "@jupyter-widgets/base",
      "model_module_version": "1.2.0",
      "model_name": "LayoutModel",
      "state": {}
     },
     "592e1e8243c6404ebff4b7113957a92e": {
      "model_module": "@jupyter-widgets/controls",
      "model_module_version": "1.5.0",
      "model_name": "GridBoxModel",
      "state": {
       "children": [
        "IPY_MODEL_4f1f65f6191d43a78ad02791a6a8b832",
        "IPY_MODEL_156807212c2d40f1b54b7cfd6a21f1db",
        "IPY_MODEL_27bdf6aa52414d1d80442049135ef38c",
        "IPY_MODEL_975f1c31cb55481e91f80e22db1aea52"
       ],
       "layout": "IPY_MODEL_d4c1df8b812042d08ae0ce36beb3a32e"
      }
     },
     "59eccaff11434fbfbf6c9766a4d4b1c6": {
      "model_module": "@jupyter-widgets/controls",
      "model_module_version": "1.5.0",
      "model_name": "DescriptionStyleModel",
      "state": {
       "description_width": ""
      }
     },
     "5ad807ca65ef47fd8c399f2be0f42c38": {
      "model_module": "@jupyter-widgets/controls",
      "model_module_version": "1.5.0",
      "model_name": "DescriptionStyleModel",
      "state": {
       "description_width": ""
      }
     },
     "5b1d971a6ada4871abaa1fb696a1cfdf": {
      "model_module": "@jupyter-widgets/controls",
      "model_module_version": "1.5.0",
      "model_name": "DescriptionStyleModel",
      "state": {
       "description_width": ""
      }
     },
     "5c43b8b7eaa245a5856fb904b36a16b1": {
      "model_module": "@jupyter-widgets/controls",
      "model_module_version": "1.5.0",
      "model_name": "DescriptionStyleModel",
      "state": {
       "description_width": ""
      }
     },
     "5c55c35d964d4ddd87cda64632a33d13": {
      "model_module": "@jupyter-widgets/controls",
      "model_module_version": "1.5.0",
      "model_name": "TabModel",
      "state": {
       "layout": "IPY_MODEL_6438302397504f64aa0be8715617022c"
      }
     },
     "5d587e800e9c4d3d8a8323f32dae97df": {
      "model_module": "@jupyter-widgets/output",
      "model_module_version": "1.0.0",
      "model_name": "OutputModel",
      "state": {
       "layout": "IPY_MODEL_27e49a3549364c578ae6451999924502",
       "outputs": [
        {
         "data": {
          "image/png": "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\n",
          "text/plain": "<Figure size 360x360 with 1 Axes>"
         },
         "metadata": {},
         "output_type": "display_data"
        }
       ]
      }
     },
     "5dec2dd9c6484abc8c62dfe95c4552b1": {
      "model_module": "@jupyter-widgets/controls",
      "model_module_version": "1.5.0",
      "model_name": "DescriptionStyleModel",
      "state": {
       "description_width": ""
      }
     },
     "5f2e04848d514ed8a089e69a7dd0ff68": {
      "model_module": "@jupyter-widgets/base",
      "model_module_version": "1.2.0",
      "model_name": "LayoutModel",
      "state": {}
     },
     "5f32ef8d9d07442594c8cc29999a4e16": {
      "model_module": "@jupyter-widgets/base",
      "model_module_version": "1.2.0",
      "model_name": "LayoutModel",
      "state": {
       "grid_area": "top"
      }
     },
     "5f4c4a769214404b83df711d32fcabd8": {
      "model_module": "@jupyter-widgets/controls",
      "model_module_version": "1.5.0",
      "model_name": "DescriptionStyleModel",
      "state": {
       "description_width": ""
      }
     },
     "60024ad5c7c9404a8cfbb329d99f12fc": {
      "model_module": "@jupyter-widgets/controls",
      "model_module_version": "1.5.0",
      "model_name": "LabelModel",
      "state": {
       "layout": "IPY_MODEL_e990215f70304765a944ed7727ddb414",
       "style": "IPY_MODEL_80319388deb24fb1860e382023d334c2",
       "value": "Pending Jobs"
      }
     },
     "608f3c0b12924f1dac9dcb34f1b9af6b": {
      "model_module": "@jupyter-widgets/output",
      "model_module_version": "1.0.0",
      "model_name": "OutputModel",
      "state": {
       "layout": "IPY_MODEL_cc7ed5b268484b9bb5fb946fc43ebb23",
       "outputs": [
        {
         "data": {
          "image/png": "iVBORw0KGgoAAAANSUhEUgAAAo4AAAIACAYAAAAMtO1IAAAAOXRFWHRTb2Z0d2FyZQBNYXRwbG90bGliIHZlcnNpb24zLjUuMSwgaHR0cHM6Ly9tYXRwbG90bGliLm9yZy/YYfK9AAAACXBIWXMAAAsTAAALEwEAmpwYAABJoUlEQVR4nO3deZgcVb3/8fc3GyFhMy7sDiDIojRbXMBlkEVBQfC6gYCIelXUqyLoT1EUuepVLrhzUUFFQSMIXkVAMYiOIqhMRBrZBINzWQUcAtkh4fz+qBroTGaSmpnuqe6a9+t55slMdfU5305P13z61KnTkVJCkiRJWptJZRcgSZKkzmBwlCRJUiEGR0mSJBVicJQkSVIhBkdJkiQVYnCUJElSIQZHSZIkFWJwlCRJUiEGR0mSJBVicJQkSVIhBkdJkiQVYnCUJElSIQZHSZIkFWJwlCRJUiEGR0mSJBVicJQkSVIhBkdJkiQVYnCUJElSIQZHSZIkFWJwlCRJUiEGR0mSJBVicJQkSVIhBkdJkiQVYnCUJElSIQZHSZIkFWJwlCRJUiEGR0mSJBVicJQkSVIhBkdJkiQVYnCUJElSIQZHSZIkFWJwlCRJUiEGR0mSJBVicJQkSVIhBkdJkiQVYnCUJElSIQZHSZIkFWJwlCRJUiEGR0mSJBVicJQkSVIhBkdJkiQVYnCUJElSIQZHSZIkFWJwlCRJUiEGR0mSJBVicJQkSVIhBkdJkiQVYnCUJElSIQZHSZIkFWJwlCRJUiEGR0mSJBVicJQkSVIhBkdJkiQVYnCUJElSIQZHSZIkFWJwlCRJUiEGR0mSJBVicJQkSVIhBkdJkiQVYnCUJElSIQZHSZIkFWJwlCRJUiEGR0mSJBVicJQkSVIhBkdJkiQVYnCUJElSIQZHSZIkFWJwlCRJUiFtFRwjIkXEtmXXMZ4iYk5EHDqK+60TEbdExNNbUJYkSdJq1hocI+IfEbE0IhZFxH0RcU5ErDcexY1WRPwmIt6+htu3ykPqokFfbxznOmvALsBP8593iYgbI+LBiPhgw35TI+KPEbHlwLaU0nLg28BHxrNmSZI0cRUdcTw4pbQesCuwG/DRllU0vjZKKa3X8HX+UDtFxORBP08ZSSdr2P+dwPdTSin/+b+AE8jC5MciYpN8+weBi1JKdw66/w+AoyNinZHUI0mSNBojOlWdUroPuJwsQAIQES+MiKsjYkFEXB8RezfcdkxE3BwRCyNifkS8s7G9iPhQRNwbEfdExFsH3bZhRHwvIh6IiL6I+HhETMpvOzkizmvYd2AEcUpEfAZ4CfC1fBTxayN5jHl750TEmRFxWUQsBl6Wj7z+v4ioA4vzvl6djxAuyEc5d2xoY7X9h+jqQKCn4eetgStTSncDtwHPjIgu4LXAFwffOaV0F/AQ8MKRPkZJkqSRGlFwjIgtyMLO7fnPmwOXAp8GZpGNll3UMO/ufuAgYAPgGOCLEbF7ft8D8v33B7YD9hvU3VeBDYFtgG7gzXkba5RS+hjwO+C9+Sjie0fyGBu8CfgMsD5wVb7tcOBVwEZ5XXOADwBPBy4DfhYR0xraeGL/lNKKxsYjYiZZULy1YfNfgZfn/89bAX8Hvgx8KKX02DB13kw2QilJktRSRYPjTyJiIXAnWRj8ZL79SOCylNJlKaXHU0pzgV7glQAppUtTSn9PmR7gl2SjgQBvAL6TUvprSmkxcPJAZ/mp4cOAj6aUFqaU/gGcDhw1hsc6lAfz0cKBrx0bbvtpSun3+eNalm/7SkrpzpTSUuCNwKUppbl5qDsNWBfYq6GNxv0H2yj/d2HDthOAY4GLgeOAF+W33xERP42Inoh4/aB2Fja0JUmS1DJF5+odmlK6IiK6yebVPQ1YAHQBr4+Igxv2nQr8GiAiDiQLmc8mC6kzgBvy/TYD5jXcr6/h+6fl7fQNun3zgvUW9bTBI4ENBs8nHLxtMxrqSyk9HhF3smqNQ7UxYEH+7/rAsryNPvLQHREzgGuAl5ONvp5PNrr714j4VUqpv+H+C5AkSWqxkc5x7AHOIRtdgywYnZtS2qjha2ZK6XP5BRsX5ftunFLaiOx0buT3vRfYsqH5ZzZ8/yDwGFkwbbz97vz7xWQhdMAmrCoxdkO10bjtHhrqi4ggezx3D7P/qg1lo6x/JwvVQ/kEcFZK6Z/AzkBvSulh4C6gccmiHYHrh38YkiRJzTGadRy/BOwfEbsA5wEHR8QrImJyREyPiL3zOXrTgHWAB4AV+ejjyxvauQB4S0TslI+uDZz+JqW0Mr/9MxGxfn6ByAfz/gD+Arw0Ip4ZERuy+lXe/ySbg9hKFwCvioh9I2IqcDywHLh6BG1cRjZ/cxURsROwN3BmvukOYJ+I2JhsPuj/5fttTja39A+jfAySJEmFjTg4ppQeAL4HfCJfHuYQ4ESygHgn8CFgUkppIfA+soD1ENnFJhc3tPNzshB6JdnFNlcO6uo/yEYW55NdnPIDsnULyedSng/UyU53XzLovl8GXhcRD0XEV9bwcBYMWsfxg2vYd/D/w61kczy/SjZCejDZskWPFm0D+CZwRD5a2egM4P15gIYsGL8PuBH4bH51O2T/p9/N13SUJElqqXhyCUGVISJ+AFyQUvrJCO+3Dtkp6pemlO5vRW2SJEmNDI6SJEkqpK0+q1qSJEnty+AoSZKkQgyOkiRJKqToAuBjUcokysMPPxyAOXPmlNH9aAy+slqSJKmtOOIoSZKkQsbjqupSRhz7+7NP5Js1a1YZ3Y+GI46SJKmtVTY4diCDoyRJamuVPVV94YUXcuGFF5ZdhiRJUmVUNjhedNFFXHTRRWWXIUmSVBmVDY6SJElqLoOjJEmSCjE4SpIkqRCDoyRJkgqp7HI8S5cuBWDdddcto/vRcDkeqY3UuroDeAawPjAdWAksBR6s9/UsKrM2SSpLZYNjBzI4SiWqdXU/FegGng+8FNiZ7GNZVwCPk71GA1gHuB/4E/Bb4FrgD/W+npUllC1J46qywfHcc88F4Kijjiqj+9EwOErjLB9VfAFwPHAQ8CiwHsWn8SwDHiMbifwicHa9r+fBFpQqSW2hssHx8MMPB2DOnDlldD8aBkdpnOSB8TDgU8BmwLqMfc730ryNS4CP1vt6bhtje5LUdrw4RtKEUuvq3hy4EjgL2A6YSXOOheuSncY+FLi+1tV9fK2re3IT2pWktmFwlDQh1Lq6o9bV/RbgFuBFZIGxFSaThchPAb21ru7tWtSPJI27Ka3uYP4Vc5vSzjb77d+UdiRNPLWu7mnA+cD+tC4wDjaT7AKbv9S6ug+v9/VcPE79SlLLOOIoqdJqXd3rApcDL2f8QuOAycAM4Ie1ru4jx7lvSWq6ll8cM/+KuU3pYAKMOHpxjNRkta7uqcAvgD3JTh+XaSnw5npfz4Ul1yFJo+aIo6QqOxd4IeWHRshq+G6tq7u77EIkabQqGxzPOusszjrrrLLLkFSSWlf368jWZpxRdi0NZgA/qnV1r192IZI0GpUNjldeeSVXXnll2WVIKkGtq/sZwNmM/5zGItYHvlp2EZI0GpUNjpImtG/THqenhzIdeH2tq3u/sguRpJEyOEqqlFpX9yuBvYFpJZeyJjOA7+cX70hSxzA4Sqqaj9Oep6gHWxc4uOwiJGkkKhscp0+fzvTp08suQ9I4qnV1PxvYrew6Clof+H9lFyFJI9HyT44py3e+852yS5A0/t5Htuh2p9i51tW9Q72v55ayC5GkIio74ihpYql1dU8H3gJ00rzBKcB7yy5CkoqqbHD86le/yle/6ooX0gSyC7Cy7CJGaCpwYNlFSFJRlQ2OV199NVdffXXZZUgaP7PprNHGAVvmo6WS1PYqGxwlTTgvpslrNx751tdx4S++zXXzr6Te18OxH3hLM5sfsBSotaJhSWo2g6OkqnhhsxvccefteXjBI9x3z/3NbrrRFGCPVnYgSc1icJRUFVs2u8GPHfcZ3nbYB7j1ptub3XSjGWTzMyWp7VV2OZ6NNtqo7BIkjZNaV/cUOvuN8AZlFyBJRVQ2OJ555plllyBp/Ewnu6K6U49pM8ouQJKK6OR36JI04DE6+3j2aNkFSFIRnXygXaNTTz2VU089tewyJI2PR4Eou4gxWFR2AZJURKee1lmr6667ruwSJI2Tel9PqnV1PwTMama7/3bYq9ht9s7s+NxnA/Cyl7+YzbbYhCt/eRW//uVVzermMWB+sxqTpFYa0YhjRMyKiP+NiMUR0RcRb2pVYZI0Qk1/t7jb7J055PUHsunmGwOww3O245DXH8gOO23bzG6WANc2s0FJapWRjjieQXZKaGNgV+DSiLg+pXRjswuTpBHqAV5KEz895qQTPsdJJ3yuWc0NZ11gXqs7kaRmKDziGBEzgdcCJ6WUFqWUrgIuBo5qVXGSNAK9ZKN3nWZhva/nwbKLkKQiRnKq+tnAipTS3xq2XQ88Z/COEfGOiOiNiN45l1461hpHZZNNNmGTTTYppW9JpbiWbFmeTvOnsguQpKJGcqp6PeCRQdseBtYfvGNK6ZvANwHmXzE3jbq6MfjiF79YRreSSlLv63mw1tX9e2CfsmsZgYXA18ouQpKKGsmI4yJW/3SDDcgOfJLUDv6bzlraZilwedlFSFJRIwmOfwOmRMR2Ddt2AdrywphTTjmFU045pewyJI2vX9I5wXEp8MV6X8/KsguRpKIKB8eU0mLgx8ApETEzIl4EHAKc26rixuLmm2/m5ptvLrsMSeOo3tfzOPAFOuMimQDOLrsISRqJkX5yzLvJlo64H5gDHOtSPJLazBnAQ2UXsRaLgc97NbWkTjOi4JhS6k8pHZpSmplSemZK6QetKkySRqPe17MEeCPZqeB2lIC7gM+UXYgkjVRlP6ta0sRV7+v5PfBt2jM8LgNeX+/reazsQiRppCr7WdVbb7112SVIKteHgaPLLmKQxcB/1/t6bii7EEkajcoGx89+9rNllyCpJLWu7gD+i2z92XaxBLgE+M+yC5Gk0fJUtaRKyUPjl4D3lVxKoyXAr4Ej8yu/JakjVTY4nnjiiZx44olllyFpHBUIjWWEtsXAxcCh9b6eFSX0L0lNU9lT1XfccUfZJUgaRwVC4xeB3YHZwMxxKOlxYDlwMvAFRxolVUFlg6OkiaNAaDyFLMABHAN8GVgHmNqikhYDtwNvrPf13NqiPiRp3BkcJXW0oqGx3teT8p+/Xevq/iXwHeDFZFN2pjWpnEVknwhzMn6coKQKMjhK6lijCI0A1Pt67gL2r3V1b5ff9xiyhblHcxX242TrRd4DfA74Yb4IuSRVTmWD44477lh2CZJaaLShsVG9r+c24D9qXd3/j+zTZl4L7AE8lexK6HUmRUx/PGVNTJ48iWlTp7B02aMLgenAbcDvyBYbv3ZNfUlSFURKrT3Ozb9iblM62Ga//ZvRTDuLsguQOkUzQuNa2t+I7EKa5779qAO/vGz5o0yZMpl1pk1low3X4/NfPr8G3OxV0pImGoNj+zA4SgW0OjQO1l/vXa2dWbXZvl4lTUiVXcfxuOOO47jjjiu7DElNNN6hUZK0qsrOcbzvvvvKLkFSExkaJal8lR1xlFQdhkZJag8GR0ltzdAoSe3D4CipbRkaJam9VHaO42677VZ2CZLGwNAoSe2n5cvxkH0ag9bO5T2kXDuFRpfjkaQneapaUltpp9AoSVpVZYPjsccey7HHHlt2GZJGwNAoSe2tsnMcFyxYUHYJkkbA0ChJ7a+yI46SOoehUZI6g8FRUqkMjZLUOQyOkkpjaJSkzlLZOY577bVX2SVIWgNDoyR1HtdxbB+uC6cJo5NCo+s4StKTPFUtaVx1UmiUJK2qssHxmGOO4Zhjjim7DEkNDI2S1NkqO8dx2bJlZZcgqYGhUZI6X2VHHCW1D0OjJFVDy0cc518xt9VdDGnpQw+NqP9t9tu/leVIE5ahUZKqwxFHSS1jaJSkaqnsHMcX1nYuuwRpQjM0SlL1VDY4vuHlLy+7BGnCMjRKUjV5qlpSUxkaJam6KhscP3ja6XzwtNPLLkOaUAyNklRtlQ2OksaXoVGSqs/gKGnMDI2SNDFU9uIYSeMjD41/AJ4/zC6GRkmqCIOjpFHLQ+OfgV2H2cXQKEkVUtng2D17j7JLkCrN0ChJE09lg+Mhe+9ddglSZeWh8fcMHxpPx9AoSZVT2Ytjli1/lGXLHy27DKlyGi6E2XOYXXqADxkaJal6KhscT/zqVznxq18tuwypUgpcPd0DvMzQKEnVVNngKKm5DI2SJIOjpLUqEBo/j6FRkirP4ChpjQou7v1RQ6MkVZ/BUdKw/EQYSVKjyi7H84q9hrvgU1IRhkZJ0mAVDo57lV2C1LEMjZKkoVT2VPXDCxfx8MJFZZchdRxDoyRpOJUNjp/6xjf41De+UXYZUkcxNEqS1mREwTEi3hsRvRGxPCLOaVFNkkpgaJQkrc1I5zjeA3waeAWwbvPLkVQGQ6MkqYgRBceU0o8BImI2sEVLKpI0rgyNkqSiKjvHUdLaGRolSSPRkuAYEe/I50L2zrn00lZ0sVYHd7+Ug7tfWkrfUicwNEqSRqol6zimlL4JfBNg/hVzS/mj87LnPa+MbqWOYGiUJI1GZU9V39/fz/39/WWXIbUdQ6MkabRGuhzPlIiYDkwGJkfE9Ihoy0+f+dy3v8Pnvv2dssuQ2oqhUZI0FiMdcfw4sBT4CHBk/v3Hm12UpOYzNEqSxmqky/GcDJzckkoktYyhUZLUDJWd4ygpY2iUJDWLwVGqMEOjJKmZ2vLClmZ4/f77lV2CVCpDoySp2SobHPfcZZeyS5BKY2iUJLVCZU9V33nffdx5331llyGNO0OjJKlVKhscv3je9/nied8vuwxpXBkaJUmtVNngKE00hkZJUqsZHKUKMDRKksaDwVHqcIZGSdJ4MThKHczQKEkaT5VdjueIV76y7BKkljI0SpLGW2WD4x477Vh2CRK1ru51gBnAOsAKYBmwpN7X8/gY2zU0joP+eu+0smvQ6NW6uqeSvf6mAwlYSvb6W1lqYVIHi5Ra+3dl/hVzS/nDdfuddwKw7ZZbFtp/m/32b2U5RUTZBWhsal3d6wHPB/YAuvN/n0EWGFeSPcdTgMeAW4DfAn8A/lTv65k/gn4MjS3QX+9dF3ge2fP20vz7TRl6Ss8NwO+Aa4Brgb/Nqs32/7tEta7uacBssufvJcALgM3JXnsDr7/J+e63A1cBVwO9wI2+XqRiKhscP3ja6QB84YTjC+1vcNRo1bq6nwt8AHgT8CiwLlBkpCoBi8jC5G3A54GL6n09y9fQl6GxyfrrvduR/X8eQxYw1sm/1mbg+ZsM3AWcCsyZVZu9pEWlagi1ru4u4N3Au/JN08hGGItYRHbs/Rfw38D36n09jzS9SKlCDI45g6NGIg9whwCfBLYHpjL2qR8L83+/AXyu3tfzryH6/BKGxqbor/e+nOz5250s/E0dY5MDIeS7wKdn1WbfO8b2tAa1ru4XA58C9iIbFR7rtILFeTs/BE6p9/X8Y4ztSZXkVdXSCNW6ujcBfgGcB+xKNsLYjPnC6+df/wHcXuvqPqShT0Njk/TXe5/SX++9APhfstAxnbGHRoD1gJnAvwN/66/3HtVf7/UNYZPVurrXq3V1nw1cDuxD9vw1Yy7qTLLX8lHAjbWu7nfXurr9GykN4otCKqjW1R21ru7Dgb8Be5P9oWmFdYCNgB/Uurp/XOvqfiqGxqbor/ceBPwdeDXZRROtMJUsRJ4JzO2v927aon4mnFpX995k8xOPoHXP35S87VOBa2pd3Vu3qB+pIxkcpQLyqzMvAM4iGxUcj6ttZwCvBO7G0Dgm/fXeSf313m8A5wNPodgcxrGaSXaRza399d7uceivsvI3bZ8FLgU2pvgcxrGYSXahzQ21ru6Dx6E/qSNUNji+7TWH8rbXHFp2GaqAWlf3umSnxV5J60YZh7OmCzUMjQX013unAj8CjqR1o1TDmUr2RuOy/nrvq8a570rITxd/k+zN03g/f5PJXvPn17q6jxznvqW21PKLY8iuPNTaOReqDeUjjZcDLySb/9QuDI0F9Nd7J5GNFB/I+IeOwZYCh8yqzZ5bch0dI5/beyZZ6B/vN22DLQWOrvf1/KjkOqRSVXbEcd68ecybN6/sMtTB8j9ac8jWg2un0HgGhsaivkZ7hEbIfod+0l/vfV7ZhXSQk2mP0AjZ8/fdWlf3vmUXIpWpssHxtNNO47TTTiu7DHW2NwEH0B6hY0AiuzBn8lr2m/D6670HAkfTXs/fDOCifLFxrUGtq/uFwIdoj9A4YF3gglpX90ZlFyKVpbLBURqLWlf3pmSnyNrpjxZkUxq2Bj5cdiHtrL/euyFwLu0VGgc8Ffhc2UW0s1pX93SyKQbtGLBnkB0bpAnJ4CgNkp+i/h7jc+XmaMwAPl7r6t6p7ELa2P/QfqF/wAzg3/vrvXuWXUgb+y+ygN2OpgOvrnV1e7GTJiSDo7S6fwP2pDmLQrfKOmTrPHpR1SD99d69gUNp3+AP2UjaD/vrvU45GKTW1b0L8E7ac7R4wAyy+Y7t/DsmtYTBUVrdJ2nf0aoBk4BtAS+0WN1JtHfoGPAU4BVlF9GGPsL4rJM6VusAry+7CGm8NeNj0trSSSedVHYJ6kC1ru5dgWeVXUdB6wLHA28su5B20V/v7SL7GMFOsD7ZXNXLyi6kXdS6umeRjRZ3wkjsesD/I5tLK00YlR1x3GmnndhpJ6eAacSOozNGOyB7/b46/0hCZd5NZ62J+oL+eq8fafekY4DHyy5iBLaudXXvXnYR0niqbHC86qqruOqqq8ouQx2k1tW9Admpp04aiX8ceGvZRbSD/BNi3sX4fJxgs0wC3lN2Ee0gn6/7QTpjmsGAdchqliaMygbHM844gzPOOKPsMtRZ9gQeK7uIEZoBvKbsItpEjc4abYRsdNvPQc48E9io7CJGaDLw8rKLkMZTZYOjNAqzac9149ZmZ6+uBrLnrxPmxg22dX+9t1OmR7TSbGBF2UWMwoZOF9FE0kmn5KRW66bJS/BMW2caHzzxWA446GXMWG8GN//1b5z2n2dww19ubmY3k4Etgf9rZqMd6EU0+TTnjC26mDpjPSZNnUZKiRVLFrP03jtZuXxZM7tZCjwX+HMzG+1Azye74KSpPn36R3nBi/fgKU/ZkMWLl3BT/Va+fOpZ3HLjbc3qYimwB/DLZjUotbOWB8f5V8xtdRdDWvrQQ6X2vzbb7Ld/2SVodbs1u8EPf+K9vOHIQ7jtlvn88fd/5hUHv4xvnHc6r3zJ4Sx46OFmdfMY2R+uiR4cm76g9vRZT2fF4kUsX9zP1PU3YNoGGzJl+rosuPUGSE37qPDJZM/fRA+OL6UFZ8E23Xxj5v3xehY9spjn77UbL9r7BWy9bRcHvKhpixHMIBstNThqQnDEUQJqXd0zafL8qllP3YjXvOGVrFy5kn9/03H0/2sBK1au5OB/ezmHH/0azvzSOc3qaj2yEav/bVaDHWqrZjf48G03sXLpEgAmTZ3GRjvWmDRtGpOnr/vE9iaYSQvetHSg7VvR6NsO+8AT3+/43O04/9Kz2XjTpzNlymRWrFjZjC6mko2WShNCZYPjcUceUXYJ6izrkY3cNe018axnb83UaVO5+8576f/XAgBuqt/Cwf/2crbfadtmdQPZKM0GzWyw0/TXe6fQguPZKuEwsmmkKSUef6zp11Ad21/vPbbZjXaSdaZNZfmjrbk27bCjX8OzttuKF+yVrZzzvbMuaFZoHLB+MxuT2lllg+OWm2xSdgnqLNNp8vpxT33aUwBYsnjpE9uWLs3mxj3t6bOa2RW0/yfdtNo6ZBdWtOaYNmkSM7fMlltc9sA/SSs67eL79rdiZVOD3Cr2P7Cb5+2ZDered8/9XNd7Q7O76KQlhKQxqexV1ddcfz3XXH992WWoc6ygyUu5/OvBbJ7tjJlPXqg9Y0b2/YMP9DezK4BHm91gh1lBi45nMXkKG2yzPVNnrseyfz3A0vvuakU3E96kaN3CAG877APMfvb+vO/tJ/L0jZ/K6Weewqabb9zMLnwnoQmjssHxR3Ov4Edzryi7DHWOpTR5KZe/3/YPHnv0MTbZ7BnMykcfn7PLDgD87ea/N7MrgEXNbrDDPEoL1nCcNHUaG2y7A1NmzGTp/fey5O6+Zneh3JQpzV9JaZ11pjFpUvZn7tHlj/L7nj+xZPFSpk6dwhbP3KyZXTVtwqvU7ip7qloaoYdp8hup/gcf4qcX/oLXvelgzv7BF7jt1jt4xUEvY/GiJcz57o+b2dVS4N5mNthpZtVmp/5678M0+QKnDbbdgUlTp7Hy0eVETGLGplsCsHxBPyuXLm5mVxPeBhvMZOmy5g6c77zbTnzuKycx74/Xs/DhRez+/J1Zf4P16H/wIW7+69+a2dU/mtmY1M4MjhJQ7+tZWevqvg1o6gecf/7kr7BixQpe/qqXsU/X5tSvu4nTPv0/PNTftKV4IDtNNq+ZDXaoOtmSLk0zaWq2Lvfkaesw+elPntpcsWxJM4Pjw8ARs2qzL21Wg53on/c/dD7whma2+cA/H6Rv/p3s+ZLZzJw5g/7+BVx+ya/5xpe/y6KFTXv+FgHXNKsxqd0ZHKUnXU2Tg+Py5Y/y2ZO+xGdP+lIzmx1sBuCEXugB9qKJx7X+em+zmlqT6Rj8AX5H9vGLTfv0pr477lplOZ4W8vnThFHZOY7SKFxNZ84VvLve17N07btV3rVAJ54/XjqrNvu+sotoA/PozItMpgG3lF2ENF4qO+L4kbceU3YJ6jx/ogUXWLRYAn5fdhFt4lqy0btOMy7Dmh3gejrz+bul3tfTiZ+xLY1KZUccnzFrFs+Y1fS18lRtNwH3lF3ECC0GvlF2Ee0gH7XrtI/tWwicWXYR7aDe17ME+DnZm6FOsQg4o+wipPFU2eD462uv5dfXXlt2Geog9b6eBHyezjpd/S+yuWHKnEoWxjrFCuDisotoI6fRWdMNJgE/KLsIaTxVNjj+rOe3/Kznt2WXoc4zh855XSwG/jsPvMpcQucshr4M+Oqs2mxPcz7p98ADZRdR0GPAufW+nk56oymNWaf8gZTGRX667Bw6I3xMAs4tu4h2koewr5CtbdkJnGbQIH8TdCqdMeq4Avhy2UVI483gKK3uP4HlZRexFouB/6z39TxSdiFt6Mu0/yd5LAG+Pqs2u9Pm1I6Hc4AHae+5jsuAn9T7em4uuxBpvBkcpUHqfT33Ae+ifUc9HgfuIBuZ0SCzarMfBo6gvcPjv4CPll1EO6r39SwjWwh8Wdm1rMFi4N1lFyGVweAoDW0O2XyrdlxXbjnwhnpfz8qyC2lXs2qzLwf+l/YMH0uBN8yqzW7H2tpCva/nT8DXac/wvwQ4qt7Xs6DsQqQyVDY4fvKd7+ST73xn2WWoQ+VzrY6m/ebKDZyi9hTZ2r2H7ArrdjrluQT4xqza7D+UXUgHOJH2C/5LgZ/W+3p+XnYhUlkqGxw3XH89Nlx/vbLLUAfLT1kfSPuMeiwBfka2ZJDWIj9lvS/ts7zSUuAq4ENlF9Ih3ga002K8y4C/ktUlTViVDY6XX301l199ddllqMPV+3quBl5D+eFxCfBrslNkj5dcS8eYVZt9A/Byyg+PS4HrgENcfmftal3d7wG+VnYdDZYBtwP7+fGemugqHByv4fKrrym7DFVAva/nl8AryU4Tl3HacwnZItGH+tFmI5efFt4beJjswqLxtgT4LbCv8xrXbi2hsYzX31Kyj0Pcy1UMpBEEx4hYJyK+FRF9EbEwIv4SEQe2sjipXdT7enqAvYD5jN/o4+Nkf7Q+AxxhaBy9WbXZ84DnATcyflfLJ7Ln7wzgIEPj2q0lNP4E+CPju9rBUrK1Uveu9/V00icSSS0zkhHHKcCdQDewIfBx4IKI2KoFdUltp97XUwd2Ar5E9gellaMfS4BbgNn1vp7Penp67GbVZt8G7Ea2TudSWjv6uAToA146qzb7w56eXru1hMY5wOvJ3rydQBYeW/l/uhS4Fzig3tfzznyJIEmMIDimlBanlE5OKf0jpfR4SukSsrXk9mhdeVJ7qff1PFrv6/kY8CLgNrK5c80MkEvI/mh9Ftil3tdzUxPbnvBm1WavnFWb/Xlgd7LTj4tpboBcSrZc0hnADrNqs3ub2HZlFQiNb6739ayo9/Wkel/P14HnAn8ge700M0AuI3v+vgdsV+/zc2ulwUY9xzEiNgaeTXbqZ/Bt74iI3ojonXPppWOpT2pL9b6e64AdgIOAS8n+2Ix2VCKRBdC7yZYg2aze1/MZT023zqza7FvI3vTuC1xE9vyNZQrCQuB+4BRgy3yUsd0/fagtFA2NjRvrfT3/qPf1vITsDdwPyAL7WE5hLwQeIltUf5t6X8+76n097foBAFKpIqWRD5ZExFTg58DfU0prXCxx/hVzS1lDbdny7KOGp68zrYzu12qb/fYfvCnKqEPNUevq3hR4B3AoWaBcSTaStR6rP7fLyD4Le13gn8A1ZIsd/zpfP1LjrL/e+zSyZVZeCzwn37wCWJ/Vn7+BNwkzyD4a71qyz5y+fFZttouyj8BoQuMw7WwIvAV4I7AzMJls8f71WH2A5FGyoLku2QVT84CzgYvrfT3tuOC/1FZGHBwjYhLZO7wNgENSSmt8oZUVHNudwbG6al3dk4BtyUa0nks2J3g9ssCxmGzu2zzgL/W+nrKXidEg/fXeALYme/52Bp5C9vw9xpMjw/OA6/K1IjUKzQqNQ7QbwJZkz98uZGtBrkf2Rm4h2dzFPwN/rvf19I+idGlCG1FwjIgAvg1sBbwypbTW9azKCo4//c1vADhk773L6H6tDI6SJqpWhUZJrTfSOY5nAjsCBxcJjWXq6Z1HT++8ssuQJDUwNEqdbSTrOHYB7wR2Be6LiEX51xGtKk6SVB2GRqnzTSm6Y0qpD0+nSpJGwdAoVUNlP3JQktQeDI1SdRgcJUktY2iUqqXwqepO84UTji+7BEma0AyNUvU44ihJajpDo1RNlQ2OF/zyl1zwy1+WXYYkTTiGRqm6Khsc/1C/gT/Ubyi7DEmaUAyNUrVVNjhKksaXoVGqPoOjJGnMDI3SxGBwlCSNiaFRmjgquxzPOlOnll2CJFWeoVGaWCobHP/r/e8ruwRJqjRDozTxeKpakjRihkZpYqpscDzvkks575JLyy5DkirH0ChNXJUNjn++5Rb+fMstZZchSZViaJQmtsoGR0lScxkaJRkcJUlrZWiUBAZHSdJaGBolDajscjwbzJxZdgmS1PEMjZIaVTY4nnzsu8ouQZI6mqFR0mCRUmp1Hy3voCKi7AIkaYChUdJQKjvH8dRTT+XUU08tuwxJ6jiGRknDqeyp6uuuu67sEiSp4xgaJa1JZUccJUkjY2iUtDYGR0mSoVFSIZU9VS1JKqbW1f194E3D3GxolPSEygbHTTbZpOwSJKnt1bq6zwfeMMzNhkZJq3A5nvbhcjySxpWhUdJIOcdRkiagWlf39xg+NF6MoVHSECo74njKKacA8IlPfKKM7kfDEUdJ42ItF8L0AdvX+3qWj2NJkjpEZec43nzzzWWXIEltx9AoaSw8VS1JE4ShUdJYtXzEcf4Vc1fbts1++7e6W0lSg7WExv8FDjc0SlobRxwlqeIKLO79BkOjpCIqO8dx6623LrsESSqdnwgjqZlaflX1/CvmrtaBp6qH5FXVkprK0Cip2TxVLUkVZGiU1AqVDY4nnngiJ554YtllSNK4MzRKapXKznG84447yi5BksadoVFSK1V2xFGSJhpDo6RWMzhKUgUYGiWNB4OjJHU4Q6Ok8VLZOY477rhj2SVIUssZGiWNJ9dxbB+u4yhpRAyNksabp6olqQMZGiWVobLB8bjjjuO4444ruwxJajpDo6SyVHaO43333Vd2CZLUdIZGSWWq7IijJFWNoVFS2QyOktQBDI2S2oHBUZLanKFRUruo7BzH3XbbrewSJGnMDI2S2onrOLYP13GUtApDo6R246lqSWpDhkZJ7aiywfHYY4/l2GOPLbsMSRoxQ6OkdjWi4BgR50XEvRHxSET8LSLe3qrCxmrBggUsWLCg7DIkaUQMjZLa2UhHHP8L2CqltAHwauDTEbFH88uSpInH0Cip3Y0oOKaUbkwpLR/4Mf96VtOrkqQJxtAoqROMeI5jRPxPRCwBbgHuBS5relWSNIEYGiV1ihEHx5TSu4H1gZcAPwaWD94nIt4REb0R0Tvn0kvHXuUo7LXXXuy1116l9C1JRRkaJXWSMa3jGBFfB25KKX1luH1cx7Ew13GUJhhDo6ROM9bleKbgHEdJFVfr6p5S6+pu6vJlhkZJnajwRw5GxDOAfYBLgKXAfsDh+VfbOeaYYwD4zne+U3IlkjpBrat7MrADsAewJ/BisjfG65CdEYhaV/dKYAHwF6AH6AV66309D4ywL0OjpI40ks+qTsCxwNfJRir7gA+klC5uRWFjtWzZsrJLkNQBal3dzwDeAbwfmJ5vnsnQ00cmA08F9gVeCiwBpte6uucBpwKXri3wGRoldbLCwTGl9ADQ3cJaJGnc1Lq6ZwMfAw4ge2O87gibmApsmH+/F3Au8Gitq/srwFfqfT0LhujT0Cipo1X2IwclaSi1ru4Zta7ur5Kdan412SjjSEPjUNYnG438KPD3Wlf3gYP6NTRK6ngjOVUtSR2t1tX9IuB84CnAjBZ1Mz3/urDW1f1T4N3AERgaJVVAZYPjPvvsU3YJktpEras7gFOA42nO6GIRM4DXkI1qzhxmH0OjpI5S2eD47//+72WXIKkN5MvonEk26jdeoXHA9DXcZmiU1HEqGxwlKR9pPBM4ktadmh4NQ6OkjlTZi2MOP/xwDj+8LZeYlDR+TiEbaWyn0HgphkZJHcoRR0mVVOvqfgnjO6exiAQ8Gz9iVFKHquyIo6SJq9bVPQP4Ie0VGiELjJsBJ5VdiCSNhsFRUhWdTrbkTjuaCZxQ6+repexCJGmkDI6SKqXW1f0C4Gjab7Sx0XTg/PziHUnqGJWd4/jKV76y7BIklePjrHkZnHYwcMr6ZcCVJdciSYVVNjgeddRRZZcgaZzVuro3BfanMy4+WQ/4EAZHSR2ksqeqly5dytKlS8suQ9L4eifZlcudIIC9a13dm5VdiCQVVdng+Na3vpW3vvWtZZchaZzUurqnAO+j/U9TD3Zs2QVIUlGVDY6SJpzn0nnTb6YDry27CEkqyuAoqSr2oDOPadvmo6WS1PY68SArSUPZi2yNxKY78NX7Uu/rod7Xw4c/8d5mN78M2KnZjUpSKxgcJVXFXq1odONNns7HPn0cjz3Wso+WDrLRUklqe5U9PfLa1zptSJpgntWKRj/9hY9y/z8f5LZb5nPgq/dtRRfrAbsD32lF45LUTC0Pjtvst3+ruxjS6173ulL6lTT+al3dk4GpzW73yLe9nt1m78wRhx7LkW9t6TFlVisbl6Rmqeyp6v7+fvr7+8suQ9L4mA409Vzyts/emvd/+N854wvf5tabbm9m00NpydxMSWq2yp6qfs973gPAnDlzSq5E0jhYSZM/LWa/A1/K1GlTmf3CXdn9+TW233FbAPbe/0UsW7acr5x6VjO7e6yZjUlSq1Q2OEqaUJbT5DMoEcGkSZN4ycteuMr2LZ65Gbvs/pxmdgWwuNkNSlIrVPZUtaSJo97Xk4BFzWzzzC+dQ62r+4mvn/7o5wCc960f8bbDPtDMrlYCdzWzQUlqFYOjpKq4oewCRmkRcG3ZRUhSEZ6qllQVPcALgMmtaPykEz7HSSd8rhVNrwPMa0XDktRslQ2ORxxxRNklSBpf15LNFdyg7EJG6DHg7rKLkKQiKhscDzrooLJLkDS+rgWmlV3EKFyXz9GUpLZX2TmO99xzD/fcc0/ZZUgaJ/W+nruAW8quY4QWAt8ouwhJKqqywfH444/n+OOPL7sMSePr82RhrJNcVHYBklRUZYOjpAnpx0CnnPZdDny93tezvOxCJKkog6Okyqj39TwKnEkWytpdAs4ouwhJGomWXxwz/4q5Y25jm/32b0IlkiaI04F3kS1z066WAj+s9/X0lV2IJI2EI46SKqXe1/MA8Hba+2P8FgLvL7sISRqpyi7H8/a3v73sEiSVpN7Xc2Gtq/vNwCtovyV6lgBvqvf1dNpFPJJU3eC47777ll2CpHK9Fbid9gqOS4Hz6309vyq7EEkajcqeqp4/fz7z588vuwxJJan39TwIHEg2wtcOlgF14N1lFyJJo1XZ4Pixj32Mj33sY2WXIalE9b6ea4BDKT88LiMb/dy/3tezrORaJGnUKhscJQmg3tczF3gV5V0ssxS4HtjLeY2SOp3BUVLl1ft6fgO8BPg/xnf0cQnwI2BvQ6OkKjA4SpoQ6n091wHbk3029NIWd7cMeAA4pN7Xc7SnpyVVhcFR0oRR7+tZVu/r+SCwN9BH8z/X+lGy0HgBsG29r+eKJrcvSaWq7HI873nPe8ouQVKbqvf1/KnW1f0s4ADgw8Dzyd5Ij3bpnkX5v2cDX6v39fx97FVKUvuJlFJLO5h/xdwxdzBBPnIwyi5AmqhqXd1bA+8FXgNsQXYqewowY4jdHycLigNvvOtkn499gaekJVVdZYPjTTfdBMBOO+001u7Hi8FRagO1ru7pQA3YI/96ClmAXEF2sUsf8CdgHvCPel9Paw+iktRGKhscDz/8cADmzJkz1u7Hi8FRkiS1NS+OkSRJUiEGR0mSJBVicJQkSVIhBkdJkiQVUtl1HE844YSyS5AkSaqUygbHPfbYo+wSJEmSKqWyp6rnzZvHvHnzyi5DkiSpMio74njaaacBHbWOoyRJUlsb1YhjRGwXEcsi4rxmFyRJkqT2NNpT1WcA1zazEEmSJLW3EQfHiDgMWAD8qunVSJIkqW2NKDhGxAbAKcAH17LfOyKiNyJ651x66VjqkyRJUpsY6cUx/wl8K6V0V0QMu1NK6ZvANwHmXzE3jb680TvppJPK6FaSJKmyCgfHiNgV2A/YrWXVNNFOO+1UdgmSJEmVMpIRx72BrYD/y0cb1wMmR8ROKaXdm1/a2Fx11VUAvPjFLy65EkmSpGoYSXD8JvDDhp9PIAuSxzazoGY544wzAIOjJElSsxQOjimlJcCSgZ8jYhGwLKX0QCsKkyRJUnsZ9SfHpJRObmIdkiRJanOV/axqSZIkNZfBUZIkSYWM+lR1u/vMZz5TdgmSJEmVUtnguM0225RdgiRJUqVU9lT1r371K371Kz9OW5IkqVkqO+J49tlnA7DvvvuWXIkkSVI1VHbEUZIkSc1lcJQkSVIhBkdJkiQVYnCUJElSIZW9OOb0008vuwRJkqRKqWxw3GyzzcouQZIkqVIqe6r6kksu4ZJLLim7DEmSpMqo7Ijj97//fQAOOuigkiuRJEmqhsqOOEqSJKm5DI6SJEkqxOAoSZKkQgyOkiRJKqSyF8ecccYZZZcgSZJUKZFSanUfLe+gIqLsAiRJktaksqeqL7zwQi688MKyy5AkSaqMygbHiy66iIsuuqjsMiRJkiqjssFRkiRJzWVwlCRJUiEGR0mSJBVicJQkSVIhlV2OZ+nSpQCsu+66ZXQ/Gi7HI0mS2lplg2MHMjhKkqS2VtlT1eeeey7nnntu2WVIkiRVRmWD42WXXcZll11WdhmSJEmVUdngKEmSpOYyOEqSJKkQg6MkSZIKMThKkiSpkJYvxxMR70gpfbOlnbRh32vTzrVJkiQNZTxGHN8xDn20Y99r0861SZIkrcZT1ZIkSSrE4ChJkqRCxiM4ljmPr53nELZzbZIkSasZj8+qliRJUgV4qlqSJEmFGBwlSZJUyJiCY0QcEBG3RsTtEfGRIW5fJyLOz2//Y0Rs1XDbR/Ptt0bEK0bQ55YR8euIuCkiboyI9w+xz4ci4i/5118jYmVEzCpSczNExEYRcWFE3BIRN0fEnoNu3yEiromI5RFxwkjuK0mSVJZRz3GMiMnA34D9gbuAa4HDU0o3NezzbqCWUnpXRBwGvCal9MaI2AmYAzwf2Ay4Anh2SmllgX43BTZNKf05ItYH5gGHNvY7aP+DgeNSSvsUqbkZIuK7wO9SSmdHxDRgRkppQcPtzwC6gEOBh1JKpxW9ryRJUlnGMuL4fOD2lNL8lNKjwA+BQwbtcwjw3fz7C4F9IyLy7T9MKS1PKd0B3J63t1YppXtTSn/Ov18I3Axsvoa7HE4WUovWPCYRsSHwUuBbeY2PDg5+KaX7U0rXAo+N9L6SJEllGUtw3By4s+Hnu1g9wD2xT0ppBfAw8NSC912r/NT3bsAfh7l9BnAAcNEIah6rrYEHgO9ExHURcXZEzByH+0qSJLVUx14cExHrkQXCD6SUHhlmt4OB36eU+sevMqYAuwNnppR2AxYDRedSjuW+kiRJLTWW4Hg3sGXDz1vk24bcJyKmABsC/yp432FFxFSy0Pj9lNKP17DrYTx5mrpozWN1F3BXSmlgFPRCsjDY6vtKkiS11FiC47XAdhGxdX4Rx2HAxYP2uRg4Ov/+dcCVKbsa52LgsPyq662B7YA/Fek0nyP5LeDmlNIX1rDfhkA38NMR1jwmKaX7gDsjYvt8075AoYtvxnJfSZKkVpsy2jumlFZExHuBy4HJwLdTSjdGxClAb0rpYrKAd25E3A70kwU18v0uIAtFK4D3FLmiOvci4Cjghoj4S77tROCZedtfz7e9BvhlSmnx2moe3f/AGv0H8P08nM4HjomIdw3UFxGbAL3ABsDjEfEBYKf8lPtq921BfZIkSSPmRw5KkiSpkI69OEaSJEnjy+AoSZKkQgyOkiRJKsTgKEmSpEIMjpIkSSrE4ChJkqRCDI6SJEkqxOAoSZKkQgyOkiRJKsTgKEmSpEIMjpIkSSrE4ChJkqRCDI6SJEkqxOAoSZKkQgyOkiRJKsTgKEmSpEIMjpIkSSrE4KjCImKniOiNiBjFff8jIj6/htu3iogUEYsi4h1jq7T6IuKciFgaEXeVXYuk9uFxuhoi4sqIWBYRV5Vdy2ATPjhGxD8iYr9B297Sjk/WWETEyRFx3hib+U/gtJRSytv8UkQ8FBHXRMQWDX29KSK+Mui+ZwFHRMQz1tLHRimlbw6qfeuIeDwizhxj/S0XEcdFxH0R8UhEfDsi1lnDvm+IiJsjYmFE3BQRhzbcFhHx6Yi4OyIejojfRMRzBm5PKb0FOLClD0YqKH/N9+aB4t6I+HlEvDi/7eQ8bLyhYf8p+batGrbtlf+xXJj/zv8sInbKbzsib3tR/obp8YafF437A24Rj9Otl/99X9n4+xMRezfcvlVE/DoilkTELYPzwaC2To2IO/PjfV9EnNhw27Mj4qcR8UBE9EfE5RGxfcPtXx9Uw/KIWDhwe0ppH+BdTf8PaIIJHxxbLSImD/p5ygjvv9b9R9rmaETEpsDLgJ/kPz8f2APYBLgK+Ei+fUPgQ8DHG++fUloG/Bx48yi6fzPwEPDGNQWxskXEK8j+H/YFuoBtgE8Ns+/mwHnAB4ENyP7PftBwwH498FbgJcAs4Brg3FbWL41GRHwQ+BLwWWBj4JnA/wCHNOzWD3xq8PGwoY09gV8CPwU2A7YGrgd+HxHbpJS+n1JaL6W0HtkbpnsGfs63jfUxeJxmYhync9c0/v6klH7TcNsc4DrgqcDHgAsj4unDtPMtYIeU0gbAXmSh+9/y2zYCLga2J3td/Ins9xuAlNK7Bv0OzwF+1LRH2EIGx1GIiB0iYm7+LuLWQe+kz4mIMyPisohYDLwsslHN/xcRdWBx/m771RFxY0QsyEeTdmxoY7X9h6ghRcR7IuI24LZ825cb3v3Mi4iX5NsPAE4ke0Eviojr8+0bRsS3IhshuDuyEa4hD+zA/sCf8wMLZAf2q1JKy4FfkYUkgM8A/51SemSINn4DvKrQf/KTjzPIDkgfBx4DDs63vzEiegfte1xEXJx//9TIRiweiYhr88fW6lHko4FvpZRuTCk9RPbO/y3D7LsFsCCl9POUuRRYDDwrv33g/3d+SmklWcjcqbXlSyOTB5BTgPeklH6cUlqcUnospfSzlNKHGnb9BfAocOQwTZ0KfC+l9OWU0sKUUn9K6ePAH4CTR1mbx2mP0yMSEc8Gdgc+mVJamlK6CLgBeO1Q+6eUbk0pLW7Y9DiwbX7bn1JK38p/lx8DvghsHxFPHaLfmXkf323uI2oNg+MI5U/wXOAHwDOAw4D/ifyUSu5NZC/M9cne5QEcTvZi3IjsxTsH+ADwdOAy4GcRMa2hjSf2TymtGKacQ4EX8GSguBbYlWyE6gfAjyJiekrpF2SjAefn7252yfc/B1hB9ou+G/By4O3D9LUzcGvDzzcCL4mIdclG2G6MiNnA9imlHwzTxs3ALsPcNpwXk4WsHwIXkIUzgJ+RvQi3a9j3TWSPG+AMsiC2SX6foykoIl6c/6EY7uvFw9z1OWSjJAOuBzYe6kAB9AI353+YJkd2mno5UM9v/yHwrMhOd0zN6/9F0ccgjZM9genA/65lvwScBHwy/31+QkTMIButGWq05QKyMDQiHqef4HF6aLtFxIMR8beIOKkh9D8HmJ9SWtiw7/X59uHq+Ehk0yXuAmY2PLbBXgrcl1L61xC3vRZ4APjtGmpuHymlCf0F/ANYBCxo+FpC9i5tqP3fCPxu0LZvkL1DgexF/r0h+nhrw88nARc0/DwJuBvYe6j9h6kjAfusZZ+HgF3y708Gzmu4bWOyoLJuw7bDgV8P09ZZwOcGbTuO7EV1PtmB9WpgR+B9ZC+A75MdUAf23w5YOUz7W+WPacqg7WcDP8m/35Ps3ewz8p/PAz7R0PZCYAYwOd9v+4Z2Pj3cc9rE36W/Awc0/Dw1f0xbDbP/2/LfvRX579yrGm6bBnw5v/8K4A5g60H33xu4q8zXj18T+ws4guyP4Zr2eeLYA/wROBaYMvDaIAscieyU3+D7HgA8NmjbWn/v8TjduM3j9Kq1bkM2EjuJLGjfBHw0v+0o4A+D9v8McM5a2gyyUP8pYP0hbt8i/905fJj7/wo4eYjtb2n1/8dovhxxzByaUtpo4At49xr27QJe0PjOhuzguUnDPncOcb/GbZsBfQM/pJQez2/ffC1trKlNIuKEyC62eDiva0PgaWt4HFOBexsexzfI3p0P5SGyd+ZPSCl9MaW0S0rpjcAbyA5Ck4B3kL27vZl8Tk1ufeDhAo9r4PGsSzbX7/t5f9cA/0f2jhWyd3aH59+/iezAtYTs4DiFVf9/ivx/jtUisvmKAwa+Xzh4x8gmXJ9K9kdwGtANnB0Ru+a7fAJ4HrAl2YjOp4Ar89EZqV38C3jaUKdph/Fxsnlj0xu2PUR2im/TIfbfFHhwFHV5nH6ybo/TDVI2/eeOlNLjKaUbyKZavC6/efAxnPzn1Y7hg9pMKaXrgKUMmtce2fzIXwL/k1KaM/i+EfFMsr8D3xvFwymFwXHk7gR6GoNmyk4rHNuwTxrifo3b7iE7IABPzA/ZkuwdyZraGLbNfJ7Mh8kODE/JA/DDZO+EhmrvTrJ3sk9reBwbpJSGG5KvA88e6oaI2JjsIHQK8FygnrI5HdcCtYZdd2TVU7lr8xqyF+3/RHal8n1kB+2B0xlzgafnYetwnjxF8ADZKN0WDW1tWbTTiHhJrHq12+Cvlwxz1xtZ9RTPLsA/09CnJnYFfptS6s0PYNeSjcbs13D7+Smlu1JKK1JK5wBPwXmOai/XkB1HDi2yc0ppLnA7DW/OUzZH7Bqy8DHYG8hGY0bK4/QgHqeHlXjy//9GYJuIaAzfu+Tbi5jCk/PUiYinkIXGi1NKnxnmPkcBv08pzS/YR+kMjiN3CfDsiDgqIqbmX8+LhknTBVwAvCoi9s3n+xxPdnC4egx1rU/2InwAmBIRn2DVd07/BLaKiEkAKaV7yX6hT4+IDSJiUkQ8KyK6h2l/LrB7REwf4rYvkA2zLyE7pfq8iFiP7F1U44uhm+yKvaKOBr5Ndjph1/zrRcAuEbFzftD7EfDfZPOF5uaPbSXwY+DkiJgRETswgqsEU0q/S6tecTf463fD3PV7wNsiW0dtI7LRlXOG2fdasrlHuwJExG5kV1DXG25/fURsnD83R5GNPNxe9HFIrZZSephsdPyMiDg0f71NjYgDI+LUYe72MbLw1OgjwNER8b6IWD8inhIRnyY77TnkygRr4XF6dR6ngfx3c+P8+x3IpiT8NG/zb8BfyObiTo+I15CF6ouGaGdSRLwz/12NyK5gfw/5G52I2AC4nCwUfmTw/Ru8meH/TrSnss+Vl/1FNk9lv0Hb3sIa5hWQXV5/KdmL/1/AlcCu+W3nAJ8u0MdryOZWPAz0AM9Z0/5D1JCAbRt+nkz24n0EuJfswPxEO2RLC1xFdirjz/m2DYEzySb1Pky2BMFha+jzR8AbB23bB7h00LYv5f38Adgi3zY972fjYdreioa5M2TvWFcAOw+x72Vk65RBFrYScMagfZ6eP0ePkIWwzwO/arj9RuCIFvw+fZDs4P8I8B1gneH6BN5LFgQXkh24j2+4bTrZxPF787b+TMP8yXyfvXGOo19t8EV2GriX7EKH+/LX3l75bSfTMG8v33YZg+b/kl1g8Ruy04WP5G08d4i+Cv3e43G6cZvH6SfbPI3sGL2Y7Lh7CjB10GP8Ddlp51sbn2Oy3/Mb8+8nkV2w2J//zv6N7Kr4yG8/On/Mi/PbB76e2dDenvntq82LzG9/C204x3HgAUprFdkVid8Fnp9G+IsTEf8BbJlSGjzSMHB7F9mLdBnwoZTSWWOtd1D7nwc2SSkdvdadO0BEfIvs1N79KaVty65HUnvwOF0NETEXeCHwp5TSvmXX08jgqErKT0FMI1uD63lk737fnlL6SZl1SZIyHqc7U8tXspdKsj7ZGmybkZ2WOJ2GVfslSaXzON2BHHGUJElSIV5VLUmSpEIMjpIkSSqk5XMc1193Vlr5+GP5T/HE9ie+iyG2NfwUq90YhfYbvNdqe8cquw/TdmN5Q/X65E5D95bvN+xjHLqmofaLoQtevb2IIbfHMAXGMJ2u3u7qz94w/zWD/m9W3bL6bcP3N0SFq9w2/H2GuNdwPw5T0HCPbdUdYtjHs8rmGObGoWoq9J869Otn6H0bHtPqv1QF+xruP7xIDcH1N918eUrpgGHurXHmMZk1PMahaxpqP4/Jq9/W8mPyOB6PV+/TY/KAlgfHlY8/xnab7gFAxCQmDfyCRzApJhFPvKiyn5+8bWD7pEE/D7ffqu1NinjiP7fofpMihth3uDZi1TZWuY1V7vPEfgy+D6vUsKbbnqyDgm08uV9Wx5M1RbDKY1mljUH9DL5f434x7G2rbm9sc6jHMfD9UO2tVu/g+01aexsMflyT1tzXwPf5k7ZanQPfE7Fa/423QUNfQ9b85JE/BmqcNOjn7El64j4M+j9l0qD9GmpijW0EDFPHqttjmL6G6KfhMTf8R/LUXZ433MepqQQekz0md+wxudXH4+wJaOjbY/JQPFUtSZKkQgyOkiRJKsTgKEmSpEIMjpIkSSrE4ChJkqRCDI6SJEkqxOAoSZKkQgyOkiRJKsTgKEmSpEIMjpIkSSrE4ChJkqRCDI6SJEkqxOAoSZKkQgyOkiRJKsTgKEmSpEIMjpIkSSokUkqt7SDiF8DTWtpJ+3ga8GDZRYyTifRYwcc7Fg+mlA5oUlsaowodk6v2mqzS46nSY4HqPZ7pKaXnjvbOLQ+OE0lE9KaUZpddx3iYSI8VfLxSu6na72iVHk+VHgv4eAbzVLUkSZIKMThKkiSpEINjc32z7ALG0UR6rODjldpN1X5Hq/R4qvRYwMezCuc4SpIkqRBHHCVJklSIwbEJIuLbEXF/RPy17FpaLSK2jIhfR8RNEXFjRLy/7JpaKSKmR8SfIuL6/PF+quyaWi0iJkfEdRFxSdm1SMMdcyJiVkTMjYjb8n+fUnatIzH4dRYRW0fEHyPi9og4PyKmlV1jURGxUURcGBG3RMTNEbFnpz4/EXFc/nv214iYk/8N6JjnZqg8MtxzEZmv5I+rHhG7F+nD4Ngc5wATZZ26FcDxKaWdgBcC74mInUquqZWWA/uklHYBdgUOiIgXlltSy70fuLnsIqTccMecjwC/SiltB/wq/7mTDH6dfR74YkppW+Ah4G2lVDU6XwZ+kVLaAdiF7HF13PMTEZsD7wNm5+scTgYOo7Oem3NYPY8M91wcCGyXf70DOLNIBwbHJkgp/RboL7uO8ZBSujel9Of8+4VkB4jNy62qdVJmUf7j1PyrshODI2IL4FXA2WXXIsEajzmHAN/Nd/sucGgpBY7C4NdZRASwD3BhvkvHPJ6I2BB4KfAtgJTSoymlBXTu8zMFWDcipgAzgHvpoOdmmDwy3HNxCPC9/O/cH4CNImLTtfVhcNSoRcRWwG7AH0supaXyU0p/Ae4H5qaUqvx4vwR8GHi85Dqk1Qw65mycUro3v+k+YOOy6hqFL7Hq6+ypwIKU0or857vonDfkWwMPAN/JT72fHREz6cDnJ6V0N3Aa8H9kgfFhYB6d+9wMGO652By4s2G/Qo/N4KhRiYj1gIuAD6SUHim7nlZKKa1MKe0KbAE8PyJG/VFN7SwiDgLuTynNK7sWabA1HXNStjxIR5wJqODrbAqwO3BmSmk3YDGDTkt3yvOTz/07hCwMbwbMpGLT0JrxXBgcNWIRMZXsAP79lNKPy65nvOSnX35NxQ4kDV4EvDoi/gH8ENgnIs4rtyRp2GPOPwdOq+X/3l9WfSO02uuMbI7gRvnpUcjepN5dTnkjdhdwV8OZmAvJgmQnPj/7AXeklB5IKT0G/Jjs+erU52bAcM/F3cCWDfsVemwGR41IPhfnW8DNKaUvlF1Pq0XE0yNio/z7dYH9gVtKLapFUkofTSltkVLaimxC+JUppSNLLksT3BqOORcDR+ffHw38dLxrG41hXmdHkL0pfV2+Wyc9nvuAOyNi+3zTvsBNdObz83/ACyNiRv57N/BYOvK5aTDcc3Ex8Ob86uoXAg83nNIelguAN0FEzAH2Bp4G/BP4ZErpW6UW1SIR8WLgd8ANPDk/58SU0mXlVdU6EVEjm0w8meyN1gUppVPKrar1ImJv4ISU0kEll6IJbrhjDtk8xwuAZwJ9wBtSSh11kWLj6ywitiEbgZwFXAccmVJaXmJ5hUXErmQX+kwD5gPHkB8v6bDnJ19y7Y1kV/NfB7ydbN5fRzw3Q+UR4CcM8Vzk4fhrZGfRlgDHpJR619qHwVGSJElFeKpakiRJhRgcJUmSVIjBUZIkSYUYHCVJklSIwVGSJEmFGBwlSZJUiMFRkiRJhRgcJUmSVMj/B18Kf8VsO+qUAAAAAElFTkSuQmCC\n",
          "text/plain": "<Figure size 792x648 with 5 Axes>"
         },
         "metadata": {},
         "output_type": "display_data"
        }
       ]
      }
     },
     "6095097d4415467c83e66208c0c85777": {
      "model_module": "@jupyter-widgets/controls",
      "model_module_version": "1.5.0",
      "model_name": "HTMLModel",
      "state": {
       "layout": "IPY_MODEL_22abc997c1ab4a259ebb708de0ea717e",
       "style": "IPY_MODEL_637166fa7b8d410eb7ba3113006bb3d9",
       "value": "<h5>0.0302</h5>"
      }
     },
     "60d41d762ca54b8faba8678a7edc22a5": {
      "model_module": "@jupyter-widgets/controls",
      "model_module_version": "1.5.0",
      "model_name": "VBoxModel",
      "state": {
       "children": [
        "IPY_MODEL_a018872dda9b400783a7d9ea443912b5",
        "IPY_MODEL_40e64cb5c34e4d4897cad960afa878f8"
       ],
       "layout": "IPY_MODEL_2e36949cc03542c5a9ab78bb0fdf02cd"
      }
     },
     "60ef4e510af741a28ccb45c1ae284b60": {
      "model_module": "@jupyter-widgets/base",
      "model_module_version": "1.2.0",
      "model_name": "LayoutModel",
      "state": {}
     },
     "614072c8294149cdb510421dc58573cd": {
      "model_module": "@jupyter-widgets/controls",
      "model_module_version": "1.5.0",
      "model_name": "HTMLModel",
      "state": {
       "layout": "IPY_MODEL_3614b780404447c49164fd4249af3c26",
       "style": "IPY_MODEL_f96442c03f5044f597662b408cb8f5b2",
       "value": "<h5>108.2 / 106.2 us</h5>"
      }
     },
     "6149ebf45e724bc28f0c791cc4b08aa5": {
      "model_module": "@jupyter-widgets/base",
      "model_module_version": "1.2.0",
      "model_name": "LayoutModel",
      "state": {}
     },
     "61be0c98aa8e41fa926bb452913e8380": {
      "model_module": "@jupyter-widgets/base",
      "model_module_version": "1.2.0",
      "model_name": "LayoutModel",
      "state": {}
     },
     "62628d7bf0604c5b8eed4917d7cd5c50": {
      "model_module": "@jupyter-widgets/controls",
      "model_module_version": "1.5.0",
      "model_name": "DescriptionStyleModel",
      "state": {
       "description_width": ""
      }
     },
     "637166fa7b8d410eb7ba3113006bb3d9": {
      "model_module": "@jupyter-widgets/controls",
      "model_module_version": "1.5.0",
      "model_name": "DescriptionStyleModel",
      "state": {
       "description_width": ""
      }
     },
     "6438302397504f64aa0be8715617022c": {
      "model_module": "@jupyter-widgets/base",
      "model_module_version": "1.2.0",
      "model_name": "LayoutModel",
      "state": {
       "max_height": "620px"
      }
     },
     "645705a7b3244cf9bf521a7f3b290caa": {
      "model_module": "@jupyter-widgets/controls",
      "model_module_version": "1.5.0",
      "model_name": "VBoxModel",
      "state": {
       "children": [
        "IPY_MODEL_4a5a57e54a074aeb93de25623578c20c",
        "IPY_MODEL_38d7c8334e3747eba8284112698b14dc"
       ],
       "layout": "IPY_MODEL_eea1213b2eb04309835f13db5c080628"
      }
     },
     "65fb35d24f3f42cfae63155539c1e8e6": {
      "model_module": "@jupyter-widgets/base",
      "model_module_version": "1.2.0",
      "model_name": "LayoutModel",
      "state": {
       "min_width": "auto"
      }
     },
     "66299030ba01435580bb914d6df7be53": {
      "model_module": "@jupyter-widgets/base",
      "model_module_version": "1.2.0",
      "model_name": "LayoutModel",
      "state": {
       "grid_gap": "0px 25px",
       "grid_template_columns": "250px 250px 250px 250px 250px 250px 250px ",
       "grid_template_rows": "auto"
      }
     },
     "6691237998564691b699b38395feb15c": {
      "model_module": "@jupyter-widgets/controls",
      "model_module_version": "1.5.0",
      "model_name": "DescriptionStyleModel",
      "state": {
       "description_width": ""
      }
     },
     "674508ecb6284030959071f2b5c4af40": {
      "model_module": "@jupyter-widgets/base",
      "model_module_version": "1.2.0",
      "model_name": "LayoutModel",
      "state": {
       "margin": "10px 0px 0px 0px"
      }
     },
     "677b8d14ff5c4385829324478bfa860f": {
      "model_module": "@jupyter-widgets/controls",
      "model_module_version": "1.5.0",
      "model_name": "HTMLModel",
      "state": {
       "layout": "IPY_MODEL_20b8d3e4ff0f41edaf86ae73bcf120ee",
       "style": "IPY_MODEL_abcc682d60cd4346bce0931204643ddb",
       "value": "<h5>0.0268</h5>"
      }
     },
     "67d1bfa2257349f481accb6f5f51040b": {
      "model_module": "@jupyter-widgets/controls",
      "model_module_version": "1.5.0",
      "model_name": "DescriptionStyleModel",
      "state": {
       "description_width": ""
      }
     },
     "6867ef41d49f477ca3921e6a7ce4bd37": {
      "model_module": "@jupyter-widgets/base",
      "model_module_version": "1.2.0",
      "model_name": "LayoutModel",
      "state": {
       "max_height": "620px"
      }
     },
     "688165835fa045cbb6cb61ff2e1d37c1": {
      "model_module": "@jupyter-widgets/output",
      "model_module_version": "1.0.0",
      "model_name": "OutputModel",
      "state": {
       "layout": "IPY_MODEL_8b5353563c5e44bb96d66fdfab22711c",
       "outputs": [
        {
         "data": {
          "image/png": "iVBORw0KGgoAAAANSUhEUgAAAoQAAAIACAYAAAAbln2BAAAAOXRFWHRTb2Z0d2FyZQBNYXRwbG90bGliIHZlcnNpb24zLjUuMSwgaHR0cHM6Ly9tYXRwbG90bGliLm9yZy/YYfK9AAAACXBIWXMAAAsTAAALEwEAmpwYAABO+UlEQVR4nO3deZgcZbn38e+dfSEskV0wEKIIxmGLRiMYDBAjgsCBqBE5yKIRUc+ruEcR0RyPqMfliBgFN9QIARcEjAGjUQQiE5EhLEoIRFYFhiBJJkCS5/2jakhnMpP0zHRPdU9/P9fVV7qrq5+6a7q78uunqp6KlBKSJElqXAOKLkCSJEnFMhBKkiQ1OAOhJElSgzMQSpIkNTgDoSRJUoMzEEqSJDU4A6EkSVKDMxBKkiQ1OAOhJElSgzMQSpIkNTgDoSRJUoMzEEqSJDU4A6EkSVKDMxBKkiQ1OAOhJElSgzMQSpIkNTgDoSRJUoMzEEqSJDU4A6EkSVKDMxBKkiQ1OAOhJElSgzMQSpIkNTgDoSRJUoMzEEqSJDU4A6EkSVKDMxBKkiQ1OAOhJElSgzMQSpIkNTgDoSRJUoMzEEqSJDU4A6EkSVKDMxBKkiQ1OAOhJElSgzMQSpIkNTgDoSRJUoMzEEqSJDU4A6EkSVKDMxBKkiQ1OAOhJElSgzMQSpIkNTgDoSRJUoMzEEqSJDU4A6EkSVKDMxBKkiQ1OAOhJElSgzMQSpIkNTgDoSRJUoMzEEqSJDU4A6EkSVKDMxBKkiQ1OAOhJElSgzMQSpIkNTgDoSRJUoMzEEqSJDU4A6EkSVKDMxBKkiQ1OAOhJElSgzMQSpIkNTgDoSRJUoMzEEqSJDU4A6EkSVKDMxBKkiQ1OAOhJElSgzMQSpIkNTgDoSRJUoMzEEqSJDU4A6EkSVKDMxBKkiQ1uJoKhBGRImJc0XX0pYiYGxHH9+B1QyPi7ojYqQplSZKkBrLVQBgR90dEW0SsiohHI+L7EbFNXxTXUxHx+4g4cwvP75WHz1Udbm/p4zqbgAOAX+aPD4iIOyLi8Yj4YMl8gyNicUTs2T4tpfQM8F3gY31ZsyRJ6n/K7SE8NqW0DXAgcBDw8apV1Le2TyltU3K7rLOZImJgh8eDurOQLcw/E/hxSinljz8PfIgsJM6KiF3z6R8ErkwpPdDh9T8BTo2Iod2pR5IkqVS3dhmnlB4FfkMWDAGIiFdFxI0RsTIibouIw0ueOy0i7oqIpyNieUTMLG0vIj4cEY9ExMMRcXqH57aLiB9GxGMRsSIiPhkRA/LnzouIH5XM297jNygiZgOHAd/Ie/2+0Z11zNv7fkRcFBHXRsRq4HV5T+lHI6IFWJ0v6015j97KvFdyv5I2Npu/k0W9AVhU8nhvYGFK6SHgHuBFETEGOBH4SscXp5QeBJ4EXtXddZQkSWrXrUAYEXuQhZhl+eMXAtcAnwNGk/VuXVlyXNu/gGOAbYHTgK9ExMH5a6fl8x8FvBg4ssPi/g/YDhgLTAb+M29ji1JKs4A/Au/Ne/3e2511LPE2YDYwCrghnzYDeCOwfV7XXOD/ATsB1wK/ioghJW08P39KaV1p4xExkiwA/q1k8lJgav533gu4F/ga8OGU0nNd1HkXWY+iJElSj5QbCH8REU8DD5CFvE/n098OXJtSujaltCGldB3QDBwNkFK6JqV0b8osAhaQ9d4BvBn4XkppaUppNXBe+8LyXbRvBT6eUno6pXQ/8GXglF6sa2cez3v32m/7lTz3y5TSn/L1WptP+3pK6YGUUhvwFuCalNJ1eVj7EjAcmFTSRun8HW2f//t0ybQPAWcBVwEfAF6TP39fRPwyIhZFxPQO7Txd0pYkSVK3lXss3PEppesjYjLZcWs7AiuBMcD0iDi2ZN7BwO8AIuINZOHxJWThcwRwez7f7sCSktetKLm/Y97Oig7Pv7DMesu1Y8eeuxIdj9frOG13SupLKW2IiAfYtMbO2mi3Mv93FLA2b2MFeZiOiBHATcBUst7Sy8h6Y5dGxG9TSq0lr1+JJElSD3X3GMJFwPfJesMgCzyXppS2L7mNTCn9T36iw5X5vLuklLYn260a+WsfAfYsaf5FJfcfB54jC5ylzz+U319NFi7b7cqmEr3XWRul0x6mpL6ICLL1eaiL+TdtKOsVvZcsLHfmXOA7KaV/Ai8HmlNKTwEPAqVD8+wH3Nb1akiSJG1ZT8Yh/CpwVEQcAPwIODYiXh8RAyNiWEQcnh8DNwQYCjwGrMt7C6eWtHM58I6I2D/vDWvfDU1KaX3+/OyIGJWfWPHBfHkAfwVeGxEviojt2Pys53+SHeNXTZcDb4yIIyJiMHAO8AxwYzfauJbs+MhNRMT+wOHARfmk+4ApEbEL2fGW/8jneyHZsZs393AdJEmSuh8IU0qPAT8Ezs2HQTkO+ARZ8HsA+DAwIKX0NPB+suD0JNlJGleVtPNrsnC5kOwklYUdFvU+sp7A5WQndfyEbNw98mMVLwNayHY7X93htV8DToqIJyPi61tYnZUdxiH84Bbm7fh3+BvZMZT/R9ajeSzZ8DzPltsG8G3g5Lx3sdSFwH/lwRiywPt+4A7gv/OzvSH7m/4gH5NQkiSpR2LjEHgqQkT8BLg8pfSLbr5uKNmu4temlP5VjdokSVJjMBBKkiQ1uJq6lrEkSZL6noFQkiSpwRkIJUmSGly5A1P3Rs0fpDhjxgwA5s6dW2QZHc80liRJ6hP2EEqSJDW4vjjLuOZ7CFtbs6vAjR49usgy7CGUJEmFMBDWDgOhJEkqhLuMgSuuuIIrrrii6DIkSZIKYSAErrzySq688sqiy5AkSSqEgVCSJKnBGQglSZIanIFQkiSpwRkIJUmSGpzDzgBtbW0ADB8+vMgyHHZGqiFTx08PYGdgFDAMWA+0AY8vWDpvVZG1SVKlGQhrh4FQKtDU8dNfAEwGXgm8Fng52eU91wEbyL6jAQwF/gX8GfgDcAtw84Kl89YXULYkVYSBELj00ksBOOWUU4osw0Ao9bG8F3AicA5wDPAssA3lH06zFniOrOfwK8DFC5bOe7wKpUpSVRkIgRkzZgAwd+7cIsswEEp9JA+CbwU+A+wODKf3x1S35W1cDXx8wdJ59/SyPUnqM55UIqmhTB0//YXAQuA7wIuBkVRmWzicbHfy8cBtU8dPP2fq+OkDK9CuJFWdgVBSQ5g6fnpMHT/9HcDdwGvIgmA1DCQLh58BmqeOn/7iKi1HkipmULUXsPz666q9iF5re/JJoLxaxx55VLXLkVRhU8dPHwJcBhxF9YJgRyPJTkz569Tx02csWDrvqj5ariR1mz2Ekvq1qeOnDwd+A0yl78Jgu4HACOCnU8dPf3sfL1uSylb1k0qWX39dzZ9U0h1V7CH0pBKpwqaOnz4YmA+8mmw3bpHagP9csHTeFQXXIUmbsYdQUn92KfAqig+DkNXwg6njp08uuhBJ6shACFy+YAGXL1hQdBmSKmjq+OknkY0tOKLoWkqMAOZNHT99VNGFSFIpAyFwc8vt3Nxye9FlSKqQqeOn7wxcTN8fM1iOUcD/FV2EJJUyEErqj75Lbewm7swwYPrU8dOPLLoQSWpnIJTUr0wdP/1o4HBgSMGlbMkI4Mf5SS+SVDgDoaT+5pPU5q7ijoYDxxZdhCSBgRCAoYMHM3SwP9Slejd1/PSXAAcVXUeZRgEfLboISYI+uFJJPfj8f72/6BIkVcb7yQaDrhcvnzp++ksXLJ13d9GFSGps9hBK6hemjp8+DHgHUE/d/YOA9xZdhCQZCIEfXX0NP7r6mqLLkNQ7BwDriy6imwYDbyi6CEkyEAJ/uftu/nK3e2ykOjeB+uodbLdn3rspSYXxGEJJ/cWhVHjswRPefjSv/48pjNlnTwYOHMCl37ycS785r5KLgOwax03AnyvdsCSVyx5CSf3Fqyrd4Itftg9PP7WKxx59vNJNlxoEHFLNBUjS1thDKKm/2LPSDV7w8ewKc+d97cPs+sKdK918uxFkxz9KUmEMhMC2I+thDFtJXZk6fvog6nuPx7ZFFyCpsRkIgfPOenfRJUjqnWFkZxjX6zZtRNEFSGps9fyLWpLaPUd9b8+eLboASY2tnjegFXPxz37OxT/7edFlSOq5Z4EouoheWFV0AZIaW73uXqmoO5cvL7oESb2wYOm8NHX89CeB0ZVsd9qJUxh/0H6M238sAJOmvJJddt+ZGxf+mRsX3lKpxTwHuBGSVKhu9RBGxOiI+HlErI6IFRHxtmoVJknddGulGxx/0H5MPf5wdt5tRwD2eeleTD3+cPZ56V6VXMwaoGLpUpJ6ors9hBeS7ZrZBTgQuCYibksp3VHpwiSpmxYBr6WCVyv50icv5EufvLBSzXVlOLCk2guRpC0pu4cwIkYCJwKfSimtSindAFwFnFKt4iSpG5rJetvqzdMLls6r6sjXkrQ13dll/BJgXUrp7yXTbgNe1nHGiHhXRDRHRPPca67pbY1Vt9MO27PTDtsXXYak3rmFbPiZeuMl6yQVrju7jLcB/t1h2lPAqI4zppS+DXwbYPn116UeV9dHPn7GGUWXIKmXFiyd9/jU8dP/BEwpupZueBr4RtFFSFJ3eghXsflo+tuSbdAkqRZ8kfoawqUN+E3RRUhSdwLh34FBEfHikmkHAHV/Qsk3L7uMb152WdFlSOq9BdRPIGwDvrJg6bz1RRciSWUHwpTSauBnwPkRMTIiXgMcB1xareL6yrIHHmTZAw8WXYakXlqwdN4G4H+pj5NLAri46CIkCbp/pZL3kA2R8C9gLnCWQ85IqjEXAk8WXcRWrAa+4NnFkmpFtwJhSqk1pXR8SmlkSulFKaWfVKswSeqJBUvnrQHeQrZLthYl4EFgdtGFSFI7r2Usqd9ZsHTen4DvppRqMRSuBaYvWDrvuaILkaR2BkJgj112Zo9ddi66DEkVtH7Dho8k0vqUamfkq8EDB7DLdqN+smDpvNuLrkWSSkW1N5b1MA5hd4w98qhqNR3ValhqNE1jJgfw1YEx8P0vGLkDQRBR7Fds8MABvGT3nTnhVQc8PSBi2qHnnnFjoQVJUgl7CCX1K+1hEHj/+rSe1jVPkkgU2VM4eOAAxuw8mhMmNjEgYhQw/4bzL5lUWEGS1IGBEPjfSy/lfy+t+9FzpIZXGgbbp63bsJ4nVj9JSomU0oa+rmnQgAEbXrL7zrz1NQczYMDzm1xDoaSaYiAEHvznv3jwn/8qugxJvdBZGGy3Pq2ntW3lV4A/kg350hc2AG1DBg86/4RXHbC0JAy2MxRKqhkGQkl1b0thMHf+ug3rzomI1+XzrAKqeZbvauB24KBfLPnxZwZETAGWdjKfoVBSTTAQSqpr5YRB4LyWFYvSgqXz0oKl874L7AcsIhsC5tkKlrOKLAyeBxyyYOm8vwEceu4ZjwGGQkk1y0AoqW51JwyWTlywdN6DC5bOOwpoAr5NFuJ6eg3kDfnr7wH+C9h5wdJ5X+p4jWJDoaRaZiAExu25B+P23KPoMiR1Q0/DYKkFS+fds2DpvPcBO+ftXAM8SrY7+SlgbfvZyflJKe1nKz+dz3Mn8B2yoLfvgqXzvptfKaVThkJJtcpxCLvJcQil4lUiDG7J1PHTtwcOBsY/u/65rwXZ9eYgC4ZDBw1pAu5asHTeup60f8P5l+wELATGd/L004DjFErqUwbCbjIQSsWqdhjs6NB9j9msnRv+dnWvv6+GQkm1xF3GwOcvuYTPX3JJ0WVI2oq+DoPV5O5jSbXEQAg89uRKHntyZdFlSNqC/hQG2xkKJdUKA6Gkmtcfw2A7Q6GkWmAglFTT+nMYbGcolFQ0A6GkmtUIYbCdoVBSkQyEwP5jx7L/2LFFlyGpRCOFwXaGQklFqfqwM2wcvktb5rAzUq6WwmC1hp3ZEoekkdTX7CGUVFNqKQwWxZ5CSX3NQAicddZZnHXWWUWXITU8w+BGhkJJfclACKxcuZKVK1cWXYbU0AyDmzMUSuorBkJJhTMMds1QKKkvGAglFcowuHWGQknVZiCUVBjDYPkMhZKqyUAITJo0iUmT3I5Kfckw2H2GQknV4jiEtcNxCNUw6ikMFjEO4dY4TqGkSrOHUFKfqqcwWKvsKZRUaQZC4LTTTuO0004rugyp3zMMVo6hUFIlGQiBtWvXsnbt2qLLkPo1w2DlGQolVYqBUFLVGQarx1AoqRIGVXsBy6+/rirtjj3yqKq0K6myDIPVd+i5Zzx2w/mXTKHzE03aQ6Enmkjqkj2EkqrGMNh37CmU1BsGQmDKlClMmTKl6DKkfsUw2PcMhZJ6ykAIvPOd7+Sd73xn0WVI/YZhsDiGQkk9YSCUVFGGweIZCiV1l4EQmDFjBjNmzCi6DKnuGQZrh6FQUncYCCVVhGGw9hgKJZXLQCip1wyDtctQKKkcBkJJvZKHwZsxDNasMkLhwhvOv+RdfVuVpFpiIJTUY3kY/Avwyi5mMQzWiK2EwqHAHEOh1LgMhMDRRx/N0UcfXXQZUl0pCYMHdjGLYbDGbCUUgqFQalgGQuCUU07hlFNOKboMqW7kYfBPdB0Gv4xhsCaVhMKHu5hlzg3nXzK9D0uSVAMMhEBbWxttbW1FlyHVhZITSF7dxSyLgA8bBmtXHgqPBJ7pYpZLPNFEaiwGQuD000/n9NNPL7oMqeaVcTbxIuB1hsHad+i5Z9wFHETnodCzj6UGYyCUVBbDYP9jKJTUzkAoaavKCINfwDBYl/JQ+DIcp1BqaAZCSVtU5qDTHzcM1q9Dzz3jXuAIDIVSwzIQSuqSVyBpHIeee8a/MBRKDctACJx44omceOKJRZch1RTDYOMxFEqNy0AInHTSSZx00klFlyHVDMNg4zIUSo3JQAi0trbS2tpadBlSTTAMylAoNR4DIXD22Wdz9tlnF12GVDjDoNoZCqXG0q1AGBHvjYjmiHgmIr5fpZokFcAwqI4MhVLj6G4P4cPA54DvVqEWSQUxDKorhkKpMXQrEKaUfpZS+gXwRHXKkdTXDIPaGkOh1P95DKHUwAyDKpehUOrfqhIII+Jd+bGGzXOvuaYai6iok08+mZNPPrnoMqQ+ZRhUdxkKpf6rKoEwpfTtlNKElNKEGW98YzUWUVHHHHMMxxxzTNFlSH3GMKieMhRK/ZO7jIGHH36Yhx9+uOgypD5hGFRvGQql/qe7w84MiohhwEBgYEQMi4hB1Smt75xzzjmcc845RZchVZ1hUJViKJT6l+72EH4SaAM+Brw9v//JShclqfIMg6o0Q6HUf3R32JnzUkrR4XZelWqTVCGGQVWLoVDqHzyGUOrnDIOqNkOhVP8MhFI/ZhhUXzEUSvXNQAiceeaZnHnmmUWXIVWUYVB9zVAo1S8DIXDEEUdwxBFHFF2GVDGGQRXFUCjVJwMhsHz5cpYvX150GVJFGAZVNEOhVH8MhMCsWbOYNWtW0WVIvWYYVK0wFEr1xUAo9ROGQdUaQ6FUPwyEUj9gGFStMhRK9cFAKNU5w6BqnaFQqn0GQqmOGQZVLwyFUm0zEAJnn302Z599dtFlSN1iGFS9MRRKtStSqu7/Fcuvv64qCxh75FHVaLZIUXQBqrymMZOHAiOAocA6YC2wpmXFog29bNcw2AdaW5qHzDj1f54ZPGQQGzZs4Lln17H2mef4492/8vvaCzecf8nOwG+B8Z08/TQw7dBzz7ixt8uZOG7aYLLv3zAgAW3AmsXL5q/vbdtSf2MgBO68804A9t9//4q12QP+B1PnmsZM3gZ4JXAIMDn/d2eyILie7D0eBDwH3A38AbgZ+HPLikVlD4RpGKyO1pbm4cAryN631+b3d3vuuXUDNmxIRMCAAQNIKTF48KDbgT8CNwG3AH8f3TTBv3c3VDoUThw3bQgwgez9OwyYCLyQ7LvX/v0bmM++DLgBuBFoBu5YvGy+758amoEQmDFjBgBz586tWJs9YCCsU01jJo8H/h/wNuBZYDgwpIyXJmAVWUi8B/gCcGXLikXPbGFZhsEKa21pfjHZ3/M0suAwNL9tTfv7NxB4ELgAmDu6acKaKpXa71QiFE4cN20M8B7g3fmkIWQ9guVYRbbtfQL4IvDDxcvm/7vM10r9ioEQA6G6Lw9mxwGfBvYFBpMFu954Ov93DvA/LSsWPdHJMr+KYbAiWluap5K9fweThbrBvWyyPVz8APjc6KYJj/SyvYbQ01A4cdy0Q4HPAJPIjocv50fYlqzO2/kpcP7iZfPv72V7Ul3xpBKpm5rGTN4VmA/8CDiQrEewt2EQsoPqRwHvA5Y1jZl8XMkyDYMV0trSvENrS/PlwM/JwsQweh8GAbYBRgLvBP7e2tJ8SmtLsz/0tqK7J5pMHDdtm4njpl0M/AaYQvb+9TYMQvbeDQdOAe6YOG7aeyaOm+b/kWoYftilMjWNmRxNYybPAP4OHE72H0g1DAW2B37SNGbyz5rGTH4BhsGKaG1pPga4F3gT2ckG1TCYLBxeBFzX2tK8W5WW02+UGwonjpt2ONnxfydTvfdvUN72BcBNE8dN27tKy5FqioFQKkPTmMmDgcuB75D9B1WJHomtGQEcDTyEYbBXWluaB7S2NM8BLgN2oLxjBHtrJNnJKX9rbWme3AfLq2tbCoUppVG/ar7td5H1zO9C+ccI9sZIshNUbp84btqxfbA8qVAeQwgsWbIEgEMOOaRibfaAu5ZqVNOYycOBa8jOWqxWr0RPGAbL0NrSPJjsuLBpFPf+rQHePLppwjUFLb9udDymcENKXHHTEm697x88u76w0WLagHctXjb/R0UVIFVb1QMh2Zl42joDYQ3KewZ/A7yK7PiiWmEYLENrS/MAsp7dN1B8mG8DjhvdNOG6guuoee2hMKU0/oqbl7Bk+T94rrgw2K4NOHXxsvnzii5EqgZ3GZP1ELb3Ekrt8hM55pL1DNZSGLwQw2C5vkFthEHIPkO/aG1pfkXRhdS69t3HVzXf9q8l99VEGITs/fvBxHHTjii6EKka7CHEYWfUuaYxk08mGwKmWieP9EQC7gQObFmxaF3RxdSy1pbmNwBXUBthsNQDwL6jmya0FV1ILZs4btqrgN/RN8cLdkcrsM/iZfNXFl2IVEn2EEqdaBozeTeys0RrKQxC9sNhb+AjRRdSy1pbmrcDLqX2wiDAC4D/KbqIWjZx3LRhZLv6ay0MQvaZuqjoIqRKMxBKHeS7in9Ibf5nBNl/SJ9sGjO50Gst1rhvUnthvt0I4J2tLc2vLrqQGvZ5suBci4YBb5o4btobiy5EqiQDobS5/wBeTWUGK66WoWTjFHqoQQetLc2HA8dTu4EesuPRftra0jxwq3M2mInjph0AzKQ2e3fbjSA7nrCWP2NStxgIpc19mtrtXWo3ABgHeILC5j5FbYeJdjsAry+6iBr0MfpmnM/eGgpML7oIqVIqcbmtuvepT32q6BJUI5rGTD4Q2KfoOso0HDgHeEvRhdSK1pbmMWSXo6sHo8iOBb226EJqxcRx00aT9e7WQ8/pNsBHyY5VleqePYTA/vvvz/77eziWAPgA9dE7Adn39035pe2UeQ/1dcb+xNaWZi+NttFpwIaii+iGvSeOm3Zw0UVIlWAgBG644QZuuOGGostQwZrGTN6WbBdQPfWcbwBOL7qIWpBfkeTd9M1l6SplAHB20UXUgonjpgXwQepjd3+7oWQ1S3XPQAhceOGFXHjhhUWXoeK9Gniu6CK6aQRwQtFF1Igm6qt3ELLeaK+Tm3kRsH3RRXTTQGBq0UVIlWAglDaaQG1dkaRcL/dsYyB7/+rh2LOO9m5taa6XwxSqaQJQj4Otbzdx3DQP21Ddq6ddY1K1TabCQ80MGTqED37iLKYd8zpGbDOCu5b+nS999kJu/+tdlVzMQGBP4B+VbLQOvYYK724csccYBo/YhgGDh5BSYt2a1bQ98gDrn1lbycW0AeOBv1Sy0Tr0SrITNSrq3AvO4RWTDmL70duyZlUbdy29h29+6Xv8/c57K7WINuAQYEGlGpSKUPVAuPz62r+Oe9uTTwJ9W+vYI4/qs2WpbAdVusGPnPte3vz247jn7uUs/tNfeP2xr2POj77M0YfNYOWTT1VqMc+R/YfU6IGw4gM9Dxu9E+tWr+KZ1a0MHrUtQ7bdjkHDhrPyb7dD5S77OZDs/Wv0QPhaqrDXatcX7sKtf76dVU+vZsKrD+TVr53AXvvsyfGTT63UIkaQ9W4aCFXX7CGUgKYxk0dS4eOXRr9ge05489GsX7+ed77tA7Q+sZJ169dz7H9MZcapJ3DRV79fqUVtQ9bD9PNKNVin9qp0g0/dcyfr29YAMGDwELbfr4kBQ4YwcNjw56dXwEiq8GOkDu1bjUbfc/LGqzzu+7Jx/PCX32DnXXdk4KCBrF+3vhKLGEzWuynVNQMh8IG3n1x0CSreNmQ9bRX7Tuzzkr0ZPGQwDz3wCK1PrATgzpa7OfY/prLv/uMqtRjIelW2rWSD9aa1pXkQVdiebRL6IjtMM6XEhucqfu7RdpVusA5V7aofJ51yLHuPexGveHWWu39yyc8qFQbbjapkY1IRDITAnrvuWnQJKt4wKjz+2Qt23AGANavbnp/W1pYde7bjTqMruSio/SurVNtQshMSqrNNGzCAkXtmwwWufeyfpHUVD4SN/v5BFS8VOWXaYRwysQmAfz7yGC1/uaPSi6inoXKkTnmWMXDTbbdx0223FV2GirWOCg9Z8sTj2bGpI0ZuPHF5xIjs/uOPtVZyUQDPVrrBOrOOKm3PYuAgth27L4NHbsPaJx6j7dEHq7GYRn//ACraZVfqPSd/hMP2P5YPv/s8dtx5NJ//v0+y6+47V3IR9TZclbQZAyEw77rrmXfd9UWXoWK1UeEhS+69536ee/Y5dt19Z0bnvYUvO+ClAPz9roqd4dhuVaUbrDPPUoUxCAcMHsK2417KoBEjafvXI6x5aEWlF9GuYgck1rGKh6qhQ4cwYED239yzzz7HTX9YQtuatQwaPIgXvqiie4Z8/1T33GUsZZ6iwj+QWh9/kl9eMZ+T3nYsF//kf7nnb/fx+mNex+pVa5j7g59VclFtwCOVbLDejG6akFpbmp+iwicGbTvupQwYPIT1zz5DxABG7LYnAM+sbGV92+pKLWYdcH+lGqtjT1DhYWdeduBLOf9/P8pfb7mdfz+1igNfMZ5tRo2k9YmV3L10WSUXdX8lG5OKYCCUgJYVi9Y3jZl8D1DRi1p/4byvs27dOqa+8XVMGfNCWm69ky997ps82VqxIWcg61lZUskG61QL2dAlFTNgcDZe9MAhQxm40y7PT1+3dk0lA+Fq4JZKNVbHFgNjKtngY/98gn/c/xCvfM3BjBg5nCdbn+L6a//AJf/3Y1avqlin3irgpko1JhXFQChtdCMVDoTPPPMs//2pr/Lfn/pqJZvtaATgQbCwCJhEBbdrrS3NlWpqS4ZhoAf4I9ll/Cp2taAH7n9ok2Fnqsj3T3XPYwiljW6kPo/Fe6hlxaK2rc/W791C1ttWb9pGN014tOgiasAS6vPkjCHA3UUXIfWWPYTAx04/regSVBv+TBVOTKiyBPyp6CJqxC1UcSy7KuqTbsg6cBv1+f7dvXjZ/Hq8BrO0CXsIgZ1Hj2bn0RUfF071507g4aKL6KbVwJyii6gFeS9bvV3+7WngoqKLqAWLl81fA/ya7EdOvVgFXFh0EVIlGAiB391yC7+7xWO6G13LikUJ+AL1tdv4CbJjr5S5gCxk1Yt1wFVFF1FDvkR97fYfAPyk6CKkSjAQAr9a9Ad+tegPRZeh2jCX+vlerAa+mAdZZa6mfgZ5Xgv83+imCe5u3OhPwGNFF1Gm54BLFy+bX08/IKUu1ct/fFKfaFmxaA3wfeojVAwALi26iFqSh6uvk43NWA/c3V9i8bL5iayXtx56CdcBXyu6CKlSDITS5j4LPFN0EVuxGvhsy4pF/y66kBr0NWr/yhFrgG+NbppQb8es9oXvA49T28cSrgV+sXjZ/LuKLkSqFAOh1EHLikWPAu+mdnspNgD3kfWkqIPRTROeAk6mtkPhE8DHiy6iFi1eNn8t8Gay0FWrVgPvKboIqZIMhFLn5pIdz1SL46I9A7y5ZcWi9UUXUqtGN034DfBzajNUtAFvHt00oRZrqwmLl83/M/AtajPUrwFOWbxs/sqiC5EqyUAIfHrmTD49c2bRZaiG5CdqnErtHYvWvqvYXVVbdzbZGce1tOtxDTBndNOEm4supA58YsTwoWsjampo0Dbgl4uXzf910YVIlWYgBLYbtQ3bjaroNdXVD+S7jt9A7fRSrAF+RTY0jrYi33V8BLUzjFAbcAPw4aILqQe//tnnzvjGl88ePXLkMGokE64FlgJnFF2IVA0GQuA3N97Ib268segyVINaViy6ETiB4kPhGuB3wCktKxZtKLiWujG6acLtwFSKD4VtwK3AcQ4zs3WtLc1nA9/YbdfRfPGzZzJ8+FAK7ilcCywDjly8bH6t7TWQKsJACPzmxpv4zY03FV2GalTLikULgKPJdtcWsftxDdngxce3rFhkmOimfPfs4cBTZCfk9LU1wB+AIzxucOvaw2D7473G7MJX/+fdjNpmOBFRxPevjeyyepMWL5vvWf3qt8oOhBExNCIuiYgVEfF0RPw1It5QzeKkWtGyYtEiYBKwnL7rLdxA9p/RbOBkw2DPjW6asAR4BXAHfXf2eCJ7/y4EjjEMbl3HMNhuzz124ouzz/xFSmkxfXv2fxvZWJ+HL142v56ugCN126BuzvsAMBn4B1mPyeUR8fKU0v1VqE2qKS0rFrU0jZm8P/Bp4APAMKBa+7HWAPcD01tWLLqzSstoKKObJtzT2tJ8EPAhsvdwKNXbS7IG+BcwfXTThOYqLaNf6SoM5ua+aI+d/xNYD8wku8TdULr3f1h3tAErgbcuXjbfy1ipIZS9MUwprU4pnZdSuj+ltCGldDXZWGiHVK88qba0rFj0bMuKRbOA1wD3kB2bVsndWGvI/jP6b+AAw2BljW6asH5004QvAAeT7QZcTWV3I7eRDQt0IfBSw2B5thYGgf8c3TRh3eJl89PiZfO/BYwHbib7vlSy53wt2fv3Q+DFhkE1kh7/Oo6IXYCXkO2C6fjcuyKiOSKa515zTW/qk2pSy4pFtwIvBY4BriH7T6SnuwQTWbB8CPgEsHvLikWz3UVcPaObJtxN9mP2COBKsvevN4cCPE3WI3g+sOfopgkfGd00odavdlMTyg2DpRMXL5t//+Jl8w8j+2H2E7Ig3ptdyU8DT5IN9j528bL57168bH6tDkwvVUWk1P3OjYgYDPwauDeltMUB/JZff10tjQHWqbXPZJetHTZ0SJ8tc+yRR3WcVBsDK6hHmsZM3g14F3A8WVBcT9bztA2bv7drya6VPBz4J3AT2SC8v8vHP1Qfa21p3pFsOJETgZflk9cBo9j8/WsP/yPILrF2C9k1iX8zummCg4V3Q0/CYGcmjpu2HfAO4C3Ay4GBZIPKb8PmHR/PkgXI4WQnGi0BLgauWrxsfi0ORC/1iW4HwogYQPaLbFvguJTSFr9A9RAIi2Ag7L+axkweAIwj64EaD2xH9h/TM2S9GCvI/hP6a8uKRUUPh6IOWluaA9ib7P17ObAD2fv3HBt7cpcAt+ZjHaoHKhUGO5o4bloAe5K9fwcAo8nevw1kPYGPAH8B/rJ42fzWHpQu9UvdCoSRDQT1XWAv4OiU0lbHY6qHQPjL3/8egOMOP7zPlmkglNSoqhUGJfVcd48hvAjYDzi2nDBYLxY1L2FR85Kiy5Ckfs8wKNWm7oxDOIbsdP8DgUcjYlV+O7laxUmS+g/DoFS7yh7DKaW0AndrSpJ6wDAo1TYvXSdJqirDoFT7DISSpKoxDEr1oVqX/akr//uhc4ouQZL6HcOgVD/sIZQkVZxhUKovBkLg8gULuHzBgqLLkKR+wTAo1R8DIXBzy+3c3HJ70WVIUt0zDEr1yUAoSaoIw6BUvwyEkqReMwxK9c1AKEnqFcOgVP8cdgYYOnhw0SVIUl0yDEr9g4EQ+Px/vb/oEiSp7hgGpf7DXcaSpG4zDEr9i4EQ+NHV1/Cjq68pugxJqguGQan/MRACf7n7bv5y991FlyFJNc8wKPVPBkJJUlkMg1L/ZSCUJG2VYVDq3wyEkqQtMgxK/Z/DzgDbjhxZdAmSVJMMg1JjMBAC55317qJLkKSaYxiUGkeklKq9jKovoJ+IoguQpHaGQamxeAwhcMEFF3DBBRcUXYYk1QTDoNR43GUM3HrrrUWXIEk1wTAoNSZ7CCVJgGFQamQGQkmSYVBqcO4ylqQG19rS/GPgbV08bRiUGoCBENh1112LLkGSCtHa0nwZ8OYunjYMSg3CYWdqh8POSOpThkFJ7TyGUJIaUGtL8w/pOgxehWFQaij2EALnn38+AOeee26RZdhDKKlPbOUEkhXAvqObJjzThyVJKpjHEAJ33XVX0SVIUp8wDErqjLuMJalBGAYldaXqPYTLr7+u2ovYorFHHlXo8iWpFmwlDP4cmGEYlBqXPYSS1M+VMej0mw2DUmPzGEJg7733LroESaoKr0AiqRxVP8t4+fXXFXqWcR3tMvYsY0kVZRiUVC53GUtSP2QYlNQdBkLgE5/4BJ/4xCeKLkOSKsIwKKm7PIYQuO+++4ouQZIqwjAoqSfsIZSkfsIwKKmnDISS1A8YBiX1hoFQkuqcYVBSb3kMIbDffvsVXYIk9YhhUFIlOA5h7XAcQkndYhiUVCnuMpakOmQYlFRJBkLgAx/4AB/4wAeKLkOSymIYlFRpHkMIPProo0WXIEllMQxKqgZ7CCWpThgGJVWLgVCS6oBhUFI1GQglqcYZBiVVm8cQAgcddFDRJUhSpwyDkvqC4xDWDschlLQJw6CkvuIuY0mqQYZBSX3JQAicddZZnHXWWUWXIUmAYVBS3+tWIIyIH0XEIxHx74j4e0ScWa3C+tLKlStZuXJl0WVIkmFQUiG620P4eWCvlNK2wJuAz0XEIZUvS5Iaj2FQUlG6FQhTSneklJ5pf5jf9ql4VZLUYAyDkorU7WMII+KbEbEGuBt4BLi24lVJUgMxDEoqWrcDYUrpPcAo4DDgZ8AzHeeJiHdFRHNENM+95preV1llkyZNYtKkSUWXIakBGQYl1YJejUMYEd8C7kwpfb2reRyHsGyOQyg1GMOgpFrR22FnBuExhJL6uYWz5gxaOGtORYfpMgxKqiVlX7ouInYGpgBXA23AkcCM/FbXTjvtNAC+973vFVyJpKIsnDVnIPBS4BDg1cChZD94h5L14MfCWXPWAyuBvwKLgGagecrsmY91Z1mGQUm1pjvXMk7AWcC3yHoWVwD/L6V0VTUK60tr164tugRJBVk4a87OwLuA/wKG5ZNH0vlhHAOBFwBHAK8F1gDDFs6aswS4ALhmyuyZWwxyhkFJtajsQJhSegyYXMVaJKnPLJw1ZwIwC5hG9oN3eDebGAxsl9+fBFwKPLtw1pyvA1+fMnvmyo4vMAxKqlVeuk5SQ1k4a86IhbPm/B/ZLt83kfUKdjcMdmYUWe/hx4F7F86a84bSJw2DkmpZd3YZS1JdWzhrzmuAy4AdgBFVWsyw/HbFwllzfgm858C3HHIyhkFJNcxACEyZMqXoEiRV0cJZcwI4HziHyvQGlmMEcEIMiDeteXLNyBE7dJo/DYOSakKvxiEsh+MQls1xCKUqyIeLuQg4mexkkT43YNAAxr52HNvsNKp0smFQUs3wGEJJ/VbeM3gR8HYKCoMAG9ZtYPmiZax+fFX7JMOgpJpiIARmzJjBjBl1P5yipM2dT9YzWK3jBcu2Yf0G7l10D6seW3UNhkFJNcZjCCX1SwtnzTmMvj1mcKs2rNuQli3820uAmNI0oehyJOl59hBK6ncWzpozAvgpNRQGcwHsDnyq6EIkqZSBUFJ/9GWyoWVq0UjgQwtnzTmg6EIkqZ2BUFK/snDWnInAqdRe72CpYcBl+UkvklQ4jyEEjj766KJLkFQ5n2TjNYlrVfuu49cBCwuuRZIMhACnnHJK0SVIqoCFs+bsBhxFfYzruQ3wYQyEkmqAu4yBtrY22traii5DUu/NBAodDL8bAjh84aw5uxddiCQZCIHTTz+d008/vegyJPXCwllzBgHvp/Z3F3d0VtEFSJKBUFJ/MZ76OwxmGHBi0UVIkoFQUn9xCPW5TRuX925KUmHcCEnqLyZRpesV79K0Dy97y5EAPPCn27nn2hsr2fxaYH+gpZKNSlJ31OOvaUnqzKRqNDp025G85E2HsWH9+mo0D9nJJYdUq3FJKoc9hMCJJ3oIj9QP7FONRvc76XU88+/VrP5nK7s0javGIrYBDga+V43GJakcVQ+EY488qtqL6LWTTjqp6BIk9cLCWXMGAoMr3e6ek17O9mN2pflbP2fPSS+vdPOlRlezcUnaGncZA62trbS2thZdhqSeGwasq2SDI3fegbFTX8ny629h1SNPVLLpThdX7QVI0pa4yxg4++yzAZg7d27BlUjqofVU+OokO40fy4CBA9l+793Zfq/d2GbXFwCw435jWL9uHcsX/LmSi3uuko1JUncZCCX1B89Q4T0eAcSAYMd9X7TJ9OGjt2W7PXep5KIAVle6QUnqDgOhpLo3ZfbMtHDWnFXAqEq1ed/CJdy3cMnzj/c78XB2O3jfagw7sx54sJINSlJ3eQyhpP7i9qIL6KFVwC1FFyGpsdlDKKm/WARMBAZWo/G7rvw9d135+2o0PRRYstW5JKmKDITAySefXHQJknrvFrJj8bYtupBueg54qOgiJDU2AyFwzDHHFF2CpN67BRhSdBE9cOuU2TNT0UVIamweQwg8/PDDPPzww0WXIakXpsye+SBwd9F1dNPTwJyii5AkAyFwzjnncM455xRdhqTe+wJZyKonVxZdgCQZCCX1Jz8D6mX36zPAt6bMnvlM0YVIkoFQUr8xZfbMZ4GLyMJWrUvAhUUXIUnQByeVLL/+umovoktjjzyqsGVLKsyXgXeTDedSq9qAn06ZPXNF0YVIEthDKKmfmTJ75mPAmdT25eCeBv6r6CIkqZ2BEDjzzDM588wziy5DUoVMmT3zCmAh8GzRtXRiDfC2KbNn1tvJL5L6McchBI444oiiS5BUeacDy6itsQnbgMumzJ7526ILkaRS9hACy5cvZ/ny5UWXIamCpsye+TjwBrIeuVqwFmgB3lN0IZLUkYEQmDVrFrNmzSq6DEkVNmX2zJuA4yk+FK4l6608asrsmWsLrkWSNmMglNSvTZk98zrgjRR3kkkbcBswyeMGJdUqA6Gkfm/K7Jm/Bw4D/kHf9hauAeYBhxsGJdUyA6GkhjBl9sxbgX3Jrh3cVuXFrQUeA46bMnvmqe4mllTrDISSGsaU2TPXTpk984PA4cAKKn/d42fJwuDlwLgps2deX+H2JakqHHYGOPvss4suQVIfmjJ75p8XzpqzDzAN+AjwSrIfyD0domZV/u/FwDemzJ55b++rlKS+EylV9zrwy6+/rrALzdfZpeui6AKkRrVw1py9gfcCJwB7kO1SHgSM6GT2DWQBsP0HdQvZ9ZMvd9ewpHplIATuvPNOAPbff/9qlrM1BkKpBiycNWcY0AQckt92IAuG68hOElkB/BlYAtw/ZfbMwrZxklQpBkJgxowZAMydO7ea5WyNgVCSJBXCk0okSZIanIFQkiSpwRkIJUmSGpyBUJIkqcE5DiHwoQ99qOgSJEmSCmMgBA455JCiS5AkSSqMu4yBJUuWsGTJkqLLkCRJKoQ9hMCXvvQloPBxCCVJkgrRox7CiHhxRKyNiB9VuiBJkiT1rZ7uMr4QuKWShUiSJKkY3Q6EEfFWYCXw24pXI0mSpD7XrUAYEdsC5wMf3Mp874qI5ohonnvNNb2pT5IkSVXW3ZNKPgtcklJ6MCK6nCml9G3g2wDLr78u9by8vvGpT32q6BIkSZIKU3YgjIgDgSOBg6pWTUH233//okuQJEkqTHd6CA8H9gL+kfcObgMMjIj9U0oHV760vnPDDTcAcOihhxZciSRJUt/rTiD8NvDTkscfIguIZ1WyoCJceOGFgIFQkiQ1prIDYUppDbCm/XFErALWppQeq0ZhkiRJ6hs9vlJJSum8CtYhSZKkgngtY0mSpAZnIJQkSWpwPd5l3J/Mnj276BIkSZIKYyAExo4dW3QJkiRJhXGXMfDb3/6W3/7WSzNLkqTGZA8hcPHFFwNwxBFHFFyJJElS37OHUJIkqcEZCCVJkhqcgVCSJKnBGQglSZIanCeVAF/+8peLLkGSJKkwBkJg9913L7oESZKkwrjLGLj66qu5+uqriy5DkiSpEPYQAj/+8Y8BOOaYYwquRJIkqe/ZQyhJktTgDISSJEkNzkAoSZLU4AyEkiRJDc6TSoALL7yw6BIkSZIKEymlai+j6gvoJ6LoAiRJUmNylzFwxRVXcMUVVxRdhiRJUiEMhMCVV17JlVdeWXQZkiRJhTAQSpIkNTgDoSRJUoMzEEqSJDU4A6EkSVKDc9gZoK2tDYDhw4cXWYbDzkiSpEIYCGuHgVCSJBXCXcbApZdeyqWXXlp0GZIkSYUwEALXXnst1157bdFlSJIkFcJAKEmS1OAMhJIkSQ3OQChJktTgDISSJEkNrurDzkTEu1JK367qQiqgr+usl7+LJEnq//qih/BdfbCMSujrOuvl7yJJkvo5dxlLkiQ1OAOhJElSg+uLQFgvx8n1dZ318neRJEn9XF9cy1iSJEk1zF3GkiRJDc5AKEmS1OB6FQgjYlpE/C0ilkXExzp5fmhEXJY/vzgi9ip57uP59L9FxOt7U8cW6hsWEX+OiNsi4o6I+Ewn87wjIh6LiL/mtzNLnrsgf91dEfH1iIgyl7t9RFwREXfnr311h+cjb29ZRLRExMElz70oIhbkr7uz9G8mSZJUDYN6+sKIGAhcCBwFPAjcEhFXpZTuLJntDODJlNK4iHgr8AXgLRGxP/BW4GXA7sD1EfGSlNL6ntbThWeAKSmlVRExGLghIn6dUrq5w3yXpZTe22H9JgGvAZrySTcAk4Hfl7HcrwHzU0onRcQQYESH598AvDi/TQQuyv8F+CEwO6V0XURsA2woY3mSJEk91psewlcCy1JKy1NKzwI/BY7rMM9xwA/y+1cAR+S9bMcBP00pPZNSug9YlrdXUSmzKn84OL+VexZNAoYBQ4Ch+Wv/ubUXRcR2wGuBS/Iank0preww23HAD/P6bga2j4jd8qA8KKV0Xf7aVSmlNWXWK0mS1CO9CYQvBB4oefxgPq3TeVJK64CngBeU+dqKiIiBEfFX4F/AdSmlxZ3MdmK+6/aKiNgzr/cm4HfAI/ntNymlu8pY5N7AY8D3IuLWiLg4IkZ2mKer9X8JsDIifpa/9ot5T6wkSVLV9PuTSlJK61NKBwJ7AK+MiPEdZvkVsFdKqQm4jrxHMyLGAfvlr3shMCUiDitjkYOAg4GLUkoHAauBzY6v3MJrDwM+BLwCGAu8o8zXSpIk9UhvAuFDwJ4lj/fIp3U6T0QMArYDnijztRWV77b9HTCtw/QnUkrP5A8vBg7J758A3Jzvtl0F/BrY5OSQLjwIPFjSE3kFWUAs1dX6Pwj8Nd8Nvw74RSevlSRJqqjeBMJbgBdHxN75iRNvBa7qMM9VwKn5/ZOAhSkbCfsq4K35Wch7k51c8ede1NKpiNgpIrbP7w8nOwHm7g7z7Fby8E1A+27hfwCTI2JQfkLK5JLnupRSehR4ICL2zScdAdzZYbargP/MzzZ+FfBUSukRsr/p9hGxUz7flE5eK0mSVFE9Pss4pbQuIt4L/AYYCHw3pXRHRJwPNKeUriI7seLSiFgGtJKFRvL5LicLO+uAs6twhjHAbsAP8uPwBgCXp5Su7lDj+yPiTXkdrWzcRXsFWSC7newEk/kppV+Vudz3AT/Og/Jy4LSIeDdASulbwLXA0WQn06wBTsufWx8RHwJ+m598swT4Tm/+AJIkSVvjpeskSZIaXL8/qUSSJElbZiCUJElqcAZCSZKkBmcglCRJanAGQkmSpAZnIJQkSWpwBkJJkqQGZyCUJElqcAZCSZKkBmcglCRJanAGQkmSpAZnIJQkSWpwBkJJkqQGZyCUJElqcAZCSZKkBmcglCRJanAGQkmSpAZnIFSXImL/iGiOiOjBa98XEV/YwvN7RUSKiFUR8a7eVdrYIuKM/O+YImJc0fVIqh1ux+tDLWzHGy4QRsT9EXFkh2nviIgbiqqpGiLivIj4US+b+SzwpZRSytv8akQ8GRE3RcQeJct6W0R8vcNrvwOcHBE7b2UZ26eUvt2h9r0jYkNEXNTL+qsuIj4QEY9GxL8j4rsRMXQL8x4REXdHxJqI+F1EjCl57oKIeCBvZ0VEfKLkucPyDUXpLUXEiQAppUtSSttUd02l8uXbhOb8s/pIRPw6Ig7Nnzsv//y+uWT+Qfm0vUqmTYqIhRHxdEQ8FRG/ioj98+dOLvkutOXbi+e/H32+wlXidrxvdHM7fmZELMs/a/MjYveS586LiOc6bKvHljw/MCI+FxEP55/rWyNie6iN7XjDBcJqi4iBHR4P6ubrtzp/d9vsiYjYDXgd8Iv88SuBQ4BdgRuAj+XTtwM+DHyy9PUppbXAr4H/7MHi/xN4EnjLlr6YRYuI15P9HY4AxgBjgc90Me+OwM+ATwGjgWbgspJZLgFemlLaFphEthH+D4CU0h9TStu034BjgFXA/KqsmNQLEfFB4KvAfwO7AC8CvgkcVzJbK/CZjtvLkjZeDSwAfgnsDuwN3Ab8KSLGppR+XPJ9eAPwcIfvSG/Xwe04bsc7mfdwss/1cWTb8fuAuR1mu6z0s5hSWl7y3GfItu+vBrYFTgHWVmxleslAWIaIeGlEXBcRrRHxtw6/bL8fERdFxLURsRp4XWS9kB+NiBZgdf7r900RcUdErIyI30fEfiVtbDZ/JzWkiDg7Iu4B7smnfS029iotiYjD8unTgE+QfRFXRcRt+fTtIuKS/Bf7Q/kvlU43yMBRwF/yDQJkG+QbUkrPAL8l+9IAzAa+mFL6dydt/B54Y1l/5I3rGWQbkk8CzwHH5tPfEhHNHeb9QERcld9/Qd6D8O+IuCVft2r3+p4KXJJSuiOl9CTZL/F3dDHvfwB3pJTm5X/T84ADIuKlACmlv6WUVpfMvwHoarfBqcAVHeaXCpcHi/OBs1NKP0sprU4pPZdS+lVK6cMls84HngXe3kVTFwA/TCl9LaX0dEqpNaX0SeBmsu9OT2pzO+52vDPd2Y4fA8zL5302n/e1EbHP1hYSETsA/w94Z0ppRcosLXlvCmcg3IqIGAlcB/wE2Bl4K/DNyHdd5N5G9oUaRfarC2AG2Zdoe7Iv3VyyD8NOwLXAryJiSEkbz8+fUlrXRTnHAxOB9mXfAhxI9kvlJ8C8iBiWUppP9ium/ZfKAfn83wfWkQWNg4CpwJldLOvlwN9KHt8BHBYRw8l+Sd0REROAfVNKP+mijbuAA7p4riuHAnsAPwUuJ/uyAvwK2DciXlwy79vI1hvgQmA12S/fU0tet1URcWi+ge/qdmgXL30ZWa9Fu9uAXSLiBVubNw9z9+bT2+v4WGS7ux4ERpasW2mtI4GTgB+Uu35SH3o1MAz4+VbmS2S95Z+OiMGlT0TECLJelHmdvO5yspDTLW7Hn+d2fHPd2Y4DRCf3x5dMOzb/0XFHRJxVMv3lZO/bSZHtnv57RJxd7vr1iZRSQ92A+8l2t60sua0h+9XU2fxvAf7YYdoc4NP5/e+T/ZLtuIzTSx5/Cri85PEA4CHg8M7m76KOBEzZyjxPAgfk988DflTy3C7AM8DwkmkzgN910dZ3gP/pMO0DZF+Wy8g2iDcC+wHvB/4A/JhsQ9g+/4uB9V20v1e+ToM6TL8Y+EV+/9Vkvy53zh//CDi3pO2ngRHAwHy+fUva+VxX72kFP0v3AtNKHg/O12mvTua9pJO/55+Ad3SYFmQb+c8Aozpp5xSy3RTRxWdkXDXX2Zu3Ld2Ak4FHtzLP89smYDFwFjCo/btDFiQS2SEUHV87DXiuw7TDgQe3sky34xunuR3ftNbubMePBB4HmoDh+WdoAzAjf35/skMcBpL9qHmk5Lm35e1ekr+2CXgMOKqTz0gh2/FG7SE8PqW0ffsNeM8W5h0DTCz9pUG20du1ZJ4HOnld6bTdgRXtD1JKG/LnX7iVNrbUJhHxoYi4K7IDrlcC2wE7bmE9BgOPlKzHHLJfy515kuyX8vNSSl9JKR2QUnoL8GayjccA4F1kvzbvIj8mJTcKeKqM9Wpfn+HAdLINEimlm4B/kH2RIPsVOSO//zayDc4aso3aIDb9+5Tz9+ytVWTHgbRrv/90GfO2z7/JvClzK9BG58exnEr2H1fqUcVSdT0B7NjZ7tIufBKYRdar2O5Jsv9kd+tk/t3I/kPuLrfjG+t2O76psrfjKaXrgU8DV5L9ALg/n+/B/Pk7U0oPp5TWp5RuBL5GtkcHsm06wPkppbaUUgtZD+rRFV2bXmjUQNgdDwCLSgNkyrrvS7uCO/vPuXTaw2RfZOD54yv2JPt1uaU2umwzP87kI2Rf6B3yYPsUG7uwO7b3ANkvyx1L1mPblNLL6FwL8JLOnoiIXcg2HueTdZW3pJSeI9v10VQy635s2hW/NSeQfRm/mXepP0q2sW3fbXAdsFNEHEi2QWnfzfAYWVf8HiVt7VnuQqPzs3hLb4d18dI72HRXygHAP1NKT2xt3nwX1j759M4Myp8vrXNPst6QH5a1YlLfu4lsO3N8OTOnlK4DllHyozxlh1PcRBYqOnoz2bFv3eV2vAO348/rznaclNKFKaUXp5R2IQuGg4ClXbSd2PhetpRMo5P7hTMQbt3VwEsi4pSIGJzfXhElBxOX4XLgjZENOzIYOIfsS31jL+oaRfbleQwYFBHnsumvnH8Ce0XEAICU0iNkZ+19OSK2jYgBEbFPREzuov3rgIMjYlgnz/0vcF7+q+4+4BURsQ1ZWCk9o2oy2Rlq5ToV+C7ZsRYH5rfXkJ188fJ8YzUP+CLZ8TbX5eu2nuwM3vMiYkRkJ2qUfVZc6nAWbye3P3bx0h8CZ0Q2ztf2ZL0d3+9i3p8D4yPixPxvei7ZBvju/L2YGRE7ROaVwNls/h/fKcCNKaV7y103qS+llJ4i+2xfGBHH59/HwRHxhoi4oIuXzSILRaU+BpwaEe+PiFH5d+NzZLsfOz0DdCvcjm/O7Xim7O14RAyLiPH5dvpFwLeBr6XsZBQi4rgO2/H3k50pT77d/iMwKyKG5p+9t5J9NmtDEfupi7yRdfEe2WHaO9jCcQrAvsA1ZF/aJ4CFwIH5c98HPlfGMk4A7iT79bcIeNmW5u+khk2OKyA7RuG7wL/JjlP4SGk7wAvIDox+kuwsM8h2RVxE1r39FHAr8NYtLHMe8JYO06YA13SY9tV8OTcDe+TThuXL2aWLtvei5NgTsl+Q64CXdzLvtWTjaAEclr/uwg7z7JS/R/8m+4X7BeC3Jc/fAZxchc/TB8k22v8GvgcM7WqZZMef3E226+D35MeokP0wm082FMcq4O9kZxdGh2XdDZxR7mfEm7eibmS7Y5vJThB4NP9uTsqfO4+S4+LyadfS4bgtshMTfp9/J/6dtzG+k2UdzlaOIcznczu+cZrb8U2XW9Z2nOzkopaSz/XngYEl887NP1uryLbX7++wnBeSbetXkYXumVv7jPTlLfICpM1EdgbeD4BXpm5+UCLifcCeKaWOv/zbnx9DdvbbWuDDKaXv9LbeDu1/Adg1pXTqVmeucxFxGvAVso33/mnTca8kNTC34/WhFrbjBkL1C/nuhSHA7cAryH6NnplS+kWRdUmSyuN2vFhVHyld6iOjyLrrdyfr+v8y+bEbkqS64Ha8QPYQSpIkNTjPMpYkSWpwBkJJkqQGV/VjCEcNH53Wb3guf7TxEoDP34tOppU8is2ejLLm6zjXZnPHJrN30XZpeZ0tdeNMnS8tn6/Ldey8ps7mi84L3ry9iE6nRxcFRhcL3bzdzd+9Lv40Hf42m07Z/Lmul9dJhZs81/VrOnlVVw+7KKirddt0huhyfTaZHF082VlNZf1RO//+dD5vyTpt/qEqc1ld/cHLqSG47c67fpNSmtbFq9XH3CazhXXsvKbO5nObvPlzVd8m9+H2ePNl9v9tctUD4foNz/Hi3Q7JyogBDGj/4EYwIAYQz39Zsscbn2ufPqDD467m27S9ARHP/9HKnW9ARCfzdtVGbNrGJs+xyWuen4+Or2GTGrb03MY6KLONjfNldWysKYJN1mWTNjosp+PrSueLLp/bdHppm52tR/v9ztrbrN6Orxuw9TbouF4Dtrys9vv5m7ZZne33idhs+aXPQcmyOq154xY92msc0OFx9iY9/xo6/E0Z0GG+kprYYhsBXdSx6fToYlmdLKdknUv+kLzggFd0dRkuFcBtstvkut0mV3t7nL0BJcturG2yu4wlSZIanIFQkiSpwRkIJUmSGpyBUJIkqcEZCCVJkhqcgVCSJKnBGQglSZIanIFQkiSpwRkIJUmSGpyBUJIkqcEZCCVJkhqcgVCSJKnBGQglSZIanIFQkiSpwRkIJUmSGpyBUJIkqcFFSqm6C4iYD+xY1YVsbkfg8T5eZl9wveqL65V5PKU0rVrFqHsK2iaXo799X/rT+vSndYH+tT49WZdOt8lVD4RFiIjmlNKEouuoNNervrheUvn62+eqP61Pf1oX6F/rU8l1cZexJElSgzMQSpIkNbj+Ggi/XXQBVeJ61RfXSypff/tc9af16U/rAv1rfSq2Lv3yGEJJkiSVr7/2EEqSJKlMdREII2JaRPwtIpZFxMc6eX5oRFyWP784IvbKp78yIv6a326LiBPKbbMvVGm9to+IKyLi7oi4KyJe3Yer1F5Dj9ar5PkXRcSqiPhQ/njPiPhdRNwZEXdExH/10ap0rLui65VP+0C+TksjYm5EDOuDVelYd08/h3tFRFvJZ/Fbnbz2qohY2geroRpWxmfsKyWfo79HxMqS59aXPHdVnxbeiTLWZUxE/DYiWiLi9xGxR8lzp0bEPfnt1L6tfHMR8d2I+FdX39HIfD1f15aIOLjkuZp6X6Cs9Tk5X4/bI+LGiDig5LnCM0GpMtbluHxd/hoRzRFxaMlzPXtvUko1fQMGAvcCY4EhwG3A/h3meQ/wrfz+W4HL8vsjgEH5/d2AfwGDymmzHtcrf/wD4Mz8/hBg+3pZr5LnrwDmAR8qWceD8/ujgL/X0/u1hfV6IXAfMDx/fDnwjnpZL2AvYOkW2v4P4Cdbmsdb/791d3sLvA/4bsnjVUWvQ3fWJf+On5rfnwJcmt8fDSzP/90hv79DwevzWuDgrr6jwNHAr4EAXgUsrsX3pRvrM6n9bw68oX19uvsZrZF12YaNh/01AXf39r2phx7CVwLLUkrLU0rPAj8Fjuswz3FkQQiy/3SPiIhIKa1JKa3Lpw8D2g+YLKfNaqv4ekXEdmQfoksAUkrPppRWVnc1NtPj9QKIiOPJQtId7TOnlB5JKf0lv/80cBdZmOpLFV+v3CBgeEQMIgv6D1en/C71ar26EhHbAB8EPlfhelV/uru9nQHM7ZPKuq+cddkfWJjf/13J868HrksptaaUngSuAwodsD2l9AegdQuzHAf8MGVuBraPiN36prru29r6pJRuzP/2ADcD7b23tZAJNlHGuqxKefoDRrIx3/RYPQTCFwIPlDx+kM3DwPPz5EHpKeAFABExMSLuAG4H3p0/X06b1VaN9dobeAz4XkTcGhEXR8TI6q7GZnq8XnmI+Cjwma4az3dXHgQsrlzJZan4eqWUHgK+BPwDeAR4KqW0oCrVd61Xn0Ng7/yztigiDit5zWeBLwNrqlK16knZ29uIGEO2HVtYMnlYvkvs5vyHVZHKWZfbyHrHAU4ARkXEC8p8ba3ZUs219L70xBlkvZ9Qn+8NEXFCRNwNXAOcXvJUj96begiEvZJSWpxSehnwCuDjRRyjVQ1drNcgsi7mi1JKBwGrgcKPheiG84CvpJRWdfZkHqyuBP5fSunffVlYL51HJ+sVETuQ/QrdG9gdGBkRb+/78nrsEeBF+Wftg8BPImLbiDgQ2Cel9PNCq1M9eitwRUppfcm0MSm7EsPbgK9GxD7FlFa2DwGTI+JWYDLwELB+yy+pS/X2vjwvIl5HFgg/WnQtvZFS+nlK6aXA8WQ/wtv16L0ZVPkSK+4hYM+Sx3vk0zqb58F819t2wBOlM6SU7oqIVcD4Mtustmqs14PAgyml9t6zK+j7QNib9ZoInBQRFwDbAxsiYm1K6RsRMZgsDP44pfSzKq9DZyq+XsA/gftSSo8BRMTPyI5x+VEV16OjHq9XvrviGYCU0pKIuBd4CdmPlAkRcT/ZNmbniPh9Sunwaq6IalZ3trdvBc4unZD3pJNSWh4RvyfbQ3Bv5cssy1bXJaX0MHkPYf4j9sSU0sqIeAg4vMNrf1/NYiugy/WtsfelbBHRBFwMvCGl1P7/aS1kgh5LKf0hIsZGxI4ppcd7/N705MDDvryR/YeynKwXpf1gz5d1mOdsNj3o/fL8/t5sPNliDNnxWTuW02Y9rlf++I/Avvn984Av1st6dZjnPDaefBHAD4Gv1uPncAvrNZHsmMIR+Tr+AHhfvawXsBMwML8/lmwDOrrDa/fCk0oa+lbu9hZ4KXA/+YHy+bQdgKH5/R2BeyjwYP8yvy87AgPy+7OB8/P7o8mOI94hv93X8ftS0Dp1+R0F3simJ5X8uRbfl26sz4uAZcCknnxGa2xdxrHxpJKD8+1v9Oa9KfzNK/OPcjTZmaX3ArPyaecDb8rvDyM7s2sZ8GdgbD79FLL/cP8K/AU4fktt9pP1OhBoBlqAX1DAWWw9Xa8ObZzHxuB0KNkBsy35Ov8VOLre1yt//BngbmApcGn7F7ke1gs4scPn8NhO2t4LA2HD37b2Gcsfnwf8T4fXTSI7Tvq2/N8zan1dgJPI/hP+O1lP1NCS156ef4+WAafVwLrMJTv04zmyPUxnAO8mOy4dsoBxYb6utwMTavV9KXN9LgaeLPl/pHlL72uNr8tHS7a/NwGH9va98UolkiRJDa7fn1QiSZKkLTMQSpIkNTgDoSRJUoMzEEqSJDU4A6EkSVKDMxBKkiQ1OAOhJElSgzMQSpIkNbj/D31Tb3O7zJ21AAAAAElFTkSuQmCC\n",
          "text/plain": "<Figure size 792x648 with 5 Axes>"
         },
         "metadata": {},
         "output_type": "display_data"
        }
       ]
      }
     },
     "6965205812f94c028b3b87ac410a5070": {
      "model_module": "@jupyter-widgets/controls",
      "model_module_version": "1.5.0",
      "model_name": "HTMLModel",
      "state": {
       "layout": "IPY_MODEL_27cfd3fb85744b8896eb9cc920a0a6f7",
       "style": "IPY_MODEL_550772f4a74d4b22a6fe39fe2eb93050",
       "value": "61e79b06fb45c3c4d4a3f5f2"
      }
     },
     "6979039ae8704a69a16830de01316050": {
      "model_module": "@jupyter-widgets/base",
      "model_module_version": "1.2.0",
      "model_name": "LayoutModel",
      "state": {}
     },
     "69a98d360a884db8b668e9105a9a30ac": {
      "model_module": "@jupyter-widgets/controls",
      "model_module_version": "1.5.0",
      "model_name": "HTMLModel",
      "state": {
       "layout": "IPY_MODEL_f3647b13e3834369b4f3036dcc94f08f",
       "style": "IPY_MODEL_efe8dec6dec64d4b84e92d302045700b",
       "value": "<h5>Job ID</h5>"
      }
     },
     "6a02993ed8944347a4dccb8646b4efbb": {
      "model_module": "@jupyter-widgets/controls",
      "model_module_version": "1.5.0",
      "model_name": "DescriptionStyleModel",
      "state": {
       "description_width": ""
      }
     },
     "6a7fcc9ba8d5453c9c27a5fd7bd2d686": {
      "model_module": "@jupyter-widgets/controls",
      "model_module_version": "1.5.0",
      "model_name": "HTMLMathModel",
      "state": {
       "layout": "IPY_MODEL_1fc96b337d2941c4b41bfa94a7686cb8",
       "style": "IPY_MODEL_a4f6feb599c6425b80e46b1e0041dd9d",
       "value": "<table><style>\ntable {\n    border-collapse: collapse;\n    width: auto;\n}\n\nth, td {\n    text-align: left;\n    padding: 8px;\n}\n\ntr:nth-child(even) {background-color: #f6f6f6;}\n</style><tr><th>Property</th><th>Value</th></tr><tr><td><font style='font-weight:bold'>n_qubits</font></td><td>5</td></tr><tr><td><font style='font-weight:bold'>quantum_volume</font></td><td>16</td></tr><tr><td><font style='font-weight:bold'>operational</font></td><td>True</td></tr><tr><td><font style='font-weight:bold'>status_msg</font></td><td>active</td></tr><tr><td><font style='font-weight:bold'>pending_jobs</font></td><td>15</td></tr><tr><td><font style='font-weight:bold'>backend_version</font></td><td>1.1.20</td></tr><tr><td><font style='font-weight:bold'>basis_gates</font></td><td>['id', 'rz', 'sx', 'x', 'cx', 'reset']</td></tr><tr><td><font style='font-weight:bold'>max_shots</font></td><td>20000</td></tr><tr><td><font style='font-weight:bold'>max_experiments</font></td><td>100</td></tr></table>"
      }
     },
     "6aea6a99b29d41d3802d0aa1091c9a21": {
      "model_module": "@jupyter-widgets/controls",
      "model_module_version": "1.5.0",
      "model_name": "VBoxModel",
      "state": {
       "children": [
        "IPY_MODEL_ec5d61caa037467dabe211e4347c3d2f",
        "IPY_MODEL_42018a0574214ad7b9ed8fa391f8a4cc"
       ],
       "layout": "IPY_MODEL_9bb22aaea29149a7919780c84bee32b3"
      }
     },
     "6cf3d5085754475589b5524820588cdf": {
      "model_module": "@jupyter-widgets/base",
      "model_module_version": "1.2.0",
      "model_name": "LayoutModel",
      "state": {}
     },
     "6dbce55f9297457d9b2c14905273cab1": {
      "model_module": "@jupyter-widgets/controls",
      "model_module_version": "1.5.0",
      "model_name": "HTMLModel",
      "state": {
       "layout": "IPY_MODEL_af1c002d14f54d02b26513b4506ee143",
       "style": "IPY_MODEL_a790cbe44d924cdb9535beeaf792c215",
       "value": "<table><style>\ntable {\n    border-collapse: collapse;\n    width: auto;\n}\n\nth, td {\n    text-align: left;\n    padding: 8px;\n}\n\ntr:nth-child(even) {background-color: #f6f6f6;};\n</style><tr><th></th><th>Type</th><th>Gate error</th></tr><tr><td><font style='font-weight:bold'>cx3_1</font></td><td>cx</td><td>0.01115</td></tr><tr><td><font style='font-weight:bold'>cx2_1</font></td><td>cx</td><td>0.00684</td></tr><tr><td><font style='font-weight:bold'>cx1_2</font></td><td>cx</td><td>0.00684</td></tr></table>"
      }
     },
     "6de8aa27828941018823dc284510034d": {
      "model_module": "@jupyter-widgets/base",
      "model_module_version": "1.2.0",
      "model_name": "LayoutModel",
      "state": {
       "margin": "0px 0px 0px 37px",
       "width": "600px"
      }
     },
     "6ec653369a3d49088322b562d8752010": {
      "model_module": "@jupyter-widgets/controls",
      "model_module_version": "1.5.0",
      "model_name": "DescriptionStyleModel",
      "state": {
       "description_width": ""
      }
     },
     "6f981fda619043098f6144f207abf116": {
      "model_module": "@jupyter-widgets/base",
      "model_module_version": "1.2.0",
      "model_name": "LayoutModel",
      "state": {
       "justify_content": "center"
      }
     },
     "6fe74b80a95a40d3ae038aeb13c9f067": {
      "model_module": "@jupyter-widgets/output",
      "model_module_version": "1.0.0",
      "model_name": "OutputModel",
      "state": {
       "layout": "IPY_MODEL_26a4a517108d4677a301672949eda3a9",
       "outputs": [
        {
         "data": {
          "image/png": "iVBORw0KGgoAAAANSUhEUgAAAR4AAAEeCAYAAABcyXrWAAAAOXRFWHRTb2Z0d2FyZQBNYXRwbG90bGliIHZlcnNpb24zLjUuMSwgaHR0cHM6Ly9tYXRwbG90bGliLm9yZy/YYfK9AAAACXBIWXMAAAsTAAALEwEAmpwYAAASC0lEQVR4nO3df7BmdV3A8ffdXdhfLEiak1n+IFglBBVNEy01UgcGRZgUHc0f6WkyazyWUqkj+HtEydNokhwpMrIUE4VkQgdGKksZwAQVEyQd1JTRRoV7d5f98fTH91z2cndd7u7zPJ/vOc/3/ZphmNl793y/e+7zvO/59ZwzNxqNkKRIq3JPQFJ5DI+kcIZHUjjDIymc4ZEUzvBICmd4JIUzPJLCGR5J4QyPpHCGR1I4wyMpnOGRFM7wSApneCSFMzySwhkeSeEMj6RwhkdSOMMjKZzhkRTO8EgKZ3gkhTM8ksIZHknhDI+kcIZHUjjDIymc4ZEUzvBICmd4JIUzPJLCGR5J4QyPpHCGR1I4wyMpnOGRFM7wSApneCSFMzySwhkeSeEMj6RwhkdSOMMjKZzhkRTO8EgKZ3gkhTM8ksIZHknhDI+kcIZHUjjDIymc4ZEUzvBICmd4JIUzPJLCrck9AQ1D1TAH/ALwGOCXgUOBOWAeuAW4Dri5rdmVbZIajLnRaJR7DuqxquFRwB8Bzyb9oroLOARY3X3LCLiTtPW8BrgaeDdwpRHST2N4tFdVw9OBc4EjgLXsDs29GZG2gu4AzgI+2Nb4ItM9GB7dQ9VwGPA+4HRgw5iLmwduBJ7X1nxr3Llpdhge3a1qOB64grQrtW5Ci90BbANe0tZ8bELL1MB5VksAVA0nkI7P3I/JRQfScZ+NwIeqhpdOcLkaMLd4tHgA+d9IWzrTtEDa8rl4yuOo5wxP4aqGDcDNwANIp8enbQE4tq25NWAs9ZS7WnoXcDgx0YF0huwjVeNrr2T+8AtWNTwBeCmwPnDY1cDRwCsCx1TPGJ6yvZnJHkheqY3AWVWz4muDNGMMT6GqhgcBTyJuF2u5dcBJmcZWZoanXK8gX3QANgFnZhxfGRmecp1OOtCb069WDQdlnoMyMDwFqhoOBh6aex7AVuCY3JNQPMNTpmNIb/rcVpFus6HCGJ4ybYZefGJ8I+nePiqM4SnTevrzs9+UewKK15cXn2L1YWtnkTcLK5DhKdMC/XjDj0g3DFNhDE+ZbqIfP/vFG4WpMH148Sne14CDc0+ic13uCSie4SlQW7ODdCuM3A4mRVCFMTzl+kdgS8bxR8BVbc3OjHNQJoanXOeT97Na88A5GcdXRoanUG3N7cC/kO/s1o+Az2YaW5kZnrK9kfQEiGjzwJk+b6tchqdgbc2NpFufzgcOexfwOdIxJhXK8OitpN2eKNuAF7u1UzbDo5OA+weNtQCc1tZ8L2g89ZThKVjV8CzgYxByM64F4Iy25sqAsdRza3JPQHnsIzq3kx7sN+5z0xdtY/eWztUTWqYGzi2eAu0jOi8HfhFoSBcXjnscZgG4DDjS6GgpnyRamH1Fp625YMn3PQp4O/BU0oWGK70/8w5gO+mjEG9oay4fd86aPYanICuNzrK/80DSEymeT9oa2gIcuuzbfkzaNfsBcDnQtDVfnuDUNWMMTyEOJDp7WcY64FjgmmVfegrwxbbmJ+POU2UwPAWYRHSWLe8eL5q2zvqZLw2QB5dn3KSjI02C4ZlhRkd9ZXhmlNFRnxmeGWR01HeGZ8YYHQ2B4ZkhRkdDYXhmhNHRkBieGWB0NDSGZ+CMjobI8AyY0dFQGZ6BMjoaMsMzQEZHQ2d4BqZqeCtwCUZHA+atTweki87r9/Ilo6NBcYtnIKqGt2B0NCMMzwBUDacCf7qXL11odDREhqfnuuhczJ67xRe2NS/NMCVpbIanx5ZEZ+mB5BFwgdHRkHlwuaf2EZ2XtzV/nWdW0mS4xdNDRkezzvD0jNFRCQxPjxgdlcLw9ITRUUkMTw8YHZXG8GRmdFQiw5OR0VGpDE8mRkclMzwZGB2VzvAEMzqS4QlldKTE8AQxOtJuc6PRKPcceqlqWAUcBTwGOA64D7AamAe+DlwL3NDWbF3BsgYfnaphNbAZeCzwoWVf/j3S+vhyW7Mtem45VA1rgIeTXh+PAA4F5oA7ga8C15HWx/Zsk+wxw7NE1TAHPB74Y+AUYCewCziE9KJatADsADYANwDnAJe0NXftZZmDjU63Pp4EvAZ4BrCdNPdNy751cX2sB64nrY9L25odcbOdvm59PBV4LfAbcPfPeyP3fH3Mk14764HPA+8CLm9rdsbNtt8MT6dqOBlogJ8nvWD2Zzf0DlKg3g28c/G33MCjcxpwLvCz7PnGujd3kEL0duA9Q3/DdcF5PvBO0pbvgayPbcDZwHltza4JT3Fwig9P1XA4cB7wTNIWzDjmgW8DzwUeygCjUzXcD7gAOJH0BhvHPHAr8Ny25mvjzi2HquEBpF3LJzCZ9XETcEZbc+u4cxuyosNTNRwPfJq0K7V2QosdkXZJVnf/Lf3zvkfnBOByYB2TWx+7SL/tf7+tuXBCywxRNZxIepTQOvZ8nNCB2klaHy9pay6e0DIHp9izWt2b7GrgvkzuTQZpE/xghhedE0kRPozJro9VpF3Xv6waXjXB5U5V1XAKcCnpeNakogPpdbEBuLBqyr19bZFbPFXDI4F/J23pTNsQovN44CrG39W8NwvAK/u+5VM1PAX4FNNfH1uAF7U1H5vyOL1T3BZP1bAeuIzx99dXajvwxaCx9lvVsIm0Pqb9JqMb4/1Vw8MDxjogVcPPAB8nZn2sJ235PCRgrF4pLjzAO0i7V/tzVmIcBwEXVw0HB423v/6CmC2/RWuBj3bXBfXR+cREZ9Fa4MPdmbNiFBWequGxwO8S+8KaAx4AvCFwzBWpGp4MnEH6zRtlFXAEUAeOuSLdJRUnMdljXPdmDekC1ZcHjpldUeEBziKdoYi2AXh1t5vXJ28mNsKLNgKv767+7ZO3kW99nN1dLV+EYv6hVcPPAU8jbhdrb56Tcex7qBqOAB6XcQprSNdO9ULVcCzwsIxTOJR07VQRigkPaRcr5ym8Q4A/yTj+cq8k789/E/1aH69isqfN99dG0kdTilBSeE4jz27WUkdVDYdmnsOiZ0H2A97HV03o8ZR9OZm8T9adA369lN2tIv6R3Q/z6NzzIF3H8ujck+je7A/OPQ/SdSyPyD2JquEw4H6550G6qvnI3JOIUER4SLe36MMnpdeRbqOQ2yNIb/rc1tCP9fFo0i+F3HbRj/UxdX07qzAtR9KP8KwlnTrN7SjyHmRftAH4QNXwgdwT6YlDSD+bmVfKFs86+vFGg7grpvelT+tDu83Rj9fH1JUSnhF5z2gt1Yd7sfRlXWhPg7530UqVEp753BNY4se5J0BaH30IoO5pB+nWqTOvlGM8XyX/qWNIBzCvzz0J4Cv045fOHaT79FyUcxJVw+OAz0D2Sx3mST+bmdeHF1+Eb9OPg8s7SDcBz+3r5L1YbtEc6Sbxud1Ano9KLLeWfrw+pq6I8LQ1I9KLK7f1wI25J9HdA/nruedBil/2eXRPCrkt9zxIN4//Tu5JRCgiPJ2/I//+8+dW8jicIBeR99qVXcAVPbrx+Ych689mB/DJ7pfkzCspPH9P3n/vHaTHvvTFBeRdHwukx770xXmZx78L+PPMcwhTTHjamjtJv+VzPWBtAbgi09h7aGt+CHySfKdvbwc+l2nsPbQ13wE+S75LDb7R1vxXprHDFROeztthz4fuBZgHzuzRbsWis8izPhaA1/Rwt+LPyLO7tUB6iGQxigpPW/Mt0lMgI6/r2Q5cQzrG1CttzX+TbgYWuT62AZ9pay4JHHNFui2O9xB77Gsr8E9tzWcCx8yuqPB0/op0Zilql2sb8MIe/nZf9C7SQ/eiLjfYSr9v8/km4k5CjLqx/iBovN4oLjxdAE4Fvs/0j28sAM9ua7475XEOWHdq/WTg/5j+1czzwMltzQ+mPM44fhu4f9BY88DT25qfBI3XG8WFB6CtuR04Afge09vyWSA9qvbKKS1/YtqabwNPBH7I9LZ85oFntTX/MaXlj61qeBnwwYChRqSznM9o6/4++miaigwPQFtzG+neJ19issc4tpK2Hk5ua/55gsudqrbmFuB40rO9J7k+tpDOYJ3Y1lw1weVO1E+JznbSBX2TXh/fBX6tzxGetmLDA9DWfB94PPA60hbKuLteC8AngF9qa64ec1nhui2fRwNvJb1BJrE+/gE4sq35wpjLmpp9ROe3gIcC55LWxzi7oqNuGRcAm9uaL42xrMEr8hHGe9M9deFs0pMgdrLy+6LcRXpBXg+cPStnJ6qGh5EOtJ5K+vet9LNMi+vjC8BZfQ/wvqLT1ly65PuOJa2Pk0gRWemjirZ13/+vpPXx+bEnPQMMzzJVw32AF3f/HU2K0E52bx0u3ttnPenzPZ8C3tvW3Bw+2QBVw32BlwEvID3+ZTspLHtbH98kPQ75fW3N/4RPdj+tNDrL/s79gQp4HrCZ3aFduj4g3WztVuAS4P3drr06hmcfupvEH0m6R/FGYDXpGM43gBt79LmrEN362AwcQ1ofq0i7DzcDX27rLBcjHpADic5elrEaeDjpF9QG0vpYIH3w9Sttne0q+d4zPCrOJKKj8RR9cFnlMTr9YHhUDKPTH4ZHRTA6/WJ4NPOMTv8YHs00o9NPhkczy+j0l+HRTDI6/WZ4NHOMTv8ZHs0UozMMhkczw+gMh+HRTDA6w2J4NHhGZ3jW5J6ANI6q4W+Alyz7Y6PTc27xaLCMznAZHg1S1XABe0ZnF0ZnEAyPBqc7pvM7e/nSO4zOMBgeDco+HkHztrbmDdHz0YHx4LIG46dEZwdpS+eNGaakA2R4NAieMp8t7mqp94zO7DE86jWjM5sMj3rL6Mwuw6NeMjqzzfCod4zO7DM86hWjUwbDo94wOuUwPOoFo1MWw6PsjE55DI+yMjplMjzKxuiUy/AoC6NTNj8kqhWpGtYBxwGPAY4HDgPmgHngRuA64Pq25icrWJbRKdzcaDTKPQf1VNWwGngGcCZwArCF9Mtqw7Jv3QZs7f78ZuAc4KNtzZa9LNPoyPBoT1XDHPAiUkDWA5v2cxF3dv9vgLe0NXd1yzU6AgyPlqkaHghcBPwKsHHMxS0A/ws8h7R7ZnQEGB4tUTX8JnAJsBY4aEKLHZHuErh8eUanYIZHAFQNpwAfYc/jN9NgdApneETV8GTgcmKisxM43eiUzet4Clc1HA58nJjoQArPN4PGUk8ZHp3H+AeR98dBwMVVM7FjSBogw1OwquFpwDNJB5OjzAEPJF0bpEIZnrK9ibhdrKU2Aq+tGg7OMLZ6wPAUqmrYDDwq4xRWAc/OOL4yMjzl+kPyflZvE+5uFcvwlOtkJneR4IE6rvvwqQpjeArUvdkflHsepA+dHpt7EopneMp0HOlzVLmtAR6bexKKZ3jKdATptHZuG4DNuSeheIanTOvpR3gg9uJF9YThKdPO3BNYok9zURDDU6Y7gV25J0G6ZcaPck9C8QxPmb4CrM49CVIAb8g9CcUzPGW6mX6EZxXpJvEqjOEpUFuzC/ha7nmQ4ndL7kkonuEp19+SHk2Tyy7gsi6CKozhKdeF5N3d2gKcm3F8ZWR4CtXW/Ai4mHyns78DXJNpbGVmeMp2NulhfNEWgFe3Nd7wu1CGp2Btza3A64g91rMVuLStuTxwTPWM4dF7gZtIj5yJMA+8Imgs9ZThKVx3VukU4Hamf7znTuDp3fElFczwiLbm+8ATSI8bnsaWzwi4gxSd66ewfA2M4REAbc1tpHvjXMtkj/ksALcBT2pr/nOCy9WAGR7drdvyeSLwGlJ8doyxuBHpWp3zgYe1tZ/J0m4+wlh7VTU8mHTG64Wkq4wPWeFf3dr9/9PAW9qaa6cwPQ2c4dE+VQ2HAC8gBeiRpBvEL177M0fasllDugr6JuATwPltzffCJ6vBMDxasaq5+ymgx5BuW7qKtDt1C3CLn7vSShkeSeE8uCwpnOGRFM7wSApneCSFMzySwhkeSeEMj6RwhkdSOMMjKZzhkRTO8EgKZ3gkhTM8ksIZHknhDI+kcIZHUjjDIymc4ZEUzvBICmd4JIUzPJLCGR5J4QyPpHCGR1I4wyMpnOGRFM7wSApneCSFMzySwhkeSeEMj6RwhkdSOMMjKZzhkRTO8EgKZ3gkhTM8ksIZHknhDI+kcIZHUjjDIymc4ZEUzvBICmd4JIUzPJLCGR5J4QyPpHCGR1I4wyMpnOGRFM7wSApneCSFMzySwhkeSeEMj6RwhkdSuP8H4ejhn5CawyYAAAAASUVORK5CYII=\n",
          "text/plain": "<Figure size 360x360 with 1 Axes>"
         },
         "metadata": {},
         "output_type": "display_data"
        }
       ]
      }
     },
     "7069bdd7eca44f1aab1b80df85307161": {
      "model_module": "@jupyter-widgets/base",
      "model_module_version": "1.2.0",
      "model_name": "LayoutModel",
      "state": {
       "margin": "0px 0px 0px 0px"
      }
     },
     "70d7ec53325d41b694cd77f0a9120cbf": {
      "model_module": "@jupyter-widgets/base",
      "model_module_version": "1.2.0",
      "model_name": "LayoutModel",
      "state": {
       "justify_content": "center",
       "max_width": "250px",
       "min_width": "250px"
      }
     },
     "7184b8215b9743c7ba70dd5ccabc9047": {
      "model_module": "@jupyter-widgets/controls",
      "model_module_version": "1.5.0",
      "model_name": "HTMLModel",
      "state": {
       "layout": "IPY_MODEL_9c8e3e704ff64fb7b861a0a9a5b5ee24",
       "style": "IPY_MODEL_f44091e80be64cd0b001e7599523ab82",
       "value": "<h5 style='color:#dc267f'>False</h5>"
      }
     },
     "7204cea15ae443f4a466f1fced39de4e": {
      "model_module": "@jupyter-widgets/base",
      "model_module_version": "1.2.0",
      "model_name": "LayoutModel",
      "state": {
       "justify_content": "center"
      }
     },
     "72b8dcb173234ab28acbec2a9cb519b5": {
      "model_module": "@jupyter-widgets/controls",
      "model_module_version": "1.5.0",
      "model_name": "HTMLModel",
      "state": {
       "layout": "IPY_MODEL_289b8e76f7944d079a88ea2b583523f8",
       "style": "IPY_MODEL_c7393e29289849f488ba0484ab2a336a",
       "value": "<h5>Status</h5>"
      }
     },
     "73c075a9f5564bc8a49e6fd61d36f513": {
      "model_module": "@jupyter-widgets/controls",
      "model_module_version": "1.5.0",
      "model_name": "HBoxModel",
      "state": {
       "children": [
        "IPY_MODEL_8859f3bc76fa4745884449102dd36ab0",
        "IPY_MODEL_034a06c71a9d4f13b0c100b5f26fd3ae",
        "IPY_MODEL_39fd8c18a96a4e8a9678c080b777b9f8"
       ],
       "layout": "IPY_MODEL_18fc501bc22441ccbf9d28f11630ff40"
      }
     },
     "74dd1eaec4bf4ce8a8cffd1fd28180da": {
      "model_module": "@jupyter-widgets/controls",
      "model_module_version": "1.5.0",
      "model_name": "HTMLModel",
      "state": {
       "layout": "IPY_MODEL_8d71a9d2c13d4afebc6ba05fd81511fa",
       "style": "IPY_MODEL_f6368359a9f448c48aeac83d12a11d2b",
       "value": "<h5>Queue</h5>"
      }
     },
     "74f3941572f14ae9909c24a9214e509e": {
      "model_module": "@jupyter-widgets/controls",
      "model_module_version": "1.5.0",
      "model_name": "VBoxModel",
      "state": {
       "children": [
        "IPY_MODEL_1de27d905b974748bf5fffb9cfd6563f",
        "IPY_MODEL_f35ac4f4bef5405da253bdbbffc42116"
       ],
       "layout": "IPY_MODEL_e349ff0d059548999e1971dde4fe9e0f"
      }
     },
     "7670f5d3d4734562922c20a894050a00": {
      "model_module": "@jupyter-widgets/base",
      "model_module_version": "1.2.0",
      "model_name": "LayoutModel",
      "state": {
       "margin": "0px 0px 0px 0px"
      }
     },
     "791ee49dcfec4809b3263fd1a118e603": {
      "model_module": "@jupyter-widgets/controls",
      "model_module_version": "1.5.0",
      "model_name": "IntProgressModel",
      "state": {
       "layout": "IPY_MODEL_ceea5ed1189c4c5ba11ab77aa57ec2fb",
       "max": 63,
       "style": "IPY_MODEL_2d23f1a6ade04ffba9a0028a5308b838",
       "value": 53
      }
     },
     "793184ed5c3b47e3bd85aeaa0a241d89": {
      "model_module": "@jupyter-widgets/controls",
      "model_module_version": "1.5.0",
      "model_name": "DescriptionStyleModel",
      "state": {
       "description_width": ""
      }
     },
     "7a783290a328416aa17bcc12b4606ef3": {
      "model_module": "@jupyter-widgets/base",
      "model_module_version": "1.2.0",
      "model_name": "LayoutModel",
      "state": {
       "grid_area": "right"
      }
     },
     "7ad7dfc16263428fa917bf2deff54334": {
      "model_module": "@jupyter-widgets/controls",
      "model_module_version": "1.5.0",
      "model_name": "HTMLModel",
      "state": {
       "layout": "IPY_MODEL_3de17939e2374c87ab81cc33afeebb46",
       "style": "IPY_MODEL_29e66180c54b4bfea58986a4a3c9d767",
       "value": "<h5>0.0358</h5>"
      }
     },
     "7b42c96bf06342fb9990a5cfa7d4223e": {
      "model_module": "@jupyter-widgets/controls",
      "model_module_version": "1.5.0",
      "model_name": "HTMLModel",
      "state": {
       "layout": "IPY_MODEL_20f54c8160dc4e2580d59579e06503c4",
       "style": "IPY_MODEL_bb18ff82f40a43d3bdc69ef4b3076552",
       "value": "ibmq_quito"
      }
     },
     "7b9b23616485422abf872cb74b35ee5f": {
      "model_module": "@jupyter-widgets/base",
      "model_module_version": "1.2.0",
      "model_name": "LayoutModel",
      "state": {}
     },
     "7c3acec5c8904476aec724a5c6beedbc": {
      "model_module": "@jupyter-widgets/controls",
      "model_module_version": "1.5.0",
      "model_name": "TabModel",
      "state": {
       "_titles": {
        "0": "Configuration",
        "1": "Qubit Properties",
        "2": "Multi-Qubit Gates",
        "3": "Error Map",
        "4": "Job History"
       },
       "children": [
        "IPY_MODEL_4325ca20de344296b5b21c1c31ce623c",
        "IPY_MODEL_74f3941572f14ae9909c24a9214e509e",
        "IPY_MODEL_592e1e8243c6404ebff4b7113957a92e",
        "IPY_MODEL_608f3c0b12924f1dac9dcb34f1b9af6b",
        "IPY_MODEL_5c55c35d964d4ddd87cda64632a33d13"
       ],
       "layout": "IPY_MODEL_c39d80e986bd473e975358b1c0a6db46"
      }
     },
     "7c8f101b19f447b8b07f4366562dff57": {
      "model_module": "@jupyter-widgets/controls",
      "model_module_version": "1.5.0",
      "model_name": "HTMLModel",
      "state": {
       "layout": "IPY_MODEL_60ef4e510af741a28ccb45c1ae284b60",
       "style": "IPY_MODEL_7cb90e3c259e42a0a0eab4cacabbbcc3",
       "value": "<h5>98.7 / 141.6 us</h5>"
      }
     },
     "7cb90e3c259e42a0a0eab4cacabbbcc3": {
      "model_module": "@jupyter-widgets/controls",
      "model_module_version": "1.5.0",
      "model_name": "DescriptionStyleModel",
      "state": {
       "description_width": ""
      }
     },
     "7e0438c7c9c44c2481f547b6a18f1891": {
      "model_module": "@jupyter-widgets/base",
      "model_module_version": "1.2.0",
      "model_name": "LayoutModel",
      "state": {}
     },
     "7e8778950fef490099cbe0edb4d3ff61": {
      "model_module": "@jupyter-widgets/controls",
      "model_module_version": "1.5.0",
      "model_name": "VBoxModel",
      "state": {
       "children": [
        "IPY_MODEL_bebdd4784d1e4204b8083813fb98ddb6",
        "IPY_MODEL_6fe74b80a95a40d3ae038aeb13c9f067",
        "IPY_MODEL_9c2d680a85d142ce835d7580caafdd08",
        "IPY_MODEL_034295e27cd349ec92b828480f4d2cf6",
        "IPY_MODEL_012ceebf55a64592b72b2595030106cf",
        "IPY_MODEL_e39d69b4eeec4c6a822ce0b4cfa27c4a",
        "IPY_MODEL_81802653a7d74a608116b64078da1164",
        "IPY_MODEL_7c8f101b19f447b8b07f4366562dff57",
        "IPY_MODEL_2a75551155a94e3686e89b75d2aac689",
        "IPY_MODEL_c0090a343e6b438ca4c27bc0ed6b35c3"
       ],
       "layout": "IPY_MODEL_ee94bfdaa6ca4595bb7cb5a5215c1ae7"
      }
     },
     "7f9cf6695d1b47e49f48f7b5586f9335": {
      "model_module": "@jupyter-widgets/base",
      "model_module_version": "1.2.0",
      "model_name": "LayoutModel",
      "state": {
       "margin": "0px 0px 0px 0px"
      }
     },
     "80319388deb24fb1860e382023d334c2": {
      "model_module": "@jupyter-widgets/controls",
      "model_module_version": "1.5.0",
      "model_name": "DescriptionStyleModel",
      "state": {
       "description_width": ""
      }
     },
     "81802653a7d74a608116b64078da1164": {
      "model_module": "@jupyter-widgets/controls",
      "model_module_version": "1.5.0",
      "model_name": "HTMLModel",
      "state": {
       "layout": "IPY_MODEL_20d6d206ddee4fcd859def1eb010661f",
       "style": "IPY_MODEL_b7eb8885e89d4caeb5252fe3b95cb05d",
       "value": "<h5 style='color:#dc267f'>False</h5>"
      }
     },
     "81e7c3da83464132865b49df960531fe": {
      "model_module": "@jupyter-widgets/base",
      "model_module_version": "1.2.0",
      "model_name": "LayoutModel",
      "state": {
       "justify_content": "center"
      }
     },
     "820d0657513f4d949f048be91c2a2370": {
      "model_module": "@jupyter-widgets/controls",
      "model_module_version": "1.5.0",
      "model_name": "HTMLModel",
      "state": {
       "layout": "IPY_MODEL_4977fdd57ddb4153bee97b96ed6db1d4",
       "style": "IPY_MODEL_37f92f2fbe9d488692d0a9bc6fb8f1ff",
       "value": "<h5>173.3 / 61.0 us</h5>"
      }
     },
     "8280e046b9b34f47bd04fa25376a3ada": {
      "model_module": "@jupyter-widgets/controls",
      "model_module_version": "1.5.0",
      "model_name": "HTMLModel",
      "state": {
       "layout": "IPY_MODEL_a01eaff09f034a91a0b38f575c258d69",
       "style": "IPY_MODEL_becec3d6c6cf4955b959df2d9b2915cc",
       "value": "<h4>ibmq_santiago</h4>"
      }
     },
     "82ea46128d6042b5940d910588801c07": {
      "model_module": "@jupyter-widgets/controls",
      "model_module_version": "1.5.0",
      "model_name": "HTMLModel",
      "state": {
       "layout": "IPY_MODEL_98d3fb9abd2346778449fc40d8feab7e",
       "style": "IPY_MODEL_412dc15401074393839626878045cb74",
       "value": "<h5 style='color:#dc267f'>False</h5>"
      }
     },
     "833506ea71f347d88cf5fec75e623366": {
      "model_module": "@jupyter-widgets/controls",
      "model_module_version": "1.5.0",
      "model_name": "ProgressStyleModel",
      "state": {
       "bar_color": "#71cddd",
       "description_width": ""
      }
     },
     "84589d1fd94f4d2d98723340e376a777": {
      "model_module": "@jupyter-widgets/controls",
      "model_module_version": "1.5.0",
      "model_name": "HTMLModel",
      "state": {
       "layout": "IPY_MODEL_22767ffce18c481b82ae829419846ebc",
       "style": "IPY_MODEL_385ed0e2452a4661b06c1bfc01ab7412",
       "value": "<h5>82.6 / 90.7 us</h5>"
      }
     },
     "8467fcbeb9754a34a9eca53dcd76c912": {
      "model_module": "@jupyter-widgets/base",
      "model_module_version": "1.2.0",
      "model_name": "LayoutModel",
      "state": {
       "justify_content": "center"
      }
     },
     "846c67aadafb4cc89c8c281c9bc80a75": {
      "model_module": "@jupyter-widgets/controls",
      "model_module_version": "1.5.0",
      "model_name": "DescriptionStyleModel",
      "state": {
       "description_width": ""
      }
     },
     "84fcacdaa0504c07a9b68ba9d1da905a": {
      "model_module": "@jupyter-widgets/controls",
      "model_module_version": "1.5.0",
      "model_name": "HBoxModel",
      "state": {
       "children": [
        "IPY_MODEL_17744a405596464b899843680c5d6c19",
        "IPY_MODEL_f72ccc7d81c74055b18362fee63817be",
        "IPY_MODEL_29082b12d75d4e2ba7986bc6e3a10322"
       ],
       "layout": "IPY_MODEL_18314f4452694241bb2f1daf545b33f3"
      }
     },
     "850f3aab1e064ebd918ff792bbac3c2b": {
      "model_module": "@jupyter-widgets/controls",
      "model_module_version": "1.5.0",
      "model_name": "DescriptionStyleModel",
      "state": {
       "description_width": ""
      }
     },
     "8585ff3681964b798df6b01454c24247": {
      "model_module": "@jupyter-widgets/base",
      "model_module_version": "1.2.0",
      "model_name": "LayoutModel",
      "state": {
       "justify_content": "center",
       "max_width": "250px",
       "min_width": "250px"
      }
     },
     "8641003964cf492ea39b07ae5211662a": {
      "model_module": "@jupyter-widgets/controls",
      "model_module_version": "1.5.0",
      "model_name": "HTMLModel",
      "state": {
       "layout": "IPY_MODEL_b85afc74f6684e2b9b0f775b39d69f50",
       "style": "IPY_MODEL_b06ab35638fa430c9a3920a0dc86926f",
       "value": "job is queued"
      }
     },
     "86458fdc61384e808883a85d8740b5be": {
      "model_module": "@jupyter-widgets/base",
      "model_module_version": "1.2.0",
      "model_name": "LayoutModel",
      "state": {
       "min_width": "auto"
      }
     },
     "8735ddcb89b84da0a7f80ff9f3a84fb1": {
      "model_module": "@jupyter-widgets/controls",
      "model_module_version": "1.5.0",
      "model_name": "DescriptionStyleModel",
      "state": {
       "description_width": ""
      }
     },
     "87d6b8bc66dc499db8a937c047f44b00": {
      "model_module": "@jupyter-widgets/base",
      "model_module_version": "1.2.0",
      "model_name": "LayoutModel",
      "state": {
       "min_width": "auto"
      }
     },
     "87f01043387e4a1a8853dee96cbb4bde": {
      "model_module": "@jupyter-widgets/controls",
      "model_module_version": "1.5.0",
      "model_name": "HTMLModel",
      "state": {
       "layout": "IPY_MODEL_9432a7a4e16d4ea2a26948e267a07d22",
       "style": "IPY_MODEL_218d1258ac7e4af3b5e3b8617cee958b",
       "value": "<h5 style='color:#34bc6e'>True</h5>"
      }
     },
     "880555ef9c1d48e18c9b2b39fdfefb60": {
      "model_module": "@jupyter-widgets/controls",
      "model_module_version": "1.5.0",
      "model_name": "LabelModel",
      "state": {
       "layout": "IPY_MODEL_ed01806d139342c9a3a1baf2d054f887",
       "style": "IPY_MODEL_e668069ddef249cd86e2c0e93368bbed",
       "value": "63"
      }
     },
     "88395045e2cd4614911b8a2db65be8fb": {
      "model_module": "@jupyter-widgets/base",
      "model_module_version": "1.2.0",
      "model_name": "LayoutModel",
      "state": {
       "justify_content": "center"
      }
     },
     "8859f3bc76fa4745884449102dd36ab0": {
      "model_module": "@jupyter-widgets/controls",
      "model_module_version": "1.5.0",
      "model_name": "LabelModel",
      "state": {
       "layout": "IPY_MODEL_b43bc66efd1744c49a91028a70ac4359",
       "style": "IPY_MODEL_08d8d3ff05c940a6b85c7b2f21e095a9",
       "value": "4"
      }
     },
     "890d61b251f543e4ad9ec1926e124b05": {
      "model_module": "@jupyter-widgets/controls",
      "model_module_version": "1.5.0",
      "model_name": "HBoxModel",
      "state": {
       "children": [
        "IPY_MODEL_1d8202666590464f846a9eb21d8716b6",
        "IPY_MODEL_6965205812f94c028b3b87ac410a5070",
        "IPY_MODEL_7b42c96bf06342fb9990a5cfa7d4223e",
        "IPY_MODEL_049d687b67c54a4385f868fffbb0095f",
        "IPY_MODEL_fbbe93e3ac824ec1a39c227bc6b1537c",
        "IPY_MODEL_8641003964cf492ea39b07ae5211662a"
       ],
       "layout": "IPY_MODEL_ea277eef82c04dcc977901b90e919f45"
      }
     },
     "894f0e0c0b6f49c68f63e1f4f7f07113": {
      "model_module": "@jupyter-widgets/base",
      "model_module_version": "1.2.0",
      "model_name": "LayoutModel",
      "state": {
       "align_items": "center",
       "justify_content": "center",
       "margin": "0px 0px 0px 0px",
       "max_height": "250px",
       "max_width": "250px",
       "min_height": "250px",
       "min_width": "250px"
      }
     },
     "8acaa8e932ca434cb50fadb43e353ed5": {
      "model_module": "@jupyter-widgets/controls",
      "model_module_version": "1.5.0",
      "model_name": "LabelModel",
      "state": {
       "layout": "IPY_MODEL_bdbf774cd04b4853bc8eb15ee89d375b",
       "style": "IPY_MODEL_bb003509ecb84f39897a5397f78c81b4",
       "value": "Least Busy"
      }
     },
     "8aec43dfda664c90b09bfe6af7063624": {
      "model_module": "@jupyter-widgets/controls",
      "model_module_version": "1.5.0",
      "model_name": "DescriptionStyleModel",
      "state": {
       "description_width": ""
      }
     },
     "8af47b6d1836404199dc5f722d1d3bdf": {
      "model_module": "@jupyter-widgets/controls",
      "model_module_version": "1.5.0",
      "model_name": "HTMLModel",
      "state": {
       "layout": "IPY_MODEL_50f5d120bfdb419fb10c3ef582cf0fdf",
       "style": "IPY_MODEL_ed8e3f581ab641c5b7e318805d496591",
       "value": "<h5>Backend</h5>"
      }
     },
     "8af74638eaa34a86817ac03f9fb1811f": {
      "model_module": "@jupyter-widgets/base",
      "model_module_version": "1.2.0",
      "model_name": "LayoutModel",
      "state": {
       "grid_area": "right",
       "padding": "0px 0px 0px 0px",
       "width": "70px"
      }
     },
     "8b2231f997ce4174aac64b050ab90767": {
      "model_module": "@jupyter-widgets/base",
      "model_module_version": "1.2.0",
      "model_name": "LayoutModel",
      "state": {}
     },
     "8b43445aad1f423daf81531b1d7db3f8": {
      "model_module": "@jupyter-widgets/controls",
      "model_module_version": "1.5.0",
      "model_name": "DescriptionStyleModel",
      "state": {
       "description_width": ""
      }
     },
     "8b5353563c5e44bb96d66fdfab22711c": {
      "model_module": "@jupyter-widgets/base",
      "model_module_version": "1.2.0",
      "model_name": "LayoutModel",
      "state": {
       "align_items": "center",
       "display": "flex-inline"
      }
     },
     "8b64792b6fdd416ea1b1611ec9ca83e9": {
      "model_module": "@jupyter-widgets/base",
      "model_module_version": "1.2.0",
      "model_name": "LayoutModel",
      "state": {}
     },
     "8c8fadb6ad2a45c685ee2a678d0e5065": {
      "model_module": "@jupyter-widgets/base",
      "model_module_version": "1.2.0",
      "model_name": "LayoutModel",
      "state": {
       "width": "70px"
      }
     },
     "8d71a9d2c13d4afebc6ba05fd81511fa": {
      "model_module": "@jupyter-widgets/base",
      "model_module_version": "1.2.0",
      "model_name": "LayoutModel",
      "state": {
       "width": "70px"
      }
     },
     "8d9cafb4324640efbc6bfcafc0e5be6a": {
      "model_module": "@jupyter-widgets/controls",
      "model_module_version": "1.5.0",
      "model_name": "DescriptionStyleModel",
      "state": {
       "description_width": ""
      }
     },
     "8e334f2442be4803aac9397a43abe22f": {
      "model_module": "@jupyter-widgets/controls",
      "model_module_version": "1.5.0",
      "model_name": "GridBoxModel",
      "state": {
       "children": [
        "IPY_MODEL_9c93fb415acb41a6bd5f4795c4d45eb2"
       ],
       "layout": "IPY_MODEL_b2eb7c5ead3f45d6a77f67e03d1d068d"
      }
     },
     "8eec6811a4c6444585c14ca788795801": {
      "model_module": "@jupyter-widgets/base",
      "model_module_version": "1.2.0",
      "model_name": "LayoutModel",
      "state": {
       "margin": "0px 0px 0px 0px"
      }
     },
     "8f5cd6410881400896438585fe2b17ad": {
      "model_module": "@jupyter-widgets/controls",
      "model_module_version": "1.5.0",
      "model_name": "DescriptionStyleModel",
      "state": {
       "description_width": ""
      }
     },
     "8faedd5a5f6742aba8c66958af35daac": {
      "model_module": "@jupyter-widgets/base",
      "model_module_version": "1.2.0",
      "model_name": "LayoutModel",
      "state": {
       "align_items": "center",
       "display": "inline-flex",
       "flex_flow": "column"
      }
     },
     "8fcf281ca32c4e6994a7c41d679f9f94": {
      "model_module": "@jupyter-widgets/controls",
      "model_module_version": "1.5.0",
      "model_name": "HTMLModel",
      "state": {
       "layout": "IPY_MODEL_f2cfb5fa77dd4dd1b1f39e5ff57c8185",
       "style": "IPY_MODEL_ded9f1e9a1584c75873c14e97646e2ec",
       "value": "<h5>118.5 / 116.2 us</h5>"
      }
     },
     "90783870be4040e9a184656b1a4102d2": {
      "model_module": "@jupyter-widgets/controls",
      "model_module_version": "1.5.0",
      "model_name": "DescriptionStyleModel",
      "state": {
       "description_width": ""
      }
     },
     "9299d3d94d1b464ca04ab86d7e2408ce": {
      "model_module": "@jupyter-widgets/base",
      "model_module_version": "1.2.0",
      "model_name": "LayoutModel",
      "state": {
       "align_items": "center",
       "justify_content": "center",
       "margin": "0px 0px 0px 0px",
       "max_height": "250px",
       "max_width": "250px",
       "min_height": "250px",
       "min_width": "250px"
      }
     },
     "92e1f6ce44214efcb1a1620cd969ec03": {
      "model_module": "@jupyter-widgets/controls",
      "model_module_version": "1.5.0",
      "model_name": "DescriptionStyleModel",
      "state": {
       "description_width": ""
      }
     },
     "940938d7b4f1438fab52f4826e7d649a": {
      "model_module": "@jupyter-widgets/controls",
      "model_module_version": "1.5.0",
      "model_name": "TabModel",
      "state": {
       "_titles": {
        "0": "Configuration",
        "1": "Qubit Properties",
        "2": "Multi-Qubit Gates",
        "3": "Error Map",
        "4": "Job History"
       },
       "children": [
        "IPY_MODEL_235bc27598a44cbfa13949f37433a647",
        "IPY_MODEL_60d41d762ca54b8faba8678a7edc22a5",
        "IPY_MODEL_e0b1f6a94f424b1b80086e1fffe5faa7",
        "IPY_MODEL_688165835fa045cbb6cb61ff2e1d37c1",
        "IPY_MODEL_19908694f75d420c97f398d4c04d4281"
       ],
       "layout": "IPY_MODEL_9d216fcfcd35435c8b0b984334c7ad17"
      }
     },
     "9432a7a4e16d4ea2a26948e267a07d22": {
      "model_module": "@jupyter-widgets/base",
      "model_module_version": "1.2.0",
      "model_name": "LayoutModel",
      "state": {
       "justify_content": "center"
      }
     },
     "94ff89200eb14270af37325285488b15": {
      "model_module": "@jupyter-widgets/controls",
      "model_module_version": "1.5.0",
      "model_name": "DescriptionStyleModel",
      "state": {
       "description_width": ""
      }
     },
     "954f3570721f4113b07902c6e3d30986": {
      "model_module": "@jupyter-widgets/controls",
      "model_module_version": "1.5.0",
      "model_name": "HTMLModel",
      "state": {
       "layout": "IPY_MODEL_88395045e2cd4614911b8a2db65be8fb",
       "style": "IPY_MODEL_9f5715dfc34749918aa51e7ab37d4425",
       "value": "<h5>32</h5>"
      }
     },
     "956383b93fe3437a97486649198541ed": {
      "model_module": "@jupyter-widgets/controls",
      "model_module_version": "1.5.0",
      "model_name": "HTMLModel",
      "state": {
       "layout": "IPY_MODEL_2dd5bb4165f14cca91721eeec64337aa",
       "style": "IPY_MODEL_b4404b2a9182487cab6a1e5ec510c601",
       "value": "<div><font style='font-weight:bold'>last_update_date</font>: Tue 18 January 2022 at 05:47 UTC</div>"
      }
     },
     "95f4e8901276473e9e93ca90fd614de0": {
      "model_module": "@jupyter-widgets/controls",
      "model_module_version": "1.5.0",
      "model_name": "DescriptionStyleModel",
      "state": {
       "description_width": ""
      }
     },
     "96072113f8c84504a27f090e2478b863": {
      "model_module": "@jupyter-widgets/base",
      "model_module_version": "1.2.0",
      "model_name": "LayoutModel",
      "state": {
       "overflow_y": "scroll"
      }
     },
     "9731da48ff7b447c8f3f80a893ade608": {
      "model_module": "@jupyter-widgets/base",
      "model_module_version": "1.2.0",
      "model_name": "LayoutModel",
      "state": {
       "max_width": "180px"
      }
     },
     "975f1c31cb55481e91f80e22db1aea52": {
      "model_module": "@jupyter-widgets/controls",
      "model_module_version": "1.5.0",
      "model_name": "HTMLModel",
      "state": {
       "layout": "IPY_MODEL_7a783290a328416aa17bcc12b4606ef3",
       "style": "IPY_MODEL_149ee55b971f4d65937d8106694de65e",
       "value": "<table><style>\ntable {\n    border-collapse: collapse;\n    width: auto;\n}\n\nth, td {\n    text-align: left;\n    padding: 8px;\n}\n\ntr:nth-child(even) {background-color: #f6f6f6;};\n</style><tr><th></th><th>Type</th><th>Gate error</th></tr><tr><td><font style='font-weight:bold'>cx2_1</font></td><td>cx</td><td>1</td></tr><tr><td><font style='font-weight:bold'>cx1_2</font></td><td>cx</td><td>1</td></tr></table>"
      }
     },
     "9842a14116ef4c3fab64684630894967": {
      "model_module": "@jupyter-widgets/base",
      "model_module_version": "1.2.0",
      "model_name": "LayoutModel",
      "state": {
       "min_width": "auto"
      }
     },
     "98816c1ba1d944b7af5acdd37276f888": {
      "model_module": "@jupyter-widgets/controls",
      "model_module_version": "1.5.0",
      "model_name": "HBoxModel",
      "state": {
       "children": [
        "IPY_MODEL_2aeeaf365f62493e991540b8399dabd0",
        "IPY_MODEL_bbbca33e54ae46369b9a544dceac29aa",
        "IPY_MODEL_1e36132bfdca48d8b63d57613cb5850c"
       ],
       "layout": "IPY_MODEL_a254f9e4b6514c9cb9efa68ff3eddcc2"
      }
     },
     "98d3fb9abd2346778449fc40d8feab7e": {
      "model_module": "@jupyter-widgets/base",
      "model_module_version": "1.2.0",
      "model_name": "LayoutModel",
      "state": {
       "justify_content": "center"
      }
     },
     "9a9af264cf0640c180c2d95487f6fb8d": {
      "model_module": "@jupyter-widgets/controls",
      "model_module_version": "1.5.0",
      "model_name": "DescriptionStyleModel",
      "state": {
       "description_width": ""
      }
     },
     "9bb22aaea29149a7919780c84bee32b3": {
      "model_module": "@jupyter-widgets/base",
      "model_module_version": "1.2.0",
      "model_name": "LayoutModel",
      "state": {
       "border": "4px solid #000000",
       "max_height": "650px",
       "min_height": "650px",
       "overflow_y": "hidden"
      }
     },
     "9c2d680a85d142ce835d7580caafdd08": {
      "model_module": "@jupyter-widgets/controls",
      "model_module_version": "1.5.0",
      "model_name": "HTMLModel",
      "state": {
       "layout": "IPY_MODEL_3f83d30ce2e74ad5b8f2ca3305d855dc",
       "style": "IPY_MODEL_d687bcc895d34923a403744873c57b39",
       "value": "<h5><b>5</b></h5>"
      }
     },
     "9c8e3e704ff64fb7b861a0a9a5b5ee24": {
      "model_module": "@jupyter-widgets/base",
      "model_module_version": "1.2.0",
      "model_name": "LayoutModel",
      "state": {
       "justify_content": "center"
      }
     },
     "9c93fb415acb41a6bd5f4795c4d45eb2": {
      "model_module": "@jupyter-widgets/controls",
      "model_module_version": "1.5.0",
      "model_name": "ButtonModel",
      "state": {
       "button_style": "primary",
       "description": "Clear",
       "layout": "IPY_MODEL_8af74638eaa34a86817ac03f9fb1811f",
       "style": "IPY_MODEL_b2c07fdaf97f47068424955373202cd2"
      }
     },
     "9d216fcfcd35435c8b0b984334c7ad17": {
      "model_module": "@jupyter-widgets/base",
      "model_module_version": "1.2.0",
      "model_name": "LayoutModel",
      "state": {
       "overflow_y": "scroll"
      }
     },
     "9f5715dfc34749918aa51e7ab37d4425": {
      "model_module": "@jupyter-widgets/controls",
      "model_module_version": "1.5.0",
      "model_name": "DescriptionStyleModel",
      "state": {
       "description_width": ""
      }
     },
     "9f9c3e2341104a86b7a60d3edfcdf5df": {
      "model_module": "@jupyter-widgets/controls",
      "model_module_version": "1.5.0",
      "model_name": "DescriptionStyleModel",
      "state": {
       "description_width": ""
      }
     },
     "9fa59f234a964ed395c07735f0240792": {
      "model_module": "@jupyter-widgets/base",
      "model_module_version": "1.2.0",
      "model_name": "LayoutModel",
      "state": {
       "grid_gap": "0px 0px",
       "grid_template_areas": "\n                               \"left right right right\"\n                               \"bottom bottom bottom bottom\"\n                               ",
       "grid_template_columns": "31% 23% 23% 23%",
       "grid_template_rows": "auto auto"
      }
     },
     "a018872dda9b400783a7d9ea443912b5": {
      "model_module": "@jupyter-widgets/controls",
      "model_module_version": "1.5.0",
      "model_name": "HTMLModel",
      "state": {
       "layout": "IPY_MODEL_0e5530300bfe47409d8457ca5f5efabf",
       "style": "IPY_MODEL_b40b731988e14b4aa7edede14edb33a1",
       "value": "<div><font style='font-weight:bold'>last_update_date</font>: Tue 18 January 2022 at 06:19 UTC</div>"
      }
     },
     "a01eaff09f034a91a0b38f575c258d69": {
      "model_module": "@jupyter-widgets/base",
      "model_module_version": "1.2.0",
      "model_name": "LayoutModel",
      "state": {}
     },
     "a03ba90c564a4a799768d1e5cbbdfe83": {
      "model_module": "@jupyter-widgets/controls",
      "model_module_version": "1.5.0",
      "model_name": "VBoxModel",
      "state": {
       "children": [
        "IPY_MODEL_283bef067c734dfe8297526a8f979bd6",
        "IPY_MODEL_23e41ed241e54d3ebcf168080d6316ad",
        "IPY_MODEL_e469d3d087ae48d09bf415f02d33b51c",
        "IPY_MODEL_110a918b3bdf45bbbf24beed9fe9d083",
        "IPY_MODEL_dc3442b8fd1743fd9bd2556d76dd8f78",
        "IPY_MODEL_1a3472202215426792ff88b0caa911fd",
        "IPY_MODEL_4ef907fd2cd64e8e86b8266f9b5354cd",
        "IPY_MODEL_0ae54a179b12413da9f552da990fee49",
        "IPY_MODEL_becfb319ec164313855c6c715090b722",
        "IPY_MODEL_677b8d14ff5c4385829324478bfa860f"
       ],
       "layout": "IPY_MODEL_d2f4bd27cf5a4a6faf7a21c032804958"
      }
     },
     "a254f9e4b6514c9cb9efa68ff3eddcc2": {
      "model_module": "@jupyter-widgets/base",
      "model_module_version": "1.2.0",
      "model_name": "LayoutModel",
      "state": {
       "justify_content": "center",
       "max_width": "250px",
       "min_width": "250px"
      }
     },
     "a43168d621b649c18ddccb914921b5f1": {
      "model_module": "@jupyter-widgets/base",
      "model_module_version": "1.2.0",
      "model_name": "LayoutModel",
      "state": {
       "grid_gap": "0px 0px",
       "grid_template_areas": "\n                               \"left right right right\"\n                               \"bottom bottom bottom bottom\"\n                               ",
       "grid_template_columns": "31% 23% 23% 23%",
       "grid_template_rows": "auto auto"
      }
     },
     "a48d32ee79034e96964c866305f67160": {
      "model_module": "@jupyter-widgets/controls",
      "model_module_version": "1.5.0",
      "model_name": "DescriptionStyleModel",
      "state": {
       "description_width": ""
      }
     },
     "a4bd133a017c4802a3cf4352fbc53477": {
      "model_module": "@jupyter-widgets/controls",
      "model_module_version": "1.5.0",
      "model_name": "LabelModel",
      "state": {
       "layout": "IPY_MODEL_6979039ae8704a69a16830de01316050",
       "style": "IPY_MODEL_46535dee0b984448b6ba124b6e6e8a59",
       "value": "Quantum Vol."
      }
     },
     "a4f6feb599c6425b80e46b1e0041dd9d": {
      "model_module": "@jupyter-widgets/controls",
      "model_module_version": "1.5.0",
      "model_name": "DescriptionStyleModel",
      "state": {
       "description_width": ""
      }
     },
     "a5cb11d9e1474df5b838c866d717f199": {
      "model_module": "@jupyter-widgets/base",
      "model_module_version": "1.2.0",
      "model_name": "LayoutModel",
      "state": {
       "grid_gap": "0px 0px",
       "grid_template_areas": "\n                                                   \"top top top\"\n                                                   \"left middle right\"\n                                                   ",
       "grid_template_columns": "33% 33% 33%",
       "grid_template_rows": "auto auto"
      }
     },
     "a5e706ad1d444d089f0b70484f5f81b5": {
      "model_module": "@jupyter-widgets/controls",
      "model_module_version": "1.5.0",
      "model_name": "HTMLModel",
      "state": {
       "layout": "IPY_MODEL_8b64792b6fdd416ea1b1611ec9ca83e9",
       "style": "IPY_MODEL_9a9af264cf0640c180c2d95487f6fb8d",
       "value": "<h5>0.0083</h5>"
      }
     },
     "a60f5a93329b4c6daf00acfe4b63ca84": {
      "model_module": "@jupyter-widgets/controls",
      "model_module_version": "1.5.0",
      "model_name": "HTMLModel",
      "state": {
       "layout": "IPY_MODEL_c5f99404d5544c6692efd44f6ba52870",
       "style": "IPY_MODEL_353e0634794d4f53a884a59b1a5ead34",
       "value": "<h5>0.0091</h5>"
      }
     },
     "a76b706f295044afb8ea7225cca8967e": {
      "model_module": "@jupyter-widgets/controls",
      "model_module_version": "1.5.0",
      "model_name": "DescriptionStyleModel",
      "state": {
       "description_width": ""
      }
     },
     "a790cbe44d924cdb9535beeaf792c215": {
      "model_module": "@jupyter-widgets/controls",
      "model_module_version": "1.5.0",
      "model_name": "DescriptionStyleModel",
      "state": {
       "description_width": ""
      }
     },
     "a81f6d3ed6ed4793a1f55279d1bfb6a0": {
      "model_module": "@jupyter-widgets/controls",
      "model_module_version": "1.5.0",
      "model_name": "DescriptionStyleModel",
      "state": {
       "description_width": ""
      }
     },
     "a9b606e840e749cd95650fcdc245c9a2": {
      "model_module": "@jupyter-widgets/output",
      "model_module_version": "1.0.0",
      "model_name": "OutputModel",
      "state": {
       "layout": "IPY_MODEL_22fd89fd9eb240d8970e36c451c900a7",
       "outputs": [
        {
         "data": {
          "image/png": "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\n",
          "text/plain": "<Figure size 360x360 with 1 Axes>"
         },
         "metadata": {},
         "output_type": "display_data"
        }
       ]
      }
     },
     "aa727641f92848a597e510be81e4d5a7": {
      "model_module": "@jupyter-widgets/controls",
      "model_module_version": "1.5.0",
      "model_name": "HTMLModel",
      "state": {
       "layout": "IPY_MODEL_c8cfb3aaafbd497da538d5c091e65e32",
       "style": "IPY_MODEL_525c2d920dfe48e6b3c710f40fa79bb7",
       "value": "<h5><b>1</b></h5>"
      }
     },
     "aa99e9e58771416a83fbccc04636e95d": {
      "model_module": "@jupyter-widgets/base",
      "model_module_version": "1.2.0",
      "model_name": "LayoutModel",
      "state": {
       "align_items": "center",
       "display": "inline-flex",
       "flex_flow": "column"
      }
     },
     "aae66dda9edd461fad70b03948794ad4": {
      "model_module": "@jupyter-widgets/base",
      "model_module_version": "1.2.0",
      "model_name": "LayoutModel",
      "state": {}
     },
     "ab973f0f61ae49d99fa2f4bd539ac008": {
      "model_module": "@jupyter-widgets/controls",
      "model_module_version": "1.5.0",
      "model_name": "DescriptionStyleModel",
      "state": {
       "description_width": ""
      }
     },
     "abcc682d60cd4346bce0931204643ddb": {
      "model_module": "@jupyter-widgets/controls",
      "model_module_version": "1.5.0",
      "model_name": "DescriptionStyleModel",
      "state": {
       "description_width": ""
      }
     },
     "abe06ff14b0c429791918517a1cf05f3": {
      "model_module": "@jupyter-widgets/controls",
      "model_module_version": "1.5.0",
      "model_name": "HTMLModel",
      "state": {
       "layout": "IPY_MODEL_81e7c3da83464132865b49df960531fe",
       "style": "IPY_MODEL_793184ed5c3b47e3bd85aeaa0a241d89",
       "value": "<h5 style='color:#34bc6e'>True</h5>"
      }
     },
     "ac3e2674a0754d5699bc7e36c1d2850a": {
      "model_module": "@jupyter-widgets/base",
      "model_module_version": "1.2.0",
      "model_name": "LayoutModel",
      "state": {
       "justify_content": "center",
       "max_width": "250px",
       "min_width": "250px"
      }
     },
     "ac8f531caa1a4f9cb7b391d8c7d4d0c3": {
      "model_module": "@jupyter-widgets/controls",
      "model_module_version": "1.5.0",
      "model_name": "HTMLModel",
      "state": {
       "layout": "IPY_MODEL_bdcf2df10feb423e8895eeb3dc737ec4",
       "style": "IPY_MODEL_16b111f06bf6485b9499a104cc1c95b3",
       "value": "<h4>ibmq_quito</h4>"
      }
     },
     "acae3c36b4ca42cbab23e3508b7ed5bc": {
      "model_module": "@jupyter-widgets/base",
      "model_module_version": "1.2.0",
      "model_name": "LayoutModel",
      "state": {
       "justify_content": "center"
      }
     },
     "ad3850b58e144fbfb09f84620766a30a": {
      "model_module": "@jupyter-widgets/base",
      "model_module_version": "1.2.0",
      "model_name": "LayoutModel",
      "state": {
       "min_width": "auto"
      }
     },
     "af1c002d14f54d02b26513b4506ee143": {
      "model_module": "@jupyter-widgets/base",
      "model_module_version": "1.2.0",
      "model_name": "LayoutModel",
      "state": {
       "grid_area": "middle"
      }
     },
     "afec849aa6ec40079b74904a490e7487": {
      "model_module": "@jupyter-widgets/base",
      "model_module_version": "1.2.0",
      "model_name": "LayoutModel",
      "state": {}
     },
     "b06ab35638fa430c9a3920a0dc86926f": {
      "model_module": "@jupyter-widgets/controls",
      "model_module_version": "1.5.0",
      "model_name": "DescriptionStyleModel",
      "state": {
       "description_width": ""
      }
     },
     "b08468b043444937906afe7f267a49dc": {
      "model_module": "@jupyter-widgets/controls",
      "model_module_version": "1.5.0",
      "model_name": "LabelModel",
      "state": {
       "layout": "IPY_MODEL_dc0f32d6984f444bb857073626ca9482",
       "style": "IPY_MODEL_d6f597daa1aa410ab8c0544ba49bb439",
       "value": "Operational"
      }
     },
     "b09a21c0963e4803a943b67f7ed11e1a": {
      "model_module": "@jupyter-widgets/base",
      "model_module_version": "1.2.0",
      "model_name": "LayoutModel",
      "state": {
       "justify_content": "center"
      }
     },
     "b12491bad1ce40dca6dfcfd391f8a767": {
      "model_module": "@jupyter-widgets/controls",
      "model_module_version": "1.5.0",
      "model_name": "HTMLModel",
      "state": {
       "layout": "IPY_MODEL_45ffdd09999e47b49822e08c22eea0a3",
       "style": "IPY_MODEL_e5af7b8ad94b479da55878d976492503",
       "value": "<h5>0.0096</h5>"
      }
     },
     "b178c5c9a7054f719601002bfd7fa77c": {
      "model_module": "@jupyter-widgets/base",
      "model_module_version": "1.2.0",
      "model_name": "LayoutModel",
      "state": {
       "grid_area": "bottom",
       "width": "auto"
      }
     },
     "b183b23ac8b7468ea8f3106fe400dc93": {
      "model_module": "@jupyter-widgets/base",
      "model_module_version": "1.2.0",
      "model_name": "LayoutModel",
      "state": {}
     },
     "b18c6094f8ce4ce382c48d3958eef665": {
      "model_module": "@jupyter-widgets/output",
      "model_module_version": "1.0.0",
      "model_name": "OutputModel",
      "state": {
       "layout": "IPY_MODEL_34a2aebf6afe46fd8c31f07dcff2aeca",
       "outputs": [
        {
         "data": {
          "image/png": "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\n",
          "text/plain": "<Figure size 792x648 with 5 Axes>"
         },
         "metadata": {},
         "output_type": "display_data"
        }
       ]
      }
     },
     "b1cb1cdd81604929b8ffce8d3964728b": {
      "model_module": "@jupyter-widgets/controls",
      "model_module_version": "1.5.0",
      "model_name": "HTMLModel",
      "state": {
       "layout": "IPY_MODEL_f9e7b3c84b6e43da9de1a45f9fa96214",
       "style": "IPY_MODEL_39e9133d58024062824d70761d3cae81",
       "value": "<h5>16</h5>"
      }
     },
     "b2132ffb154244e19273d13f5b963d83": {
      "model_module": "@jupyter-widgets/output",
      "model_module_version": "1.0.0",
      "model_name": "OutputModel",
      "state": {
       "layout": "IPY_MODEL_13c6a231f8d641c6ae8673dbf5ca2473",
       "outputs": [
        {
         "data": {
          "image/png": "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\n",
          "text/plain": "<Figure size 360x360 with 1 Axes>"
         },
         "metadata": {},
         "output_type": "display_data"
        }
       ]
      }
     },
     "b2726d0358814f9d8af1f16852c1e4ab": {
      "model_module": "@jupyter-widgets/base",
      "model_module_version": "1.2.0",
      "model_name": "LayoutModel",
      "state": {
       "grid_area": "left",
       "width": "100%"
      }
     },
     "b2c07fdaf97f47068424955373202cd2": {
      "model_module": "@jupyter-widgets/controls",
      "model_module_version": "1.5.0",
      "model_name": "ButtonStyleModel",
      "state": {}
     },
     "b2eb7c5ead3f45d6a77f67e03d1d068d": {
      "model_module": "@jupyter-widgets/base",
      "model_module_version": "1.2.0",
      "model_name": "LayoutModel",
      "state": {
       "grid_template_areas": "\n                                       \". . . . right \"\n                                        ",
       "grid_template_columns": "20% 20% 20% 20% 20%",
       "width": "100%"
      }
     },
     "b40b731988e14b4aa7edede14edb33a1": {
      "model_module": "@jupyter-widgets/controls",
      "model_module_version": "1.5.0",
      "model_name": "DescriptionStyleModel",
      "state": {
       "description_width": ""
      }
     },
     "b43bc66efd1744c49a91028a70ac4359": {
      "model_module": "@jupyter-widgets/base",
      "model_module_version": "1.2.0",
      "model_name": "LayoutModel",
      "state": {
       "min_width": "auto"
      }
     },
     "b4404b2a9182487cab6a1e5ec510c601": {
      "model_module": "@jupyter-widgets/controls",
      "model_module_version": "1.5.0",
      "model_name": "DescriptionStyleModel",
      "state": {
       "description_width": ""
      }
     },
     "b45181db002345e3b6e8b542238a8627": {
      "model_module": "@jupyter-widgets/controls",
      "model_module_version": "1.5.0",
      "model_name": "HTMLModel",
      "state": {
       "layout": "IPY_MODEL_8b2231f997ce4174aac64b050ab90767",
       "style": "IPY_MODEL_52a35008169047f4a8921ba5925ad409",
       "value": "<table><style>\ntable {\n    border-collapse: collapse;\n    width: auto;\n}\n\nth, td {\n    text-align: left;\n    padding: 8px;\n}\n\ntr:nth-child(even) {background-color: #f6f6f6;}\n</style><tr><th></th><th>Frequency</th><th>T1</th><th>T2</th><th>RZ</th><th>SX</th><th>X</th><th>Readout error</th></tr><tr><td><font style='font-weight:bold'>Q0</font></td><td>5.02975 GHz</td><td>116.61434 us</td><td>190.7616 us</td><td>0</td><td>0.00017</td><td>0.00017</td><td>0.022 </td><tr><td><font style='font-weight:bold'>Q1</font></td><td>5.12768 GHz</td><td>101.83795 us</td><td>116.31419 us</td><td>0</td><td>0.00036</td><td>0.00036</td><td>0.02 </td><tr><td><font style='font-weight:bold'>Q2</font></td><td>5.24734 GHz</td><td>71.26662 us</td><td>91.76105 us</td><td>0</td><td>0.00023</td><td>0.00023</td><td>0.0162 </td><tr><td><font style='font-weight:bold'>Q3</font></td><td>5.30225 GHz</td><td>73.7684 us</td><td>83.67844 us</td><td>0</td><td>0.0003</td><td>0.0003</td><td>0.0241 </td><tr><td><font style='font-weight:bold'>Q4</font></td><td>5.09216 GHz</td><td>23.88977 us</td><td>25.62471 us</td><td>0</td><td>0.00062</td><td>0.00062</td><td>0.0519 </td></table>"
      }
     },
     "b525be75300a49aaa247141301157367": {
      "model_module": "@jupyter-widgets/controls",
      "model_module_version": "1.5.0",
      "model_name": "IntProgressModel",
      "state": {
       "layout": "IPY_MODEL_fccff0945c874164b445010f24c090c2",
       "max": 50,
       "style": "IPY_MODEL_1f2059dd6865478a94415e430debfe16",
       "value": 35
      }
     },
     "b65c78466632421dad7ee10da72a1878": {
      "model_module": "@jupyter-widgets/base",
      "model_module_version": "1.2.0",
      "model_name": "LayoutModel",
      "state": {}
     },
     "b67b5353813c4dd6b8611595417fd64c": {
      "model_module": "@jupyter-widgets/base",
      "model_module_version": "1.2.0",
      "model_name": "LayoutModel",
      "state": {
       "margin": "0px 5px 0px 0px",
       "width": "32px"
      }
     },
     "b7db277a2c25485395f5563aa5d87471": {
      "model_module": "@jupyter-widgets/base",
      "model_module_version": "1.2.0",
      "model_name": "LayoutModel",
      "state": {
       "grid_area": "bottom",
       "width": "auto"
      }
     },
     "b7eb8885e89d4caeb5252fe3b95cb05d": {
      "model_module": "@jupyter-widgets/controls",
      "model_module_version": "1.5.0",
      "model_name": "DescriptionStyleModel",
      "state": {
       "description_width": ""
      }
     },
     "b85afc74f6684e2b9b0f775b39d69f50": {
      "model_module": "@jupyter-widgets/base",
      "model_module_version": "1.2.0",
      "model_name": "LayoutModel",
      "state": {
       "overflow_x": "scroll"
      }
     },
     "b89f63027e7d4ddbaa0121d75d0e119c": {
      "model_module": "@jupyter-widgets/controls",
      "model_module_version": "1.5.0",
      "model_name": "LabelModel",
      "state": {
       "layout": "IPY_MODEL_208c963807884dd5af148e29d1b030e8",
       "style": "IPY_MODEL_8f5cd6410881400896438585fe2b17ad",
       "value": "18"
      }
     },
     "bb003509ecb84f39897a5397f78c81b4": {
      "model_module": "@jupyter-widgets/controls",
      "model_module_version": "1.5.0",
      "model_name": "DescriptionStyleModel",
      "state": {
       "description_width": ""
      }
     },
     "bb18ff82f40a43d3bdc69ef4b3076552": {
      "model_module": "@jupyter-widgets/controls",
      "model_module_version": "1.5.0",
      "model_name": "DescriptionStyleModel",
      "state": {
       "description_width": ""
      }
     },
     "bbbca33e54ae46369b9a544dceac29aa": {
      "model_module": "@jupyter-widgets/controls",
      "model_module_version": "1.5.0",
      "model_name": "IntProgressModel",
      "state": {
       "layout": "IPY_MODEL_9731da48ff7b447c8f3f80a893ade608",
       "max": 2049,
       "style": "IPY_MODEL_e3db8c9fa55d4abaaca1f3af5b1ecccb",
       "value": 2039
      }
     },
     "bbc86f331b6d4026aa7f9af379fee2e2": {
      "model_module": "@jupyter-widgets/base",
      "model_module_version": "1.2.0",
      "model_name": "LayoutModel",
      "state": {
       "grid_area": "middle"
      }
     },
     "bcb21403a56540b1b0d4d39f639ae34c": {
      "model_module": "@jupyter-widgets/controls",
      "model_module_version": "1.5.0",
      "model_name": "HTMLModel",
      "state": {
       "layout": "IPY_MODEL_2bf86293677a47a28cfd5ef45207b0a6",
       "style": "IPY_MODEL_f4e51006d0f54e5babca8c9ce3869e37",
       "value": "<h4>ibmq_belem</h4>"
      }
     },
     "bdbf774cd04b4853bc8eb15ee89d375b": {
      "model_module": "@jupyter-widgets/base",
      "model_module_version": "1.2.0",
      "model_name": "LayoutModel",
      "state": {
       "margin": "10px 0px 0px 0px"
      }
     },
     "bdcf2df10feb423e8895eeb3dc737ec4": {
      "model_module": "@jupyter-widgets/base",
      "model_module_version": "1.2.0",
      "model_name": "LayoutModel",
      "state": {}
     },
     "bdedff6c09d442479662ddc44a2a23be": {
      "model_module": "@jupyter-widgets/controls",
      "model_module_version": "1.5.0",
      "model_name": "HTMLModel",
      "state": {
       "layout": "IPY_MODEL_7b9b23616485422abf872cb74b35ee5f",
       "style": "IPY_MODEL_5b1d971a6ada4871abaa1fb696a1cfdf",
       "value": "<h5>NA</h5>"
      }
     },
     "bebdd4784d1e4204b8083813fb98ddb6": {
      "model_module": "@jupyter-widgets/controls",
      "model_module_version": "1.5.0",
      "model_name": "HTMLModel",
      "state": {
       "layout": "IPY_MODEL_1fd0793a6d3f463793a966a3b80cd3cc",
       "style": "IPY_MODEL_482759766b794b12a44fe2533721be35",
       "value": "<h4>ibmq_bogota</h4>"
      }
     },
     "becec3d6c6cf4955b959df2d9b2915cc": {
      "model_module": "@jupyter-widgets/controls",
      "model_module_version": "1.5.0",
      "model_name": "DescriptionStyleModel",
      "state": {
       "description_width": ""
      }
     },
     "becfb319ec164313855c6c715090b722": {
      "model_module": "@jupyter-widgets/controls",
      "model_module_version": "1.5.0",
      "model_name": "HTMLModel",
      "state": {
       "layout": "IPY_MODEL_afec849aa6ec40079b74904a490e7487",
       "style": "IPY_MODEL_d9de195fdfbf479281b1a067db85615b",
       "value": "<h5>0.0124</h5>"
      }
     },
     "bf9d228e0d754cfbb09651b07029fda7": {
      "model_module": "@jupyter-widgets/controls",
      "model_module_version": "1.5.0",
      "model_name": "LabelModel",
      "state": {
       "layout": "IPY_MODEL_ecb4b142efc8442292c710c768eab640",
       "style": "IPY_MODEL_6ec653369a3d49088322b562d8752010",
       "value": "13"
      }
     },
     "c0090a343e6b438ca4c27bc0ed6b35c3": {
      "model_module": "@jupyter-widgets/controls",
      "model_module_version": "1.5.0",
      "model_name": "HTMLModel",
      "state": {
       "layout": "IPY_MODEL_61be0c98aa8e41fa926bb452913e8380",
       "style": "IPY_MODEL_0e2388956ebe477591bbf1a4b605bfc3",
       "value": "<h5>0.0327</h5>"
      }
     },
     "c01662cc2dc246c2aaecb2376cbd5928": {
      "model_module": "@jupyter-widgets/controls",
      "model_module_version": "1.5.0",
      "model_name": "DescriptionStyleModel",
      "state": {
       "description_width": ""
      }
     },
     "c02b4402cfcf4037a86ac0159c6ba829": {
      "model_module": "@jupyter-widgets/controls",
      "model_module_version": "1.5.0",
      "model_name": "ProgressStyleModel",
      "state": {
       "bar_color": "#71cddd",
       "description_width": ""
      }
     },
     "c097b280b8c34e91b74ec72af445e3e4": {
      "model_module": "@jupyter-widgets/base",
      "model_module_version": "1.2.0",
      "model_name": "LayoutModel",
      "state": {
       "min_width": "auto"
      }
     },
     "c1a0ea70268b4b7a86087d4f3a0fa781": {
      "model_module": "@jupyter-widgets/base",
      "model_module_version": "1.2.0",
      "model_name": "LayoutModel",
      "state": {
       "grid_area": "right"
      }
     },
     "c39d80e986bd473e975358b1c0a6db46": {
      "model_module": "@jupyter-widgets/base",
      "model_module_version": "1.2.0",
      "model_name": "LayoutModel",
      "state": {
       "overflow_y": "scroll"
      }
     },
     "c44a307df52a46109c5499c5a7ee9051": {
      "model_module": "@jupyter-widgets/controls",
      "model_module_version": "1.5.0",
      "model_name": "DescriptionStyleModel",
      "state": {
       "description_width": ""
      }
     },
     "c5be804d7fc84539a918605168458fe7": {
      "model_module": "@jupyter-widgets/base",
      "model_module_version": "1.2.0",
      "model_name": "LayoutModel",
      "state": {}
     },
     "c5f99404d5544c6692efd44f6ba52870": {
      "model_module": "@jupyter-widgets/base",
      "model_module_version": "1.2.0",
      "model_name": "LayoutModel",
      "state": {}
     },
     "c7242499d2e24581b66dfab79fb340a5": {
      "model_module": "@jupyter-widgets/output",
      "model_module_version": "1.0.0",
      "model_name": "OutputModel",
      "state": {
       "layout": "IPY_MODEL_52a0feb31aa348d6a7617016936960e0",
       "outputs": [
        {
         "data": {
          "image/png": "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\n",
          "text/plain": "<Figure size 360x360 with 1 Axes>"
         },
         "metadata": {},
         "output_type": "display_data"
        }
       ]
      }
     },
     "c7393e29289849f488ba0484ab2a336a": {
      "model_module": "@jupyter-widgets/controls",
      "model_module_version": "1.5.0",
      "model_name": "DescriptionStyleModel",
      "state": {
       "description_width": ""
      }
     },
     "c7ecc956dc5b4428883f8791edfd5b36": {
      "model_module": "@jupyter-widgets/controls",
      "model_module_version": "1.5.0",
      "model_name": "HTMLModel",
      "state": {
       "layout": "IPY_MODEL_58ed81ff7e0e4d0b80883d634ad4409d",
       "style": "IPY_MODEL_09d0a5cdaf38484887b861d6114807a4",
       "value": "<h5>0.0196</h5>"
      }
     },
     "c8cfb3aaafbd497da538d5c091e65e32": {
      "model_module": "@jupyter-widgets/base",
      "model_module_version": "1.2.0",
      "model_name": "LayoutModel",
      "state": {
       "justify_content": "center"
      }
     },
     "c8e969fc7acf47019e2c5f0f1c43aa20": {
      "model_module": "@jupyter-widgets/controls",
      "model_module_version": "1.5.0",
      "model_name": "HTMLModel",
      "state": {
       "layout": "IPY_MODEL_8467fcbeb9754a34a9eca53dcd76c912",
       "style": "IPY_MODEL_e4c9e4d00da14e719e914e11f63582d3",
       "value": "<h5>16</h5>"
      }
     },
     "ca40bbde9e514bc4a3721e4dfe554760": {
      "model_module": "@jupyter-widgets/controls",
      "model_module_version": "1.5.0",
      "model_name": "DescriptionStyleModel",
      "state": {
       "description_width": ""
      }
     },
     "cb014fba4dd34a88bd88f302d8e486b3": {
      "model_module": "@jupyter-widgets/controls",
      "model_module_version": "1.5.0",
      "model_name": "DescriptionStyleModel",
      "state": {
       "description_width": ""
      }
     },
     "cb3a03a62a2f4235a71566620a81e95c": {
      "model_module": "@jupyter-widgets/base",
      "model_module_version": "1.2.0",
      "model_name": "LayoutModel",
      "state": {
       "justify_content": "center"
      }
     },
     "cbad550226cd4d33ba86f68cce64f24c": {
      "model_module": "@jupyter-widgets/base",
      "model_module_version": "1.2.0",
      "model_name": "LayoutModel",
      "state": {
       "justify_content": "center",
       "max_width": "250px",
       "min_width": "250px"
      }
     },
     "cbeccde429cc4bd7a86fd76ae735ed18": {
      "model_module": "@jupyter-widgets/base",
      "model_module_version": "1.2.0",
      "model_name": "LayoutModel",
      "state": {
       "justify_content": "center"
      }
     },
     "cc7ed5b268484b9bb5fb946fc43ebb23": {
      "model_module": "@jupyter-widgets/base",
      "model_module_version": "1.2.0",
      "model_name": "LayoutModel",
      "state": {
       "align_items": "center",
       "display": "flex-inline"
      }
     },
     "cd92e5e79e8541769a413195df905907": {
      "model_module": "@jupyter-widgets/base",
      "model_module_version": "1.2.0",
      "model_name": "LayoutModel",
      "state": {
       "max_width": "180px"
      }
     },
     "ce9e59adcfa8488899ac987999247d39": {
      "model_module": "@jupyter-widgets/base",
      "model_module_version": "1.2.0",
      "model_name": "LayoutModel",
      "state": {}
     },
     "ceea5ed1189c4c5ba11ab77aa57ec2fb": {
      "model_module": "@jupyter-widgets/base",
      "model_module_version": "1.2.0",
      "model_name": "LayoutModel",
      "state": {
       "max_width": "180px"
      }
     },
     "cf0d0e816b7f4853951464c6e60348ab": {
      "model_module": "@jupyter-widgets/base",
      "model_module_version": "1.2.0",
      "model_name": "LayoutModel",
      "state": {
       "justify_content": "center"
      }
     },
     "d01b452cb280418abb25e2b6dd8e86c7": {
      "model_module": "@jupyter-widgets/controls",
      "model_module_version": "1.5.0",
      "model_name": "VBoxModel",
      "state": {
       "children": [
        "IPY_MODEL_956383b93fe3437a97486649198541ed",
        "IPY_MODEL_b45181db002345e3b6e8b542238a8627"
       ],
       "layout": "IPY_MODEL_e36b84eb4b4744bd9bb849cf03c03ea9"
      }
     },
     "d2f4bd27cf5a4a6faf7a21c032804958": {
      "model_module": "@jupyter-widgets/base",
      "model_module_version": "1.2.0",
      "model_name": "LayoutModel",
      "state": {
       "align_items": "center",
       "display": "inline-flex",
       "flex_flow": "column"
      }
     },
     "d4c1df8b812042d08ae0ce36beb3a32e": {
      "model_module": "@jupyter-widgets/base",
      "model_module_version": "1.2.0",
      "model_name": "LayoutModel",
      "state": {
       "grid_gap": "0px 0px",
       "grid_template_areas": "\n                                                   \"top top top\"\n                                                   \"left middle right\"\n                                                   ",
       "grid_template_columns": "33% 33% 33%",
       "grid_template_rows": "auto auto"
      }
     },
     "d5ca346c9eb54856a3882c52b74870a2": {
      "model_module": "@jupyter-widgets/base",
      "model_module_version": "1.2.0",
      "model_name": "LayoutModel",
      "state": {
       "justify_content": "center"
      }
     },
     "d60da36261b641bba3de7e278407bca5": {
      "model_module": "@jupyter-widgets/base",
      "model_module_version": "1.2.0",
      "model_name": "LayoutModel",
      "state": {
       "border": "4px solid #000000",
       "max_height": "650px",
       "min_height": "650px",
       "overflow_y": "hidden"
      }
     },
     "d687bcc895d34923a403744873c57b39": {
      "model_module": "@jupyter-widgets/controls",
      "model_module_version": "1.5.0",
      "model_name": "DescriptionStyleModel",
      "state": {
       "description_width": ""
      }
     },
     "d6f597daa1aa410ab8c0544ba49bb439": {
      "model_module": "@jupyter-widgets/controls",
      "model_module_version": "1.5.0",
      "model_name": "DescriptionStyleModel",
      "state": {
       "description_width": ""
      }
     },
     "d81b32c536594dff826a7906ae8f134f": {
      "model_module": "@jupyter-widgets/controls",
      "model_module_version": "1.5.0",
      "model_name": "HTMLModel",
      "state": {
       "layout": "IPY_MODEL_090742c2ccb5478f8ecf5ed927d37d28",
       "style": "IPY_MODEL_ca40bbde9e514bc4a3721e4dfe554760",
       "value": "<h5>83.2 / 91.3 us</h5>"
      }
     },
     "d83cdb7585194209856ef1c977baf08b": {
      "model_module": "@jupyter-widgets/controls",
      "model_module_version": "1.5.0",
      "model_name": "HBoxModel",
      "state": {
       "children": [
        "IPY_MODEL_bf9d228e0d754cfbb09651b07029fda7",
        "IPY_MODEL_2a855683d3624ca5853483f3f1c58bcf",
        "IPY_MODEL_251c39b9d47341aeb39cc578ea86daec"
       ],
       "layout": "IPY_MODEL_8585ff3681964b798df6b01454c24247"
      }
     },
     "d8ccdea5f99e417bb70d58ad206e2f65": {
      "model_module": "@jupyter-widgets/base",
      "model_module_version": "1.2.0",
      "model_name": "LayoutModel",
      "state": {
       "grid_area": "bottom",
       "width": "auto"
      }
     },
     "d9de195fdfbf479281b1a067db85615b": {
      "model_module": "@jupyter-widgets/controls",
      "model_module_version": "1.5.0",
      "model_name": "DescriptionStyleModel",
      "state": {
       "description_width": ""
      }
     },
     "da556e3f0f4845f4afd6d0311b909779": {
      "model_module": "@jupyter-widgets/base",
      "model_module_version": "1.2.0",
      "model_name": "LayoutModel",
      "state": {}
     },
     "daf58adf0a1b4490b79a34d893f13b13": {
      "model_module": "@jupyter-widgets/controls",
      "model_module_version": "1.5.0",
      "model_name": "DescriptionStyleModel",
      "state": {
       "description_width": ""
      }
     },
     "dbed90ae5f1a47598ae3af3483897550": {
      "model_module": "@jupyter-widgets/controls",
      "model_module_version": "1.5.0",
      "model_name": "VBoxModel",
      "state": {
       "children": [
        "IPY_MODEL_ac8f531caa1a4f9cb7b391d8c7d4d0c3",
        "IPY_MODEL_5d587e800e9c4d3d8a8323f32dae97df",
        "IPY_MODEL_05261be22ff0444184ab1e142a743d77",
        "IPY_MODEL_b1cb1cdd81604929b8ffce8d3964728b",
        "IPY_MODEL_d83cdb7585194209856ef1c977baf08b",
        "IPY_MODEL_2bc971b384a64410b604e7a1bdefb56a",
        "IPY_MODEL_ed491f544e474088a6dbded09ec3bed1",
        "IPY_MODEL_84589d1fd94f4d2d98723340e376a777",
        "IPY_MODEL_b12491bad1ce40dca6dfcfd391f8a767",
        "IPY_MODEL_7ad7dfc16263428fa917bf2deff54334"
       ],
       "layout": "IPY_MODEL_43b6c8bf375a43beb9607a698b5170f0"
      }
     },
     "dc0f32d6984f444bb857073626ca9482": {
      "model_module": "@jupyter-widgets/base",
      "model_module_version": "1.2.0",
      "model_name": "LayoutModel",
      "state": {
       "margin": "5px 0px 0px 0px"
      }
     },
     "dc17a4fd503144ad8dd4252a30ab6ac7": {
      "model_module": "@jupyter-widgets/controls",
      "model_module_version": "1.5.0",
      "model_name": "DescriptionStyleModel",
      "state": {
       "description_width": ""
      }
     },
     "dc3442b8fd1743fd9bd2556d76dd8f78": {
      "model_module": "@jupyter-widgets/controls",
      "model_module_version": "1.5.0",
      "model_name": "HBoxModel",
      "state": {
       "children": [
        "IPY_MODEL_b89f63027e7d4ddbaa0121d75d0e119c",
        "IPY_MODEL_efee7ee412f14b74b844467e2265d3ac",
        "IPY_MODEL_0c4ccf05f9ec45c6915862a76913e1c4"
       ],
       "layout": "IPY_MODEL_70d7ec53325d41b694cd77f0a9120cbf"
      }
     },
     "dc474cea57cf46d689cf1b5f16c5e35d": {
      "model_module": "@jupyter-widgets/controls",
      "model_module_version": "1.5.0",
      "model_name": "ProgressStyleModel",
      "state": {
       "bar_color": "#71cddd",
       "description_width": ""
      }
     },
     "dde215b987eb4f7a9ed097bf77c6c2a8": {
      "model_module": "@jupyter-widgets/controls",
      "model_module_version": "1.5.0",
      "model_name": "HTMLModel",
      "state": {
       "layout": "IPY_MODEL_c1a0ea70268b4b7a86087d4f3a0fa781",
       "style": "IPY_MODEL_098391245b0a431eabd60d2da3e51d13",
       "value": "<table><style>\ntable {\n    border-collapse: collapse;\n    width: auto;\n}\n\nth, td {\n    text-align: left;\n    padding: 8px;\n}\n\ntr:nth-child(even) {background-color: #f6f6f6;};\n</style><tr><th></th><th>Type</th><th>Gate error</th></tr><tr><td><font style='font-weight:bold'>cx0_1</font></td><td>cx</td><td>0.00637</td></tr><tr><td><font style='font-weight:bold'>cx1_0</font></td><td>cx</td><td>0.00637</td></tr></table>"
      }
     },
     "de54f1635a5142dfb8e9d4e329077127": {
      "model_module": "@jupyter-widgets/base",
      "model_module_version": "1.2.0",
      "model_name": "LayoutModel",
      "state": {
       "grid_area": "left"
      }
     },
     "ded9f1e9a1584c75873c14e97646e2ec": {
      "model_module": "@jupyter-widgets/controls",
      "model_module_version": "1.5.0",
      "model_name": "DescriptionStyleModel",
      "state": {
       "description_width": ""
      }
     },
     "dfe22b78f1c9475e9edf55fe892525df": {
      "model_module": "@jupyter-widgets/controls",
      "model_module_version": "1.5.0",
      "model_name": "HTMLMathModel",
      "state": {
       "layout": "IPY_MODEL_197768eb0a2444f3b753a08809da57e8",
       "style": "IPY_MODEL_6691237998564691b699b38395feb15c",
       "value": "<table><style>\ntable {\n    border-collapse: collapse;\n    width: auto;\n}\n\nth, td {\n    text-align: left;\n    padding: 8px;\n}\n\ntr:nth-child(even) {background-color: #f6f6f6;}\n</style><tr><th>Property</th><th>Value</th></tr><tr><td><font style='font-weight:bold'>n_qubits</font></td><td>5</td></tr><tr><td><font style='font-weight:bold'>quantum_volume</font></td><td>32</td></tr><tr><td><font style='font-weight:bold'>operational</font></td><td>False</td></tr><tr><td><font style='font-weight:bold'>status_msg</font></td><td>maintenance</td></tr><tr><td><font style='font-weight:bold'>pending_jobs</font></td><td>2039</td></tr><tr><td><font style='font-weight:bold'>backend_version</font></td><td>1.3.43</td></tr><tr><td><font style='font-weight:bold'>basis_gates</font></td><td>['id', 'rz', 'sx', 'x', 'cx', 'reset']</td></tr><tr><td><font style='font-weight:bold'>max_shots</font></td><td>20000</td></tr><tr><td><font style='font-weight:bold'>max_experiments</font></td><td>100</td></tr></table>"
      }
     },
     "e01547dceb3c4595a354410e1cc01543": {
      "model_module": "@jupyter-widgets/base",
      "model_module_version": "1.2.0",
      "model_name": "LayoutModel",
      "state": {
       "grid_area": "middle"
      }
     },
     "e0a83d41261a4e89bfa286ddab7cb01f": {
      "model_module": "@jupyter-widgets/controls",
      "model_module_version": "1.5.0",
      "model_name": "DescriptionStyleModel",
      "state": {
       "description_width": ""
      }
     },
     "e0b1f6a94f424b1b80086e1fffe5faa7": {
      "model_module": "@jupyter-widgets/controls",
      "model_module_version": "1.5.0",
      "model_name": "GridBoxModel",
      "state": {
       "children": [
        "IPY_MODEL_24a002321cbb4cb1992dcad1392643df",
        "IPY_MODEL_3a5fb7f7a55c4775811038c39948005d",
        "IPY_MODEL_6dbce55f9297457d9b2c14905273cab1",
        "IPY_MODEL_dde215b987eb4f7a9ed097bf77c6c2a8"
       ],
       "layout": "IPY_MODEL_a5cb11d9e1474df5b838c866d717f199"
      }
     },
     "e23547720dc341a5a3e5ddff66f6b981": {
      "model_module": "@jupyter-widgets/controls",
      "model_module_version": "1.5.0",
      "model_name": "HTMLMathModel",
      "state": {
       "layout": "IPY_MODEL_b2726d0358814f9d8af1f16852c1e4ab",
       "style": "IPY_MODEL_0eebb9bc80804a1582d952c06a363f7c",
       "value": "<table><style>\ntable {\n    border-collapse: collapse;\n    width: auto;\n}\n\nth, td {\n    text-align: left;\n    padding: 8px;\n}\n\ntr:nth-child(even) {background-color: #f6f6f6;}\n</style><tr><th>Property</th><th>Value</th></tr><tr><td><font style='font-weight:bold'>n_qubits</font></td><td>5</td></tr><tr><td><font style='font-weight:bold'>quantum_volume</font></td><td>8</td></tr><tr><td><font style='font-weight:bold'>operational</font></td><td>True</td></tr><tr><td><font style='font-weight:bold'>status_msg</font></td><td>active</td></tr><tr><td><font style='font-weight:bold'>pending_jobs</font></td><td>19</td></tr><tr><td><font style='font-weight:bold'>backend_version</font></td><td>1.0.27</td></tr><tr><td><font style='font-weight:bold'>basis_gates</font></td><td>['id', 'rz', 'sx', 'x', 'cx', 'reset']</td></tr><tr><td><font style='font-weight:bold'>max_shots</font></td><td>20000</td></tr><tr><td><font style='font-weight:bold'>max_experiments</font></td><td>100</td></tr></table>"
      }
     },
     "e348187b5184406aa184c7beada708d3": {
      "model_module": "@jupyter-widgets/controls",
      "model_module_version": "1.5.0",
      "model_name": "HTMLModel",
      "state": {
       "layout": "IPY_MODEL_0699cc8ba4b5443d9d9bbc47236d3d9f",
       "style": "IPY_MODEL_8b43445aad1f423daf81531b1d7db3f8",
       "value": "<div><font style='font-weight:bold'>last_update_date</font>: 2022-01-18 05:47:18+00:00</div>"
      }
     },
     "e349ff0d059548999e1971dde4fe9e0f": {
      "model_module": "@jupyter-widgets/base",
      "model_module_version": "1.2.0",
      "model_name": "LayoutModel",
      "state": {}
     },
     "e354c94d2d824056bc07deda5eda0251": {
      "model_module": "@jupyter-widgets/controls",
      "model_module_version": "1.5.0",
      "model_name": "TabModel",
      "state": {
       "layout": "IPY_MODEL_6867ef41d49f477ca3921e6a7ce4bd37"
      }
     },
     "e36b84eb4b4744bd9bb849cf03c03ea9": {
      "model_module": "@jupyter-widgets/base",
      "model_module_version": "1.2.0",
      "model_name": "LayoutModel",
      "state": {}
     },
     "e39d69b4eeec4c6a822ce0b4cfa27c4a": {
      "model_module": "@jupyter-widgets/controls",
      "model_module_version": "1.5.0",
      "model_name": "HTMLModel",
      "state": {
       "layout": "IPY_MODEL_e88e1a05838b489faba703b068444225",
       "style": "IPY_MODEL_173b1083dde444ec88377b51acc6438e",
       "value": "<h5 style='color:#34bc6e'>True</h5>"
      }
     },
     "e3db8c9fa55d4abaaca1f3af5b1ecccb": {
      "model_module": "@jupyter-widgets/controls",
      "model_module_version": "1.5.0",
      "model_name": "ProgressStyleModel",
      "state": {
       "bar_color": "#71cddd",
       "description_width": ""
      }
     },
     "e415e39d17d84f3bb335c568f8b3ad83": {
      "model_module": "@jupyter-widgets/controls",
      "model_module_version": "1.5.0",
      "model_name": "HTMLModel",
      "state": {
       "layout": "IPY_MODEL_b183b23ac8b7468ea8f3106fe400dc93",
       "style": "IPY_MODEL_dc17a4fd503144ad8dd4252a30ab6ac7",
       "value": "<h4>ibmq_manila</h4>"
      }
     },
     "e469d3d087ae48d09bf415f02d33b51c": {
      "model_module": "@jupyter-widgets/controls",
      "model_module_version": "1.5.0",
      "model_name": "HTMLModel",
      "state": {
       "layout": "IPY_MODEL_ef0885bc206c45e9acc0b80375689c57",
       "style": "IPY_MODEL_90783870be4040e9a184656b1a4102d2",
       "value": "<h5><b>5</b></h5>"
      }
     },
     "e4961f1d02c243bd89c3815f6141d324": {
      "model_module": "@jupyter-widgets/controls",
      "model_module_version": "1.5.0",
      "model_name": "HTMLMathModel",
      "state": {
       "layout": "IPY_MODEL_b178c5c9a7054f719601002bfd7fa77c",
       "style": "IPY_MODEL_c44a307df52a46109c5499c5a7ee9051",
       "value": "<table><style>\ntable {\n    border-collapse: collapse;\n    width: auto;\n}\n\nth, td {\n    text-align: left;\n    padding: 8px;\n}\n\ntr:nth-child(even) {background-color: #f6f6f6;}\n</style><tr><th></th><th></th></tr><tr><td>default_rep_delay</td><td>250.0</td></tr><tr><td>rep_delay_range</td><td>[0.0, 500.0]</td></tr><tr><td>clops</td><td>None</td></tr><tr><td>acquisition_latency</td><td>[]</td></tr><tr><td>supported_features</td><td>['q', 'o', 'b', 'j']</td></tr><tr><td>discriminators</td><td>['hw_qmfk', 'quadratic_discriminator', 'linear_discriminator']</td></tr><tr><td>backend_name</td><td>ibmq_santiago</td></tr><tr><td>parametric_pulses</td><td>['gaussian', 'gaussian_square', 'drag', 'constant']</td></tr><tr><td>meas_lo_range</td><td>[[6.952624018000001, 7.952624018000001], [6.701014434, 7.701014434], [6.837332258, 7.837332258000001], [6.901770712, 7.901770712], [6.775814414, 7.775814414]]</td></tr><tr><td>memory</td><td>True</td></tr><tr><td>coupling_map</td><td>[[0, 1], [1, 0], [1, 2], [2, 1], [2, 3], [3, 2], [3, 4], [4, 3]]</td></tr><tr><td>qubit_channel_mapping</td><td>[['u1', 'm0', 'd0', 'u0'], ['u2', 'm1', 'u0', 'u1', 'd1', 'u3'], ['u2', 'm2', 'u5', 'd2', 'u3', 'u4'], ['u5', 'd3', 'u7', 'm3', 'u6', 'u4'], ['u6', 'd4', 'u7', 'm4']]</td></tr><tr><td>online_date</td><td>2020-06-03 04:00:00+00:00</td></tr><tr><td>hamiltonian</td><td>$$\\begin{align} \\mathcal{H}/\\hbar = & \\sum_{i=0}^{4}\\left(\\frac{\\omega_{q,i}}{2}(\\mathbb{I}-\\sigma_i^{z})+\\frac{\\Delta_{i}}{2}(O_i^2-O_i)+\\Omega_{d,i}D_i(t)\\sigma_i^{X}\\right) \\\\ & + J_{0,1}(\\sigma_{0}^{+}\\sigma_{1}^{-}+\\sigma_{0}^{-}\\sigma_{1}^{+}) + J_{1,2}(\\sigma_{1}^{+}\\sigma_{2}^{-}+\\sigma_{1}^{-}\\sigma_{2}^{+}) + J_{2,3}(\\sigma_{2}^{+}\\sigma_{3}^{-}+\\sigma_{2}^{-}\\sigma_{3}^{+}) + J_{3,4}(\\sigma_{3}^{+}\\sigma_{4}^{-}+\\sigma_{3}^{-}\\sigma_{4}^{+}) \\\\ & + \\Omega_{d,0}(U_{0}^{(0,1)}(t))\\sigma_{0}^{X} + \\Omega_{d,1}(U_{1}^{(1,0)}(t)+U_{2}^{(1,2)}(t))\\sigma_{1}^{X} \\\\ & + \\Omega_{d,2}(U_{3}^{(2,1)}(t)+U_{4}^{(2,3)}(t))\\sigma_{2}^{X} + \\Omega_{d,3}(U_{6}^{(3,4)}(t)+U_{5}^{(3,2)}(t))\\sigma_{3}^{X} \\\\ & + \\Omega_{d,4}(U_{7}^{(4,3)}(t))\\sigma_{4}^{X} \\\\ \\end{align}$$</td></tr><tr><td>pulse_num_channels</td><td>9</td></tr><tr><td>timing_constraints</td><td>{'acquire_alignment': 16, 'granularity': 16, 'min_length': 64, 'pulse_alignment': 1}</td></tr><tr><td>local</td><td>False</td></tr><tr><td>input_allowed</td><td>['job', 'runtime']</td></tr><tr><td>simulator</td><td>False</td></tr><tr><td>multi_meas_enabled</td><td>True</td></tr><tr><td>url</td><td>None</td></tr><tr><td>channels</td><td>{'acquire0': {'operates': {'qubits': [0]}, 'purpose': 'acquire', 'type': 'acquire'}, 'acquire1': {'operates': {'qubits': [1]}, 'purpose': 'acquire', 'type': 'acquire'}, 'acquire2': {'operates': {'qubits': [2]}, 'purpose': 'acquire', 'type': 'acquire'}, 'acquire3': {'operates': {'qubits': [3]}, 'purpose': 'acquire', 'type': 'acquire'}, 'acquire4': {'operates': {'qubits': [4]}, 'purpose': 'acquire', 'type': 'acquire'}, 'd0': {'operates': {'qubits': [0]}, 'purpose': 'drive', 'type': 'drive'}, 'd1': {'operates': {'qubits': [1]}, 'purpose': 'drive', 'type': 'drive'}, 'd2': {'operates': {'qubits': [2]}, 'purpose': 'drive', 'type': 'drive'}, 'd3': {'operates': {'qubits': [3]}, 'purpose': 'drive', 'type': 'drive'}, 'd4': {'operates': {'qubits': [4]}, 'purpose': 'drive', 'type': 'drive'}, 'm0': {'operates': {'qubits': [0]}, 'purpose': 'measure', 'type': 'measure'}, 'm1': {'operates': {'qubits': [1]}, 'purpose': 'measure', 'type': 'measure'}, 'm2': {'operates': {'qubits': [2]}, 'purpose': 'measure', 'type': 'measure'}, 'm3': {'operates': {'qubits': [3]}, 'purpose': 'measure', 'type': 'measure'}, 'm4': {'operates': {'qubits': [4]}, 'purpose': 'measure', 'type': 'measure'}, 'u0': {'operates': {'qubits': [0, 1]}, 'purpose': 'cross-resonance', 'type': 'control'}, 'u1': {'operates': {'qubits': [1, 0]}, 'purpose': 'cross-resonance', 'type': 'control'}, 'u2': {'operates': {'qubits': [1, 2]}, 'purpose': 'cross-resonance', 'type': 'control'}, 'u3': {'operates': {'qubits': [2, 1]}, 'purpose': 'cross-resonance', 'type': 'control'}, 'u4': {'operates': {'qubits': [2, 3]}, 'purpose': 'cross-resonance', 'type': 'control'}, 'u5': {'operates': {'qubits': [3, 2]}, 'purpose': 'cross-resonance', 'type': 'control'}, 'u6': {'operates': {'qubits': [3, 4]}, 'purpose': 'cross-resonance', 'type': 'control'}, 'u7': {'operates': {'qubits': [4, 3]}, 'purpose': 'cross-resonance', 'type': 'control'}}</td></tr><tr><td>open_pulse</td><td>False</td></tr><tr><td>conditional_latency</td><td>[]</td></tr><tr><td>dt</td><td>0.2222222222222222</td></tr><tr><td>uchannels_enabled</td><td>True</td></tr><tr><td>credits_required</td><td>True</td></tr><tr><td>u_channel_lo</td><td>[[{'q': 1, 'scale': (1+0j)}], [{'q': 0, 'scale': (1+0j)}], [{'q': 2, 'scale': (1+0j)}], [{'q': 1, 'scale': (1+0j)}], [{'q': 3, 'scale': (1+0j)}], [{'q': 2, 'scale': (1+0j)}], [{'q': 4, 'scale': (1+0j)}], [{'q': 3, 'scale': (1+0j)}]]</td></tr><tr><td>dynamic_reprate_enabled</td><td>True</td></tr><tr><td>processor_type</td><td>{'family': 'Falcon', 'revision': 4, 'segment': 'L'}</td></tr><tr><td>rep_times</td><td>[1000.0]</td></tr><tr><td>supported_instructions</td><td>['rz', 'setf', 'u2', 'play', 'cx', 'sx', 'x', 'measure', 'u1', 'delay', 'shiftf', 'id', 'u3', 'acquire', 'reset']</td></tr><tr><td>description</td><td>5 qubit device</td></tr><tr><td>n_uchannels</td><td>8</td></tr><tr><td>allow_q_object</td><td>True</td></tr><tr><td>meas_map</td><td>[[0, 1, 2, 3, 4]]</td></tr><tr><td>pulse_num_qubits</td><td>3</td></tr><tr><td>meas_kernels</td><td>['hw_qmfk']</td></tr><tr><td>measure_esp_enabled</td><td>False</td></tr><tr><td>dtm</td><td>0.2222222222222222</td></tr><tr><td>qubit_lo_range</td><td>[[4.333440913449187, 5.333440913449187], [4.123635577290777, 5.123635577290777], [4.31971453509289, 5.31971453509289], [4.242320451889285, 5.242320451889285], [4.316398839970219, 5.316398839970219]]</td></tr><tr><td>n_registers</td><td>1</td></tr><tr><td>meas_levels</td><td>[1, 2]</td></tr><tr><td>allow_object_storage</td><td>True</td></tr><tr><td>sample_name</td><td>family: Falcon, revision: 4, segment: L</td></tr><tr><td>conditional</td><td>False</td></tr></table>"
      }
     },
     "e4c9e4d00da14e719e914e11f63582d3": {
      "model_module": "@jupyter-widgets/controls",
      "model_module_version": "1.5.0",
      "model_name": "DescriptionStyleModel",
      "state": {
       "description_width": ""
      }
     },
     "e51e52a723fb4fddb24fb95e62b3fd21": {
      "model_module": "@jupyter-widgets/base",
      "model_module_version": "1.2.0",
      "model_name": "LayoutModel",
      "state": {
       "justify_content": "center"
      }
     },
     "e5af7b8ad94b479da55878d976492503": {
      "model_module": "@jupyter-widgets/controls",
      "model_module_version": "1.5.0",
      "model_name": "DescriptionStyleModel",
      "state": {
       "description_width": ""
      }
     },
     "e668069ddef249cd86e2c0e93368bbed": {
      "model_module": "@jupyter-widgets/controls",
      "model_module_version": "1.5.0",
      "model_name": "DescriptionStyleModel",
      "state": {
       "description_width": ""
      }
     },
     "e88e1a05838b489faba703b068444225": {
      "model_module": "@jupyter-widgets/base",
      "model_module_version": "1.2.0",
      "model_name": "LayoutModel",
      "state": {
       "justify_content": "center"
      }
     },
     "e891cd3d2d4148d9b8ff778559f04d88": {
      "model_module": "@jupyter-widgets/controls",
      "model_module_version": "1.5.0",
      "model_name": "DescriptionStyleModel",
      "state": {
       "description_width": ""
      }
     },
     "e990215f70304765a944ed7727ddb414": {
      "model_module": "@jupyter-widgets/base",
      "model_module_version": "1.2.0",
      "model_name": "LayoutModel",
      "state": {
       "margin": "5px 0px 0px 0px"
      }
     },
     "e9ba3503a3314827ba34598e1e236a9f": {
      "model_module": "@jupyter-widgets/base",
      "model_module_version": "1.2.0",
      "model_name": "LayoutModel",
      "state": {
       "justify_content": "center"
      }
     },
     "ea0b4c28fe7840deb80e406de23628a6": {
      "model_module": "@jupyter-widgets/controls",
      "model_module_version": "1.5.0",
      "model_name": "DescriptionStyleModel",
      "state": {
       "description_width": ""
      }
     },
     "ea277eef82c04dcc977901b90e919f45": {
      "model_module": "@jupyter-widgets/base",
      "model_module_version": "1.2.0",
      "model_name": "LayoutModel",
      "state": {
       "max_width": "700px",
       "min_width": "700px"
      }
     },
     "ec5d61caa037467dabe211e4347c3d2f": {
      "model_module": "@jupyter-widgets/controls",
      "model_module_version": "1.5.0",
      "model_name": "HTMLModel",
      "state": {
       "layout": "IPY_MODEL_7670f5d3d4734562922c20a894050a00",
       "style": "IPY_MODEL_003420ee64014cf9bf57d6a773442941",
       "value": "<h1 style='color:#ffffff;background-color:#000000;padding-top: 1%;padding-bottom: 1%;padding-left: 1%; margin-top: 0px'>ibmq_lima</h1>"
      }
     },
     "ecb4b142efc8442292c710c768eab640": {
      "model_module": "@jupyter-widgets/base",
      "model_module_version": "1.2.0",
      "model_name": "LayoutModel",
      "state": {
       "min_width": "auto"
      }
     },
     "ed01806d139342c9a3a1baf2d054f887": {
      "model_module": "@jupyter-widgets/base",
      "model_module_version": "1.2.0",
      "model_name": "LayoutModel",
      "state": {
       "min_width": "auto"
      }
     },
     "ed491f544e474088a6dbded09ec3bed1": {
      "model_module": "@jupyter-widgets/controls",
      "model_module_version": "1.5.0",
      "model_name": "HTMLModel",
      "state": {
       "layout": "IPY_MODEL_f72208fc6fb14cb095008193a028999f",
       "style": "IPY_MODEL_51f0c8bbb1dc426da51ee9d9ecab5f50",
       "value": "<h5 style='color:#dc267f'>False</h5>"
      }
     },
     "ed8e3f581ab641c5b7e318805d496591": {
      "model_module": "@jupyter-widgets/controls",
      "model_module_version": "1.5.0",
      "model_name": "DescriptionStyleModel",
      "state": {
       "description_width": ""
      }
     },
     "ee6fec195d5e48ca893c0a9becbb479c": {
      "model_module": "@jupyter-widgets/base",
      "model_module_version": "1.2.0",
      "model_name": "LayoutModel",
      "state": {
       "grid_area": "right"
      }
     },
     "ee9136b8ec44434cba5280f06d429341": {
      "model_module": "@jupyter-widgets/controls",
      "model_module_version": "1.5.0",
      "model_name": "HTMLModel",
      "state": {
       "layout": "IPY_MODEL_476b8a5ff68d4c9ea8bc29be792fc758",
       "style": "IPY_MODEL_118f0d36afdb486188aa5d4cc7be8573",
       "value": "<h5>0.0065</h5>"
      }
     },
     "ee94bfdaa6ca4595bb7cb5a5215c1ae7": {
      "model_module": "@jupyter-widgets/base",
      "model_module_version": "1.2.0",
      "model_name": "LayoutModel",
      "state": {
       "align_items": "center",
       "display": "inline-flex",
       "flex_flow": "column"
      }
     },
     "eea1213b2eb04309835f13db5c080628": {
      "model_module": "@jupyter-widgets/base",
      "model_module_version": "1.2.0",
      "model_name": "LayoutModel",
      "state": {}
     },
     "ef0885bc206c45e9acc0b80375689c57": {
      "model_module": "@jupyter-widgets/base",
      "model_module_version": "1.2.0",
      "model_name": "LayoutModel",
      "state": {
       "justify_content": "center"
      }
     },
     "ef9d88928fc142a487ae619f51b7938d": {
      "model_module": "@jupyter-widgets/base",
      "model_module_version": "1.2.0",
      "model_name": "LayoutModel",
      "state": {
       "margin": "0px 0px 10px 0px"
      }
     },
     "efe8dec6dec64d4b84e92d302045700b": {
      "model_module": "@jupyter-widgets/controls",
      "model_module_version": "1.5.0",
      "model_name": "DescriptionStyleModel",
      "state": {
       "description_width": ""
      }
     },
     "efee7ee412f14b74b844467e2265d3ac": {
      "model_module": "@jupyter-widgets/controls",
      "model_module_version": "1.5.0",
      "model_name": "IntProgressModel",
      "state": {
       "layout": "IPY_MODEL_449790b011b74b2b9e144e4352e26c27",
       "max": 50,
       "style": "IPY_MODEL_dc474cea57cf46d689cf1b5f16c5e35d",
       "value": 18
      }
     },
     "f046673c968f4b4fb69cf7047a6247c2": {
      "model_module": "@jupyter-widgets/controls",
      "model_module_version": "1.5.0",
      "model_name": "HTMLModel",
      "state": {
       "layout": "IPY_MODEL_e51e52a723fb4fddb24fb95e62b3fd21",
       "style": "IPY_MODEL_16bf6eb5d34a4b9182bff14e3a26e2fe",
       "value": "<h5 style='color:#34bc6e'>True</h5>"
      }
     },
     "f0b40bed4225400482228e7d73dc7bf0": {
      "model_module": "@jupyter-widgets/controls",
      "model_module_version": "1.5.0",
      "model_name": "DescriptionStyleModel",
      "state": {
       "description_width": ""
      }
     },
     "f115d3f7286a4755a8b5cd0fb310f8d5": {
      "model_module": "@jupyter-widgets/base",
      "model_module_version": "1.2.0",
      "model_name": "LayoutModel",
      "state": {
       "margin": "295px 0px 0px 0px",
       "min_width": "100px"
      }
     },
     "f1d795215a874bf6bbb90a98f5ba84a9": {
      "model_module": "@jupyter-widgets/base",
      "model_module_version": "1.2.0",
      "model_name": "LayoutModel",
      "state": {
       "justify_content": "center"
      }
     },
     "f1f332417db24d42ae5c0c0a9b65d81f": {
      "model_module": "@jupyter-widgets/controls",
      "model_module_version": "1.5.0",
      "model_name": "DescriptionStyleModel",
      "state": {
       "description_width": ""
      }
     },
     "f21d8e85f765414cb688d85300a9ef36": {
      "model_module": "@jupyter-widgets/controls",
      "model_module_version": "1.5.0",
      "model_name": "DescriptionStyleModel",
      "state": {
       "description_width": ""
      }
     },
     "f2cfb5fa77dd4dd1b1f39e5ff57c8185": {
      "model_module": "@jupyter-widgets/base",
      "model_module_version": "1.2.0",
      "model_name": "LayoutModel",
      "state": {}
     },
     "f35ac4f4bef5405da253bdbbffc42116": {
      "model_module": "@jupyter-widgets/controls",
      "model_module_version": "1.5.0",
      "model_name": "HTMLModel",
      "state": {
       "layout": "IPY_MODEL_5f2e04848d514ed8a089e69a7dd0ff68",
       "style": "IPY_MODEL_846c67aadafb4cc89c8c281c9bc80a75",
       "value": "<table><style>\ntable {\n    border-collapse: collapse;\n    width: auto;\n}\n\nth, td {\n    text-align: left;\n    padding: 8px;\n}\n\ntr:nth-child(even) {background-color: #f6f6f6;}\n</style><tr><th></th><th>Frequency</th><th>T1</th><th>T2</th><th>RZ</th><th>SX</th><th>X</th><th>Readout error</th></tr><tr><td><font style='font-weight:bold'>Q0</font></td><td>4.83344 GHz</td><td>110.82084 us</td><td>85.37182 us</td><td>0</td><td>0.00021</td><td>0.00021</td><td>0.0162 </td><tr><td><font style='font-weight:bold'>Q1</font></td><td>4.62364 GHz</td><td>91.28093 us</td><td>84.72083 us</td><td>0</td><td>0.00027</td><td>0.00027</td><td>0.037 </td><tr><td><font style='font-weight:bold'>Q2</font></td><td>4.81971 GHz</td><td>11.56873 us</td><td>8.8234 us</td><td>0</td><td>0.04313</td><td>0.04313</td><td>0.0616 </td><tr><td><font style='font-weight:bold'>Q3</font></td><td>4.74232 GHz</td><td>87.10431 us</td><td>99.63776 us</td><td>0</td><td>0.0002</td><td>0.0002</td><td>0.0047 </td><tr><td><font style='font-weight:bold'>Q4</font></td><td>4.8164 GHz</td><td>115.27061 us</td><td>177.79376 us</td><td>0</td><td>0.0002</td><td>0.0002</td><td>0.0153 </td></table>"
      }
     },
     "f36148b4b069431e936189950fb37610": {
      "model_module": "@jupyter-widgets/controls",
      "model_module_version": "1.5.0",
      "model_name": "VBoxModel",
      "state": {
       "children": [
        "IPY_MODEL_3591ce5315d04729b397a731cb312ac6",
        "IPY_MODEL_7c3acec5c8904476aec724a5c6beedbc"
       ],
       "layout": "IPY_MODEL_482a52ad25474e9aafa1227b0d93a5d3"
      }
     },
     "f3647b13e3834369b4f3036dcc94f08f": {
      "model_module": "@jupyter-widgets/base",
      "model_module_version": "1.2.0",
      "model_name": "LayoutModel",
      "state": {
       "width": "190px"
      }
     },
     "f3bab5254ae749db8bb007e3744f5c77": {
      "model_module": "@jupyter-widgets/controls",
      "model_module_version": "1.5.0",
      "model_name": "VBoxModel",
      "state": {
       "children": [
        "IPY_MODEL_50a66a6e184944b9ae2c3e87f2779361",
        "IPY_MODEL_a4bd133a017c4802a3cf4352fbc53477",
        "IPY_MODEL_60024ad5c7c9404a8cfbb329d99f12fc",
        "IPY_MODEL_b08468b043444937906afe7f267a49dc",
        "IPY_MODEL_8acaa8e932ca434cb50fadb43e353ed5",
        "IPY_MODEL_028045eee44948c0b83bb6b1004f08be",
        "IPY_MODEL_4f033b9476af4fba9af323a3b52ae4c3",
        "IPY_MODEL_0f45f255792e4ab2b02bfd2193545a0d"
       ],
       "layout": "IPY_MODEL_f115d3f7286a4755a8b5cd0fb310f8d5"
      }
     },
     "f44091e80be64cd0b001e7599523ab82": {
      "model_module": "@jupyter-widgets/controls",
      "model_module_version": "1.5.0",
      "model_name": "DescriptionStyleModel",
      "state": {
       "description_width": ""
      }
     },
     "f4e51006d0f54e5babca8c9ce3869e37": {
      "model_module": "@jupyter-widgets/controls",
      "model_module_version": "1.5.0",
      "model_name": "DescriptionStyleModel",
      "state": {
       "description_width": ""
      }
     },
     "f55196b07c194c0496b4457f139fe174": {
      "model_module": "@jupyter-widgets/controls",
      "model_module_version": "1.5.0",
      "model_name": "HTMLModel",
      "state": {
       "layout": "IPY_MODEL_acae3c36b4ca42cbab23e3508b7ed5bc",
       "style": "IPY_MODEL_8735ddcb89b84da0a7f80ff9f3a84fb1",
       "value": "<h5><b>5</b></h5>"
      }
     },
     "f5a5dc286ca14d6ea94c7cc87bd683fd": {
      "model_module": "@jupyter-widgets/controls",
      "model_module_version": "1.5.0",
      "model_name": "DescriptionStyleModel",
      "state": {
       "description_width": ""
      }
     },
     "f6368359a9f448c48aeac83d12a11d2b": {
      "model_module": "@jupyter-widgets/controls",
      "model_module_version": "1.5.0",
      "model_name": "DescriptionStyleModel",
      "state": {
       "description_width": ""
      }
     },
     "f72208fc6fb14cb095008193a028999f": {
      "model_module": "@jupyter-widgets/base",
      "model_module_version": "1.2.0",
      "model_name": "LayoutModel",
      "state": {
       "justify_content": "center"
      }
     },
     "f722969afa84473ba4cb5afe986db35b": {
      "model_module": "@jupyter-widgets/base",
      "model_module_version": "1.2.0",
      "model_name": "LayoutModel",
      "state": {
       "margin": "8px 0px 0px 0px"
      }
     },
     "f72ccc7d81c74055b18362fee63817be": {
      "model_module": "@jupyter-widgets/controls",
      "model_module_version": "1.5.0",
      "model_name": "IntProgressModel",
      "state": {
       "layout": "IPY_MODEL_4af8f37a582a4a39bce1d08c1a3c19b2",
       "max": 76,
       "style": "IPY_MODEL_c02b4402cfcf4037a86ac0159c6ba829",
       "value": 52
      }
     },
     "f96442c03f5044f597662b408cb8f5b2": {
      "model_module": "@jupyter-widgets/controls",
      "model_module_version": "1.5.0",
      "model_name": "DescriptionStyleModel",
      "state": {
       "description_width": ""
      }
     },
     "f9e7b3c84b6e43da9de1a45f9fa96214": {
      "model_module": "@jupyter-widgets/base",
      "model_module_version": "1.2.0",
      "model_name": "LayoutModel",
      "state": {
       "justify_content": "center"
      }
     },
     "fa2a6e4e89eb474da69bb8433c5a09e7": {
      "model_module": "@jupyter-widgets/controls",
      "model_module_version": "1.5.0",
      "model_name": "HTMLModel",
      "state": {
       "layout": "IPY_MODEL_ee6fec195d5e48ca893c0a9becbb479c",
       "style": "IPY_MODEL_ea0b4c28fe7840deb80e406de23628a6",
       "value": "<table><style>\ntable {\n    border-collapse: collapse;\n    width: auto;\n}\n\nth, td {\n    text-align: left;\n    padding: 8px;\n}\n\ntr:nth-child(even) {background-color: #f6f6f6;};\n</style><tr><th></th><th>Type</th><th>Gate error</th></tr><tr><td><font style='font-weight:bold'>cx2_1</font></td><td>cx</td><td>0.00716</td></tr><tr><td><font style='font-weight:bold'>cx1_2</font></td><td>cx</td><td>0.00716</td></tr></table>"
      }
     },
     "fafed8a4340e4aa28309495ebc159fa7": {
      "model_module": "@jupyter-widgets/base",
      "model_module_version": "1.2.0",
      "model_name": "LayoutModel",
      "state": {
       "max_height": "620px"
      }
     },
     "fba3f5ec6c3f410fa2a02ca7688d2a3f": {
      "model_module": "@jupyter-widgets/base",
      "model_module_version": "1.2.0",
      "model_name": "LayoutModel",
      "state": {}
     },
     "fbbe93e3ac824ec1a39c227bc6b1537c": {
      "model_module": "@jupyter-widgets/controls",
      "model_module_version": "1.5.0",
      "model_name": "HTMLModel",
      "state": {
       "layout": "IPY_MODEL_8c8fadb6ad2a45c685ee2a678d0e5065",
       "style": "IPY_MODEL_c01662cc2dc246c2aaecb2376cbd5928",
       "value": "2"
      }
     },
     "fc60244415df44be823970747d85483c": {
      "model_module": "@jupyter-widgets/controls",
      "model_module_version": "1.5.0",
      "model_name": "DescriptionStyleModel",
      "state": {
       "description_width": ""
      }
     },
     "fccff0945c874164b445010f24c090c2": {
      "model_module": "@jupyter-widgets/base",
      "model_module_version": "1.2.0",
      "model_name": "LayoutModel",
      "state": {
       "max_width": "180px"
      }
     },
     "ffad32de1ef2447e9b11d38f3c8e70e0": {
      "model_module": "@jupyter-widgets/base",
      "model_module_version": "1.2.0",
      "model_name": "LayoutModel",
      "state": {
       "grid_gap": "0px 0px",
       "grid_template_areas": "\n                                                   \"top top top\"\n                                                   \"left middle right\"\n                                                   ",
       "grid_template_columns": "33% 33% 33%",
       "grid_template_rows": "auto auto"
      }
     }
    },
    "version_major": 2,
    "version_minor": 0
   }
  }
 },
 "nbformat": 4,
 "nbformat_minor": 5
}
