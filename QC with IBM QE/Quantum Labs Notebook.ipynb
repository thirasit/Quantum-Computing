{
 "cells": [
  {
   "cell_type": "markdown",
   "id": "1affdc34-dfda-4f4a-9411-703755ee0aa5",
   "metadata": {},
   "source": [
    "# **Quantum Labs Notebook**"
   ]
  },
  {
   "cell_type": "code",
   "execution_count": 1,
   "id": "0b7233d5-55b1-402d-b36f-a17544eeb731",
   "metadata": {},
   "outputs": [],
   "source": [
    "import numpy as np\n",
    "\n",
    "# Importing standard Qiskit libraries\n",
    "from qiskit import QuantumCircuit, transpile, Aer, IBMQ, execute\n",
    "from qiskit.tools.jupyter import *\n",
    "from qiskit.visualization import *\n",
    "from ibm_quantum_widgets import *\n",
    "from qiskit.providers.aer import QasmSimulator\n",
    "\n",
    "# Loading your IBM Quantum account(s)\n",
    "provider = IBMQ.load_account()"
   ]
  },
  {
   "cell_type": "code",
   "execution_count": 2,
   "id": "eaeae4cf-00d9-4e53-95c6-91a9da5b70a0",
   "metadata": {},
   "outputs": [
    {
     "data": {
      "text/plain": [
       "<qiskit.circuit.instructionset.InstructionSet at 0x7f05f920f8c0>"
      ]
     },
     "execution_count": 2,
     "metadata": {},
     "output_type": "execute_result"
    }
   ],
   "source": [
    "qc = QuantumCircuit(2,2)\n",
    "qc.h(0)\n",
    "qc.cx(0, 1)"
   ]
  },
  {
   "cell_type": "code",
   "execution_count": 3,
   "id": "f3585bb5-cced-4068-a359-b5b8b8898ca0",
   "metadata": {},
   "outputs": [
    {
     "data": {
      "text/plain": [
       "<qiskit.circuit.instructionset.InstructionSet at 0x7f05f927ef40>"
      ]
     },
     "execution_count": 3,
     "metadata": {},
     "output_type": "execute_result"
    }
   ],
   "source": [
    "qc.measure(range(2), range(2))"
   ]
  },
  {
   "cell_type": "code",
   "execution_count": 4,
   "id": "d41817d3-8a0c-41f8-8148-464d5433cda4",
   "metadata": {},
   "outputs": [
    {
     "data": {
      "image/png": "[encoded data removed]",
      "text/plain": [
       "<Figure size 327.252x204.68 with 1 Axes>"
      ]
     },
     "execution_count": 4,
     "metadata": {},
     "output_type": "execute_result"
    }
   ],
   "source": [
    "qc.draw()"
   ]
  },
  {
   "cell_type": "code",
   "execution_count": 5,
   "id": "fb7726a4-70c5-4f2b-91bf-7a3db7145101",
   "metadata": {},
   "outputs": [],
   "source": [
    "backend = Aer.get_backend('qasm_simulator')"
   ]
  },
  {
   "cell_type": "code",
   "execution_count": 6,
   "id": "0d60b48a-3f1f-4056-b301-d7e934710c3d",
   "metadata": {},
   "outputs": [],
   "source": [
    "job_simulator = execute(qc, backend, shots=1024)"
   ]
  },
  {
   "cell_type": "code",
   "execution_count": 7,
   "id": "d4a1348c-d868-4070-abdf-897b5b930755",
   "metadata": {},
   "outputs": [],
   "source": [
    "result_simulator = job_simulator.result()"
   ]
  },
  {
   "cell_type": "code",
   "execution_count": 8,
   "id": "49b6c03d-e156-4200-8b72-920db4bfebf7",
   "metadata": {},
   "outputs": [
    {
     "name": "stdout",
     "output_type": "stream",
     "text": [
      "{'11': 491, '00': 533}\n"
     ]
    }
   ],
   "source": [
    "counts = result_simulator.get_counts(qc)\n",
    "print(counts)"
   ]
  },
  {
   "cell_type": "code",
   "execution_count": 9,
   "id": "11a72f52-6287-4711-9c71-4c0c1c95f2a3",
   "metadata": {},
   "outputs": [
    {
     "data": {
      "image/png": "[encoded data removed]",
      "text/plain": [
       "<Figure size 504x360 with 1 Axes>"
      ]
     },
     "execution_count": 9,
     "metadata": {},
     "output_type": "execute_result"
    }
   ],
   "source": [
    "plot_histogram(counts)"
   ]
  },
  {
   "cell_type": "markdown",
   "id": "5f2d815d-2edd-4078-a562-c446a7d9c7ea",
   "metadata": {},
   "source": [
    "# **Executing a circuit on a quantum computer**"
   ]
  },
  {
   "cell_type": "code",
   "execution_count": 10,
   "id": "e4fb3499-c722-46eb-92d0-3ec0f2e89f72",
   "metadata": {},
   "outputs": [
    {
     "data": {
      "text/plain": [
       "[<IBMQSimulator('ibmq_qasm_simulator') from IBMQ(hub='ibm-q', group='open', project='main')>,\n",
       " <IBMQBackend('ibmq_armonk') from IBMQ(hub='ibm-q', group='open', project='main')>,\n",
       " <IBMQBackend('ibmq_santiago') from IBMQ(hub='ibm-q', group='open', project='main')>,\n",
       " <IBMQBackend('ibmq_bogota') from IBMQ(hub='ibm-q', group='open', project='main')>,\n",
       " <IBMQBackend('ibmq_lima') from IBMQ(hub='ibm-q', group='open', project='main')>,\n",
       " <IBMQBackend('ibmq_belem') from IBMQ(hub='ibm-q', group='open', project='main')>,\n",
       " <IBMQBackend('ibmq_quito') from IBMQ(hub='ibm-q', group='open', project='main')>,\n",
       " <IBMQSimulator('simulator_statevector') from IBMQ(hub='ibm-q', group='open', project='main')>,\n",
       " <IBMQSimulator('simulator_mps') from IBMQ(hub='ibm-q', group='open', project='main')>,\n",
       " <IBMQSimulator('simulator_extended_stabilizer') from IBMQ(hub='ibm-q', group='open', project='main')>,\n",
       " <IBMQSimulator('simulator_stabilizer') from IBMQ(hub='ibm-q', group='open', project='main')>,\n",
       " <IBMQBackend('ibmq_manila') from IBMQ(hub='ibm-q', group='open', project='main')>]"
      ]
     },
     "execution_count": 10,
     "metadata": {},
     "output_type": "execute_result"
    }
   ],
   "source": [
    "provider.backends()"
   ]
  },
  {
   "cell_type": "code",
   "execution_count": 13,
   "id": "d7795068-4638-4569-884b-e287a96061e3",
   "metadata": {},
   "outputs": [],
   "source": [
    "backend = provider.get_backend('ibmq_lima')"
   ]
  },
  {
   "cell_type": "code",
   "execution_count": 14,
   "id": "f970116b-584e-4f91-84e5-8a27feb26d9d",
   "metadata": {},
   "outputs": [
    {
     "name": "stdout",
     "output_type": "stream",
     "text": [
      "{'00': 501, '01': 21, '10': 22, '11': 480}\n"
     ]
    },
    {
     "data": {
      "image/png": "[encoded data removed]",
      "text/plain": [
       "<Figure size 504x360 with 1 Axes>"
      ]
     },
     "execution_count": 14,
     "metadata": {},
     "output_type": "execute_result"
    }
   ],
   "source": [
    "# Repeating steps 2-5 from above:\n",
    "job_simulator = execute(qc, backend, shots=1024)\n",
    "result_simulator = job_simulator.result()\n",
    "counts = result_simulator.get_counts(qc)\n",
    "print(counts)\n",
    "plot_histogram(counts)"
   ]
  },
  {
   "cell_type": "code",
   "execution_count": null,
   "id": "f1aebfd4-7999-49d6-ac42-27e7d20dc5e3",
   "metadata": {},
   "outputs": [],
   "source": []
  }
 ],
 "metadata": {
  "kernelspec": {
   "display_name": "Qiskit v0.34.1 (ipykernel)",
   "language": "python",
   "name": "python3"
  },
  "language_info": {
   "codemirror_mode": {
    "name": "ipython",
    "version": 3
   },
   "file_extension": ".py",
   "mimetype": "text/x-python",
   "name": "python",
   "nbconvert_exporter": "python",
   "pygments_lexer": "ipython3",
   "version": "3.8.10"
  },
  "widgets": {
   "application/vnd.jupyter.widget-state+json": {
    "state": {
     "002030d17de14afc88585610e39393dd": {
      "model_module": "@jupyter-widgets/controls",
      "model_module_version": "1.5.0",
      "model_name": "HTMLModel",
      "state": {
       "layout": "IPY_MODEL_7bb54d97fddb4874baa21de1e6acb1c5",
       "style": "IPY_MODEL_4a9641150c7d48658f1d4a236a847e24",
       "value": "ibmq_lima"
      }
     },
     "088e0252c6574a3f9faebe0d3a554ec4": {
      "model_module": "@jupyter-widgets/controls",
      "model_module_version": "1.5.0",
      "model_name": "ButtonStyleModel",
      "state": {}
     },
     "11ee645253b44971bb7aec87879ac32c": {
      "model_module": "@jupyter-widgets/base",
      "model_module_version": "1.2.0",
      "model_name": "LayoutModel",
      "state": {
       "width": "190px"
      }
     },
     "170ad271754543469a5525fe188f2366": {
      "model_module": "@jupyter-widgets/controls",
      "model_module_version": "1.5.0",
      "model_name": "ButtonModel",
      "state": {
       "icon": "close",
       "layout": "IPY_MODEL_ee56a8753e544525814f6f445115a174",
       "style": "IPY_MODEL_ff7b61c1baf249b3aff01b3096ce29af"
      }
     },
     "1722bee60b1f4c89a68d8d96ddb197cf": {
      "model_module": "@jupyter-widgets/controls",
      "model_module_version": "1.5.0",
      "model_name": "HTMLModel",
      "state": {
       "layout": "IPY_MODEL_3c4774773908443b87dbf051822496bc",
       "style": "IPY_MODEL_83f1d40c301345bd876cfef22ace16df",
       "value": "<h5>Queue</h5>"
      }
     },
     "1df4b07113c84e33a13d59c4c40101d0": {
      "model_module": "@jupyter-widgets/base",
      "model_module_version": "1.2.0",
      "model_name": "LayoutModel",
      "state": {
       "max_width": "700px",
       "min_width": "700px"
      }
     },
     "266eabb8ce564e3798d212c1449838a6": {
      "model_module": "@jupyter-widgets/controls",
      "model_module_version": "1.5.0",
      "model_name": "HBoxModel",
      "state": {
       "children": [
        "IPY_MODEL_dc9d2160814d4a6687ca9ce86ec15f7a",
        "IPY_MODEL_94f80e2824ec4b70a56aa4f553bffc77",
        "IPY_MODEL_a945707f0a1943138bfb80d09d27b98f",
        "IPY_MODEL_1722bee60b1f4c89a68d8d96ddb197cf",
        "IPY_MODEL_3000400d22a24324b375e91333e7dab9"
       ],
       "layout": "IPY_MODEL_8b973e588fde47e1a53dfa423a6d5799"
      }
     },
     "2e02fd87e1f7458bb542544c65bfd8c7": {
      "model_module": "@jupyter-widgets/controls",
      "model_module_version": "1.5.0",
      "model_name": "DescriptionStyleModel",
      "state": {
       "description_width": ""
      }
     },
     "3000400d22a24324b375e91333e7dab9": {
      "model_module": "@jupyter-widgets/controls",
      "model_module_version": "1.5.0",
      "model_name": "HTMLModel",
      "state": {
       "layout": "IPY_MODEL_b61553f86b5d484b9c51a617ba92f616",
       "style": "IPY_MODEL_2e02fd87e1f7458bb542544c65bfd8c7",
       "value": "<h5>Message</h5>"
      }
     },
     "3b445082c3d949a490e7ecfc652e77a1": {
      "model_module": "@jupyter-widgets/controls",
      "model_module_version": "1.5.0",
      "model_name": "HTMLModel",
      "state": {
       "layout": "IPY_MODEL_c10204884a5647929bb38e9e07a109d5",
       "style": "IPY_MODEL_8def733c7a704bddb7399da3a808b159",
       "value": "<font style='color:#34BC6E'>DONE</font>"
      }
     },
     "3c4774773908443b87dbf051822496bc": {
      "model_module": "@jupyter-widgets/base",
      "model_module_version": "1.2.0",
      "model_name": "LayoutModel",
      "state": {
       "width": "70px"
      }
     },
     "43a122b13cb24cbebc6b8f591ad16942": {
      "model_module": "@jupyter-widgets/controls",
      "model_module_version": "1.5.0",
      "model_name": "DescriptionStyleModel",
      "state": {
       "description_width": ""
      }
     },
     "4a9641150c7d48658f1d4a236a847e24": {
      "model_module": "@jupyter-widgets/controls",
      "model_module_version": "1.5.0",
      "model_name": "DescriptionStyleModel",
      "state": {
       "description_width": ""
      }
     },
     "56968cd844a54fff97340107a0548184": {
      "model_module": "@jupyter-widgets/controls",
      "model_module_version": "1.5.0",
      "model_name": "DescriptionStyleModel",
      "state": {
       "description_width": ""
      }
     },
     "664525b1eec642a0b85ae041383f346d": {
      "model_module": "@jupyter-widgets/controls",
      "model_module_version": "1.5.0",
      "model_name": "DescriptionStyleModel",
      "state": {
       "description_width": ""
      }
     },
     "6b566d6886674e708f392c2a06ef1c7c": {
      "model_module": "@jupyter-widgets/base",
      "model_module_version": "1.2.0",
      "model_name": "LayoutModel",
      "state": {
       "width": "95px"
      }
     },
     "7850f0ec217443ee9c3597b875f784fc": {
      "model_module": "@jupyter-widgets/base",
      "model_module_version": "1.2.0",
      "model_name": "LayoutModel",
      "state": {
       "grid_area": "right",
       "padding": "0px 0px 0px 0px",
       "width": "70px"
      }
     },
     "7bb54d97fddb4874baa21de1e6acb1c5": {
      "model_module": "@jupyter-widgets/base",
      "model_module_version": "1.2.0",
      "model_name": "LayoutModel",
      "state": {
       "width": "145px"
      }
     },
     "7f1c78d2be724a789b7295facbb38353": {
      "model_module": "@jupyter-widgets/base",
      "model_module_version": "1.2.0",
      "model_name": "LayoutModel",
      "state": {
       "grid_template_areas": "\n                                       \". . . . right \"\n                                        ",
       "grid_template_columns": "20% 20% 20% 20% 20%",
       "width": "100%"
      }
     },
     "822c36000b5d44c6a05bd8cf797e3880": {
      "model_module": "@jupyter-widgets/controls",
      "model_module_version": "1.5.0",
      "model_name": "GridBoxModel",
      "state": {
       "children": [
        "IPY_MODEL_a0313a6033ae495599a07a37db4ba431"
       ],
       "layout": "IPY_MODEL_7f1c78d2be724a789b7295facbb38353"
      }
     },
     "83f1d40c301345bd876cfef22ace16df": {
      "model_module": "@jupyter-widgets/controls",
      "model_module_version": "1.5.0",
      "model_name": "DescriptionStyleModel",
      "state": {
       "description_width": ""
      }
     },
     "88678b74397e4fa6b7b39b98bf83130b": {
      "model_module": "@jupyter-widgets/controls",
      "model_module_version": "1.5.0",
      "model_name": "DescriptionStyleModel",
      "state": {
       "description_width": ""
      }
     },
     "8b973e588fde47e1a53dfa423a6d5799": {
      "model_module": "@jupyter-widgets/base",
      "model_module_version": "1.2.0",
      "model_name": "LayoutModel",
      "state": {
       "margin": "0px 0px 0px 37px",
       "width": "600px"
      }
     },
     "8def733c7a704bddb7399da3a808b159": {
      "model_module": "@jupyter-widgets/controls",
      "model_module_version": "1.5.0",
      "model_name": "DescriptionStyleModel",
      "state": {
       "description_width": ""
      }
     },
     "8e2af8737e8147fe896e5fb2d83366c7": {
      "model_module": "@jupyter-widgets/base",
      "model_module_version": "1.2.0",
      "model_name": "LayoutModel",
      "state": {
       "width": "145px"
      }
     },
     "9181ab7c32df4e3ab83eb92496638d79": {
      "model_module": "@jupyter-widgets/controls",
      "model_module_version": "1.5.0",
      "model_name": "HTMLModel",
      "state": {
       "layout": "IPY_MODEL_9f389e1fa4a6409fa6d236cffbd7a156",
       "style": "IPY_MODEL_aef0d7dfd52a45a989434dfd52669dc9",
       "value": "-"
      }
     },
     "94f80e2824ec4b70a56aa4f553bffc77": {
      "model_module": "@jupyter-widgets/controls",
      "model_module_version": "1.5.0",
      "model_name": "HTMLModel",
      "state": {
       "layout": "IPY_MODEL_8e2af8737e8147fe896e5fb2d83366c7",
       "style": "IPY_MODEL_88678b74397e4fa6b7b39b98bf83130b",
       "value": "<h5>Backend</h5>"
      }
     },
     "9f389e1fa4a6409fa6d236cffbd7a156": {
      "model_module": "@jupyter-widgets/base",
      "model_module_version": "1.2.0",
      "model_name": "LayoutModel",
      "state": {
       "width": "70px"
      }
     },
     "a0313a6033ae495599a07a37db4ba431": {
      "model_module": "@jupyter-widgets/controls",
      "model_module_version": "1.5.0",
      "model_name": "ButtonModel",
      "state": {
       "button_style": "primary",
       "description": "Clear",
       "layout": "IPY_MODEL_7850f0ec217443ee9c3597b875f784fc",
       "style": "IPY_MODEL_088e0252c6574a3f9faebe0d3a554ec4"
      }
     },
     "a5dd414a341347a88ffca345135d52c7": {
      "model_module": "@jupyter-widgets/base",
      "model_module_version": "1.2.0",
      "model_name": "LayoutModel",
      "state": {
       "margin": "0px 0px 10px 0px"
      }
     },
     "a945707f0a1943138bfb80d09d27b98f": {
      "model_module": "@jupyter-widgets/controls",
      "model_module_version": "1.5.0",
      "model_name": "HTMLModel",
      "state": {
       "layout": "IPY_MODEL_6b566d6886674e708f392c2a06ef1c7c",
       "style": "IPY_MODEL_56968cd844a54fff97340107a0548184",
       "value": "<h5>Status</h5>"
      }
     },
     "aef0d7dfd52a45a989434dfd52669dc9": {
      "model_module": "@jupyter-widgets/controls",
      "model_module_version": "1.5.0",
      "model_name": "DescriptionStyleModel",
      "state": {
       "description_width": ""
      }
     },
     "b2e042c4e21d48bcba46be8ca4d3a45f": {
      "model_module": "@jupyter-widgets/controls",
      "model_module_version": "1.5.0",
      "model_name": "DescriptionStyleModel",
      "state": {
       "description_width": ""
      }
     },
     "b61553f86b5d484b9c51a617ba92f616": {
      "model_module": "@jupyter-widgets/base",
      "model_module_version": "1.2.0",
      "model_name": "LayoutModel",
      "state": {}
     },
     "b61b9e18c22349d49faa95818b879400": {
      "model_module": "@jupyter-widgets/controls",
      "model_module_version": "1.5.0",
      "model_name": "HTMLModel",
      "state": {
       "layout": "IPY_MODEL_f6b31a5dc9544a0eb98f42da1dd02776",
       "style": "IPY_MODEL_43a122b13cb24cbebc6b8f591ad16942",
       "value": "job has successfully run"
      }
     },
     "bb8fb02d5d694bc8b4ddddb1b1b9cf6e": {
      "model_module": "@jupyter-widgets/base",
      "model_module_version": "1.2.0",
      "model_name": "LayoutModel",
      "state": {
       "width": "190px"
      }
     },
     "bd0f84ff13c04cec8bb386b7b0fc8575": {
      "model_module": "@jupyter-widgets/controls",
      "model_module_version": "1.5.0",
      "model_name": "HBoxModel",
      "state": {
       "children": [
        "IPY_MODEL_170ad271754543469a5525fe188f2366",
        "IPY_MODEL_f9c8a19774ad4a659fff930ca478f120",
        "IPY_MODEL_002030d17de14afc88585610e39393dd",
        "IPY_MODEL_3b445082c3d949a490e7ecfc652e77a1",
        "IPY_MODEL_9181ab7c32df4e3ab83eb92496638d79",
        "IPY_MODEL_b61b9e18c22349d49faa95818b879400"
       ],
       "layout": "IPY_MODEL_1df4b07113c84e33a13d59c4c40101d0"
      }
     },
     "c10204884a5647929bb38e9e07a109d5": {
      "model_module": "@jupyter-widgets/base",
      "model_module_version": "1.2.0",
      "model_name": "LayoutModel",
      "state": {
       "width": "95px"
      }
     },
     "d0eff9019d7a4957b4778ea30c7ec7ea": {
      "model_module": "@jupyter-widgets/controls",
      "model_module_version": "1.5.0",
      "model_name": "HTMLModel",
      "state": {
       "layout": "IPY_MODEL_a5dd414a341347a88ffca345135d52c7",
       "style": "IPY_MODEL_b2e042c4e21d48bcba46be8ca4d3a45f",
       "value": "<p style='font-family: IBM Plex Sans, Arial, Helvetica, sans-serif; font-size: 20px; font-weight: medium;'>Circuit Properties</p>"
      }
     },
     "dc9d2160814d4a6687ca9ce86ec15f7a": {
      "model_module": "@jupyter-widgets/controls",
      "model_module_version": "1.5.0",
      "model_name": "HTMLModel",
      "state": {
       "layout": "IPY_MODEL_bb8fb02d5d694bc8b4ddddb1b1b9cf6e",
       "style": "IPY_MODEL_664525b1eec642a0b85ae041383f346d",
       "value": "<h5>Job ID</h5>"
      }
     },
     "ee56a8753e544525814f6f445115a174": {
      "model_module": "@jupyter-widgets/base",
      "model_module_version": "1.2.0",
      "model_name": "LayoutModel",
      "state": {
       "margin": "0px 5px 0px 0px",
       "width": "32px"
      }
     },
     "f492251475fb4b6f81aff50e2f6a3e1a": {
      "model_module": "@jupyter-widgets/controls",
      "model_module_version": "1.5.0",
      "model_name": "DescriptionStyleModel",
      "state": {
       "description_width": ""
      }
     },
     "f6b31a5dc9544a0eb98f42da1dd02776": {
      "model_module": "@jupyter-widgets/base",
      "model_module_version": "1.2.0",
      "model_name": "LayoutModel",
      "state": {
       "overflow_x": "scroll"
      }
     },
     "f9c8a19774ad4a659fff930ca478f120": {
      "model_module": "@jupyter-widgets/controls",
      "model_module_version": "1.5.0",
      "model_name": "HTMLModel",
      "state": {
       "layout": "IPY_MODEL_11ee645253b44971bb7aec87879ac32c",
       "style": "IPY_MODEL_f492251475fb4b6f81aff50e2f6a3e1a",
       "value": "61e1a8e1a90e531c09735c97"
      }
     },
     "ff7b61c1baf249b3aff01b3096ce29af": {
      "model_module": "@jupyter-widgets/controls",
      "model_module_version": "1.5.0",
      "model_name": "ButtonStyleModel",
      "state": {
       "button_color": "white"
      }
     }
    },
    "version_major": 2,
    "version_minor": 0
   }
  }
 },
 "nbformat": 4,
 "nbformat_minor": 5
}
